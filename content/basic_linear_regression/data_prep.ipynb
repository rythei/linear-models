{
 "cells": [
  {
   "cell_type": "code",
   "execution_count": 6,
   "metadata": {},
   "outputs": [
    {
     "data": {
      "text/html": [
       "<div>\n",
       "<style scoped>\n",
       "    .dataframe tbody tr th:only-of-type {\n",
       "        vertical-align: middle;\n",
       "    }\n",
       "\n",
       "    .dataframe tbody tr th {\n",
       "        vertical-align: top;\n",
       "    }\n",
       "\n",
       "    .dataframe thead th {\n",
       "        text-align: right;\n",
       "    }\n",
       "</style>\n",
       "<table border=\"1\" class=\"dataframe\">\n",
       "  <thead>\n",
       "    <tr style=\"text-align: right;\">\n",
       "      <th></th>\n",
       "      <th>age</th>\n",
       "      <th>hourly_wages</th>\n",
       "      <th>education_years</th>\n",
       "    </tr>\n",
       "  </thead>\n",
       "  <tbody>\n",
       "    <tr>\n",
       "      <th>0</th>\n",
       "      <td>40.0</td>\n",
       "      <td>10.56</td>\n",
       "      <td>15.0</td>\n",
       "    </tr>\n",
       "    <tr>\n",
       "      <th>1</th>\n",
       "      <td>19.0</td>\n",
       "      <td>11.00</td>\n",
       "      <td>13.0</td>\n",
       "    </tr>\n",
       "    <tr>\n",
       "      <th>2</th>\n",
       "      <td>46.0</td>\n",
       "      <td>17.76</td>\n",
       "      <td>14.0</td>\n",
       "    </tr>\n",
       "    <tr>\n",
       "      <th>3</th>\n",
       "      <td>50.0</td>\n",
       "      <td>14.00</td>\n",
       "      <td>16.0</td>\n",
       "    </tr>\n",
       "    <tr>\n",
       "      <th>4</th>\n",
       "      <td>31.0</td>\n",
       "      <td>8.20</td>\n",
       "      <td>15.0</td>\n",
       "    </tr>\n",
       "  </tbody>\n",
       "</table>\n",
       "</div>"
      ],
      "text/plain": [
       "    age  hourly_wages  education_years\n",
       "0  40.0         10.56             15.0\n",
       "1  19.0         11.00             13.0\n",
       "2  46.0         17.76             14.0\n",
       "3  50.0         14.00             16.0\n",
       "4  31.0          8.20             15.0"
      ]
     },
     "execution_count": 6,
     "metadata": {},
     "output_type": "execute_result"
    }
   ],
   "source": [
    "import numpy as np\n",
    "import pandas as pd\n",
    "\n",
    "data = []\n",
    "with open('datasets/canadian_wages.txt') as f:\n",
    "    lines = f.readlines()\n",
    "    for line in lines:\n",
    "        data.append(line.split())\n",
    "\n",
    "data = np.array(data)\n",
    "data = data[1:]\n",
    "columns = [\"age\", \"sex\", \"hourly_wages\", \"education_years\"]\n",
    "out = pd.DataFrame({columns[ix]: data[:,ix].astype(float) for ix in range(len(columns)) if columns[ix] != \"sex\"})\n",
    "out.head()"
   ]
  },
  {
   "cell_type": "code",
   "execution_count": 7,
   "metadata": {},
   "outputs": [],
   "source": [
    "out.to_csv(\"datasets/canadian_wages.csv\")"
   ]
  },
  {
   "cell_type": "code",
   "execution_count": 19,
   "metadata": {},
   "outputs": [
    {
     "data": {
      "image/png": "[encoded data removed]",
      "text/plain": [
       "<Figure size 432x288 with 1 Axes>"
      ]
     },
     "metadata": {
      "needs_background": "light"
     },
     "output_type": "display_data"
    }
   ],
   "source": [
    "import matplotlib.pyplot as plt\n",
    "\n",
    "plt.hist(out[\"education_years\"], density=True, bins=10)\n",
    "plt.show()"
   ]
  },
  {
   "cell_type": "code",
   "execution_count": 42,
   "metadata": {},
   "outputs": [
    {
     "name": "stdout",
     "output_type": "stream",
     "text": [
      "(105, 5)\n"
     ]
    },
    {
     "data": {
      "text/html": [
       "<div>\n",
       "<style scoped>\n",
       "    .dataframe tbody tr th:only-of-type {\n",
       "        vertical-align: middle;\n",
       "    }\n",
       "\n",
       "    .dataframe tbody tr th {\n",
       "        vertical-align: top;\n",
       "    }\n",
       "\n",
       "    .dataframe thead th {\n",
       "        text-align: right;\n",
       "    }\n",
       "</style>\n",
       "<table border=\"1\" class=\"dataframe\">\n",
       "  <thead>\n",
       "    <tr style=\"text-align: right;\">\n",
       "      <th></th>\n",
       "      <th>country</th>\n",
       "      <th>income</th>\n",
       "      <th>infant_mortality</th>\n",
       "      <th>region</th>\n",
       "      <th>oil</th>\n",
       "    </tr>\n",
       "  </thead>\n",
       "  <tbody>\n",
       "    <tr>\n",
       "      <th>0</th>\n",
       "      <td>Australia</td>\n",
       "      <td>3426</td>\n",
       "      <td>26.7</td>\n",
       "      <td>Asia</td>\n",
       "      <td>no</td>\n",
       "    </tr>\n",
       "    <tr>\n",
       "      <th>1</th>\n",
       "      <td>Austria</td>\n",
       "      <td>3350</td>\n",
       "      <td>23.7</td>\n",
       "      <td>Europe</td>\n",
       "      <td>no</td>\n",
       "    </tr>\n",
       "    <tr>\n",
       "      <th>2</th>\n",
       "      <td>Belgium</td>\n",
       "      <td>3346</td>\n",
       "      <td>17.0</td>\n",
       "      <td>Europe</td>\n",
       "      <td>no</td>\n",
       "    </tr>\n",
       "    <tr>\n",
       "      <th>3</th>\n",
       "      <td>Canada</td>\n",
       "      <td>4751</td>\n",
       "      <td>16.8</td>\n",
       "      <td>Americas</td>\n",
       "      <td>no</td>\n",
       "    </tr>\n",
       "    <tr>\n",
       "      <th>4</th>\n",
       "      <td>Denmark</td>\n",
       "      <td>5029</td>\n",
       "      <td>13.5</td>\n",
       "      <td>Europe</td>\n",
       "      <td>no</td>\n",
       "    </tr>\n",
       "  </tbody>\n",
       "</table>\n",
       "</div>"
      ],
      "text/plain": [
       "     country  income  infant_mortality    region oil\n",
       "0  Australia    3426              26.7      Asia  no\n",
       "1    Austria    3350              23.7    Europe  no\n",
       "2    Belgium    3346              17.0    Europe  no\n",
       "3     Canada    4751              16.8  Americas  no\n",
       "4    Denmark    5029              13.5    Europe  no"
      ]
     },
     "execution_count": 42,
     "metadata": {},
     "output_type": "execute_result"
    }
   ],
   "source": [
    "import pandas as pd\n",
    "\n",
    "\n",
    "mortality_data = pd.read_csv(\"datasets/infant_mortality.csv\")\n",
    "print(mortality_data.shape)\n",
    "mortality_data.head()"
   ]
  },
  {
   "cell_type": "code",
   "execution_count": 43,
   "metadata": {},
   "outputs": [],
   "source": [
    "mortality_data = mortality_data.dropna()"
   ]
  },
  {
   "cell_type": "code",
   "execution_count": 44,
   "metadata": {},
   "outputs": [
    {
     "data": {
      "text/html": [
       "<div>\n",
       "<style scoped>\n",
       "    .dataframe tbody tr th:only-of-type {\n",
       "        vertical-align: middle;\n",
       "    }\n",
       "\n",
       "    .dataframe tbody tr th {\n",
       "        vertical-align: top;\n",
       "    }\n",
       "\n",
       "    .dataframe thead th {\n",
       "        text-align: right;\n",
       "    }\n",
       "</style>\n",
       "<table border=\"1\" class=\"dataframe\">\n",
       "  <thead>\n",
       "    <tr style=\"text-align: right;\">\n",
       "      <th></th>\n",
       "      <th>country</th>\n",
       "      <th>income</th>\n",
       "      <th>infant_mortality</th>\n",
       "      <th>region</th>\n",
       "      <th>oil</th>\n",
       "    </tr>\n",
       "  </thead>\n",
       "  <tbody>\n",
       "    <tr>\n",
       "      <th>0</th>\n",
       "      <td>Australia</td>\n",
       "      <td>3426</td>\n",
       "      <td>26.7</td>\n",
       "      <td>Asia</td>\n",
       "      <td>no</td>\n",
       "    </tr>\n",
       "    <tr>\n",
       "      <th>1</th>\n",
       "      <td>Austria</td>\n",
       "      <td>3350</td>\n",
       "      <td>23.7</td>\n",
       "      <td>Europe</td>\n",
       "      <td>no</td>\n",
       "    </tr>\n",
       "    <tr>\n",
       "      <th>2</th>\n",
       "      <td>Belgium</td>\n",
       "      <td>3346</td>\n",
       "      <td>17.0</td>\n",
       "      <td>Europe</td>\n",
       "      <td>no</td>\n",
       "    </tr>\n",
       "    <tr>\n",
       "      <th>3</th>\n",
       "      <td>Canada</td>\n",
       "      <td>4751</td>\n",
       "      <td>16.8</td>\n",
       "      <td>Americas</td>\n",
       "      <td>no</td>\n",
       "    </tr>\n",
       "    <tr>\n",
       "      <th>4</th>\n",
       "      <td>Denmark</td>\n",
       "      <td>5029</td>\n",
       "      <td>13.5</td>\n",
       "      <td>Europe</td>\n",
       "      <td>no</td>\n",
       "    </tr>\n",
       "    <tr>\n",
       "      <th>...</th>\n",
       "      <td>...</td>\n",
       "      <td>...</td>\n",
       "      <td>...</td>\n",
       "      <td>...</td>\n",
       "      <td>...</td>\n",
       "    </tr>\n",
       "    <tr>\n",
       "      <th>100</th>\n",
       "      <td>Uganda</td>\n",
       "      <td>134</td>\n",
       "      <td>160.0</td>\n",
       "      <td>Africa</td>\n",
       "      <td>no</td>\n",
       "    </tr>\n",
       "    <tr>\n",
       "      <th>101</th>\n",
       "      <td>Upper.Volta</td>\n",
       "      <td>82</td>\n",
       "      <td>180.0</td>\n",
       "      <td>Africa</td>\n",
       "      <td>no</td>\n",
       "    </tr>\n",
       "    <tr>\n",
       "      <th>102</th>\n",
       "      <td>Southern.Yemen</td>\n",
       "      <td>96</td>\n",
       "      <td>80.0</td>\n",
       "      <td>Asia</td>\n",
       "      <td>no</td>\n",
       "    </tr>\n",
       "    <tr>\n",
       "      <th>103</th>\n",
       "      <td>Yemen</td>\n",
       "      <td>77</td>\n",
       "      <td>50.0</td>\n",
       "      <td>Asia</td>\n",
       "      <td>no</td>\n",
       "    </tr>\n",
       "    <tr>\n",
       "      <th>104</th>\n",
       "      <td>Zaire</td>\n",
       "      <td>118</td>\n",
       "      <td>104.0</td>\n",
       "      <td>Africa</td>\n",
       "      <td>no</td>\n",
       "    </tr>\n",
       "  </tbody>\n",
       "</table>\n",
       "<p>101 rows × 5 columns</p>\n",
       "</div>"
      ],
      "text/plain": [
       "            country  income  infant_mortality    region oil\n",
       "0         Australia    3426              26.7      Asia  no\n",
       "1           Austria    3350              23.7    Europe  no\n",
       "2           Belgium    3346              17.0    Europe  no\n",
       "3            Canada    4751              16.8  Americas  no\n",
       "4           Denmark    5029              13.5    Europe  no\n",
       "..              ...     ...               ...       ...  ..\n",
       "100          Uganda     134             160.0    Africa  no\n",
       "101     Upper.Volta      82             180.0    Africa  no\n",
       "102  Southern.Yemen      96              80.0      Asia  no\n",
       "103           Yemen      77              50.0      Asia  no\n",
       "104           Zaire     118             104.0    Africa  no\n",
       "\n",
       "[101 rows x 5 columns]"
      ]
     },
     "execution_count": 44,
     "metadata": {},
     "output_type": "execute_result"
    }
   ],
   "source": [
    "mortality_data"
   ]
  },
  {
   "cell_type": "code",
   "execution_count": 45,
   "metadata": {},
   "outputs": [
    {
     "data": {
      "text/html": [
       "<div>\n",
       "<style scoped>\n",
       "    .dataframe tbody tr th:only-of-type {\n",
       "        vertical-align: middle;\n",
       "    }\n",
       "\n",
       "    .dataframe tbody tr th {\n",
       "        vertical-align: top;\n",
       "    }\n",
       "\n",
       "    .dataframe thead th {\n",
       "        text-align: right;\n",
       "    }\n",
       "</style>\n",
       "<table border=\"1\" class=\"dataframe\">\n",
       "  <thead>\n",
       "    <tr style=\"text-align: right;\">\n",
       "      <th></th>\n",
       "      <th>country</th>\n",
       "      <th>income</th>\n",
       "      <th>infant_mortality</th>\n",
       "      <th>region</th>\n",
       "      <th>oil</th>\n",
       "    </tr>\n",
       "  </thead>\n",
       "  <tbody>\n",
       "    <tr>\n",
       "      <th>0</th>\n",
       "      <td>Australia</td>\n",
       "      <td>3426</td>\n",
       "      <td>26.7</td>\n",
       "      <td>Asia</td>\n",
       "      <td>no</td>\n",
       "    </tr>\n",
       "    <tr>\n",
       "      <th>1</th>\n",
       "      <td>Austria</td>\n",
       "      <td>3350</td>\n",
       "      <td>23.7</td>\n",
       "      <td>Europe</td>\n",
       "      <td>no</td>\n",
       "    </tr>\n",
       "    <tr>\n",
       "      <th>2</th>\n",
       "      <td>Belgium</td>\n",
       "      <td>3346</td>\n",
       "      <td>17.0</td>\n",
       "      <td>Europe</td>\n",
       "      <td>no</td>\n",
       "    </tr>\n",
       "    <tr>\n",
       "      <th>3</th>\n",
       "      <td>Canada</td>\n",
       "      <td>4751</td>\n",
       "      <td>16.8</td>\n",
       "      <td>Americas</td>\n",
       "      <td>no</td>\n",
       "    </tr>\n",
       "    <tr>\n",
       "      <th>4</th>\n",
       "      <td>Denmark</td>\n",
       "      <td>5029</td>\n",
       "      <td>13.5</td>\n",
       "      <td>Europe</td>\n",
       "      <td>no</td>\n",
       "    </tr>\n",
       "    <tr>\n",
       "      <th>...</th>\n",
       "      <td>...</td>\n",
       "      <td>...</td>\n",
       "      <td>...</td>\n",
       "      <td>...</td>\n",
       "      <td>...</td>\n",
       "    </tr>\n",
       "    <tr>\n",
       "      <th>100</th>\n",
       "      <td>Uganda</td>\n",
       "      <td>134</td>\n",
       "      <td>160.0</td>\n",
       "      <td>Africa</td>\n",
       "      <td>no</td>\n",
       "    </tr>\n",
       "    <tr>\n",
       "      <th>101</th>\n",
       "      <td>Upper.Volta</td>\n",
       "      <td>82</td>\n",
       "      <td>180.0</td>\n",
       "      <td>Africa</td>\n",
       "      <td>no</td>\n",
       "    </tr>\n",
       "    <tr>\n",
       "      <th>102</th>\n",
       "      <td>Southern.Yemen</td>\n",
       "      <td>96</td>\n",
       "      <td>80.0</td>\n",
       "      <td>Asia</td>\n",
       "      <td>no</td>\n",
       "    </tr>\n",
       "    <tr>\n",
       "      <th>103</th>\n",
       "      <td>Yemen</td>\n",
       "      <td>77</td>\n",
       "      <td>50.0</td>\n",
       "      <td>Asia</td>\n",
       "      <td>no</td>\n",
       "    </tr>\n",
       "    <tr>\n",
       "      <th>104</th>\n",
       "      <td>Zaire</td>\n",
       "      <td>118</td>\n",
       "      <td>104.0</td>\n",
       "      <td>Africa</td>\n",
       "      <td>no</td>\n",
       "    </tr>\n",
       "  </tbody>\n",
       "</table>\n",
       "<p>101 rows × 5 columns</p>\n",
       "</div>"
      ],
      "text/plain": [
       "            country  income  infant_mortality    region oil\n",
       "0         Australia    3426              26.7      Asia  no\n",
       "1           Austria    3350              23.7    Europe  no\n",
       "2           Belgium    3346              17.0    Europe  no\n",
       "3            Canada    4751              16.8  Americas  no\n",
       "4           Denmark    5029              13.5    Europe  no\n",
       "..              ...     ...               ...       ...  ..\n",
       "100          Uganda     134             160.0    Africa  no\n",
       "101     Upper.Volta      82             180.0    Africa  no\n",
       "102  Southern.Yemen      96              80.0      Asia  no\n",
       "103           Yemen      77              50.0      Asia  no\n",
       "104           Zaire     118             104.0    Africa  no\n",
       "\n",
       "[101 rows x 5 columns]"
      ]
     },
     "execution_count": 45,
     "metadata": {},
     "output_type": "execute_result"
    }
   ],
   "source": [
    "mortality_data = mortality_data[[\"country\", \"income\", \"infant_mortality\", \"region\", \"oil\"]]\n",
    "mortality_data"
   ]
  },
  {
   "cell_type": "code",
   "execution_count": 46,
   "metadata": {},
   "outputs": [],
   "source": [
    "import matplotlib.pyplot as plt"
   ]
  },
  {
   "cell_type": "code",
   "execution_count": 34,
   "metadata": {},
   "outputs": [
    {
     "data": {
      "text/html": [
       "<div>\n",
       "<style scoped>\n",
       "    .dataframe tbody tr th:only-of-type {\n",
       "        vertical-align: middle;\n",
       "    }\n",
       "\n",
       "    .dataframe tbody tr th {\n",
       "        vertical-align: top;\n",
       "    }\n",
       "\n",
       "    .dataframe thead th {\n",
       "        text-align: right;\n",
       "    }\n",
       "</style>\n",
       "<table border=\"1\" class=\"dataframe\">\n",
       "  <thead>\n",
       "    <tr style=\"text-align: right;\">\n",
       "      <th></th>\n",
       "      <th>income</th>\n",
       "      <th>infant_mortality</th>\n",
       "    </tr>\n",
       "  </thead>\n",
       "  <tbody>\n",
       "    <tr>\n",
       "      <th>count</th>\n",
       "      <td>105.000000</td>\n",
       "      <td>101.000000</td>\n",
       "    </tr>\n",
       "    <tr>\n",
       "      <th>mean</th>\n",
       "      <td>998.066667</td>\n",
       "      <td>89.047525</td>\n",
       "    </tr>\n",
       "    <tr>\n",
       "      <th>std</th>\n",
       "      <td>1416.714294</td>\n",
       "      <td>90.801707</td>\n",
       "    </tr>\n",
       "    <tr>\n",
       "      <th>min</th>\n",
       "      <td>50.000000</td>\n",
       "      <td>9.600000</td>\n",
       "    </tr>\n",
       "    <tr>\n",
       "      <th>25%</th>\n",
       "      <td>123.000000</td>\n",
       "      <td>26.200000</td>\n",
       "    </tr>\n",
       "    <tr>\n",
       "      <th>50%</th>\n",
       "      <td>334.000000</td>\n",
       "      <td>60.600000</td>\n",
       "    </tr>\n",
       "    <tr>\n",
       "      <th>75%</th>\n",
       "      <td>1191.000000</td>\n",
       "      <td>129.400000</td>\n",
       "    </tr>\n",
       "    <tr>\n",
       "      <th>max</th>\n",
       "      <td>5596.000000</td>\n",
       "      <td>650.000000</td>\n",
       "    </tr>\n",
       "  </tbody>\n",
       "</table>\n",
       "</div>"
      ],
      "text/plain": [
       "            income  infant_mortality\n",
       "count   105.000000        101.000000\n",
       "mean    998.066667         89.047525\n",
       "std    1416.714294         90.801707\n",
       "min      50.000000          9.600000\n",
       "25%     123.000000         26.200000\n",
       "50%     334.000000         60.600000\n",
       "75%    1191.000000        129.400000\n",
       "max    5596.000000        650.000000"
      ]
     },
     "execution_count": 34,
     "metadata": {},
     "output_type": "execute_result"
    }
   ],
   "source": [
    "mortality_data.describe()"
   ]
  },
  {
   "cell_type": "code",
   "execution_count": 37,
   "metadata": {},
   "outputs": [
    {
     "data": {
      "image/png": "[encoded data removed]",
      "text/plain": [
       "<Figure size 432x288 with 1 Axes>"
      ]
     },
     "metadata": {
      "needs_background": "light"
     },
     "output_type": "display_data"
    }
   ],
   "source": [
    "import matplotlib.pyplot as plt\n",
    "\n",
    "plt.hist(mortality_data[\"infant_mortality\"], bins=20, density=True)\n",
    "plt.xlabel(\"Infant mortality rate\", fontsize=12)\n",
    "plt.ylabel(\"Density\", fontsize=12)\n",
    "plt.show()"
   ]
  },
  {
   "cell_type": "code",
   "execution_count": 38,
   "metadata": {},
   "outputs": [
    {
     "data": {
      "image/png": "[encoded data removed]",
      "text/plain": [
       "<Figure size 432x288 with 1 Axes>"
      ]
     },
     "metadata": {
      "needs_background": "light"
     },
     "output_type": "display_data"
    }
   ],
   "source": [
    "plt.hist(mortality_data[\"income\"], bins=20, density=True)\n",
    "plt.xlabel(\"Infant mortality rate\", fontsize=12)\n",
    "plt.ylabel(\"Density\", fontsize=12)\n",
    "plt.show()"
   ]
  },
  {
   "cell_type": "code",
   "execution_count": 45,
   "metadata": {},
   "outputs": [
    {
     "data": {
      "image/png": "[encoded data removed]",
      "text/plain": [
       "<Figure size 432x288 with 1 Axes>"
      ]
     },
     "metadata": {
      "needs_background": "light"
     },
     "output_type": "display_data"
    }
   ],
   "source": [
    "plt.scatter(mortality_data[\"income\"], mortality_data[\"infant_mortality\"])\n",
    "plt.ylabel(\"Infant mortality rate\", fontsize=12)\n",
    "plt.xlabel(\"Per-capita income\", fontsize=12)\n",
    "plt.show()"
   ]
  },
  {
   "cell_type": "code",
   "execution_count": 46,
   "metadata": {},
   "outputs": [
    {
     "data": {
      "image/png": "[encoded data removed]",
      "text/plain": [
       "<Figure size 432x288 with 1 Axes>"
      ]
     },
     "metadata": {
      "needs_background": "light"
     },
     "output_type": "display_data"
    }
   ],
   "source": [
    "mortality_data_oil_exporting = mortality_data[mortality_data[\"oil\"] == \"yes\"]\n",
    "\n",
    "plt.scatter(mortality_data_oil_exporting[\"income\"], mortality_data_oil_exporting[\"infant_mortality\"])\n",
    "plt.ylabel(\"Infant mortality rate\", fontsize=12)\n",
    "plt.xlabel(\"Per-capita income\", fontsize=12)\n",
    "plt.show()"
   ]
  },
  {
   "cell_type": "code",
   "execution_count": 57,
   "metadata": {},
   "outputs": [
    {
     "data": {
      "image/png": "[encoded data removed]",
      "text/plain": [
       "<Figure size 864x432 with 3 Axes>"
      ]
     },
     "metadata": {
      "needs_background": "light"
     },
     "output_type": "display_data"
    }
   ],
   "source": [
    "import numpy as np\n",
    "\n",
    "fig, axs = plt.subplots(nrows= 1, ncols=3, figsize=(12,6))\n",
    "axs = axs.flatten()\n",
    "\n",
    "axs[0].hist(mortality_data[\"income\"], bins=10, density=True)\n",
    "axs[0].set_xlabel(\"sqrt(per-capita income)\", fontsize=12)\n",
    "axs[0].set_ylabel(\"Density\", fontsize=12)\n",
    "\n",
    "sqrt_income = np.sqrt(mortality_data[\"income\"])\n",
    "axs[1].hist(sqrt_income, bins=10, density=True)\n",
    "axs[1].set_xlabel(\"sqrt(per-capita income)\", fontsize=12)\n",
    "axs[1].set_ylabel(\"Density\", fontsize=12)\n",
    "\n",
    "log_income = np.log(mortality_data[\"income\"])\n",
    "axs[2].hist(log_income, bins=10, density=True)\n",
    "axs[2].set_xlabel(\"log(per-capita income)\", fontsize=12)\n",
    "axs[2].set_ylabel(\"Density\", fontsize=12)\n",
    "\n",
    "plt.tight_layout()\n",
    "plt.show()"
   ]
  },
  {
   "cell_type": "code",
   "execution_count": 47,
   "metadata": {},
   "outputs": [
    {
     "data": {
      "image/png": "[encoded data removed]",
      "text/plain": [
       "<Figure size 432x432 with 3 Axes>"
      ]
     },
     "metadata": {
      "needs_background": "light"
     },
     "output_type": "display_data"
    }
   ],
   "source": [
    "import matplotlib.pyplot as plt\n",
    "import seaborn as sns\n",
    "import numpy as np\n",
    "\n",
    "# calling .to_numpy() on a column of a DataFrame gives you a numpy array back\n",
    "log_income = np.log(mortality_data[\"income\"].to_numpy())\n",
    "log_infant_mortality = np.log(mortality_data[\"infant_mortality\"].to_numpy())\n",
    "\n",
    "sns.jointplot(x=log_infant_mortality, y=log_income)\n",
    "plt.xlabel(\"log(Infant mortality rate)\", fontsize=12)\n",
    "plt.ylabel(\"log(Per-capita income)\", fontsize=12)\n",
    "plt.show()"
   ]
  },
  {
   "cell_type": "code",
   "execution_count": 19,
   "metadata": {},
   "outputs": [],
   "source": [
    "def pearson_corr(x,y):\n",
    "    # first compute the means of the two vectors\n",
    "    x_bar = np.mean(x)\n",
    "    y_bar = np.mean(y)\n",
    "\n",
    "    # compute numerator (1/n)*\\sum_i (x_i - x_bar)*(y_i - y_bar)\n",
    "    cov_xy = np.sum((x-x_bar)*(y-y_bar))/len(x)\n",
    "\n",
    "    # compute the variance of x and y\n",
    "    var_x = np.sum((x-x_bar)**2)/len(x)\n",
    "    var_y = np.sum((y-y_bar)**2)/len(y)\n",
    "    print(var_x, var_y)\n",
    "\n",
    "    # compute the correlation\n",
    "    r = cov_xy/np.sqrt(var_x*var_y)\n",
    "\n",
    "    return r"
   ]
  },
  {
   "cell_type": "code",
   "execution_count": 20,
   "metadata": {},
   "outputs": [
    {
     "name": "stdout",
     "output_type": "stream",
     "text": [
      "1.7797381408699178 0.9284024612726909\n"
     ]
    },
    {
     "data": {
      "text/plain": [
       "-0.7086068160294183"
      ]
     },
     "execution_count": 20,
     "metadata": {},
     "output_type": "execute_result"
    }
   ],
   "source": [
    "r = pearson_corr(log_income, log_infant_mortality)\n",
    "r"
   ]
  },
  {
   "cell_type": "code",
   "execution_count": 21,
   "metadata": {},
   "outputs": [
    {
     "data": {
      "text/plain": [
       "array([3.28466357, 3.16547505, 2.83321334, 2.82137889, 2.60268969,\n",
       "       2.31253542, 2.55722731, 3.0155349 , 2.87919846, 3.24649099,\n",
       "       2.45958884, 2.4510051 , 2.78501124, 2.42480273, 3.80220814,\n",
       "       4.26969745, 2.2617631 , 2.54944517, 2.86220088, 2.8678989 ,\n",
       "       4.4578296 , 4.36309862, 4.82831374, 3.33576958, 5.70378247,\n",
       "       4.06044301, 6.47697236, 3.94545778, 4.08765557, 5.13579844,\n",
       "       4.35670883, 4.13995507, 3.99636415, 3.88773031, 3.32503602,\n",
       "       4.37071287, 3.09557761, 3.26575941, 2.61006979, 3.4657359 ,\n",
       "       4.10923317, 3.8286414 , 3.52929738, 4.17592455, 3.0155349 ,\n",
       "       2.71469474, 2.94968834, 3.26575941, 4.33467294, 3.69882978,\n",
       "       3.76815264, 5.55682806, 4.1009891 , 4.91998093, 5.19295685,\n",
       "       4.73619845, 4.06388535, 4.15418456, 3.67122452, 4.92725369,\n",
       "       3.05870707, 4.06044301, 5.07016127, 5.00394631, 2.32238772,\n",
       "       3.65325228, 4.21803603, 3.07731226, 3.29583687, 5.03043792,\n",
       "       4.60517019, 5.99146455, 4.822698  , 5.29831737, 5.01063529,\n",
       "       4.60517019, 5.24702407, 5.07517382, 4.69683737, 4.43319492,\n",
       "       5.37527841, 4.10429489, 4.00733319, 4.62497281, 4.99923725,\n",
       "       4.78749174, 5.23110862, 5.29831737, 4.822698  , 4.88959697,\n",
       "       5.13579844, 5.06259503, 3.80888225, 4.86290838, 5.090678  ,\n",
       "       4.84418709, 5.07517382, 5.19295685, 4.38202663, 3.91202301,\n",
       "       4.6443909 ])"
      ]
     },
     "execution_count": 21,
     "metadata": {},
     "output_type": "execute_result"
    }
   ],
   "source": [
    "log_infant_mortality"
   ]
  },
  {
   "cell_type": "code",
   "execution_count": 40,
   "metadata": {},
   "outputs": [],
   "source": [
    "def fit_line(x, y):\n",
    "    # first compute the means of the two vectors\n",
    "    x_bar = np.mean(x)\n",
    "    y_bar = np.mean(y)\n",
    "\n",
    "    # compute numerator (1/n)*\\sum_i (x_i - x_bar)*(y_i - y_bar)\n",
    "    cov_xy = np.sum((x-x_bar)*(y-y_bar))/len(x)\n",
    "\n",
    "    # compute the variance of x and y\n",
    "    var_x = np.sum((x-x_bar)**2)/len(x)\n",
    "    \n",
    "    # compute beta_hat\n",
    "    beta_hat = cov_xy/var_x\n",
    "    \n",
    "    # compute alpha_hat\n",
    "    alpha_hat = y_bar - beta_hat*x_bar\n",
    "\n",
    "    return alpha_hat, beta_hat"
   ]
  },
  {
   "cell_type": "code",
   "execution_count": 49,
   "metadata": {},
   "outputs": [
    {
     "data": {
      "text/plain": [
       "(7.14582359796337, -0.5117942628130397)"
      ]
     },
     "execution_count": 49,
     "metadata": {},
     "output_type": "execute_result"
    }
   ],
   "source": [
    "alpha_hat, beta_hat = fit_line(log_income, log_infant_mortality)\n",
    "alpha_hat, beta_hat"
   ]
  },
  {
   "cell_type": "code",
   "execution_count": 27,
   "metadata": {},
   "outputs": [
    {
     "data": {
      "image/png": "[encoded data removed]",
      "text/plain": [
       "<Figure size 432x288 with 1 Axes>"
      ]
     },
     "metadata": {
      "needs_background": "light"
     },
     "output_type": "display_data"
    }
   ],
   "source": [
    "xx = np.linspace(2,7,5)\n",
    "yy = alpha_hat + beta_hat*xx\n",
    "plt.scatter(log_infant_mortality, log_income)\n",
    "plt.plot(xx, yy, color='red', linestyle='--')\n",
    "plt.xlabel(\"log(Infant mortality rate)\", fontsize=12)\n",
    "plt.ylabel(\"log(Per-capita income)\", fontsize=12)\n",
    "plt.show()"
   ]
  },
  {
   "cell_type": "code",
   "execution_count": 25,
   "metadata": {},
   "outputs": [
    {
     "name": "stdout",
     "output_type": "stream",
     "text": [
      "['1', 'M', '77', '182', '77', '180']\n",
      "['2', 'F', '58', '161', '51', '159']\n",
      "['3', 'F', '53', '161', '54', '158']\n",
      "['4', 'M', '68', '177', '70', '175']\n",
      "['5', 'F', '59', '157', '59', '155']\n",
      "['6', 'M', '76', '170', '76', '165']\n",
      "['7', 'M', '76', '167', '77', '165']\n",
      "['8', 'M', '69', '186', '73', '180']\n",
      "['9', 'M', '71', '178', '71', '175']\n",
      "['10', 'M', '65', '171', '64', '170']\n",
      "['11', 'M', '70', '175', '75', '174']\n",
      "['12', 'F', '166', '57', '56', '163']\n",
      "['13', 'F', '51', '161', '52', '158']\n",
      "['14', 'F', '64', '168', '64', '165']\n",
      "['15', 'F', '52', '163', '57', '160']\n",
      "['16', 'F', '65', '166', '66', '165']\n",
      "['17', 'M', '92', '187', '101', '185']\n",
      "['18', 'F', '62', '168', '62', '165']\n",
      "['19', 'M', '76', '197', '75', '200']\n",
      "['20', 'F', '61', '175', '61', '171']\n",
      "['21', 'M', '119', '180', '124', '178']\n",
      "['22', 'F', '61', '170', '61', '170']\n",
      "['23', 'M', '65', '175', '66', '173']\n",
      "['24', 'M', '66', '173', '70', '170']\n",
      "['25', 'F', '54', '171', '59', '168']\n",
      "['26', 'F', '50', '166', '50', '165']\n",
      "['27', 'F', '63', '169', '61', '168']\n",
      "['28', 'F', '58', '166', '60', '160']\n",
      "['29', 'F', '39', '157', '41', '153']\n",
      "['30', 'M', '101', '183', '100', '180']\n",
      "['31', 'F', '71', '166', '71', '165']\n",
      "['32', 'M', '75', '178', '73', '175']\n",
      "['33', 'M', '79', '173', '76', '173']\n",
      "['34', 'F', '52', '164', '52', '161']\n",
      "['35', 'F', '68', '169', '63', '170']\n",
      "['36', 'M', '64', '176', '65', '175']\n",
      "['37', 'F', '56', '166', '54', '165']\n",
      "['38', 'M', '69', '174', '69', '171']\n",
      "['39', 'M', '88', '178', '86', '175']\n",
      "['40', 'M', '65', '187', '67', '188']\n",
      "['41', 'F', '54', '164', '53', '160']\n",
      "['42', 'M', '80', '178', '80', '178']\n",
      "['43', 'F', '63', '163', '59', '159']\n",
      "['44', 'M', '78', '183', '80', '180']\n",
      "['45', 'M', '85', '179', '82', '175']\n",
      "['46', 'F', '54', '160', '55', '158']\n",
      "['47', 'M', '73', '180', 'NA', 'NA']\n",
      "['48', 'F', '49', '161', 'NA', 'NA']\n",
      "['49', 'F', '54', '174', '56', '173']\n",
      "['50', 'F', '75', '162', '75', '158']\n",
      "['51', 'M', '82', '182', '85', '183']\n",
      "['52', 'F', '56', '165', '57', '163']\n",
      "['53', 'M', '74', '169', '73', '170']\n",
      "['54', 'M', '102', '185', '107', '185']\n",
      "['55', 'M', '64', '177', 'NA', 'NA']\n",
      "['56', 'M', '65', '176', '64', '172']\n",
      "['57', 'F', '66', '170', '65', 'NA']\n",
      "['58', 'M', '73', '183', '74', '180']\n",
      "['59', 'M', '75', '172', '70', '169']\n",
      "['60', 'M', '57', '173', '58', '170']\n",
      "['61', 'M', '68', '165', '69', '165']\n",
      "['62', 'M', '71', '177', '71', '170']\n",
      "['63', 'M', '71', '180', '76', '175']\n",
      "['64', 'F', '78', '173', '75', '169']\n",
      "['65', 'M', '97', '189', '98', '185']\n",
      "['66', 'F', '60', '162', '59', '160']\n",
      "['67', 'F', '64', '165', '63', '163']\n",
      "['68', 'F', '64', '164', '62', '161']\n",
      "['69', 'F', '52', '158', '51', '155']\n",
      "['70', 'M', '80', '178', '76', '175']\n",
      "['71', 'F', '62', '175', '61', '171']\n",
      "['72', 'M', '66', '173', '66', '175']\n",
      "['73', 'F', '55', '165', '54', '163']\n",
      "['74', 'F', '56', '163', '57', '159']\n",
      "['75', 'F', '50', '166', '50', '161']\n",
      "['76', 'F', '50', '171', 'NA', 'NA']\n",
      "['77', 'F', '50', '160', '55', '150']\n",
      "['78', 'F', '63', '160', '64', '158']\n",
      "['79', 'M', '69', '182', '70', '180']\n",
      "['80', 'M', '69', '183', '70', '183']\n",
      "['81', 'F', '61', '165', '60', '163']\n",
      "['82', 'M', '55', '168', '56', '170']\n",
      "['83', 'F', '53', '169', '52', '175']\n",
      "['84', 'F', '60', '167', '55', '163']\n",
      "['85', 'F', '56', '170', '56', '170']\n",
      "['86', 'M', '59', '182', '61', '183']\n",
      "['87', 'M', '62', '178', '66', '175']\n",
      "['88', 'F', '53', '165', '53', '165']\n",
      "['89', 'F', '57', '163', '59', '160']\n",
      "['90', 'F', '57', '162', '56', '160']\n",
      "['91', 'M', '70', '173', '68', '170']\n",
      "['92', 'F', '56', '161', '56', '161']\n",
      "['93', 'M', '84', '184', '86', '183']\n",
      "['94', 'M', '69', '180', '71', '180']\n",
      "['95', 'M', '88', '189', '87', '185']\n",
      "['96', 'F', '56', '165', '57', '160']\n",
      "['97', 'M', '103', '185', '101', '182']\n",
      "['98', 'F', '50', '169', '50', '165']\n",
      "['99', 'F', '52', '159', '52', '153']\n",
      "['100', 'F', '55', '155', 'NA', '154']\n",
      "['101', 'F', '55', '164', '55', '163']\n",
      "['102', 'M', '63', '178', '63', '175']\n",
      "['103', 'F', '47', '163', '47', '160']\n",
      "['104', 'F', '45', '163', '45', '160']\n",
      "['105', 'F', '62', '175', '63', '173']\n",
      "['106', 'F', '53', '164', '51', '160']\n",
      "['107', 'F', '52', '152', '51', '150']\n",
      "['108', 'F', '57', '167', '55', '164']\n",
      "['109', 'F', '64', '166', '64', '165']\n",
      "['110', 'F', '59', '166', '55', '163']\n",
      "['111', 'M', '84', '183', '90', '183']\n",
      "['112', 'M', '79', '179', '79', '171']\n",
      "['113', 'F', '55', '174', '57', '171']\n",
      "['114', 'M', '67', '179', '67', '179']\n",
      "['115', 'F', '76', '167', '77', '165']\n",
      "['116', 'F', '62', '168', '62', '163']\n",
      "['117', 'M', '83', '184', '83', '181']\n",
      "['118', 'M', '96', '184', '94', '183']\n",
      "['119', 'M', '75', '169', '76', '165']\n",
      "['120', 'M', '65', '178', '66', '178']\n",
      "['121', 'M', '78', '178', '77', '175']\n",
      "['122', 'M', '69', '167', '73', '165']\n",
      "['123', 'F', '68', '178', '68', '175']\n",
      "['124', 'F', '55', '165', '55', '163']\n",
      "['125', 'M', '67', '179', 'NA', 'NA']\n",
      "['126', 'F', '52', '169', '56', 'NA']\n",
      "['127', 'F', '47', '153', 'NA', '154']\n",
      "['128', 'F', '45', '157', '45', '153']\n",
      "['129', 'F', '68', '171', '68', '169']\n",
      "['130', 'F', '44', '157', '44', '155']\n",
      "['131', 'F', '62', '166', '61', '163']\n",
      "['132', 'M', '87', '185', '89', '185']\n",
      "['133', 'F', '56', '160', '53', '158']\n",
      "['134', 'F', '50', '148', '47', '148']\n",
      "['135', 'M', '83', '177', '84', '175']\n",
      "['136', 'F', '53', '162', '53', '160']\n",
      "['137', 'F', '64', '172', '62', '168']\n",
      "['138', 'F', '62', '167', 'NA', 'NA']\n",
      "['139', 'M', '90', '188', '91', '185']\n",
      "['140', 'M', '85', '191', '83', '188']\n",
      "['141', 'M', '66', '175', '68', '175']\n",
      "['142', 'F', '52', '163', '53', '160']\n",
      "['143', 'F', '53', '165', '55', '163']\n",
      "['144', 'F', '54', '176', '55', '176']\n",
      "['145', 'F', '64', '171', '66', '171']\n",
      "['146', 'F', '55', '160', '55', '155']\n",
      "['147', 'F', '55', '165', '55', '165']\n",
      "['148', 'F', '59', '157', '55', '158']\n",
      "['149', 'F', '70', '173', '67', '170']\n",
      "['150', 'M', '88', '184', '86', '183']\n",
      "['151', 'F', '57', '168', '58', '165']\n",
      "['152', 'F', '47', '162', '47', '160']\n",
      "['153', 'F', '47', '150', '45', '152']\n",
      "['154', 'F', '55', '162', 'NA', 'NA']\n",
      "['155', 'F', '48', '163', '44', '160']\n",
      "['156', 'M', '54', '169', '58', '165']\n",
      "['157', 'M', '69', '172', '68', '174']\n",
      "['158', 'F', '59', '170', 'NA', 'NA']\n",
      "['159', 'F', '58', '169', 'NA', 'NA']\n",
      "['160', 'F', '57', '167', '56', '165']\n",
      "['161', 'F', '51', '163', '50', '160']\n",
      "['162', 'F', '54', '161', '54', '160']\n",
      "['163', 'F', '53', '162', '52', '158']\n",
      "['164', 'F', '59', '172', '58', '171']\n",
      "['165', 'M', '56', '163', '58', '161']\n",
      "['166', 'F', '59', '159', '59', '155']\n",
      "['167', 'F', '63', '170', '62', '168']\n",
      "['168', 'F', '66', '166', '66', '165']\n",
      "['169', 'M', '96', '191', '95', '188']\n",
      "['170', 'F', '53', '158', '50', '155']\n",
      "['171', 'M', '76', '169', '75', '165']\n",
      "['172', 'F', '54', '163', 'NA', 'NA']\n",
      "['173', 'M', '61', '170', '61', '170']\n",
      "['174', 'M', '82', '176', 'NA', 'NA']\n",
      "['175', 'M', '62', '168', '64', '168']\n",
      "['176', 'M', '71', '178', '68', '178']\n",
      "['177', 'F', '60', '174', 'NA', 'NA']\n",
      "['178', 'M', '66', '170', '67', '165']\n",
      "['179', 'M', '81', '178', '82', '175']\n",
      "['180', 'M', '68', '174', '68', '173']\n",
      "['181', 'M', '80', '176', '78', '175']\n",
      "['182', 'F', '43', '154', 'NA', 'NA']\n",
      "['183', 'M', '82', '181', 'NA', 'NA']\n",
      "['184', 'F', '63', '165', '59', '160']\n",
      "['185', 'M', '70', '173', '70', '173']\n",
      "['186', 'F', '56', '162', '56', '160']\n",
      "['187', 'F', '60', '172', '55', '168']\n",
      "['188', 'F', '58', '169', '54', '166']\n",
      "['189', 'M', '76', '183', '75', '180']\n",
      "['190', 'F', '50', '158', '49', '155']\n",
      "['191', 'M', '88', '185', '93', '188']\n",
      "['192', 'M', '89', '173', '86', '173']\n",
      "['193', 'F', '59', '164', '59', '165']\n",
      "['194', 'F', '51', '156', '51', '158']\n",
      "['195', 'F', '62', '164', '61', '161']\n",
      "['196', 'M', '74', '175', '71', '175']\n",
      "['197', 'M', '83', '180', '80', '180']\n",
      "['198', 'M', '81', '175', 'NA', 'NA']\n",
      "['199', 'M', '90', '181', '91', '178']\n",
      "['200', 'M', '79', '177', '81', '178']\n"
     ]
    }
   ],
   "source": [
    "import pandas as pd\n",
    "import numpy as np\n",
    "\n",
    "out = []\n",
    "with open('datasets/height_weight.txt') as f:\n",
    "    lines = f.readlines()\n",
    "    for j, line in enumerate(lines):\n",
    "        if j>0:\n",
    "            print(line.split())\n",
    "            out.append(line.split())\n",
    "\n",
    "out= np.array(out)\n",
    "out[out == 'NA'] = np.nan\n",
    "columns = [\"sex\", \"weight\", \"height\", \"reported_weight\", \"reported_height\"]\n",
    "out = pd.DataFrame({columns[ix]: out[:,ix+1].astype(float) for ix in range(len(columns)) if columns[ix] != \"sex\"})"
   ]
  },
  {
   "cell_type": "code",
   "execution_count": 26,
   "metadata": {},
   "outputs": [
    {
     "data": {
      "text/plain": [
       "66.30386740331491"
      ]
     },
     "execution_count": 26,
     "metadata": {},
     "output_type": "execute_result"
    }
   ],
   "source": [
    "out = out.dropna()\n",
    "out[\"weight\"].mean()"
   ]
  },
  {
   "cell_type": "code",
   "execution_count": 27,
   "metadata": {},
   "outputs": [],
   "source": [
    "out= out.dropna()"
   ]
  },
  {
   "cell_type": "code",
   "execution_count": 20,
   "metadata": {},
   "outputs": [],
   "source": [
    "out.to_csv(\"datasets/height_weight.csv\")"
   ]
  },
  {
   "cell_type": "code",
   "execution_count": 28,
   "metadata": {},
   "outputs": [
    {
     "data": {
      "image/png": "[encoded data removed]",
      "text/plain": [
       "<Figure size 432x288 with 1 Axes>"
      ]
     },
     "metadata": {
      "needs_background": "light"
     },
     "output_type": "display_data"
    }
   ],
   "source": [
    "import seaborn as sns\n",
    "import matplotlib.pyplot as plt\n",
    "\n",
    "plt.scatter(out[\"height\"], out[\"weight\"])\n",
    "plt.show()"
   ]
  },
  {
   "cell_type": "code",
   "execution_count": 50,
   "metadata": {},
   "outputs": [],
   "source": [
    "out = out[out[\"weight\"]<=140]"
   ]
  },
  {
   "cell_type": "code",
   "execution_count": 53,
   "metadata": {},
   "outputs": [],
   "source": [
    "out = out[[\"height\", \"weight\"]]\n",
    "out.to_csv(\"datasets/height_weight.csv\")"
   ]
  },
  {
   "cell_type": "code",
   "execution_count": 52,
   "metadata": {},
   "outputs": [
    {
     "data": {
      "image/png": "[encoded data removed]",
      "text/plain": [
       "<Figure size 432x288 with 1 Axes>"
      ]
     },
     "metadata": {
      "needs_background": "light"
     },
     "output_type": "display_data"
    }
   ],
   "source": [
    "plt.hist(out[\"weight\"], bins=10)\n",
    "plt.show()"
   ]
  },
  {
   "cell_type": "code",
   "execution_count": 38,
   "metadata": {},
   "outputs": [],
   "source": [
    "height_weight_data = out"
   ]
  },
  {
   "cell_type": "code",
   "execution_count": 39,
   "metadata": {},
   "outputs": [
    {
     "data": {
      "image/png": "[encoded data removed]",
      "text/plain": [
       "<Figure size 432x432 with 3 Axes>"
      ]
     },
     "metadata": {
      "needs_background": "light"
     },
     "output_type": "display_data"
    }
   ],
   "source": [
    "height = height_weight_data[\"height\"]\n",
    "weight = height_weight_data[\"weight\"]\n",
    "\n",
    "sns.jointplot(x=weight, y=height)\n",
    "plt.ylabel(\"height\", fontsize=12)\n",
    "plt.xlabel(\"weight\", fontsize=12)\n",
    "plt.show()"
   ]
  },
  {
   "cell_type": "code",
   "execution_count": 41,
   "metadata": {},
   "outputs": [
    {
     "name": "stdout",
     "output_type": "stream",
     "text": [
      "alpha = 137.08690903754507, beta = 0.5124931451830912\n"
     ]
    },
    {
     "data": {
      "image/png": "[encoded data removed]",
      "text/plain": [
       "<Figure size 432x288 with 1 Axes>"
      ]
     },
     "metadata": {
      "needs_background": "light"
     },
     "output_type": "display_data"
    }
   ],
   "source": [
    "alpha_hat, beta_hat = fit_line(weight, height)\n",
    "print(f\"alpha = {alpha_hat}, beta = {beta_hat}\")\n",
    "\n",
    "xx = np.linspace(40,115,4)\n",
    "yy = alpha_hat + beta_hat*xx\n",
    "plt.scatter(weight, height)\n",
    "plt.plot(xx, yy, color='red', linestyle='--', label='line of best fit')\n",
    "plt.ylabel(\"height (cm)\", fontsize=12)\n",
    "plt.xlabel(\"weight (kg)\", fontsize=12)\n",
    "plt.legend()\n",
    "plt.show()"
   ]
  },
  {
   "cell_type": "code",
   "execution_count": null,
   "metadata": {},
   "outputs": [],
   "source": []
  }
 ],
 "metadata": {
  "kernelspec": {
   "display_name": "Python 3",
   "language": "python",
   "name": "python3"
  },
  "language_info": {
   "codemirror_mode": {
    "name": "ipython",
    "version": 3
   },
   "file_extension": ".py",
   "mimetype": "text/x-python",
   "name": "python",
   "nbconvert_exporter": "python",
   "pygments_lexer": "ipython3",
   "version": "3.9.5"
  },
  "vscode": {
   "interpreter": {
    "hash": "9116e7605a3c7636cbb64cda962b2f0e89693208c0f8626394020c0fb858b688"
   }
  }
 },
 "nbformat": 4,
 "nbformat_minor": 2
}
