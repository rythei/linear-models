{
 "cells": [
  {
   "cell_type": "code",
   "execution_count": 30,
   "metadata": {},
   "outputs": [
    {
     "data": {
      "text/html": [
       "<div>\n",
       "<style scoped>\n",
       "    .dataframe tbody tr th:only-of-type {\n",
       "        vertical-align: middle;\n",
       "    }\n",
       "\n",
       "    .dataframe tbody tr th {\n",
       "        vertical-align: top;\n",
       "    }\n",
       "\n",
       "    .dataframe thead th {\n",
       "        text-align: right;\n",
       "    }\n",
       "</style>\n",
       "<table border=\"1\" class=\"dataframe\">\n",
       "  <thead>\n",
       "    <tr style=\"text-align: right;\">\n",
       "      <th></th>\n",
       "      <th>country</th>\n",
       "      <th>income</th>\n",
       "      <th>infant_mortality</th>\n",
       "      <th>region</th>\n",
       "      <th>oil</th>\n",
       "    </tr>\n",
       "  </thead>\n",
       "  <tbody>\n",
       "    <tr>\n",
       "      <th>0</th>\n",
       "      <td>Australia</td>\n",
       "      <td>3426</td>\n",
       "      <td>26.7</td>\n",
       "      <td>Asia</td>\n",
       "      <td>no</td>\n",
       "    </tr>\n",
       "    <tr>\n",
       "      <th>1</th>\n",
       "      <td>Austria</td>\n",
       "      <td>3350</td>\n",
       "      <td>23.7</td>\n",
       "      <td>Europe</td>\n",
       "      <td>no</td>\n",
       "    </tr>\n",
       "    <tr>\n",
       "      <th>2</th>\n",
       "      <td>Belgium</td>\n",
       "      <td>3346</td>\n",
       "      <td>17.0</td>\n",
       "      <td>Europe</td>\n",
       "      <td>no</td>\n",
       "    </tr>\n",
       "    <tr>\n",
       "      <th>3</th>\n",
       "      <td>Canada</td>\n",
       "      <td>4751</td>\n",
       "      <td>16.8</td>\n",
       "      <td>Americas</td>\n",
       "      <td>no</td>\n",
       "    </tr>\n",
       "    <tr>\n",
       "      <th>4</th>\n",
       "      <td>Denmark</td>\n",
       "      <td>5029</td>\n",
       "      <td>13.5</td>\n",
       "      <td>Europe</td>\n",
       "      <td>no</td>\n",
       "    </tr>\n",
       "  </tbody>\n",
       "</table>\n",
       "</div>"
      ],
      "text/plain": [
       "     country  income  infant_mortality    region oil\n",
       "0  Australia    3426              26.7      Asia  no\n",
       "1    Austria    3350              23.7    Europe  no\n",
       "2    Belgium    3346              17.0    Europe  no\n",
       "3     Canada    4751              16.8  Americas  no\n",
       "4    Denmark    5029              13.5    Europe  no"
      ]
     },
     "execution_count": 30,
     "metadata": {},
     "output_type": "execute_result"
    }
   ],
   "source": [
    "import pandas as pd\n",
    "\n",
    "\n",
    "mortality_data = pd.read_csv(\"datasets/infant_mortality.csv\")\n",
    "mortality_data.head()"
   ]
  },
  {
   "cell_type": "code",
   "execution_count": 31,
   "metadata": {},
   "outputs": [
    {
     "data": {
      "text/html": [
       "<div>\n",
       "<style scoped>\n",
       "    .dataframe tbody tr th:only-of-type {\n",
       "        vertical-align: middle;\n",
       "    }\n",
       "\n",
       "    .dataframe tbody tr th {\n",
       "        vertical-align: top;\n",
       "    }\n",
       "\n",
       "    .dataframe thead th {\n",
       "        text-align: right;\n",
       "    }\n",
       "</style>\n",
       "<table border=\"1\" class=\"dataframe\">\n",
       "  <thead>\n",
       "    <tr style=\"text-align: right;\">\n",
       "      <th></th>\n",
       "      <th>country</th>\n",
       "      <th>income</th>\n",
       "      <th>infant_mortality</th>\n",
       "      <th>region</th>\n",
       "      <th>oil</th>\n",
       "    </tr>\n",
       "  </thead>\n",
       "  <tbody>\n",
       "    <tr>\n",
       "      <th>0</th>\n",
       "      <td>Australia</td>\n",
       "      <td>3426</td>\n",
       "      <td>26.7</td>\n",
       "      <td>Asia</td>\n",
       "      <td>no</td>\n",
       "    </tr>\n",
       "    <tr>\n",
       "      <th>1</th>\n",
       "      <td>Austria</td>\n",
       "      <td>3350</td>\n",
       "      <td>23.7</td>\n",
       "      <td>Europe</td>\n",
       "      <td>no</td>\n",
       "    </tr>\n",
       "    <tr>\n",
       "      <th>2</th>\n",
       "      <td>Belgium</td>\n",
       "      <td>3346</td>\n",
       "      <td>17.0</td>\n",
       "      <td>Europe</td>\n",
       "      <td>no</td>\n",
       "    </tr>\n",
       "    <tr>\n",
       "      <th>3</th>\n",
       "      <td>Canada</td>\n",
       "      <td>4751</td>\n",
       "      <td>16.8</td>\n",
       "      <td>Americas</td>\n",
       "      <td>no</td>\n",
       "    </tr>\n",
       "    <tr>\n",
       "      <th>4</th>\n",
       "      <td>Denmark</td>\n",
       "      <td>5029</td>\n",
       "      <td>13.5</td>\n",
       "      <td>Europe</td>\n",
       "      <td>no</td>\n",
       "    </tr>\n",
       "    <tr>\n",
       "      <th>...</th>\n",
       "      <td>...</td>\n",
       "      <td>...</td>\n",
       "      <td>...</td>\n",
       "      <td>...</td>\n",
       "      <td>...</td>\n",
       "    </tr>\n",
       "    <tr>\n",
       "      <th>100</th>\n",
       "      <td>Uganda</td>\n",
       "      <td>134</td>\n",
       "      <td>160.0</td>\n",
       "      <td>Africa</td>\n",
       "      <td>no</td>\n",
       "    </tr>\n",
       "    <tr>\n",
       "      <th>101</th>\n",
       "      <td>Upper.Volta</td>\n",
       "      <td>82</td>\n",
       "      <td>180.0</td>\n",
       "      <td>Africa</td>\n",
       "      <td>no</td>\n",
       "    </tr>\n",
       "    <tr>\n",
       "      <th>102</th>\n",
       "      <td>Southern.Yemen</td>\n",
       "      <td>96</td>\n",
       "      <td>80.0</td>\n",
       "      <td>Asia</td>\n",
       "      <td>no</td>\n",
       "    </tr>\n",
       "    <tr>\n",
       "      <th>103</th>\n",
       "      <td>Yemen</td>\n",
       "      <td>77</td>\n",
       "      <td>50.0</td>\n",
       "      <td>Asia</td>\n",
       "      <td>no</td>\n",
       "    </tr>\n",
       "    <tr>\n",
       "      <th>104</th>\n",
       "      <td>Zaire</td>\n",
       "      <td>118</td>\n",
       "      <td>104.0</td>\n",
       "      <td>Africa</td>\n",
       "      <td>no</td>\n",
       "    </tr>\n",
       "  </tbody>\n",
       "</table>\n",
       "<p>105 rows × 5 columns</p>\n",
       "</div>"
      ],
      "text/plain": [
       "            country  income  infant_mortality    region oil\n",
       "0         Australia    3426              26.7      Asia  no\n",
       "1           Austria    3350              23.7    Europe  no\n",
       "2           Belgium    3346              17.0    Europe  no\n",
       "3            Canada    4751              16.8  Americas  no\n",
       "4           Denmark    5029              13.5    Europe  no\n",
       "..              ...     ...               ...       ...  ..\n",
       "100          Uganda     134             160.0    Africa  no\n",
       "101     Upper.Volta      82             180.0    Africa  no\n",
       "102  Southern.Yemen      96              80.0      Asia  no\n",
       "103           Yemen      77              50.0      Asia  no\n",
       "104           Zaire     118             104.0    Africa  no\n",
       "\n",
       "[105 rows x 5 columns]"
      ]
     },
     "execution_count": 31,
     "metadata": {},
     "output_type": "execute_result"
    }
   ],
   "source": [
    "mortality_data = mortality_data[[\"country\", \"income\", \"infant_mortality\", \"region\", \"oil\"]]\n",
    "mortality_data"
   ]
  },
  {
   "cell_type": "code",
   "execution_count": 32,
   "metadata": {},
   "outputs": [],
   "source": [
    "import matplotlib.pyplot as plt"
   ]
  },
  {
   "cell_type": "code",
   "execution_count": 34,
   "metadata": {},
   "outputs": [
    {
     "data": {
      "text/html": [
       "<div>\n",
       "<style scoped>\n",
       "    .dataframe tbody tr th:only-of-type {\n",
       "        vertical-align: middle;\n",
       "    }\n",
       "\n",
       "    .dataframe tbody tr th {\n",
       "        vertical-align: top;\n",
       "    }\n",
       "\n",
       "    .dataframe thead th {\n",
       "        text-align: right;\n",
       "    }\n",
       "</style>\n",
       "<table border=\"1\" class=\"dataframe\">\n",
       "  <thead>\n",
       "    <tr style=\"text-align: right;\">\n",
       "      <th></th>\n",
       "      <th>income</th>\n",
       "      <th>infant_mortality</th>\n",
       "    </tr>\n",
       "  </thead>\n",
       "  <tbody>\n",
       "    <tr>\n",
       "      <th>count</th>\n",
       "      <td>105.000000</td>\n",
       "      <td>101.000000</td>\n",
       "    </tr>\n",
       "    <tr>\n",
       "      <th>mean</th>\n",
       "      <td>998.066667</td>\n",
       "      <td>89.047525</td>\n",
       "    </tr>\n",
       "    <tr>\n",
       "      <th>std</th>\n",
       "      <td>1416.714294</td>\n",
       "      <td>90.801707</td>\n",
       "    </tr>\n",
       "    <tr>\n",
       "      <th>min</th>\n",
       "      <td>50.000000</td>\n",
       "      <td>9.600000</td>\n",
       "    </tr>\n",
       "    <tr>\n",
       "      <th>25%</th>\n",
       "      <td>123.000000</td>\n",
       "      <td>26.200000</td>\n",
       "    </tr>\n",
       "    <tr>\n",
       "      <th>50%</th>\n",
       "      <td>334.000000</td>\n",
       "      <td>60.600000</td>\n",
       "    </tr>\n",
       "    <tr>\n",
       "      <th>75%</th>\n",
       "      <td>1191.000000</td>\n",
       "      <td>129.400000</td>\n",
       "    </tr>\n",
       "    <tr>\n",
       "      <th>max</th>\n",
       "      <td>5596.000000</td>\n",
       "      <td>650.000000</td>\n",
       "    </tr>\n",
       "  </tbody>\n",
       "</table>\n",
       "</div>"
      ],
      "text/plain": [
       "            income  infant_mortality\n",
       "count   105.000000        101.000000\n",
       "mean    998.066667         89.047525\n",
       "std    1416.714294         90.801707\n",
       "min      50.000000          9.600000\n",
       "25%     123.000000         26.200000\n",
       "50%     334.000000         60.600000\n",
       "75%    1191.000000        129.400000\n",
       "max    5596.000000        650.000000"
      ]
     },
     "execution_count": 34,
     "metadata": {},
     "output_type": "execute_result"
    }
   ],
   "source": [
    "mortality_data.describe()"
   ]
  },
  {
   "cell_type": "code",
   "execution_count": 37,
   "metadata": {},
   "outputs": [
    {
     "data": {
      "image/png": "[encoded data removed]",
      "text/plain": [
       "<Figure size 432x288 with 1 Axes>"
      ]
     },
     "metadata": {
      "needs_background": "light"
     },
     "output_type": "display_data"
    }
   ],
   "source": [
    "import matplotlib.pyplot as plt\n",
    "\n",
    "plt.hist(mortality_data[\"infant_mortality\"], bins=20, density=True)\n",
    "plt.xlabel(\"Infant mortality rate\", fontsize=12)\n",
    "plt.ylabel(\"Density\", fontsize=12)\n",
    "plt.show()"
   ]
  },
  {
   "cell_type": "code",
   "execution_count": 38,
   "metadata": {},
   "outputs": [
    {
     "data": {
      "image/png": "[encoded data removed]",
      "text/plain": [
       "<Figure size 432x288 with 1 Axes>"
      ]
     },
     "metadata": {
      "needs_background": "light"
     },
     "output_type": "display_data"
    }
   ],
   "source": [
    "plt.hist(mortality_data[\"income\"], bins=20, density=True)\n",
    "plt.xlabel(\"Infant mortality rate\", fontsize=12)\n",
    "plt.ylabel(\"Density\", fontsize=12)\n",
    "plt.show()"
   ]
  },
  {
   "cell_type": "code",
   "execution_count": 45,
   "metadata": {},
   "outputs": [
    {
     "data": {
      "image/png": "[encoded data removed]",
      "text/plain": [
       "<Figure size 432x288 with 1 Axes>"
      ]
     },
     "metadata": {
      "needs_background": "light"
     },
     "output_type": "display_data"
    }
   ],
   "source": [
    "plt.scatter(mortality_data[\"income\"], mortality_data[\"infant_mortality\"])\n",
    "plt.ylabel(\"Infant mortality rate\", fontsize=12)\n",
    "plt.xlabel(\"Per-capita income\", fontsize=12)\n",
    "plt.show()"
   ]
  },
  {
   "cell_type": "code",
   "execution_count": 46,
   "metadata": {},
   "outputs": [
    {
     "data": {
      "image/png": "[encoded data removed]",
      "text/plain": [
       "<Figure size 432x288 with 1 Axes>"
      ]
     },
     "metadata": {
      "needs_background": "light"
     },
     "output_type": "display_data"
    }
   ],
   "source": [
    "mortality_data_oil_exporting = mortality_data[mortality_data[\"oil\"] == \"yes\"]\n",
    "\n",
    "plt.scatter(mortality_data_oil_exporting[\"income\"], mortality_data_oil_exporting[\"infant_mortality\"])\n",
    "plt.ylabel(\"Infant mortality rate\", fontsize=12)\n",
    "plt.xlabel(\"Per-capita income\", fontsize=12)\n",
    "plt.show()"
   ]
  },
  {
   "cell_type": "code",
   "execution_count": 54,
   "metadata": {},
   "outputs": [
    {
     "data": {
      "image/png": "[encoded data removed]",
      "text/plain": [
       "<Figure size 432x288 with 2 Axes>"
      ]
     },
     "metadata": {
      "needs_background": "light"
     },
     "output_type": "display_data"
    }
   ],
   "source": [
    "import numpy as np\n",
    "\n",
    "fig, axs = plt.subplots(nrows= 1, ncols=3)\n",
    "axs = axs.flatten()\n",
    "\n",
    "log_income = np.log(mortality_data[\"income\"])\n",
    "axs[0].hist(log_income, bins=20, density=True)\n",
    "axs[0].set_xlabel(\"log(per-capita income)\", fontsize=12)\n",
    "axs[0].set_ylabel(\"Density\", fontsize=12)\n",
    "\n",
    "sqrt_income = np.sqrt(mortality_data[\"income\"])\n",
    "axs[1].hist(sqrt_income, bins=20, density=True)\n",
    "axs[1].set_xlabel(\"sqrt(per-capita income)\", fontsize=12)\n",
    "axs[1].set_ylabel(\"Density\", fontsize=12)\n",
    "\n",
    "plt.tight_layout()\n",
    "plt.show()"
   ]
  },
  {
   "cell_type": "code",
   "execution_count": null,
   "metadata": {},
   "outputs": [],
   "source": []
  }
 ],
 "metadata": {
  "kernelspec": {
   "display_name": "Python 3.9.5 ('base')",
   "language": "python",
   "name": "python3"
  },
  "language_info": {
   "codemirror_mode": {
    "name": "ipython",
    "version": 3
   },
   "file_extension": ".py",
   "mimetype": "text/x-python",
   "name": "python",
   "nbconvert_exporter": "python",
   "pygments_lexer": "ipython3",
   "version": "3.9.5"
  },
  "orig_nbformat": 4,
  "vscode": {
   "interpreter": {
    "hash": "9116e7605a3c7636cbb64cda962b2f0e89693208c0f8626394020c0fb858b688"
   }
  }
 },
 "nbformat": 4,
 "nbformat_minor": 2
}
