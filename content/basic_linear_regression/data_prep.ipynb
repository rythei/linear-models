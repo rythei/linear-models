{
 "cells": [
  {
   "cell_type": "code",
   "execution_count": null,
   "metadata": {},
   "outputs": [],
   "source": [
    "with open('datasets/.txt') as f:\n",
    "    lines = f.readlines()"
   ]
  },
  {
   "cell_type": "code",
   "execution_count": 15,
   "metadata": {},
   "outputs": [
    {
     "name": "stdout",
     "output_type": "stream",
     "text": [
      "(105, 5)\n"
     ]
    },
    {
     "data": {
      "text/html": [
       "<div>\n",
       "<style scoped>\n",
       "    .dataframe tbody tr th:only-of-type {\n",
       "        vertical-align: middle;\n",
       "    }\n",
       "\n",
       "    .dataframe tbody tr th {\n",
       "        vertical-align: top;\n",
       "    }\n",
       "\n",
       "    .dataframe thead th {\n",
       "        text-align: right;\n",
       "    }\n",
       "</style>\n",
       "<table border=\"1\" class=\"dataframe\">\n",
       "  <thead>\n",
       "    <tr style=\"text-align: right;\">\n",
       "      <th></th>\n",
       "      <th>country</th>\n",
       "      <th>income</th>\n",
       "      <th>infant_mortality</th>\n",
       "      <th>region</th>\n",
       "      <th>oil</th>\n",
       "    </tr>\n",
       "  </thead>\n",
       "  <tbody>\n",
       "    <tr>\n",
       "      <th>0</th>\n",
       "      <td>Australia</td>\n",
       "      <td>3426</td>\n",
       "      <td>26.7</td>\n",
       "      <td>Asia</td>\n",
       "      <td>no</td>\n",
       "    </tr>\n",
       "    <tr>\n",
       "      <th>1</th>\n",
       "      <td>Austria</td>\n",
       "      <td>3350</td>\n",
       "      <td>23.7</td>\n",
       "      <td>Europe</td>\n",
       "      <td>no</td>\n",
       "    </tr>\n",
       "    <tr>\n",
       "      <th>2</th>\n",
       "      <td>Belgium</td>\n",
       "      <td>3346</td>\n",
       "      <td>17.0</td>\n",
       "      <td>Europe</td>\n",
       "      <td>no</td>\n",
       "    </tr>\n",
       "    <tr>\n",
       "      <th>3</th>\n",
       "      <td>Canada</td>\n",
       "      <td>4751</td>\n",
       "      <td>16.8</td>\n",
       "      <td>Americas</td>\n",
       "      <td>no</td>\n",
       "    </tr>\n",
       "    <tr>\n",
       "      <th>4</th>\n",
       "      <td>Denmark</td>\n",
       "      <td>5029</td>\n",
       "      <td>13.5</td>\n",
       "      <td>Europe</td>\n",
       "      <td>no</td>\n",
       "    </tr>\n",
       "  </tbody>\n",
       "</table>\n",
       "</div>"
      ],
      "text/plain": [
       "     country  income  infant_mortality    region oil\n",
       "0  Australia    3426              26.7      Asia  no\n",
       "1    Austria    3350              23.7    Europe  no\n",
       "2    Belgium    3346              17.0    Europe  no\n",
       "3     Canada    4751              16.8  Americas  no\n",
       "4    Denmark    5029              13.5    Europe  no"
      ]
     },
     "execution_count": 15,
     "metadata": {},
     "output_type": "execute_result"
    }
   ],
   "source": [
    "import pandas as pd\n",
    "\n",
    "\n",
    "mortality_data = pd.read_csv(\"datasets/infant_mortality.csv\")\n",
    "print(mortality_data.shape)\n",
    "mortality_data.head()"
   ]
  },
  {
   "cell_type": "code",
   "execution_count": 16,
   "metadata": {},
   "outputs": [],
   "source": [
    "mortality_data = mortality_data.dropna()"
   ]
  },
  {
   "cell_type": "code",
   "execution_count": 17,
   "metadata": {},
   "outputs": [
    {
     "data": {
      "text/html": [
       "<div>\n",
       "<style scoped>\n",
       "    .dataframe tbody tr th:only-of-type {\n",
       "        vertical-align: middle;\n",
       "    }\n",
       "\n",
       "    .dataframe tbody tr th {\n",
       "        vertical-align: top;\n",
       "    }\n",
       "\n",
       "    .dataframe thead th {\n",
       "        text-align: right;\n",
       "    }\n",
       "</style>\n",
       "<table border=\"1\" class=\"dataframe\">\n",
       "  <thead>\n",
       "    <tr style=\"text-align: right;\">\n",
       "      <th></th>\n",
       "      <th>country</th>\n",
       "      <th>income</th>\n",
       "      <th>infant_mortality</th>\n",
       "      <th>region</th>\n",
       "      <th>oil</th>\n",
       "    </tr>\n",
       "  </thead>\n",
       "  <tbody>\n",
       "    <tr>\n",
       "      <th>0</th>\n",
       "      <td>Australia</td>\n",
       "      <td>3426</td>\n",
       "      <td>26.7</td>\n",
       "      <td>Asia</td>\n",
       "      <td>no</td>\n",
       "    </tr>\n",
       "    <tr>\n",
       "      <th>1</th>\n",
       "      <td>Austria</td>\n",
       "      <td>3350</td>\n",
       "      <td>23.7</td>\n",
       "      <td>Europe</td>\n",
       "      <td>no</td>\n",
       "    </tr>\n",
       "    <tr>\n",
       "      <th>2</th>\n",
       "      <td>Belgium</td>\n",
       "      <td>3346</td>\n",
       "      <td>17.0</td>\n",
       "      <td>Europe</td>\n",
       "      <td>no</td>\n",
       "    </tr>\n",
       "    <tr>\n",
       "      <th>3</th>\n",
       "      <td>Canada</td>\n",
       "      <td>4751</td>\n",
       "      <td>16.8</td>\n",
       "      <td>Americas</td>\n",
       "      <td>no</td>\n",
       "    </tr>\n",
       "    <tr>\n",
       "      <th>4</th>\n",
       "      <td>Denmark</td>\n",
       "      <td>5029</td>\n",
       "      <td>13.5</td>\n",
       "      <td>Europe</td>\n",
       "      <td>no</td>\n",
       "    </tr>\n",
       "    <tr>\n",
       "      <th>...</th>\n",
       "      <td>...</td>\n",
       "      <td>...</td>\n",
       "      <td>...</td>\n",
       "      <td>...</td>\n",
       "      <td>...</td>\n",
       "    </tr>\n",
       "    <tr>\n",
       "      <th>100</th>\n",
       "      <td>Uganda</td>\n",
       "      <td>134</td>\n",
       "      <td>160.0</td>\n",
       "      <td>Africa</td>\n",
       "      <td>no</td>\n",
       "    </tr>\n",
       "    <tr>\n",
       "      <th>101</th>\n",
       "      <td>Upper.Volta</td>\n",
       "      <td>82</td>\n",
       "      <td>180.0</td>\n",
       "      <td>Africa</td>\n",
       "      <td>no</td>\n",
       "    </tr>\n",
       "    <tr>\n",
       "      <th>102</th>\n",
       "      <td>Southern.Yemen</td>\n",
       "      <td>96</td>\n",
       "      <td>80.0</td>\n",
       "      <td>Asia</td>\n",
       "      <td>no</td>\n",
       "    </tr>\n",
       "    <tr>\n",
       "      <th>103</th>\n",
       "      <td>Yemen</td>\n",
       "      <td>77</td>\n",
       "      <td>50.0</td>\n",
       "      <td>Asia</td>\n",
       "      <td>no</td>\n",
       "    </tr>\n",
       "    <tr>\n",
       "      <th>104</th>\n",
       "      <td>Zaire</td>\n",
       "      <td>118</td>\n",
       "      <td>104.0</td>\n",
       "      <td>Africa</td>\n",
       "      <td>no</td>\n",
       "    </tr>\n",
       "  </tbody>\n",
       "</table>\n",
       "<p>101 rows × 5 columns</p>\n",
       "</div>"
      ],
      "text/plain": [
       "            country  income  infant_mortality    region oil\n",
       "0         Australia    3426              26.7      Asia  no\n",
       "1           Austria    3350              23.7    Europe  no\n",
       "2           Belgium    3346              17.0    Europe  no\n",
       "3            Canada    4751              16.8  Americas  no\n",
       "4           Denmark    5029              13.5    Europe  no\n",
       "..              ...     ...               ...       ...  ..\n",
       "100          Uganda     134             160.0    Africa  no\n",
       "101     Upper.Volta      82             180.0    Africa  no\n",
       "102  Southern.Yemen      96              80.0      Asia  no\n",
       "103           Yemen      77              50.0      Asia  no\n",
       "104           Zaire     118             104.0    Africa  no\n",
       "\n",
       "[101 rows x 5 columns]"
      ]
     },
     "execution_count": 17,
     "metadata": {},
     "output_type": "execute_result"
    }
   ],
   "source": [
    "mortality_data"
   ]
  },
  {
   "cell_type": "code",
   "execution_count": 31,
   "metadata": {},
   "outputs": [
    {
     "data": {
      "text/html": [
       "<div>\n",
       "<style scoped>\n",
       "    .dataframe tbody tr th:only-of-type {\n",
       "        vertical-align: middle;\n",
       "    }\n",
       "\n",
       "    .dataframe tbody tr th {\n",
       "        vertical-align: top;\n",
       "    }\n",
       "\n",
       "    .dataframe thead th {\n",
       "        text-align: right;\n",
       "    }\n",
       "</style>\n",
       "<table border=\"1\" class=\"dataframe\">\n",
       "  <thead>\n",
       "    <tr style=\"text-align: right;\">\n",
       "      <th></th>\n",
       "      <th>country</th>\n",
       "      <th>income</th>\n",
       "      <th>infant_mortality</th>\n",
       "      <th>region</th>\n",
       "      <th>oil</th>\n",
       "    </tr>\n",
       "  </thead>\n",
       "  <tbody>\n",
       "    <tr>\n",
       "      <th>0</th>\n",
       "      <td>Australia</td>\n",
       "      <td>3426</td>\n",
       "      <td>26.7</td>\n",
       "      <td>Asia</td>\n",
       "      <td>no</td>\n",
       "    </tr>\n",
       "    <tr>\n",
       "      <th>1</th>\n",
       "      <td>Austria</td>\n",
       "      <td>3350</td>\n",
       "      <td>23.7</td>\n",
       "      <td>Europe</td>\n",
       "      <td>no</td>\n",
       "    </tr>\n",
       "    <tr>\n",
       "      <th>2</th>\n",
       "      <td>Belgium</td>\n",
       "      <td>3346</td>\n",
       "      <td>17.0</td>\n",
       "      <td>Europe</td>\n",
       "      <td>no</td>\n",
       "    </tr>\n",
       "    <tr>\n",
       "      <th>3</th>\n",
       "      <td>Canada</td>\n",
       "      <td>4751</td>\n",
       "      <td>16.8</td>\n",
       "      <td>Americas</td>\n",
       "      <td>no</td>\n",
       "    </tr>\n",
       "    <tr>\n",
       "      <th>4</th>\n",
       "      <td>Denmark</td>\n",
       "      <td>5029</td>\n",
       "      <td>13.5</td>\n",
       "      <td>Europe</td>\n",
       "      <td>no</td>\n",
       "    </tr>\n",
       "    <tr>\n",
       "      <th>...</th>\n",
       "      <td>...</td>\n",
       "      <td>...</td>\n",
       "      <td>...</td>\n",
       "      <td>...</td>\n",
       "      <td>...</td>\n",
       "    </tr>\n",
       "    <tr>\n",
       "      <th>100</th>\n",
       "      <td>Uganda</td>\n",
       "      <td>134</td>\n",
       "      <td>160.0</td>\n",
       "      <td>Africa</td>\n",
       "      <td>no</td>\n",
       "    </tr>\n",
       "    <tr>\n",
       "      <th>101</th>\n",
       "      <td>Upper.Volta</td>\n",
       "      <td>82</td>\n",
       "      <td>180.0</td>\n",
       "      <td>Africa</td>\n",
       "      <td>no</td>\n",
       "    </tr>\n",
       "    <tr>\n",
       "      <th>102</th>\n",
       "      <td>Southern.Yemen</td>\n",
       "      <td>96</td>\n",
       "      <td>80.0</td>\n",
       "      <td>Asia</td>\n",
       "      <td>no</td>\n",
       "    </tr>\n",
       "    <tr>\n",
       "      <th>103</th>\n",
       "      <td>Yemen</td>\n",
       "      <td>77</td>\n",
       "      <td>50.0</td>\n",
       "      <td>Asia</td>\n",
       "      <td>no</td>\n",
       "    </tr>\n",
       "    <tr>\n",
       "      <th>104</th>\n",
       "      <td>Zaire</td>\n",
       "      <td>118</td>\n",
       "      <td>104.0</td>\n",
       "      <td>Africa</td>\n",
       "      <td>no</td>\n",
       "    </tr>\n",
       "  </tbody>\n",
       "</table>\n",
       "<p>105 rows × 5 columns</p>\n",
       "</div>"
      ],
      "text/plain": [
       "            country  income  infant_mortality    region oil\n",
       "0         Australia    3426              26.7      Asia  no\n",
       "1           Austria    3350              23.7    Europe  no\n",
       "2           Belgium    3346              17.0    Europe  no\n",
       "3            Canada    4751              16.8  Americas  no\n",
       "4           Denmark    5029              13.5    Europe  no\n",
       "..              ...     ...               ...       ...  ..\n",
       "100          Uganda     134             160.0    Africa  no\n",
       "101     Upper.Volta      82             180.0    Africa  no\n",
       "102  Southern.Yemen      96              80.0      Asia  no\n",
       "103           Yemen      77              50.0      Asia  no\n",
       "104           Zaire     118             104.0    Africa  no\n",
       "\n",
       "[105 rows x 5 columns]"
      ]
     },
     "execution_count": 31,
     "metadata": {},
     "output_type": "execute_result"
    }
   ],
   "source": [
    "mortality_data = mortality_data[[\"country\", \"income\", \"infant_mortality\", \"region\", \"oil\"]]\n",
    "mortality_data"
   ]
  },
  {
   "cell_type": "code",
   "execution_count": 32,
   "metadata": {},
   "outputs": [],
   "source": [
    "import matplotlib.pyplot as plt"
   ]
  },
  {
   "cell_type": "code",
   "execution_count": 34,
   "metadata": {},
   "outputs": [
    {
     "data": {
      "text/html": [
       "<div>\n",
       "<style scoped>\n",
       "    .dataframe tbody tr th:only-of-type {\n",
       "        vertical-align: middle;\n",
       "    }\n",
       "\n",
       "    .dataframe tbody tr th {\n",
       "        vertical-align: top;\n",
       "    }\n",
       "\n",
       "    .dataframe thead th {\n",
       "        text-align: right;\n",
       "    }\n",
       "</style>\n",
       "<table border=\"1\" class=\"dataframe\">\n",
       "  <thead>\n",
       "    <tr style=\"text-align: right;\">\n",
       "      <th></th>\n",
       "      <th>income</th>\n",
       "      <th>infant_mortality</th>\n",
       "    </tr>\n",
       "  </thead>\n",
       "  <tbody>\n",
       "    <tr>\n",
       "      <th>count</th>\n",
       "      <td>105.000000</td>\n",
       "      <td>101.000000</td>\n",
       "    </tr>\n",
       "    <tr>\n",
       "      <th>mean</th>\n",
       "      <td>998.066667</td>\n",
       "      <td>89.047525</td>\n",
       "    </tr>\n",
       "    <tr>\n",
       "      <th>std</th>\n",
       "      <td>1416.714294</td>\n",
       "      <td>90.801707</td>\n",
       "    </tr>\n",
       "    <tr>\n",
       "      <th>min</th>\n",
       "      <td>50.000000</td>\n",
       "      <td>9.600000</td>\n",
       "    </tr>\n",
       "    <tr>\n",
       "      <th>25%</th>\n",
       "      <td>123.000000</td>\n",
       "      <td>26.200000</td>\n",
       "    </tr>\n",
       "    <tr>\n",
       "      <th>50%</th>\n",
       "      <td>334.000000</td>\n",
       "      <td>60.600000</td>\n",
       "    </tr>\n",
       "    <tr>\n",
       "      <th>75%</th>\n",
       "      <td>1191.000000</td>\n",
       "      <td>129.400000</td>\n",
       "    </tr>\n",
       "    <tr>\n",
       "      <th>max</th>\n",
       "      <td>5596.000000</td>\n",
       "      <td>650.000000</td>\n",
       "    </tr>\n",
       "  </tbody>\n",
       "</table>\n",
       "</div>"
      ],
      "text/plain": [
       "            income  infant_mortality\n",
       "count   105.000000        101.000000\n",
       "mean    998.066667         89.047525\n",
       "std    1416.714294         90.801707\n",
       "min      50.000000          9.600000\n",
       "25%     123.000000         26.200000\n",
       "50%     334.000000         60.600000\n",
       "75%    1191.000000        129.400000\n",
       "max    5596.000000        650.000000"
      ]
     },
     "execution_count": 34,
     "metadata": {},
     "output_type": "execute_result"
    }
   ],
   "source": [
    "mortality_data.describe()"
   ]
  },
  {
   "cell_type": "code",
   "execution_count": 37,
   "metadata": {},
   "outputs": [
    {
     "data": {
      "image/png": "[encoded data removed]",
      "text/plain": [
       "<Figure size 432x288 with 1 Axes>"
      ]
     },
     "metadata": {
      "needs_background": "light"
     },
     "output_type": "display_data"
    }
   ],
   "source": [
    "import matplotlib.pyplot as plt\n",
    "\n",
    "plt.hist(mortality_data[\"infant_mortality\"], bins=20, density=True)\n",
    "plt.xlabel(\"Infant mortality rate\", fontsize=12)\n",
    "plt.ylabel(\"Density\", fontsize=12)\n",
    "plt.show()"
   ]
  },
  {
   "cell_type": "code",
   "execution_count": 38,
   "metadata": {},
   "outputs": [
    {
     "data": {
      "image/png": "[encoded data removed]",
      "text/plain": [
       "<Figure size 432x288 with 1 Axes>"
      ]
     },
     "metadata": {
      "needs_background": "light"
     },
     "output_type": "display_data"
    }
   ],
   "source": [
    "plt.hist(mortality_data[\"income\"], bins=20, density=True)\n",
    "plt.xlabel(\"Infant mortality rate\", fontsize=12)\n",
    "plt.ylabel(\"Density\", fontsize=12)\n",
    "plt.show()"
   ]
  },
  {
   "cell_type": "code",
   "execution_count": 45,
   "metadata": {},
   "outputs": [
    {
     "data": {
      "image/png": "[encoded data removed]",
      "text/plain": [
       "<Figure size 432x288 with 1 Axes>"
      ]
     },
     "metadata": {
      "needs_background": "light"
     },
     "output_type": "display_data"
    }
   ],
   "source": [
    "plt.scatter(mortality_data[\"income\"], mortality_data[\"infant_mortality\"])\n",
    "plt.ylabel(\"Infant mortality rate\", fontsize=12)\n",
    "plt.xlabel(\"Per-capita income\", fontsize=12)\n",
    "plt.show()"
   ]
  },
  {
   "cell_type": "code",
   "execution_count": 46,
   "metadata": {},
   "outputs": [
    {
     "data": {
      "image/png": "[encoded data removed]",
      "text/plain": [
       "<Figure size 432x288 with 1 Axes>"
      ]
     },
     "metadata": {
      "needs_background": "light"
     },
     "output_type": "display_data"
    }
   ],
   "source": [
    "mortality_data_oil_exporting = mortality_data[mortality_data[\"oil\"] == \"yes\"]\n",
    "\n",
    "plt.scatter(mortality_data_oil_exporting[\"income\"], mortality_data_oil_exporting[\"infant_mortality\"])\n",
    "plt.ylabel(\"Infant mortality rate\", fontsize=12)\n",
    "plt.xlabel(\"Per-capita income\", fontsize=12)\n",
    "plt.show()"
   ]
  },
  {
   "cell_type": "code",
   "execution_count": 57,
   "metadata": {},
   "outputs": [
    {
     "data": {
      "image/png": "[encoded data removed]",
      "text/plain": [
       "<Figure size 864x432 with 3 Axes>"
      ]
     },
     "metadata": {
      "needs_background": "light"
     },
     "output_type": "display_data"
    }
   ],
   "source": [
    "import numpy as np\n",
    "\n",
    "fig, axs = plt.subplots(nrows= 1, ncols=3, figsize=(12,6))\n",
    "axs = axs.flatten()\n",
    "\n",
    "axs[0].hist(mortality_data[\"income\"], bins=10, density=True)\n",
    "axs[0].set_xlabel(\"sqrt(per-capita income)\", fontsize=12)\n",
    "axs[0].set_ylabel(\"Density\", fontsize=12)\n",
    "\n",
    "sqrt_income = np.sqrt(mortality_data[\"income\"])\n",
    "axs[1].hist(sqrt_income, bins=10, density=True)\n",
    "axs[1].set_xlabel(\"sqrt(per-capita income)\", fontsize=12)\n",
    "axs[1].set_ylabel(\"Density\", fontsize=12)\n",
    "\n",
    "log_income = np.log(mortality_data[\"income\"])\n",
    "axs[2].hist(log_income, bins=10, density=True)\n",
    "axs[2].set_xlabel(\"log(per-capita income)\", fontsize=12)\n",
    "axs[2].set_ylabel(\"Density\", fontsize=12)\n",
    "\n",
    "plt.tight_layout()\n",
    "plt.show()"
   ]
  },
  {
   "cell_type": "code",
   "execution_count": 18,
   "metadata": {},
   "outputs": [
    {
     "data": {
      "image/png": "[encoded data removed]",
      "text/plain": [
       "<Figure size 432x432 with 3 Axes>"
      ]
     },
     "metadata": {
      "needs_background": "light"
     },
     "output_type": "display_data"
    }
   ],
   "source": [
    "import matplotlib.pyplot as plt\n",
    "import seaborn as sns\n",
    "import numpy as np\n",
    "\n",
    "# calling .to_numpy() on a column of a DataFrame gives you a numpy array back\n",
    "log_income = np.log(mortality_data[\"income\"].to_numpy())\n",
    "log_infant_mortality = np.log(mortality_data[\"infant_mortality\"].to_numpy())\n",
    "\n",
    "sns.jointplot(x=log_infant_mortality, y=log_income)\n",
    "plt.xlabel(\"log(Infant mortality rate)\", fontsize=12)\n",
    "plt.ylabel(\"log(Per-capita income)\", fontsize=12)\n",
    "plt.show()"
   ]
  },
  {
   "cell_type": "code",
   "execution_count": 19,
   "metadata": {},
   "outputs": [],
   "source": [
    "def pearson_corr(x,y):\n",
    "    # first compute the means of the two vectors\n",
    "    x_bar = np.mean(x)\n",
    "    y_bar = np.mean(y)\n",
    "\n",
    "    # compute numerator (1/n)*\\sum_i (x_i - x_bar)*(y_i - y_bar)\n",
    "    cov_xy = np.sum((x-x_bar)*(y-y_bar))/len(x)\n",
    "\n",
    "    # compute the variance of x and y\n",
    "    var_x = np.sum((x-x_bar)**2)/len(x)\n",
    "    var_y = np.sum((y-y_bar)**2)/len(y)\n",
    "    print(var_x, var_y)\n",
    "\n",
    "    # compute the correlation\n",
    "    r = cov_xy/np.sqrt(var_x*var_y)\n",
    "\n",
    "    return r"
   ]
  },
  {
   "cell_type": "code",
   "execution_count": 20,
   "metadata": {},
   "outputs": [
    {
     "name": "stdout",
     "output_type": "stream",
     "text": [
      "1.7797381408699178 0.9284024612726909\n"
     ]
    },
    {
     "data": {
      "text/plain": [
       "-0.7086068160294183"
      ]
     },
     "execution_count": 20,
     "metadata": {},
     "output_type": "execute_result"
    }
   ],
   "source": [
    "r = pearson_corr(log_income, log_infant_mortality)\n",
    "r"
   ]
  },
  {
   "cell_type": "code",
   "execution_count": 21,
   "metadata": {},
   "outputs": [
    {
     "data": {
      "text/plain": [
       "array([3.28466357, 3.16547505, 2.83321334, 2.82137889, 2.60268969,\n",
       "       2.31253542, 2.55722731, 3.0155349 , 2.87919846, 3.24649099,\n",
       "       2.45958884, 2.4510051 , 2.78501124, 2.42480273, 3.80220814,\n",
       "       4.26969745, 2.2617631 , 2.54944517, 2.86220088, 2.8678989 ,\n",
       "       4.4578296 , 4.36309862, 4.82831374, 3.33576958, 5.70378247,\n",
       "       4.06044301, 6.47697236, 3.94545778, 4.08765557, 5.13579844,\n",
       "       4.35670883, 4.13995507, 3.99636415, 3.88773031, 3.32503602,\n",
       "       4.37071287, 3.09557761, 3.26575941, 2.61006979, 3.4657359 ,\n",
       "       4.10923317, 3.8286414 , 3.52929738, 4.17592455, 3.0155349 ,\n",
       "       2.71469474, 2.94968834, 3.26575941, 4.33467294, 3.69882978,\n",
       "       3.76815264, 5.55682806, 4.1009891 , 4.91998093, 5.19295685,\n",
       "       4.73619845, 4.06388535, 4.15418456, 3.67122452, 4.92725369,\n",
       "       3.05870707, 4.06044301, 5.07016127, 5.00394631, 2.32238772,\n",
       "       3.65325228, 4.21803603, 3.07731226, 3.29583687, 5.03043792,\n",
       "       4.60517019, 5.99146455, 4.822698  , 5.29831737, 5.01063529,\n",
       "       4.60517019, 5.24702407, 5.07517382, 4.69683737, 4.43319492,\n",
       "       5.37527841, 4.10429489, 4.00733319, 4.62497281, 4.99923725,\n",
       "       4.78749174, 5.23110862, 5.29831737, 4.822698  , 4.88959697,\n",
       "       5.13579844, 5.06259503, 3.80888225, 4.86290838, 5.090678  ,\n",
       "       4.84418709, 5.07517382, 5.19295685, 4.38202663, 3.91202301,\n",
       "       4.6443909 ])"
      ]
     },
     "execution_count": 21,
     "metadata": {},
     "output_type": "execute_result"
    }
   ],
   "source": [
    "log_infant_mortality"
   ]
  },
  {
   "cell_type": "code",
   "execution_count": 22,
   "metadata": {},
   "outputs": [],
   "source": [
    "def fit_line(x, y):\n",
    "    # first compute the means of the two vectors\n",
    "    x_bar = np.mean(x)\n",
    "    y_bar = np.mean(y)\n",
    "\n",
    "    # compute numerator (1/n)*\\sum_i (x_i - x_bar)*(y_i - y_bar)\n",
    "    cov_xy = np.sum((x-x_bar)*(y-y_bar))/len(x)\n",
    "\n",
    "    # compute the variance of x and y\n",
    "    var_x = np.sum((x-x_bar)**2)/len(x)\n",
    "    \n",
    "    # compute beta_hat\n",
    "    beta_hat = cov_xy/var_x\n",
    "    \n",
    "    # compute alpha_hat\n",
    "    alpha_hat = y_bar - beta_hat*x_bar\n",
    "\n",
    "    return alpha_hat, beta_hat"
   ]
  },
  {
   "cell_type": "code",
   "execution_count": 26,
   "metadata": {},
   "outputs": [
    {
     "data": {
      "text/plain": [
       "(10.015182459015683, -0.9811044324011452)"
      ]
     },
     "execution_count": 26,
     "metadata": {},
     "output_type": "execute_result"
    }
   ],
   "source": [
    "alpha_hat, beta_hat = fit_line(log_infant_mortality, log_income)\n",
    "alpha_hat, beta_hat"
   ]
  },
  {
   "cell_type": "code",
   "execution_count": 27,
   "metadata": {},
   "outputs": [
    {
     "data": {
      "image/png": "[encoded data removed]",
      "text/plain": [
       "<Figure size 432x288 with 1 Axes>"
      ]
     },
     "metadata": {
      "needs_background": "light"
     },
     "output_type": "display_data"
    }
   ],
   "source": [
    "xx = np.linspace(2,7,5)\n",
    "yy = alpha_hat + beta_hat*xx\n",
    "plt.scatter(log_infant_mortality, log_income)\n",
    "plt.plot(xx, yy, color='red', linestyle='--')\n",
    "plt.xlabel(\"log(Infant mortality rate)\", fontsize=12)\n",
    "plt.ylabel(\"log(Per-capita income)\", fontsize=12)\n",
    "plt.show()"
   ]
  },
  {
   "cell_type": "code",
   "execution_count": null,
   "metadata": {},
   "outputs": [],
   "source": []
  }
 ],
 "metadata": {
  "kernelspec": {
   "display_name": "Python 3",
   "language": "python",
   "name": "python3"
  },
  "language_info": {
   "codemirror_mode": {
    "name": "ipython",
    "version": 3
   },
   "file_extension": ".py",
   "mimetype": "text/x-python",
   "name": "python",
   "nbconvert_exporter": "python",
   "pygments_lexer": "ipython3",
   "version": "3.9.5"
  },
  "vscode": {
   "interpreter": {
    "hash": "9116e7605a3c7636cbb64cda962b2f0e89693208c0f8626394020c0fb858b688"
   }
  }
 },
 "nbformat": 4,
 "nbformat_minor": 2
}
