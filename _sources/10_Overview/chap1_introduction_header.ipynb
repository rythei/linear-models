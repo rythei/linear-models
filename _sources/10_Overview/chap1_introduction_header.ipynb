{
 "cells": [
  {
   "cell_type": "markdown",
   "id": "ethical-latin",
   "metadata": {},
   "source": [
    "# (CH1): Introduction and Overview\n",
    "\n",
    "Here, we will provide an introduction and overview to some of the topics that we will cover this term.\n",
    "\n",
    "\n",
    "\n",
    "\n",
    "```{toctree}\n",
    ":hidden:\n",
    ":titlesonly:\n",
    "\n",
    "\n",
    "chap1_overview\n",
    "chap1_examples\n",
    "```"
   ]
  }
 ],
 "metadata": {
  "jupytext": {
   "formats": "md:myst",
   "text_representation": {
    "extension": ".md",
    "format_name": "myst"
   }
  },
  "kernelspec": {
   "display_name": "Python 3",
   "language": "python",
   "name": "python3"
  },
  "language_info": {
   "codemirror_mode": {
    "name": "ipython",
    "version": 3
   },
   "file_extension": ".py",
   "mimetype": "text/x-python",
   "name": "python",
   "nbconvert_exporter": "python",
   "pygments_lexer": "ipython3",
   "version": "3.7.7"
  },
  "source_map": [
   11
  ]
 },
 "nbformat": 4,
 "nbformat_minor": 5
}