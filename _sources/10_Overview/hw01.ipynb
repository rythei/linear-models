{
 "cells": [
  {
   "cell_type": "markdown",
   "id": "active-disney",
   "metadata": {},
   "source": [
    "# Homework 1\n",
    "\n",
    "In this assignment, we will practice using python to perform basic set operations. Problem 1 asks you to use python's set objects (covered in Section 2.1 of the workbook); problems 2, 3 and 4 ask you to use inner and outer join operations on a dataframe (covered in Section 2.2 of the workbook). We will use sets we construct as well as the ```students``` dataframe introduced in Section 2.2.\n",
    "\n",
    "## Problem 1: Sets and Set Algebra in Python\n",
    "\n",
    "### Part A\n",
    "Create the following 4 sets.\n",
    "\n",
    "* Set $A$ contains all even natural numbers (without zero) that are smaller or equal to 200.\n",
    "* Set $B$ contains all odd natural numbers (without zero) that are smaller or equal to 200.\n",
    "* Set $C := \\{5n | n \\in \\mathbb{N}^*, n\\le 200\\}$.\n",
    "* Set $D$ contains all natural numbers (without zero) that are smaller or equal to 200.\n",
    "\n",
    "Note: Printing all even or odd numbers in a given range are typically coding questions during a job interview."
   ]
  },
  {
   "cell_type": "code",
   "execution_count": 1,
   "id": "restricted-membrane",
   "metadata": {},
   "outputs": [],
   "source": [
    "### Your Code Goes Below ###"
   ]
  },
  {
   "cell_type": "code",
   "execution_count": 2,
   "id": "comic-polyester",
   "metadata": {},
   "outputs": [],
   "source": [
    "### Your Code Goes Below ###"
   ]
  },
  {
   "cell_type": "code",
   "execution_count": 3,
   "id": "korean-gothic",
   "metadata": {},
   "outputs": [],
   "source": [
    "### Your Code Goes Below ###"
   ]
  },
  {
   "cell_type": "code",
   "execution_count": 4,
   "id": "asian-prevention",
   "metadata": {},
   "outputs": [],
   "source": [
    "### Your Code Goes Below ###"
   ]
  },
  {
   "cell_type": "markdown",
   "id": "external-excuse",
   "metadata": {},
   "source": [
    "### Part B\n",
    "\n",
    "* i) What is the cardinality of the set $A\\cup B \\cup C$\n",
    "* ii) What is the cardinality of the set $A\\cap B$\n",
    "* iii) What is the cardinality of the set $A\\cap D$\n",
    "* iv)  What is the cardinality of the relative complement $A\\backslash D$ \n",
    "* v)  What is the cardinality of the relative complement $D\\backslash B$"
   ]
  },
  {
   "cell_type": "code",
   "execution_count": 5,
   "id": "convenient-banana",
   "metadata": {},
   "outputs": [],
   "source": [
    "### Your Code Goes Below ###"
   ]
  },
  {
   "cell_type": "code",
   "execution_count": 6,
   "id": "adult-grounds",
   "metadata": {},
   "outputs": [],
   "source": [
    "### Your Code Goes Below ###"
   ]
  },
  {
   "cell_type": "code",
   "execution_count": 7,
   "id": "periodic-absolute",
   "metadata": {},
   "outputs": [],
   "source": [
    "### Your Code Goes Below ###"
   ]
  },
  {
   "cell_type": "code",
   "execution_count": 8,
   "id": "nervous-orientation",
   "metadata": {},
   "outputs": [],
   "source": [
    "### Your Code Goes Below ###"
   ]
  },
  {
   "cell_type": "code",
   "execution_count": 9,
   "id": "retired-calendar",
   "metadata": {},
   "outputs": [],
   "source": [
    "### Your Code Goes Below ###"
   ]
  },
  {
   "cell_type": "markdown",
   "id": "expanded-japanese",
   "metadata": {},
   "source": [
    "### Part C\n",
    "Varify that De Morgan's law of intersection $(A\\cap B)^c = A^c \\cup B^c$ holds for this example."
   ]
  },
  {
   "cell_type": "code",
   "execution_count": 10,
   "id": "plastic-dairy",
   "metadata": {},
   "outputs": [],
   "source": [
    "### Your Code Goes Below ###"
   ]
  },
  {
   "cell_type": "code",
   "execution_count": 11,
   "id": "experienced-papua",
   "metadata": {},
   "outputs": [],
   "source": [
    "### Your Code Goes Below ###"
   ]
  },
  {
   "cell_type": "code",
   "execution_count": 12,
   "id": "polyphonic-distributor",
   "metadata": {},
   "outputs": [],
   "source": [
    "### Your Code Goes Below ###"
   ]
  },
  {
   "cell_type": "code",
   "execution_count": 13,
   "id": "democratic-interim",
   "metadata": {},
   "outputs": [
    {
     "ename": "FileNotFoundError",
     "evalue": "[Errno 2] No such file or directory: '../datasets/circuit_courts.csv'",
     "output_type": "error",
     "traceback": [
      "\u001b[0;31m---------------------------------------------------------------------------\u001b[0m",
      "\u001b[0;31mFileNotFoundError\u001b[0m                         Traceback (most recent call last)",
      "\u001b[0;32m<ipython-input-13-fd87cfdbbe28>\u001b[0m in \u001b[0;36m<module>\u001b[0;34m\u001b[0m\n\u001b[1;32m      1\u001b[0m \u001b[0;32mimport\u001b[0m \u001b[0mpandas\u001b[0m \u001b[0;32mas\u001b[0m \u001b[0mpd\u001b[0m\u001b[0;34m\u001b[0m\u001b[0;34m\u001b[0m\u001b[0m\n\u001b[0;32m----> 2\u001b[0;31m \u001b[0;32mfrom\u001b[0m \u001b[0mdatasets\u001b[0m \u001b[0;32mimport\u001b[0m \u001b[0mstudents\u001b[0m\u001b[0;34m\u001b[0m\u001b[0;34m\u001b[0m\u001b[0m\n\u001b[0m\u001b[1;32m      3\u001b[0m \u001b[0mstudents\u001b[0m\u001b[0;34m\u001b[0m\u001b[0;34m\u001b[0m\u001b[0m\n",
      "\u001b[0;32m/Volumes/GoogleDrive-112349428810515690974/My Drive/PhD/Teaching/Stat89A_Spring2022/linalg-for-datasci/10_Overview/datasets.py\u001b[0m in \u001b[0;36m<module>\u001b[0;34m\u001b[0m\n\u001b[1;32m      5\u001b[0m \u001b[0mHERE\u001b[0m \u001b[0;34m=\u001b[0m \u001b[0;34m\"../datasets/\"\u001b[0m\u001b[0;34m\u001b[0m\u001b[0;34m\u001b[0m\u001b[0m\n\u001b[1;32m      6\u001b[0m \u001b[0;34m\u001b[0m\u001b[0m\n\u001b[0;32m----> 7\u001b[0;31m \u001b[0mcircuit_courts\u001b[0m \u001b[0;34m=\u001b[0m \u001b[0mpd\u001b[0m\u001b[0;34m.\u001b[0m\u001b[0mread_csv\u001b[0m\u001b[0;34m(\u001b[0m\u001b[0mos\u001b[0m\u001b[0;34m.\u001b[0m\u001b[0mpath\u001b[0m\u001b[0;34m.\u001b[0m\u001b[0mjoin\u001b[0m\u001b[0;34m(\u001b[0m\u001b[0mHERE\u001b[0m\u001b[0;34m,\u001b[0m \u001b[0;34m\"circuit_courts.csv\"\u001b[0m\u001b[0;34m)\u001b[0m\u001b[0;34m)\u001b[0m\u001b[0;34m\u001b[0m\u001b[0;34m\u001b[0m\u001b[0m\n\u001b[0m\u001b[1;32m      8\u001b[0m \u001b[0;34m\u001b[0m\u001b[0m\n\u001b[1;32m      9\u001b[0m \u001b[0mdiscretized_functions\u001b[0m \u001b[0;34m=\u001b[0m \u001b[0mpd\u001b[0m\u001b[0;34m.\u001b[0m\u001b[0mread_csv\u001b[0m\u001b[0;34m(\u001b[0m\u001b[0mos\u001b[0m\u001b[0;34m.\u001b[0m\u001b[0mpath\u001b[0m\u001b[0;34m.\u001b[0m\u001b[0mjoin\u001b[0m\u001b[0;34m(\u001b[0m\u001b[0mHERE\u001b[0m\u001b[0;34m,\u001b[0m \u001b[0;34m\"discretized_functions.csv\"\u001b[0m\u001b[0;34m)\u001b[0m\u001b[0;34m)\u001b[0m\u001b[0;34m\u001b[0m\u001b[0;34m\u001b[0m\u001b[0m\n",
      "\u001b[0;32m/usr/local/lib/python3.7/site-packages/pandas/io/parsers.py\u001b[0m in \u001b[0;36mread_csv\u001b[0;34m(filepath_or_buffer, sep, delimiter, header, names, index_col, usecols, squeeze, prefix, mangle_dupe_cols, dtype, engine, converters, true_values, false_values, skipinitialspace, skiprows, skipfooter, nrows, na_values, keep_default_na, na_filter, verbose, skip_blank_lines, parse_dates, infer_datetime_format, keep_date_col, date_parser, dayfirst, cache_dates, iterator, chunksize, compression, thousands, decimal, lineterminator, quotechar, quoting, doublequote, escapechar, comment, encoding, dialect, error_bad_lines, warn_bad_lines, delim_whitespace, low_memory, memory_map, float_precision, storage_options)\u001b[0m\n\u001b[1;32m    603\u001b[0m     \u001b[0mkwds\u001b[0m\u001b[0;34m.\u001b[0m\u001b[0mupdate\u001b[0m\u001b[0;34m(\u001b[0m\u001b[0mkwds_defaults\u001b[0m\u001b[0;34m)\u001b[0m\u001b[0;34m\u001b[0m\u001b[0;34m\u001b[0m\u001b[0m\n\u001b[1;32m    604\u001b[0m \u001b[0;34m\u001b[0m\u001b[0m\n\u001b[0;32m--> 605\u001b[0;31m     \u001b[0;32mreturn\u001b[0m \u001b[0m_read\u001b[0m\u001b[0;34m(\u001b[0m\u001b[0mfilepath_or_buffer\u001b[0m\u001b[0;34m,\u001b[0m \u001b[0mkwds\u001b[0m\u001b[0;34m)\u001b[0m\u001b[0;34m\u001b[0m\u001b[0;34m\u001b[0m\u001b[0m\n\u001b[0m\u001b[1;32m    606\u001b[0m \u001b[0;34m\u001b[0m\u001b[0m\n\u001b[1;32m    607\u001b[0m \u001b[0;34m\u001b[0m\u001b[0m\n",
      "\u001b[0;32m/usr/local/lib/python3.7/site-packages/pandas/io/parsers.py\u001b[0m in \u001b[0;36m_read\u001b[0;34m(filepath_or_buffer, kwds)\u001b[0m\n\u001b[1;32m    455\u001b[0m \u001b[0;34m\u001b[0m\u001b[0m\n\u001b[1;32m    456\u001b[0m     \u001b[0;31m# Create the parser.\u001b[0m\u001b[0;34m\u001b[0m\u001b[0;34m\u001b[0m\u001b[0;34m\u001b[0m\u001b[0m\n\u001b[0;32m--> 457\u001b[0;31m     \u001b[0mparser\u001b[0m \u001b[0;34m=\u001b[0m \u001b[0mTextFileReader\u001b[0m\u001b[0;34m(\u001b[0m\u001b[0mfilepath_or_buffer\u001b[0m\u001b[0;34m,\u001b[0m \u001b[0;34m**\u001b[0m\u001b[0mkwds\u001b[0m\u001b[0;34m)\u001b[0m\u001b[0;34m\u001b[0m\u001b[0;34m\u001b[0m\u001b[0m\n\u001b[0m\u001b[1;32m    458\u001b[0m \u001b[0;34m\u001b[0m\u001b[0m\n\u001b[1;32m    459\u001b[0m     \u001b[0;32mif\u001b[0m \u001b[0mchunksize\u001b[0m \u001b[0;32mor\u001b[0m \u001b[0miterator\u001b[0m\u001b[0;34m:\u001b[0m\u001b[0;34m\u001b[0m\u001b[0;34m\u001b[0m\u001b[0m\n",
      "\u001b[0;32m/usr/local/lib/python3.7/site-packages/pandas/io/parsers.py\u001b[0m in \u001b[0;36m__init__\u001b[0;34m(self, f, engine, **kwds)\u001b[0m\n\u001b[1;32m    812\u001b[0m             \u001b[0mself\u001b[0m\u001b[0;34m.\u001b[0m\u001b[0moptions\u001b[0m\u001b[0;34m[\u001b[0m\u001b[0;34m\"has_index_names\"\u001b[0m\u001b[0;34m]\u001b[0m \u001b[0;34m=\u001b[0m \u001b[0mkwds\u001b[0m\u001b[0;34m[\u001b[0m\u001b[0;34m\"has_index_names\"\u001b[0m\u001b[0;34m]\u001b[0m\u001b[0;34m\u001b[0m\u001b[0;34m\u001b[0m\u001b[0m\n\u001b[1;32m    813\u001b[0m \u001b[0;34m\u001b[0m\u001b[0m\n\u001b[0;32m--> 814\u001b[0;31m         \u001b[0mself\u001b[0m\u001b[0;34m.\u001b[0m\u001b[0m_engine\u001b[0m \u001b[0;34m=\u001b[0m \u001b[0mself\u001b[0m\u001b[0;34m.\u001b[0m\u001b[0m_make_engine\u001b[0m\u001b[0;34m(\u001b[0m\u001b[0mself\u001b[0m\u001b[0;34m.\u001b[0m\u001b[0mengine\u001b[0m\u001b[0;34m)\u001b[0m\u001b[0;34m\u001b[0m\u001b[0;34m\u001b[0m\u001b[0m\n\u001b[0m\u001b[1;32m    815\u001b[0m \u001b[0;34m\u001b[0m\u001b[0m\n\u001b[1;32m    816\u001b[0m     \u001b[0;32mdef\u001b[0m \u001b[0mclose\u001b[0m\u001b[0;34m(\u001b[0m\u001b[0mself\u001b[0m\u001b[0;34m)\u001b[0m\u001b[0;34m:\u001b[0m\u001b[0;34m\u001b[0m\u001b[0;34m\u001b[0m\u001b[0m\n",
      "\u001b[0;32m/usr/local/lib/python3.7/site-packages/pandas/io/parsers.py\u001b[0m in \u001b[0;36m_make_engine\u001b[0;34m(self, engine)\u001b[0m\n\u001b[1;32m   1043\u001b[0m             )\n\u001b[1;32m   1044\u001b[0m         \u001b[0;31m# error: Too many arguments for \"ParserBase\"\u001b[0m\u001b[0;34m\u001b[0m\u001b[0;34m\u001b[0m\u001b[0;34m\u001b[0m\u001b[0m\n\u001b[0;32m-> 1045\u001b[0;31m         \u001b[0;32mreturn\u001b[0m \u001b[0mmapping\u001b[0m\u001b[0;34m[\u001b[0m\u001b[0mengine\u001b[0m\u001b[0;34m]\u001b[0m\u001b[0;34m(\u001b[0m\u001b[0mself\u001b[0m\u001b[0;34m.\u001b[0m\u001b[0mf\u001b[0m\u001b[0;34m,\u001b[0m \u001b[0;34m**\u001b[0m\u001b[0mself\u001b[0m\u001b[0;34m.\u001b[0m\u001b[0moptions\u001b[0m\u001b[0;34m)\u001b[0m  \u001b[0;31m# type: ignore[call-arg]\u001b[0m\u001b[0;34m\u001b[0m\u001b[0;34m\u001b[0m\u001b[0m\n\u001b[0m\u001b[1;32m   1046\u001b[0m \u001b[0;34m\u001b[0m\u001b[0m\n\u001b[1;32m   1047\u001b[0m     \u001b[0;32mdef\u001b[0m \u001b[0m_failover_to_python\u001b[0m\u001b[0;34m(\u001b[0m\u001b[0mself\u001b[0m\u001b[0;34m)\u001b[0m\u001b[0;34m:\u001b[0m\u001b[0;34m\u001b[0m\u001b[0;34m\u001b[0m\u001b[0m\n",
      "\u001b[0;32m/usr/local/lib/python3.7/site-packages/pandas/io/parsers.py\u001b[0m in \u001b[0;36m__init__\u001b[0;34m(self, src, **kwds)\u001b[0m\n\u001b[1;32m   1860\u001b[0m \u001b[0;34m\u001b[0m\u001b[0m\n\u001b[1;32m   1861\u001b[0m         \u001b[0;31m# open handles\u001b[0m\u001b[0;34m\u001b[0m\u001b[0;34m\u001b[0m\u001b[0;34m\u001b[0m\u001b[0m\n\u001b[0;32m-> 1862\u001b[0;31m         \u001b[0mself\u001b[0m\u001b[0;34m.\u001b[0m\u001b[0m_open_handles\u001b[0m\u001b[0;34m(\u001b[0m\u001b[0msrc\u001b[0m\u001b[0;34m,\u001b[0m \u001b[0mkwds\u001b[0m\u001b[0;34m)\u001b[0m\u001b[0;34m\u001b[0m\u001b[0;34m\u001b[0m\u001b[0m\n\u001b[0m\u001b[1;32m   1863\u001b[0m         \u001b[0;32massert\u001b[0m \u001b[0mself\u001b[0m\u001b[0;34m.\u001b[0m\u001b[0mhandles\u001b[0m \u001b[0;32mis\u001b[0m \u001b[0;32mnot\u001b[0m \u001b[0;32mNone\u001b[0m\u001b[0;34m\u001b[0m\u001b[0;34m\u001b[0m\u001b[0m\n\u001b[1;32m   1864\u001b[0m         \u001b[0;32mfor\u001b[0m \u001b[0mkey\u001b[0m \u001b[0;32min\u001b[0m \u001b[0;34m(\u001b[0m\u001b[0;34m\"storage_options\"\u001b[0m\u001b[0;34m,\u001b[0m \u001b[0;34m\"encoding\"\u001b[0m\u001b[0;34m,\u001b[0m \u001b[0;34m\"memory_map\"\u001b[0m\u001b[0;34m,\u001b[0m \u001b[0;34m\"compression\"\u001b[0m\u001b[0;34m)\u001b[0m\u001b[0;34m:\u001b[0m\u001b[0;34m\u001b[0m\u001b[0;34m\u001b[0m\u001b[0m\n",
      "\u001b[0;32m/usr/local/lib/python3.7/site-packages/pandas/io/parsers.py\u001b[0m in \u001b[0;36m_open_handles\u001b[0;34m(self, src, kwds)\u001b[0m\n\u001b[1;32m   1361\u001b[0m             \u001b[0mcompression\u001b[0m\u001b[0;34m=\u001b[0m\u001b[0mkwds\u001b[0m\u001b[0;34m.\u001b[0m\u001b[0mget\u001b[0m\u001b[0;34m(\u001b[0m\u001b[0;34m\"compression\"\u001b[0m\u001b[0;34m,\u001b[0m \u001b[0;32mNone\u001b[0m\u001b[0;34m)\u001b[0m\u001b[0;34m,\u001b[0m\u001b[0;34m\u001b[0m\u001b[0;34m\u001b[0m\u001b[0m\n\u001b[1;32m   1362\u001b[0m             \u001b[0mmemory_map\u001b[0m\u001b[0;34m=\u001b[0m\u001b[0mkwds\u001b[0m\u001b[0;34m.\u001b[0m\u001b[0mget\u001b[0m\u001b[0;34m(\u001b[0m\u001b[0;34m\"memory_map\"\u001b[0m\u001b[0;34m,\u001b[0m \u001b[0;32mFalse\u001b[0m\u001b[0;34m)\u001b[0m\u001b[0;34m,\u001b[0m\u001b[0;34m\u001b[0m\u001b[0;34m\u001b[0m\u001b[0m\n\u001b[0;32m-> 1363\u001b[0;31m             \u001b[0mstorage_options\u001b[0m\u001b[0;34m=\u001b[0m\u001b[0mkwds\u001b[0m\u001b[0;34m.\u001b[0m\u001b[0mget\u001b[0m\u001b[0;34m(\u001b[0m\u001b[0;34m\"storage_options\"\u001b[0m\u001b[0;34m,\u001b[0m \u001b[0;32mNone\u001b[0m\u001b[0;34m)\u001b[0m\u001b[0;34m,\u001b[0m\u001b[0;34m\u001b[0m\u001b[0;34m\u001b[0m\u001b[0m\n\u001b[0m\u001b[1;32m   1364\u001b[0m         )\n\u001b[1;32m   1365\u001b[0m \u001b[0;34m\u001b[0m\u001b[0m\n",
      "\u001b[0;32m/usr/local/lib/python3.7/site-packages/pandas/io/common.py\u001b[0m in \u001b[0;36mget_handle\u001b[0;34m(path_or_buf, mode, encoding, compression, memory_map, is_text, errors, storage_options)\u001b[0m\n\u001b[1;32m    642\u001b[0m                 \u001b[0mencoding\u001b[0m\u001b[0;34m=\u001b[0m\u001b[0mioargs\u001b[0m\u001b[0;34m.\u001b[0m\u001b[0mencoding\u001b[0m\u001b[0;34m,\u001b[0m\u001b[0;34m\u001b[0m\u001b[0;34m\u001b[0m\u001b[0m\n\u001b[1;32m    643\u001b[0m                 \u001b[0merrors\u001b[0m\u001b[0;34m=\u001b[0m\u001b[0merrors\u001b[0m\u001b[0;34m,\u001b[0m\u001b[0;34m\u001b[0m\u001b[0;34m\u001b[0m\u001b[0m\n\u001b[0;32m--> 644\u001b[0;31m                 \u001b[0mnewline\u001b[0m\u001b[0;34m=\u001b[0m\u001b[0;34m\"\"\u001b[0m\u001b[0;34m,\u001b[0m\u001b[0;34m\u001b[0m\u001b[0;34m\u001b[0m\u001b[0m\n\u001b[0m\u001b[1;32m    645\u001b[0m             )\n\u001b[1;32m    646\u001b[0m         \u001b[0;32melse\u001b[0m\u001b[0;34m:\u001b[0m\u001b[0;34m\u001b[0m\u001b[0;34m\u001b[0m\u001b[0m\n",
      "\u001b[0;31mFileNotFoundError\u001b[0m: [Errno 2] No such file or directory: '../datasets/circuit_courts.csv'"
     ]
    }
   ],
   "source": [
    "import pandas as pd\n",
    "from datasets import students\n",
    "students"
   ]
  },
  {
   "cell_type": "markdown",
   "id": "increased-remains",
   "metadata": {},
   "source": [
    "## Problem 2: Distributive laws\n",
    "In this problem, we will use data frame operations to verify that unions are distributive over intersections; namely, that $A\\cup(B\\cap C) = (A\\cup B)\\cap(A\\cup C)$.\n",
    "\n",
    "### Part A\n",
    "\n",
    "Using select (and possible outer join) operations, construct a table ```math_and_stat``` containing students who are either a mathematics or statistics major, a table```junior``` containing the students that are juniors, and a table ```stat102_103``` containing students that are enrolled in either stat102 or stat103 (or both)."
   ]
  },
  {
   "cell_type": "code",
   "execution_count": 14,
   "id": "together-jaguar",
   "metadata": {},
   "outputs": [],
   "source": [
    "### Your Code Goes Below ###"
   ]
  },
  {
   "cell_type": "markdown",
   "id": "loose-freeze",
   "metadata": {},
   "source": [
    "### Part B\n",
    "Using inner and outer join opertations, verify that ```math_and_stat``` $\\cup$ (```stat102_103``` $\\cap$ ```junior```) $=$ (```math_and_stat```$\\cup$ ```stat102_103```) $\\cap$ (```math_and_stat```$\\cup$ ```junior```)."
   ]
  },
  {
   "cell_type": "code",
   "execution_count": 15,
   "id": "dangerous-indie",
   "metadata": {},
   "outputs": [],
   "source": [
    "### Your Code Goes Below ###"
   ]
  },
  {
   "cell_type": "markdown",
   "id": "amber-architecture",
   "metadata": {},
   "source": [
    "## Problem 3: De Morgan's Laws using data frames\n",
    "\n",
    "In this problem we will verify De Morgan's Laws using data frame operations. \n",
    "De Morgan's Laws state that for any two sets $A, B$, we have\n",
    "$$\n",
    "(i) \\;\\;\\;(A\\cup B)^c = A^c\\cap B^c\\\\\n",
    "(ii) \\;\\;\\;(A\\cap B)^c = A^c\\cup B^c\n",
    "$$\n",
    "\n",
    "### Part A\n",
    "\n",
    "Use select operations to define two tables ```soph``` and ```stat102```, which contain students who are sophomores and enrolled in stat102, respectively."
   ]
  },
  {
   "cell_type": "code",
   "execution_count": 16,
   "id": "imported-bangkok",
   "metadata": {},
   "outputs": [],
   "source": [
    "### Your Code Goes Below ###"
   ]
  },
  {
   "cell_type": "markdown",
   "id": "amended-fiction",
   "metadata": {},
   "source": [
    "### Part B\n",
    "\n",
    "For the rest of the problem, think of ```soph``` and ```stat102``` as sets indexed by the value of ```StudentID```. Verify that $(i)$ holds; namely, verify that $(\\text{soph}\\cup \\text{stat102})^c = \\text{soph}^c \\cap \\text{stat102}^c$."
   ]
  },
  {
   "cell_type": "code",
   "execution_count": 17,
   "id": "integrated-relationship",
   "metadata": {},
   "outputs": [],
   "source": [
    "### Your Code Goes Below ###"
   ]
  },
  {
   "cell_type": "markdown",
   "id": "electrical-navigation",
   "metadata": {},
   "source": [
    "### Part C\n",
    "Verify that $(ii)$ holds; namely, verify that $(\\text{soph}\\cap \\text{stat102})^c = \\text{soph}^c \\cup \\text{stat102}^c$."
   ]
  },
  {
   "cell_type": "code",
   "execution_count": 18,
   "id": "commercial-strand",
   "metadata": {},
   "outputs": [],
   "source": [
    "### Your Code Goes Below ###"
   ]
  },
  {
   "cell_type": "markdown",
   "id": "detected-heading",
   "metadata": {},
   "source": [
    "## Problem 4: Idempotence of set operations\n",
    "\n",
    "In this problem, we will investigate the idea of _idempotence_. Intuitively, an operation is idempotent if applying the operation multiple times yields the same result as applying it just once.\n",
    "\n",
    "Let ```math_and_stat``` be the set of students that are either a mathematics or statistics major (defined in Problem 2), and for any set of students $A$, define the operation $G(A)= A\\cap math\\_and\\_stat$. \n",
    "\n",
    "### Part A\n",
    "Using select operations, define ```fresh```, ```soph```, ```junior```, and ```senior``` be the sets of students that are freshmen, sophomores, juniors, and seniors, respectively."
   ]
  },
  {
   "cell_type": "code",
   "execution_count": 19,
   "id": "classical-minneapolis",
   "metadata": {},
   "outputs": [],
   "source": [
    "### Your Code Goes Below ###"
   ]
  },
  {
   "cell_type": "markdown",
   "id": "cardiac-spelling",
   "metadata": {},
   "source": [
    "### Part B \n",
    "Using join operations, verify that $G$ is idempotent; namely verify that $G(G(fresh)) = G(fresh)$, $G(G(soph)) = G(soph)$, $G(G(junior)) = G(junior)$, and $G(G(senior)) = G(senior)$."
   ]
  },
  {
   "cell_type": "code",
   "execution_count": 20,
   "id": "educational-cuisine",
   "metadata": {},
   "outputs": [],
   "source": [
    "### Your Code Goes Below ###"
   ]
  }
 ],
 "metadata": {
  "jupytext": {
   "text_representation": {
    "extension": ".md",
    "format_name": "myst",
    "format_version": 0.12,
    "jupytext_version": "1.9.1"
   }
  },
  "kernelspec": {
   "display_name": "Python 3",
   "language": "python",
   "name": "python3"
  },
  "language_info": {
   "codemirror_mode": {
    "name": "ipython",
    "version": 3
   },
   "file_extension": ".py",
   "mimetype": "text/x-python",
   "name": "python",
   "nbconvert_exporter": "python",
   "pygments_lexer": "ipython3",
   "version": "3.7.7"
  },
  "source_map": [
   12,
   30,
   34,
   38,
   42,
   44,
   54,
   58,
   62,
   66,
   70,
   72,
   77,
   81,
   85,
   89,
   93,
   102,
   104,
   109,
   111,
   126,
   128,
   134,
   136,
   141,
   143,
   154,
   156,
   161
  ]
 },
 "nbformat": 4,
 "nbformat_minor": 5
}