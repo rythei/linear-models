{
 "cells": [
  {
   "cell_type": "markdown",
   "id": "0f8faac2",
   "metadata": {},
   "source": [
    "# Eigenvalues and eigenvectors\n",
    "\n",
    "## The quadratic forms perspective\n",
    "\n",
    "In the previous section on quadratic forms, we investigated functions of the form\n",
    "\n",
    "\n",
    "$$\n",
    "f(x) = x^\\top A x\n",
    "$$\n",
    "\n",
    "\n",
    "for an $n\\times n$ matrix $A$. In particular, we considered the problem of finding _extrema_ of such functions -- that is, maxima and minima -- under the condition that $\\|x\\|_2^2 = x^\\top x = 1$. This problem can be written as\n",
    "\n",
    "\n",
    "$$\n",
    "\\begin{aligned}\n",
    "&\\max_{x}\\;\\; x^\\top Ax\\\\\n",
    "&\\text{subject to}\\;\\; x^\\top x = 1\n",
    "\\end{aligned}\n",
    "$$\n",
    "\n",
    "\n",
    "Using the theory of Lagrange multipliers (don't worry if you haven't seen these before), this problem can be solved by considering the _Langrangian_ \n",
    "\n",
    "\n",
    "$$\n",
    "L(x,\\lambda) = x^\\top A x - \\lambda(x^\\top x - 1)\n",
    "$$\n",
    "\n",
    "\n",
    "By taking partial derivatives of this function with respect to $x$ and setting it equal to zero, we get the following condition for $x$ to be an extrema of $f(x)$ subject to $x^\\top x = 1$:\n",
    "\n",
    "\n",
    "$$\n",
    "0 = \\nabla_x L(x,\\lambda) = 2Ax - 2\\lambda x \\implies Ax = \\lambda x\n",
    "$$\n",
    "\n",
    "\n",
    "Thus the maxima of $x^\\top A x$ subject to $x$ being a unit vector satisfy the equation $Ax = \\lambda x$. Solutions of this equation $(\\lambda, x)$ are called _eigenvalue/eigenvector_ pairs of the matrix $A$. \n",
    "\n",
    "**Remark:** The condition that $x$ is a unit vector doesn't change much in how we solve the equation $Ax = \\lambda x$. Indeed, no matter what the norm of $x$ is, we have\n",
    "\n",
    "\n",
    "$$\n",
    "Ax = \\lambda x \\iff \\frac{1}{\\|x\\|_2}Ax = \\frac{1}{\\|x\\|_2}\\lambda x \\iff A\\left(\\frac{x}{\\|x\\|_2}\\right) = \\lambda \\left (\\frac{x}{\\|x\\|_2}\\right) \\iff Ax' = \\lambda x'\n",
    "$$\n",
    "\n",
    "\n",
    "where $x' = \\frac{x}{\\|x\\|_2}$ is always a unit vector. Hence if we can solve $Ax = \\lambda x$ for any nonzero $x$, we can always find a solution that is a unit vector simply by normalizing.\n",
    "\n",
    "Before seeing how we can solve the equation $Ax = \\lambda x$, we will look at a geometric interpretation of eigenvalues and eigenvectors.\n",
    "\n",
    "## The geometric perspective\n",
    "\n",
    "Above we saw that the equation $Ax = \\lambda x$ can arise out of a maximization problem with quadratic forms. However, it also can be viewed geometrically. In words, the condition $Ax = \\lambda x$ means \"applying the linear transformation $A$ to $x$ is the same as rescaling $x$ by $\\lambda$\". For a general square matrix $A$ and arbitrary vector $x$, the vector $Ax$ will be a rotated _and_ rescaled version of $x$, so the pair $(\\lambda, x)$ must be a very special pair. \n",
    "\n",
    "As a special case, let's consider what happens with a diagonal matrix $A = \\begin{pmatrix}a_1 & 0\\\\ 0 & a_2\\end{pmatrix}$. Then \n",
    "\n",
    "\n",
    "$$\n",
    "Ax = \\begin{pmatrix}a_1 & 0\\\\ 0 & a_2\\end{pmatrix}\\begin{pmatrix}x_1 \\\\ x_2\\end{pmatrix}= \\begin{pmatrix}a_1x_1 \\\\ a_2x_2\\end{pmatrix}\n",
    "$$\n",
    "\n",
    "\n",
    "So the question for diagonal matrices is, when do we have that \n",
    "\n",
    "\n",
    "$$\n",
    "Ax = \\begin{pmatrix}a_1x_1 \\\\ a_2x_2\\end{pmatrix} = \\lambda  \\begin{pmatrix}x_1 \\\\ x_2\\end{pmatrix}\n",
    "$$\n",
    "\n",
    "\n",
    "It's easy to see from the above expression that equation will hold if and only if $x = e_1 = \\begin{pmatrix}1\\\\0\\end{pmatrix}$ or $x = e_2 = \\begin{pmatrix}0\\\\1\\end{pmatrix}$. In this case\n",
    "\n",
    "\n",
    "$$\n",
    "Ae_1 =  \\begin{pmatrix}a_1 \\\\ 0\\end{pmatrix} = a_1 e_1 \\;\\;\\;\\; \\text{ and } \\;\\;\\;\\; Ae_2 =  \\begin{pmatrix}0 \\\\ a_2\\end{pmatrix} = a_2e_2\n",
    "$$\n",
    "\n",
    "\n",
    "Therefore, we have _two_ eigenvalue/eigenvector pairs for $A$, namely $(a_1, e_1)$ and $(a_2, e_2)$. It turns out that this is always true for diagonal matrix.\n",
    "\n",
    "> For an $n\\times n$ diagonal matrix $A = \\text{diag}(a_1,\\dots, a_n)$, the eigenvalue/eigenvector pairs of $A$ are given by $(a_1,e_1),\\dots, (a_n, e_n)$.\n",
    "\n",
    "The solution for diagonal $A$ was pretty straightforward, so let's see another example. Consider \n",
    "\n",
    "\n",
    "$$\n",
    "A = \\begin{pmatrix}2 & 1\\\\ 1 &2\\end{pmatrix}\n",
    "$$\n",
    "\n",
    "\n",
    "Let's see how this matrix acts on unit vectors $x$."
   ]
  },
  {
   "cell_type": "code",
   "execution_count": 1,
   "id": "c2e52d54",
   "metadata": {},
   "outputs": [
    {
     "data": {
      "image/png": "[encoded data removed]",
      "text/plain": [
       "<Figure size 432x288 with 2 Axes>"
      ]
     },
     "metadata": {
      "filenames": {
       "image/png": "/Volumes/GoogleDrive/My Drive/PhD/Teaching/Stat89A_Spring2022/linalg-for-datasci/_build/jupyter_execute/content/SpectralThm_1_eigenthings_1_0.png"
      },
      "needs_background": "light"
     },
     "output_type": "display_data"
    }
   ],
   "source": [
    "import numpy as np\n",
    "import matplotlib.pyplot as plt\n",
    "\n",
    "A = np.array([[2,1],[1,2]])\n",
    "\n",
    "theta_range = np.arange(0,2*np.pi+.01,.01) \n",
    "unit_x = np.array([[np.cos(theta), np.sin(theta)] for theta in theta_range]).T #parameterize the unit circle\n",
    "Ax = np.dot(A, unit_x)\n",
    "\n",
    "fig, (ax1, ax2) = plt.subplots(1, 2)\n",
    "ax1.scatter(unit_x[0], unit_x[1], c=theta_range)\n",
    "ax2.scatter(Ax[0], Ax[1], c=theta_range)\n",
    "ax1.axis('equal')\n",
    "ax2.axis('equal')\n",
    "ax1.set_xlim(-3,3)\n",
    "ax1.set_ylim(-3,3)\n",
    "ax2.set_xlim(-3,3)\n",
    "ax2.set_ylim(-3,3)\n",
    "ax1.set_title('unit circle')\n",
    "ax2.set_title('unit vectors transformed by A')\n",
    "plt.show()"
   ]
  },
  {
   "cell_type": "markdown",
   "id": "042a21a4",
   "metadata": {},
   "source": [
    "Most of the vectors on the unit circle appear to have been rescaled _and_ rotated. For example, let's look at how $A$ acts on the standard basis vectors $e_1, e_2$."
   ]
  },
  {
   "cell_type": "code",
   "execution_count": 2,
   "id": "62bfdaf9",
   "metadata": {},
   "outputs": [
    {
     "data": {
      "image/png": "[encoded data removed]",
      "text/plain": [
       "<Figure size 432x288 with 1 Axes>"
      ]
     },
     "metadata": {
      "filenames": {
       "image/png": "/Volumes/GoogleDrive/My Drive/PhD/Teaching/Stat89A_Spring2022/linalg-for-datasci/_build/jupyter_execute/content/SpectralThm_1_eigenthings_3_0.png"
      },
      "needs_background": "light"
     },
     "output_type": "display_data"
    }
   ],
   "source": [
    "e1 = np.array([1,0])\n",
    "e2 = np.array([0,1])\n",
    "origin = np.zeros(2)\n",
    "\n",
    "plt.quiver(*origin, *e1, label='e1', scale=1, units='xy', color='red')\n",
    "plt.quiver(*origin, *e2, label='e2', scale=1, units='xy', color='blue')\n",
    "plt.quiver(*origin, *np.dot(A,e1), label='Ae1', scale=1, units='xy', color='darkred')\n",
    "plt.quiver(*origin, *np.dot(A,e2), label='Ae2', scale=1, units='xy', color='darkblue')\n",
    "plt.xlim(-.5,3)\n",
    "plt.ylim(-.5,3)\n",
    "plt.title('transforming the standard basis vectors')\n",
    "plt.legend()\n",
    "plt.show()"
   ]
  },
  {
   "cell_type": "markdown",
   "id": "2e04b4f1",
   "metadata": {},
   "source": [
    " Indeed, we see that the standard basis vectors get rotated -- not just rescaled -- by $A$, and so we cannot have that $Ae_1 = \\lambda e_1$ or $Ae_2 = \\lambda e_2$. On the other hand, consider the vectors\n",
    "\n",
    "\n",
    "$$\n",
    "u_1 = \\begin{pmatrix}1/\\sqrt{2} \\\\ 1/\\sqrt{2}\\end{pmatrix}, \\hspace{10mm} u_2 = \\begin{pmatrix}1/\\sqrt{2}\\\\ -1/\\sqrt{2}\\end{pmatrix}\n",
    "$$\n",
    "\n",
    "\n",
    "Let's see what happens when we act on these vectors with $A$."
   ]
  },
  {
   "cell_type": "code",
   "execution_count": 3,
   "id": "c7d2f0b4",
   "metadata": {},
   "outputs": [
    {
     "data": {
      "image/png": "[encoded data removed]",
      "text/plain": [
       "<Figure size 432x288 with 1 Axes>"
      ]
     },
     "metadata": {
      "filenames": {
       "image/png": "/Volumes/GoogleDrive/My Drive/PhD/Teaching/Stat89A_Spring2022/linalg-for-datasci/_build/jupyter_execute/content/SpectralThm_1_eigenthings_5_0.png"
      },
      "needs_background": "light"
     },
     "output_type": "display_data"
    }
   ],
   "source": [
    "u1 = np.array([1/np.sqrt(2),1/np.sqrt(2)])\n",
    "u2 = np.array([1/np.sqrt(2),-1/np.sqrt(2)])\n",
    "origin = np.zeros(2)\n",
    "\n",
    "plt.quiver(*origin, *u1, label='u1', scale=1, units='xy', color='red')\n",
    "plt.quiver(*origin, *u2, label='u2', scale=1, units='xy', color='blue')\n",
    "plt.quiver(*origin, *np.dot(A,u1), label='Au1', scale=1, units='xy', color='darkred')\n",
    "plt.quiver(*origin, *np.dot(A,u2), label='Au2', scale=1, units='xy', color='darkblue')\n",
    "plt.xlim(-.5,4)\n",
    "plt.ylim(-2,3)\n",
    "plt.title('transforming the eigenvectors of A')\n",
    "plt.legend()\n",
    "plt.show()"
   ]
  },
  {
   "cell_type": "markdown",
   "id": "f8edc72e",
   "metadata": {},
   "source": [
    "Indeed, this time we have that $Au_1$ and $Au_2$ _are_ just rescaled versions of $u_1$ and $u_2$. In particular, we can check that\n",
    "\n",
    "\n",
    "$$\n",
    "Au_1 = 3u_1\\;\\;\\;\\; \\text{ and }\\;\\;\\;\\; Au_2 = u_2\n",
    "$$\n",
    "\n",
    "\n",
    "which means that $(3,u_1)$ and $(1,u_2)$ are the _eigenvalue/eigenvector_ pairs for the matrix $A$. \n",
    "\n",
    "## Finding eigenvalues and eigenvectors\n",
    "\n",
    "So far, we've seen examples of eigenvalues and eigenvectors, but haven't seen how we can actually _find_ them in practice for non-diagonal matrices. Here we discuss how we can do this.\n",
    "\n",
    "First, let's rewrite the equation $Ax = \\lambda x$:\n",
    "\n",
    "\n",
    "$$\n",
    "Ax = \\lambda x \\iff  Ax- \\lambda I x =0 \\iff (A-\\lambda I)x = 0\n",
    "$$\n",
    "\n",
    "\n",
    "Therefore, to find the eigenvalues, we want to find all numbers $\\lambda$ such that $(A-\\lambda I)x$ is equal to zero for some non-zero vector $x.$ This cannot be possible if the matrix $(A-\\lambda I)$ is full rank, since then the only vector $x$ for which $(A-\\lambda I)x=0$ is $x=0$. Thus we want all values of $\\lambda$ such that $A-\\lambda I$ is _not_ full rank. One way to characterize this is by checking for which values of $\\lambda$ the _determinant_ of $A-\\lambda I$ is equal to zero. This gives us the following condition for the eigenvalues of a square matrix $A$.\n",
    "\n",
    "> Let $A$ be an $n\\times n$ matrix. Then $\\lambda$ is an eigenvalue for $A$ if and only if $\\det(A-\\lambda I) = 0$.\n",
    "\n",
    "In particular, to find the eigenvalues of $A$, we want to find the zeros of the function\n",
    "\n",
    "\n",
    "$$\n",
    "p(\\lambda) = \\det(A-\\lambda I).\n",
    "$$\n",
    "\n",
    "\n",
    "When $A$ is an $n\\times n$ matrix, the function $p(\\lambda)$ will be a degree $n$ polynomial, which will in general have $n$ roots.  While we haven't discussed determinants much in this class, we have seen examples of them in two dimensions, so let's focus on that case. Recall that\n",
    "\n",
    "\n",
    "$$\n",
    "\\text{det}\\begin{pmatrix}a &b\\\\c&d\\end{pmatrix} = ad-bc\n",
    "$$\n",
    "\n",
    "\n",
    "In particular then, if $A = \\begin{pmatrix}a_{11} & a_{12}\\\\ a_{21}&a_{22}\\end{pmatrix}$, then\n",
    "\n",
    "\n",
    "$$\n",
    "p(\\lambda) = \\det(A - \\lambda I) = \\det \\begin{pmatrix}a_{11}-\\lambda & a_{12}\\\\ a_{21}&a_{22}-\\lambda\\end{pmatrix} = (a_{11}-\\lambda)(a_{22}-\\lambda) - a_{12}a_{21} = \\lambda^2 - (a_{11}+a_{22})\\lambda + a_{11}a_{22}-a_{12}a_{21}\n",
    "$$\n",
    "\n",
    "\n",
    "This is a polynomial of degree 2, which by the quadratic formula has roots:\n",
    "\n",
    "\n",
    "$$\n",
    "\\lambda_1 = \\frac{(a_{11}+a_{22}) + \\sqrt{(a_{11}+a_{22})^2 - 4(a_{11}a_{22}-a_{12}a_{21})}}{2},\\;\\; \\lambda_2 = \\frac{(a_{11}+a_{22}) - \\sqrt{(a_{11}+a_{22})^2 - 4(a_{11}a_{22}-a_{12}a_{21})}}{2}\n",
    "$$\n",
    "\n",
    "\n",
    "Let's apply this formula to the matrix $A =  \\begin{pmatrix}2 & 1\\\\ 1 &2\\end{pmatrix}$ that we considered in the last section. We have $a_{11}= a_{22}=2$ and $a_{21} = a_{12} = 1$, so\n",
    "\n",
    "\n",
    "$$\n",
    "\\lambda_1 = \\frac{4 + \\sqrt{16-4(3)}}{2} = 3\\;\\;\\;\\;\\text{ and }\\;\\;\\;\\; \\lambda_2 = \\frac{4 - \\sqrt{16-4(3)}}{2} = 1\n",
    "$$\n",
    "\n",
    "\n",
    "which were exactly the eigenvalues we found before. Now, given these eigenvalues, how can we find the corresponding eigenvectors $u_1$ and $u_2$? We want that\n",
    "\n",
    "\n",
    "$$\n",
    "Au_1 = 3u_1 \\implies  \\begin{pmatrix}2 & 1\\\\ 1 &2\\end{pmatrix}\\begin{pmatrix}u_{11}\\\\ u_{12}\\end{pmatrix} = 3\\begin{pmatrix}u_{11}\\\\ u_{12}\\end{pmatrix}\n",
    "$$\n",
    "\n",
    "\n",
    "and \n",
    "\n",
    "\n",
    "$$\n",
    "Au_2 = u_2 \\implies  \\begin{pmatrix}2 & 1\\\\ 1 &2\\end{pmatrix}\\begin{pmatrix}u_{21}\\\\ u_{22}\\end{pmatrix} = \\begin{pmatrix}u_{21}\\\\ u_{22}\\end{pmatrix}.\n",
    "$$\n",
    "\n",
    "\n",
    "These systems each give us two linear equations with two unknowns, which we can straightforwardly solve to find\n",
    "\n",
    "\n",
    "$$\n",
    "u_1 = \\begin{pmatrix}1/\\sqrt{2} \\\\ 1/\\sqrt{2}\\end{pmatrix}, \\hspace{10mm} u_2 = \\begin{pmatrix}1/\\sqrt{2}\\\\ -1/\\sqrt{2}\\end{pmatrix}.\n",
    "$$\n",
    "\n",
    "\n",
    "More generally, we can use the following approach to find the eigenvalue/eigenvector pairs of an $n\\times n$ matrix $A$:\n",
    "\n",
    "- Find the eigenvalues $\\lambda_1,\\dots, \\lambda_n$ by finding the roots of the polynomial $p(\\lambda) = \\det(A-\\lambda I)$.\n",
    "- Find the eigenvectors $u_1,\\dots,u_n$ by solving the $n$ systems of $n$ linear constraints $Au_i = \\lambda_i u_i$ for $i=1,\\dots,n$. \n",
    "\n",
    "(Of course, in practice, this algorithm is difficult to apply by hand, so we will use Python functions to compute the eigenvalue decompositions of larger matrices.) Given the $n$ eigenvalues $\\lambda_1,\\dots, \\lambda_n$ and $n$ eigenvectors $u_1,\\dots, u_n$ of an $n\\times n$ matrix $A$, we can write the equations $Au_i = \\lambda_i u_i$ simultaneously as follows. Let $U = \\begin{pmatrix} u_1 & \\cdots &u_n\\end{pmatrix}$ be the matrix whose columns are the eigenvectors, and let $\\Lambda = \\text{diag}(\\lambda_1,\\dots, \\lambda_n)$ be the diagonal matrix with the eigenvalues on the diagonal. Then\n",
    "\n",
    "\n",
    "$$\n",
    "Au_i = \\lambda_i u_i \\;\\; \\forall i \\iff AU = U\\Lambda \\iff A = U\\Lambda U^{-1}\n",
    "$$\n",
    "\n",
    "\n",
    "The decomposition $A = U\\Lambda U^{-1}$ is called the _eigenvalue decomposition_ of $A$. \n",
    "\n",
    "## Symmetric matrices\n",
    "\n",
    "In general, the roots of the polynomial $p(\\lambda) = \\det(A-\\lambda I)$ need not be real-valued -- even in the 2-d case, we will have complex valued eigenvalues whenever $(a_{11}+a_{22})^2 - 4(a_{11}a_{22}-a_{12}a_{21}) < 0$. On the other hand, if $A$ is _symmetric_, so that $A^\\top =A$, then the eigenvalues and eigenvectors of $A$ will always be real-valued. (If you're interested in why, and are familiar with complex numbers, see the remark below.)\n",
    "\n",
    "Furthermore, for symmetric matrices, the eigenvectors of $A$ are always _orthogonal_. In particular, this means that the matrix $U$ is an orthogonal matrix satisfying $U^\\top U = I$ and $UU^\\top = I$, since $U$ is square. This means that $U^{-1} = U^\\top$, and so in paritcular we can simplify the expression in the eigendecomposition:\n",
    "\n",
    "\n",
    "$$\n",
    "A = U\\Lambda U^\\top\n",
    "$$\n",
    "\n",
    "\n",
    "Let's see an example in Python, using the `np.linalg.eig(A)` function to find eigenvalues. To find a symmetric matrix $A$, we will use the following approach: first, draw a random $n\\times n$ matrix $B$, and then let $A = B^\\top B$."
   ]
  },
  {
   "cell_type": "code",
   "execution_count": 4,
   "id": "2f77f7aa",
   "metadata": {},
   "outputs": [],
   "source": [
    "n = 10\n",
    "B = np.random.normal(size=(n,n))\n",
    "A = np.dot(B.T, B) # B^T B is always a symmetric matrix\n",
    "\n",
    "Lambda, U = np.linalg.eig(A)\n",
    "Lambda = np.diag(Lambda) # numpy returns Lambda as an array, so let's make it a diagonal matrix"
   ]
  },
  {
   "cell_type": "markdown",
   "id": "7bb5f89e",
   "metadata": {},
   "source": [
    "Now let's verify that $A = U\\Lambda U^\\top$."
   ]
  },
  {
   "cell_type": "code",
   "execution_count": 5,
   "id": "d4198a13",
   "metadata": {},
   "outputs": [
    {
     "data": {
      "text/plain": [
       "True"
      ]
     },
     "execution_count": 5,
     "metadata": {},
     "output_type": "execute_result"
    }
   ],
   "source": [
    "ULUT = np.dot(U, np.dot(Lambda, U.T))\n",
    "np.allclose(A, ULUT)"
   ]
  },
  {
   "cell_type": "markdown",
   "id": "4c70492f",
   "metadata": {},
   "source": [
    "Indeed, the two matrices are the same. Next, let's check that $U$ is in fact orthogonal, by checking that $U^\\top U = I$:"
   ]
  },
  {
   "cell_type": "code",
   "execution_count": 6,
   "id": "1ff569e6",
   "metadata": {},
   "outputs": [
    {
     "data": {
      "text/plain": [
       "array([[ 1., -0.,  0., -0., -0.,  0.,  0.,  0.,  0.,  0.],\n",
       "       [-0.,  1., -0., -0., -0., -0.,  0., -0.,  0.,  0.],\n",
       "       [ 0., -0.,  1.,  0., -0.,  0.,  0., -0.,  0.,  0.],\n",
       "       [-0., -0.,  0.,  1.,  0., -0., -0.,  0.,  0., -0.],\n",
       "       [-0., -0., -0.,  0.,  1.,  0., -0.,  0., -0., -0.],\n",
       "       [ 0., -0.,  0., -0.,  0.,  1.,  0.,  0., -0., -0.],\n",
       "       [ 0.,  0.,  0., -0., -0.,  0.,  1., -0., -0., -0.],\n",
       "       [ 0., -0., -0.,  0.,  0.,  0., -0.,  1., -0., -0.],\n",
       "       [ 0.,  0.,  0.,  0., -0., -0., -0., -0.,  1.,  0.],\n",
       "       [ 0.,  0.,  0., -0., -0., -0., -0., -0.,  0.,  1.]])"
      ]
     },
     "execution_count": 6,
     "metadata": {},
     "output_type": "execute_result"
    }
   ],
   "source": [
    "UTU = np.dot(U.T, U).round(8)\n",
    "UTU"
   ]
  },
  {
   "cell_type": "markdown",
   "id": "b12f3911",
   "metadata": {},
   "source": [
    "We get the identity back, and so $U$ is in fact orthogonal.\n",
    "\n",
    "**Remark:** Let's quickly see why symmetric matrices always have real-valued eigenvalues. For a number/vector $x$, let $\\bar{x}$ denote its complex conjugate. Then for any real matrix $A$, let $(\\lambda, v)$ be an eigenvalue/eigenvector pair of $A$. Since $A$ is real-valued, we have that $\\overline{Av} = \\bar{\\lambda}\\bar{v}$. Then if $A=A^\\top$, we have\n",
    "\n",
    "\n",
    "$$\n",
    "\\bar{v}^\\top A v = \\bar{v}^\\top (\\lambda v) = \\lambda \\bar{v}^\\top v\n",
    "$$\n",
    "\n",
    "\n",
    "and\n",
    "\n",
    "\n",
    "$$\n",
    "\\bar{v}^\\top A v = \\bar{v}^\\top A^\\top v = (A\\bar{v}^\\top)v = \\bar{\\lambda}\\bar{v}^\\top v.\n",
    "$$\n",
    "\n",
    "\n",
    "Therefore $\\lambda \\bar{v}^\\top v = \\bar{\\lambda}\\bar{v}^\\top v$ which implies $\\lambda = \\bar{\\lambda}$, and so $\\lambda$ must be a real number."
   ]
  }
 ],
 "metadata": {
  "jupytext": {
   "text_representation": {
    "extension": ".md",
    "format_name": "myst",
    "format_version": 0.12,
    "jupytext_version": "1.9.1"
   }
  },
  "kernelspec": {
   "display_name": "Python 3",
   "language": "python",
   "name": "python3"
  },
  "language_info": {
   "codemirror_mode": {
    "name": "ipython",
    "version": 3
   },
   "file_extension": ".py",
   "mimetype": "text/x-python",
   "name": "python",
   "nbconvert_exporter": "python",
   "pygments_lexer": "ipython3",
   "version": "3.9.5"
  },
  "source_map": [
   13,
   110,
   132,
   136,
   150,
   162,
   176,
   297,
   304,
   308,
   311,
   315,
   318
  ]
 },
 "nbformat": 4,
 "nbformat_minor": 5
}