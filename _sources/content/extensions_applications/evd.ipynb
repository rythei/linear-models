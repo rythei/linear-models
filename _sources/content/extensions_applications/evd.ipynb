{
 "cells": [
  {
   "cell_type": "markdown",
   "id": "1a87f913",
   "metadata": {},
   "source": [
    "# The Eigenvalue decomposition for symmetric matrices\n",
    "\n",
    "In preparation for some of the material we will present in the coming sections, here we give a review of the eigenvalue decomposition with a particular interest in symmetric matrices. We will then look an important example of a symmetric matrix: a covariance matrix.\n",
    "\n",
    "## Review of the eigenvalue decomposition\n",
    "\n",
    "The general eigenvalue problem for an $n\\times n$ matrix $\\boldsymbol{A}$ is the problem of finding $n$ value vector pairs $(\\lambda_1, \\boldsymbol{u}_1),\\dots, (\\lambda_n, \\boldsymbol{u}_n)$ satisfying\n",
    "\n",
    "$$\n",
    "\\boldsymbol{Au}_i = \\lambda_i \\boldsymbol{u}_i.\n",
    "$$\n",
    "\n",
    "\n",
    "In words, the condition $\\boldsymbol{Au} = \\lambda \\boldsymbol{u}$ means \"applying the linear transformation $\\boldsymbol{A}$ to $\\boldsymbol{u}$ is the same as rescaling $\\boldsymbol{u}$ by $\\lambda$\". For a general square matrix $\\boldsymbol{A}$ and arbitrary vector $\\boldsymbol{u}$, the vector $\\boldsymbol{Au}$ will be a rotated _and_ rescaled version of $\\boldsymbol{u}$, so the pair $(\\lambda, \\boldsymbol{u})$ must be a very special pair. Let's illustrate this with the matrix \n",
    "\n",
    "$$\n",
    "\\boldsymbol{A} = \\begin{bmatrix}2&1\\\\ 1&2\\end{bmatrix}\n",
    "$$\n",
    "\n",
    "Let's first see what this matrix does to two simple vectors, namely the standard basis vectors $\\boldsymbol{e}_1 = (1,0), \\boldsymbol{e}_2 = (0,1)$."
   ]
  },
  {
   "cell_type": "code",
   "execution_count": 1,
   "id": "a1afe7d7",
   "metadata": {},
   "outputs": [
    {
     "data": {
      "image/png": "[encoded data removed]",
      "text/plain": [
       "<Figure size 432x288 with 1 Axes>"
      ]
     },
     "metadata": {
      "filenames": {
       "image/png": "/Users/rythei/Library/CloudStorage/GoogleDrive-ryanctheisen@gmail.com/My Drive/PhD/Teaching/Stat151_Fall2022/linear-models/_build/jupyter_execute/content/extensions_applications/evd_1_0.png"
      },
      "needs_background": "light"
     },
     "output_type": "display_data"
    }
   ],
   "source": [
    "import numpy as np\n",
    "import matplotlib.pyplot as plt\n",
    "\n",
    "# matrix A\n",
    "A = np.array([[2, 1], [1, 2]])\n",
    "\n",
    "# standard basis vectors in 2-d\n",
    "e1 = np.array([1,0])\n",
    "e2 = np.array([0,1])\n",
    "\n",
    "e1 = np.array([1,0])\n",
    "e2 = np.array([0,1])\n",
    "origin = np.zeros(2)\n",
    "\n",
    "plt.quiver(*origin, *e1, label='e1', scale=1, units='xy', color='red')\n",
    "plt.quiver(*origin, *e2, label='e2', scale=1, units='xy', color='blue')\n",
    "plt.quiver(*origin, *np.dot(A,e1), label='Ae1', scale=1, units='xy', color='darkred')\n",
    "plt.quiver(*origin, *np.dot(A,e2), label='Ae2', scale=1, units='xy', color='darkblue')\n",
    "plt.xlim(-.5,3)\n",
    "plt.ylim(-.5,3)\n",
    "plt.title('transforming the standard basis vectors')\n",
    "plt.legend()\n",
    "plt.show()"
   ]
  },
  {
   "cell_type": "markdown",
   "id": "9b89f645",
   "metadata": {},
   "source": [
    "Indeed, we see that the standard basis vectors get rotated -- not just rescaled -- by $\\boldsymbol{A}$, and so we cannot have that $\\boldsymbol{Ae}_1 = \\lambda \\boldsymbol{e}_1$ or $\\boldsymbol{Ae}_2 = \\lambda \\boldsymbol{e}_2$. On the other hand, consider the vectors\n",
    "\n",
    "\n",
    "$$\n",
    "\\boldsymbol{u}_1 = \\begin{pmatrix}1/\\sqrt{2} \\\\ 1/\\sqrt{2}\\end{pmatrix}, \\hspace{10mm} \\boldsymbol{u}_2 = \\begin{pmatrix}1/\\sqrt{2}\\\\ -1/\\sqrt{2}\\end{pmatrix}\n",
    "$$\n",
    "\n",
    "\n",
    "Let's see what happens when we act on these vectors with $\\boldsymbol{A}$."
   ]
  },
  {
   "cell_type": "code",
   "execution_count": 2,
   "id": "c621aebb",
   "metadata": {},
   "outputs": [
    {
     "data": {
      "image/png": "[encoded data removed]",
      "text/plain": [
       "<Figure size 432x288 with 1 Axes>"
      ]
     },
     "metadata": {
      "filenames": {
       "image/png": "/Users/rythei/Library/CloudStorage/GoogleDrive-ryanctheisen@gmail.com/My Drive/PhD/Teaching/Stat151_Fall2022/linear-models/_build/jupyter_execute/content/extensions_applications/evd_3_0.png"
      },
      "needs_background": "light"
     },
     "output_type": "display_data"
    }
   ],
   "source": [
    "u1 = np.array([1/np.sqrt(2),1/np.sqrt(2)])\n",
    "u2 = np.array([1/np.sqrt(2),-1/np.sqrt(2)])\n",
    "origin = np.zeros(2)\n",
    "\n",
    "plt.quiver(*origin, *u1, label='u1', scale=1, units='xy', color='red')\n",
    "plt.quiver(*origin, *u2, label='u2', scale=1, units='xy', color='blue')\n",
    "plt.quiver(*origin, *np.dot(A,u1), label='Au1', scale=1, units='xy', color='darkred')\n",
    "plt.quiver(*origin, *np.dot(A,u2), label='Au2', scale=1, units='xy', color='darkblue')\n",
    "plt.xlim(-.5,4)\n",
    "plt.ylim(-2,3)\n",
    "plt.title('transforming the eigenvectors of A')\n",
    "plt.legend()\n",
    "plt.show()"
   ]
  },
  {
   "cell_type": "markdown",
   "id": "706f4cb1",
   "metadata": {},
   "source": [
    "Indeed, this time we have that $\\boldsymbol{Au}_1$ and $\\boldsymbol{Au}_2$ _are_ just rescaled versions of $\\boldsymbol{u}_1$ and $\\boldsymbol{u}_2$. In particular, we can check that\n",
    "\n",
    "\n",
    "$$\n",
    "\\boldsymbol{Au}_1 = 3\\boldsymbol{u}_1\\;\\;\\;\\; \\text{ and }\\;\\;\\;\\; \\boldsymbol{Au}_2 = \\boldsymbol{u}_2\n",
    "$$\n",
    "\n",
    "\n",
    "which means that $(3,\\boldsymbol{u}_1)$ and $(1,\\boldsymbol{u}_2)$ are the _eigenvalue/eigenvector_ pairs for the matrix $\\boldsymbol{A}$.\n",
    "\n",
    "In theory, the values $\\lambda_i$ can be obtained by finding the roots of the _characteristic polynomial_ $p(\\lambda) = \\det(\\boldsymbol{A} - \\lambda \\boldsymbol{I})$, and we find the associated eigenvectors by solving the linear system $(\\boldsymbol{A}-\\lambda \\boldsymbol{I})\\boldsymbol{u} = 0$. Note that the polynomial $p(\\lambda)$ will be of degree $n$, and hence will have exactly $n$ zeros, and hence an $n\\times n$ matrix will always have $n$ eigenvalue/eigenvector pairs. In practice, we use a methods provided in `numpy` to find these eigenvalues and vectors.\n",
    "\n",
    "Note that if we form the eigenvector into the columns of an $n\\times n$ matrix $\\boldsymbol{U} = \\begin{bmatrix} \\boldsymbol{u_1} & \\dots & \\boldsymbol{u}_n \\end{bmatrix}$ and the eigenvalues into a diagonal matrix $\\boldsymbol{\\Lambda} = \\text{diag}(\\lambda_1,\\dots,\\lambda_n)$, then this can equivalently be expressed as\n",
    "\n",
    "$$\n",
    "\\boldsymbol{AU} = \\boldsymbol{U\\Lambda} \\implies \\boldsymbol{A} = \\boldsymbol{U\\Lambda U}^{-1} \\,\\,\\,\\, \\text{(assuming $\\boldsymbol{U}$ invertible)}\n",
    "$$\n",
    "\n",
    "This form is typically called the _eigenvalue decomposition_ of the matrix $\\boldsymbol{A}$. In this section, we will focus on the case when $\\boldsymbol{A}$ is a symmetric matrix.\n",
    "\n",
    "## Symmetric matrices\n",
    "\n",
    "In general, the eigenvalues and eigenvectors of a matrix may be real or complex valued, as they come from the roots of the polynomial $p(\\lambda)$. For example, in the $2 \\times 2$ case, with\n",
    "\n",
    "$$\n",
    "\\boldsymbol{A} = \\begin{bmatrix} a_{11}& a_{12}\\\\ a_{21} & a_{22}\\end{bmatrix}\n",
    "$$\n",
    "\n",
    "the characteristic polynomial will be $p(\\lambda) = \\lambda^2 - (a_{11}+a_{22})\\lambda + a_{11}a_{22}-a_{12}a_{21}$, which, by the quadratic formula, will have complex roots (and hence complex eigenvalues) whenever $(a_{11}+a_{22})^2 - 4(a_{11}a_{22}-a_{12}a_{21}) < 0$. On the other hand, if $\\boldsymbol{A}$ is _symmetric_, so that $\\boldsymbol{A}^\\top = \\boldsymbol{A}$, then the eigenvalues and eigenvectors of $\\boldsymbol{A}$ will always satisfy the following two properties:\n",
    "\n",
    "- The eigenvalues of a symmetric matrix $\\boldsymbol{A}$ are always real numbers.\n",
    "- The eigenvectors of a symmetric matrix $\\boldsymbol{A}$ are always orthogonal.\n",
    "\n",
    "In particular, the latter condition means that the matrix $\\boldsymbol{U}$ of eigenvectors is an _orthogonal matrix_ satisfying $\\boldsymbol{U^\\top U} = \\boldsymbol{I}$ and $\\boldsymbol{UU^\\top} = \\boldsymbol{I}$ (since $\\boldsymbol{U}$ is square). This means that $\\boldsymbol{U}^{-1} = \\boldsymbol{U}^\\top$, and so in the symmetric case we can simplify the eigenvalue decomposition:\n",
    "\n",
    "$$\n",
    "\\boldsymbol{A} = \\boldsymbol{U\\Lambda U}^\\top.\n",
    "$$\n",
    "\n",
    "Here we briefly provide proofs for both of the above statements about the eigenvalues and eigenvectors of symmetric matrices $\\boldsymbol{A}$.\n",
    "\n",
    "**Eigenvalues are real numbers.** Let's quickly see why symmetric matrices always have real-valued eigenvalues. For a number/vector $x$, let $\\bar{x}$ denote its complex conjugate (for a vector, this is just the complex conjugate in each coordinate). Then for any real matrix $\\boldsymbol{A}$, let $(\\lambda, \\boldsymbol{v})$ be an eigenvalue/eigenvector pair of $\\boldsymbol{A}$. Since $\\boldsymbol{A}$ is real-valued, we have that $\\overline{\\boldsymbol{Av}} = \\bar{\\lambda}\\bar{\\boldsymbol{v}}$. Then if $\\boldsymbol{A}=\\boldsymbol{A}^\\top$, we have\n",
    "\n",
    "$$\n",
    "\\bar{\\boldsymbol{v}}^\\top \\boldsymbol{A} \\boldsymbol{v} = \\bar{\\boldsymbol{v}}^\\top (\\lambda \\boldsymbol{v}) = \\lambda \\bar{\\boldsymbol{v}}^\\top \\boldsymbol{v}\n",
    "$$\n",
    "\n",
    "and\n",
    "\n",
    "$$\n",
    "\\bar{\\boldsymbol{v}}^\\top \\boldsymbol{A v} = \\bar{\\boldsymbol{v}}^\\top \\boldsymbol{A^\\top v} = (\\boldsymbol{A}\\bar{\\boldsymbol{v}}^\\top)\\boldsymbol{v} = \\bar{\\lambda}\\bar{\\boldsymbol{v}}^\\top \\boldsymbol{v}.\n",
    "$$\n",
    "\n",
    "Therefore $\\lambda \\bar{\\boldsymbol{v}}^\\top \\boldsymbol{v} = \\bar{\\lambda}\\bar{\\boldsymbol{v}}^\\top \\boldsymbol{v}$ which implies $\\lambda = \\bar{\\lambda}$, and so $\\lambda$ must be a real number.\n",
    "\n",
    "**Eigenvectors are orthogonal.** Next, let's see why the eigenvectors of symmetric matrices are orthogonal. Suppose $(\\lambda, \\boldsymbol{u})$ and $(\\mu, \\boldsymbol{v})$ are two eigenvalue/eigenvector pairs for a symmetric matrix $\\boldsymbol{A}$ such that $\\lambda \\neq \\mu$ (i.e. they are distinct eigenvalues). Then $\\boldsymbol{Au} = \\lambda \\boldsymbol{u}$ and $\\boldsymbol{Av} = \\mu \\boldsymbol{v}$. Then\n",
    "\n",
    "$$\n",
    "\\begin{align*}\n",
    "\\lambda \\boldsymbol{u^\\top v} &= (\\lambda \\boldsymbol{u})^\\top \\boldsymbol{v} = (\\boldsymbol{Au})^\\top \\boldsymbol{v}\\\\\n",
    "&= \\boldsymbol{u}^\\top \\underbrace{\\boldsymbol{A}^\\top}_{=\\boldsymbol{A}} \\boldsymbol{v}= \\boldsymbol{u}^\\top (\\boldsymbol{Av})\\\\ &= \\boldsymbol{u}^\\top (\\mu \\boldsymbol{v}) = \\mu \\boldsymbol{u^\\top v}\n",
    "\\end{align*}\n",
    "$$\n",
    "\n",
    "Thus, rearranging we get\n",
    "\n",
    "$$\n",
    "(\\lambda - \\mu)\\boldsymbol{u^\\top v} = 0 \\implies \\boldsymbol{u^\\top v} = 0\n",
    "$$\n",
    "\n",
    "since $(\\lambda - \\mu) \\neq 0$, because by assumption the eigenvectors are orthogonal.\n",
    "\n",
    "Let's see an example in Python, using the `np.linalg.eig(A)` function to find eigenvalues. To find a symmetric matrix $\\boldsymbol{A}$, we will use the following approach: first, draw a random $n\\times n$ matrix $\\boldsymbol{B}$, and then let $\\boldsymbol{A} = \\boldsymbol{B^\\top B}$."
   ]
  },
  {
   "cell_type": "code",
   "execution_count": 3,
   "id": "164145e1",
   "metadata": {},
   "outputs": [],
   "source": [
    "import numpy as np\n",
    "\n",
    "n = 10\n",
    "B = np.random.normal(size=(n,n))\n",
    "A = np.dot(B.T, B) # B^T B is always a symmetric matrix\n",
    "\n",
    "Lambda, U = np.linalg.eig(A)\n",
    "Lambda = np.diag(Lambda) # numpy returns Lambda as an array, so let's make it a diagonal matrix"
   ]
  },
  {
   "cell_type": "markdown",
   "id": "2a5ef44e",
   "metadata": {},
   "source": [
    "Now let's verify that $\\boldsymbol{A} = \\boldsymbol{U\\Lambda U^\\top}$."
   ]
  },
  {
   "cell_type": "code",
   "execution_count": 4,
   "id": "1dec443c",
   "metadata": {},
   "outputs": [
    {
     "data": {
      "text/plain": [
       "True"
      ]
     },
     "execution_count": 4,
     "metadata": {},
     "output_type": "execute_result"
    }
   ],
   "source": [
    "ULUT = np.dot(U, np.dot(Lambda, U.T))\n",
    "np.allclose(A, ULUT)"
   ]
  },
  {
   "cell_type": "markdown",
   "id": "21cd6f06",
   "metadata": {},
   "source": [
    "Indeed, the two matrices are the same. Next, let's check that $\\boldsymbol{U}$ is in fact orthogonal, by checking that $\\boldsymbol{U^\\top U} = \\boldsymbol{I}$:"
   ]
  },
  {
   "cell_type": "code",
   "execution_count": 5,
   "id": "70345690",
   "metadata": {},
   "outputs": [
    {
     "data": {
      "text/plain": [
       "array([[ 1.,  0., -0., -0.,  0., -0.,  0., -0.,  0.,  0.],\n",
       "       [ 0.,  1., -0., -0.,  0., -0.,  0., -0., -0., -0.],\n",
       "       [-0., -0.,  1., -0.,  0.,  0., -0.,  0.,  0.,  0.],\n",
       "       [-0., -0., -0.,  1.,  0.,  0.,  0.,  0.,  0., -0.],\n",
       "       [ 0.,  0.,  0.,  0.,  1.,  0.,  0., -0., -0.,  0.],\n",
       "       [-0., -0.,  0.,  0.,  0.,  1., -0.,  0.,  0., -0.],\n",
       "       [ 0.,  0., -0.,  0.,  0., -0.,  1.,  0.,  0., -0.],\n",
       "       [-0., -0.,  0.,  0., -0.,  0.,  0.,  1.,  0., -0.],\n",
       "       [ 0., -0.,  0.,  0., -0.,  0.,  0.,  0.,  1., -0.],\n",
       "       [ 0., -0., -0., -0.,  0., -0., -0., -0., -0.,  1.]])"
      ]
     },
     "execution_count": 5,
     "metadata": {},
     "output_type": "execute_result"
    }
   ],
   "source": [
    "UTU = np.dot(U.T, U).round(8)\n",
    "UTU"
   ]
  },
  {
   "cell_type": "markdown",
   "id": "25010b07",
   "metadata": {},
   "source": [
    "We get the identity back, and so $\\boldsymbol{U}$ is in fact orthogonal.\n",
    "\n",
    "## Covariance (and covariance-ish) matrices\n",
    "\n",
    "Now that we've introduced the eigenvalue decomposition for symmetric matrices, we can focus on a particular example of symmetric matrix that will be of interest in this course: a covariance matrix.\n",
    "\n",
    "At the population level, for a random vector $\\boldsymbol{x}\\in \\mathbb{R}^p$ with mean $\\boldsymbol{\\mu} = \\mathbb{E}[\\boldsymbol{x}]$, the covariance matrix is defined as \n",
    "\n",
    "$$\n",
    "\\boldsymbol{\\Sigma} = \\mathbb{E}[(\\boldsymbol{x}-\\boldsymbol{\\mu})(\\boldsymbol{x}-\\boldsymbol{\\mu})^\\top] = \\begin{bmatrix}\\sigma_1^2 & \\sigma_{12} & \\cdots & \\sigma_{1p}\\\\\n",
    "\\sigma_{21} & \\ddots & \\vdots & \\vdots \\\\ \\vdots & & & \\vdots\\\\ \\sigma_{p1} & \\cdots & \\cdots & \\sigma_{p}^2\\end{bmatrix}\n",
    "$$\n",
    "\n",
    "where $\\sigma_{j}^2 = \\text{Var}[x_j]$ and $\\sigma_{jk} = \\text{Cov}[x_j, x_k]$. Since $\\sigma_{jk} = \\text{Cov}[x_j, x_k] = \\text{Cov}[x_k, x_j] = \\sigma_{kj}$, the matrix $\\boldsymbol{\\Sigma}$ is clearly a symmetric matrix.\n",
    "\n",
    "The situation is similar for a sample covariance matrix: given a matrix of data $\\boldsymbol{X} \\in \\mathbb{R}^{n\\times p}$ containing $n$ observations, the sample covariance matrix can be computed as\n",
    "\n",
    "$$\n",
    "\\boldsymbol{C} = \\frac{1}{n}\\boldsymbol{X}_c^\\top \\boldsymbol{X}_c\n",
    "$$\n",
    "\n",
    "where $\\boldsymbol{X}_c$ is the _centered_ version of the matrix $\\boldsymbol{X}$ -- i.e. the means of each column have been subtracted. It's easy to see that the matrix $\\boldsymbol{C}$ is also symmetric. Let's construct an example of a covariance matrix from data drawn from a multivariate normal distribution."
   ]
  },
  {
   "cell_type": "code",
   "execution_count": 6,
   "id": "5776b5ed",
   "metadata": {},
   "outputs": [
    {
     "data": {
      "image/png": "[encoded data removed]",
      "text/plain": [
       "<Figure size 432x288 with 1 Axes>"
      ]
     },
     "metadata": {
      "filenames": {
       "image/png": "/Users/rythei/Library/CloudStorage/GoogleDrive-ryanctheisen@gmail.com/My Drive/PhD/Teaching/Stat151_Fall2022/linear-models/_build/jupyter_execute/content/extensions_applications/evd_11_0.png"
      }
     },
     "output_type": "display_data"
    }
   ],
   "source": [
    "# makes it easier to see the origin\n",
    "import seaborn as sns \n",
    "sns.set_style(\"whitegrid\")\n",
    "np.random.seed(42)\n",
    "\n",
    "# generate data\n",
    "mean = np.array([3,3])\n",
    "cov = np.array([[2,1], [1, 1]])\n",
    "X = np.random.multivariate_normal(mean, cov, 300)\n",
    "\n",
    "# plot data\n",
    "plt.scatter(X[:,0], X[:,1])\n",
    "plt.xlabel(r\"$x_1$\", fontsize=14)\n",
    "plt.ylabel(r\"$x_2$\", fontsize=14)\n",
    "plt.xlim(-4,8)\n",
    "plt.ylim(-4,8)\n",
    "plt.show()"
   ]
  },
  {
   "cell_type": "markdown",
   "id": "6712d270",
   "metadata": {},
   "source": [
    "Before computing the covariance matrix for this data, let's first consider just the symmetric matrix $\\frac{1}{n}\\boldsymbol{X^\\top X}$ (i.e. without centering the columns). Below we compute this matrix and calculate its eigenvalues and eigenvectors using `numpy`."
   ]
  },
  {
   "cell_type": "code",
   "execution_count": 7,
   "id": "bddcebd7",
   "metadata": {},
   "outputs": [
    {
     "name": "stdout",
     "output_type": "stream",
     "text": [
      "[[ 0.72623706 -0.68744434]\n",
      " [ 0.68744434  0.72623706]]\n",
      "[20.52310737  0.45987617]\n"
     ]
    }
   ],
   "source": [
    "K = X.T@X/X.shape[0]\n",
    "eigenvalues, eigenvectors = np.linalg.eig(K)\n",
    "\n",
    "print(eigenvectors)\n",
    "print(eigenvalues)"
   ]
  },
  {
   "cell_type": "markdown",
   "id": "f0f333db",
   "metadata": {},
   "source": [
    "The eigenvectors are two unit vectors, which we will visualize shortly. Interestingly, one of the eigenvalues is much larger than the other -- indicating that there is one direction along which the majority of the \"action\" of $\\frac{1}{n}\\boldsymbol{X^\\top X}$ occurs. To visualize this, we overlay the vectors $\\lambda_i \\boldsymbol{u}_i$ on top of our previous scatterplot."
   ]
  },
  {
   "cell_type": "code",
   "execution_count": 8,
   "id": "24ad45fd",
   "metadata": {},
   "outputs": [
    {
     "data": {
      "image/png": "[encoded data removed]",
      "text/plain": [
       "<Figure size 432x288 with 1 Axes>"
      ]
     },
     "metadata": {
      "filenames": {
       "image/png": "/Users/rythei/Library/CloudStorage/GoogleDrive-ryanctheisen@gmail.com/My Drive/PhD/Teaching/Stat151_Fall2022/linear-models/_build/jupyter_execute/content/extensions_applications/evd_15_0.png"
      }
     },
     "output_type": "display_data"
    }
   ],
   "source": [
    "# plot data\n",
    "plt.scatter(X[:,0], X[:,1])\n",
    "plt.quiver(*origin, *(eigenvectors[:,0]*eigenvalues[0]), label=r'$\\lambda_1 u_1$', scale=1, units='xy', color='red')\n",
    "plt.quiver(*origin, *(eigenvectors[:,1]*eigenvalues[1]), label=r'$\\lambda_2 u_2$', scale=1, units='xy', color='blue')\n",
    "plt.xlabel(r\"$x_1$\", fontsize=14)\n",
    "plt.ylabel(r\"$x_2$\", fontsize=14)\n",
    "plt.legend()\n",
    "plt.xlim(-4,8)\n",
    "plt.ylim(-4,8)\n",
    "plt.show()"
   ]
  },
  {
   "cell_type": "markdown",
   "id": "91029b09",
   "metadata": {},
   "source": [
    "As we can see from the plot, the large direction (associated with the big eigenvalue), seems to roughly point in the direction along which the two features correlate, though it appears to be a bit off. We can make this much better by first centering the data matrix $\\boldsymbol{X}$ and computing the covariance matrix $\\boldsymbol{C}$.\n",
    "\n",
    "To center the data matrix $\\boldsymbol{X}$, we can use a convenient matrix called the _centering matrix_ $\\boldsymbol{H}_n = \\boldsymbol{I} - \\frac{1}{n}\\boldsymbol{11^\\top}$. It's a nice exercise to check that the matrix $\\boldsymbol{X}_c = \\boldsymbol{H}_n\\boldsymbol{X}$ has the centered columns we desire. Here, we will check this numerically."
   ]
  },
  {
   "cell_type": "code",
   "execution_count": 9,
   "id": "bc53090e",
   "metadata": {},
   "outputs": [
    {
     "name": "stdout",
     "output_type": "stream",
     "text": [
      "3.375077994860476e-16 -2.457293627837013e-16\n"
     ]
    }
   ],
   "source": [
    "# define centering matrix\n",
    "Hn = np.eye(X.shape[0]) - np.ones(shape=(X.shape[0],X.shape[0]))/X.shape[0]\n",
    "\n",
    "# get centered data\n",
    "Xc = Hn@X\n",
    "\n",
    "# check that the columns actually have mean zero\n",
    "print(np.mean(Xc[:,0]), np.mean(Xc[:,1]))"
   ]
  },
  {
   "cell_type": "markdown",
   "id": "ec97b876",
   "metadata": {},
   "source": [
    "Indeed, this works! Let's see what the centered data looks like in comparison to the original data."
   ]
  },
  {
   "cell_type": "code",
   "execution_count": 10,
   "id": "b4a3b0c2",
   "metadata": {},
   "outputs": [
    {
     "data": {
      "image/png": "[encoded data removed]",
      "text/plain": [
       "<Figure size 432x288 with 1 Axes>"
      ]
     },
     "metadata": {
      "filenames": {
       "image/png": "/Users/rythei/Library/CloudStorage/GoogleDrive-ryanctheisen@gmail.com/My Drive/PhD/Teaching/Stat151_Fall2022/linear-models/_build/jupyter_execute/content/extensions_applications/evd_19_0.png"
      }
     },
     "output_type": "display_data"
    }
   ],
   "source": [
    "# plot data\n",
    "plt.scatter(X[:,0], X[:,1], label=\"uncentered\")\n",
    "plt.scatter(Xc[:,0], Xc[:,1], label=\"centered\")\n",
    "plt.xlabel(r\"$x_1$\", fontsize=14)\n",
    "plt.ylabel(r\"$x_2$\", fontsize=14)\n",
    "plt.legend()\n",
    "plt.xlim(-4,8)\n",
    "plt.ylim(-4,8)\n",
    "plt.show()"
   ]
  },
  {
   "cell_type": "markdown",
   "id": "453b3799",
   "metadata": {},
   "source": [
    "As we might expect, centering the columns of $\\boldsymbol{X}$ simply shifts all the points to be centered around the origin. Now that we have our centered data, we can compute the covariance matrix $\\boldsymbol{C} = \\frac{1}{n}\\boldsymbol{X}_c^\\top \\boldsymbol{X}_c$."
   ]
  },
  {
   "cell_type": "code",
   "execution_count": 11,
   "id": "8b052461",
   "metadata": {},
   "outputs": [
    {
     "data": {
      "text/plain": [
       "array([[1.92047819, 0.95424773],\n",
       "       [0.95424773, 0.93758217]])"
      ]
     },
     "execution_count": 11,
     "metadata": {},
     "output_type": "execute_result"
    }
   ],
   "source": [
    "C = Xc.T@Xc/X.shape[0]\n",
    "C"
   ]
  },
  {
   "cell_type": "markdown",
   "id": "9ce8b076",
   "metadata": {},
   "source": [
    "(Note that the matrix $\\boldsymbol{C}$ looks a lot like the covariance matrix we used to generate a data from the multivariate normal distribution - it's actually the maximum likelihood estimator for this matrix).\n",
    "\n",
    "Let's now compute the eigenvalues and eigenvectors of this matrix and overlay them on our data the same way we did for the uncentered data."
   ]
  },
  {
   "cell_type": "code",
   "execution_count": 12,
   "id": "e7918bfb",
   "metadata": {},
   "outputs": [
    {
     "data": {
      "image/png": "[encoded data removed]",
      "text/plain": [
       "<Figure size 432x288 with 1 Axes>"
      ]
     },
     "metadata": {
      "filenames": {
       "image/png": "/Users/rythei/Library/CloudStorage/GoogleDrive-ryanctheisen@gmail.com/My Drive/PhD/Teaching/Stat151_Fall2022/linear-models/_build/jupyter_execute/content/extensions_applications/evd_23_0.png"
      }
     },
     "output_type": "display_data"
    }
   ],
   "source": [
    "# get eigenthings\n",
    "eigenvalues, eigenvectors = np.linalg.eig(C)\n",
    "\n",
    "# plot data\n",
    "plt.scatter(Xc[:,0], Xc[:,1])\n",
    "plt.quiver(*origin, *(eigenvectors[:,0]*eigenvalues[0]), label=r'$\\lambda_1 u_1$', scale=1, units='xy', color='red')\n",
    "plt.quiver(*origin, *(eigenvectors[:,1]*eigenvalues[1]), label=r'$\\lambda_2 u_2$', scale=1, units='xy', color='blue')\n",
    "plt.xlabel(r\"$x_1$\", fontsize=14)\n",
    "plt.ylabel(r\"$x_2$\", fontsize=14)\n",
    "plt.legend()\n",
    "plt.xlim(-4,8)\n",
    "plt.ylim(-4,8)\n",
    "plt.show()"
   ]
  },
  {
   "cell_type": "markdown",
   "id": "d6cedb6c",
   "metadata": {},
   "source": [
    "Now the eigenvectors (scaled by the corresponding eigenvalues) seem to capture very naturally the _directions_ along which $X_1$ and $X_2$ correlate. In the next section, we will discuss a statistical technique called _principal components analysis_ which explicitly utilizes this fact to extract structure in data and/or perform dimensionality reduction."
   ]
  }
 ],
 "metadata": {
  "jupytext": {
   "text_representation": {
    "extension": ".md",
    "format_name": "myst",
    "format_version": 0.12,
    "jupytext_version": "1.9.1"
   }
  },
  "kernelspec": {
   "display_name": "Python 3",
   "language": "python",
   "name": "python3"
  },
  "language_info": {
   "codemirror_mode": {
    "name": "ipython",
    "version": 3
   },
   "file_extension": ".py",
   "mimetype": "text/x-python",
   "name": "python",
   "nbconvert_exporter": "python",
   "pygments_lexer": "ipython3",
   "version": "3.9.5"
  },
  "source_map": [
   12,
   35,
   59,
   71,
   85,
   161,
   170,
   174,
   177,
   181,
   184,
   209,
   227,
   231,
   237,
   241,
   252,
   258,
   267,
   271,
   281,
   285,
   288,
   294,
   308
  ]
 },
 "nbformat": 4,
 "nbformat_minor": 5
}