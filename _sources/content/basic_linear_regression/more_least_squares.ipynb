{
 "cells": [
  {
   "cell_type": "markdown",
   "id": "cd6c7ff6",
   "metadata": {},
   "source": [
    "# More on least squares\n",
    "\n",
    "In the last section, we derived and implemented the solution to the least squares problem\n",
    "\n",
    "$$\n",
    "\\min_{\\boldsymbol{\\beta}} \\|\\boldsymbol{y}-\\boldsymbol{X\\beta}\\|_2^2 \\hspace{10mm} (1)\n",
    "$$\n",
    "\n",
    "which we found (with some calculus) to be satisfied by any vector $\\boldsymbol{\\beta}$ satisfying the _normal equations_:\n",
    "\n",
    "$$\n",
    "\\boldsymbol{X^\\top X\\beta} = \\boldsymbol{X^\\top y}. \\hspace{10mm} (2)\n",
    "$$\n",
    "\n",
    "In this section, we investigate the properties of this solution a bit more, emphasizing the linear algebraic properties of this problem and its solution(s).\n",
    "\n",
    "## The linear algebra of the least squares solution\n",
    "\n",
    "In the simplest case, when the data matrix $\\boldsymbol{X^\\top X}$ is invertible, the least squares problem $(1)$ has a unique solution, obtained by multiplying either side of $(2)$ by $(\\boldsymbol{X^\\top X})^{-1}$:\n",
    "\n",
    "$$\n",
    "\\hat{\\boldsymbol{\\beta}} = (\\boldsymbol{X^\\top X})^{-1}\\boldsymbol{X^\\top y}.\n",
    "$$\n",
    "\n",
    "In this case, we can easily find the fitted values $\\hat{\\boldsymbol{y}}$ by simply multiplying $\\hat{\\boldsymbol{\\beta}}$ on the left by $\\boldsymbol{X}$. This gives\n",
    "\n",
    "$$\n",
    "\\hat{\\boldsymbol{y}} = \\boldsymbol{X}\\hat{\\boldsymbol{\\beta}} = \\boldsymbol{X}(\\boldsymbol{X^\\top X})^{-1}\\boldsymbol{X^\\top y}.\n",
    "$$\n",
    "\n",
    "In the context of linear regression, the matrix $\\boldsymbol{X}(\\boldsymbol{X^\\top X})^{-1}\\boldsymbol{X^\\top}$ is sometimes called the \"hat matrix\", since it \"puts the hat on\" the vector $\\boldsymbol{y}$. However, this matrix is also of more general interest in linear algebra: it is a special matrix which performs a very particular opertation. The matrix $\\boldsymbol{P} = \\boldsymbol{X}(\\boldsymbol{X^\\top X})^{-1}\\boldsymbol{X^\\top}$ is called the projection onto the _column space_ of $\\boldsymbol{X}$. To understand what this means, we must first define what we mean by the column space.\n",
    "\n",
    "Given a set of vectors $\\boldsymbol{v}_1,\\dots, \\boldsymbol{v}_p$, the _span_ of $\\boldsymbol{v}_1,\\dots, \\boldsymbol{v}_p$ is the vector space given by all linear combinations of these vectors:\n",
    "\n",
    "  $$\n",
    "\\text{span}(\\boldsymbol{v}_1,\\dots,\\boldsymbol{v}_p) = \\left\\{\\boldsymbol{x} : \\boldsymbol{x} = \\sum_{j=1}^p \\alpha_j \\boldsymbol{v}_j,\\; \\text{for some } \\alpha_1,\\dots,\\alpha_p \\in \\mathbb{R}\\right\\}\n",
    "  $$\n",
    "\n",
    "Then given a matrix $\\boldsymbol{X}$ with column $\\boldsymbol{x}_1,\\dots, \\boldsymbol{x}_p$, the column space of $\\boldsymbol{X}$, denoted $\\text{col}(\\boldsymbol{X})$ is simply the $\\boldsymbol{x}_1,\\dots, \\boldsymbol{x}_p$. The _projection_ onto the column space $\\boldsymbol{X}$ is the matrix $\\boldsymbol{P}$ which, when applied to a vector $\\boldsymbol{y}$, returns the nearest vector in $\\text{col}(\\boldsymbol{X})$.\n",
    "\n",
    "In 2-d, there is a simple picture which illustrates this concept. Imagine a single vector, say, $\\boldsymbol{x} = \\begin{bmatrix}1\\\\ 1\\end{bmatrix}$, which we think of as a matrix with a single column. Then the column space of $\\boldsymbol{x}$ is simply the set of all vectors of the form $\\alpha \\begin{bmatrix}1\\\\ 1\\end{bmatrix} = \\begin{bmatrix}\\alpha \\\\ \\alpha \\end{bmatrix}$ for $\\alpha \\in \\mathbb{R}$. Visually, this corresponds to a line through the origin with slope 1, i.e. the $y=x$ line. Let's visualize this in python."
   ]
  },
  {
   "cell_type": "code",
   "execution_count": 1,
   "id": "4b6693d9",
   "metadata": {},
   "outputs": [
    {
     "data": {
      "image/png": "[encoded data removed]",
      "text/plain": [
       "<Figure size 432x288 with 1 Axes>"
      ]
     },
     "metadata": {
      "filenames": {
       "image/png": "/Users/rythei/Library/CloudStorage/GoogleDrive-ryanctheisen@gmail.com/My Drive/PhD/Teaching/Stat151_Fall2022/linear-models/_build/jupyter_execute/content/basic_linear_regression/more_least_squares_1_0.png"
      },
      "needs_background": "light"
     },
     "output_type": "display_data"
    }
   ],
   "source": [
    "import numpy as np\n",
    "import matplotlib.pyplot as plt\n",
    "\n",
    "xx = np.linspace(-2,2,10)\n",
    "\n",
    "plt.plot(xx, xx, label='span([1,1])')\n",
    "plt.legend()\n",
    "plt.axis(\"equal\")\n",
    "plt.show()"
   ]
  },
  {
   "cell_type": "markdown",
   "id": "7b46481e",
   "metadata": {},
   "source": [
    "Now let's consider another vector in $\\mathbb{R}^2$, say $\\boldsymbol{u}= \\begin{bmatrix}-1\\\\ 1\\end{bmatrix}$, which we can add to this plot as a point."
   ]
  },
  {
   "cell_type": "code",
   "execution_count": 2,
   "id": "61455f2c",
   "metadata": {},
   "outputs": [
    {
     "data": {
      "image/png": "[encoded data removed]",
      "text/plain": [
       "<Figure size 432x288 with 1 Axes>"
      ]
     },
     "metadata": {
      "filenames": {
       "image/png": "/Users/rythei/Library/CloudStorage/GoogleDrive-ryanctheisen@gmail.com/My Drive/PhD/Teaching/Stat151_Fall2022/linear-models/_build/jupyter_execute/content/basic_linear_regression/more_least_squares_3_0.png"
      },
      "needs_background": "light"
     },
     "output_type": "display_data"
    }
   ],
   "source": [
    "plt.scatter([-1], [1], color='red', label='[-1,1]')\n",
    "plt.plot(xx, xx, label='span([1,1])')\n",
    "plt.legend()\n",
    "plt.axis(\"equal\")\n",
    "plt.show()"
   ]
  },
  {
   "cell_type": "markdown",
   "id": "8e6b976a",
   "metadata": {},
   "source": [
    "The (orthogonal) projection of $\\boldsymbol{u}$ onto $\\text{span}(\\boldsymbol{x})$ is defined to be the nearest $\\boldsymbol{u}' \\in \\text{span}(\\boldsymbol{x})$ to $\\boldsymbol{u}$. Formally,\n",
    "\n",
    "$$\n",
    "\\min_{\\boldsymbol{u}' \\in \\text{span}(\\boldsymbol{x})} \\|\\boldsymbol{u} - \\boldsymbol{u}'\\|_2^2 = \\min_{\\alpha \\in \\mathbb{R}} \\|\\boldsymbol{u} - \\alpha \\boldsymbol{x}\\|_2^2.\n",
    "$$\n",
    "\n",
    "This now looks just like a toy version of our least squares problem! The solution is given by\n",
    "\n",
    "$$\n",
    "\\hat{\\boldsymbol{u}}' = \\frac{\\boldsymbol{xx}^\\top}{\\boldsymbol{x^\\top x}}\\boldsymbol{u}\n",
    "$$\n",
    "\n",
    "which corresponds to\n",
    "\n",
    "$$\n",
    "\\hat{\\alpha} = \\frac{\\boldsymbol{x^\\top u}}{\\boldsymbol{x^\\top x}}.\n",
    "$$\n",
    "\n",
    "In our example, $\\boldsymbol{x} = \\begin{bmatrix}1\\\\ 1\\end{bmatrix}$ and $\\boldsymbol{u} = \\begin{bmatrix}-1\\\\ 1\\end{bmatrix}$, so\n",
    "\n",
    "$$\n",
    "\\hat{\\alpha} = 0\n",
    "$$\n",
    "\n",
    "and therefore the projection of $\\boldsymbol{u}$ onto $\\text{span}(\\boldsymbol{x})$ is given by\n",
    "\n",
    "$$\n",
    "\\hat{\\boldsymbol{u}}' = \\hat{\\alpha}\\boldsymbol{x} = \\begin{bmatrix}0\\\\ 0\\end{bmatrix}\n",
    "$$\n",
    "\n",
    "Let's visualize this on our plot."
   ]
  },
  {
   "cell_type": "code",
   "execution_count": 3,
   "id": "6d1b00ac",
   "metadata": {},
   "outputs": [
    {
     "data": {
      "image/png": "[encoded data removed]",
      "text/plain": [
       "<Figure size 432x288 with 1 Axes>"
      ]
     },
     "metadata": {
      "filenames": {
       "image/png": "/Users/rythei/Library/CloudStorage/GoogleDrive-ryanctheisen@gmail.com/My Drive/PhD/Teaching/Stat151_Fall2022/linear-models/_build/jupyter_execute/content/basic_linear_regression/more_least_squares_5_0.png"
      },
      "needs_background": "light"
     },
     "output_type": "display_data"
    }
   ],
   "source": [
    "plt.scatter([-1], [1], color='red', label='[-1,1]')\n",
    "plt.scatter([0], [0], color='green', label='projection of [-1,1] onto span([1,1])')\n",
    "\n",
    "# this line just plots an arrow to illustrate the action that is happening to\n",
    "# [-1,1] when it is projected onto span([1,1])\n",
    "plt.quiver(*[-1,1], *[1,-1], scale=1, units='xy', color='orange')\n",
    "\n",
    "plt.plot(xx, xx, label='span([1,1])')\n",
    "plt.legend()\n",
    "plt.axis(\"equal\")\n",
    "plt.show()"
   ]
  },
  {
   "cell_type": "markdown",
   "id": "58fbaa97",
   "metadata": {},
   "source": [
    "In the context of the least squares problem this means the following: the fitted values $\\hat{\\boldsymbol{y}}$ are the _projection_ of the response vector $\\boldsymbol{y}$ onto the span of the columns of $\\boldsymbol{X}$. This fact is important not only for mathematical intuition, but because it can help us design methods for solving least squares problems in practice. We discuss one such method next.\n",
    "\n",
    "## Solving the least squares problem using the QR decomposition\n",
    "\n",
    "The largest computational burden in performing least squares comes from computing the inverse of the matrix $\\boldsymbol{X^\\top X}$. In particular when the number of features $p$ is large, this can be expensive, numerically unstable or not otherwise not feasible. In these situations, we would like to have algorithms to find $\\hat{\\boldsymbol{\\beta}}$ (or perhaps at least the fitted values $\\hat{\\boldsymbol{y})}$ without having to explicitly compute $(\\boldsymbol{X^\\top X})^{-1}$.\n",
    "\n",
    "In this section, we show that the _QR decomposition_ can be used to find both $\\hat{\\boldsymbol{\\beta}}$ and $\\hat{\\boldsymbol{y}}$ without ever having to explicitly compute the matrix $(\\boldsymbol{X^\\top X})^{-1}$. The QR decomposition of an $n\\times p$ matrix $\\boldsymbol{X}$ is a decomposition of $\\boldsymbol{X}$ into two matrices $\\boldsymbol{Q}, \\boldsymbol{R}$ such that $\\boldsymbol{X} = \\boldsymbol{QR}$ and $\\boldsymbol{R}$ is an upper triangular matrix, and $\\boldsymbol{Q}$ is an _orthogonal_ matrix such that $\\boldsymbol{Q^\\top Q} = \\boldsymbol{I}$ (the identity matrix.)\n",
    "\n",
    "Let's look at a toy example in python with the matrix\n",
    "\n",
    "$$\n",
    "\\boldsymbol{X} = \\begin{bmatrix} 1 & 2\\\\ -1 & 0\\\\ 1 & 1\\end{bmatrix}\n",
    "$$\n",
    "\n",
    "First, we define this as a numpy array."
   ]
  },
  {
   "cell_type": "code",
   "execution_count": 4,
   "id": "0639792b",
   "metadata": {},
   "outputs": [
    {
     "name": "stdout",
     "output_type": "stream",
     "text": [
      "[[ 1  2]\n",
      " [-1  0]\n",
      " [ 1  1]]\n"
     ]
    }
   ],
   "source": [
    "X = np.array([[1, 2],\n",
    "              [-1, 0],\n",
    "              [1, 1]])\n",
    "print(X)"
   ]
  },
  {
   "cell_type": "markdown",
   "id": "3d7144e3",
   "metadata": {},
   "source": [
    "Now we can compute the QR decomposition using the function `np.linalg.qr`:"
   ]
  },
  {
   "cell_type": "code",
   "execution_count": 5,
   "id": "0866d6af",
   "metadata": {},
   "outputs": [],
   "source": [
    "Q, R = np.linalg.qr(X)"
   ]
  },
  {
   "cell_type": "markdown",
   "id": "535913fd",
   "metadata": {},
   "source": [
    "This returns two matrices: the first, $\\boldsymbol{Q}$ is orthogonal, which we can check by calculating $\\boldsymbol{Q^\\top Q}$:"
   ]
  },
  {
   "cell_type": "code",
   "execution_count": 6,
   "id": "5b59589f",
   "metadata": {},
   "outputs": [
    {
     "name": "stdout",
     "output_type": "stream",
     "text": [
      "[[1. 0.]\n",
      " [0. 1.]]\n"
     ]
    }
   ],
   "source": [
    "print(np.dot(Q.T, Q).round(4))"
   ]
  },
  {
   "cell_type": "markdown",
   "id": "a91374b5",
   "metadata": {},
   "source": [
    "As expected, this gives us the identity matrix. The matrix $\\boldsymbol{R}$ is upper triangular, meaning that $\\boldsymbol{R}_{ij} = 0$ for $j<i$. We can also print this:"
   ]
  },
  {
   "cell_type": "code",
   "execution_count": 7,
   "id": "ab986b20",
   "metadata": {},
   "outputs": [
    {
     "name": "stdout",
     "output_type": "stream",
     "text": [
      "[[-1.73205081 -1.73205081]\n",
      " [ 0.         -1.41421356]]\n"
     ]
    }
   ],
   "source": [
    "print(R)"
   ]
  },
  {
   "cell_type": "markdown",
   "id": "341c17ca",
   "metadata": {},
   "source": [
    "Let's see how we can use the QR decomposition to find both the fitted values $\\hat{\\boldsymbol{y}}$ as well as the actual coefficients $\\hat{\\boldsymbol{\\beta}}$, without ever having to call `np.linalg.inv`.\n",
    "\n",
    "To illustrate these ideas, we will use the same California housing dataset that we used in the previous section."
   ]
  },
  {
   "cell_type": "code",
   "execution_count": 8,
   "id": "29e64701",
   "metadata": {},
   "outputs": [],
   "source": [
    "import pandas as pd\n",
    "\n",
    "# load in the dataset\n",
    "dataset = pd.read_csv(\"datasets/california_housing.csv\")\n",
    "\n",
    "# extract the features and the response\n",
    "X = dataset[[c for c in dataset.columns if c!=\"MedHouseVal\"]].to_numpy()\n",
    "y = dataset[\"MedHouseVal\"].to_numpy()\n",
    "\n",
    "# create a (n, 1) array of all ones\n",
    "ones = np.ones(X.shape[0]).reshape(-1,1)\n",
    "\n",
    "# add this array as a new column of X\n",
    "X = np.hstack([ones, X])"
   ]
  },
  {
   "cell_type": "markdown",
   "id": "da87ad57",
   "metadata": {},
   "source": [
    "**Finding $\\hat{\\boldsymbol{y}}$.** Let's start with finding $\\hat{\\boldsymbol{y}}$. Recall that this is given by\n",
    "\n",
    "$$\n",
    "\\hat{\\boldsymbol{y}} = \\boldsymbol{X}(\\boldsymbol{X^\\top X})^{-1}\\boldsymbol{X^\\top y}.\n",
    "$$\n",
    "\n",
    "Let's start by plugging in $\\boldsymbol{X} = \\boldsymbol{QR}$:\n",
    "\n",
    "$$\n",
    "\\begin{align*}\n",
    "\\hat{\\boldsymbol{y}} &= \\boldsymbol{X}(\\boldsymbol{X^\\top X})^{-1}\\boldsymbol{X^\\top y}\\\\\n",
    "&= \\boldsymbol{QR}(\\boldsymbol{(QR)^\\top QR})^{-1}\\boldsymbol{(QR)^\\top y}\\\\\n",
    "&= \\boldsymbol{QR}(\\boldsymbol{R^\\top \\underbrace{Q^\\top Q}_{=\\boldsymbol{I}}R})^{-1}\\boldsymbol{R^\\top\\boldsymbol{Q}^\\top y}\\\\\n",
    "&= \\boldsymbol{Q}\\underbrace{\\boldsymbol{RR}^{-1}}_{=\\boldsymbol{I}}\\underbrace{(\\boldsymbol{R^\\top})^{-1}\\boldsymbol{R}^\\top}_{=\\boldsymbol{I}}\\boldsymbol{Q}^\\top \\boldsymbol{y}\\\\\n",
    "&= \\boldsymbol{QQ}^\\top \\boldsymbol{y}.\n",
    "\\end{align*}\n",
    "$$\n",
    "\n",
    "Thus we see that we can find the fitted values can be computed just using the $\\boldsymbol{Q}$ matrix from the QR decomposition! In fact, the expression $\\boldsymbol{QQ^\\top}$ is just another way of representing the \"hat\" matrix $\\boldsymbol{X}(\\boldsymbol{X^\\top X})^{-1} \\boldsymbol{X^\\top}$. This is convenient, because (as promised) we can compute $\\hat{\\boldsymbol{y}}$ without having to explicitly invert $\\boldsymbol{X^\\top X}$. Let's do this for our housing dataset. (We won't actually print out the full `y_hat` array, as this would be very large.)"
   ]
  },
  {
   "cell_type": "code",
   "execution_count": 9,
   "id": "70a4028e",
   "metadata": {},
   "outputs": [
    {
     "name": "stdout",
     "output_type": "stream",
     "text": [
      "(20640,)\n"
     ]
    }
   ],
   "source": [
    "Q, R = np.linalg.qr(X)\n",
    "QQT = np.dot(Q, Q.T)\n",
    "y_hat = np.dot(QQT, y)\n",
    "print(y_hat.shape)"
   ]
  },
  {
   "cell_type": "markdown",
   "id": "97791d0b",
   "metadata": {},
   "source": [
    "**Finding $\\hat{\\boldsymbol{\\beta}}$ using QR and backsubstitution.** Next, we show that the QR decomposition can be used with another algorithm, called backsubstitution, to explicitly find the coefficients $\\hat{\\boldsymbol{\\beta}}$ without ever having to invert $\\boldsymbol{X^\\top X}$. To do this, recall that $\\hat{\\boldsymbol{\\beta}}$ is the vector $\\boldsymbol{\\beta}$ which satisfies the normal equations:\n",
    "\n",
    "$$\n",
    "\\boldsymbol{X^\\top X\\beta} = \\boldsymbol{X^\\top y}.\n",
    "$$\n",
    "\n",
    "If we again plug in the QR decomposition of $\\boldsymbol{X}$ into this equation and simplify, it's possible to show that the normal equations can be equivalently expressed as\n",
    "\n",
    "$$\n",
    "\\boldsymbol{R\\beta} = \\boldsymbol{Q^\\top y}. \\hspace{10mm} (3)\n",
    "$$\n",
    "\n",
    "While this looks like we haven't done too much to help -- just replaced the names of the matrices in the equations -- what is important is that the matrix $\\boldsymbol{R}$ is now upper triangular. This makes solving equations like $(3)$ considerably easier using an intuitive algorithm called backsubstitution. To see how backsubstitution works, let's first recognize that $(3)$ defines a system of equations that might look something like the following:\n",
    "\n",
    "$$\n",
    "\\begin{align*}\n",
    "x_1 - x_2 + 2x_3 &= 2\\\\\n",
    "3x_2 - x_3 &= 1\\\\\n",
    "2x_3 &= 2\n",
    "\\end{align*}\n",
    "$$\n",
    "\n",
    "This system is \"triangular\", since each equation contains fewer terms than the previous equations. Intuitively, the best way to solve this is by starting at the last equation to easily get $x_3 = 1$, plugging this into the second equation to get $x_2 = 2/3$, and then plugging both of these into the first equation to get $x_1 = 2/3$. This algorithm can in fact be formalized into an algorithm which is simple to implement on a computer called _backsubstitution_.\n",
    "\n",
    "We won't discuss details of how the algorithm is implemented here, but it can be easily accessed in python using the function `scipy.linalg.solve_triangular(R, v)` in the python package `scipy`. This function takes in a triangular matrix $\\boldsymbol{R}$ and a vector $\\boldsymbol{v}$, and returns an array $\\boldsymbol{u}$ satisfying $\\boldsymbol{Ru} = \\boldsymbol{v}$. In our case, $\\boldsymbol{R}$ comes from the QR decomposition of $\\boldsymbol{X}$, and $\\boldsymbol{v} = \\boldsymbol{Q^\\top y}$. Let's use this to get the coefficients of the California housing model."
   ]
  },
  {
   "cell_type": "code",
   "execution_count": 10,
   "id": "931d2c62",
   "metadata": {},
   "outputs": [
    {
     "name": "stdout",
     "output_type": "stream",
     "text": [
      "Intercept: -36.941920207184054\n",
      "MedInc: 0.43669329313432714\n",
      "HouseAge: 0.00943577803323834\n",
      "AveRooms: -0.10732204139090604\n",
      "AveBedrms: 0.6450656935198206\n",
      "Population: -3.976389421212714e-06\n",
      "AveOccup: -0.003786542654970943\n",
      "Latitude: -0.4213143775271393\n",
      "Longitude: -0.4345137546747741\n"
     ]
    }
   ],
   "source": [
    "from scipy.linalg import solve_triangular\n",
    "\n",
    "v = np.dot(Q.T, y)\n",
    "beta_hat = solve_triangular(R, v)\n",
    "\n",
    "# get all the names of the columns\n",
    "feature_names = [\"Intercept\"] + [c for c in dataset.columns if c!=\"MedHouseVal\"]\n",
    "\n",
    "# print the coefficients\n",
    "for name, coeff in zip(feature_names, beta_hat):\n",
    "    print(f\"{name}: {coeff}\")"
   ]
  },
  {
   "cell_type": "markdown",
   "id": "e0444404",
   "metadata": {},
   "source": [
    "Indeed, this method gives us the same solution as before!\n",
    "\n",
    "## What happens when $\\boldsymbol{X^\\top X}$ is not invertible?\n",
    "\n",
    "The QR method described above is an effective method for solving the least squares problem when the inverse of $\\boldsymbol{X^\\top X}$ technically exists, but is computationally difficult to compute. However, there are also examples of data matrices $\\boldsymbol{X}$ for which the inverse doesn't exist at all. In these cases, even the QR-based methods will not work.\n",
    "\n",
    "Let's understand how this situation can arise. Mathematically, the inverse of $\\boldsymbol{X^\\top X}$ will exist whenever the data matrix $\\boldsymbol{X}$ is full column rank. Conversely, if $\\boldsymbol{X^\\top X}$ is not invertible, it means that $\\boldsymbol{X}$ is not full rank, and in particular that the columns of $\\boldsymbol{X}$ are _linearly dependent_, meaning that at least one of features can be written as a linear combination of some of the other features. When this occurs, it means that the normal equations\n",
    "\n",
    "$$\n",
    "\\boldsymbol{X^\\top X \\beta} = \\boldsymbol{X^\\top y}\n",
    "$$\n",
    "\n",
    "actually have many valid solutions, and so we cannot uniquely determine the coefficients $\\hat{\\boldsymbol{\\beta}}$. Later in this course, we will discuss a variety of techniques for handling this situation -- notably, the Ridge and LASSO approaches to regression, which resolve this problem by adding _regularization_. Here, we briefly discuss an alternative which is primarily motivated by linear algebra, and less commonly used in statistical applications (though it has been studied more recently). In the case when the normal equations have many solutions, one needs to use some heuristic to pick one of these. A reasonable option to is pick the $\\boldsymbol{\\beta}$ satisfying $(2)$ that has the smallest norm. Formally this problem becomes:\n",
    "\n",
    "$$\n",
    "\\begin{align*}\n",
    "\\min_{\\boldsymbol{\\beta}}\\;\\; & \\|\\boldsymbol{\\beta}\\|_2\\\\\n",
    "\\text{such that}\\;\\;  & \\boldsymbol{X^\\top X\\beta} = \\boldsymbol{X^\\top y}\n",
    "\\end{align*}\n",
    "$$\n",
    "\n",
    "It turns out the solution to this problem is given by $\\hat{\\boldsymbol{\\beta}} = \\boldsymbol{X}^\\dagger y$ where $\\boldsymbol{X}^\\dagger$ is called the Moore-Penrose pseudo-inverse of $\\boldsymbol{X}$. The pseudo-inverse can be defined and calculated using the singular value decomposition (you can find details [here](https://en.wikipedia.org/wiki/Moore–Penrose_inverse)), though for the sake of this notebook we will use an implementation included in the numpy function `np.linalg.pinv`.\n",
    "\n",
    "Let's first construct a data matrix $\\boldsymbol{X}$ for which $(\\boldsymbol{X^\\top X})^{-1}$ doesn't exist. A simple way to do this is to make a data matrix for which there are more features $p$ than number of observations $n$."
   ]
  },
  {
   "cell_type": "code",
   "execution_count": 11,
   "id": "305dde8e",
   "metadata": {},
   "outputs": [],
   "source": [
    "p = 50\n",
    "n = 30\n",
    "\n",
    "X = np.random.normal(size=(n,p))\n",
    "beta_true = np.random.normal(size=p)\n",
    "y = np.dot(X, beta_true) + 0.2*np.random.normal(size=n)"
   ]
  },
  {
   "cell_type": "markdown",
   "id": "fbf8672d",
   "metadata": {},
   "source": [
    "Next, let's verify that `np.linalg.inv` doesn't work when we try and invert $\\boldsymbol{X^\\top X}$."
   ]
  },
  {
   "cell_type": "code",
   "execution_count": 12,
   "id": "5b4980ee",
   "metadata": {},
   "outputs": [
    {
     "data": {
      "text/plain": [
       "array([[-3.64341212e+12, -3.81586862e+13, -7.52955881e+13, ...,\n",
       "        -5.01751510e+13,  9.79755727e+12, -3.13684242e+13],\n",
       "       [-5.86637859e+13, -2.96664790e+13, -1.97259022e+12, ...,\n",
       "         5.30268998e+13,  1.32138071e+14, -2.99402743e+13],\n",
       "       [ 4.78566633e+12, -1.44694186e+13, -3.22615518e+13, ...,\n",
       "         8.72728597e+12,  1.27494311e+13, -2.19633827e+13],\n",
       "       ...,\n",
       "       [ 2.99130483e+13,  2.25635147e+12,  3.12675116e+13, ...,\n",
       "         4.59574396e+13,  7.80446082e+13, -3.03595051e+13],\n",
       "       [-7.58822242e+12, -4.92054830e+12, -1.02316858e+14, ...,\n",
       "         3.52955152e+13,  8.37974326e+13, -1.42713125e+13],\n",
       "       [-9.97736172e+13,  5.84495737e+12, -1.09254994e+13, ...,\n",
       "         6.71052383e+12, -1.87471513e+11, -1.06820510e+13]])"
      ]
     },
     "execution_count": 12,
     "metadata": {},
     "output_type": "execute_result"
    }
   ],
   "source": [
    "XTX = np.dot(X.T, X)\n",
    "XTX_inv = np.linalg.inv(XTX)\n",
    "XTX_inv"
   ]
  },
  {
   "cell_type": "markdown",
   "id": "4b9f20df",
   "metadata": {},
   "source": [
    "Notice that while the function doesn't actually give us an error, the numbers in $(\\boldsymbol{X^\\top X})^{-1}$ are extremely large (numerically effectively infinity), indicating that there is in fact probably something wrong. (This is a particularly insidious case, where we might naively apply a numpy function and get no error, even though something is going very wrong.)\n",
    "\n",
    "We can verify that this isn't correct by checking that $\\boldsymbol{X^\\top X}(\\boldsymbol{X^\\top X})^{-1}$ isn't actually the identity matrix:"
   ]
  },
  {
   "cell_type": "code",
   "execution_count": 13,
   "id": "dfb45eba",
   "metadata": {},
   "outputs": [
    {
     "data": {
      "text/plain": [
       "array([[ 1.40625000e+00,  1.66015625e-01, -4.44335938e-01, ...,\n",
       "        -4.29687500e-02, -2.89184570e-01, -4.68750000e-02],\n",
       "       [ 1.75000000e+00,  1.32812500e+00, -5.00000000e-01, ...,\n",
       "         6.87500000e-01, -4.62841797e+00,  3.90625000e-01],\n",
       "       [ 1.12500000e+00,  7.77343750e-01,  1.12500000e+00, ...,\n",
       "         8.67187500e-01, -4.79492188e-01, -4.68750000e-02],\n",
       "       ...,\n",
       "       [ 1.15625000e+00,  2.00195312e-01,  4.29687500e-01, ...,\n",
       "         9.26757812e-01,  1.46484375e-03,  1.83593750e-01],\n",
       "       [ 5.31250000e-01,  1.12304688e-01, -6.95312500e-01, ...,\n",
       "         2.80273438e-01,  1.05657959e+00, -3.55468750e-01],\n",
       "       [-2.00000000e+00, -2.18750000e-01,  3.75000000e-01, ...,\n",
       "         2.81250000e-01,  7.76367188e-01,  5.00000000e-01]])"
      ]
     },
     "execution_count": 13,
     "metadata": {},
     "output_type": "execute_result"
    }
   ],
   "source": [
    "np.dot(XTX, XTX_inv)"
   ]
  },
  {
   "cell_type": "markdown",
   "id": "5b3f31ff",
   "metadata": {},
   "source": [
    "We can also check that using this inverse won't give us a correct solution to the normal equations."
   ]
  },
  {
   "cell_type": "code",
   "execution_count": 14,
   "id": "356ab62b",
   "metadata": {},
   "outputs": [
    {
     "data": {
      "text/plain": [
       "False"
      ]
     },
     "execution_count": 14,
     "metadata": {},
     "output_type": "execute_result"
    }
   ],
   "source": [
    "beta_hat_bad = np.dot(XTX_inv, np.dot(X.T, y))\n",
    "\n",
    "# check if (XTX beta_hat) == XTy\n",
    "np.allclose(np.dot(XTX, beta_hat_bad), np.dot(X.T, y))"
   ]
  },
  {
   "cell_type": "markdown",
   "id": "6660818a",
   "metadata": {},
   "source": [
    "This returns false, because $\\boldsymbol{X^\\top X\\beta} \\neq \\boldsymbol{X^\\top y}$, verifying that this didn't actually give us a valid solution to the normal equations.\n",
    "\n",
    "Instead, we can find a valid solution $\\hat{\\boldsymbol{\\beta}}$ using the pseudo-inverse and the numpy function `np.linalg.pinv`:"
   ]
  },
  {
   "cell_type": "code",
   "execution_count": 15,
   "id": "50b61a9a",
   "metadata": {},
   "outputs": [
    {
     "data": {
      "text/plain": [
       "True"
      ]
     },
     "execution_count": 15,
     "metadata": {},
     "output_type": "execute_result"
    }
   ],
   "source": [
    "X_pinv = np.linalg.pinv(X)\n",
    "beta_hat_good = np.dot(X_pinv, y)\n",
    "\n",
    "np.allclose(np.dot(XTX, beta_hat_good), np.dot(X.T, y))"
   ]
  },
  {
   "cell_type": "markdown",
   "id": "24a5a27e",
   "metadata": {},
   "source": [
    "This now works, meaning that the pseudo-inverse did give us a valid solution to the normal equations."
   ]
  }
 ],
 "metadata": {
  "jupytext": {
   "text_representation": {
    "extension": ".md",
    "format_name": "myst",
    "format_version": 0.12,
    "jupytext_version": "1.9.1"
   }
  },
  "kernelspec": {
   "display_name": "Python 3",
   "language": "python",
   "name": "python3"
  },
  "language_info": {
   "codemirror_mode": {
    "name": "ipython",
    "version": 3
   },
   "file_extension": ".py",
   "mimetype": "text/x-python",
   "name": "python",
   "nbconvert_exporter": "python",
   "pygments_lexer": "ipython3",
   "version": "3.9.5"
  },
  "source_map": [
   12,
   56,
   66,
   70,
   76,
   110,
   122,
   140,
   145,
   149,
   151,
   155,
   157,
   161,
   163,
   169,
   184,
   206,
   211,
   239,
   251,
   278,
   285,
   289,
   293,
   299,
   301,
   305,
   310,
   316,
   321
  ]
 },
 "nbformat": 4,
 "nbformat_minor": 5
}