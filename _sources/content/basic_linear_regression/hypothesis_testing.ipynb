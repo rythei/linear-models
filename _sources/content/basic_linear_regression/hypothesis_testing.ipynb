{
 "cells": [
  {
   "cell_type": "markdown",
   "id": "3b58b2d0",
   "metadata": {},
   "source": [
    "# Hypothesis testing for the Gaussian model\n",
    "\n",
    "In this section, we will show that, under the assumption that the Gaussian model is true, we can perform various forms of statistical inference on a fitted linear regression model. In particular, in this section, we will focus on performing hypothesis testing on the coefficients $\\hat{\\boldsymbol{\\beta}}$, though the same ideas can be extended to do other forms of inference, such as obtaining confidence intervals.\n",
    "\n",
    "We will derive two types of hypothesis tests:\n",
    "\n",
    "1. A $t$-test for an individual coefficient $\\hat{\\beta}_j$, and\n",
    "2. An $F$-test for a subset of coefficients $\\hat{\\beta}_{j_1},\\dots,\\hat{\\beta}_{j_k}$.\n",
    "\n",
    "\n",
    "Recall that for the Gaussian model of linear regression, we assume that the responses $y_i$ are generated as\n",
    "\n",
    "$$\n",
    "y_i = \\boldsymbol{\\beta}\\cdot \\boldsymbol{x}_i + \\varepsilon_i\n",
    "$$\n",
    "\n",
    "where $\\varepsilon_i \\sim N(0,\\sigma^2)$. Under this assumption, we saw that the least squares coefficients $\\hat{\\boldsymbol{\\beta}} = (\\boldsymbol{X^\\top X})^{-1}\\boldsymbol{X^\\top y}$ be distributed as\n",
    "\n",
    "$$\n",
    "\\hat{\\boldsymbol{\\beta}}\\mid \\boldsymbol{X} \\sim N(\\boldsymbol{\\beta}, \\sigma^2 \\boldsymbol{X^\\top X}^{-1}). \\hspace{10mm} (1)\n",
    "$$\n",
    "\n",
    "In the following sections, we will use this fact to derive the aformentioned hypothesis tests. As working example, we will again use the fish toxicity dataset that we've used in the previous section. We load this dataset below."
   ]
  },
  {
   "cell_type": "code",
   "execution_count": 1,
   "id": "843a1b08",
   "metadata": {},
   "outputs": [
    {
     "data": {
      "text/html": [
       "<div>\n",
       "<style scoped>\n",
       "    .dataframe tbody tr th:only-of-type {\n",
       "        vertical-align: middle;\n",
       "    }\n",
       "\n",
       "    .dataframe tbody tr th {\n",
       "        vertical-align: top;\n",
       "    }\n",
       "\n",
       "    .dataframe thead th {\n",
       "        text-align: right;\n",
       "    }\n",
       "</style>\n",
       "<table border=\"1\" class=\"dataframe\">\n",
       "  <thead>\n",
       "    <tr style=\"text-align: right;\">\n",
       "      <th></th>\n",
       "      <th>CIC0</th>\n",
       "      <th>SM1_Dz(Z)</th>\n",
       "      <th>GATS1i</th>\n",
       "      <th>NdsCH</th>\n",
       "      <th>NdssC</th>\n",
       "      <th>MLOGP</th>\n",
       "      <th>LC50</th>\n",
       "    </tr>\n",
       "  </thead>\n",
       "  <tbody>\n",
       "    <tr>\n",
       "      <th>0</th>\n",
       "      <td>3.260</td>\n",
       "      <td>0.829</td>\n",
       "      <td>1.676</td>\n",
       "      <td>0</td>\n",
       "      <td>1</td>\n",
       "      <td>1.453</td>\n",
       "      <td>3.770</td>\n",
       "    </tr>\n",
       "    <tr>\n",
       "      <th>1</th>\n",
       "      <td>2.189</td>\n",
       "      <td>0.580</td>\n",
       "      <td>0.863</td>\n",
       "      <td>0</td>\n",
       "      <td>0</td>\n",
       "      <td>1.348</td>\n",
       "      <td>3.115</td>\n",
       "    </tr>\n",
       "    <tr>\n",
       "      <th>2</th>\n",
       "      <td>2.125</td>\n",
       "      <td>0.638</td>\n",
       "      <td>0.831</td>\n",
       "      <td>0</td>\n",
       "      <td>0</td>\n",
       "      <td>1.348</td>\n",
       "      <td>3.531</td>\n",
       "    </tr>\n",
       "    <tr>\n",
       "      <th>3</th>\n",
       "      <td>3.027</td>\n",
       "      <td>0.331</td>\n",
       "      <td>1.472</td>\n",
       "      <td>1</td>\n",
       "      <td>0</td>\n",
       "      <td>1.807</td>\n",
       "      <td>3.510</td>\n",
       "    </tr>\n",
       "    <tr>\n",
       "      <th>4</th>\n",
       "      <td>2.094</td>\n",
       "      <td>0.827</td>\n",
       "      <td>0.860</td>\n",
       "      <td>0</td>\n",
       "      <td>0</td>\n",
       "      <td>1.886</td>\n",
       "      <td>5.390</td>\n",
       "    </tr>\n",
       "  </tbody>\n",
       "</table>\n",
       "</div>"
      ],
      "text/plain": [
       "   CIC0   SM1_Dz(Z)   GATS1i   NdsCH  NdssC  MLOGP   LC50\n",
       "0  3.260       0.829    1.676      0      1  1.453  3.770\n",
       "1  2.189       0.580    0.863      0      0  1.348  3.115\n",
       "2  2.125       0.638    0.831      0      0  1.348  3.531\n",
       "3  3.027       0.331    1.472      1      0  1.807  3.510\n",
       "4  2.094       0.827    0.860      0      0  1.886  5.390"
      ]
     },
     "execution_count": 1,
     "metadata": {},
     "output_type": "execute_result"
    }
   ],
   "source": [
    "import pandas as pd\n",
    "\n",
    "dataset = pd.read_csv(\"datasets/qsar_fish_toxicity.csv\")\n",
    "dataset.head()"
   ]
  },
  {
   "cell_type": "markdown",
   "id": "ef68e9c2",
   "metadata": {},
   "source": [
    "As usual, we will extract the response as a numpy array, and the other features as another array, adding a column of 1's to account for the intercept term in the regression."
   ]
  },
  {
   "cell_type": "code",
   "execution_count": 2,
   "id": "ddd1ca24",
   "metadata": {},
   "outputs": [
    {
     "data": {
      "text/plain": [
       "((908, 7), (908,))"
      ]
     },
     "execution_count": 2,
     "metadata": {},
     "output_type": "execute_result"
    }
   ],
   "source": [
    "import numpy as np\n",
    "\n",
    "# extract the data\n",
    "y = dataset[\"LC50\"].to_numpy()\n",
    "cols = [c for c in dataset.columns if c!=\"LC50\"]\n",
    "X = dataset[cols].to_numpy()\n",
    "\n",
    "# add a column of ones to the X matrix\n",
    "ones = np.ones(X.shape[0]).reshape(-1,1)\n",
    "X = np.hstack([ones, X])\n",
    "\n",
    "X.shape, y.shape"
   ]
  },
  {
   "cell_type": "markdown",
   "id": "39c398e1",
   "metadata": {},
   "source": [
    "We will compare the output of our own code with that of the standard package for fitting statistical models in python, called `statsmodels`. This output will look similar to almost any other statistical software for fitting a linear model, such as `lm` in R.\n",
    "\n",
    "To fit the model using `statsmodels`, we simply run:"
   ]
  },
  {
   "cell_type": "code",
   "execution_count": 3,
   "id": "74f38de9",
   "metadata": {},
   "outputs": [
    {
     "data": {
      "text/html": [
       "<table class=\"simpletable\">\n",
       "<caption>OLS Regression Results</caption>\n",
       "<tr>\n",
       "  <th>Dep. Variable:</th>            <td>y</td>        <th>  R-squared:         </th> <td>   0.577</td> \n",
       "</tr>\n",
       "<tr>\n",
       "  <th>Model:</th>                   <td>OLS</td>       <th>  Adj. R-squared:    </th> <td>   0.574</td> \n",
       "</tr>\n",
       "<tr>\n",
       "  <th>Method:</th>             <td>Least Squares</td>  <th>  F-statistic:       </th> <td>   205.0</td> \n",
       "</tr>\n",
       "<tr>\n",
       "  <th>Date:</th>             <td>Thu, 20 Oct 2022</td> <th>  Prob (F-statistic):</th> <td>1.33e-164</td>\n",
       "</tr>\n",
       "<tr>\n",
       "  <th>Time:</th>                 <td>19:05:48</td>     <th>  Log-Likelihood:    </th> <td> -1238.0</td> \n",
       "</tr>\n",
       "<tr>\n",
       "  <th>No. Observations:</th>      <td>   908</td>      <th>  AIC:               </th> <td>   2490.</td> \n",
       "</tr>\n",
       "<tr>\n",
       "  <th>Df Residuals:</th>          <td>   901</td>      <th>  BIC:               </th> <td>   2524.</td> \n",
       "</tr>\n",
       "<tr>\n",
       "  <th>Df Model:</th>              <td>     6</td>      <th>                     </th>     <td> </td>    \n",
       "</tr>\n",
       "<tr>\n",
       "  <th>Covariance Type:</th>      <td>nonrobust</td>    <th>                     </th>     <td> </td>    \n",
       "</tr>\n",
       "</table>\n",
       "<table class=\"simpletable\">\n",
       "<tr>\n",
       "    <td></td>       <th>coef</th>     <th>std err</th>      <th>t</th>      <th>P>|t|</th>  <th>[0.025</th>    <th>0.975]</th>  \n",
       "</tr>\n",
       "<tr>\n",
       "  <th>const</th> <td>    2.1746</td> <td>    0.181</td> <td>   12.000</td> <td> 0.000</td> <td>    1.819</td> <td>    2.530</td>\n",
       "</tr>\n",
       "<tr>\n",
       "  <th>x1</th>    <td>    0.3856</td> <td>    0.061</td> <td>    6.333</td> <td> 0.000</td> <td>    0.266</td> <td>    0.505</td>\n",
       "</tr>\n",
       "<tr>\n",
       "  <th>x2</th>    <td>    1.2556</td> <td>    0.087</td> <td>   14.430</td> <td> 0.000</td> <td>    1.085</td> <td>    1.426</td>\n",
       "</tr>\n",
       "<tr>\n",
       "  <th>x3</th>    <td>   -0.7464</td> <td>    0.101</td> <td>   -7.365</td> <td> 0.000</td> <td>   -0.945</td> <td>   -0.548</td>\n",
       "</tr>\n",
       "<tr>\n",
       "  <th>x4</th>    <td>    0.4136</td> <td>    0.054</td> <td>    7.644</td> <td> 0.000</td> <td>    0.307</td> <td>    0.520</td>\n",
       "</tr>\n",
       "<tr>\n",
       "  <th>x5</th>    <td>    0.0643</td> <td>    0.041</td> <td>    1.583</td> <td> 0.114</td> <td>   -0.015</td> <td>    0.144</td>\n",
       "</tr>\n",
       "<tr>\n",
       "  <th>x6</th>    <td>    0.3901</td> <td>    0.034</td> <td>   11.555</td> <td> 0.000</td> <td>    0.324</td> <td>    0.456</td>\n",
       "</tr>\n",
       "</table>\n",
       "<table class=\"simpletable\">\n",
       "<tr>\n",
       "  <th>Omnibus:</th>       <td>100.278</td> <th>  Durbin-Watson:     </th> <td>   1.979</td>\n",
       "</tr>\n",
       "<tr>\n",
       "  <th>Prob(Omnibus):</th> <td> 0.000</td>  <th>  Jarque-Bera (JB):  </th> <td> 379.239</td>\n",
       "</tr>\n",
       "<tr>\n",
       "  <th>Skew:</th>          <td> 0.468</td>  <th>  Prob(JB):          </th> <td>4.46e-83</td>\n",
       "</tr>\n",
       "<tr>\n",
       "  <th>Kurtosis:</th>      <td> 6.024</td>  <th>  Cond. No.          </th> <td>    25.9</td>\n",
       "</tr>\n",
       "</table><br/><br/>Notes:<br/>[1] Standard Errors assume that the covariance matrix of the errors is correctly specified."
      ],
      "text/plain": [
       "<class 'statsmodels.iolib.summary.Summary'>\n",
       "\"\"\"\n",
       "                            OLS Regression Results                            \n",
       "==============================================================================\n",
       "Dep. Variable:                      y   R-squared:                       0.577\n",
       "Model:                            OLS   Adj. R-squared:                  0.574\n",
       "Method:                 Least Squares   F-statistic:                     205.0\n",
       "Date:                Thu, 20 Oct 2022   Prob (F-statistic):          1.33e-164\n",
       "Time:                        19:05:48   Log-Likelihood:                -1238.0\n",
       "No. Observations:                 908   AIC:                             2490.\n",
       "Df Residuals:                     901   BIC:                             2524.\n",
       "Df Model:                           6                                         \n",
       "Covariance Type:            nonrobust                                         \n",
       "==============================================================================\n",
       "                 coef    std err          t      P>|t|      [0.025      0.975]\n",
       "------------------------------------------------------------------------------\n",
       "const          2.1746      0.181     12.000      0.000       1.819       2.530\n",
       "x1             0.3856      0.061      6.333      0.000       0.266       0.505\n",
       "x2             1.2556      0.087     14.430      0.000       1.085       1.426\n",
       "x3            -0.7464      0.101     -7.365      0.000      -0.945      -0.548\n",
       "x4             0.4136      0.054      7.644      0.000       0.307       0.520\n",
       "x5             0.0643      0.041      1.583      0.114      -0.015       0.144\n",
       "x6             0.3901      0.034     11.555      0.000       0.324       0.456\n",
       "==============================================================================\n",
       "Omnibus:                      100.278   Durbin-Watson:                   1.979\n",
       "Prob(Omnibus):                  0.000   Jarque-Bera (JB):              379.239\n",
       "Skew:                           0.468   Prob(JB):                     4.46e-83\n",
       "Kurtosis:                       6.024   Cond. No.                         25.9\n",
       "==============================================================================\n",
       "\n",
       "Notes:\n",
       "[1] Standard Errors assume that the covariance matrix of the errors is correctly specified.\n",
       "\"\"\""
      ]
     },
     "execution_count": 3,
     "metadata": {},
     "output_type": "execute_result"
    }
   ],
   "source": [
    "import statsmodels.api as sm\n",
    "\n",
    "results = sm.OLS(y, X).fit()\n",
    "results.summary()"
   ]
  },
  {
   "cell_type": "markdown",
   "id": "19557c41",
   "metadata": {},
   "source": [
    "Now let's fit the model manually, and make sure we can recover the same coefficients (you could also check that the methods we've introduced for computing the $R^2$ and adjusted $R^2$ also match this output)."
   ]
  },
  {
   "cell_type": "code",
   "execution_count": 4,
   "id": "9cd86489",
   "metadata": {},
   "outputs": [
    {
     "data": {
      "text/plain": [
       "array([ 2.17456016,  0.38562621,  1.25562193, -0.74641356,  0.41355009,\n",
       "        0.06433409,  0.39005251])"
      ]
     },
     "execution_count": 4,
     "metadata": {},
     "output_type": "execute_result"
    }
   ],
   "source": [
    "XTX = np.dot(X.T, X)\n",
    "XTX_inv = np.linalg.inv(XTX)\n",
    "beta_hat = np.dot(XTX_inv, np.dot(X.T, y))\n",
    "beta_hat"
   ]
  },
  {
   "cell_type": "markdown",
   "id": "af4d79c8",
   "metadata": {},
   "source": [
    "Indeed, these coefficients are exactly the same as the expected output.\n",
    "\n",
    "## A $t$ test for the hypothesis $\\beta_j = 0$\n",
    "\n",
    "The first hypothesis test we will develop is for the null hypothesis that _one_ of the coefficients, say $\\beta_j$ is equal to $0$. This corresponds to the fact that feature $j$ in the regression is not predictive of the response $y$. Formally, we can write this hypothesis as follows:\n",
    "\n",
    "$$\n",
    "\\begin{align*}\n",
    "H_0: \\beta_j = 0\\\\\n",
    "H_a: \\beta_j \\neq 0\n",
    "\\end{align*}\n",
    "$$\n",
    "\n",
    "To begin, let's suppose that the variance $\\sigma^2$ of the errors were known. Then in this case, we can use the fact, from (1), that\n",
    "\n",
    "$$\n",
    "\\hat{\\beta}_j \\sim N(\\beta_j, \\sigma^2 (\\boldsymbol{X^\\top X})_{jj}^{-1}).\n",
    "$$\n",
    "\n",
    "Under the null hypothesis $\\beta_j = 0$, this becomes $\\beta_j \\sim N(0,\\sigma^2 (\\boldsymbol{X^\\top X})^{-1})$, and so in particular we can compute the statistic\n",
    "\n",
    "$$\n",
    "\\hat{z}_j = \\frac{\\hat{\\beta}_j}{\\sqrt{\\sigma^2 (X^\\top X)^{-1}_{jj}}}\n",
    "$$\n",
    "\n",
    "and obtain the usual $p$-value by computing $P(|Z| > |\\hat{z}_j|)$, where $Z\\sim N(0,1)$.\n",
    "\n",
    "While simple, this test won't quite be correct in practice, as we don't actually know the true variance $\\sigma^2$. Instead, we must estimate this variance using the data. To do this, we will use the estimator\n",
    "\n",
    "$$\n",
    "\\hat{\\sigma}^2 = \\frac{1}{n-p}\\|\\boldsymbol{y} - \\boldsymbol{X}\\hat{\\boldsymbol{\\beta}}\\|_2^2.\n",
    "$$\n",
    "\n",
    "Note that this is slightly different than the maximum likelihood estimate of the variance that we derived in the previous section; choosing to scale by $1/(n-p)$ ensures that $\\hat{\\sigma}^2$ is an unbiased estimate of $\\sigma^2$.\n",
    "\n",
    "Before we can return to hypothesis testing, we first need one more fact regarding the distribution of $\\hat{\\sigma}^2$, namely that it is distributed as\n",
    "\n",
    "$$\n",
    "(n-p)\\hat{\\sigma}^2/\\sigma^2 \\sim \\chi^2(n-p).\n",
    "$$\n",
    "\n",
    "\n",
    "At the bottom of this section, we walk through a sketch of a proof of this fact using some basic linear algebra. In the meantime, we can use this fact to define a slightly different statistic to $\\hat{z}$:\n",
    "\n",
    "$$\n",
    "\\hat{t}_j = \\frac{\\hat{\\beta}_j}{\\sqrt{\\hat{\\sigma}(\\boldsymbol{X^\\top X})^{-1}_{jj}}} = \\frac{\\hat{\\beta}_j/\\sqrt{\\sigma^2 (\\boldsymbol{X^\\top X})^{-1}_{jj}}}{\\hat{\\sigma}/\\sigma}\n",
    "$$\n",
    "\n",
    "The numerator $\\hat{\\beta}_j/\\sqrt{\\sigma^2 (\\boldsymbol{X^\\top X})^{-1}_{jj}}$ is exactly $\\hat{z}$, which we saw under the null hypothesis $\\beta_j = 0$ follows a standard normal distribution. The denominator of $\\hat{t}$ is equal to\n",
    "\n",
    "$$\n",
    "\\sqrt{\\frac{(n-p)\\hat{\\sigma}^2/\\sigma^2}{n-p}}\n",
    "$$\n",
    "\n",
    "which is exactly the square root of a $\\chi^2(n-p)$ distribution divided by its degrees of freedom, $n-p$. This means that $\\hat{t}_j$ will follow a $t$-distribution with degrees of freedom $n-p$. Thus when $\\sigma^2$ is unknown, we can test the null hypothesis $\\beta_j = 0$ by computing the $p$-value $P(|T| > |\\hat{t}_j|)$ where $T \\sim t(n-p)$.\n",
    "\n",
    "Now that we've derived the $t$-test for testing $\\beta_j = 0$, let's try to implement these ourselves. Let's begin by computing the estimate $\\hat{\\sigma}^2$ of the variance."
   ]
  },
  {
   "cell_type": "code",
   "execution_count": 5,
   "id": "b1a1963c",
   "metadata": {},
   "outputs": [],
   "source": [
    "y_hat = np.dot(X, beta_hat)\n",
    "sigma2_hat = 1./(X.shape[0]-X.shape[1])*np.linalg.norm(y-y_hat)**2"
   ]
  },
  {
   "cell_type": "markdown",
   "id": "9a040fa4",
   "metadata": {},
   "source": [
    "Next, we can compute the $t$ statistics for each of the coefficients."
   ]
  },
  {
   "cell_type": "code",
   "execution_count": 6,
   "id": "be0ed2f7",
   "metadata": {},
   "outputs": [
    {
     "data": {
      "text/plain": [
       "[11.999849483001165,\n",
       " 6.332941663429568,\n",
       " 14.42982493526401,\n",
       " -7.364942208856185,\n",
       " 7.64350660082139,\n",
       " 1.5830826156649147,\n",
       " 11.554631959310724]"
      ]
     },
     "execution_count": 6,
     "metadata": {},
     "output_type": "execute_result"
    }
   ],
   "source": [
    "cols = [\"intercept\"] + cols\n",
    "t_stats = []\n",
    "for j in range(X.shape[1]):\n",
    "    sigma2_hat_j = sigma2_hat*XTX_inv[j,j]\n",
    "    t_stat_j = beta_hat[j]/np.sqrt(sigma2_hat_j)\n",
    "    t_stats.append(t_stat_j)\n",
    "\n",
    "t_stats"
   ]
  },
  {
   "cell_type": "markdown",
   "id": "a97f5d8e",
   "metadata": {},
   "source": [
    "These again produce the same output as the table from `statsmodels`! Finally, we can use `scipy` to compute probabilities under the $t$ distribution to get the desired $p$-values."
   ]
  },
  {
   "cell_type": "code",
   "execution_count": 7,
   "id": "40d6ad05",
   "metadata": {},
   "outputs": [
    {
     "data": {
      "text/plain": [
       "[0.0,\n",
       " 3.7913205908068903e-10,\n",
       " 0.0,\n",
       " 1.9999999999996,\n",
       " 5.395683899678261e-14,\n",
       " 0.11375356116631785,\n",
       " 0.0]"
      ]
     },
     "execution_count": 7,
     "metadata": {},
     "output_type": "execute_result"
    }
   ],
   "source": [
    "from scipy.stats import t\n",
    "p_vals = []\n",
    "t_dist = t(df=(X.shape[0]-X.shape[1]))\n",
    "\n",
    "for j in range(X.shape[1]):\n",
    "    p_val_j = 2*(1-t_dist.cdf(t_stats[j]))\n",
    "    p_vals.append(p_val_j)\n",
    "\n",
    "p_vals"
   ]
  },
  {
   "cell_type": "markdown",
   "id": "37ba0f04",
   "metadata": {},
   "source": [
    "These again match the results from the `statsmodels` implementation. To make this a bit clearer, let's organize all the outputs we've had so far into a nice table."
   ]
  },
  {
   "cell_type": "code",
   "execution_count": 8,
   "id": "e4ac92d4",
   "metadata": {},
   "outputs": [
    {
     "data": {
      "text/html": [
       "<div>\n",
       "<style scoped>\n",
       "    .dataframe tbody tr th:only-of-type {\n",
       "        vertical-align: middle;\n",
       "    }\n",
       "\n",
       "    .dataframe tbody tr th {\n",
       "        vertical-align: top;\n",
       "    }\n",
       "\n",
       "    .dataframe thead th {\n",
       "        text-align: right;\n",
       "    }\n",
       "</style>\n",
       "<table border=\"1\" class=\"dataframe\">\n",
       "  <thead>\n",
       "    <tr style=\"text-align: right;\">\n",
       "      <th></th>\n",
       "      <th>variable</th>\n",
       "      <th>coefficient</th>\n",
       "      <th>t-stat</th>\n",
       "      <th>p-value</th>\n",
       "    </tr>\n",
       "  </thead>\n",
       "  <tbody>\n",
       "    <tr>\n",
       "      <th>0</th>\n",
       "      <td>intercept</td>\n",
       "      <td>2.174560</td>\n",
       "      <td>11.999849</td>\n",
       "      <td>0.000000e+00</td>\n",
       "    </tr>\n",
       "    <tr>\n",
       "      <th>1</th>\n",
       "      <td>CIC0</td>\n",
       "      <td>0.385626</td>\n",
       "      <td>6.332942</td>\n",
       "      <td>3.791321e-10</td>\n",
       "    </tr>\n",
       "    <tr>\n",
       "      <th>2</th>\n",
       "      <td>SM1_Dz(Z)</td>\n",
       "      <td>1.255622</td>\n",
       "      <td>14.429825</td>\n",
       "      <td>0.000000e+00</td>\n",
       "    </tr>\n",
       "    <tr>\n",
       "      <th>3</th>\n",
       "      <td>GATS1i</td>\n",
       "      <td>-0.746414</td>\n",
       "      <td>-7.364942</td>\n",
       "      <td>2.000000e+00</td>\n",
       "    </tr>\n",
       "    <tr>\n",
       "      <th>4</th>\n",
       "      <td>NdsCH</td>\n",
       "      <td>0.413550</td>\n",
       "      <td>7.643507</td>\n",
       "      <td>5.395684e-14</td>\n",
       "    </tr>\n",
       "    <tr>\n",
       "      <th>5</th>\n",
       "      <td>NdssC</td>\n",
       "      <td>0.064334</td>\n",
       "      <td>1.583083</td>\n",
       "      <td>1.137536e-01</td>\n",
       "    </tr>\n",
       "    <tr>\n",
       "      <th>6</th>\n",
       "      <td>MLOGP</td>\n",
       "      <td>0.390053</td>\n",
       "      <td>11.554632</td>\n",
       "      <td>0.000000e+00</td>\n",
       "    </tr>\n",
       "  </tbody>\n",
       "</table>\n",
       "</div>"
      ],
      "text/plain": [
       "     variable  coefficient     t-stat       p-value\n",
       "0   intercept     2.174560  11.999849  0.000000e+00\n",
       "1       CIC0      0.385626   6.332942  3.791321e-10\n",
       "2  SM1_Dz(Z)      1.255622  14.429825  0.000000e+00\n",
       "3     GATS1i     -0.746414  -7.364942  2.000000e+00\n",
       "4       NdsCH     0.413550   7.643507  5.395684e-14\n",
       "5       NdssC     0.064334   1.583083  1.137536e-01\n",
       "6       MLOGP     0.390053  11.554632  0.000000e+00"
      ]
     },
     "execution_count": 8,
     "metadata": {},
     "output_type": "execute_result"
    }
   ],
   "source": [
    "regression_outputs = pd.DataFrame({\"variable\": cols, \"coefficient\": beta_hat, \"t-stat\": t_stats, \"p-value\": p_vals})\n",
    "regression_outputs"
   ]
  },
  {
   "cell_type": "markdown",
   "id": "c2d06ad9",
   "metadata": {},
   "source": [
    "Let's now actually interpret what the results of these $t$-tests mean. To do this, let's suppose we've set a significance threshold of $0.05$. Then for each _individual_ coefficient, with the exception of the chemical descriptor `NdssC` (measuring the counts of certain atom-types in a molecule), we reject the null hypothesis that the coefficient is equal to zero.\n",
    "\n",
    "Assuming the Gaussian model is correct, these are valid $p$-values for testing each one of these coefficients individually. However, we need to be careful when interpreting more than one of these tests at a time. To understand why, suppose we wanted to test whether both $\\beta_1 = 0$ _and_ $\\beta_2 = 0$. This hypothesis fails when _either one_ of $\\beta_1$ or $\\beta_2$ is different from zero. The $p$-values we obtain give us the probability that a randomly drawn $\\hat{t}_1$ and a randomly drawm $\\hat{t}_2$ from the $t$ distribution are at least as extreme as their observed values, but to test the hypothesis that $\\beta_1 = 0$ _and_ $\\beta_2 = 0$ what we really need is\n",
    "\n",
    "$$\n",
    "P(|T| > |\\hat{t}_1| \\text{  or  } |T| > |\\hat{t}_2|).\n",
    "$$\n",
    "\n",
    "It is entirely possible that even if the $p$-value for $\\hat{t}_1$ and the $p$-value for $\\hat{t}_2$ are both below some significance threshold, the above probability is not. This is called the problem of _multiple hypothesis testing_ or _multiple comparisons_. There are simple ways to correct for this (e.g. by multiplying the $p$-values by the number of hypotheses to be tested, called a [Bonferroni correction](https://en.wikipedia.org/wiki/Bonferroni_correction)), though in the following section we will see that there is a much better way to compute a joint hypothesis over the coefficients, using an $F$-test.\n",
    "\n",
    "## An $F$ test for joint hypotheses over the coefficients\n",
    "\n",
    "In this subsection, we will describe a method for testing the hypothesis\n",
    "\n",
    "$$\n",
    "\\begin{align}\n",
    "&H_0: \\beta_1=\\beta_2=\\cdots = \\beta_p = 0\\\\\n",
    "&H_a: \\text{At least one $\\beta_j \\neq 0$} \\hspace{10mm} (2)\n",
    "\\end{align}\n",
    "$$\n",
    "\n",
    "However, the methods presented here can easily be extended to more general hypotheses of the form\n",
    "\n",
    "$$\n",
    "\\begin{align*}\n",
    "&H_0: \\beta_{j_1}= c_1, \\; \\beta_{j_2}= c_2, \\cdots, = \\beta_{j_k} = c_k\\\\\n",
    "&H_a: \\text{At least one $\\beta_{j_l} \\neq 0$}\n",
    "\\end{align*}\n",
    "$$\n",
    "\n",
    "where now $j_1,\\dots,j_k \\subseteq \\{1,\\dots,p\\}$ are a subset of the features, and $c_1,\\dots,c_k$ are any set of hypothesized values.\n",
    "\n",
    "To test the hypothesis $(2)$, we need to first develop a reasonable test statistic. Let's suppose that the null hypothesis that $\\beta_1=\\cdots=\\beta_p=0$ is true. In this case\n",
    "\n",
    "$$\n",
    "y_i = \\beta_0 + \\varepsilon_i.\n",
    "$$\n",
    "\n",
    "If this were the case, we would expect the responses $y_i$ to look like normally distributed noise around the constant value $\\bar{y}$, and the predictions $\\hat{y}_i = \\hat{\\boldsymbol{\\beta}}\\cdot \\boldsymbol{x}_i$ shouldn't be much better than this. On the other hand, if the null hypothesis is not true -- and at least one of the coefficients from zero -- then the predictions $\\hat{y}_i$ should be significantly better than the naive estimate $\\bar{y}$.\n",
    "\n",
    "To compare these two scenarios, we could compare the value $\\|y_i - \\bar{y}\\|_2^2$ (which we have previously called the TSS) to the value of $\\|y_i - \\hat{y}_i\\|_2^2$ (previously called the RSS). If the TSS is significantly larger than the RSS, then we would have evidence that the intercept-only model (corresponding to the null hypothesis $\\beta_1=\\cdots=\\beta_p=0$) probably isn't true. One way to do this would be to look at the ratio\n",
    "\n",
    "$$\n",
    "\\frac{\\text{TSS}}{\\text{RSS}}\n",
    "$$\n",
    "\n",
    "In practice, it is more standard however to modify this statistic a bit. Since $\\text{TSS} = \\text{RegSS} + \\text{RSS}$, We could write the statistic as\n",
    "\n",
    "$$\n",
    "\\frac{\\text{TSS}}{\\text{RSS}} = \\frac{\\text{RegSS} + \\text{RSS}}{\\text{RSS}} = 1+ \\frac{\\text{RegSS}}{RSS}.\n",
    "$$\n",
    "\n",
    "In this case, we could equivalently test whether $\\text{RegSS}/\\text{RSS}$ is significantly greater than zero. Importantly, it's possible to show that a) the RSS and RegSS are statistically independent, and 2) that under $H_0$, $\\text{RegSS} = \\|\\hat{y}_i - \\bar{y}\\|_2^2 \\sim \\chi^2(p-1)$ and, and we showed in the previous section, that $\\text{RSS} = \\|y_i - \\hat{y}_i\\|_2^2 \\sim \\chi^2(n-p)$. With this known, we define the $F$ statistic\n",
    "\n",
    "$$\n",
    "\\hat{F} = \\frac{\\|\\hat{y}_i - \\bar{y}\\|_2^2/(p-1)}{\\|y_i-\\hat{y}_i\\|_2^2/(n-p)}.\n",
    "$$\n",
    "\n",
    "This is exactly the ratio of two chi-squared distributions, each divided by their degrees of freedom. By definition, this will follow and $F(p-1,n-p)$ distribution. From this statistic, a p-value can be obtained by computing $P(F > \\hat{F})$. Let's return to the fish toxicity example and actually compute this statistic."
   ]
  },
  {
   "cell_type": "code",
   "execution_count": 9,
   "id": "6757bf86",
   "metadata": {},
   "outputs": [
    {
     "data": {
      "text/plain": [
       "204.9746012507883"
      ]
     },
     "execution_count": 9,
     "metadata": {},
     "output_type": "execute_result"
    }
   ],
   "source": [
    "y_bar = np.mean(y)\n",
    "\n",
    "regss = np.sum((y_hat - y_bar)**2)\n",
    "rss = np.sum((y-y_hat)**2)\n",
    "F_hat = (regss/(X.shape[1]-1))/(rss/(X.shape[0]-X.shape[1]))\n",
    "F_hat"
   ]
  },
  {
   "cell_type": "markdown",
   "id": "ecb939e2",
   "metadata": {},
   "source": [
    "This again matches the $F$-statistic entry from the `statsmodels` output! Finally, we can use this statistic to compute a $p$-value from the $F$ distribution."
   ]
  },
  {
   "cell_type": "code",
   "execution_count": 10,
   "id": "57c75764",
   "metadata": {},
   "outputs": [
    {
     "data": {
      "text/plain": [
       "1.1102230246251565e-16"
      ]
     },
     "execution_count": 10,
     "metadata": {},
     "output_type": "execute_result"
    }
   ],
   "source": [
    "from scipy.stats import f\n",
    "\n",
    "f_dist = f(dfn=(X.shape[1]-1), dfd=(X.shape[0]-X.shape[1]))\n",
    "p_val = (1-f_dist.cdf(F_hat))\n",
    "p_val"
   ]
  },
  {
   "cell_type": "markdown",
   "id": "971959d3",
   "metadata": {},
   "source": [
    "Again we obtain the same $p$-value as the `statsmodels` output (zero). This means that we have confidence, at any significance threshold, that at least one of the coefficients is different from zero. In some settings, this is verification that the model we are studying is non-trivial: we've found evidence that _some_ variable is a non-trivial predictor of the response. However, if we needed to find out which variables it is, we would need to return to our $t$-tests and provide the appropriate correction for testing multiple hypotheses.\n",
    "\n",
    "Of course, everything we've covered so far relies upon the fact that the Gaussian model is correct. This involves to assumptions (either of which failing to hold would make the tests derived here meangless): i) that the true model is actually linear, and ii) that the errors are normally distributed. Soon, we will introduce diagnostic tools that can be used to assess to what extent these assumptions actually appear to hold, which should always been used before interpreting the outputs of hypothesis tests.\n",
    "\n",
    "## Proof of the fact that $(n-p)\\hat{\\sigma}^2/\\sigma^2 \\sim \\chi^2(n-p)$\n",
    "To begin, define the residual vector\n",
    "\n",
    "$$\n",
    "\\boldsymbol{r} = \\boldsymbol{y} - \\hat{\\boldsymbol{y}} = (\\boldsymbol{I}-\\boldsymbol{X}(\\boldsymbol{X^\\top X})^{-1}\\boldsymbol{X^\\top})\\boldsymbol{y} = \\boldsymbol{Qy}\n",
    "$$\n",
    "\n",
    "where we define the matrix $\\boldsymbol{Q} = \\boldsymbol{I}-\\boldsymbol{X}(\\boldsymbol{X^\\top X})^{-1}\\boldsymbol{X^\\top}$. Note that $\\boldsymbol{Q}$ is a projection matrix onto the orthogonal complement of the column space of $\\boldsymbol{X}$, which will be a subspace of dimension $n-p$. This means that\n",
    "\n",
    "$$\n",
    "(n-p)\\hat{\\sigma}^2 = \\|\\boldsymbol{r}\\|_2^2 = \\boldsymbol{y}^\\top \\boldsymbol{Q} \\boldsymbol{y}.\n",
    "$$\n",
    "\n",
    "Now let's write the eigenvalue decomposition $\\boldsymbol{Q} = \\boldsymbol{VDV}^\\top$, where $\\boldsymbol{V}$ is an orthogonal matrix, meaning $\\boldsymbol{V^\\top V} = \\boldsymbol{VV^\\top} = \\boldsymbol{I}$. Moreover, it is a fact that since $\\boldsymbol{Q}$ is a projection onto a subspace of dimension $n-p$, we will also have that\n",
    "\n",
    "$$\n",
    "\\boldsymbol{D} = \\text{diag}(\\underbrace{1,\\dots, 1}_{\\times (n-p)}, \\underbrace{0,\\dots, 0}_{\\times p}).\n",
    "$$\n",
    "\n",
    "We can use the orthogonal matrix $\\boldsymbol{V}$ to construct a transformed version of our residuals: $\\boldsymbol{z} = \\boldsymbol{V^\\top r}$.\n",
    "\n",
    "Importantly, this $\\boldsymbol{p}$ has the same norm as $\\boldsymbol{r}$, since\n",
    "\n",
    "$$\n",
    "\\|\\boldsymbol{z}\\|_2^2 = \\boldsymbol{r^\\top V V^\\top r} = \\boldsymbol{r^\\top r} = \\|\\boldsymbol{r}\\|_2^2.\n",
    "$$\n",
    "\n",
    "Moreover, it's possible to show that $\\boldsymbol{z} \\sim N(0, \\sigma^2 \\boldsymbol{D})$, and so\n",
    "\n",
    "$$\n",
    "\\begin{align*}\n",
    "(n-p)\\frac{\\hat{\\sigma}^2}{\\sigma^2} &= \\frac{1}{\\sigma^2}\\|\\boldsymbol{r}\\|_2^2 = \\frac{1}{\\sigma^2}\\|\\boldsymbol{z}\\|_2^2\\\\\n",
    "&=\\frac{1}{\\sigma^2}\\sum_{j=1}^{n-p} z_i^2 = \\sum_{j=1}^p \\left(\\frac{z_i}{\\sigma}\\right)^2\n",
    "\\end{align*}\n",
    "$$\n",
    "\n",
    "Since $z_i\\sim N(0,\\sigma^2)$, we have that $z_i/\\sigma \\sim N(0,1)$, and so $(n-p)\\frac{\\hat{\\sigma}^2}{\\sigma^2}$ is exactly the sum of $n-p$ squared independent standard normal random variables, and hence follows a $\\chi^2(n-p)$ distribution."
   ]
  }
 ],
 "metadata": {
  "jupytext": {
   "text_representation": {
    "extension": ".md",
    "format_name": "myst",
    "format_version": 0.12,
    "jupytext_version": "1.9.1"
   }
  },
  "kernelspec": {
   "display_name": "Python 3",
   "language": "python",
   "name": "python3"
  },
  "language_info": {
   "codemirror_mode": {
    "name": "ipython",
    "version": 3
   },
   "file_extension": ".py",
   "mimetype": "text/x-python",
   "name": "python",
   "nbconvert_exporter": "python",
   "pygments_lexer": "ipython3",
   "version": "3.9.5"
  },
  "source_map": [
   12,
   38,
   43,
   47,
   60,
   66,
   71,
   75,
   80,
   140,
   143,
   147,
   156,
   159,
   169,
   173,
   176,
   238,
   245,
   249,
   255
  ]
 },
 "nbformat": 4,
 "nbformat_minor": 5
}