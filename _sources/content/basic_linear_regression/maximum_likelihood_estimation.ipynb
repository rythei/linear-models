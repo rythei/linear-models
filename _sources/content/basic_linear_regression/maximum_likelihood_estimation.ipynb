{
 "cells": [
  {
   "cell_type": "markdown",
   "id": "86cf3d11",
   "metadata": {},
   "source": [
    "# Maximum likelihood estimation\n",
    "\n",
    "In this section, we will cover a basic review of _maximum likelihood estimation_ -- a general approach to fitting a statistical model to observed data. The goal will be to introduce the Gaussian model of linear regression, wherein we make the explicit assumption that the errors of the linear regression model follow a normal distribution. We will then review some basic tools for evaluating whether or not this assumption holds in practice. Later, we will use this model to build tools to perform statistical inference on the parameters of the linear regression model, such as performing hypothesis tests and creating confidence intervals for parameters.\n",
    "\n",
    "## Review of the general theory of maximum likelihood\n",
    "\n",
    "Maximum likelihood estimation is a general framework for estimating the parameters of a statistical model. The approach works as follows: we observe data $z_1,\\dots, z_n$, which we assume to be drawn independently and identically distributed from some distribution $p_{\\boldsymbol{\\theta}}(z)$ which is parameterized by an unknown vector of parameters $\\boldsymbol{\\theta} \\in \\Theta$. For example, we might suppose that $z_1,\\dots,z_n$ all are drawn from a normal distribution:\n",
    "\n",
    "$$\n",
    "z_1,\\dots,z_n \\sim N(\\mu,\\sigma^2)\n",
    "$$\n",
    "\n",
    "where in this case $\\boldsymbol{\\theta} = (\\mu, \\sigma^2)$ are the parameters of the model. Our goal is to, given the observations $z_1,\\dots, z_n$, estimate the parameters $\\boldsymbol{\\theta}$. To do this, we first specify the _likelihood_ function, which is simply the joint probability of the sample $z_1,\\dots,z_n$. Since these observations are assumed to be statistically independent, this joint probability is simply the product of the individual densities:\n",
    "\n",
    "$$\n",
    "p_{\\boldsymbol{\\theta}}(z_1,\\dots,z_n) = \\prod_{i=1}^n p_{\\boldsymbol{\\theta}}(z_i).\n",
    "$$\n",
    "\n",
    "This gives a valid probability for any _fixed_ value of $\\boldsymbol{\\theta}$. However, our goal here is to try and estimate the value of $\\boldsymbol{\\theta}$ that generated our data. To do this, we instead think of this joint distribution as a function of the parameters $\\boldsymbol{\\theta}$ (rather than a function of the data). When we do this, we refer to the joint distribution as the _likelihood_ function:\n",
    "\n",
    "$$\n",
    "L(\\boldsymbol{\\theta}; z_1,\\dots,z_n) = \\prod_{i=1}^n p_{\\boldsymbol{\\theta}}(z_i).\n",
    "$$\n",
    "\n",
    "The principal of maximum likelihood estimation states that we should estimate $\\boldsymbol{\\theta}$ by choosing the value $\\hat{\\boldsymbol{\\theta}}$ which makes the observed data the most likely, i.e. that maximizes $L(\\boldsymbol{\\theta}; z_1,\\dots,z_n)$. For many statistical models, it will be more convenient to use the logarithm of the likelihood function to perform this maximization instead, or alternatively to minimize the negative log likelihood:\n",
    "\n",
    "$$\n",
    "-\\ell(\\boldsymbol{\\theta}; z_1,\\dots, z_n) = -\\log L(\\boldsymbol{\\theta}; z_1,\\dots, z_n).\n",
    "$$\n",
    "\n",
    "(This will give the same result since $-\\log$ is a strictly decreasing function.)\n",
    "\n",
    "Let's work through an example using the normal distribution, both using math and python. To do this, suppose that we generate $n=100$ samples independently from a true distribution of $N(-2, 4)$. In python, we can do this with the following."
   ]
  },
  {
   "cell_type": "code",
   "execution_count": 1,
   "id": "4c88e559",
   "metadata": {},
   "outputs": [
    {
     "name": "stdout",
     "output_type": "stream",
     "text": [
      "[-7.49890058 -5.29356972  0.66037694 -1.63288261 -3.68322126 -0.57610778\n",
      "  0.32984028 -4.16142256 -4.76235824 -2.61660245 -1.00640746 -3.25804733\n",
      " -1.79216125 -4.22373711 -2.41295194 -4.94131821 -2.53473825 -3.34699192\n",
      " -5.83514371 -4.33092957 -2.78616939 -1.42957849  1.56348443 -0.00911886\n",
      " -5.06348312 -1.87106249 -2.27707103 -1.76200685 -3.36725606 -0.09971371\n",
      "  0.74352894  1.32708024 -1.22352462  2.81397736 -1.41336864 -0.18524048\n",
      " -2.15011741 -1.15675531 -0.19902255  0.72769527  0.80415255 -2.62087043\n",
      " -1.06824608  0.44401177 -2.67077263 -3.96512414 -1.8156304  -1.79429039\n",
      " -3.65085684 -1.6819979  -2.44896342 -0.0962941  -1.1308399   0.76921111\n",
      " -0.61875198 -1.3421844  -1.3115301  -1.88114697  0.49084384  1.32307389\n",
      " -1.58671498 -2.98686093 -1.92409474 -2.16994785  0.48359669  0.62959272\n",
      "  1.29637915 -3.13673659 -0.74933773 -0.23744481 -1.36196417 -0.18685628\n",
      "  1.44290192  2.32536179 -0.95613073 -4.53134961 -7.24031777 -3.34554788\n",
      " -1.97943449  2.01003955 -0.35168544 -1.60110235 -1.09708505 -1.60980259\n",
      " -4.70771339 -2.01029967 -1.52713853 -0.1971693  -0.70427002  0.19086324\n",
      " -1.40828412 -3.54493284 -3.43947881 -8.1672276   0.29217904 -4.14044533\n",
      " -1.72275765 -2.15809523  0.2797047   0.0423337 ]\n"
     ]
    }
   ],
   "source": [
    "import numpy as np\n",
    "\n",
    "mu_true = -2\n",
    "sigma2_true = 4\n",
    "n = 100\n",
    "\n",
    "# Note: the function np.random.normal takes scale to be\n",
    "# the standard deviation, not the variance,\n",
    "# so we need to take the square root\n",
    "z = np.random.normal(loc=mu_true, scale=np.sqrt(sigma2_true), size=n)\n",
    "print(z)"
   ]
  },
  {
   "cell_type": "markdown",
   "id": "68454842",
   "metadata": {},
   "source": [
    "Now let's pretend we don't know the values of $(\\mu_{true}, \\sigma^2_{true})$, and try and estimate them using maximum likelihood estimation. To do this, we first need to write down the likelihood function. For a single observation $z_i$, the density of the $N(\\mu,\\sigma^2)$ distribution is given by\n",
    "\n",
    "$$\n",
    "p_{\\mu,\\sigma^2}(z) = \\frac{1}{\\sqrt{2\\pi \\sigma^2}}e^{-\\frac{(z-\\mu)^2}{2\\sigma^2}}.\n",
    "$$\n",
    "\n",
    "The the likelihood function is just the product of $n$ of these:\n",
    "\n",
    "$$\n",
    "L(\\mu,\\sigma^2;z_1,\\dots,z_n) = \\prod_{i=1}^n p_{\\mu,\\sigma^2}(z_i) = (2\\pi \\sigma^2)^{-n/2} e^{-\\frac{1}{2\\sigma^2}\\sum_{i=1}^n (z_i-\\mu)^2}.\n",
    "$$\n",
    "\n",
    "Now we will use the trick where we try and minimize the negative log likelihood:\n",
    "\n",
    "$$\n",
    "\\begin{align*}\n",
    "-\\ell(\\mu,\\sigma^2; z_1,\\dots,z_n) &= -\\log L(\\mu,\\sigma^2;z_1,\\dots,z_n) \\\\\n",
    "&= \\frac{n}{2}\\log(2\\pi \\sigma^2) + \\frac{1}{2\\sigma^2}\\sum_{i=1}^n (z_i - \\mu)^2.\n",
    "\\end{align*}\n",
    "$$\n",
    "\n",
    "To find the minimum of this function (corresponding to the maximum of the likelihood function), we need to take derivatives with respect to $\\mu$ and $\\sigma^2$ and set them equal to zero. First we do this for $\\mu$ to get $\\hat{\\mu}$:\n",
    "\n",
    "$$\n",
    "\\begin{align*}\n",
    "\\frac{d}{d\\mu}-\\ell(\\mu,\\sigma^2; z_1,\\dots,z_n) &= -\\frac{1}{\\sigma^2}\\sum_{i=1}^n (z_i - \\mu) = 0 \\\\\n",
    "&\\implies \\hat{\\mu} = \\frac{1}{n}\\sum_{i=1}^n z_i = \\bar{z}.\n",
    "\\end{align*}\n",
    "$$\n",
    "\n",
    "Next, for $\\sigma^2$ we get\n",
    "\n",
    "$$\n",
    "\\begin{align*}\n",
    "\\frac{d}{d\\sigma^2}-\\ell(\\mu,\\sigma^2; z_1,\\dots,z_n) &= \\frac{n}{2\\sigma^2} - \\frac{1}{2\\sigma^4}\\sum_{i=1}^n (z_i-\\mu)^2 = 0 \\\\\n",
    "&\\implies \\hat{\\sigma}^2 = \\frac{1}{n}\\sum_{i=1}^n (z_i-\\hat{\\mu})^2 = \\frac{1}{n}\\sum_{i=1}^n (z_i-\\bar{z})^2.\n",
    "\\end{align*}\n",
    "$$\n",
    "\n",
    "These estimators are called the _maximum likelihood estimators_ of $\\mu$ and $\\sigma^2$. Let's calculate them for the data we sampled above."
   ]
  },
  {
   "cell_type": "code",
   "execution_count": 2,
   "id": "df46aa0b",
   "metadata": {},
   "outputs": [
    {
     "data": {
      "text/plain": [
       "(-1.6678847803156638, 4.450159786502175)"
      ]
     },
     "execution_count": 2,
     "metadata": {},
     "output_type": "execute_result"
    }
   ],
   "source": [
    "mle_mean = np.mean(z)\n",
    "mle_variance = np.mean((z-np.mean(z))**2)\n",
    "mle_mean, mle_variance"
   ]
  },
  {
   "cell_type": "markdown",
   "id": "482f390b",
   "metadata": {},
   "source": [
    "As we can see, these already do a reasonably good job of estimating our true parameters $\\mu_{true}=-2,\\sigma^2_{true}=4$.\n",
    "\n",
    "We might expect that these estimates get better as we gather more samples. Indeed, this is one important property of maximum likelihood estimators: they are asymptotically _consistent_, meaning that, if the true data is actually generated from the model distribution, then\n",
    "\n",
    "$$\n",
    "\\lim_{n\\to \\infty} \\hat{\\boldsymbol{\\theta}} = \\boldsymbol{\\theta}_{true}.\n",
    "$$\n",
    "\n",
    "We can simulate this to check that it is indeed the case for the normal distribution example given here. We will do this with the following simulation: for each $n = 5, 10, 20, 40,\\cdots, 1280$ we will sample $B=50$ datasets of size $n$, and compute the maximum likelihood estimates of the mean and variance. We will plot this against the ground truth to estimate how quickly these converge."
   ]
  },
  {
   "cell_type": "code",
   "execution_count": 3,
   "id": "65e14f83",
   "metadata": {},
   "outputs": [
    {
     "data": {
      "image/png": "[encoded data removed]",
      "text/plain": [
       "<Figure size 864x288 with 2 Axes>"
      ]
     },
     "metadata": {
      "filenames": {
       "image/png": "/Users/rythei/Library/CloudStorage/GoogleDrive-ryanctheisen@gmail.com/My Drive/PhD/Teaching/Stat151_Fall2022/linear-models/_build/jupyter_execute/content/basic_linear_regression/maximum_likelihood_estimation_5_0.png"
      },
      "needs_background": "light"
     },
     "output_type": "display_data"
    }
   ],
   "source": [
    "import matplotlib.pyplot as plt\n",
    "\n",
    "# create a figure for side-by-side plots\n",
    "fig, axs = plt.subplots(1,2,figsize=(12,4))\n",
    "axs = axs.flatten()\n",
    "\n",
    "# specify number of trials and range of n values we'll try\n",
    "n_trials = 50\n",
    "n_range = [5*int(2**k) for k in range(1,9)]\n",
    "\n",
    "mmeans = [] # use this to store the mean of the means\n",
    "smeans = [] # use this to store the sd of the means\n",
    "\n",
    "mvars = [] # means of the variances\n",
    "svars = [] # standard deviation of the variance\n",
    "\n",
    "for n in n_range:\n",
    "    curr_means = [] # to store the results at the current step\n",
    "    curr_vars = []\n",
    "    for b in range(n_trials):\n",
    "        z = np.random.normal(loc=mu_true, scale=np.sqrt(sigma2_true), size=n) # generate samples\n",
    "        curr_means.append(np.mean(z)) # compute MLE mean\n",
    "        curr_vars.append(np.mean((z-np.mean(z))**2)) # compute MLE variance\n",
    "\n",
    "    mmeans.append(np.mean(curr_means)) # mean of the means\n",
    "    smeans.append(np.std(curr_means)) # standard dev of means\n",
    "    mvars.append(np.mean(curr_vars)) # mean of the variances\n",
    "    svars.append(np.std(curr_vars)) # standard dev of the variances\n",
    "\n",
    "# convert these from lists to numpy arrays, makes calculations easier below\n",
    "mmeans = np.array(mmeans)\n",
    "smeans = np.array(smeans)\n",
    "mvars = np.array(mvars)\n",
    "svars = np.array(svars)\n",
    "\n",
    "# plot the results for the means, with shaded area represented 1 standard dev\n",
    "axs[0].plot(n_range, mmeans, marker='o', label=\"MLE mean\", color='blue')\n",
    "axs[0].fill_between(n_range, mmeans-smeans, mmeans+smeans, color='blue', alpha=0.5)\n",
    "axs[0].hlines(mu_true, np.min(n_range), np.max(n_range), label=\"True mean\", color='black', linestyle='-.')\n",
    "axs[0].set_xlabel(\"n\", fontsize=12)\n",
    "axs[0].set_ylabel(\"Estimated mean\", fontsize=12)\n",
    "axs[0].set_title(\"MLE mean vs n\", fontsize=12)\n",
    "axs[0].legend()\n",
    "\n",
    "# plot the results for the variances, with shaded area represented 1 standard dev\n",
    "axs[1].plot(n_range, mvars, marker='o', label=\"MLE variance\", color='red')\n",
    "axs[1].fill_between(n_range, mvars-svars, mvars+svars, color='red', alpha=0.5)\n",
    "axs[1].hlines(sigma2_true, np.min(n_range), np.max(n_range), label=\"True variance\", color='black', linestyle='-.')\n",
    "axs[1].set_xlabel(\"n\", fontsize=12)\n",
    "axs[1].set_ylabel(\"Estimated variance\", fontsize=12)\n",
    "axs[1].set_title(\"MLE variance vs n\", fontsize=12)\n",
    "axs[1].legend()\n",
    "\n",
    "plt.tight_layout()\n",
    "plt.show()"
   ]
  },
  {
   "cell_type": "markdown",
   "id": "602c54c5",
   "metadata": {},
   "source": [
    "From the plot we can see that the MLE estimates quickly become very accurate estimates of the true parameter values. Of course, in this setting, we simulated our data, so we _know_ that the normal distribution was the correct model. When this is not the case (as it typically is not in practice), we will need to develop tools to be able to assess our distributional assumptions. Later in this section, we will discuss one such tool.\n",
    "\n",
    "## The Gaussian model for linear regression\n",
    "Now that we've reviewed the basics of maximum likelihood estimation, we can apply this approach to our linear model. Let's first write down our basic linear model:\n",
    "\n",
    "$$\n",
    "y_i = \\boldsymbol{\\beta}\\cdot \\boldsymbol{x}_i + \\varepsilon_i,\n",
    "$$\n",
    "\n",
    "where so far we have assumed that $\\varepsilon_i$ satisfies:\n",
    "\n",
    "- independence across observations $i$\n",
    "- zero mean equal variance $\\sigma^2$ across observations\n",
    "\n",
    "To be able to perform maximum likelihood estimation on the parameters $\\boldsymbol{\\beta}$ of our linear model, we will need to add a bit more than this. In particular, we will assume that the errors follow a normal distribution (also called the Gaussian distribution), so that\n",
    "\n",
    "$$\n",
    "\\varepsilon_1,\\dots,\\varepsilon_n \\stackrel{i.i.d.}{\\sim} N(0,\\sigma^2).\n",
    "$$\n",
    "\n",
    "Moreover, we will continue to assume that the $\\boldsymbol{x}_i$'s are known and not random. Then this means that the response $y_i$ is modeled to be the sum of a non-random term $\\boldsymbol{\\beta}\\cdot \\boldsymbol{x}_i$, plus a normally distributed random variable $\\varepsilon_i \\sim N(0,\\sigma^2)$. Hence under this model, $y_i \\sim N(\\boldsymbol{\\beta}\\cdot \\boldsymbol{x}_i, \\sigma^2)$.\n",
    "\n",
    "Now we can write down the joint likelihood of $y_1,\\dots,y_n$ conditioned on $\\boldsymbol{x}_1,\\dots,\\boldsymbol{x}_n$ _and_ the parameters $\\boldsymbol{\\beta},\\sigma^2$. (Note that $\\sigma^2$ is also a parameter than we need to estimate in this model!)\n",
    "\n",
    "$$\n",
    "L(\\boldsymbol{\\beta},\\sigma^2\\mid (\\boldsymbol{x}_i,y_i)_{i=1}^n)=p(y_1,\\dots,y_n\\mid \\boldsymbol{x}_1,\\dots,\\boldsymbol{x}_n,\\boldsymbol{\\beta},\\sigma^2) = \\prod_{i=1}^n \\frac{1}{\\sqrt{2\\pi \\sigma^2}}e^{-\\frac{(y_i - \\boldsymbol{\\beta}\\cdot \\boldsymbol{x}_i)}{2\\sigma^2}}\n",
    "$$\n",
    "\n",
    "The negative log-likelihood becomes:\n",
    "\n",
    "$$\n",
    "\\begin{align*}\n",
    "-\\ell(\\boldsymbol{\\beta},\\sigma^2\\mid (\\boldsymbol{x}_i,y_i)_{i=1}^n) &= -\\log L(\\boldsymbol{\\beta},\\sigma^2\\mid (\\boldsymbol{x}_i,y_i)_{i=1}^n)\\\\\n",
    "&= \\frac{n}{2}\\log(2\\pi\\sigma^2) + \\frac{1}{2\\sigma^2}\\sum_{i=1}^n (y_i - \\boldsymbol{\\beta}\\cdot \\boldsymbol{x}_i)^2 \\\\\n",
    "&= \\frac{n}{2}\\log(2\\pi\\sigma^2) + \\frac{1}{2\\sigma^2}\\|\\boldsymbol{y} - \\boldsymbol{X\\beta}\\|_2^2,\n",
    "\\end{align*}\n",
    "$$\n",
    "\n",
    "where here we've defined $\\boldsymbol{X}$ to be the matrix containing $\\boldsymbol{x}_1,\\dots,\\boldsymbol{x}_n$ as its rows, and $\\boldsymbol{y}$ to be the vector containing $y_1,\\dots,y_n$. Notice that the term that depends on $\\boldsymbol{\\beta}$ is exactly our least squares objective $\\|\\boldsymbol{y} - \\boldsymbol{X\\beta}\\|_2^2$! This means if we take derivatives with respect to $\\boldsymbol{\\beta}$ and set them equal to zero, we will get exactly our usual solution back:\n",
    "\n",
    "$$\n",
    "\\hat{\\boldsymbol{\\beta}} = (\\boldsymbol{X^\\top X})^{-1} \\boldsymbol{X^\\top y}.\n",
    "$$\n",
    "\n",
    "This means that our usual least squares estimates for the parameters of the linear regression model _are the maximum likelihood estimates of $\\boldsymbol{\\beta}$ under the Gaussian model_. Previously, we chose the least-squares problem as a reasonable heuristic to use to fit a linear regression, but now maximum likelihood gives us a principled statistical model that naturally yields the same estimator.\n",
    "\n",
    "For $\\sigma^2$, the derivation works essentially the same as in our simple normal MLE problem above:\n",
    "\n",
    "$$\n",
    "\\hat{\\sigma}^2 = \\frac{1}{n}\\sum_{i=1}^n (y_i - \\boldsymbol{\\beta}\\cdot \\boldsymbol{x}_i)^2 = \\frac{1}{n}\\|\\boldsymbol{y}-\\hat{\\boldsymbol{y}}\\|_2^2.\n",
    "$$\n",
    "\n",
    "> Remark: we will often work with a different estimator of the variance, namely $\\hat{\\sigma}^2 = \\frac{1}{n-p}\\|\\boldsymbol{y}-\\hat{\\boldsymbol{y}}\\|_2^2$. The reason for the scaling $1/(n-p)$ is that it makes this version of $\\hat{\\sigma}^2$ an _unbiased_ estimate of $\\sigma^2$, in the sense that $\\mathbb{E}[\\hat{\\sigma}^2] = \\sigma^2$.\n",
    "\n",
    "While none of this is particularly new -- we obtain the same quantities we got before ever explicitly introducing the Gaussian model -- we can now do some additional cool things. For example, we can actually derive the distribution of the parameters $\\hat{\\boldsymbol{\\beta}}$. To do this, note that $\\hat{\\boldsymbol{\\beta}}$ is a linear function of $\\boldsymbol{y}$, hence\n",
    "\n",
    "$$\n",
    "\\begin{align*}\n",
    "\\hat{\\boldsymbol{\\beta}} &= (\\boldsymbol{X^\\top X})^{-1} \\boldsymbol{X^\\top y}\\\\\n",
    "&= (\\boldsymbol{X^\\top X})^{-1} \\boldsymbol{X^\\top (\\underbrace{\\boldsymbol{X\\beta}_\\star + \\boldsymbol{\\varepsilon}}_{(i)})}\\\\\n",
    "&= (\\boldsymbol{X^\\top X})^{-1} \\boldsymbol{X^\\top X \\beta}_\\star + (\\boldsymbol{X^\\top X})^{-1} \\boldsymbol{X^\\top\\varepsilon}\\\\\n",
    "&= \\boldsymbol{\\beta}_\\star + (\\boldsymbol{X^\\top X})^{-1} \\boldsymbol{X^\\top\\varepsilon}\n",
    "\\end{align*}\n",
    "$$\n",
    "\n",
    "Here $(i)$ holds because we are assuming that there is some true underlying linear model, i.e. that $\\boldsymbol{y} = \\boldsymbol{X\\beta}_\\star + \\boldsymbol{\\varepsilon}$ for some unknown parameters $\\boldsymbol{\\beta}_\\star$. Under this assumption, we get a linear combination of two terms: the first is $\\boldsymbol{\\beta}_\\star$, or the \"true\" regression parameters, which we assume have generated our data. The second is $(\\boldsymbol{X^\\top X})^{-1} \\boldsymbol{X^\\top\\varepsilon}$, which is really just a linear transformation of the Gaussian random vector $\\boldsymbol{\\varepsilon}$, which itself will follow a normal distribution. Let's figure out what its parameters are. Since $\\mathbb{E}[\\boldsymbol{\\varepsilon}] = 0$, we have\n",
    "\n",
    "$$\n",
    "\\mathbb{E}[(\\boldsymbol{X^\\top X})^{-1} \\boldsymbol{X^\\top\\varepsilon}] = 0.\n",
    "$$\n",
    "\n",
    "To compute the variance, we need the following fact: if $\\boldsymbol{Z} \\sim N(0,\\sigma^2 \\boldsymbol{I})$ and $\\boldsymbol{A}$ is a matrix, then $\\boldsymbol{AZ} \\sim N(0, \\sigma^2\\boldsymbol{AA^\\top})$.\n",
    "\n",
    "Hence, the variance of $\\hat{\\boldsymbol{\\beta}}$ is\n",
    "\n",
    "$$\n",
    "\\text{Cov}[(\\boldsymbol{X^\\top X})^{-1} \\boldsymbol{X^\\top\\varepsilon}] =  (\\boldsymbol{X^\\top X})^{-1}\\boldsymbol{X^\\top}\\sigma^2 \\boldsymbol{I}\\boldsymbol{X}(\\boldsymbol{X^\\top X})^{-1}= \\sigma^2 (\\boldsymbol{X^\\top X})^{-1}.\n",
    "$$\n",
    "\n",
    "Thus we have finally that\n",
    "\n",
    "$$\n",
    "\\hat{\\boldsymbol{\\beta}} \\sim N(\\boldsymbol{\\beta}_\\star, \\sigma^2 (\\boldsymbol{X^\\top X})^{-1}).\n",
    "$$\n",
    "\n",
    "From this we can get a few things: first, we know that $\\hat{\\boldsymbol{\\beta}}$ is an _unbiased_ estimator of the true regression coefficients, meaning that $\\mathbb{E}[\\hat{\\boldsymbol{\\beta}}] = \\boldsymbol{\\beta}_\\star$. Second, we can derive the marginal distribution of each individual coefficient: $\\beta_j \\sim N(\\beta_{\\star,j}, \\sigma^2 (\\boldsymbol{X^\\top X})^{-1}_{jj})$ where $(\\boldsymbol{X^\\top X})^{-1}_{jj}$ is the $j$th diagonal entry of the matrix $(\\boldsymbol{X^\\top X})^{-1}$. This can be used, for example, to construct confidence intervals for the values of the coefficients. Note that all the variances here depend on $\\sigma^2$, which is unknown, so in practice we will simply plug in the estimated value $\\hat{\\sigma}^2$, and sometimes switch to using the $t$-distribution to account for the fact that we must also estimate the variance; we will talk more about this in another section.\n",
    "\n",
    "> Remark: when we say \"distribution of $\\hat{\\boldsymbol{\\beta}}$\" we need to be clear what randomness we're talking about. Specifically, we mean randomness that comes from the response $y_i$ _conditioned on_ $\\boldsymbol{x}_i$. So if we're being careful about notation, we should really write $\\hat{\\boldsymbol{\\beta}}\\mid \\boldsymbol{X} \\sim N(\\boldsymbol{\\beta}_\\star, \\sigma^2 (\\boldsymbol{X^\\top X})^{-1})$ to indicate that the _conditional distribution_ of $\\hat{\\boldsymbol{\\beta}}$ _given_ $\\boldsymbol{X}$ follows this normal distribution.\n",
    "\n",
    "Let's work through a simple example of obtaining the full distribution of the regression coefficients. For this, we will use the fish toxicity dataset, which attempts to predict the toxicity of certain drugs for a type of fish using various molecular properties of the drugs."
   ]
  },
  {
   "cell_type": "code",
   "execution_count": 4,
   "id": "21e3f6ed",
   "metadata": {},
   "outputs": [
    {
     "data": {
      "text/html": [
       "<div>\n",
       "<style scoped>\n",
       "    .dataframe tbody tr th:only-of-type {\n",
       "        vertical-align: middle;\n",
       "    }\n",
       "\n",
       "    .dataframe tbody tr th {\n",
       "        vertical-align: top;\n",
       "    }\n",
       "\n",
       "    .dataframe thead th {\n",
       "        text-align: right;\n",
       "    }\n",
       "</style>\n",
       "<table border=\"1\" class=\"dataframe\">\n",
       "  <thead>\n",
       "    <tr style=\"text-align: right;\">\n",
       "      <th></th>\n",
       "      <th>CIC0</th>\n",
       "      <th>SM1_Dz(Z)</th>\n",
       "      <th>GATS1i</th>\n",
       "      <th>NdsCH</th>\n",
       "      <th>NdssC</th>\n",
       "      <th>MLOGP</th>\n",
       "      <th>LC50</th>\n",
       "    </tr>\n",
       "  </thead>\n",
       "  <tbody>\n",
       "    <tr>\n",
       "      <th>0</th>\n",
       "      <td>3.260</td>\n",
       "      <td>0.829</td>\n",
       "      <td>1.676</td>\n",
       "      <td>0</td>\n",
       "      <td>1</td>\n",
       "      <td>1.453</td>\n",
       "      <td>3.770</td>\n",
       "    </tr>\n",
       "    <tr>\n",
       "      <th>1</th>\n",
       "      <td>2.189</td>\n",
       "      <td>0.580</td>\n",
       "      <td>0.863</td>\n",
       "      <td>0</td>\n",
       "      <td>0</td>\n",
       "      <td>1.348</td>\n",
       "      <td>3.115</td>\n",
       "    </tr>\n",
       "    <tr>\n",
       "      <th>2</th>\n",
       "      <td>2.125</td>\n",
       "      <td>0.638</td>\n",
       "      <td>0.831</td>\n",
       "      <td>0</td>\n",
       "      <td>0</td>\n",
       "      <td>1.348</td>\n",
       "      <td>3.531</td>\n",
       "    </tr>\n",
       "    <tr>\n",
       "      <th>3</th>\n",
       "      <td>3.027</td>\n",
       "      <td>0.331</td>\n",
       "      <td>1.472</td>\n",
       "      <td>1</td>\n",
       "      <td>0</td>\n",
       "      <td>1.807</td>\n",
       "      <td>3.510</td>\n",
       "    </tr>\n",
       "    <tr>\n",
       "      <th>4</th>\n",
       "      <td>2.094</td>\n",
       "      <td>0.827</td>\n",
       "      <td>0.860</td>\n",
       "      <td>0</td>\n",
       "      <td>0</td>\n",
       "      <td>1.886</td>\n",
       "      <td>5.390</td>\n",
       "    </tr>\n",
       "  </tbody>\n",
       "</table>\n",
       "</div>"
      ],
      "text/plain": [
       "   CIC0   SM1_Dz(Z)   GATS1i   NdsCH  NdssC  MLOGP   LC50\n",
       "0  3.260       0.829    1.676      0      1  1.453  3.770\n",
       "1  2.189       0.580    0.863      0      0  1.348  3.115\n",
       "2  2.125       0.638    0.831      0      0  1.348  3.531\n",
       "3  3.027       0.331    1.472      1      0  1.807  3.510\n",
       "4  2.094       0.827    0.860      0      0  1.886  5.390"
      ]
     },
     "execution_count": 4,
     "metadata": {},
     "output_type": "execute_result"
    }
   ],
   "source": [
    "import pandas as pd\n",
    "\n",
    "dataset = pd.read_csv(\"datasets/qsar_fish_toxicity.csv\")\n",
    "dataset.head()"
   ]
  },
  {
   "cell_type": "markdown",
   "id": "c9373a6c",
   "metadata": {},
   "source": [
    "As usual, we will extract the response as a numpy array, and the other as another array, adding a column of 1's to account for the intercept term in the regression."
   ]
  },
  {
   "cell_type": "code",
   "execution_count": 5,
   "id": "40a6d6d2",
   "metadata": {},
   "outputs": [
    {
     "data": {
      "text/plain": [
       "((908, 7), (908,))"
      ]
     },
     "execution_count": 5,
     "metadata": {},
     "output_type": "execute_result"
    }
   ],
   "source": [
    "# extract the data\n",
    "y = dataset[\"LC50\"].to_numpy()\n",
    "cols = [c for c in dataset.columns if c!=\"LC50\"]\n",
    "X = dataset[cols].to_numpy()\n",
    "\n",
    "# add a column of ones to the X matrix\n",
    "ones = np.ones(X.shape[0]).reshape(-1,1)\n",
    "X = np.hstack([ones, X])\n",
    "\n",
    "X.shape, y.shape"
   ]
  },
  {
   "cell_type": "markdown",
   "id": "30aab372",
   "metadata": {},
   "source": [
    "Next, we need to fit the regression model to get the coefficients $\\hat{\\boldsymbol{\\beta}}$, and also get the estimated value $\\hat{\\sigma}^2$."
   ]
  },
  {
   "cell_type": "code",
   "execution_count": 6,
   "id": "eab355e6",
   "metadata": {},
   "outputs": [
    {
     "name": "stdout",
     "output_type": "stream",
     "text": [
      "coefficent for intercept: 2.1746, variance for intercept: 0.0326\n",
      "coefficent for CIC0 : 0.3856, variance for CIC0 : 0.0037\n",
      "coefficent for SM1_Dz(Z) : 1.2556, variance for SM1_Dz(Z) : 0.0075\n",
      "coefficent for GATS1i : -0.7464, variance for GATS1i : 0.0102\n",
      "coefficent for NdsCH: 0.4136, variance for NdsCH: 0.0029\n",
      "coefficent for NdssC: 0.0643, variance for NdssC: 0.0016\n",
      "coefficent for MLOGP: 0.3901, variance for MLOGP: 0.0011\n"
     ]
    }
   ],
   "source": [
    "# compute beta_hat = (XTX)^{-1}XTy\n",
    "XTX = np.dot(X.T, X)\n",
    "XTX_inv = np.linalg.inv(XTX)\n",
    "beta_hat = np.dot(XTX_inv, np.dot(X.T, y))\n",
    "\n",
    "# compute sigma2_hat = |y-y_hat|^2/n\n",
    "y_hat = np.dot(X, beta_hat)\n",
    "sigma2_hat = np.mean((y-y_hat)**2)\n",
    "\n",
    "# print the coefficients and the estimated variance for each coefficient\n",
    "cols = [\"intercept\"] + cols\n",
    "for j in range(len(cols)):\n",
    "    sigma2_hat_j = sigma2_hat*XTX_inv[j,j]\n",
    "    print(f\"coefficent for {cols[j]}: {round(beta_hat[j],4)}, variance for {cols[j]}: {round(sigma2_hat_j,4)}\")"
   ]
  },
  {
   "cell_type": "markdown",
   "id": "c5193508",
   "metadata": {},
   "source": [
    "In this section, we covered the basics of maximum likelihood estimation, and saw that if we assume a Gaussian model for the errors in linear regression, use the ML framework to obtain the same least-squares estimates for the parameters as we had before. In the coming sections, we will 1) develop diagnostic tools for assessing the plausibility of the Gaussian model and 2) use the Gaussian model to perform statistical inference, such as hypothesis tests and confidence intervals for the coefficients.\n",
    "<!--\n",
    "## Checking the assumptions of the Gaussian model using QQ plots\n",
    "In the above, we found that we could get a full distribution of the coefficients $\\hat{\\boldsymbol{\\beta}}$ for the Gaussian model of linear regression. In practice, however, if we'd like to use these results, we need to verify that this model is actually reasonable for the data we've obtained. Recall that this model critically relied on two assumptions:\n",
    "\n",
    "1. The model is linear, so $y_i = \\boldsymbol{\\beta}_\\star \\cdot \\boldsymbol{x}_i + \\varepsilon_i$ for some coefficients $\\boldsymbol{\\beta}_\\star$\n",
    "2. The errors $\\varepsilon_i$ are drawn i.i.d. from a normal distribution $N(0,\\sigma^2)$.\n",
    "\n",
    "In practice, it's unlikely that either of these are _exactly_ true. However, they may be close enough to being true to yield meaningful results. (See the [famous quote](https://en.wikipedia.org/wiki/All_models_are_wrong) by the statistical George Box.) We will discuss more about the assumption of linearity later; in this section, we will focus on checking whether or not the errors appear to follow a normal distribution. -->"
   ]
  }
 ],
 "metadata": {
  "jupytext": {
   "text_representation": {
    "extension": ".md",
    "format_name": "myst",
    "format_version": 0.12,
    "jupytext_version": "1.9.1"
   }
  },
  "kernelspec": {
   "display_name": "Python 3",
   "language": "python",
   "name": "python3"
  },
  "language_info": {
   "codemirror_mode": {
    "name": "ipython",
    "version": 3
   },
   "file_extension": ".py",
   "mimetype": "text/x-python",
   "name": "python",
   "nbconvert_exporter": "python",
   "pygments_lexer": "ipython3",
   "version": "3.9.5"
  },
  "source_map": [
   12,
   48,
   60,
   103,
   107,
   119,
   175,
   268,
   273,
   277,
   288,
   292,
   307
  ]
 },
 "nbformat": 4,
 "nbformat_minor": 5
}