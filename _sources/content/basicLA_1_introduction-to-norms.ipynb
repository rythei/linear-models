{
 "cells": [
  {
   "cell_type": "markdown",
   "id": "e6d68e47",
   "metadata": {},
   "source": [
    "# Introduction to Norms\n",
    "\n",
    "A _norm_ is a function that measures the \"size\" of something.\n",
    "One example of a norm is the familiar Euclidean norm, which uses the expression $(x_1^2+x_2^2)^{1/2}$ to compute the \"size\" or \"magnitude\" of a point $(x_1,x_2)$ in the two-dimensional Euclidean plane.\n",
    "If we view that point as a vector, then that is the Euclidean norm of the vector.\n",
    "\n",
    "So, let's start with vectors and norms of vectors.\n",
    "(We can have norms for other things, like matrices, functions, etc., but let's start with vectors and norms of vectors.)\n",
    "In linear algebra, _vectors_ are objects that are used to model data that we will work with frequently; and it is common to consider the norm of a vector.\n",
    "\n",
    "The Euclidean norm, and its generalization to vectors in $\\mathbb{R}^{n}$, is particulalry important for linear algebra and data science.\n",
    "However, there are other norms, and many of these other norms are also useful.\n",
    "So, it is important to be familiar with them and their basic properties.\n",
    "Here, we will introduce and work with different types of norms.\n",
    "\n",
    "We will talk more later about exactly what vectors are mathematically, but for now and for the sake of computation it is common to think of a vector simply as a array of numbers upon which certain operations can be performed.\n",
    "In Python, the most convenient way to store a vector is in a numpy array, such as the following:"
   ]
  },
  {
   "cell_type": "code",
   "execution_count": 1,
   "id": "82648832",
   "metadata": {},
   "outputs": [
    {
     "data": {
      "text/plain": [
       "array([1, 2, 3])"
      ]
     },
     "execution_count": 1,
     "metadata": {},
     "output_type": "execute_result"
    }
   ],
   "source": [
    "import numpy as np\n",
    "\n",
    "x = np.array([1,2,3])\n",
    "x"
   ]
  },
  {
   "cell_type": "markdown",
   "id": "26731e15",
   "metadata": {},
   "source": [
    "Observe that we had to `import numpy`.\n",
    "This imports the `numpy` package, which is a package that supports multi-dimensional arrays and matrices, including high-level mathematical functions to operate on these arrays.\n",
    "Arrays are superficially similar to lists in base Python, but they come equipped with many additional features which will be useful when performing linear algebraic operations.\n",
    "\n",
    "\n",
    "## The Euclidean norm\n",
    "\n",
    "When applied to vectors, a _norm_ function that takes as input a vector and that returns a single non-negative number.\n",
    "The most common norm is the so-called _Euclidean norm_.\n",
    "For for a general $n$-dimensional vector $\\boldsymbol{x} = (x_1,\\dots,x_n)$, the Euclidean is given by\n",
    "\n",
    "$$\n",
    "\\|\\boldsymbol{x}\\|_2 = \\sqrt{\\sum_{i=1}^n x_i^2}  .\n",
    "$$\n",
    "\n",
    "Here, we use the subscript $2$ since the Euclidean norm is sometimes also called the _2-norm_ or the _$\\ell_2$-norm_; the reasons for this will become clear shortly.\n",
    "This formula may seem unfamiliar now, but it is the \"obvious\" extension of the familiar Euclidean norm to vectors with $n$ components.\n",
    "\n",
    "If $n=2$, then this is simply the $2$-dimensional example in the plane:\n",
    "for a point $\\boldsymbol{x} = (x_1,x_2)\\in \\mathbb{R}^2$, the (Euclidean) length of this vector is just\n",
    "\n",
    "$$\n",
    "\\|\\boldsymbol{x}\\|_2 = \\sqrt{\\sum_{i=1}^2 x_i^2} = \\sqrt{x_1^2 + x_2^2} .\n",
    "$$\n",
    "\n",
    "This can also be seen as a special case of the Pythagorean Theorem: given a right triangle with side lengths $x_1$ and $x_2$, the length of the hypotenuse is given by $\\|\\boldsymbol{x}\\|_2$.\n",
    "\n",
    "If $n=3$, then this is simply the Euclidean norm of a $3$-dimensional point in three-dimensional Euclidean space, i.e.,\n",
    "\n",
    "$$\n",
    "\\|\\boldsymbol{x}\\|_2 = \\sqrt{\\sum_{i=1}^3 x_i^2}\n",
    "$$\n",
    "\n",
    "for a vector $\\boldsymbol{x}$ in three-dimensional Euclidean space.\n",
    "Here, too, there is a similar interpretation in terms of the Pythagorean Theorem.\n",
    "\n",
    "If $n \\ge 4$, then clearly we can sum up the squares of more than three numbers.\n",
    "The point of writing the Euclidean norm in this suggestive way is not just that the same expression holds for any $n$, even if $n \\ge 4$, when it is less easy to visualize these quantities, but also that this expression still gives a norm in those cases.\n",
    "Also, less obvious but still true, many of the interpretations in terms of angles, perpendicularity, etc., also hold true.\n",
    "\n",
    "Let's write a Python function using numpy functions to compute the Euclidean $2$-norm by explicitly summing over each of the entries and squaring them.\n",
    "There are many such functions we could write.\n",
    "Let's start with the following one."
   ]
  },
  {
   "cell_type": "code",
   "execution_count": 2,
   "id": "de11e7c9",
   "metadata": {},
   "outputs": [],
   "source": [
    "def euclidean_norm(x):\n",
    "  result = np.sum(x**2)**(1./2)\n",
    "  return result"
   ]
  },
  {
   "cell_type": "markdown",
   "id": "027f173d",
   "metadata": {},
   "source": [
    "We can check that this gives us the correct results on the vector $\\boldsymbol{x} = (1,2,3)$ that we defined earlier:"
   ]
  },
  {
   "cell_type": "code",
   "execution_count": 3,
   "id": "1b0b6e03",
   "metadata": {},
   "outputs": [
    {
     "data": {
      "text/plain": [
       "3.7416573867739413"
      ]
     },
     "execution_count": 3,
     "metadata": {},
     "output_type": "execute_result"
    }
   ],
   "source": [
    "euclidean_norm(x)"
   ]
  },
  {
   "cell_type": "markdown",
   "id": "c9da7dc8",
   "metadata": {},
   "source": [
    "As expected, the result is $\\sqrt{1^2 + 2^2 + 3^2} = \\sqrt{14} \\approx 3.74$.\n",
    "\n",
    "Let's parse what the function `euclidean_norm` does.\n",
    "First, this function computes the element-wise square of each entry in the vector $\\boldsymbol{x}$, with `x**2`; then it sums over each of these entries, with `np.sum()`; and then it takes the square root of the result by raising the sum to the power $1/2$.\n",
    "(Note: here we use `1./2` instead of `1/2` to make sure python parses this as a float rather than an integer.)\n",
    "\n",
    "There is also a special function in numpy which we can use to compute the Euclidean norm."
   ]
  },
  {
   "cell_type": "code",
   "execution_count": 4,
   "id": "6dc93100",
   "metadata": {},
   "outputs": [
    {
     "data": {
      "text/plain": [
       "3.7416573867739413"
      ]
     },
     "execution_count": 4,
     "metadata": {},
     "output_type": "execute_result"
    }
   ],
   "source": [
    "from numpy.linalg import norm\n",
    "\n",
    "norm(x)"
   ]
  },
  {
   "cell_type": "markdown",
   "id": "ee8bf92f",
   "metadata": {},
   "source": [
    "Below, we will see that the `norm` function takes optional arguments -- including an important one called `ord` -- but with no arguments it computes the Euclidean norm of the input vector.\n",
    "\n",
    "## The $1$-norm\n",
    "\n",
    "While the Euclidean norm is probably the most common ways to measure the size of a vector, it is not the only way to do so.\n",
    "Consider the following, which is known as the _$1$-norm_ (or _$\\ell_1$-norm_):\n",
    "for any vector $\\boldsymbol{x}=(x_1,\\dots,x_n)$, let\n",
    "\n",
    "$$\n",
    "\\|\\boldsymbol{x}\\|_{1} = \\sum_{i=1}^n |x_i|\n",
    "$$\n",
    "\n",
    "We could write a function to compute the $1$-norm of a vector (and you will be asked to do this as a problem).\n",
    "\n",
    "For now, let's use the numpy `norm` function, which allows us to compute the $1$-norms of vectors if we provide the correct argument.\n",
    "For example,"
   ]
  },
  {
   "cell_type": "code",
   "execution_count": 5,
   "id": "0bd1684f",
   "metadata": {},
   "outputs": [
    {
     "name": "stdout",
     "output_type": "stream",
     "text": [
      "The 1-norm of x is 6.000000\n",
      "The 2-norm of x is 3.741657\n"
     ]
    }
   ],
   "source": [
    "print('The 1-norm of x is %f' % norm(x, ord=1))\n",
    "print('The 2-norm of x is %f' % norm(x, ord=2))"
   ]
  },
  {
   "cell_type": "markdown",
   "id": "8bf98361",
   "metadata": {},
   "source": [
    "Here, we used `ord=p` to specify whether we wanted to compute the $1$-norm or the $2$-norm.\n",
    "\n",
    "The two different norms give us two different numbers, i.e., two different different measures of the size of a vector.\n",
    "\n",
    "Due to the absolute value, if we change the sign of any of the entries in a vector, the value of its norm does not change.\n",
    "(This absolute value was not needed for the Euclidean norm, since the square of any real number is non-negative.)\n",
    "For example, if $\\boldsymbol{x}'=(-1,-2,-3)$, then $\\boldsymbol{x}'$ always has the same norm as $\\boldsymbol{x}$."
   ]
  },
  {
   "cell_type": "code",
   "execution_count": 6,
   "id": "4a71c7f4",
   "metadata": {},
   "outputs": [
    {
     "name": "stdout",
     "output_type": "stream",
     "text": [
      "The 1-norm of x_prime is 6.000000\n",
      "The 2-norm of x_prime is 3.741657\n"
     ]
    }
   ],
   "source": [
    "x_prime = np.array([-1,-2,-3])\n",
    "\n",
    "print('The 1-norm of x_prime is %f' % norm(x_prime, ord=1))\n",
    "print('The 2-norm of x_prime is %f' % norm(x_prime, ord=2))"
   ]
  },
  {
   "cell_type": "markdown",
   "id": "3d2acbab",
   "metadata": {},
   "source": [
    "Before moving onto more general properties of norms, let's introduce one more common and useful norm.\n",
    "\n",
    "\n",
    "## The $\\infty$-norm\n",
    "\n",
    "The $\\infty$-norm (or $\\ell_\\infty$-norm) of a vector is another useful norm to know about.\n",
    "For a vector $\\boldsymbol{x}=(x_1,\\dots,x_n)$ the $\\infty$-norm is defined as:\n",
    "\n",
    "$$\n",
    "\\|\\boldsymbol{x}\\|_\\infty = \\max_{i=1,\\dots,n}|x_i|  .\n",
    "$$\n",
    "\n",
    "That is, the $\\infty$-norm is simply the maximum absolute value among the entries of $\\boldsymbol{x}$.\n",
    "\n",
    "We can also provide the right argument to numpy's `norm` function to compute the $\\infty$-norm:"
   ]
  },
  {
   "cell_type": "code",
   "execution_count": 7,
   "id": "5f49518d",
   "metadata": {},
   "outputs": [
    {
     "name": "stdout",
     "output_type": "stream",
     "text": [
      "The 1-norm of x is 6.000000\n",
      "The 2-norm of x is 3.741657\n",
      "The infinity-norm of x is 3.000000\n"
     ]
    }
   ],
   "source": [
    "print( 'The 1-norm of x is %f' % norm(x, ord=1) )\n",
    "print( 'The 2-norm of x is %f' % norm(x, ord=2) )\n",
    "print( 'The infinity-norm of x is %f' % norm(x, ord=np.inf) )"
   ]
  },
  {
   "cell_type": "markdown",
   "id": "780e057f",
   "metadata": {},
   "source": [
    "As expected, the $\\infty$-norm of $\\boldsymbol{x}$ is just its largest entry in absolute value: $3$.\n",
    "\n",
    "Why is the $\\infty$-norm called the \"infinity\" norm?\n",
    "We will get to that below.\n",
    "\n",
    "\n",
    "## Properties of norms\n",
    "\n",
    "Norms have several important properties that capture the general notion of \"size.\"  \n",
    "As an example, we already saw one of them: norms are invariant to sign changes of any one of the vector's entries.\n",
    "\n",
    "More generally, norms have three important properties.\n",
    "In fact, these three properties are the defining properties of a norm.\n",
    "They are what a function needs to satisfy to be called a \"norm\".\n",
    "\n",
    "1.  For any $x$, $\\|\\boldsymbol{x}\\| \\ge 0$, where $0\\in\\mathbb{R}$; and $\\|\\boldsymbol{x}\\|=0$ if and only if  $\\boldsymbol{x} = 0$, where this $0$ is the all-zeros vector, $0 = (0,\\dots,0)$.\n",
    "    (This is sometimes called being _positive definite_.)\n",
    "2.  For any scalar $\\alpha\\in\\mathbb{R}$, we have that $\\|\\alpha \\boldsymbol{x}\\| = |\\alpha|\\cdot\\|\\boldsymbol{x}\\|$\n",
    "    (This is sometimes called being _absolutely homogeneous_ or _absolutely scalable_.)\n",
    "3.  For any vectors $\\boldsymbol{x}, \\boldsymbol{y}$, we have $\\|\\boldsymbol{x}+\\boldsymbol{y}\\|\\leq \\|\\boldsymbol{x}\\|+\\|\\boldsymbol{y}\\|$.\n",
    "    (This is sometimes called being _subadditive_ or satisfying the _triangle inequality_.)\n",
    "\n",
    "To make sense of these properties, we need to say what it means to add two vectors and scale vectors.\n",
    "- For vectors $\\boldsymbol{x}=(x_1,\\dots,x_n), \\boldsymbol{y}=(y_1,\\dots,y_n)$, when we write $\\boldsymbol{x}+\\boldsymbol{y}$ we mean the new vector $(x_1+y_1,\\dots, x_n+y_n)$.\n",
    "- Similarly, if $\\alpha\\in\\mathbb{R}$ is a scalar, then $\\alpha \\boldsymbol{x} = (\\alpha x_1, \\dots, \\alpha x_n)$.\n",
    "\n",
    "Both of these operations give us new vectors that also have norms.\n",
    "\n",
    "Let's use numpy to verify two of these properties.\n",
    "\n",
    "\n",
    "### Scaling vectors\n",
    "\n",
    "Let's veryify the scalability of norms by absolute values.\n",
    "Namely, for any scalar $\\alpha \\in \\mathbb{R}$ and vector $\\boldsymbol{x} = (x_1,\\dots,x_n)$, we have that $\\|\\alpha \\boldsymbol{x}\\| = |\\alpha|\\cdot \\|\\boldsymbol{x}\\|$.   \n",
    "\n",
    "To do so, let's define another vector $\\boldsymbol{x}$ for this problem."
   ]
  },
  {
   "cell_type": "code",
   "execution_count": 8,
   "id": "367ac6b6",
   "metadata": {},
   "outputs": [],
   "source": [
    "x = np.array([-3,-2,-1,0,1,2,3])"
   ]
  },
  {
   "cell_type": "markdown",
   "id": "114d9285",
   "metadata": {},
   "source": [
    "This vectors $1$-norm is given by $12 = |-3| + |-2| + |-1| + |0| + |1|+|2|+|3|$, as we can verify with code:"
   ]
  },
  {
   "cell_type": "code",
   "execution_count": 9,
   "id": "11ef81b7",
   "metadata": {},
   "outputs": [
    {
     "data": {
      "text/plain": [
       "12.0"
      ]
     },
     "execution_count": 9,
     "metadata": {},
     "output_type": "execute_result"
    }
   ],
   "source": [
    "norm1_x = norm(x, ord=1)\n",
    "norm1_x"
   ]
  },
  {
   "cell_type": "markdown",
   "id": "518de2a8",
   "metadata": {},
   "source": [
    "Now let's try scaling this vector by the scalar $\\alpha_1 = 2$:"
   ]
  },
  {
   "cell_type": "code",
   "execution_count": 10,
   "id": "c2553485",
   "metadata": {},
   "outputs": [],
   "source": [
    "alpha1 = 2\n",
    "alpha1_x = alpha1*x"
   ]
  },
  {
   "cell_type": "markdown",
   "id": "0d918b08",
   "metadata": {},
   "source": [
    "Now let's compute the norm of the re-scaled version:"
   ]
  },
  {
   "cell_type": "code",
   "execution_count": 11,
   "id": "2d5c570b",
   "metadata": {},
   "outputs": [
    {
     "data": {
      "text/plain": [
       "24.0"
      ]
     },
     "execution_count": 11,
     "metadata": {},
     "output_type": "execute_result"
    }
   ],
   "source": [
    "norm1_alpha1_x = norm(alpha1_x, ord=1)\n",
    "norm1_alpha1_x"
   ]
  },
  {
   "cell_type": "markdown",
   "id": "87358747",
   "metadata": {},
   "source": [
    "As expected, the norm was doubled to $24$.\n",
    "\n",
    "Now, lets see what happens when we rescale the vector by $\\alpha_2 = -2$:"
   ]
  },
  {
   "cell_type": "code",
   "execution_count": 12,
   "id": "fdd3fad5",
   "metadata": {},
   "outputs": [
    {
     "data": {
      "text/plain": [
       "24.0"
      ]
     },
     "execution_count": 12,
     "metadata": {},
     "output_type": "execute_result"
    }
   ],
   "source": [
    "alpha2 = -2\n",
    "alpha2_x = alpha2*x\n",
    "\n",
    "norm1_alpha2_x = norm(alpha2_x, ord=1)\n",
    "norm1_alpha2_x"
   ]
  },
  {
   "cell_type": "markdown",
   "id": "bc192b9b",
   "metadata": {},
   "source": [
    "We still get the same result!\n",
    "This is because when we scale a vector by a scalar $\\alpha$, the norm is rescaled by the absolute value $|\\alpha|$.\n",
    "\n",
    "\n",
    "### The triangle inequality\n",
    "\n",
    "Let's verify the triangle inequality.\n",
    "\n",
    "To do so, let's first define two vectors $\\boldsymbol{x}$ and $\\boldsymbol{y}$."
   ]
  },
  {
   "cell_type": "code",
   "execution_count": 13,
   "id": "931ee8d1",
   "metadata": {},
   "outputs": [],
   "source": [
    "x = np.array([-1,2,-3,4,-5])\n",
    "y = np.array([6,-7,8,-9,10])"
   ]
  },
  {
   "cell_type": "markdown",
   "id": "41d9ed90",
   "metadata": {},
   "source": [
    "In numpy, we can easily add these vectors using the normal `+` operation in Python:"
   ]
  },
  {
   "cell_type": "code",
   "execution_count": 14,
   "id": "fdb97669",
   "metadata": {},
   "outputs": [
    {
     "data": {
      "text/plain": [
       "array([ 5, -5,  5, -5,  5])"
      ]
     },
     "execution_count": 14,
     "metadata": {},
     "output_type": "execute_result"
    }
   ],
   "source": [
    "x_plus_y = x+y\n",
    "x_plus_y"
   ]
  },
  {
   "cell_type": "markdown",
   "id": "93226e6e",
   "metadata": {},
   "source": [
    "Now let's compute the norms $\\|\\boldsymbol{x}\\|_2, \\|\\boldsymbol{y}\\|_2$ and $\\|\\boldsymbol{x}+\\boldsymbol{y}\\|_2$, and verify that the $2$-norm satisfies the triangle inequality:"
   ]
  },
  {
   "cell_type": "code",
   "execution_count": 15,
   "id": "2a6112c5",
   "metadata": {},
   "outputs": [
    {
     "name": "stdout",
     "output_type": "stream",
     "text": [
      "The 2-norm of x+y is 11.180340\n",
      "The 2-norm of x plus the norm of y is 25.582101\n"
     ]
    }
   ],
   "source": [
    "norm_x = norm(x, ord=2)\n",
    "norm_y = norm(y, ord=2)\n",
    "norm_x_plus_y = norm(x_plus_y, ord=2)\n",
    "\n",
    "print('The 2-norm of x+y is %f' % norm_x_plus_y)\n",
    "print('The 2-norm of x plus the norm of y is %f' % (norm_x + norm_y))"
   ]
  },
  {
   "cell_type": "markdown",
   "id": "dc8e5eff",
   "metadata": {},
   "source": [
    "Indeed, we see that $\\|\\boldsymbol{x}+\\boldsymbol{y}\\|_2$ is smaller than $\\|\\boldsymbol{x}\\|_2 + \\|\\boldsymbol{y}\\|_2$.\n",
    "This is also true of the other norms we introduced.\n",
    "For example, we can to the same thing with the $\\infty$-norm:"
   ]
  },
  {
   "cell_type": "code",
   "execution_count": 16,
   "id": "fcdd668b",
   "metadata": {},
   "outputs": [
    {
     "name": "stdout",
     "output_type": "stream",
     "text": [
      "The infinity-norm of x+y is 5.000000\n",
      "The infinity-norm of x plus the infinity-norm of y is 15.000000\n"
     ]
    }
   ],
   "source": [
    "norm_x_inf = norm(x, ord=np.inf)\n",
    "norm_y_inf = norm(y, ord=np.inf)\n",
    "norm_x_plus_y_inf = norm(x_plus_y, ord=np.inf)\n",
    "\n",
    "print('The infinity-norm of x+y is %f' % norm_x_plus_y_inf)\n",
    "print('The infinity-norm of x plus the infinity-norm of y is %f' % (norm_x_inf + norm_y_inf))"
   ]
  },
  {
   "cell_type": "markdown",
   "id": "a843e8e7",
   "metadata": {},
   "source": [
    "There is also an important _reverse triangle inequality_ which is sometimes useful. It states that for any vectors $\\boldsymbol{x},\\boldsymbol{y}$ and norm $\\|\\cdot\\|$ we have the following inequality: $\\|\\boldsymbol{x}-\\boldsymbol{y}\\|\\geq \\big| \\|\\boldsymbol{x}\\|-\\|\\boldsymbol{y}\\| \\big|$. This is called the 'reverse' triangle inequality because rather than giving an upper bound on the sum/difference of two vectors, it gives us a lower bound. Let's see an example with the 2-norm. We first compute $\\boldsymbol{x}-\\boldsymbol{y}$:"
   ]
  },
  {
   "cell_type": "code",
   "execution_count": 17,
   "id": "94d8f60d",
   "metadata": {},
   "outputs": [
    {
     "data": {
      "text/plain": [
       "array([ -7,   9, -11,  13, -15])"
      ]
     },
     "execution_count": 17,
     "metadata": {},
     "output_type": "execute_result"
    }
   ],
   "source": [
    "x_minus_y = x-y\n",
    "x_minus_y"
   ]
  },
  {
   "cell_type": "markdown",
   "id": "ab05c4cf",
   "metadata": {},
   "source": [
    "Then we can compute $\\|\\boldsymbol{x}-\\boldsymbol{y}\\|_2$ and $\\big|\\|\\boldsymbol{x}\\|_2-\\|\\boldsymbol{y}\\|_2\\big|$:"
   ]
  },
  {
   "cell_type": "code",
   "execution_count": 18,
   "id": "03fd8002",
   "metadata": {},
   "outputs": [
    {
     "name": "stdout",
     "output_type": "stream",
     "text": [
      "The 2-norm of x-y is 25.396850\n",
      "The absolute value of 2-norm of x minus the 2-norm of y is 10.749704\n"
     ]
    }
   ],
   "source": [
    "norm_x = norm(x, ord=2)\n",
    "norm_y = norm(y, ord=2)\n",
    "norm_x_minus_y = norm(x_minus_y, ord=2)\n",
    "\n",
    "print('The 2-norm of x-y is %f' % norm_x_minus_y)\n",
    "print('The absolute value of 2-norm of x minus the 2-norm of y is %f' % np.abs(norm_x - norm_y))"
   ]
  },
  {
   "cell_type": "markdown",
   "id": "11e7ef98",
   "metadata": {},
   "source": [
    "We see that the second quantity is indeed smaller.\n",
    "\n",
    "\n",
    "## The $p$-norms\n",
    "\n",
    "While the $\\ell_1$ and $\\ell_2$ and $\\ell_\\infty$ norms are the most common ways to measure the size of a vector, they are not the only way to do so.\n",
    "In fact,\n",
    "we can generalize the defining expression for these norms for a $\\boldsymbol{x}=(x_1,\\dots,x_n)$ to any number $p \\ge 0$:\n",
    "for any vector $\\boldsymbol{x}=(x_1,\\dots,x_n)$, consider the expression given by:\n",
    "\n",
    "$$\n",
    "\\|\\boldsymbol{x}\\|_p = \\left(\\sum_{i=1}^n |x_i|^p\\right)^{1/p}\n",
    "$$\n",
    "\n",
    "For $ p \\in [0,1)$, this expression is _not_ a norm; but\n",
    "for $ p \\in [1,\\infty]$, this expression is a norm.\n",
    "\n",
    "Now we see why we call the Euclidean norm the $2$-norm: it is simply a special case of the $p$-norm when $p=2$.\n",
    "Similarly, we see why we call the $1$-norm the $1$-norm: it is simply a special case of the $p$-norm when $p=1$.\n",
    "However, the $\\infty$-norm looks different.\n",
    "Why is it called that?\n",
    "Let's see.\n",
    "\n",
    "To do so, let's use the numpy `norm` function, which also lets us compute the $p$-norms of vectors.\n",
    "For example,"
   ]
  },
  {
   "cell_type": "code",
   "execution_count": 19,
   "id": "31fd92ad",
   "metadata": {},
   "outputs": [
    {
     "name": "stdout",
     "output_type": "stream",
     "text": [
      "The 1-norm of x is 6.000000\n",
      "The 2-norm of x is 3.741657\n",
      "The 3-norm of x is 3.301927\n"
     ]
    }
   ],
   "source": [
    "x = np.array([1,2,3])\n",
    "\n",
    "print('The 1-norm of x is %f' % norm(x, ord=1))\n",
    "print('The 2-norm of x is %f' % norm(x, ord=2))\n",
    "print('The 3-norm of x is %f' % norm(x, ord=3))"
   ]
  },
  {
   "cell_type": "markdown",
   "id": "5bc6d5ae",
   "metadata": {},
   "source": [
    "Here, we used `ord=p` to specify which $p$-norm we wanted to compute.\n",
    "As we expect, different norms give us different numbers.\n",
    "\n",
    "Also, as we expect, if we change the sign of any of the entries in a vector, the value of its norm does not change.\n",
    "For example, if $\\boldsymbol{x}'=(-1,-2,-3)$, then $\\boldsymbol{x}'$ always has the same norm as $\\boldsymbol{x}$."
   ]
  },
  {
   "cell_type": "code",
   "execution_count": 20,
   "id": "b6a7b650",
   "metadata": {},
   "outputs": [
    {
     "name": "stdout",
     "output_type": "stream",
     "text": [
      "The 1-norm of x_prime is 6.000000\n",
      "The 2-norm of x_prime is 3.741657\n",
      "The 3-norm of x_prime is 3.301927\n"
     ]
    }
   ],
   "source": [
    "x_prime = np.array([-1,-2,-3])\n",
    "\n",
    "print('The 1-norm of x_prime is %f' % norm(x_prime, ord=1))\n",
    "print('The 2-norm of x_prime is %f' % norm(x_prime, ord=2))\n",
    "print('The 3-norm of x_prime is %f' % norm(x_prime, ord=3))"
   ]
  },
  {
   "cell_type": "markdown",
   "id": "0650cd43",
   "metadata": {},
   "source": [
    "Let's get back to the question of why the $\\infty$-norm is called the $\\infty$-norm.\n",
    "\n",
    "Let's test this with our vector $\\boldsymbol{x}=(1,2,3)$:"
   ]
  },
  {
   "cell_type": "code",
   "execution_count": 21,
   "id": "2582e8e8",
   "metadata": {},
   "outputs": [
    {
     "data": {
      "image/png": "[encoded data removed]",
      "text/plain": [
       "<Figure size 432x288 with 1 Axes>"
      ]
     },
     "metadata": {
      "filenames": {
       "image/png": "/Volumes/GoogleDrive-112349428810515690974/My Drive/PhD/Teaching/Stat89A_Spring2022/linalg-for-datasci/_build/jupyter_execute/content/basicLA_1_introduction-to-norms_41_0.png"
      },
      "needs_background": "light"
     },
     "output_type": "display_data"
    }
   ],
   "source": [
    "import matplotlib.pyplot as plt\n",
    "%matplotlib inline\n",
    "\n",
    "p_max = 10\n",
    "p_range = np.arange(1,p_max+1,1)\n",
    "norm_values = [norm(x, ord=p) for p in p_range]\n",
    "\n",
    "plt.plot(p_range, norm_values, label='p norms')\n",
    "plt.hlines(norm(x, ord=np.inf), xmin=1, xmax=p_max, label=r'$\\infty$-norm', color='red', linestyle='--')\n",
    "plt.xlabel('p')\n",
    "plt.ylabel('p-norm value')\n",
    "plt.legend()\n",
    "plt.show()"
   ]
  },
  {
   "cell_type": "markdown",
   "id": "0dda75a6",
   "metadata": {},
   "source": [
    "As we see, once $p$ gets modestly large, it is essentially just giving us the $\\infty$-norm of the vector.\n",
    "\n",
    "That is, you get this norm by looking at the limit of the $p$-norms as $p\\to\\infty$!\n",
    "\n",
    "Notice also that this plot is strictly decreasing: this is due to the following additional property of $p$-norms:\n",
    "\n",
    "- If $1\\leq p<q\\leq \\infty$, then for any vector $x\\in \\mathbb{R}^n$, we have that $\\|\\boldsymbol{x}\\|_q \\leq \\|\\boldsymbol{x}\\|_p$. In other words, $p$-norms are ordered in 'reverse' order: larger $p$ gives a smaller norm.\n",
    "\n",
    "Later, we will investigate more properties of norms, and see that they have interesting geometric interpretations."
   ]
  }
 ],
 "metadata": {
  "jupytext": {
   "text_representation": {
    "extension": ".md",
    "format_name": "myst",
    "format_version": 0.12,
    "jupytext_version": "1.9.1"
   }
  },
  "kernelspec": {
   "display_name": "Python 3",
   "language": "python",
   "name": "python3"
  },
  "language_info": {
   "codemirror_mode": {
    "name": "ipython",
    "version": 3
   },
   "file_extension": ".py",
   "mimetype": "text/x-python",
   "name": "python",
   "nbconvert_exporter": "python",
   "pygments_lexer": "ipython3",
   "version": "3.9.5"
  },
  "source_map": [
   13,
   34,
   39,
   85,
   89,
   93,
   95,
   105,
   109,
   129,
   132,
   142,
   147,
   165,
   169,
   209,
   211,
   215,
   218,
   222,
   225,
   229,
   232,
   238,
   244,
   256,
   259,
   263,
   266,
   270,
   277,
   283,
   290,
   294,
   297,
   301,
   308,
   336,
   342,
   350,
   356,
   362,
   376
  ]
 },
 "nbformat": 4,
 "nbformat_minor": 5
}