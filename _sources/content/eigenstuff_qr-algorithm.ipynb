{
 "cells": [
  {
   "cell_type": "markdown",
   "id": "043dd4fa",
   "metadata": {},
   "source": [
    "# The QR algorithm for finding eigenvalues and eigenvectors\n",
    "\n",
    "In the previous sections, we discussed finding the eigenvalues and eigenvectors of a matrix $\\boldsymbol{A}$ largely abstractly, without much interest in how we would actually do this in practice. As we saw, we can find the eigenvalues (in theory) by finding the zeros of the degree-$n$ polynomial $p(\\lambda) = \\det(\\boldsymbol{A} - \\lambda \\boldsymbol{I})$. If we had these eigenvalues, say $\\lambda_1,\\dots, \\lambda_n$, then we could find the eigenvectors fairly easily by solving the linear system of equations\n",
    "\n",
    "$$\n",
    "(\\boldsymbol{A} - \\lambda_i \\boldsymbol{I})\\boldsymbol{v} = 0,\n",
    "$$\n",
    "\n",
    "e.g. by using the QR decomposition and backsubstitution. The latter component would be a feasible way to find the eigenvectors in practice if we knew what the eigenvalues were. Unfortunately, finding the zeros of $p(\\lambda)$ this is not a particularly practical approach, beyond the 2- or 3-dimensional case. Instead, we require other algorithms to find the eigenvalues. We saw one method on the homework for doing this called the _power method_. Here we briefly introduce another popular algorithm which uses the QR decomposition called the QR algorithm, which we outline below.\n",
    "\n",
    "$$\n",
    "\\begin{align}\n",
    "&\\underline{\\textbf{QR algorithm}: \\text{find the eigenvalues of an $n\\times n$ matrix $\\boldsymbol{A}$}} \\\\\n",
    "&\\textbf{input}:\\text{$n\\times n$ matrix }\\boldsymbol{A}\\in \\mathbb{R}^{n\\times n} \\\\\n",
    "&\\hspace{0mm} \\text{while $\\boldsymbol{A}$ is not approximately upper triangular:}\\\\\n",
    "&\\hspace{10mm} \\boldsymbol{Q}, \\boldsymbol{R} = \\texttt{qr_decomposition}(\\boldsymbol{A})\\\\\n",
    "&\\hspace{10mm} \\text{update }\\boldsymbol{A} = \\boldsymbol{R}\\boldsymbol{Q}\\\\\n",
    "&\\hspace{0mm} \\text{return } \\text{diag}(\\boldsymbol{A})\\\\\n",
    "\\end{align}\n",
    "$$\n",
    "\n",
    "This algorithm works due to the following two properties. First, note that for a single interation we have\n",
    "\n",
    "$$\n",
    "\\boldsymbol{A}' = \\boldsymbol{RQ} = \\boldsymbol{Q^\\top Q R Q} = \\boldsymbol{Q}^\\top \\boldsymbol{AQ}\n",
    "$$\n",
    "\n",
    "where $\\boldsymbol{Q}$ is an orthogonal matrix. Because the matrices $\\boldsymbol{A}$ and $\\boldsymbol{A}'$ differ only by an orthogonal transformation on either side, they are what we call _similar_ matrices. It turns out that similar matrices always have the same eigenvalues. To see this, let $(\\lambda, \\boldsymbol{v})$ be an eigenvalue/eigenvector pair for $\\boldsymbol{A}'$, and let $\\boldsymbol{A} = \\boldsymbol{Q^\\top\\boldsymbol{A}'\\boldsymbol{Q}}$ be defined as above. Then\n",
    "\n",
    "$$\n",
    "\\lambda\\boldsymbol{v} = \\boldsymbol{A}'\\boldsymbol{v} = \\boldsymbol{QA Q^\\top v} \\iff \\lambda \\boldsymbol{Q^\\top v} = \\boldsymbol{A Q^\\top v}.\n",
    "$$\n",
    "\n",
    "This means that $(\\lambda, \\boldsymbol{Q^\\top v})$ is an eigenvalue/eigenvector pair for the matrix $\\boldsymbol{A}$, and so $\\boldsymbol{A}$ and $\\boldsymbol{A}'$ have the same eigenvalues, and eigenvectors which differ by a factor of $\\boldsymbol{Q}^\\top$. Thus at each iteration in the QR algorithm, the matrices $\\boldsymbol{A}$ have the same eigenvalues.\n",
    "\n",
    "The next step we do not prove, but will show numerically. It turns out that for \"nice\" matrices (in particular, matrices that have distinct eigenvalues), the QR algorithm converges to an upper triangular matrix. Therefore, as we saw in the previous section, we can read off the eigenvalues of this matrix by checking its diagonal entries. Let's see a simple example that illustrates this."
   ]
  },
  {
   "cell_type": "code",
   "execution_count": 1,
   "id": "2030554d",
   "metadata": {},
   "outputs": [
    {
     "name": "stdout",
     "output_type": "stream",
     "text": [
      "A at iteration i = 0 is\n",
      "[[11.37937896 -0.08970824 -0.06507907]\n",
      " [-0.08970824  0.44349458 -0.06692115]\n",
      " [-0.06507907 -0.06692115  0.02791014]]\n",
      "A at iteration i = 1 is\n",
      "[[ 1.13804807e+01 -3.12571843e-03  9.76240906e-05]\n",
      " [-3.12571843e-03  4.53427138e-01  2.57090252e-03]\n",
      " [ 9.76240906e-05  2.57090252e-03  1.68758521e-02]]\n",
      "A at iteration i = 2 is\n",
      "[[ 1.13804816e+01 -1.24515411e-04 -1.44637126e-07]\n",
      " [-1.24515411e-04  4.53441364e-01 -9.56004805e-05]\n",
      " [-1.44637127e-07 -9.56004805e-05  1.68607320e-02]]\n",
      "A at iteration i = 3 is\n",
      "[[ 1.13804816e+01 -4.96116303e-06  2.14286216e-10]\n",
      " [-4.96116303e-06  4.53441384e-01  3.55479725e-06]\n",
      " [ 2.14286614e-10  3.55479726e-06  1.68607111e-02]]\n",
      "A at iteration i = 4 is\n",
      "[[ 1.13804816e+01 -1.97671480e-07 -3.17077437e-13]\n",
      " [-1.97671479e-07  4.53441384e-01 -1.32181162e-07]\n",
      " [-3.17475553e-13 -1.32181163e-07  1.68607111e-02]]\n",
      "A at iteration i = 5 is\n",
      "[[ 1.13804816e+01 -7.87597978e-09  7.22392728e-17]\n",
      " [-7.87597857e-09  4.53441384e-01  4.91500792e-09]\n",
      " [ 4.70354750e-16  4.91500882e-09  1.68607111e-02]]\n",
      "A at iteration i = 6 is\n",
      "[[ 1.13804816e+01 -3.13809956e-10  3.97418611e-16]\n",
      " [-3.13808743e-10  4.53441384e-01 -1.82758206e-10]\n",
      " [-6.96852369e-19 -1.82759110e-10  1.68607111e-02]]\n",
      "A at iteration i = 7 is\n",
      "[[ 1.13804816e+01 -1.25045390e-11 -3.98114431e-16]\n",
      " [-1.25033259e-11  4.53441384e-01  6.79478903e-12]\n",
      " [ 1.03241909e-21  6.79569325e-12  1.68607111e-02]]\n",
      "A at iteration i = 8 is\n",
      "[[ 1.13804816e+01 -4.99392851e-13  3.98115461e-16]\n",
      " [-4.98179745e-13  4.53441384e-01 -2.51786036e-13]\n",
      " [-1.52957675e-24 -2.52690258e-13  1.68607111e-02]]\n",
      "A at iteration i = 9 is\n",
      "[[ 1.13804816e+01 -2.10624692e-14 -3.98115463e-16]\n",
      " [-1.98493633e-14  4.53441384e-01  8.49178284e-15]\n",
      " [ 2.26613886e-27  9.39600485e-15  1.68607111e-02]]\n"
     ]
    }
   ],
   "source": [
    "import numpy as np\n",
    "\n",
    "A = np.random.normal(size= (3,3))\n",
    "A = np.dot(A.T, A)\n",
    "\n",
    "for i in range(10):\n",
    "    Q,R = np.linalg.qr(A)\n",
    "    A = np.dot(R,Q)\n",
    "    print('A at iteration i = %s is' % i)\n",
    "    print(A)"
   ]
  },
  {
   "cell_type": "markdown",
   "id": "e7878147",
   "metadata": {},
   "source": [
    "As we can see, the lower triangular portion of $\\boldsymbol{A}$ is becoming closer and closer to zero after more iterations. Hence, since the eigenvalues are unchanged at each iteration, we can read of the eigenvalues of $\\boldsymbol{A}$ from the eigenvalues of the (approximately) triangular matrix that we get after several iterations. Let's now implement our own `eigenvalue_decomposition_qr` function which uses the QR algorthm to find the eigenvalues of a matrix $\\boldsymbol{A}$."
   ]
  },
  {
   "cell_type": "code",
   "execution_count": 2,
   "id": "143b70ab",
   "metadata": {},
   "outputs": [],
   "source": [
    "def eigenvalue_decomposition_qr(A):\n",
    "    '''\n",
    "    find the eigenvalues of a matrix using the QR decomposition\n",
    "    '''\n",
    "    A0 = A\n",
    "\n",
    "    # first implement the QR algorithm\n",
    "    while not np.allclose(A0, np.triu(A0)):\n",
    "        Q,R = np.linalg.qr(A0)\n",
    "        A0 = np.dot(R, Q)\n",
    "\n",
    "    values = np.diag(A0)\n",
    "    return values"
   ]
  },
  {
   "cell_type": "markdown",
   "id": "9650695b",
   "metadata": {},
   "source": [
    "Now let's test our implementation against the usual numpy `eig` function."
   ]
  },
  {
   "cell_type": "code",
   "execution_count": 3,
   "id": "c123cb51",
   "metadata": {},
   "outputs": [
    {
     "name": "stdout",
     "output_type": "stream",
     "text": [
      "[18.84828233  8.47060466  2.89662469  0.65030095  0.0618567 ]\n",
      "[18.84828233  8.47060466  2.89662469  0.0618567   0.65030095]\n"
     ]
    }
   ],
   "source": [
    "A = np.random.normal(size=(5,5))\n",
    "A = np.dot(A.T, A)\n",
    "\n",
    "values_qr = eigenvalue_decomposition_qr(A)\n",
    "print(values_qr)\n",
    "\n",
    "values, vectors = np.linalg.eig(A)\n",
    "print(values)"
   ]
  },
  {
   "cell_type": "markdown",
   "id": "f5018417",
   "metadata": {},
   "source": [
    "Indeed, the two algorithms give the same output (though potentially not ordered in the same way)."
   ]
  }
 ],
 "metadata": {
  "jupytext": {
   "text_representation": {
    "extension": ".md",
    "format_name": "myst",
    "format_version": 0.12,
    "jupytext_version": "1.9.1"
   }
  },
  "kernelspec": {
   "display_name": "Python 3",
   "language": "python",
   "name": "python3"
  },
  "language_info": {
   "codemirror_mode": {
    "name": "ipython",
    "version": 3
   },
   "file_extension": ".py",
   "mimetype": "text/x-python",
   "name": "python",
   "nbconvert_exporter": "python",
   "pygments_lexer": "ipython3",
   "version": "3.9.5"
  },
  "source_map": [
   12,
   51,
   62,
   66,
   80,
   84,
   93
  ]
 },
 "nbformat": 4,
 "nbformat_minor": 5
}