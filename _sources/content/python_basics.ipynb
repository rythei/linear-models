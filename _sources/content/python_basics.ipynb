{
 "cells": [
  {
   "cell_type": "markdown",
   "id": "e24cd1c0",
   "metadata": {},
   "source": [
    "# The Basics\n",
    "\n",
    "\n",
    "## Printing out variables\n",
    "\n",
    "You can think about variables as a container that stores a value. In Python it is really easy to define a variable and assign a value to it."
   ]
  },
  {
   "cell_type": "code",
   "execution_count": 1,
   "id": "f5ae2321",
   "metadata": {},
   "outputs": [],
   "source": [
    "s = \"hello world\" # assign \"hello world\" to variable b"
   ]
  },
  {
   "cell_type": "markdown",
   "id": "657532a3",
   "metadata": {},
   "source": [
    "Here, the variable `s` has been assigned a string. A string is a sequence of characters that the computer understands to be text. We will come back to think in detail about how to\n",
    "use and manipulate strings below.\n",
    "\n",
    "```{note}\n",
    "It is good practice to comment each line of your code and you can do so by writing a comment after the \"#\" symbol. Comments will greatly help you to understand your code that you may have written a few month ago, and it will be also appreciated by others who you share your code with.\n",
    "```\n",
    "\n",
    "You can use the `print()` function to ask the computer to print whatever has been stored in a variable."
   ]
  },
  {
   "cell_type": "code",
   "execution_count": 2,
   "id": "b3bfd1a1",
   "metadata": {},
   "outputs": [
    {
     "name": "stdout",
     "output_type": "stream",
     "text": [
      "hello world\n"
     ]
    }
   ],
   "source": [
    "print(s)"
   ]
  },
  {
   "cell_type": "markdown",
   "id": "cd0d972a",
   "metadata": {},
   "source": [
    "The print functions often comes in handy to print some intermediate results that can help to debug your code.\n",
    "\n",
    "\n",
    "\n",
    "\n",
    "\n",
    "## Different Types of Variables\n",
    "\n",
    "### Numbers\n",
    "\n",
    "Next, we assign numeric values (integers and floats) to the variables `a`, `b`, and `c`."
   ]
  },
  {
   "cell_type": "code",
   "execution_count": 3,
   "id": "f1fe8b40",
   "metadata": {},
   "outputs": [],
   "source": [
    "a = 1 # assign the integer 1 to variable a\n",
    "b = 2.5\t# assign 2 to variable a\n",
    "c = 3.2\t# assign 3 to variable c"
   ]
  },
  {
   "cell_type": "markdown",
   "id": "c25208b0",
   "metadata": {},
   "source": [
    "You can also add variables (as you would expect)."
   ]
  },
  {
   "cell_type": "code",
   "execution_count": 4,
   "id": "b50740e4",
   "metadata": {},
   "outputs": [
    {
     "name": "stdout",
     "output_type": "stream",
     "text": [
      "a+b: 3.5\n",
      "a+c: 4.2\n"
     ]
    }
   ],
   "source": [
    "print('a+b:', a+b) # add b to a\n",
    "print('a+c:', a+c) # add c to a"
   ]
  },
  {
   "cell_type": "markdown",
   "id": "e139fa1c",
   "metadata": {},
   "source": [
    "Similar you can subtract, multiply, and divide variables. You can try this yourself."
   ]
  },
  {
   "cell_type": "code",
   "execution_count": 5,
   "id": "88e6383d",
   "metadata": {},
   "outputs": [],
   "source": [
    "# multiply a and b\n",
    "# subtract c from a"
   ]
  },
  {
   "cell_type": "markdown",
   "id": "220205f7",
   "metadata": {},
   "source": [
    "You can see what type a variable is, which is often helpful to diagnose problems."
   ]
  },
  {
   "cell_type": "code",
   "execution_count": 6,
   "id": "cb2d5682",
   "metadata": {},
   "outputs": [
    {
     "name": "stdout",
     "output_type": "stream",
     "text": [
      "a is of type <class 'int'>\n",
      "b is of type <class 'float'>\n",
      "c is of type <class 'float'>\n"
     ]
    }
   ],
   "source": [
    "print('a is of type', type(a))\n",
    "print('b is of type', type(b))\n",
    "print('c is of type', type(c))"
   ]
  },
  {
   "cell_type": "markdown",
   "id": "021d4d9c",
   "metadata": {},
   "source": [
    "### Strings\n",
    "\n",
    "\n",
    "Strings are text things"
   ]
  },
  {
   "cell_type": "code",
   "execution_count": 7,
   "id": "54e14fe8",
   "metadata": {},
   "outputs": [
    {
     "name": "stdout",
     "output_type": "stream",
     "text": [
      "My name is Michael Mahoney\n",
      "my_name is of type <class 'str'>\n"
     ]
    }
   ],
   "source": [
    "my_name = 'Michael Mahoney'\n",
    "print('My name is', my_name)\n",
    "print('my_name is of type', type(my_name))"
   ]
  },
  {
   "cell_type": "markdown",
   "id": "8c5d06b2",
   "metadata": {},
   "source": [
    "The `+` operator will concatenate two strings."
   ]
  },
  {
   "cell_type": "code",
   "execution_count": 8,
   "id": "c9639fa5",
   "metadata": {},
   "outputs": [
    {
     "name": "stdout",
     "output_type": "stream",
     "text": [
      "Just first name: Michael\n",
      "Concatenated: MichaelMahoney\n"
     ]
    }
   ],
   "source": [
    "my_name = 'Michael'\n",
    "print('Just first name:', my_name)\n",
    "my_name += 'Mahoney'\n",
    "print('Concatenated:', my_name)"
   ]
  },
  {
   "cell_type": "markdown",
   "id": "23829b3a",
   "metadata": {},
   "source": [
    "We can also use Python's slicing operator on strings:"
   ]
  },
  {
   "cell_type": "code",
   "execution_count": 9,
   "id": "4f11d1ee",
   "metadata": {},
   "outputs": [
    {
     "name": "stdout",
     "output_type": "stream",
     "text": [
      "Index 1 of my_name is i\n",
      "The first 2 characters of my_name are Mi\n",
      "The last 3 characters of my_name are ney\n"
     ]
    }
   ],
   "source": [
    "print('Index 1 of my_name is', my_name[1])\n",
    "print('The first 2 characters of my_name are', my_name[:2])\n",
    "print('The last 3 characters of my_name are', my_name[-3:])"
   ]
  },
  {
   "cell_type": "markdown",
   "id": "43119b28",
   "metadata": {},
   "source": [
    "### Lists\n",
    "\n",
    "Lists are just a list of things that usually can be operated on in limited ways. I.e., they are ***NOT*** mathematical vectors in a vector space. We will see later how we can create data types backed by lists, but contain additional operations, that are a much better representation for a vector."
   ]
  },
  {
   "cell_type": "code",
   "execution_count": 10,
   "id": "21b0055a",
   "metadata": {},
   "outputs": [
    {
     "name": "stdout",
     "output_type": "stream",
     "text": [
      "my_first_list: [11, 22, 33]\n",
      "my_first_list is of type <class 'list'>\n"
     ]
    }
   ],
   "source": [
    "my_first_list = [11,22,33]\n",
    "print('my_first_list:', my_first_list)\n",
    "print('my_first_list is of type', type(my_first_list))"
   ]
  },
  {
   "cell_type": "markdown",
   "id": "22b0547e",
   "metadata": {},
   "source": [
    "The `+` operator concatenates two lists. Note that concatenation using `+` is non-destructive, i.e., the original list does not change."
   ]
  },
  {
   "cell_type": "code",
   "execution_count": 11,
   "id": "b9572c9b",
   "metadata": {},
   "outputs": [
    {
     "name": "stdout",
     "output_type": "stream",
     "text": [
      "my_first_list after bad concat: [11, 22, 33]\n"
     ]
    }
   ],
   "source": [
    "my_first_list + [44]\n",
    "print('my_first_list after bad concat:', my_first_list)"
   ]
  },
  {
   "cell_type": "markdown",
   "id": "674d413c",
   "metadata": {},
   "source": [
    "Let's try this again. We can use `+=` to create a temporary variable equivalent to `my_first_list + [44]`, then assign that back to `my_first_list`, consistent with the use of `+=` for numbers."
   ]
  },
  {
   "cell_type": "code",
   "execution_count": 12,
   "id": "760d1bc1",
   "metadata": {},
   "outputs": [
    {
     "name": "stdout",
     "output_type": "stream",
     "text": [
      "my_first_list after good concat: [11, 22, 33, 44]\n"
     ]
    }
   ],
   "source": [
    "my_first_list += [44]\n",
    "print('my_first_list after good concat:', my_first_list)"
   ]
  },
  {
   "cell_type": "markdown",
   "id": "f12978e2",
   "metadata": {},
   "source": [
    "We can also use `.append()` to mutate (change) a list. While using `+` creates a new list, `.append` does not create a new list, and instead changes an existing list by adding an item to it."
   ]
  },
  {
   "cell_type": "code",
   "execution_count": 13,
   "id": "69537bc5",
   "metadata": {},
   "outputs": [
    {
     "name": "stdout",
     "output_type": "stream",
     "text": [
      "my_first_list after append: [11, 22, 33, 44, 55, 66]\n"
     ]
    }
   ],
   "source": [
    "my_first_list.append(55)\n",
    "my_first_list.append(66)\n",
    "print('my_first_list after append:', my_first_list)"
   ]
  },
  {
   "cell_type": "markdown",
   "id": "f3dea737",
   "metadata": {},
   "source": [
    "We can use `len()` to get the length of a list."
   ]
  },
  {
   "cell_type": "code",
   "execution_count": 14,
   "id": "37c44eb3",
   "metadata": {},
   "outputs": [
    {
     "name": "stdout",
     "output_type": "stream",
     "text": [
      "The length of my_first_list is 6\n"
     ]
    }
   ],
   "source": [
    "print('The length of my_first_list is', len(my_first_list))"
   ]
  },
  {
   "cell_type": "markdown",
   "id": "49354b4f",
   "metadata": {},
   "source": [
    "We can also use the indexing operator on lists."
   ]
  },
  {
   "cell_type": "code",
   "execution_count": 15,
   "id": "f9e172d2",
   "metadata": {},
   "outputs": [
    {
     "name": "stdout",
     "output_type": "stream",
     "text": [
      "The first element of my_first_list is 11\n"
     ]
    }
   ],
   "source": [
    "print('The first element of my_first_list is', my_first_list[0])"
   ]
  },
  {
   "cell_type": "markdown",
   "id": "e3851ef0",
   "metadata": {},
   "source": [
    "We can also use the slicing operators on lists.\n",
    "\n",
    "**Note:** when slicing ([:]), the last element is NOT included in the slice."
   ]
  },
  {
   "cell_type": "code",
   "execution_count": 16,
   "id": "e29ae01b",
   "metadata": {},
   "outputs": [
    {
     "name": "stdout",
     "output_type": "stream",
     "text": [
      "The second through fourth elements of my_first_list are [22, 33, 44]\n"
     ]
    }
   ],
   "source": [
    "print('The second through fourth elements of my_first_list are', my_first_list[1:4])"
   ]
  },
  {
   "cell_type": "markdown",
   "id": "272408d9",
   "metadata": {},
   "source": [
    "We can also leave the number before the colon blank to slice from the start."
   ]
  },
  {
   "cell_type": "code",
   "execution_count": 17,
   "id": "972e5b62",
   "metadata": {},
   "outputs": [
    {
     "name": "stdout",
     "output_type": "stream",
     "text": [
      "The first through fourth elements of my_first_list are also [11, 22, 33, 44]\n"
     ]
    }
   ],
   "source": [
    "print('The first through fourth elements of my_first_list are also', my_first_list[:4])"
   ]
  },
  {
   "cell_type": "markdown",
   "id": "33576b7d",
   "metadata": {},
   "source": [
    "Note how this is equivalent to:"
   ]
  },
  {
   "cell_type": "code",
   "execution_count": 18,
   "id": "7f36a15a",
   "metadata": {},
   "outputs": [
    {
     "name": "stdout",
     "output_type": "stream",
     "text": [
      "The first through fourth elements of my_first_list are [11, 22, 33, 44]\n"
     ]
    }
   ],
   "source": [
    "print('The first through fourth elements of my_first_list are', my_first_list[0:4])"
   ]
  },
  {
   "cell_type": "markdown",
   "id": "4b34e3a6",
   "metadata": {},
   "source": [
    "We can also leave the number after the colon blank to slice until the end."
   ]
  },
  {
   "cell_type": "code",
   "execution_count": 19,
   "id": "fa58584c",
   "metadata": {},
   "outputs": [
    {
     "name": "stdout",
     "output_type": "stream",
     "text": [
      "The third through last elements of my_first_list are [33, 44, 55, 66]\n"
     ]
    }
   ],
   "source": [
    "print('The third through last elements of my_first_list are', my_first_list[2:6])"
   ]
  },
  {
   "cell_type": "markdown",
   "id": "fcbe3294",
   "metadata": {},
   "source": [
    "Note how this is equivalent to:"
   ]
  },
  {
   "cell_type": "code",
   "execution_count": 20,
   "id": "96b2a23e",
   "metadata": {},
   "outputs": [
    {
     "name": "stdout",
     "output_type": "stream",
     "text": [
      "The third through last elements of my_first_list are also [33, 44, 55, 66]\n"
     ]
    }
   ],
   "source": [
    "print('The third through last elements of my_first_list are also', my_first_list[2:])"
   ]
  },
  {
   "cell_type": "markdown",
   "id": "22d37945",
   "metadata": {},
   "source": [
    "### Tuples\n",
    "\n",
    "Tuples are similar to lists. However, there are some subtle differences. The main difference is that tuples are [IMMUTABLE](https://en.wikipedia.org/wiki/Immutable_object). This means, that after creating a tuple, you cannot modify its elements, nor can you append to or delete from it.\n",
    "\n",
    "Try to figure out how to use a list first, then once you're used to the concept, you'll gradually realize some use cases make more sense as a tuple."
   ]
  },
  {
   "cell_type": "code",
   "execution_count": 21,
   "id": "107f25a7",
   "metadata": {},
   "outputs": [
    {
     "name": "stdout",
     "output_type": "stream",
     "text": [
      "my_first_tuple: (1, 2, 3)\n",
      "my_first_tuple is of type <class 'tuple'>\n"
     ]
    }
   ],
   "source": [
    "my_first_tuple = (1, 2, 3)\n",
    "print('my_first_tuple:', my_first_tuple)\n",
    "print('my_first_tuple is of type', type(my_first_tuple))"
   ]
  },
  {
   "cell_type": "markdown",
   "id": "5172f838",
   "metadata": {},
   "source": [
    "What happens if we try to modify a tuple?\n",
    "\n",
    "```\n",
    "my_first_tuple[0] = 5\n",
    "```\n",
    "\n",
    "However, you can still concatenate a tuple with another tuple. This is because doing so creates a new tuple."
   ]
  },
  {
   "cell_type": "code",
   "execution_count": 22,
   "id": "4766a943",
   "metadata": {},
   "outputs": [
    {
     "name": "stdout",
     "output_type": "stream",
     "text": [
      "my_second_tuple: (1, 2, 3, 4, 5, 6)\n"
     ]
    }
   ],
   "source": [
    "my_second_tuple = my_first_tuple + (4, 5, 6)\n",
    "print('my_second_tuple:', my_second_tuple)"
   ]
  },
  {
   "cell_type": "markdown",
   "id": "cda2e746",
   "metadata": {},
   "source": [
    "You can also use the `+=` operator as a shortcut"
   ]
  },
  {
   "cell_type": "code",
   "execution_count": 23,
   "id": "c3f1c85a",
   "metadata": {},
   "outputs": [
    {
     "name": "stdout",
     "output_type": "stream",
     "text": [
      "my_first_tuple after concat: (1, 2, 3, 4, 5, 6)\n"
     ]
    }
   ],
   "source": [
    "my_first_tuple += (4, 5, 6)\n",
    "print('my_first_tuple after concat:', my_first_tuple)"
   ]
  },
  {
   "cell_type": "markdown",
   "id": "959148f5",
   "metadata": {},
   "source": [
    "### Dictionaries\n",
    "\n",
    "Dictionaries: key-value pairs. (The key is the \"word\", the value is the \"definition\".) We won't spend as much time on this, but it's a good data structure to know."
   ]
  },
  {
   "cell_type": "code",
   "execution_count": 24,
   "id": "d41d0158",
   "metadata": {},
   "outputs": [
    {
     "name": "stdout",
     "output_type": "stream",
     "text": [
      "my_first_dict: {'name': 'Michael', 'score1': 100}\n",
      "my_first_dict is of type <class 'dict'>\n"
     ]
    }
   ],
   "source": [
    "my_first_dict = {'name':'Michael', 'score1':100}\n",
    "print('my_first_dict:', my_first_dict)\n",
    "print('my_first_dict is of type', type(my_first_dict))"
   ]
  },
  {
   "cell_type": "markdown",
   "id": "9742d4bf",
   "metadata": {},
   "source": [
    "Similar to lists, we can index into dictionaries to modify and retrieve values."
   ]
  },
  {
   "cell_type": "code",
   "execution_count": 25,
   "id": "6d272855",
   "metadata": {},
   "outputs": [
    {
     "name": "stdout",
     "output_type": "stream",
     "text": [
      "my score1 after modification: 99\n"
     ]
    }
   ],
   "source": [
    "my_first_dict['score1'] = 99\n",
    "print('my score1 after modification:', my_first_dict['score1'])"
   ]
  },
  {
   "cell_type": "markdown",
   "id": "bbde6e8f",
   "metadata": {},
   "source": [
    "Unlike lists, you can \"index\" into a key that does not exist yet! What this does, is you can create a new key in the dictionary and assign a value to it right away. If they key exists, you will overwrite it as you would expect.\n",
    "\n",
    "*Note:* the order of the `key:value` pairs do not matter in a dictionary, and is not guaranteed. This means, you could have `score2` appearing before `score1` when printing, even though you added `score2` \"later\"."
   ]
  },
  {
   "cell_type": "code",
   "execution_count": 26,
   "id": "407872ea",
   "metadata": {},
   "outputs": [
    {
     "name": "stdout",
     "output_type": "stream",
     "text": [
      "my_first_dict after adding new key: {'name': 'Michael', 'score1': 99, 'score2': 90}\n",
      "my score2: 90\n"
     ]
    }
   ],
   "source": [
    "my_first_dict['score2'] = 90\n",
    "print('my_first_dict after adding new key:', my_first_dict)\n",
    "print('my score2:', my_first_dict['score2'])"
   ]
  },
  {
   "cell_type": "markdown",
   "id": "e4aca4af",
   "metadata": {},
   "source": [
    "You can also retrieve a list of keys and values separately from the dictionary. This is potentially useful if you want to iterate over all the keys or all the values."
   ]
  },
  {
   "cell_type": "code",
   "execution_count": 27,
   "id": "284b370a",
   "metadata": {},
   "outputs": [
    {
     "name": "stdout",
     "output_type": "stream",
     "text": [
      "Keys in my_first_dict: dict_keys(['name', 'score1', 'score2'])\n",
      "Values in my_first_dict dict_values(['Michael', 99, 90])\n"
     ]
    }
   ],
   "source": [
    "print('Keys in my_first_dict:', my_first_dict.keys())\n",
    "print('Values in my_first_dict', my_first_dict.values())"
   ]
  },
  {
   "cell_type": "markdown",
   "id": "2b39fff3",
   "metadata": {},
   "source": [
    "Note that they are of weird types, `dict_keys` and `dict_values`, instead of something familiar like a `list`."
   ]
  },
  {
   "cell_type": "code",
   "execution_count": 28,
   "id": "e5f7ae37",
   "metadata": {},
   "outputs": [
    {
     "name": "stdout",
     "output_type": "stream",
     "text": [
      "Type of my_first_dict.keys(): <class 'dict_keys'>\n",
      "Type of my_first_dict.values(): <class 'dict_values'>\n"
     ]
    }
   ],
   "source": [
    "print('Type of my_first_dict.keys():', type(my_first_dict.keys()))\n",
    "print('Type of my_first_dict.values():', type(my_first_dict.values()))"
   ]
  },
  {
   "cell_type": "markdown",
   "id": "bafe3f30",
   "metadata": {},
   "source": [
    "We can turn this into a list by using `list()` if you require a list. However, if you are only using `.keys()` or `.values()` for iteration, don't worry, because `dict_keys` and `dict_values` are still perfectly iterable."
   ]
  },
  {
   "cell_type": "code",
   "execution_count": 29,
   "id": "c3057973",
   "metadata": {},
   "outputs": [
    {
     "name": "stdout",
     "output_type": "stream",
     "text": [
      "List of keys in my_first_dict: ['name', 'score1', 'score2']\n",
      "List of values in my_first_dict: ['Michael', 99, 90]\n"
     ]
    }
   ],
   "source": [
    "print('List of keys in my_first_dict:', list(my_first_dict.keys()))\n",
    "print('List of values in my_first_dict:', list(my_first_dict.values()))"
   ]
  },
  {
   "cell_type": "markdown",
   "id": "3da01646",
   "metadata": {},
   "source": [
    "## String formatting\n",
    "\n",
    "As you may or may not have noticed above, if you pass a comma separated list of things to the print function `print`, it will print them all with a space between."
   ]
  },
  {
   "cell_type": "code",
   "execution_count": 30,
   "id": "3c6aa768",
   "metadata": {},
   "outputs": [
    {
     "name": "stdout",
     "output_type": "stream",
     "text": [
      "The value of my variable is {} 10\n"
     ]
    }
   ],
   "source": [
    "my_variable = 10\n",
    "template = 'The value of my variable is {}'\n",
    "print(template, my_variable)"
   ]
  },
  {
   "cell_type": "markdown",
   "id": "621be1fd",
   "metadata": {},
   "source": [
    "Hm, that looks a bit weird. What we did above was ignore the silly `{}`, and have Python naturally add the space."
   ]
  },
  {
   "cell_type": "code",
   "execution_count": 31,
   "id": "c0537cb1",
   "metadata": {},
   "outputs": [
    {
     "name": "stdout",
     "output_type": "stream",
     "text": [
      "The value of my variable is 10\n"
     ]
    }
   ],
   "source": [
    "template2 = 'The value of my variable is'\n",
    "print(template2, my_variable)"
   ]
  },
  {
   "cell_type": "markdown",
   "id": "0a71c7bc",
   "metadata": {},
   "source": [
    "But what if we want to insert the value of a variable to the middle of a string? Or what if we don't want spaces before and after variables? This is where the `{}` comes in. We can use it in conjunction with the `.format` method of strings to insert variables wherever we want in a string."
   ]
  },
  {
   "cell_type": "code",
   "execution_count": 32,
   "id": "75c6cb0d",
   "metadata": {},
   "outputs": [
    {
     "name": "stdout",
     "output_type": "stream",
     "text": [
      "The value of my variable is 10\n"
     ]
    }
   ],
   "source": [
    "s = template.format(my_variable)\n",
    "print(s)"
   ]
  },
  {
   "cell_type": "markdown",
   "id": "52ec65b5",
   "metadata": {},
   "source": [
    "We can use this new power to fix our grammar: adding a period to the end of the sentence!"
   ]
  },
  {
   "cell_type": "code",
   "execution_count": 33,
   "id": "8403af86",
   "metadata": {},
   "outputs": [
    {
     "name": "stdout",
     "output_type": "stream",
     "text": [
      "The value of my variable is 10.\n"
     ]
    }
   ],
   "source": [
    "template3 = 'The value of my variable is {}.'\n",
    "print(template3.format(my_variable))"
   ]
  },
  {
   "cell_type": "markdown",
   "id": "cb21cc67",
   "metadata": {},
   "source": [
    "Supposed we wanted to concatenate first and last names, but with a space in between. We can use the `+` operator like before, but this might be a bit annoying and error-prone"
   ]
  },
  {
   "cell_type": "code",
   "execution_count": 34,
   "id": "949cd930",
   "metadata": {},
   "outputs": [
    {
     "name": "stdout",
     "output_type": "stream",
     "text": [
      "Michael Mahoney\n"
     ]
    }
   ],
   "source": [
    "first = 'Michael'\n",
    "last = 'Mahoney'\n",
    "full1 = first + ' ' + last\n",
    "print(full1)"
   ]
  },
  {
   "cell_type": "markdown",
   "id": "1ec570dc",
   "metadata": {},
   "source": [
    "We can make this cleaner using string formatting. If we have multiple placeholders (the `{}` things), Python will insert the variables passed to `.format()` in order."
   ]
  },
  {
   "cell_type": "code",
   "execution_count": 35,
   "id": "2e51eec6",
   "metadata": {},
   "outputs": [
    {
     "name": "stdout",
     "output_type": "stream",
     "text": [
      "Michael Mahoney\n"
     ]
    }
   ],
   "source": [
    "full2 = '{} {}'.format(first, last)\n",
    "print(full2)"
   ]
  },
  {
   "cell_type": "markdown",
   "id": "40b7c01f",
   "metadata": {},
   "source": [
    "However, we can also mix up the order a bit! Simply specify which argument you want in which placeholder. **Note:** zero indexing as usual."
   ]
  },
  {
   "cell_type": "code",
   "execution_count": 36,
   "id": "2aa4d814",
   "metadata": {},
   "outputs": [
    {
     "name": "stdout",
     "output_type": "stream",
     "text": [
      "Mahoney, Michael\n"
     ]
    }
   ],
   "source": [
    "full3 = '{1}, {0}'.format(first, last)\n",
    "print(full3)"
   ]
  },
  {
   "cell_type": "markdown",
   "id": "3b64c859",
   "metadata": {},
   "source": [
    "You can also have repeats."
   ]
  },
  {
   "cell_type": "code",
   "execution_count": 37,
   "id": "75669f01",
   "metadata": {},
   "outputs": [
    {
     "name": "stdout",
     "output_type": "stream",
     "text": [
      "Michael Mahoney Michael Mahoney\n"
     ]
    }
   ],
   "source": [
    "full_x2 = '{0} {1} {0} {1}'.format(first, last)\n",
    "print(full_x2)"
   ]
  },
  {
   "cell_type": "markdown",
   "id": "954369b8",
   "metadata": {},
   "source": [
    "You can also use string formatting to print out numbers in a way that is visually easier to digest and parse. Specify the number format you want after a `:` within the `{}`. The `8` before the `.` means that you want the entire number to be $8$ characters wide, padded with spaces at the start. The number after the `.` specifies how many decimal places you want. If there aren't that many decimal places, it will be zero padded at the end. The `'f'` represents that this should be displayed as a floating point number."
   ]
  },
  {
   "cell_type": "code",
   "execution_count": 38,
   "id": "774eb788",
   "metadata": {},
   "outputs": [
    {
     "name": "stdout",
     "output_type": "stream",
     "text": [
      "pi is approximately equal to 3.142\n",
      "pi is approximately equal to    3.142\n",
      "pi is approximately equal to  3.14159\n",
      "pi is (not) approximately equal to 3.1415926500000\n"
     ]
    }
   ],
   "source": [
    "pi_to_8decimals = 3.14159265\n",
    "print('pi is approximately equal to {:.3f}'.format(pi_to_8decimals))\n",
    "print('pi is approximately equal to {:8.3f}'.format(pi_to_8decimals))\n",
    "print('pi is approximately equal to {:8.5f}'.format(pi_to_8decimals))\n",
    "print('pi is (not) approximately equal to {:.13f}'.format(pi_to_8decimals))"
   ]
  },
  {
   "cell_type": "markdown",
   "id": "7f46a29a",
   "metadata": {},
   "source": [
    "## Importing Python Packages\n",
    "\n",
    "Import the `math` library.  This is one of many libraries."
   ]
  },
  {
   "cell_type": "code",
   "execution_count": 39,
   "id": "00acfacc",
   "metadata": {},
   "outputs": [],
   "source": [
    "import math"
   ]
  },
  {
   "cell_type": "markdown",
   "id": "bfb80975",
   "metadata": {},
   "source": [
    "The following will result in an error since the variable still ins't defined.\n",
    "\n",
    "```\n",
    "pi\n",
    "```\n",
    "\n",
    "But it is defined in the math library, so we can access it this way."
   ]
  },
  {
   "cell_type": "code",
   "execution_count": 40,
   "id": "180e25d7",
   "metadata": {},
   "outputs": [
    {
     "data": {
      "text/plain": [
       "3.141592653589793"
      ]
     },
     "execution_count": 40,
     "metadata": {},
     "output_type": "execute_result"
    }
   ],
   "source": [
    "math.pi"
   ]
  },
  {
   "cell_type": "code",
   "execution_count": 41,
   "id": "d3e7fa2a",
   "metadata": {},
   "outputs": [
    {
     "name": "stdout",
     "output_type": "stream",
     "text": [
      "pi is roughly: 3.141592653589793115997963468544\n",
      " e is roughly: 2.718281828459045090795598298428\n",
      "\n",
      "pi is roughly: 3.1415926536\n",
      " e is roughly: 2.7182818285\n"
     ]
    }
   ],
   "source": [
    "print('pi is roughly: {:.30f}'.format(math.pi))\n",
    "print(' e is roughly: {:.30f}'.format(math.e))\n",
    "print()\n",
    "print('pi is roughly: {:.10f}'.format(math.pi))\n",
    "print(' e is roughly: {:.10f}'.format(math.e))"
   ]
  },
  {
   "cell_type": "markdown",
   "id": "37b52095",
   "metadata": {},
   "source": [
    "## Loops\n",
    "\n",
    "For loops. Very important to do repeated, similar calculation.s Be careful with indentations."
   ]
  },
  {
   "cell_type": "code",
   "execution_count": 42,
   "id": "e5f7e45a",
   "metadata": {},
   "outputs": [
    {
     "name": "stdout",
     "output_type": "stream",
     "text": [
      "1. Still in the first loop\n",
      "2. Still in the first loop\n",
      "3. Still in the first loop\n",
      "4. Still in the first loop\n",
      "Out of the first loop\n"
     ]
    }
   ],
   "source": [
    "for counter in [1,2,3,4]:\n",
    "    print(\"{}. Still in the first loop\".format(counter))\n",
    "\n",
    "print(\"Out of the first loop\")"
   ]
  },
  {
   "cell_type": "markdown",
   "id": "9f6b4e5a",
   "metadata": {},
   "source": [
    "You can also use `range()` to generate an [iterable](https://treyhunner.com/2018/02/python-range-is-not-an-iterator/) of items to iterate through without typing every one of them yourself.\n",
    "\n",
    "This is helpful when you want to iterate through a bunch of things."
   ]
  },
  {
   "cell_type": "code",
   "execution_count": 43,
   "id": "d0ccc3ea",
   "metadata": {},
   "outputs": [
    {
     "name": "stdout",
     "output_type": "stream",
     "text": [
      "In second loop: 0\n",
      "In second loop: 2\n",
      "In second loop: 4\n",
      "In second loop: 6\n",
      "In second loop: 8\n",
      "Finished and out of second loop\n"
     ]
    }
   ],
   "source": [
    "for x in range(0, 9, 2):\n",
    "    print(\"In second loop: {}\".format(x))\n",
    "\n",
    "print(\"Finished and out of second loop\")"
   ]
  },
  {
   "cell_type": "markdown",
   "id": "3ec7749a",
   "metadata": {},
   "source": [
    "Another kind of loop is a list comprehension. This is a powerful Python trick. A list comprehension allows us to quickly iterate through every item in a list to create a new list based on the original list.\n",
    "\n",
    "**Tip:** We can use `list(range())` to create quickly create a list of integers."
   ]
  },
  {
   "cell_type": "code",
   "execution_count": 44,
   "id": "5eb1d5f6",
   "metadata": {},
   "outputs": [
    {
     "name": "stdout",
     "output_type": "stream",
     "text": [
      "xs: [0, 1, 2, 3, 4]\n"
     ]
    }
   ],
   "source": [
    "xs = list(range(5))\n",
    "print('xs:', xs)"
   ]
  },
  {
   "cell_type": "markdown",
   "id": "80c84b2e",
   "metadata": {},
   "source": [
    "The most basic use case of a list comprehension is similar to a call to `map()`, in that we are creating a new item for each item in the original list.\n",
    "\n",
    "Here, we are mapping $x$ to $x^2$ for every item `x` in the list `xs`."
   ]
  },
  {
   "cell_type": "code",
   "execution_count": 45,
   "id": "44d19734",
   "metadata": {},
   "outputs": [
    {
     "name": "stdout",
     "output_type": "stream",
     "text": [
      "ys: [0, 1, 4, 9, 16]\n"
     ]
    }
   ],
   "source": [
    "ys = [x**2 for x in xs]\n",
    "print('ys:', ys)"
   ]
  },
  {
   "cell_type": "markdown",
   "id": "3cb3cd28",
   "metadata": {},
   "source": [
    "The above is equivalent to the following for loop:"
   ]
  },
  {
   "cell_type": "code",
   "execution_count": 46,
   "id": "71533761",
   "metadata": {},
   "outputs": [
    {
     "name": "stdout",
     "output_type": "stream",
     "text": [
      "ys: [0, 1, 4, 9, 16]\n"
     ]
    }
   ],
   "source": [
    "y = []\n",
    "for x in xs:\n",
    "     y.append(x**2)\n",
    "print('ys:', y)"
   ]
  },
  {
   "cell_type": "markdown",
   "id": "b345b813",
   "metadata": {},
   "source": [
    "Notice how the list comprehension is much shorter, and more [\"Pythonic\"](https://docs.python-guide.org/writing/style/)."
   ]
  },
  {
   "cell_type": "markdown",
   "id": "3dc480d6",
   "metadata": {},
   "source": [
    "We can also use list comprehension to act as a filter. In this use case, we are building a new list using items from the original list that meet a certain criteria."
   ]
  },
  {
   "cell_type": "code",
   "execution_count": 47,
   "id": "669c57ce",
   "metadata": {},
   "outputs": [
    {
     "name": "stdout",
     "output_type": "stream",
     "text": [
      "evens: [0, 2, 4]\n"
     ]
    }
   ],
   "source": [
    "evens = [x for x in xs if x%2==0]\n",
    "print('evens:', evens)"
   ]
  },
  {
   "cell_type": "markdown",
   "id": "6065348b",
   "metadata": {},
   "source": [
    "Lastly, we can combine mapping and filtering. This will apply the filter first, and only add a mapped version of the original item if the original item passes the filter.\n",
    "\n",
    "**Note:** Only the original item has to pass the filter, not the mapped version. In this example, we will add  $3$ to each even item. Note how none of the resulting items are even. They don't have to be. Only the original list items needed to be even."
   ]
  },
  {
   "cell_type": "code",
   "execution_count": 48,
   "id": "c67b1ad9",
   "metadata": {},
   "outputs": [
    {
     "name": "stdout",
     "output_type": "stream",
     "text": [
      "ys: [3, 5, 7]\n"
     ]
    }
   ],
   "source": [
    "ys = [x+3 for x in xs if x%2==0]\n",
    "print('ys:', ys)"
   ]
  },
  {
   "cell_type": "markdown",
   "id": "2a855d65",
   "metadata": {},
   "source": [
    "## Non-Commutativity of Floats\n",
    "\n",
    "Careful: different ways to sum numbers give different answers. This won't be too much of an issue for us, but always check what every step of your computation does."
   ]
  },
  {
   "cell_type": "code",
   "execution_count": 49,
   "id": "614989a4",
   "metadata": {},
   "outputs": [
    {
     "name": "stdout",
     "output_type": "stream",
     "text": [
      "Input values: [0.1, 0.1, 0.1, 0.1, 0.1, 0.1, 0.1, 0.1, 0.1, 0.1]\n",
      "sum()       : 0.99999999999999988898\n",
      "for-loop    : 0.99999999999999988898\n",
      "math.fsum() : 1.00000000000000000000\n"
     ]
    }
   ],
   "source": [
    "values = [ 0.1 ] * 10\n",
    "\n",
    "sum1 = sum(values)\n",
    "\n",
    "sum2 = 0.0\n",
    "for i in values:\n",
    "    sum2 += i\n",
    "\n",
    "sum3 = math.fsum(values)\n",
    "\n",
    "print('{:12}: {}'.format('Input values', values))\n",
    "print('{:12}: {:.20f}'.format('sum()', sum1))\n",
    "print('{:12}: {:.20f}'.format('for-loop', sum2))\n",
    "print('{:12}: {:.20f}'.format('math.fsum()', sum3))"
   ]
  },
  {
   "cell_type": "markdown",
   "id": "25a7b9e0",
   "metadata": {},
   "source": [
    "## Functions\n",
    "\n",
    "Functions are a good way to reuse code."
   ]
  },
  {
   "cell_type": "code",
   "execution_count": 50,
   "id": "7db30bbc",
   "metadata": {},
   "outputs": [],
   "source": [
    "def get_circumference(r):\n",
    "    c = 2 * math.pi * r\n",
    "    return c\n",
    "\n",
    "def get_area(r):\n",
    "    \"\"\"\n",
    "    This is a function to compute the area of a circle of radius r\n",
    "    \"\"\"\n",
    "    a = math.pi * r * r\n",
    "    return a"
   ]
  },
  {
   "cell_type": "markdown",
   "id": "f676e709",
   "metadata": {},
   "source": [
    "Let's try the functions we just wrote."
   ]
  },
  {
   "cell_type": "code",
   "execution_count": 51,
   "id": "82c80bac",
   "metadata": {},
   "outputs": [
    {
     "name": "stdout",
     "output_type": "stream",
     "text": [
      "For a radius of 10.000, the circumference is 62.832 and the area is 314.159\n"
     ]
    }
   ],
   "source": [
    "r1 = 10\n",
    "c1 = get_circumference(r1)\n",
    "a1 = get_area(r1)\n",
    "\n",
    "print('For a radius of {:.3f}, the circumference is {:.3f} and the area is {:.3f}'.format(r1, c1, a1))"
   ]
  },
  {
   "cell_type": "markdown",
   "id": "efafb504",
   "metadata": {},
   "source": [
    "Because we already defined the function, we don't have to write the code again even ifwe wanted to calculate for a different circle!"
   ]
  },
  {
   "cell_type": "code",
   "execution_count": 52,
   "id": "fec5d554",
   "metadata": {},
   "outputs": [
    {
     "name": "stdout",
     "output_type": "stream",
     "text": [
      "For a radius of 20.000, the circumference is 125.664 and the area is 1256.637\n"
     ]
    }
   ],
   "source": [
    "r2 = 20\n",
    "c2 = get_circumference(r2)\n",
    "a2 = get_area(r2)\n",
    "\n",
    "print('For a radius of {:.3f}, the circumference is {:.3f} and the area is {:.3f}'.format(r2, c2, a2))"
   ]
  },
  {
   "cell_type": "code",
   "execution_count": 53,
   "id": "75f02fe7",
   "metadata": {},
   "outputs": [
    {
     "name": "stdout",
     "output_type": "stream",
     "text": [
      "Radius:\t     0.000\tCircumference:\t     0.000\tArea:\t     0.000\tBoundingBoxArea:\t     0.000\n",
      "Radius:\t     1.000\tCircumference:\t     6.283\tArea:\t     3.142\tBoundingBoxArea:\t     4.000\n",
      "Radius:\t     2.000\tCircumference:\t    12.566\tArea:\t    12.566\tBoundingBoxArea:\t    16.000\n",
      "Radius:\t     3.000\tCircumference:\t    18.850\tArea:\t    28.274\tBoundingBoxArea:\t    36.000\n",
      "Radius:\t     4.000\tCircumference:\t    25.133\tArea:\t    50.265\tBoundingBoxArea:\t    64.000\n",
      "Radius:\t     5.000\tCircumference:\t    31.416\tArea:\t    78.540\tBoundingBoxArea:\t   100.000\n",
      "Radius:\t     6.000\tCircumference:\t    37.699\tArea:\t   113.097\tBoundingBoxArea:\t   144.000\n",
      "Radius:\t     7.000\tCircumference:\t    43.982\tArea:\t   153.938\tBoundingBoxArea:\t   196.000\n",
      "Radius:\t     8.000\tCircumference:\t    50.265\tArea:\t   201.062\tBoundingBoxArea:\t   256.000\n",
      "Radius:\t     9.000\tCircumference:\t    56.549\tArea:\t   254.469\tBoundingBoxArea:\t   324.000\n",
      "Radius:\t    10.000\tCircumference:\t    62.832\tArea:\t   314.159\tBoundingBoxArea:\t   400.000\n",
      "Radius:\t    11.000\tCircumference:\t    69.115\tArea:\t   380.133\tBoundingBoxArea:\t   484.000\n",
      "Radius:\t    12.000\tCircumference:\t    75.398\tArea:\t   452.389\tBoundingBoxArea:\t   576.000\n",
      "Radius:\t    13.000\tCircumference:\t    81.681\tArea:\t   530.929\tBoundingBoxArea:\t   676.000\n",
      "Radius:\t    14.000\tCircumference:\t    87.965\tArea:\t   615.752\tBoundingBoxArea:\t   784.000\n",
      "Radius:\t    15.000\tCircumference:\t    94.248\tArea:\t   706.858\tBoundingBoxArea:\t   900.000\n",
      "Radius:\t    16.000\tCircumference:\t   100.531\tArea:\t   804.248\tBoundingBoxArea:\t  1024.000\n",
      "Radius:\t    17.000\tCircumference:\t   106.814\tArea:\t   907.920\tBoundingBoxArea:\t  1156.000\n",
      "Radius:\t    18.000\tCircumference:\t   113.097\tArea:\t  1017.876\tBoundingBoxArea:\t  1296.000\n",
      "Radius:\t    19.000\tCircumference:\t   119.381\tArea:\t  1134.115\tBoundingBoxArea:\t  1444.000\n",
      "Radius:\t    20.000\tCircumference:\t   125.664\tArea:\t  1256.637\tBoundingBoxArea:\t  1600.000\n"
     ]
    }
   ],
   "source": [
    "def get_bounding_box_area(r):\n",
    "    bba = 2**2 * r**2\n",
    "    return bba\n",
    "\n",
    "for r in range(0,21):\n",
    "    print('{}:\\t{:10.3f}\\t{}:\\t{:10.3f}\\t{}:\\t{:10.3f}\\t{}:\\t{:10.3f}'.format(\n",
    "        'Radius', r,\n",
    "        'Circumference', get_circumference(r),\n",
    "        'Area', get_area(r),\n",
    "        'BoundingBoxArea', get_bounding_box_area(r)\n",
    "    ))"
   ]
  },
  {
   "cell_type": "markdown",
   "id": "e4475a96",
   "metadata": {},
   "source": [
    "## Lambda functions\n",
    "\n",
    "The syntax:\n",
    "\n",
    "```\n",
    "new_function = lambda x : do_stuff(x)\n",
    "```\n",
    "\n",
    "is equivalent to the syntax\n",
    "\n",
    "```\n",
    "def new_function(x):\n",
    "    return do_stuff(x)\n",
    "```\n",
    "\n",
    "However, one benefit of the former syntax is that it doesn't require us to name the new function, i.e. the following by itself is valid Python code:\n",
    "\n",
    "```\n",
    "lambda x : do_stuff(x)\n",
    "```\n",
    "\n",
    "Another benefit of this syntax is that it can be written on one line. One effect this has is to make it easier to use functions as arguments to other functions (so called \"higher-order functions\"). For example, one can write\n",
    "\n",
    "```\n",
    "higher_order_function(lambda x : do_stuff(x))\n",
    "```\n",
    "\n",
    "instead of\n",
    "\n",
    "```\n",
    "def new_function(x):\n",
    "    return do_stuff(x)\n",
    "\n",
    "higher_order_function(new_function)\n",
    "```\n",
    "\n",
    "This can be helpful in cases where the definition of the new function is short, especially when we know that we won't use the new function more than once so that giving it a name isn't useful. (Of course if the new function's definition is short, but we know that we will use it more than once, we can still give it a name using the code `new_function = lambda x : do_stuff(x)`.)\n",
    "\n",
    "A common example is when we have a function which takes more than one argument, e.g. `bivariate_function(x1, x2)`, and we want to define functions from it using \"partial evaluation\", e.g.\n",
    "\n",
    "```\n",
    "def new_function(x):\n",
    "    return bivariate_function(x1=x, x2=5)\n",
    "```\n",
    "\n",
    "Using lambdas, we can do this in one line:\n",
    "\n",
    "```\n",
    "lambda x : bivariate_function(x1=x, x2=5)\n",
    "```\n",
    "\n",
    "thus allowing us to use it in our higher-order function without needing to give it its own name:\n",
    "\n",
    "```\n",
    "higher_order_function(lambda x : bivariate_function(x1=x, x2=5))\n",
    "```\n",
    "\n",
    "In the case that the function definition needs to be longer than one line, lambda functions are less useful."
   ]
  }
 ],
 "metadata": {
  "jupytext": {
   "text_representation": {
    "extension": ".md",
    "format_name": "myst",
    "format_version": 0.12,
    "jupytext_version": "1.9.1"
   }
  },
  "kernelspec": {
   "display_name": "Python 3",
   "language": "python",
   "name": "python3"
  },
  "language_info": {
   "codemirror_mode": {
    "name": "ipython",
    "version": 3
   },
   "file_extension": ".py",
   "mimetype": "text/x-python",
   "name": "python",
   "nbconvert_exporter": "python",
   "pygments_lexer": "ipython3",
   "version": "3.9.5"
  },
  "source_map": [
   12,
   21,
   23,
   34,
   36,
   50,
   54,
   58,
   61,
   65,
   68,
   72,
   76,
   83,
   87,
   91,
   96,
   100,
   104,
   110,
   114,
   118,
   121,
   125,
   128,
   132,
   136,
   140,
   142,
   146,
   148,
   154,
   156,
   160,
   162,
   166,
   168,
   172,
   174,
   178,
   180,
   188,
   192,
   202,
   205,
   209,
   212,
   218,
   222,
   226,
   229,
   235,
   239,
   243,
   246,
   250,
   253,
   257,
   260,
   266,
   270,
   274,
   277,
   281,
   284,
   288,
   291,
   295,
   300,
   304,
   307,
   311,
   314,
   318,
   321,
   325,
   331,
   337,
   339,
   349,
   353,
   359,
   365,
   370,
   376,
   381,
   387,
   390,
   396,
   399,
   403,
   408,
   412,
   416,
   419,
   425,
   428,
   434,
   449,
   455,
   466,
   470,
   476,
   480,
   488,
   500
  ]
 },
 "nbformat": 4,
 "nbformat_minor": 5
}