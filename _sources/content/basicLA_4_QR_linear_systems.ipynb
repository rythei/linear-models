{
 "cells": [
  {
   "cell_type": "markdown",
   "id": "d00b5486",
   "metadata": {},
   "source": [
    "# Solving linear systems with the QR decomposition\n",
    "\n",
    "One of the most important applications of the QR decomposition is in solving (or approximately solving) a linear system of equations of the form $\\boldsymbol{Ax} = \\boldsymbol{b}$ where $\\boldsymbol{A}\\in \\mathbb{R}^{m\\times n}$ and $\\boldsymbol{b} \\in \\mathbb{R}^m$ are known. This problem comes up frequently in data science problems, perhaps most notably in the context of linear regression.\n",
    "\n",
    "Before we see how the QR decomposition can help us in this task, let's first study when we can expect to have a solution $\\boldsymbol{x}_\\star$ satisfying $\\boldsymbol{Ax}_\\star = \\boldsymbol{b}$. Recall that if we write $\\boldsymbol{A} = \\begin{bmatrix}\\boldsymbol{a}_1\\cdots \\boldsymbol{a}_m\\end{bmatrix}$ in terms of its columns $\\boldsymbol{a}_1,\\dots,\\boldsymbol{a}_n\\in \\mathbb{R}^m$, then $\\boldsymbol{Ax} = \\boldsymbol{b}$ can be expressed as\n",
    "\n",
    "$$\n",
    "x_1\\boldsymbol{a}_1 + \\cdots + x_n \\boldsymbol{a}_n = \\boldsymbol{b}.\n",
    "$$\n",
    "\n",
    "The question then is whether there are coefficients $\\boldsymbol{x} = (x_1,\\dots,x_n)$ that satisfy this equation. This will be true whenever $\\boldsymbol{b}$ is the the _column space_ of $\\boldsymbol{A}$ (i.e. the span of the columns of $\\boldsymbol{A}$). This will be true for any vector $\\boldsymbol{b}\\in \\mathbb{R}^m$ provided the columns of $\\boldsymbol{A}$ span all of $\\mathbb{R}^m$, equivalently if function $f(\\boldsymbol{x}) = \\boldsymbol{Ax}$ is surjective, though it may also be true for a _particular_ vector $\\boldsymbol{b}$ even if $f$ is not surjective. In fact, if the columns of $\\boldsymbol{A}$ span all of $\\mathbb{R}^m$, there may in fact be many solutions $\\boldsymbol{x}_\\star$ which satisfy $\\boldsymbol{Ax}_\\star = \\boldsymbol{b}$. On the other hand, if $f(\\boldsymbol{x}) = \\boldsymbol{Ax}$ is not surjective, then there may be no solutions; in this case we are often satisfied with a approximate solution. This will lead us to the topic of _least squares_, which we will discuss later in the class. For now, we will consider situations when the system $\\boldsymbol{Ax} = \\boldsymbol{b}$ _does_ have a solution, either for all vectors $\\boldsymbol{b}$ or only for particular vectors $\\boldsymbol{b}$. In particular, we will focus here on when the matrix $\\boldsymbol{A}$ is square and invertible, so that $\\boldsymbol{Ax} = \\boldsymbol{b}$ has a _unique_ solution given by $\\boldsymbol{x}_\\star = \\boldsymbol{A}^{-1}\\boldsymbol{b}$. However, computing a matrix inverse can often be expensive when done directly, and in many cases we don't actually need the matrix $\\boldsymbol{A}^{-1}$, but rather just the solution $\\boldsymbol{x}_\\star$. In this section, we will see how we can use the QR decomposition to find this solution efficiently.\n",
    "\n",
    "## Solving upper triangular systems with backsubstition\n",
    "\n",
    "Solving the system $\\boldsymbol{Ax} = \\boldsymbol{b}$, for an $n\\times n$ matrix $\\boldsymbol{A}$, involves solving a system of $n$ equations in $n$ variables, which in general can be a computationally expensive problem. The problem is simplified considerably when the system is of the form $\\boldsymbol{Rx} = \\boldsymbol{b}$ for some upper triangular matrix $\\boldsymbol{R}$ of the form\n",
    "\n",
    "$$\n",
    "\\boldsymbol{R} = \\begin{bmatrix} r_{1,1} & r_{1,2} & \\cdots & r_{1,n}\\\\ 0 & r_{2,2} & \\cdots & r_{2,n}\\\\ \\vdots & \\vdots &\\ddots & \\vdots\\\\ 0 & 0 & \\cdots & r_{n,n}  \\end{bmatrix}.\n",
    "$$\n",
    "\n",
    "Then the system $\\boldsymbol{Rx} = \\boldsymbol{b}$ looks like\n",
    "\n",
    "$$\n",
    "\\begin{align}\n",
    "r_{1,1}x_1 + r_{12}x_2 + \\cdots + r_{1,n}x_n &= b_1 && (1) \\\\\n",
    "r_{2,2}x_2 + \\cdots + r_{2,n}x_n &= b_2 && (2)\\\\\n",
    "& \\vdots  \\\\\n",
    "r_{n,n}x_n &= b_n && (n)\n",
    "\\end{align}\n",
    "$$\n",
    "\n",
    "This system is easy to solve using the following algorithm: first solve for $x_n$ in equation $(n)$ with $x_n = b_n/r_{nn}$, then plug this into equation $(n-1)$ to solve for $x_{n-1}$, and so on. Because the system is triangular, we can easily find another entry in the solution vector $\\boldsymbol{x}_\\star$ at each step, rather than needing to solve all $n$ equations simultaneously. This general algorithm is called _backsubstition_, and is very efficient in practice.\n",
    "\n",
    "The general algorithm works as follows:\n",
    "\n",
    "$$\n",
    "\\begin{align}\n",
    "&\\underline{\\textbf{backsubstition algorithm}: \\text{find vector $\\boldsymbol{x}$ satisfying $\\boldsymbol{Rx} = \\boldsymbol{b}$.}} \\\\\n",
    "&\\textbf{input}:\\text{upper triangular matrix }\\boldsymbol{R}\\in \\mathbb{R}^{n\\times n}\\text{, vector }\\boldsymbol{b}=(b_1,\\dots,b_n)\\in \\mathbb{R}^n  \\\\\n",
    "&\\hspace{0mm}\\text{initialize $\\boldsymbol{x} = (0,\\dots,0)$}\\\\\n",
    "&\\hspace{0mm} \\text{for $i=n,\\dots, 1$:}\\\\\n",
    "&\\hspace{10mm} t = b_i\\\\\n",
    "&\\hspace{10mm} \\text{for $j > i$:}\\\\\n",
    "&\\hspace{20mm} t = t - \\boldsymbol{R}_{ij}\\cdot x_j\\\\\n",
    "&\\hspace{10mm} x_i = t/\\boldsymbol{R}_{ii}\\\\\n",
    "&\\hspace{0mm} \\text{return } \\boldsymbol{x} = (x_1,\\dots,x_n)\\\\\n",
    "\\end{align}\n",
    "$$\n",
    "\n",
    "If you write out an example of what the above algorithm does, you will see that it performs exactly the procedure we described above. We can easily implement this in a few lines of python:"
   ]
  },
  {
   "cell_type": "code",
   "execution_count": 1,
   "id": "df337700",
   "metadata": {},
   "outputs": [],
   "source": [
    "def back_substitution(R, b):\n",
    "    n = len(b)\n",
    "    x = np.zeros(n)\n",
    "\n",
    "    # note: using -1 as the \"by\" argument counts backwards in steps of 1\n",
    "    for i in range(n-1, -1, -1):\n",
    "        tmp = b[i]\n",
    "        for j in range(n-1, i, -1):\n",
    "            tmp -= x[j]*R[i,j]\n",
    "\n",
    "        x[i] = tmp/R[i,i]\n",
    "    return x"
   ]
  },
  {
   "cell_type": "markdown",
   "id": "8f4e53a8",
   "metadata": {},
   "source": [
    "Let's use this function to solve some triangular systems. For example, consider the triangular matrix\n",
    "\n",
    "$$\n",
    "\\boldsymbol{R} = \\begin{bmatrix} 1 & -2 & 4 & 5\\\\ 0 & 2 & 3 & -1\\\\ 0 & 0 & -6 & 1\\\\ 0& 0 &0 &2 \\end{bmatrix}\n",
    "$$\n",
    "\n",
    "and the vector $\\boldsymbol{b} = (1,1,1,1)$. We can find a vector $\\boldsymbol{x}$ satisfying $\\boldsymbol{Rx} = \\boldsymbol{b}$ with the following python code:"
   ]
  },
  {
   "cell_type": "code",
   "execution_count": 2,
   "id": "271f7cc3",
   "metadata": {},
   "outputs": [
    {
     "name": "stdout",
     "output_type": "stream",
     "text": [
      "[ 0.58333333  0.875      -0.08333333  0.5       ]\n"
     ]
    }
   ],
   "source": [
    "import numpy as np\n",
    "R = np.array([[1,-2,4,5], [0,2,3,-1], [0,0,-6,1], [0,0,0,2]])\n",
    "b = np.ones(4)\n",
    "x = back_substitution(R,b)\n",
    "print(x)"
   ]
  },
  {
   "cell_type": "markdown",
   "id": "da6005da",
   "metadata": {},
   "source": [
    "Let's check that this vector actually solves our system."
   ]
  },
  {
   "cell_type": "code",
   "execution_count": 3,
   "id": "834335b6",
   "metadata": {},
   "outputs": [
    {
     "name": "stdout",
     "output_type": "stream",
     "text": [
      "[1. 1. 1. 1.]\n"
     ]
    }
   ],
   "source": [
    "print(np.dot(R,x).round(2))"
   ]
  },
  {
   "cell_type": "markdown",
   "id": "81bf5b84",
   "metadata": {},
   "source": [
    "## Using QR to solve linear systems in the general case\n",
    "\n",
    " Now that we've seen how to easily solve triangular systems, let's see why QR can be useful in the general case of solving $\\boldsymbol{Ax} = \\boldsymbol{b}$ when $\\boldsymbol{A}$ is _not_ triangular. Recall that the QR decomposition allows us to write $\\boldsymbol{A} = \\boldsymbol{QR}$ where $\\boldsymbol{Q}$ is an orthogonal matrix, obtained using the Gram-Schmidt procedure, and $\\boldsymbol{R}$ is an upper triangular matrix. Now if we plug this decomposition into the equation $\\boldsymbol{Ax} = \\boldsymbol{b}$, we find\n",
    "\n",
    "$$\n",
    "\\boldsymbol{Ax} = \\boldsymbol{b} \\iff \\boldsymbol{QRx} = \\boldsymbol{b} \\iff \\underbrace{\\boldsymbol{Q^\\top Q}}_{=\\boldsymbol{I}} \\boldsymbol{Rx} = \\boldsymbol{Q^\\top b} \\iff \\boldsymbol{Rx} = \\boldsymbol{Q^\\top b}.\n",
    "$$\n",
    "\n",
    "Thus if we define $\\tilde{\\boldsymbol{b}} = \\boldsymbol{Q}^\\top \\boldsymbol{b}$, we see that we can equivalently find $\\boldsymbol{x}$ by solving the triangular system\n",
    "\n",
    "$$\n",
    "\\boldsymbol{Rx} = \\tilde{\\boldsymbol{b}}.\n",
    "$$\n",
    "\n",
    "Now we have arrived at a simple two-step procedure for solving an $n\\times n$ system $\\boldsymbol{Ax} = \\boldsymbol{b}$:\n",
    "\n",
    "1. Factor $\\boldsymbol{A} = \\boldsymbol{QR}$ using the QR decomposition\n",
    "2. Solve the triangular system $\\boldsymbol{Rx} = \\boldsymbol{Q^\\top b}$ using backsubstitution\n",
    "\n",
    "Let's see an example how we can use this method.\n",
    "\n",
    "Suppose we have $n$ data samples $\\boldsymbol{x}_1,\\dots, \\boldsymbol{x}_n \\in \\mathbb{R}^n$, each associated with a response, or label, generated via the following linear relationship:\n",
    "\n",
    "$$\n",
    "y_i = \\boldsymbol{\\beta}_\\star^\\top \\boldsymbol{x}_i\n",
    "$$\n",
    "\n",
    "where $\\boldsymbol{\\beta}_\\star$ is an unobserved vector in $\\mathbb{R}^n$. We want to use the data $(\\boldsymbol{x}_1,y_1),\\dots,(\\boldsymbol{x}_n, y_n)$ to determine what the vector $\\boldsymbol{\\beta}_\\star$ is. If we collect the features $\\boldsymbol{x}_i$ into the columns a matrix $\\boldsymbol{X} = \\begin{bmatrix}\\boldsymbol{x}_1 & \\cdots & \\boldsymbol{x}_n\\end{bmatrix}$, and the responses into a vector $\\boldsymbol{y} = (y_1,\\dots,y_n)$, we can equivalently pose this as finding a vector $\\boldsymbol{\\beta}$ that solves the linear system\n",
    "\n",
    "$$\n",
    "\\boldsymbol{X\\beta} = \\boldsymbol{y}.\n",
    "$$\n",
    "\n",
    "Let's generate an example of this setup, and use the method described above to find the solution. First let's generate some data."
   ]
  },
  {
   "cell_type": "code",
   "execution_count": 4,
   "id": "33e4fc79",
   "metadata": {},
   "outputs": [],
   "source": [
    "n= 20\n",
    "\n",
    "beta_star = np.array([1,-1,2,-2,3,-3,4,-4,5,-5,6,-6,7,-7,8,-8,9,-9,10,-10])\n",
    "X = np.random.normal(size=(n,n))\n",
    "y = np.dot(X, beta_star)"
   ]
  },
  {
   "cell_type": "markdown",
   "id": "5fe55166",
   "metadata": {},
   "source": [
    "Next, let's compute the QR decomposition of the matrix $\\boldsymbol{X}$. We could do this ourselves using the functions we wrote in the previous section, but here we will simply use the built-in `numpy` function."
   ]
  },
  {
   "cell_type": "code",
   "execution_count": 5,
   "id": "74f5f3a7",
   "metadata": {},
   "outputs": [],
   "source": [
    "Q, R = np.linalg.qr(X)"
   ]
  },
  {
   "cell_type": "markdown",
   "id": "387c6a25",
   "metadata": {},
   "source": [
    "Now, we can use our function `back_substitution` to try and recover $\\boldsymbol{\\beta}_\\star$ from the data. First, we form $\\tilde{\\boldsymbol{y}} = \\boldsymbol{Q^\\top y}$, and then solve $\\boldsymbol{R\\beta} = \\tilde{\\boldsymbol{y}}$."
   ]
  },
  {
   "cell_type": "code",
   "execution_count": 6,
   "id": "65021cfd",
   "metadata": {},
   "outputs": [
    {
     "name": "stdout",
     "output_type": "stream",
     "text": [
      "[  1.  -1.   2.  -2.   3.  -3.   4.  -4.   5.  -5.   6.  -6.   7.  -7.\n",
      "   8.  -8.   9.  -9.  10. -10.]\n"
     ]
    }
   ],
   "source": [
    "y_tilde = np.dot(Q.T, y)\n",
    "beta_hat = back_substitution(R, y_tilde)\n",
    "print(beta_hat)"
   ]
  },
  {
   "cell_type": "markdown",
   "id": "25045964",
   "metadata": {},
   "source": [
    "The problem we have just solved here is a special case of the linear regression problem. Later in this course, we will see that essentially the same techniques can be used to solve more general versions of this problem, and in fact are the basis for how most common statistical software do so."
   ]
  }
 ],
 "metadata": {
  "jupytext": {
   "text_representation": {
    "extension": ".md",
    "format_name": "myst",
    "format_version": 0.12,
    "jupytext_version": "1.9.1"
   }
  },
  "kernelspec": {
   "display_name": "Python 3",
   "language": "python",
   "name": "python3"
  },
  "language_info": {
   "codemirror_mode": {
    "name": "ipython",
    "version": 3
   },
   "file_extension": ".py",
   "mimetype": "text/x-python",
   "name": "python",
   "nbconvert_exporter": "python",
   "pygments_lexer": "ipython3",
   "version": "3.9.5"
  },
  "source_map": [
   12,
   65,
   78,
   88,
   94,
   98,
   100,
   137,
   143,
   147,
   149,
   153,
   157
  ]
 },
 "nbformat": 4,
 "nbformat_minor": 5
}