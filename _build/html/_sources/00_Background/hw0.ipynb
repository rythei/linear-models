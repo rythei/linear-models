{
 "cells": [
  {
   "cell_type": "markdown",
   "metadata": {},
   "source": [
    "# Homework 0: Due Sunday January 24, 2021, 11:59 PM CA time"
   ]
  },
  {
   "cell_type": "markdown",
   "metadata": {},
   "source": [
    "## Exercise \n",
    "\n",
    "Get used to using python as a calculator. Try computing all of the following:"
   ]
  },
  {
   "cell_type": "markdown",
   "metadata": {},
   "source": [
    "(i) $10 \\sqrt{(2(11.4+12.6))}$"
   ]
  },
  {
   "cell_type": "code",
   "execution_count": null,
   "metadata": {},
   "outputs": [],
   "source": []
  },
  {
   "cell_type": "markdown",
   "metadata": {},
   "source": [
    "(ii) $e^{0.5}$"
   ]
  },
  {
   "cell_type": "code",
   "execution_count": null,
   "metadata": {},
   "outputs": [],
   "source": []
  },
  {
   "cell_type": "markdown",
   "metadata": {},
   "source": [
    "(iii) the value of $y=(10+sin(x)+x^2+cosh(x^2+1))/(sinh(x)+x^3+3x^4+e^x)$ for $x=\\pi$ and $x=0.2$"
   ]
  },
  {
   "cell_type": "code",
   "execution_count": null,
   "metadata": {},
   "outputs": [],
   "source": []
  },
  {
   "cell_type": "markdown",
   "metadata": {},
   "source": [
    "## Exercise\n",
    "\n",
    "Write a function that takes as arguement $r$ for the radius of a circle and returns the diameter $r$ of the circle, as well as the circle's circumference $c$ and the area $a$. Try the function for $r=6$."
   ]
  },
  {
   "cell_type": "code",
   "execution_count": null,
   "metadata": {},
   "outputs": [],
   "source": []
  },
  {
   "cell_type": "markdown",
   "metadata": {},
   "source": [
    "## Exercise\n",
    "\n",
    "Write a for loop to sum up all natural numbers from $1$ to $1,000,000$."
   ]
  },
  {
   "cell_type": "code",
   "execution_count": null,
   "metadata": {},
   "outputs": [],
   "source": []
  },
  {
   "cell_type": "markdown",
   "metadata": {},
   "source": [
    "## Exercise\n",
    "\n",
    "Compute the sum $\\sum_{i=1}^{10}(i+1)$."
   ]
  },
  {
   "cell_type": "code",
   "execution_count": null,
   "metadata": {},
   "outputs": [],
   "source": []
  },
  {
   "cell_type": "markdown",
   "metadata": {},
   "source": [
    "## Exercise\n",
    "\n",
    "The curve $f(x)=x^2+3x+\\sqrt5$ intersects the curve $g(x)=-x^2-2x+1$ at two points. Find the coordinates of the intersections and the gradients of the tangents to each curve at those points."
   ]
  },
  {
   "cell_type": "code",
   "execution_count": null,
   "metadata": {},
   "outputs": [],
   "source": []
  },
  {
   "cell_type": "markdown",
   "metadata": {},
   "source": [
    "## Exercise\n",
    "\n",
    "The Taylor series for sinh(x) is given by,\n",
    "\n",
    "$$sinh(x)=x+\\frac{x^3}{3!} + \\frac{x^5}{5!} + \\frac{x^7}{7!}+ ...$$\n",
    "\n",
    "Write a function that finds an approximate solution for $sinh(x)$. Try your function for $x=4$ and compute the error between your approximate answer and numpy's `sinh()` function. Report how many terms you need in order to achieve an error \n",
    "\n",
    "$$\\epsilon < 1e-4$$."
   ]
  },
  {
   "cell_type": "code",
   "execution_count": null,
   "metadata": {},
   "outputs": [],
   "source": []
  },
  {
   "cell_type": "markdown",
   "metadata": {},
   "source": [
    "## Exercise \n",
    "\n",
    "Consider the functions $f(x)=x^2$, $g(x)=sin(x)$, and $h(x)=sinh(x+1)-e^{2x}$. Write lambda functions that represents each of these functions. Then write another function that takes as its arguements two functions and the value of $x$ and returns the composition of the functions (e.g., $f(g(x))=f\\circ g(x)$). Use this to find:\n",
    "\n",
    "(i) $g\\circ f(5.0)$\n",
    "\n",
    "(ii) $f \\circ g(2)$\n",
    "\n",
    "(iii) $h \\circ(g\\circ f)(2\\pi)$"
   ]
  },
  {
   "cell_type": "code",
   "execution_count": null,
   "metadata": {},
   "outputs": [],
   "source": []
  },
  {
   "cell_type": "markdown",
   "metadata": {},
   "source": [
    "## IMPORTANT DIRECTIONS\n",
    "After your completed the cells with your information above, please follow the directions below and submit the PDF version of this notebook to Gradescope. You MUST add yourself to Gradescope first via entry code **RWKRVE** if you haven't been added already.\n",
    "\n",
    "1. Save your notebook by clicking the \"disc\" icon on the top left corner (the very first icon from the left)\n",
    "2. Click `File` on the top left corner >>> `Download as` >>> `PDF via LaTeX` to your local computer.\n",
    "3. Go to Gradescope at `gradescope.com` \n",
    "4. Find `Hello World Test Submission` on your dashboard after clicking into Stat 89A\n",
    "5. Click `Upload Submission` on the bottom and submit your local PDF file of this notebook.\n",
    "\n",
    "You are all set! This is how you will be uploading your homework and notebooks for Stat 89A!\n",
    "\n",
    "## IMPORTANT SURVEY\n",
    "\n",
    "Please also fill out this course survey as soon as you can:\n",
    "\n",
    "https://forms.gle/ZxXkjqXDBF5xPYbb9"
   ]
  },
  {
   "cell_type": "code",
   "execution_count": null,
   "metadata": {},
   "outputs": [],
   "source": []
  },
  {
   "cell_type": "code",
   "execution_count": null,
   "metadata": {},
   "outputs": [],
   "source": []
  }
 ],
 "metadata": {
  "kernelspec": {
   "display_name": "Python 3",
   "language": "python",
   "name": "python3"
  },
  "language_info": {
   "codemirror_mode": {
    "name": "ipython",
    "version": 3
   },
   "file_extension": ".py",
   "mimetype": "text/x-python",
   "name": "python",
   "nbconvert_exporter": "python",
   "pygments_lexer": "ipython3",
   "version": "3.7.3"
  }
 },
 "nbformat": 4,
 "nbformat_minor": 4
}
