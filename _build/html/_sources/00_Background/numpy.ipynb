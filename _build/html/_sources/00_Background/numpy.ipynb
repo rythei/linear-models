{
 "cells": [
  {
   "cell_type": "markdown",
   "id": "designed-organ",
   "metadata": {},
   "source": [
    "# Introduction to NumPy\n",
    "\n",
    "Why do we need NumPy for data science?\n",
    "First, data typically arise in form of tables (and in many cases those tables consist of numbers on which we want to perform numerical operations).\n",
    "Second, vectorized operations are fast and powerful and speed and resources are very important in data science.\n",
    "NumPy (short for Numerical Python) is a Python library that is specialized on working with numerical arrays.\n",
    "Since, as a practical matter, linear algebra often amounts to working with numerical arrays (on which we can the perform operations of scalar multiplication and vector addition), NumPy is often the best way to do it in python.\n",
    "\n",
    "Operations on NumPy arrays can be up to 50 times faster than traditional Python lists.\n",
    "Also, NumPy provides a large number of functions for matrix computations, and NumPy is the foundation of the Python machine learning stack.\n",
    "All in all, it is well worth becoming very familiar with it.\n",
    "In the following, we will give a brief introduction to NumPy and introduce some important function that we will use in this course.\n",
    "\n",
    "\n",
    "As with any library in Python, we first need to import NumPy.\n",
    "If you use Anaconda, then NumPy is included, otherwise you need to install NumPy by hand.\n",
    "Fortunately, that is as easy as issuing the following command."
   ]
  },
  {
   "cell_type": "code",
   "execution_count": 1,
   "id": "incident-cuisine",
   "metadata": {},
   "outputs": [],
   "source": [
    "import numpy as np"
   ]
  },
  {
   "cell_type": "markdown",
   "id": "compound-occurrence",
   "metadata": {},
   "source": [
    "Before we get started, we want to illustrate that vectorized operations are indeed much faster than lists.\n",
    "Here is a simple example: Add all integers from 1 to 10,000,000.\n",
    "There are several ways how we can do this.\n",
    "\n",
    "For instance, we can construct a list that contains all the integers from $1$ to $10,000,000$ and then sum them up."
   ]
  },
  {
   "cell_type": "code",
   "execution_count": 2,
   "id": "chicken-registrar",
   "metadata": {},
   "outputs": [
    {
     "name": "stdout",
     "output_type": "stream",
     "text": [
      "CPU times: user 628 ms, sys: 161 ms, total: 789 ms\n",
      "Wall time: 756 ms\n"
     ]
    },
    {
     "data": {
      "text/plain": [
       "49999995000000"
      ]
     },
     "execution_count": 2,
     "metadata": {},
     "output_type": "execute_result"
    }
   ],
   "source": [
    "%time sum([i for i in range(1,10000000)])"
   ]
  },
  {
   "cell_type": "markdown",
   "id": "faced-siemens",
   "metadata": {},
   "source": [
    "This is really very slow.\n",
    "Instead, we can use NumPy to do the same operation much faster."
   ]
  },
  {
   "cell_type": "code",
   "execution_count": 3,
   "id": "frozen-charter",
   "metadata": {},
   "outputs": [
    {
     "name": "stdout",
     "output_type": "stream",
     "text": [
      "CPU times: user 19.5 ms, sys: 7.89 ms, total: 27.4 ms\n",
      "Wall time: 27.9 ms\n"
     ]
    },
    {
     "data": {
      "text/plain": [
       "49999995000000"
      ]
     },
     "execution_count": 3,
     "metadata": {},
     "output_type": "execute_result"
    }
   ],
   "source": [
    "%time np.sum(np.arange(1,10000000))"
   ]
  },
  {
   "cell_type": "markdown",
   "id": "married-individual",
   "metadata": {},
   "source": [
    "Depending on the computational platform, we reduce the computational time by a factor about $15$.\n",
    "So what is going on here?\n",
    "The function `np.arange` is creating an array object that is called `ndarray`.\n",
    "NumPy arrays are highly optimized to work with latest CPU architectures, and more importantly NumPy arrays are stored at one continuous place in memory, unlike lists.\n",
    "Hence, the `np.sum` function can access and manipulate the elements of the Numpy array very efficiently.\n",
    "This is one of the main reason why NumPy is faster than traditional NumPy lists.\n",
    "Other advantages of NumPy are:\n",
    "\n",
    "* vectorized code is more concise and easier to read\n",
    "\n",
    "* vectorized code more closely resembles standard mathematical notation\n",
    "\n",
    "By the way, NumPy has a fantastic documentation: [https://numpy.org/doc/stable/user/whatisnumpy.html](https://numpy.org/doc/stable/user/whatisnumpy.html).\n",
    "So, for instance, if you want to learn more details about the `np.arange` function, then you can have a look here: [https://numpy.org/doc/stable/reference/generated/numpy.arange.html](https://numpy.org/doc/stable/reference/generated/numpy.arange.html).\n",
    "\n",
    "\n",
    "## Numpy Arrays\n",
    "\n",
    "The most important object in NumPy is the `ndarray`. Typically, we use the `np.array` function to define a new `ndarray`. For example, we can construct the following $2\\times 2$ matrix\n",
    "\n",
    "\n",
    "$$\n",
    "\\mathbf{A} = \\begin{bmatrix}\n",
    "1 & 2  \\\\\n",
    "3 & 4 \\\\\n",
    "\\end{bmatrix}\n",
    "\\quad\n",
    "$$\n",
    "\n",
    "\n",
    "as follows."
   ]
  },
  {
   "cell_type": "code",
   "execution_count": 4,
   "id": "conventional-hamilton",
   "metadata": {},
   "outputs": [
    {
     "name": "stdout",
     "output_type": "stream",
     "text": [
      "[[1 2]\n",
      " [3 4]]\n"
     ]
    }
   ],
   "source": [
    "A = np.array(([1,2], [3,4]))\n",
    "print(A)"
   ]
  },
  {
   "cell_type": "markdown",
   "id": "charitable-mentor",
   "metadata": {},
   "source": [
    "We can check the type of variable `A` and verify that it is indeed a NumPy `ndarray`."
   ]
  },
  {
   "cell_type": "code",
   "execution_count": 5,
   "id": "cultural-willow",
   "metadata": {},
   "outputs": [
    {
     "data": {
      "text/plain": [
       "numpy.ndarray"
      ]
     },
     "execution_count": 5,
     "metadata": {},
     "output_type": "execute_result"
    }
   ],
   "source": [
    "type(A)"
   ]
  },
  {
   "cell_type": "markdown",
   "id": "registered-chinese",
   "metadata": {},
   "source": [
    "When working with numpy arrays it is always a good idea to check and verify the shape of the array."
   ]
  },
  {
   "cell_type": "code",
   "execution_count": 6,
   "id": "effective-pixel",
   "metadata": {},
   "outputs": [
    {
     "name": "stdout",
     "output_type": "stream",
     "text": [
      "The shape of A is (2, 2)\n"
     ]
    }
   ],
   "source": [
    "print('The shape of A is', A.shape)"
   ]
  },
  {
   "cell_type": "markdown",
   "id": "tender-praise",
   "metadata": {},
   "source": [
    "### A few special matrices\n",
    "\n",
    "\n",
    "There are many special matrices that you can construct using NumPy. Here are just a few examples.\n",
    "\n",
    "\n",
    "An array filled with ones."
   ]
  },
  {
   "cell_type": "code",
   "execution_count": 7,
   "id": "declared-velvet",
   "metadata": {},
   "outputs": [
    {
     "name": "stdout",
     "output_type": "stream",
     "text": [
      "[[1. 1.]\n",
      " [1. 1.]]\n"
     ]
    }
   ],
   "source": [
    "B = np.ones((2,2))\n",
    "print(B)"
   ]
  },
  {
   "cell_type": "markdown",
   "id": "figured-disease",
   "metadata": {},
   "source": [
    "An array filled with zeros."
   ]
  },
  {
   "cell_type": "code",
   "execution_count": 8,
   "id": "furnished-oxide",
   "metadata": {},
   "outputs": [
    {
     "name": "stdout",
     "output_type": "stream",
     "text": [
      "[[0. 0.]\n",
      " [0. 0.]]\n"
     ]
    }
   ],
   "source": [
    "C = np.zeros((2,2))\n",
    "print(C)"
   ]
  },
  {
   "cell_type": "markdown",
   "id": "prospective-stanley",
   "metadata": {},
   "source": [
    "An array with ones on the diagonal and zeros otherwise.\n",
    "This special array is also known as the identity matrix."
   ]
  },
  {
   "cell_type": "code",
   "execution_count": 9,
   "id": "neutral-protein",
   "metadata": {},
   "outputs": [
    {
     "name": "stdout",
     "output_type": "stream",
     "text": [
      "[[1. 0.]\n",
      " [0. 1.]]\n"
     ]
    }
   ],
   "source": [
    "I = np.eye(2)\n",
    "print(I)"
   ]
  },
  {
   "cell_type": "markdown",
   "id": "worth-legend",
   "metadata": {},
   "source": [
    "### Creating Numerical Ranges\n",
    "\n",
    "In many situations we need to create arrays that contain evenly spaced numbers over a specified interval. In Python you can use the built-in range function to construct a list with evenly spaced numbers, but it is often faster to use NumPy's `arange` function to construct an array that contains evenly spaced numbers.\n",
    "This function has the following interface: `numpy.arange(start, stop, step=1)`. Here, `start` and `stop` specify a certain interval `[start, stop)`, and `step` specifies the spacing between values. (Note, the interval includes the `start` value but excludes the `stop` value.) Here is an example that constructs an array that contains the integers in `[1, 10)`."
   ]
  },
  {
   "cell_type": "code",
   "execution_count": 10,
   "id": "indie-asthma",
   "metadata": {},
   "outputs": [
    {
     "data": {
      "text/plain": [
       "array([1, 2, 3, 4, 5, 6, 7, 8, 9])"
      ]
     },
     "execution_count": 10,
     "metadata": {},
     "output_type": "execute_result"
    }
   ],
   "source": [
    "np.arange(1,10)"
   ]
  },
  {
   "cell_type": "markdown",
   "id": "robust-stanley",
   "metadata": {},
   "source": [
    "You can also change the step size. For instance, we can construct an array that contains all numbers in `[1, 10)` that are evenly spacaed by $0.5$."
   ]
  },
  {
   "cell_type": "code",
   "execution_count": 11,
   "id": "ordinary-commissioner",
   "metadata": {},
   "outputs": [
    {
     "data": {
      "text/plain": [
       "array([1. , 1.5, 2. , 2.5, 3. , 3.5, 4. , 4.5, 5. , 5.5, 6. , 6.5, 7. ,\n",
       "       7.5, 8. , 8.5, 9. , 9.5])"
      ]
     },
     "execution_count": 11,
     "metadata": {},
     "output_type": "execute_result"
    }
   ],
   "source": [
    "np.arange(1,10, step=0.5)"
   ]
  },
  {
   "cell_type": "markdown",
   "id": "cloudy-railway",
   "metadata": {},
   "source": [
    "In other situations, we prefer to specify the number of samples that are evenly spaced over a specified interval instead of the step size. This can be done using NumPy's `linspace` function. This function has the following interface: `numpy.linspace(start, stop, num=50, endpoint=True)`. Here, `start` and `stop` specify a certain interval `[start, stop]`, and `num` specifies the number of samples to generate. For example, we can construct an array that contains 19 evenly spaced samples in `[1, 10]`, including the endpoint."
   ]
  },
  {
   "cell_type": "code",
   "execution_count": 12,
   "id": "harmful-clear",
   "metadata": {},
   "outputs": [
    {
     "data": {
      "text/plain": [
       "array([ 1. ,  1.5,  2. ,  2.5,  3. ,  3.5,  4. ,  4.5,  5. ,  5.5,  6. ,\n",
       "        6.5,  7. ,  7.5,  8. ,  8.5,  9. ,  9.5, 10. ])"
      ]
     },
     "execution_count": 12,
     "metadata": {},
     "output_type": "execute_result"
    }
   ],
   "source": [
    "np.linspace(1.0, 10, num=19, endpoint=True)"
   ]
  },
  {
   "cell_type": "markdown",
   "id": "moved-revision",
   "metadata": {},
   "source": [
    "We can also exclude the endpoint and resamble the array that we constructed with `arange` function."
   ]
  },
  {
   "cell_type": "code",
   "execution_count": 13,
   "id": "demonstrated-shadow",
   "metadata": {},
   "outputs": [
    {
     "data": {
      "text/plain": [
       "array([1. , 1.5, 2. , 2.5, 3. , 3.5, 4. , 4.5, 5. , 5.5, 6. , 6.5, 7. ,\n",
       "       7.5, 8. , 8.5, 9. , 9.5])"
      ]
     },
     "execution_count": 13,
     "metadata": {},
     "output_type": "execute_result"
    }
   ],
   "source": [
    "np.linspace(1.0, 10, num=18, endpoint=False)"
   ]
  },
  {
   "cell_type": "markdown",
   "id": "middle-glory",
   "metadata": {},
   "source": [
    "In practice, when dealing with non-integer steps (e.g. 0.5), it is always better to use the `linspace` function as compared to the `arange` function. That is, because the `linespace` function is more consistent.\n",
    "\n",
    "For instance, we might want to produce an array that has 21 evenly spaced samples in the interval $[1,19]$. This is easy using `linspace`, but it requires a \"hack\" using `arange`."
   ]
  },
  {
   "cell_type": "code",
   "execution_count": 14,
   "id": "facial-beauty",
   "metadata": {},
   "outputs": [
    {
     "data": {
      "image/png": "[encoded data removed]",
      "text/plain": [
       "<Figure size 432x288 with 1 Axes>"
      ]
     },
     "metadata": {
      "filenames": {
       "image/png": "/Volumes/GoogleDrive-112349428810515690974/My Drive/PhD/Teaching/Stat89A_Spring2022/linalg-for-datasci/_build/jupyter_execute/00_Background/numpy_27_0.png"
      },
      "needs_background": "light"
     },
     "output_type": "display_data"
    }
   ],
   "source": [
    "import matplotlib.pyplot as plt\n",
    "%matplotlib inline\n",
    "\n",
    "N = 21\n",
    "y = np.zeros(N)\n",
    "x0 = np.arange(0, 19, 19/N)\n",
    "x1 = np.arange(0, 19.01, 19/(N-1))\n",
    "x2 = np.linspace(0, 19, N, endpoint=True)\n",
    "\n",
    "plt.plot(x0, y-0.2, 'o', c='green', label='arange done wrong')\n",
    "plt.plot(x1, y, 'o', c='blue', label='arange done right (using a hack)')\n",
    "plt.plot(x2, y+ 0.2, 'o', c='red', label='linespace')\n",
    "plt.ylim([-0.5, 1])\n",
    "plt.legend()\n",
    "plt.show()"
   ]
  },
  {
   "cell_type": "markdown",
   "id": "simplified-presentation",
   "metadata": {},
   "source": [
    "### Matrices with Random Elements\n",
    "\n",
    "NumPy provides us also with functions that create an array of an given shape and populate it with random samples from a specified distribution.\n",
    "\n",
    "For instance, we can construct a $5\\times 5$ matrix with elements drawn from the uniform distribution on $[0,1)$ as follows."
   ]
  },
  {
   "cell_type": "code",
   "execution_count": 15,
   "id": "precious-lloyd",
   "metadata": {},
   "outputs": [
    {
     "name": "stdout",
     "output_type": "stream",
     "text": [
      "[[4.17022005e-01 7.20324493e-01 1.14374817e-04 3.02332573e-01\n",
      "  1.46755891e-01]\n",
      " [9.23385948e-02 1.86260211e-01 3.45560727e-01 3.96767474e-01\n",
      "  5.38816734e-01]\n",
      " [4.19194514e-01 6.85219500e-01 2.04452250e-01 8.78117436e-01\n",
      "  2.73875932e-02]\n",
      " [6.70467510e-01 4.17304802e-01 5.58689828e-01 1.40386939e-01\n",
      "  1.98101489e-01]\n",
      " [8.00744569e-01 9.68261576e-01 3.13424178e-01 6.92322616e-01\n",
      "  8.76389152e-01]]\n",
      "The shape of R is (5, 5)\n"
     ]
    }
   ],
   "source": [
    "np.random.seed(1)\n",
    "R = np.random.uniform(low=0, high=1, size=(5,5))\n",
    "print(R)\n",
    "print('The shape of R is', R.shape)"
   ]
  },
  {
   "cell_type": "markdown",
   "id": "alternate-heater",
   "metadata": {},
   "source": [
    "Alternatively, we can construct a $5\\times 5$ matrix with elements drawn from the standard normal distribution as follows."
   ]
  },
  {
   "cell_type": "code",
   "execution_count": 16,
   "id": "mexican-monitor",
   "metadata": {},
   "outputs": [
    {
     "name": "stdout",
     "output_type": "stream",
     "text": [
      "[[ 1.62434536 -0.61175641 -0.52817175 -1.07296862  0.86540763]\n",
      " [-2.3015387   1.74481176 -0.7612069   0.3190391  -0.24937038]\n",
      " [ 1.46210794 -2.06014071 -0.3224172  -0.38405435  1.13376944]\n",
      " [-1.09989127 -0.17242821 -0.87785842  0.04221375  0.58281521]\n",
      " [-1.10061918  1.14472371  0.90159072  0.50249434  0.90085595]]\n",
      "The shape of R is (5, 5)\n"
     ]
    }
   ],
   "source": [
    "np.random.seed(1)\n",
    "R = np.random.standard_normal(size=(5,5))\n",
    "print(R)\n",
    "print('The shape of R is', R.shape)"
   ]
  },
  {
   "cell_type": "markdown",
   "id": "endangered-northeast",
   "metadata": {},
   "source": [
    "Here is another example, where the elements of the $5\\times 10$ matrix are integers that are uniformly drawn from the range 1 to 200."
   ]
  },
  {
   "cell_type": "code",
   "execution_count": 17,
   "id": "funky-comedy",
   "metadata": {},
   "outputs": [
    {
     "name": "stdout",
     "output_type": "stream",
     "text": [
      "[[ 38 141  73 138 134  80 193 145 130  72]\n",
      " [135  26 179  21 102 147 140 157 158 143]\n",
      " [ 51  69  97  87 142 138   8  64  62  23]\n",
      " [ 58   2 129  61   9 142 116 176 122  31]\n",
      " [ 72 132 199 150  50  58   4 197  25  44]]\n",
      "The shape of R is (5, 10)\n"
     ]
    }
   ],
   "source": [
    "np.random.seed(1)\n",
    "D = np.random.randint(low=1,high=200,size=(5,10))\n",
    "print(D)\n",
    "print('The shape of R is', D.shape)"
   ]
  },
  {
   "cell_type": "markdown",
   "id": "marked-accommodation",
   "metadata": {},
   "source": [
    "Note that we use the function `np.random.seed()` to set a seed value for initializing the random number generator.\n",
    "It is always a good idea to set a seed for debugging your code or reproducing results.\n",
    "\n",
    "\n",
    "## Basic Array Operations\n",
    "\n",
    "```{note}\n",
    "Many of the operations described in the remainder of this section, such as matrix multiplication and inner products, haven't been introduced mathematically yet, and we do not expect you to be familiar with them. However, it is useful to see the numpy syntax for these things, and perhaps refer back to this notebook later in the course when we will work with these operations frequently.\n",
    "```\n",
    "\n",
    "Performing basic operation on `ndarray` objects is easy.\n",
    "In many cases, these operations correspond to linear algebra operations.\n",
    "In other cases, they can be used to do other useful things.\n",
    "\n",
    "\n",
    "### Array addition\n",
    "\n",
    "The sum of $\\mathbf{A}$ and $\\mathbf{A}$, denoted $\\mathbf{A}$ + $\\mathbf{A}$, is computed by adding corresponding elements of A and B:\n",
    "\n",
    "\n",
    "$$\n",
    " \\mathbf{A} + \\mathbf{B} = \\begin{bmatrix}\n",
    "a_{11} & a_{12}  \\\\\n",
    "a_{21} & a_{22} \\\\\n",
    "\\end{bmatrix}\n",
    "+\n",
    "\\begin{bmatrix}\n",
    "b_{11} & b_{12}  \\\\\n",
    "b_{21} & b_{22} \\\\\n",
    "\\end{bmatrix}\n",
    "=\n",
    "\\begin{bmatrix}\n",
    "a_{11}+b_{11} & a_{11}+b_{12}  \\\\\n",
    "a_{21}+b_{21} & a_{11}+b_{22} \\\\\n",
    "\\end{bmatrix}\n",
    "$$\n",
    "\n",
    "\n",
    "The sum of two matrices A and B will be a matrix which has the same number of rows and columns as A and B. Note, that the two arrays must have an equal number of rows and columns. Let A and B be:"
   ]
  },
  {
   "cell_type": "code",
   "execution_count": 18,
   "id": "pregnant-gibson",
   "metadata": {},
   "outputs": [],
   "source": [
    "A = np.array(([1,2], [3,4]))\n",
    "B = np.ones((2,2))"
   ]
  },
  {
   "cell_type": "markdown",
   "id": "trying-cement",
   "metadata": {},
   "source": [
    "Using NumPy objects, the sum of A and B can be computed as follows."
   ]
  },
  {
   "cell_type": "code",
   "execution_count": 19,
   "id": "strong-greece",
   "metadata": {},
   "outputs": [
    {
     "data": {
      "text/plain": [
       "array([[2., 3.],\n",
       "       [4., 5.]])"
      ]
     },
     "execution_count": 19,
     "metadata": {},
     "output_type": "execute_result"
    }
   ],
   "source": [
    "A + B"
   ]
  },
  {
   "cell_type": "markdown",
   "id": "demographic-membership",
   "metadata": {},
   "source": [
    "Note that matrix addition is commutative, i.e., $\\mathbf{A} + \\mathbf{B} = \\mathbf{B} + \\mathbf{A}$."
   ]
  },
  {
   "cell_type": "code",
   "execution_count": 20,
   "id": "noble-employment",
   "metadata": {},
   "outputs": [
    {
     "data": {
      "text/plain": [
       "array([[2., 3.],\n",
       "       [4., 5.]])"
      ]
     },
     "execution_count": 20,
     "metadata": {},
     "output_type": "execute_result"
    }
   ],
   "source": [
    "B + A"
   ]
  },
  {
   "cell_type": "markdown",
   "id": "private-beijing",
   "metadata": {},
   "source": [
    "### Matrix multiplication\n",
    "\n",
    "The matrix product of $\\mathbf{A}$ and $\\mathbf{B}$, denoted $\\mathbf{A}\\mathbf{B}$, can be computed by the dot product of the ith row of $\\mathbf{A}$ and the jth column of $\\mathbf{B}$.\n",
    "\n",
    "\n",
    "$$\n",
    "\\mathbf{A} \\mathbf{B} = \\begin{bmatrix}\n",
    "a_{11} & a_{12}  \\\\\n",
    "a_{21} & a_{22} \\\\\n",
    "\\end{bmatrix}\n",
    "\\begin{bmatrix}\n",
    "b_{11} & b_{12}  \\\\\n",
    "b_{21} & b_{22} \\\\\n",
    "\\end{bmatrix}\n",
    "=\n",
    "\\begin{bmatrix}\n",
    "a_{11}b_{11}+a_{12}b_{21} & a_{11}b_{12}+a_{12}b_{22}  \\\\\n",
    "a_{21}b_{11}+a_{22}b_{21} & a_{21}b_{12}+a_{22}b_{22} \\\\\n",
    "\\end{bmatrix}\n",
    "$$\n",
    "\n",
    "\n",
    "Thus the product AB is defined if and only if the number of columns in A equals the number of rows in B.\n",
    "\n",
    "\n",
    "Given two NumPy `ndarray` objects, the matrix product can be computed by using the `np.dot` function."
   ]
  },
  {
   "cell_type": "code",
   "execution_count": 21,
   "id": "capital-quantity",
   "metadata": {},
   "outputs": [
    {
     "data": {
      "text/plain": [
       "array([[3., 3.],\n",
       "       [7., 7.]])"
      ]
     },
     "execution_count": 21,
     "metadata": {},
     "output_type": "execute_result"
    }
   ],
   "source": [
    "np.dot(A, B)"
   ]
  },
  {
   "cell_type": "markdown",
   "id": "first-annotation",
   "metadata": {},
   "source": [
    "We can also exploit the fact that A is an object and compute the matrix product as follows."
   ]
  },
  {
   "cell_type": "code",
   "execution_count": 22,
   "id": "confident-sending",
   "metadata": {},
   "outputs": [
    {
     "data": {
      "text/plain": [
       "array([[3., 3.],\n",
       "       [7., 7.]])"
      ]
     },
     "execution_count": 22,
     "metadata": {},
     "output_type": "execute_result"
    }
   ],
   "source": [
    "A.dot(B)"
   ]
  },
  {
   "cell_type": "markdown",
   "id": "growing-cheat",
   "metadata": {},
   "source": [
    "Note that the matrix product is not commutative, i.e., $\\mathbf{A} \\mathbf{B} \\neq \\mathbf{B} \\mathbf{A}$."
   ]
  },
  {
   "cell_type": "code",
   "execution_count": 23,
   "id": "combined-anniversary",
   "metadata": {},
   "outputs": [
    {
     "data": {
      "text/plain": [
       "array([[4., 6.],\n",
       "       [4., 6.]])"
      ]
     },
     "execution_count": 23,
     "metadata": {},
     "output_type": "execute_result"
    }
   ],
   "source": [
    "B.dot(A)"
   ]
  },
  {
   "cell_type": "markdown",
   "id": "wicked-intelligence",
   "metadata": {},
   "source": [
    "Further, note that the matrix product of $\\mathbf{A} \\mathbf{I} = \\mathbf{A}$."
   ]
  },
  {
   "cell_type": "code",
   "execution_count": 24,
   "id": "advanced-chapter",
   "metadata": {},
   "outputs": [
    {
     "data": {
      "text/plain": [
       "array([[1., 2.],\n",
       "       [3., 4.]])"
      ]
     },
     "execution_count": 24,
     "metadata": {},
     "output_type": "execute_result"
    }
   ],
   "source": [
    "I = np.eye(2)\n",
    "A.dot(I)"
   ]
  },
  {
   "cell_type": "markdown",
   "id": "organic-ground",
   "metadata": {},
   "source": [
    "### Computing statistics on arrays of numbers\n",
    "\n",
    "NumPy allows us to do operations on arrays quickly.\n",
    "For example, we can try computing some statistics on an array of random numbers."
   ]
  },
  {
   "cell_type": "code",
   "execution_count": 25,
   "id": "continuing-insulation",
   "metadata": {},
   "outputs": [
    {
     "name": "stdout",
     "output_type": "stream",
     "text": [
      "[[0.68650093 0.83462567 0.01828828]\n",
      " [0.75014431 0.98886109 0.74816565]]\n",
      "\n",
      "Max: 0.9888610889064947\n",
      "Max of each row: [0.75014431 0.98886109 0.74816565]\n",
      "Max of each col: [0.83462567 0.98886109]\n",
      "Min: 0.018288277344191806\n",
      "Mean: 0.671097655859075\n",
      "Median: 0.7491549846624035\n",
      "Standard deviation: 0.3072187623339347\n",
      "Sum: 4.02658593515445\n"
     ]
    }
   ],
   "source": [
    "dataset_rn = np.random.random((2, 3))\n",
    "print(dataset_rn)\n",
    "print()\n",
    "print(\"Max:\", np.max(dataset_rn))\n",
    "print(\"Max of each row:\", np.max(dataset_rn, axis=0))\n",
    "print(\"Max of each col:\", np.max(dataset_rn, axis=1))\n",
    "print(\"Min:\", np.min(dataset_rn))\n",
    "print(\"Mean:\", np.mean(dataset_rn))\n",
    "print(\"Median:\", np.median(dataset_rn))\n",
    "print(\"Standard deviation:\", np.std(dataset_rn))\n",
    "print(\"Sum:\", np.sum(dataset_rn))"
   ]
  },
  {
   "cell_type": "markdown",
   "id": "separate-sellers",
   "metadata": {},
   "source": [
    "### Slicing and dicing\n",
    "\n",
    "In many situations we need to extract elements or subsets from an array.\n",
    "To do so, we can use slicing and dicing operations."
   ]
  },
  {
   "cell_type": "code",
   "execution_count": 26,
   "id": "phantom-mineral",
   "metadata": {},
   "outputs": [
    {
     "name": "stdout",
     "output_type": "stream",
     "text": [
      "[[1 2]\n",
      " [3 4]]\n"
     ]
    }
   ],
   "source": [
    "print(A)"
   ]
  },
  {
   "cell_type": "markdown",
   "id": "outstanding-wayne",
   "metadata": {},
   "source": [
    "Get the first element in the first row of A."
   ]
  },
  {
   "cell_type": "code",
   "execution_count": 27,
   "id": "discrete-settlement",
   "metadata": {},
   "outputs": [
    {
     "data": {
      "text/plain": [
       "1"
      ]
     },
     "execution_count": 27,
     "metadata": {},
     "output_type": "execute_result"
    }
   ],
   "source": [
    "A[0,0]"
   ]
  },
  {
   "cell_type": "markdown",
   "id": "checked-tablet",
   "metadata": {},
   "source": [
    "Get the second element in the first row of A."
   ]
  },
  {
   "cell_type": "code",
   "execution_count": 28,
   "id": "isolated-potter",
   "metadata": {},
   "outputs": [
    {
     "data": {
      "text/plain": [
       "2"
      ]
     },
     "execution_count": 28,
     "metadata": {},
     "output_type": "execute_result"
    }
   ],
   "source": [
    "A[0,1]"
   ]
  },
  {
   "cell_type": "markdown",
   "id": "secondary-queue",
   "metadata": {},
   "source": [
    "Get the second row."
   ]
  },
  {
   "cell_type": "code",
   "execution_count": 29,
   "id": "refined-organic",
   "metadata": {},
   "outputs": [
    {
     "data": {
      "text/plain": [
       "array([3, 4])"
      ]
     },
     "execution_count": 29,
     "metadata": {},
     "output_type": "execute_result"
    }
   ],
   "source": [
    "A[1]"
   ]
  },
  {
   "cell_type": "markdown",
   "id": "stuck-wilson",
   "metadata": {},
   "source": [
    "Get the first column of A."
   ]
  },
  {
   "cell_type": "code",
   "execution_count": 30,
   "id": "intermediate-wellington",
   "metadata": {},
   "outputs": [
    {
     "data": {
      "text/plain": [
       "array([1, 3])"
      ]
     },
     "execution_count": 30,
     "metadata": {},
     "output_type": "execute_result"
    }
   ],
   "source": [
    "A[:,0]"
   ]
  },
  {
   "cell_type": "markdown",
   "id": "clean-electric",
   "metadata": {},
   "source": [
    "Recall the random matrix D."
   ]
  },
  {
   "cell_type": "code",
   "execution_count": 31,
   "id": "falling-microphone",
   "metadata": {},
   "outputs": [
    {
     "name": "stdout",
     "output_type": "stream",
     "text": [
      "[[ 38 141  73 138 134  80 193 145 130  72]\n",
      " [135  26 179  21 102 147 140 157 158 143]\n",
      " [ 51  69  97  87 142 138   8  64  62  23]\n",
      " [ 58   2 129  61   9 142 116 176 122  31]\n",
      " [ 72 132 199 150  50  58   4 197  25  44]]\n"
     ]
    }
   ],
   "source": [
    "print(D)"
   ]
  },
  {
   "cell_type": "markdown",
   "id": "similar-stadium",
   "metadata": {},
   "source": [
    "Get the first 3 rows and columns of D"
   ]
  },
  {
   "cell_type": "code",
   "execution_count": 32,
   "id": "finnish-engineer",
   "metadata": {},
   "outputs": [
    {
     "data": {
      "text/plain": [
       "array([[ 38, 141,  73],\n",
       "       [135,  26, 179],\n",
       "       [ 51,  69,  97]])"
      ]
     },
     "execution_count": 32,
     "metadata": {},
     "output_type": "execute_result"
    }
   ],
   "source": [
    "D[0:3,0:3]"
   ]
  },
  {
   "cell_type": "markdown",
   "id": "coated-accessory",
   "metadata": {},
   "source": [
    "### Array broadcasting\n",
    "\n",
    "\n",
    "Again get the first 3 rows and columns of D and assign it to a new variable."
   ]
  },
  {
   "cell_type": "code",
   "execution_count": 33,
   "id": "fatty-substance",
   "metadata": {},
   "outputs": [
    {
     "name": "stdout",
     "output_type": "stream",
     "text": [
      "[[ 38 141  73]\n",
      " [135  26 179]\n",
      " [ 51  69  97]]\n"
     ]
    }
   ],
   "source": [
    "subset_of_D = D[0:3,0:3]\n",
    "print(subset_of_D)"
   ]
  },
  {
   "cell_type": "markdown",
   "id": "legitimate-sunrise",
   "metadata": {},
   "source": [
    "Change the first element of subset_of_D."
   ]
  },
  {
   "cell_type": "code",
   "execution_count": 34,
   "id": "ordinary-washer",
   "metadata": {},
   "outputs": [
    {
     "name": "stdout",
     "output_type": "stream",
     "text": [
      "[[ 99 141  73]\n",
      " [135  26 179]\n",
      " [ 51  69  97]]\n"
     ]
    }
   ],
   "source": [
    "subset_of_D[0,0] = 99\n",
    "print(subset_of_D)"
   ]
  },
  {
   "cell_type": "markdown",
   "id": "middle-stocks",
   "metadata": {},
   "source": [
    "Note that NumPy Arrays are always shallow copied. Hence any modification made in derivative affects the source, e.g., changing an element of subset_of_D also affects D."
   ]
  },
  {
   "cell_type": "code",
   "execution_count": 35,
   "id": "essential-console",
   "metadata": {},
   "outputs": [
    {
     "name": "stdout",
     "output_type": "stream",
     "text": [
      "[[ 99 141  73 138 134  80 193 145 130  72]\n",
      " [135  26 179  21 102 147 140 157 158 143]\n",
      " [ 51  69  97  87 142 138   8  64  62  23]\n",
      " [ 58   2 129  61   9 142 116 176 122  31]\n",
      " [ 72 132 199 150  50  58   4 197  25  44]]\n"
     ]
    }
   ],
   "source": [
    "print(D)"
   ]
  },
  {
   "cell_type": "markdown",
   "id": "terminal-sperm",
   "metadata": {},
   "source": [
    "### Array searching\n",
    "\n",
    "\n",
    "Search for all elements in subset_of_D that are greater than 100."
   ]
  },
  {
   "cell_type": "code",
   "execution_count": 36,
   "id": "nervous-relation",
   "metadata": {},
   "outputs": [
    {
     "data": {
      "text/plain": [
       "array([[False,  True, False],\n",
       "       [ True, False,  True],\n",
       "       [False, False, False]])"
      ]
     },
     "execution_count": 36,
     "metadata": {},
     "output_type": "execute_result"
    }
   ],
   "source": [
    "subset_of_D > 100"
   ]
  },
  {
   "cell_type": "markdown",
   "id": "cathedral-synthetic",
   "metadata": {},
   "source": [
    "This condition condition returns a Boolean matrix of same dimension as the array that is being queried. We can also use this Truth vector as an index to search, e.g., get all numbers greater than 100."
   ]
  },
  {
   "cell_type": "code",
   "execution_count": 37,
   "id": "casual-conditioning",
   "metadata": {},
   "outputs": [
    {
     "data": {
      "text/plain": [
       "array([141, 135, 179])"
      ]
     },
     "execution_count": 37,
     "metadata": {},
     "output_type": "execute_result"
    }
   ],
   "source": [
    "subset_of_D[subset_of_D>100]"
   ]
  },
  {
   "cell_type": "markdown",
   "id": "pretty-engineering",
   "metadata": {},
   "source": [
    "We can also find elements within a range for instance:"
   ]
  },
  {
   "cell_type": "code",
   "execution_count": 38,
   "id": "improved-compiler",
   "metadata": {},
   "outputs": [
    {
     "data": {
      "text/plain": [
       "array([141, 135])"
      ]
     },
     "execution_count": 38,
     "metadata": {},
     "output_type": "execute_result"
    }
   ],
   "source": [
    "subset_of_D[(subset_of_D>100) & (subset_of_D<150)]"
   ]
  },
  {
   "cell_type": "markdown",
   "id": "shared-ecuador",
   "metadata": {},
   "source": [
    "### Reshaping NumPy arrays\n",
    "\n",
    "In some situations it is required to reshape an array of numbers. You can do so using the `reshape` function."
   ]
  },
  {
   "cell_type": "code",
   "execution_count": 39,
   "id": "going-imagination",
   "metadata": {},
   "outputs": [
    {
     "name": "stdout",
     "output_type": "stream",
     "text": [
      "[[ 99 141  73 138]\n",
      " [135  26 179  21]\n",
      " [ 51  69  97  87]]\n"
     ]
    }
   ],
   "source": [
    "subset_of_D = D[0:3,0:4]\n",
    "print(subset_of_D)"
   ]
  },
  {
   "cell_type": "markdown",
   "id": "ahead-manufacturer",
   "metadata": {},
   "source": [
    "Here are a few examples."
   ]
  },
  {
   "cell_type": "code",
   "execution_count": 40,
   "id": "third-debut",
   "metadata": {},
   "outputs": [
    {
     "data": {
      "text/plain": [
       "array([[ 99, 141,  73],\n",
       "       [138, 135,  26],\n",
       "       [179,  21,  51],\n",
       "       [ 69,  97,  87]])"
      ]
     },
     "execution_count": 40,
     "metadata": {},
     "output_type": "execute_result"
    }
   ],
   "source": [
    "subset_of_D.reshape(4, 3)"
   ]
  },
  {
   "cell_type": "code",
   "execution_count": 41,
   "id": "temporal-tomato",
   "metadata": {},
   "outputs": [
    {
     "data": {
      "text/plain": [
       "array([[ 99, 141,  73, 138, 135,  26, 179,  21,  51,  69,  97,  87]])"
      ]
     },
     "execution_count": 41,
     "metadata": {},
     "output_type": "execute_result"
    }
   ],
   "source": [
    "subset_of_D.reshape(1, 12)"
   ]
  },
  {
   "cell_type": "code",
   "execution_count": 42,
   "id": "dependent-belgium",
   "metadata": {},
   "outputs": [
    {
     "data": {
      "text/plain": [
       "array([[ 99],\n",
       "       [141],\n",
       "       [ 73],\n",
       "       [138],\n",
       "       [135],\n",
       "       [ 26],\n",
       "       [179],\n",
       "       [ 21],\n",
       "       [ 51],\n",
       "       [ 69],\n",
       "       [ 97],\n",
       "       [ 87]])"
      ]
     },
     "execution_count": 42,
     "metadata": {},
     "output_type": "execute_result"
    }
   ],
   "source": [
    "subset_of_D.reshape(12, 1)"
   ]
  },
  {
   "cell_type": "code",
   "execution_count": 43,
   "id": "liable-mechanics",
   "metadata": {},
   "outputs": [
    {
     "data": {
      "text/plain": [
       "array([ 99, 141,  73, 138, 135,  26, 179,  21,  51,  69,  97,  87])"
      ]
     },
     "execution_count": 43,
     "metadata": {},
     "output_type": "execute_result"
    }
   ],
   "source": [
    "subset_of_D.reshape(12)"
   ]
  },
  {
   "cell_type": "markdown",
   "id": "broad-casino",
   "metadata": {},
   "source": [
    "Note that `subset_of_D.reshape(12)` is not the same as `subset_of_D.reshape(1,12)`."
   ]
  },
  {
   "cell_type": "code",
   "execution_count": 44,
   "id": "matched-harrison",
   "metadata": {},
   "outputs": [
    {
     "data": {
      "text/plain": [
       "False"
      ]
     },
     "execution_count": 44,
     "metadata": {},
     "output_type": "execute_result"
    }
   ],
   "source": [
    "subset_of_D.reshape(12).shape == subset_of_D.reshape(1,12).shape"
   ]
  },
  {
   "cell_type": "markdown",
   "id": "joint-railway",
   "metadata": {},
   "source": [
    "The operation `subset_of_D.reshape(12)` is collapsing the array into one dimension, i.e., it turns the array into a row vector.  The operation `subset_of_D.reshape(1,12)` is turning the array into an explicit row vector, but I suggest to avoid doing this (see below).\n",
    "\n",
    "\n",
    "## Vectors\n",
    "\n",
    "Vectors are central to linear algebra, and they are also central to NumPy.\n",
    "In NumPy, there are a few subtleties when working with arrays to do vector operations.\n",
    "If you are careful about the subtleties, then you will avoid a lot of problems.\n",
    "\n",
    "A row vector is an $1\\times n$ matrix.\n",
    "Here is an example:"
   ]
  },
  {
   "cell_type": "code",
   "execution_count": 45,
   "id": "chicken-california",
   "metadata": {},
   "outputs": [
    {
     "data": {
      "text/plain": [
       "array([1, 2, 3])"
      ]
     },
     "execution_count": 45,
     "metadata": {},
     "output_type": "execute_result"
    }
   ],
   "source": [
    "x = np.array([1,2,3])\n",
    "x"
   ]
  },
  {
   "cell_type": "markdown",
   "id": "collected-morgan",
   "metadata": {},
   "source": [
    "The shape of a row vector looks as follows."
   ]
  },
  {
   "cell_type": "code",
   "execution_count": 46,
   "id": "least-relation",
   "metadata": {},
   "outputs": [
    {
     "data": {
      "text/plain": [
       "(3,)"
      ]
     },
     "execution_count": 46,
     "metadata": {},
     "output_type": "execute_result"
    }
   ],
   "source": [
    "x.shape"
   ]
  },
  {
   "cell_type": "markdown",
   "id": "falling-australian",
   "metadata": {},
   "source": [
    "In NumPy, a row vector is a one dimensional array.\n",
    "You can also push a row vector into an explicit row vector."
   ]
  },
  {
   "cell_type": "code",
   "execution_count": 47,
   "id": "vulnerable-intranet",
   "metadata": {},
   "outputs": [
    {
     "data": {
      "text/plain": [
       "array([[1, 2, 3]])"
      ]
     },
     "execution_count": 47,
     "metadata": {},
     "output_type": "execute_result"
    }
   ],
   "source": [
    "x.reshape(1,3)"
   ]
  },
  {
   "cell_type": "markdown",
   "id": "emerging-estonia",
   "metadata": {},
   "source": [
    "Do you see that this operation introduces another pair of brackets, i.e., [[]].\n",
    "This, can lead to all kind of troubles and hence I suggest that you avoid using explicit row vectors.\n",
    "\n",
    "\n",
    "A column vector is an $m\\times 1$ matrix. Here is an example:"
   ]
  },
  {
   "cell_type": "code",
   "execution_count": 48,
   "id": "informational-jackson",
   "metadata": {},
   "outputs": [
    {
     "name": "stdout",
     "output_type": "stream",
     "text": [
      "[[6]\n",
      " [7]\n",
      " [8]]\n"
     ]
    },
    {
     "data": {
      "text/plain": [
       "(3, 1)"
      ]
     },
     "execution_count": 48,
     "metadata": {},
     "output_type": "execute_result"
    }
   ],
   "source": [
    "v = np.array(([6],[7],[8]))\n",
    "print(v)\n",
    "v.shape"
   ]
  },
  {
   "cell_type": "markdown",
   "id": "imposed-above",
   "metadata": {},
   "source": [
    "You can turn a column vector into a row vector by flattening the vector."
   ]
  },
  {
   "cell_type": "code",
   "execution_count": 49,
   "id": "measured-wednesday",
   "metadata": {},
   "outputs": [
    {
     "data": {
      "text/plain": [
       "array([6, 7, 8])"
      ]
     },
     "execution_count": 49,
     "metadata": {},
     "output_type": "execute_result"
    }
   ],
   "source": [
    "v.reshape(v.shape[0])"
   ]
  },
  {
   "cell_type": "markdown",
   "id": "racial-lover",
   "metadata": {},
   "source": [
    "### Inner product\n",
    "\n",
    "Recall, given $v,w \\in \\mathbb{R}^n$, the inner product is defined as:\n",
    "\n",
    "\n",
    "$$\n",
    "\\langle v,w\\rangle = v_{1}w_{1}+v_{2}w_{2}+\\dots+v_{n}w_{n}  .\n",
    "$$\n",
    "\n",
    "\n",
    "The inner product is also equal to the matrix product of the two vectors:\n",
    "\n",
    "$$\n",
    "v^T w = v_{1}w_{1}+v_{2}w_{2}+\\dots+v_{n}w_{n}\n",
    "$$\n",
    "\n",
    "\n",
    "\n",
    "You can use a for loop to compute the inner product of v and w."
   ]
  },
  {
   "cell_type": "code",
   "execution_count": 50,
   "id": "reliable-stephen",
   "metadata": {},
   "outputs": [],
   "source": [
    "def dotproduct(x1,x2):\n",
    "    xv = 0\n",
    "    for i in range(x1.shape[0]):\n",
    "        xv += x1[i]*x2[i]\n",
    "    return xv"
   ]
  },
  {
   "cell_type": "code",
   "execution_count": 51,
   "id": "distinguished-freight",
   "metadata": {},
   "outputs": [
    {
     "name": "stdout",
     "output_type": "stream",
     "text": [
      "CPU times: user 36 µs, sys: 0 ns, total: 36 µs\n",
      "Wall time: 39.8 µs\n"
     ]
    },
    {
     "data": {
      "text/plain": [
       "array([44])"
      ]
     },
     "execution_count": 51,
     "metadata": {},
     "output_type": "execute_result"
    }
   ],
   "source": [
    "%time dotproduct(x,v)"
   ]
  },
  {
   "cell_type": "markdown",
   "id": "noble-singles",
   "metadata": {},
   "source": [
    "However, as you can see, using a loop is slow.\n",
    "Instead, we can use numpy's build in function to compute the inner product."
   ]
  },
  {
   "cell_type": "code",
   "execution_count": 52,
   "id": "growing-american",
   "metadata": {},
   "outputs": [
    {
     "name": "stdout",
     "output_type": "stream",
     "text": [
      "CPU times: user 12 µs, sys: 4 µs, total: 16 µs\n",
      "Wall time: 16.9 µs\n"
     ]
    },
    {
     "data": {
      "text/plain": [
       "array([[44]])"
      ]
     },
     "execution_count": 52,
     "metadata": {},
     "output_type": "execute_result"
    }
   ],
   "source": [
    "%time x.reshape(1,3).dot(v)"
   ]
  },
  {
   "cell_type": "markdown",
   "id": "private-lawrence",
   "metadata": {},
   "source": [
    "## 5. Applying operations to vectors\n",
    "\n",
    "We can use built-in NumPy functions like `np.sin` and `np.exp` on one-modal arrays to perform operations on each element of the array.\n",
    "\n",
    "For example:"
   ]
  },
  {
   "cell_type": "code",
   "execution_count": 53,
   "id": "tired-genesis",
   "metadata": {},
   "outputs": [
    {
     "data": {
      "text/plain": [
       "array([ 1,  0, -1])"
      ]
     },
     "execution_count": 53,
     "metadata": {},
     "output_type": "execute_result"
    }
   ],
   "source": [
    "vector = np.array([1,0,-1])\n",
    "vector"
   ]
  },
  {
   "cell_type": "code",
   "execution_count": 54,
   "id": "breeding-zimbabwe",
   "metadata": {},
   "outputs": [
    {
     "data": {
      "text/plain": [
       "array([2.71828183, 1.        , 0.36787944])"
      ]
     },
     "execution_count": 54,
     "metadata": {},
     "output_type": "execute_result"
    }
   ],
   "source": [
    "new_vector = np.exp(vector)\n",
    "new_vector"
   ]
  },
  {
   "cell_type": "markdown",
   "id": "closed-wholesale",
   "metadata": {},
   "source": [
    "The entries in the `new_vector` above are $e$ ($e^1$), $1$ ($e^0$), and $\\frac{1}{e}$ ($e^{-1}$).\n",
    "\n",
    "Similarly, applying `np.sin` (or `np.cos`) to a vector returns a new vector, whose elements are the value of the function `np.sin` evaluated on each of the elements of the original vector (the function is \"applied element wise\", to use jargon)."
   ]
  },
  {
   "cell_type": "code",
   "execution_count": 55,
   "id": "early-efficiency",
   "metadata": {},
   "outputs": [
    {
     "data": {
      "text/plain": [
       "array([-1.57079633,  0.        ,  1.57079633])"
      ]
     },
     "execution_count": 55,
     "metadata": {},
     "output_type": "execute_result"
    }
   ],
   "source": [
    "from math import pi\n",
    "vector = np.array([-pi/2, 0, pi/2])\n",
    "vector"
   ]
  },
  {
   "cell_type": "code",
   "execution_count": 56,
   "id": "wicked-retention",
   "metadata": {},
   "outputs": [
    {
     "data": {
      "text/plain": [
       "array([-1.,  0.,  1.])"
      ]
     },
     "execution_count": 56,
     "metadata": {},
     "output_type": "execute_result"
    }
   ],
   "source": [
    "new_vector = np.sin(vector)\n",
    "new_vector"
   ]
  },
  {
   "cell_type": "markdown",
   "id": "constant-ambassador",
   "metadata": {},
   "source": [
    "The same thing happens with two-modal arrays. For example, with `np.exp`:"
   ]
  },
  {
   "cell_type": "code",
   "execution_count": 57,
   "id": "dimensional-horse",
   "metadata": {},
   "outputs": [
    {
     "data": {
      "text/plain": [
       "array([[ 1,  0, -1],\n",
       "       [-1,  0,  1]])"
      ]
     },
     "execution_count": 57,
     "metadata": {},
     "output_type": "execute_result"
    }
   ],
   "source": [
    "matrix = np.array([[1, 0, -1], [-1, 0, 1]])\n",
    "matrix"
   ]
  },
  {
   "cell_type": "code",
   "execution_count": 58,
   "id": "silver-novel",
   "metadata": {},
   "outputs": [
    {
     "data": {
      "text/plain": [
       "array([[2.71828183, 1.        , 0.36787944],\n",
       "       [0.36787944, 1.        , 2.71828183]])"
      ]
     },
     "execution_count": 58,
     "metadata": {},
     "output_type": "execute_result"
    }
   ],
   "source": [
    "new_matrix = np.exp(matrix)\n",
    "new_matrix"
   ]
  },
  {
   "cell_type": "markdown",
   "id": "breeding-right",
   "metadata": {},
   "source": [
    "Similarly, with `np.cos` (or any other built-in NumPy function):"
   ]
  },
  {
   "cell_type": "code",
   "execution_count": 59,
   "id": "later-ebony",
   "metadata": {},
   "outputs": [
    {
     "data": {
      "text/plain": [
       "array([[-1.57079633,  0.        ,  1.57079633],\n",
       "       [ 0.        ,  3.14159265,  6.28318531]])"
      ]
     },
     "execution_count": 59,
     "metadata": {},
     "output_type": "execute_result"
    }
   ],
   "source": [
    "matrix = np.array([[-pi/2, 0, pi/2], [0, pi, 2*pi]])\n",
    "matrix"
   ]
  },
  {
   "cell_type": "code",
   "execution_count": 60,
   "id": "instant-malaysia",
   "metadata": {},
   "outputs": [
    {
     "data": {
      "text/plain": [
       "array([[ 6.123234e-17,  1.000000e+00,  6.123234e-17],\n",
       "       [ 1.000000e+00, -1.000000e+00,  1.000000e+00]])"
      ]
     },
     "execution_count": 60,
     "metadata": {},
     "output_type": "execute_result"
    }
   ],
   "source": [
    "new_matrix = np.cos(matrix)\n",
    "new_matrix"
   ]
  },
  {
   "cell_type": "code",
   "execution_count": 61,
   "id": "duplicate-population",
   "metadata": {},
   "outputs": [
    {
     "data": {
      "text/plain": [
       "array([[ 0.,  1.,  0.],\n",
       "       [ 1., -1.,  1.]])"
      ]
     },
     "execution_count": 61,
     "metadata": {},
     "output_type": "execute_result"
    }
   ],
   "source": [
    "rounded_new_matrix = np.round(new_matrix)\n",
    "rounded_new_matrix"
   ]
  },
  {
   "cell_type": "markdown",
   "id": "amateur-nicholas",
   "metadata": {},
   "source": [
    "## Making Stacks (Merge 2D `ndarrays` horizontally or vertically)\n",
    "\n",
    "Sometimes, we use a matrix as a collection of vectors. For example, each row or column is a feature vector corresponding to a different measurement. Other times, we simply want to concatenate two matrices for computational convenience. In both cases, we can use `np.hstack` and `np.vstack` to merge two dimensional `ndarray`'s horizontally and vertically, respectively.\n",
    "\n",
    "\n",
    "### Basics of `np.hstack` and `np.vstack`\n",
    "\n",
    "\n",
    "Use `np.hstack` to concatenate two matrices (two dimensional NumPy arrays) horizontally.\n",
    "\n",
    "Make sure you pass in a tuple containing `(A, B)`, rather than passing in `A` and `B` as two arguments."
   ]
  },
  {
   "cell_type": "code",
   "execution_count": 62,
   "id": "exterior-ethics",
   "metadata": {},
   "outputs": [
    {
     "name": "stdout",
     "output_type": "stream",
     "text": [
      "A:\n",
      "[[1 2]\n",
      " [5 6]]\n",
      "\n",
      "B:\n",
      "[[3 4]\n",
      " [7 8]]\n",
      "\n",
      "C:\n",
      "[[1 2 3 4]\n",
      " [5 6 7 8]]\n"
     ]
    }
   ],
   "source": [
    "A = np.array([[1, 2], [5, 6]])\n",
    "\n",
    "B = np.array([[3, 4], [7, 8]])\n",
    "\n",
    "C = np.hstack((A, B))\n",
    "\n",
    "print(\"A:\\n{}\\n\\nB:\\n{}\\n\\nC:\\n{}\".format(A, B, C))"
   ]
  },
  {
   "cell_type": "markdown",
   "id": "lightweight-hungarian",
   "metadata": {},
   "source": [
    "Similarly, use `np.vstack` to concatenate two matrices (two dimensional NumPy arrays) vertically"
   ]
  },
  {
   "cell_type": "code",
   "execution_count": 63,
   "id": "parallel-rugby",
   "metadata": {},
   "outputs": [
    {
     "name": "stdout",
     "output_type": "stream",
     "text": [
      "D:\n",
      "[[1 2]\n",
      " [5 6]\n",
      " [3 4]\n",
      " [7 8]]"
     ]
    },
    {
     "name": "stdout",
     "output_type": "stream",
     "text": [
      "\n"
     ]
    }
   ],
   "source": [
    "D = np.vstack((A, B))\n",
    "\n",
    "print(\"D:\\n{}\".format(D))"
   ]
  }
 ],
 "metadata": {
  "jupytext": {
   "text_representation": {
    "extension": ".md",
    "format_name": "myst",
    "format_version": 0.12,
    "jupytext_version": "1.9.1"
   }
  },
  "kernelspec": {
   "display_name": "Python 3",
   "language": "python",
   "name": "python3"
  },
  "language_info": {
   "codemirror_mode": {
    "name": "ipython",
    "version": 3
   },
   "file_extension": ".py",
   "mimetype": "text/x-python",
   "name": "python",
   "nbconvert_exporter": "python",
   "pygments_lexer": "ipython3",
   "version": "3.7.7"
  },
  "source_map": [
   12,
   32,
   34,
   42,
   44,
   49,
   51,
   85,
   88,
   92,
   94,
   98,
   100,
   110,
   113,
   117,
   120,
   125,
   128,
   135,
   137,
   141,
   143,
   147,
   149,
   153,
   155,
   161,
   177,
   185,
   190,
   194,
   199,
   203,
   208,
   250,
   253,
   257,
   259,
   263,
   265,
   294,
   296,
   300,
   302,
   306,
   308,
   312,
   315,
   322,
   334,
   341,
   343,
   347,
   349,
   353,
   355,
   359,
   361,
   365,
   367,
   371,
   373,
   377,
   379,
   386,
   389,
   393,
   396,
   400,
   402,
   409,
   411,
   415,
   417,
   421,
   423,
   429,
   432,
   436,
   440,
   444,
   448,
   450,
   454,
   456,
   470,
   473,
   477,
   479,
   484,
   486,
   494,
   498,
   502,
   504,
   526,
   534,
   536,
   541,
   543,
   551,
   556,
   559,
   565,
   571,
   574,
   578,
   583,
   586,
   590,
   595,
   600,
   603,
   617,
   625,
   629
  ]
 },
 "nbformat": 4,
 "nbformat_minor": 5
}