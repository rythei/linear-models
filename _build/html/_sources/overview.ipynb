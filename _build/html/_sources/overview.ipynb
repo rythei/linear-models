{
 "cells": [
  {
   "cell_type": "markdown",
   "id": "a95a6664",
   "metadata": {},
   "source": [
    "# Welcome to Stat 151\n",
    "\n",
    "This is an online book for Stat 151 taught by Michael W. Mahoney at the University of California Berkeley in Fall 2022. \n",
    "\n",
    "| Week | Topic                                        | Book Sections     |\n",
    "| ---- | -------------------------------------------- | ----------------- |\n",
    "| 1    | Exploratoring data, simple linear regression | Fox, Chapters 1-5 |\n",
    "\n",
    "\n",
    "\n",
    "## Table of Contents\n",
    "\n",
    "```{tableofcontents}\n",
    "```"
   ]
  }
 ],
 "metadata": {
  "jupytext": {
   "formats": "md:myst",
   "text_representation": {
    "extension": ".md",
    "format_name": "myst"
   }
  },
  "kernelspec": {
   "display_name": "Python 3",
   "language": "python",
   "name": "python3"
  },
  "language_info": {
   "codemirror_mode": {
    "name": "ipython",
    "version": 3
   },
   "file_extension": ".py",
   "mimetype": "text/x-python",
   "name": "python",
   "nbconvert_exporter": "python",
   "pygments_lexer": "ipython3",
   "version": "3.9.5"
  },
  "source_map": [
   11
  ]
 },
 "nbformat": 4,
 "nbformat_minor": 5
}