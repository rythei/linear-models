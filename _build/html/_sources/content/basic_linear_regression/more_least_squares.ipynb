{
 "cells": [
  {
   "cell_type": "markdown",
   "id": "aba689dd",
   "metadata": {},
   "source": [
    "# More on least squares\n",
    "\n",
    "## The linear algebra of the least squares solution\n",
    "\n",
    "## What happens when $\\boldsymbol{X^\\top X}$ is not invertible?\n",
    "\n",
    "## Methods to solve the normal equations"
   ]
  }
 ],
 "metadata": {
  "jupytext": {
   "text_representation": {
    "extension": ".md",
    "format_name": "myst",
    "format_version": 0.12,
    "jupytext_version": "1.9.1"
   }
  },
  "kernelspec": {
   "display_name": "Python 3",
   "language": "python",
   "name": "python3"
  },
  "language_info": {
   "codemirror_mode": {
    "name": "ipython",
    "version": 3
   },
   "file_extension": ".py",
   "mimetype": "text/x-python",
   "name": "python",
   "nbconvert_exporter": "python",
   "pygments_lexer": "ipython3",
   "version": "3.9.5"
  },
  "source_map": [
   12
  ]
 },
 "nbformat": 4,
 "nbformat_minor": 5
}