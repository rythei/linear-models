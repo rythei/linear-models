{
 "cells": [
  {
   "cell_type": "markdown",
   "id": "25621911",
   "metadata": {},
   "source": [
    "# Basics of linear regression\n",
    "\n",
    "In this section we will cover:\n",
    "\n",
    "1. Exploratory data analysis\n",
    "2. Simple regression \n",
    "3. Review of linear algebra\n",
    "4. Linear regression  \n",
    "5. Inference and testing for linear regression"
   ]
  }
 ],
 "metadata": {
  "jupytext": {
   "text_representation": {
    "extension": ".md",
    "format_name": "myst",
    "format_version": 0.12,
    "jupytext_version": "1.9.1"
   }
  },
  "kernelspec": {
   "display_name": "Python 3",
   "language": "python",
   "name": "python3"
  },
  "language_info": {
   "codemirror_mode": {
    "name": "ipython",
    "version": 3
   },
   "file_extension": ".py",
   "mimetype": "text/x-python",
   "name": "python",
   "nbconvert_exporter": "python",
   "pygments_lexer": "ipython3",
   "version": "3.9.5"
  },
  "source_map": [
   12
  ]
 },
 "nbformat": 4,
 "nbformat_minor": 5
}