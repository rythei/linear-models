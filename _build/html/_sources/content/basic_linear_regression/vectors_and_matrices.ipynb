{
 "cells": [
  {
   "cell_type": "markdown",
   "id": "ae877376",
   "metadata": {},
   "source": [
    "# Basic concepts from linear algebra: vectors and matrices\n",
    "\n",
    "## Motivation: linear regression with multiple predictor variables\n",
    "\n",
    "Now that we have introduced the simple linear regression model, a natural extension will be to consider multiple predictor variables in a model of the form\n",
    "\n",
    "$$\n",
    "y_i = \\beta_0 + \\beta_1 x_{i1} + \\beta_2 x_{i2} + \\cdots + \\beta_p x_{ip} + \\varepsilon_i, \\hspace{10mm} (1)\n",
    "$$\n",
    "\n",
    "where each observation $i$ is associated with $p$ different features $x_{i1},\\dots, x_{ip}$. We will discuss such models extensively throughout the remainder of the course, but in order to do so effectively, we must first review some basic mathematical tools from linear algebra which will be useful in our study.\n",
    "\n",
    "## Vectors and dot products\n",
    "\n",
    "Central to the study of linear algebra are the concepts of _vectors_ and _vector spaces_. In general, a vector space is a set $V$ such that for any two vectors $u,v \\in V$, we can add the vectors and get a new element $u+v \\in V$, and we can multiply vectors by a scalar $\\alpha \\in \\mathbb{R}$ and again get another vector $\\alpha v \\in V$.\n",
    "\n",
    "In this course, we will primarily be interested in the most common vector space, $\\mathbb{R}^n$, which is simply the set of all $n$-tuples of real numbers. We can denote a vector $\\boldsymbol{x} \\in \\mathbb{R}^n$ using the notation\n",
    "\n",
    "$$\n",
    "\\boldsymbol{x} = \\begin{bmatrix} x_1\\\\ x_2\\\\\\vdots \\\\ x_n \\end{bmatrix}.\n",
    "$$\n",
    "\n",
    "For example, $\\begin{bmatrix} 1\\\\ 2\\end{bmatrix}$ is a vector in $\\mathbb{R}^2$, which we can simply think of as a point in the Euclidean plane. In python, we typically will represent vectors using an `array` object from the numpy package. An array can be defined using the following:"
   ]
  },
  {
   "cell_type": "code",
   "execution_count": 1,
   "id": "65ec1603",
   "metadata": {},
   "outputs": [
    {
     "data": {
      "text/plain": [
       "array([1, 2])"
      ]
     },
     "execution_count": 1,
     "metadata": {},
     "output_type": "execute_result"
    }
   ],
   "source": [
    "# first we have to import the numpy package\n",
    "import numpy as np\n",
    "\n",
    "# define the vector (1,2) as a numpy array\n",
    "x = np.array([1,2])\n",
    "x"
   ]
  },
  {
   "cell_type": "markdown",
   "id": "2fcbaa83",
   "metadata": {},
   "source": [
    "For vectors in $\\mathbb{R}^n$, we can define vector addition in a simple way: given two vectors\n",
    "\n",
    "$$\n",
    "\\boldsymbol{u} = \\begin{bmatrix} u_1\\\\ \\vdots \\\\ u_n\\end{bmatrix},\\;\\;\\; \\boldsymbol{v} = \\begin{bmatrix}v_1\\\\ \\vdots \\\\ v_n\\end{bmatrix},\n",
    "$$\n",
    "\n",
    "we can add them as follows:\n",
    "\n",
    "$$\n",
    "\\boldsymbol{u} + \\boldsymbol{u} = \\begin{bmatrix} u_1\\\\ \\vdots \\\\ u_n\\end{bmatrix} + \\begin{bmatrix}v_1\\\\ \\vdots \\\\ v_n\\end{bmatrix} = \\begin{bmatrix}u_1+ v_1 \\\\ \\vdots \\\\ u_n + v_n\\end{bmatrix}.\n",
    "$$\n",
    "\n",
    "That is, when we add two vectors we just add their corresponding entries. This will of course give us another vector in $\\mathbb{R}^n$ back. Adding two vectors is also easy using arrays in python. Let's define two arrays `u` and `v`:"
   ]
  },
  {
   "cell_type": "code",
   "execution_count": 2,
   "id": "c4974bb4",
   "metadata": {},
   "outputs": [],
   "source": [
    "u = np.array([1,2,3])\n",
    "v = np.array([4,5,6])"
   ]
  },
  {
   "cell_type": "markdown",
   "id": "89224730",
   "metadata": {},
   "source": [
    "Now we can add them using the usual `+` operation.\n",
    "\n",
    "```\n",
    "u_plus_v = u+v\n",
    "print(f\"u = {u}\")\n",
    "print(f\"v = {v}\")\n",
    "print(f\"u+v = {u_plus_v}\")\n",
    "```\n",
    "\n",
    "We see that this gives us the expected result.\n",
    "\n",
    "We can also perform scalar multiplication with vectors. For a vector $\\boldsymbol{v} \\in \\mathbb{R}^n$ and a scalar $\\alpha \\in \\mathbb{R}$, we can define\n",
    "\n",
    "$$\n",
    "\\alpha \\boldsymbol{v} = \\alpha \\begin{bmatrix}v_1\\\\ \\vdots \\\\ v_n\\end{bmatrix} = \\begin{bmatrix}\\alpha v_1\\\\ \\vdots \\\\ \\alpha v_n\\end{bmatrix}.\n",
    "$$\n",
    "\n",
    "That is, $\\alpha \\boldsymbol{v}$ just means multiplying each entry of $\\boldsymbol{v}$ by $\\alpha$. This is similarly each to do in python with arrays. For example,"
   ]
  },
  {
   "cell_type": "code",
   "execution_count": 3,
   "id": "1e4f2832",
   "metadata": {},
   "outputs": [
    {
     "name": "stdout",
     "output_type": "stream",
     "text": [
      "v = [4 5 6]\n",
      "-1v = [-4 -5 -6]\n",
      "2v = [4 5 6]\n"
     ]
    }
   ],
   "source": [
    "print(f\"v = {v}\")\n",
    "print(f\"-1v = {-1*v}\")\n",
    "print(f\"2v = {v}\")"
   ]
  },
  {
   "cell_type": "markdown",
   "id": "30386cfb",
   "metadata": {},
   "source": [
    "These again give the expected results.\n",
    "\n",
    "### The dot product\n",
    "\n",
    "There is one more operation on vectors that will be very important to us called the _dot product_ or _inner product_. Given two vectors $\\boldsymbol{u},\\boldsymbol{v} \\in \\mathbb{R}^n$, their dot product is\n",
    "\n",
    "$$\n",
    "\\langle \\boldsymbol{u},\\boldsymbol{v}\\rangle = \\boldsymbol{u}\\cdot \\boldsymbol{v} = \\sum_{i=1}^n u_iv_i.\n",
    "$$\n",
    "\n",
    "This returns a single real _number_, which is the sum $\\sum_{i=1}^n u_iv_i$, i.e. multiplying and summing up the entries of the two vectors pairwise.\n",
    "\n",
    "> Remark: we use two notations for the dot product here, $\\langle \\boldsymbol{u},\\boldsymbol{v}\\rangle$ and $\\boldsymbol{u}\\cdot \\boldsymbol{v}$ both will be seen commonly, and can be used interchangeably. In fact, the dot product between two vectors is also sometimes written as $\\boldsymbol{u}^\\top \\boldsymbol{v}$. This form will make more sense shortly when we discuss matrices.\n",
    "\n",
    "In numpy, we can compute the dot product of two vectors using the function `np.dot`. For example,"
   ]
  },
  {
   "cell_type": "code",
   "execution_count": 4,
   "id": "c4ac901b",
   "metadata": {},
   "outputs": [
    {
     "name": "stdout",
     "output_type": "stream",
     "text": [
      "32\n"
     ]
    }
   ],
   "source": [
    "x = np.array([1,2,3])\n",
    "y = np.array([4,5,6])\n",
    "x_dot_y = np.dot(x,y) # computes 1*4 + 2*5 + 3*6 = 32\n",
    "print(x_dot_y)"
   ]
  },
  {
   "cell_type": "markdown",
   "id": "3322270e",
   "metadata": {},
   "source": [
    "## Matrices and multiplication\n",
    "\n",
    "One way to define a matrix is as follows: an $m\\times n$ matrix $\\boldsymbol{A} \\in \\mathbb{R}^{m\\times n}$, is an array of real numbers consisting of $m$ rows and $n$ columns. For example, the following is a $2\\times 3$ matrix\n",
    "\n",
    "$$\n",
    "\\boldsymbol{A} = \\begin{bmatrix} 1 & 2 & 3\\\\ 4 & 5 & 6\\end{bmatrix}.\n",
    "$$\n",
    "\n",
    "This matrix can also be defined as a numpy array in python:"
   ]
  },
  {
   "cell_type": "code",
   "execution_count": 5,
   "id": "c345fa64",
   "metadata": {},
   "outputs": [
    {
     "name": "stdout",
     "output_type": "stream",
     "text": [
      "[[1 2 3]\n",
      " [4 5 6]]\n"
     ]
    }
   ],
   "source": [
    "import numpy as np\n",
    "\n",
    "A = np.array([[1,2,3], [4,5,6]])\n",
    "print(A)"
   ]
  },
  {
   "cell_type": "markdown",
   "id": "ec286396",
   "metadata": {},
   "source": [
    "We can also think of a matrix a collection of vectors in two different ways: first, we can think of it as containing _row vectors_, $\\begin{bmatrix} 1 & 2 & 3\\end{bmatrix}$ and $\\begin{bmatrix} 4&5&6\\end{bmatrix}$. Alternatively, we can think of $\\boldsymbol{A}$ as a collection of _column vectors_ $\\begin{bmatrix}1\\\\ 4\\end{bmatrix}, \\begin{bmatrix}2\\\\ 5\\end{bmatrix}, \\begin{bmatrix}3\\\\ 6\\end{bmatrix}$. Sometimes, we will use the notation\n",
    "\n",
    "$$\n",
    "\\begin{bmatrix} \\boldsymbol{x}_1\\\\ \\vdots \\\\ \\boldsymbol{x}_m \\end{bmatrix} \\;\\;\\;\\; \\text{or}  \\;\\;\\;\\; \\begin{bmatrix} \\boldsymbol{x}_1 & \\cdots & \\boldsymbol{x}_n \\end{bmatrix}\n",
    "$$\n",
    "\n",
    "to denote a $m\\times n$ matrix in terms of its row vectors or column vectors.\n",
    "\n",
    "Note that by this definition of a matrix, a vector is simply a special case of a matrix with either just one column or one row. By convention, we usually think of a vector $\\boldsymbol{x}\\in \\mathbb{R}^n$ as being a _column vector_, with $n$ rows and $1$ column, so that $\\boldsymbol{x}$ is really a $n\\times 1$ matrix.\n",
    "\n",
    "In numpy, we can specify a vector as being a column vector by suitably reshaping it."
   ]
  },
  {
   "cell_type": "code",
   "execution_count": 6,
   "id": "ca9369ee",
   "metadata": {},
   "outputs": [
    {
     "name": "stdout",
     "output_type": "stream",
     "text": [
      "(5,)\n",
      "(5, 1)\n"
     ]
    }
   ],
   "source": [
    "n = 5\n",
    "x = np.random.normal(size=n) # generate a random vector of dimension n\n",
    "print(x.shape) # defaults to shape (n,)\n",
    "x = x.reshape(n,1)\n",
    "print(x.shape) # explicitly making x a column vector"
   ]
  },
  {
   "cell_type": "markdown",
   "id": "4c8eca95",
   "metadata": {},
   "source": [
    "Note that by default, numpy stores 1-d arrays as having shape `(n,)`, which is, somewhat subtly, different from a column vector, which has shape `(n,1)`. So to work with a column vector in Python, we have to explictly specify its shape. For many operations we will want to perform, this distinction won't matter much, though for some operations this distinction is in fact important, and so we will want to be careful. We will see examples of this in the coming sections. We can also represent a vector explicitly as a row vector in a similar way."
   ]
  },
  {
   "cell_type": "code",
   "execution_count": 7,
   "id": "58f69474",
   "metadata": {},
   "outputs": [
    {
     "name": "stdout",
     "output_type": "stream",
     "text": [
      "(1, 5)\n"
     ]
    }
   ],
   "source": [
    "x = x.reshape(1,n)\n",
    "print(x.shape) # explicitly making x a row vector"
   ]
  },
  {
   "cell_type": "markdown",
   "id": "af476d80",
   "metadata": {},
   "source": [
    "Suppose we were given an $m\\times n$ matrix $\\boldsymbol{A}$ of the form\n",
    "\n",
    "$$\n",
    "\\boldsymbol{A} = \\begin{bmatrix}a_{11}& \\cdots &a_{1n}\\\\ a_{21}&\\cdots & a_{2n}\\\\ \\vdots & \\ddots & \\vdots \\\\ a_{m1}&\\cdots & a_{mn}\\end{bmatrix} \\in \\mathbb{R}^{m\\times n}.\n",
    "$$\n",
    "\n",
    "### The transpose operation\n",
    "\n",
    "One of the most important operations we can perform on such a matrix is to take its _transpose_, which means to form the $n\\times m$ matrix $\\boldsymbol{A}^\\top$ by defining the $i^{th}$ row of $\\boldsymbol{A}^\\top$ be the $i^{th}$ column of $\\boldsymbol{A}$. Specifically, this would give us\n",
    "\n",
    "$$\n",
    "\\boldsymbol{A}^\\top = \\begin{bmatrix}a_{11}& \\cdots &a_{m1}\\\\ a_{12}&\\cdots & a_{m2}\\\\ \\vdots & \\ddots & \\vdots \\\\ a_{1n}&\\cdots & a_{mn}\\end{bmatrix} \\in \\mathbb{R}^{n\\times m}.\n",
    "$$\n",
    "\n",
    "Note that this operation takes a matrix of shape $m\\times n$ and returns a matrix of shape $n\\times m$. It is easy to find the transpose of a matrix (i.e. numpy array) in Python:"
   ]
  },
  {
   "cell_type": "code",
   "execution_count": 8,
   "id": "7742c268",
   "metadata": {},
   "outputs": [
    {
     "name": "stdout",
     "output_type": "stream",
     "text": [
      "(2, 3)\n",
      "(3, 2)\n"
     ]
    }
   ],
   "source": [
    "print(A.shape)\n",
    "AT = A.T # take the transpose of A\n",
    "print(AT.shape)"
   ]
  },
  {
   "cell_type": "markdown",
   "id": "43c7b1db",
   "metadata": {},
   "source": [
    "We can also use this to convert between row and column vectors in numpy."
   ]
  },
  {
   "cell_type": "code",
   "execution_count": 9,
   "id": "2eaee905",
   "metadata": {},
   "outputs": [
    {
     "name": "stdout",
     "output_type": "stream",
     "text": [
      "(5, 1)\n",
      "(1, 5)\n"
     ]
    }
   ],
   "source": [
    "x = np.random.normal(size=n)\n",
    "x = x.reshape(n,1)\n",
    "print(x.shape) #column vector\n",
    "xT = x.T\n",
    "print(xT.shape) #row vector"
   ]
  },
  {
   "cell_type": "markdown",
   "id": "b98bc388",
   "metadata": {},
   "source": [
    "### Matrix multiplcation\n",
    "\n",
    "The second operation on matrices which will we frequently encounter is matrix multiplication.\n",
    "\n",
    "Matrix multiplication is really a generalization of the dot product we defined earlier. Given matrices $\\boldsymbol{A}\\in \\mathbb{R}^{m\\times n}$, with rows $\\boldsymbol{a}_{1:},\\dots,\\boldsymbol{a}_{m:}$, and  $\\boldsymbol{B}\\in \\mathbb{R}^{n\\times p}$, with columns $\\boldsymbol{b}_{:1},\\dots, \\boldsymbol{b}_{:p}$, we define the matrix product $\\boldsymbol{AB}$ to be the $m\\times p$ matrix whose $(i,j)^{th}$ entry is\n",
    "\n",
    "$$\n",
    "[\\boldsymbol{A}\\boldsymbol{B}]_{ij} = \\boldsymbol{a}_{i:} \\cdot \\boldsymbol{b}_{:j}.\n",
    "$$\n",
    "\n",
    "That is, the $(i,j)^{th}$ entry of the matrix $\\boldsymbol{AB}$ is the dot product of the $i^{th}$ row of $\\boldsymbol{A}$ with the $j^{th}$ column of $\\boldsymbol{B}$.\n",
    "\n",
    "Note that for this operation to be well-defined, we need that the rows of $\\boldsymbol{A}$ are of the same dimension as the columns of $\\boldsymbol{B}$, or equivalently that the number of columns of $\\boldsymbol{A}$ is equal to the number of rows of $\\boldsymbol{B}$. Let's see some examples in Python. Note that we can also use the numpy function `np.dot` to perform matrix multiplication."
   ]
  },
  {
   "cell_type": "code",
   "execution_count": 10,
   "id": "74eb125b",
   "metadata": {},
   "outputs": [
    {
     "name": "stdout",
     "output_type": "stream",
     "text": [
      "(10, 3)\n"
     ]
    }
   ],
   "source": [
    "m, n, p = 10,5,3\n",
    "\n",
    "A = np.random.normal(size=(m,n))\n",
    "B = np.random.normal(size=(n,p))\n",
    "AB = np.dot(A,B)\n",
    "print(AB.shape)"
   ]
  },
  {
   "cell_type": "markdown",
   "id": "520f9db2",
   "metadata": {},
   "source": [
    "This is an example where the matrix product is well-defined, since the number of columns of $\\boldsymbol{A}$ (5) is equal to the number of rows of $\\boldsymbol{B}$ (also 5). Let's see an example where this doesn't work."
   ]
  },
  {
   "cell_type": "code",
   "execution_count": 11,
   "id": "77fad78e",
   "metadata": {},
   "outputs": [
    {
     "ename": "ValueError",
     "evalue": "shapes (10,5) and (4,3) not aligned: 5 (dim 1) != 4 (dim 0)",
     "output_type": "error",
     "traceback": [
      "\u001b[0;31m---------------------------------------------------------------------------\u001b[0m",
      "\u001b[0;31mValueError\u001b[0m                                Traceback (most recent call last)",
      "\u001b[0;32m<ipython-input-11-4d3c337d16ff>\u001b[0m in \u001b[0;36m<module>\u001b[0;34m\u001b[0m\n\u001b[1;32m      4\u001b[0m \u001b[0mA\u001b[0m \u001b[0;34m=\u001b[0m \u001b[0mnp\u001b[0m\u001b[0;34m.\u001b[0m\u001b[0mrandom\u001b[0m\u001b[0;34m.\u001b[0m\u001b[0mnormal\u001b[0m\u001b[0;34m(\u001b[0m\u001b[0msize\u001b[0m\u001b[0;34m=\u001b[0m\u001b[0;34m(\u001b[0m\u001b[0mm\u001b[0m\u001b[0;34m,\u001b[0m\u001b[0mn\u001b[0m\u001b[0;34m)\u001b[0m\u001b[0;34m)\u001b[0m\u001b[0;34m\u001b[0m\u001b[0;34m\u001b[0m\u001b[0m\n\u001b[1;32m      5\u001b[0m \u001b[0mB\u001b[0m \u001b[0;34m=\u001b[0m \u001b[0mnp\u001b[0m\u001b[0;34m.\u001b[0m\u001b[0mrandom\u001b[0m\u001b[0;34m.\u001b[0m\u001b[0mnormal\u001b[0m\u001b[0;34m(\u001b[0m\u001b[0msize\u001b[0m\u001b[0;34m=\u001b[0m\u001b[0;34m(\u001b[0m\u001b[0mk\u001b[0m\u001b[0;34m,\u001b[0m\u001b[0mp\u001b[0m\u001b[0;34m)\u001b[0m\u001b[0;34m)\u001b[0m\u001b[0;34m\u001b[0m\u001b[0;34m\u001b[0m\u001b[0m\n\u001b[0;32m----> 6\u001b[0;31m \u001b[0mAB\u001b[0m \u001b[0;34m=\u001b[0m \u001b[0mnp\u001b[0m\u001b[0;34m.\u001b[0m\u001b[0mdot\u001b[0m\u001b[0;34m(\u001b[0m\u001b[0mA\u001b[0m\u001b[0;34m,\u001b[0m\u001b[0mB\u001b[0m\u001b[0;34m)\u001b[0m\u001b[0;34m\u001b[0m\u001b[0;34m\u001b[0m\u001b[0m\n\u001b[0m\u001b[1;32m      7\u001b[0m \u001b[0mprint\u001b[0m\u001b[0;34m(\u001b[0m\u001b[0mAB\u001b[0m\u001b[0;34m.\u001b[0m\u001b[0mshape\u001b[0m\u001b[0;34m)\u001b[0m\u001b[0;34m\u001b[0m\u001b[0;34m\u001b[0m\u001b[0m\n",
      "\u001b[0;32m~/opt/miniconda3/lib/python3.9/site-packages/numpy/core/overrides.py\u001b[0m in \u001b[0;36mdot\u001b[0;34m(*args, **kwargs)\u001b[0m\n",
      "\u001b[0;31mValueError\u001b[0m: shapes (10,5) and (4,3) not aligned: 5 (dim 1) != 4 (dim 0)"
     ]
    }
   ],
   "source": [
    "# now the inner dimensions don't match\n",
    "m, n, k, p = 10,5,4, 3\n",
    "\n",
    "A = np.random.normal(size=(m,n))\n",
    "B = np.random.normal(size=(k,p))\n",
    "AB = np.dot(A,B)\n",
    "print(AB.shape)"
   ]
  },
  {
   "cell_type": "markdown",
   "id": "219837c0",
   "metadata": {},
   "source": [
    "As we'd expect, numpy gives us an error, because the two matrices are not of coherent dimensions to perform matrix multiplcation.\n",
    "\n",
    "\n",
    "\n",
    "## Returning to the multiple linear regression model\n",
    "\n",
    "To see why linear algebra is so closely related to the study of linear models of the form $(1)$, let us define a few special vectors and matrices. Given $p$ predictor variable $x_{i1},\\dots, x_{ip}$, define the vector\n",
    "\n",
    "$$\n",
    "\\boldsymbol{x}_i = \\begin{bmatrix}1\\\\ x_{i1}\\\\ x_{i2}\\\\ \\vdots\\\\ x_{ip}\\end{bmatrix}\n",
    "$$\n",
    "\n",
    "as well as the vector of coefficients\n",
    "\n",
    "$$\n",
    "\\boldsymbol{\\beta} = \\begin{bmatrix}\\beta_0 \\\\ \\beta_1\\\\ \\beta_2 \\\\ \\vdots\\\\ \\beta_p \\end{bmatrix}.\n",
    "$$\n",
    "\n",
    "Then let's see what happens when we take the dot product of $\\boldsymbol{x}_i$ with $\\boldsymbol{\\beta}$. By definition, this is\n",
    "\n",
    "$$\n",
    "\\boldsymbol{\\beta}\\cdot \\boldsymbol{x}_i = \\beta_0 + \\beta_1 x_{i1} + \\beta_2 x_{i2} + \\cdots + \\beta_p x_{ip}\n",
    "$$\n",
    "\n",
    "This looks exactly the same as the right-hand side of equation (1) (only without the error term $\\varepsilon$). Note that we cleverly added a 1 to the first entry of the vector $\\boldsymbol{x}_i$ so that it would match up with the intercept term $\\beta_0$ and give us a constant. This means that we can succinctly represent the regression model (1) in vector form as\n",
    "\n",
    "$$\n",
    "y_i = \\boldsymbol{\\beta}\\cdot \\boldsymbol{x}_i + \\varepsilon_i.\n",
    "$$\n",
    "\n",
    "Furthermore, we can stack the vectors $\\boldsymbol{x}_1\\dots,\\boldsymbol{x}_n$ for our $n$ observations as the row vectors of an $n\\times (p+1)$ matrix $\\boldsymbol{X}$ as follows:\n",
    "\n",
    "$$\n",
    "\\boldsymbol{X} = \\begin{bmatrix} \\boldsymbol{x}_1 \\\\ \\boldsymbol{x}_2\\\\ \\vdots\\\\ \\boldsymbol{x}_n\\end{bmatrix}\n",
    "$$\n",
    "\n",
    "Also, we can define the vectors\n",
    "\n",
    "$$\n",
    "\\boldsymbol{y} = \\begin{bmatrix}y_1\\\\y_2\\\\ \\vdots \\\\ y_n\\end{bmatrix},\\;\\;\\; \\boldsymbol{\\varepsilon} = \\begin{bmatrix}\\varepsilon_1\\\\ \\varepsilon_2\\\\ \\vdots \\\\ \\varepsilon_n\\end{bmatrix}\n",
    "$$\n",
    "\n",
    "and write the model simultaneously over all $n$ observations as\n",
    "\n",
    "$$\n",
    "\\boldsymbol{y} = \\boldsymbol{X\\beta} + \\boldsymbol{\\varepsilon}.\n",
    "$$\n",
    "\n",
    "Note that at this point, we haven't done much new -- we've just defined some mathematical objects and used them to simplify the expression for a linear regression model with multiple predictors. However, in doing so, we will be able to use powerful tools from linear algebra to study such models."
   ]
  }
 ],
 "metadata": {
  "jupytext": {
   "text_representation": {
    "extension": ".md",
    "format_name": "myst",
    "format_version": 0.12,
    "jupytext_version": "1.9.1"
   }
  },
  "kernelspec": {
   "display_name": "Python 3",
   "language": "python",
   "name": "python3"
  },
  "language_info": {
   "codemirror_mode": {
    "name": "ipython",
    "version": 3
   },
   "file_extension": ".py",
   "mimetype": "text/x-python",
   "name": "python",
   "nbconvert_exporter": "python",
   "pygments_lexer": "ipython3",
   "version": "3.9.5"
  },
  "source_map": [
   12,
   38,
   45,
   61,
   64,
   85,
   89,
   107,
   112,
   124,
   129,
   143,
   149,
   153,
   156,
   174,
   178,
   182,
   188,
   204,
   211,
   215,
   223
  ]
 },
 "nbformat": 4,
 "nbformat_minor": 5
}