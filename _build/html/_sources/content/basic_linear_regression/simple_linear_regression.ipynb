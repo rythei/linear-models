{
 "cells": [
  {
   "cell_type": "markdown",
   "id": "9e297719",
   "metadata": {},
   "source": [
    "# Simple linear regression\n",
    "\n",
    "_Datasets used in throughout this book can be downloaded [here](https://drive.google.com/drive/folders/1OkXMcFo0urN0kSQYH4d75I4V3pnSpV6H?usp=sharing)._\n",
    "\n",
    "Let's return to the infant mortality dataset that we used in the previous section. We again load the dataset using `pandas`:"
   ]
  },
  {
   "cell_type": "code",
   "execution_count": 1,
   "id": "bd40aa85",
   "metadata": {},
   "outputs": [
    {
     "data": {
      "text/html": [
       "<div>\n",
       "<style scoped>\n",
       "    .dataframe tbody tr th:only-of-type {\n",
       "        vertical-align: middle;\n",
       "    }\n",
       "\n",
       "    .dataframe tbody tr th {\n",
       "        vertical-align: top;\n",
       "    }\n",
       "\n",
       "    .dataframe thead th {\n",
       "        text-align: right;\n",
       "    }\n",
       "</style>\n",
       "<table border=\"1\" class=\"dataframe\">\n",
       "  <thead>\n",
       "    <tr style=\"text-align: right;\">\n",
       "      <th></th>\n",
       "      <th>country</th>\n",
       "      <th>income</th>\n",
       "      <th>infant_mortality</th>\n",
       "      <th>region</th>\n",
       "      <th>oil</th>\n",
       "    </tr>\n",
       "  </thead>\n",
       "  <tbody>\n",
       "    <tr>\n",
       "      <th>0</th>\n",
       "      <td>Australia</td>\n",
       "      <td>3426</td>\n",
       "      <td>26.7</td>\n",
       "      <td>Asia</td>\n",
       "      <td>no</td>\n",
       "    </tr>\n",
       "    <tr>\n",
       "      <th>1</th>\n",
       "      <td>Austria</td>\n",
       "      <td>3350</td>\n",
       "      <td>23.7</td>\n",
       "      <td>Europe</td>\n",
       "      <td>no</td>\n",
       "    </tr>\n",
       "    <tr>\n",
       "      <th>2</th>\n",
       "      <td>Belgium</td>\n",
       "      <td>3346</td>\n",
       "      <td>17.0</td>\n",
       "      <td>Europe</td>\n",
       "      <td>no</td>\n",
       "    </tr>\n",
       "    <tr>\n",
       "      <th>3</th>\n",
       "      <td>Canada</td>\n",
       "      <td>4751</td>\n",
       "      <td>16.8</td>\n",
       "      <td>Americas</td>\n",
       "      <td>no</td>\n",
       "    </tr>\n",
       "    <tr>\n",
       "      <th>4</th>\n",
       "      <td>Denmark</td>\n",
       "      <td>5029</td>\n",
       "      <td>13.5</td>\n",
       "      <td>Europe</td>\n",
       "      <td>no</td>\n",
       "    </tr>\n",
       "  </tbody>\n",
       "</table>\n",
       "</div>"
      ],
      "text/plain": [
       "     country  income  infant_mortality    region oil\n",
       "0  Australia    3426              26.7      Asia  no\n",
       "1    Austria    3350              23.7    Europe  no\n",
       "2    Belgium    3346              17.0    Europe  no\n",
       "3     Canada    4751              16.8  Americas  no\n",
       "4    Denmark    5029              13.5    Europe  no"
      ]
     },
     "execution_count": 1,
     "metadata": {},
     "output_type": "execute_result"
    }
   ],
   "source": [
    "import pandas as pd\n",
    "\n",
    "mortality_data = pd.read_csv('datasets/infant_mortality.csv')\n",
    "mortality_data = mortality_data.dropna()\n",
    "mortality_data.head()"
   ]
  },
  {
   "cell_type": "markdown",
   "id": "9a32e3b6",
   "metadata": {},
   "source": [
    "Now we can transform the features `income` and `infant_mortality` to the (base-10) log scale, and plot a joint scatter plot of them."
   ]
  },
  {
   "cell_type": "code",
   "execution_count": 2,
   "id": "271bf11f",
   "metadata": {},
   "outputs": [
    {
     "data": {
      "image/png": "[encoded data removed]",
      "text/plain": [
       "<Figure size 432x432 with 3 Axes>"
      ]
     },
     "metadata": {
      "filenames": {
       "image/png": "/Users/rythei/Library/CloudStorage/GoogleDrive-ryanctheisen@gmail.com/My Drive/PhD/Teaching/Stat151_Fall2022/linear-models/_build/jupyter_execute/content/basic_linear_regression/simple_linear_regression_3_0.png"
      },
      "needs_background": "light"
     },
     "output_type": "display_data"
    }
   ],
   "source": [
    "import matplotlib.pyplot as plt\n",
    "import seaborn as sns\n",
    "import numpy as np\n",
    "\n",
    "# calling .to_numpy() on a column of a DataFrame gives you a numpy array back\n",
    "log_income = np.log10(mortality_data[\"income\"].to_numpy())\n",
    "log_infant_mortality = np.log10(mortality_data[\"infant_mortality\"].to_numpy())\n",
    "\n",
    "sns.jointplot(x=log_income, y=log_infant_mortality)\n",
    "plt.ylabel(\"log(Infant mortality rate)\", fontsize=12)\n",
    "plt.xlabel(\"log(Per-capita income)\", fontsize=12)\n",
    "plt.show()"
   ]
  },
  {
   "cell_type": "markdown",
   "id": "628df17f",
   "metadata": {},
   "source": [
    "## Computing correlation\n",
    "Suppose we wanted to quantify the negative relationship between log-mortality and log-income. A simple way to do this would be with the Pearson correlation. For two vectors of observations $(x_1,\\dots, x_n)$ and $(y_1,\\dots,y_n)$, their Pearson correlation is computed as\n",
    "\n",
    "$$\n",
    "r = \\frac{\\text{Cov}(X, Y)}{\\sqrt{\\text{Var}(X)\\text{Var}(Y)}} = \\frac{\\sum_{i=1}^n (x_i - \\bar{x})(y_i-\\bar{y})}{\\sqrt{\\sum_{i=1}^n (x_i-\\bar{x})^2 \\sum_{i=1}^n (y_i - \\bar{y})^2}}.\n",
    "$$\n",
    "\n",
    "Let's write a simple python function that computes the pearson correlation."
   ]
  },
  {
   "cell_type": "code",
   "execution_count": 3,
   "id": "adb2e01d",
   "metadata": {},
   "outputs": [],
   "source": [
    "def pearson_corr(x,y):\n",
    "    # first compute the means of the two vectors\n",
    "    x_bar = np.mean(x)\n",
    "    y_bar = np.mean(y)\n",
    "\n",
    "    # compute numerator (1/n)*\\sum_i (x_i - x_bar)*(y_i - y_bar)\n",
    "    cov_xy = np.sum((x-x_bar)*(y-y_bar))/len(x)\n",
    "\n",
    "    # compute the variance of x and y\n",
    "    var_x = np.sum((x-x_bar)**2)/len(x)\n",
    "    var_y = np.sum((y-y_bar)**2)/len(y)\n",
    "\n",
    "    # compute the correlation\n",
    "    r = cov_xy/np.sqrt(var_x*var_y)\n",
    "\n",
    "    return r"
   ]
  },
  {
   "cell_type": "markdown",
   "id": "598f2497",
   "metadata": {},
   "source": [
    "Now we can use this function to compute the correlation between log-income and log-mortality:"
   ]
  },
  {
   "cell_type": "code",
   "execution_count": 4,
   "id": "e9369382",
   "metadata": {},
   "outputs": [
    {
     "data": {
      "text/plain": [
       "-0.7086068160294182"
      ]
     },
     "execution_count": 4,
     "metadata": {},
     "output_type": "execute_result"
    }
   ],
   "source": [
    "r = pearson_corr(log_income, log_infant_mortality)\n",
    "r"
   ]
  },
  {
   "cell_type": "markdown",
   "id": "237052c1",
   "metadata": {},
   "source": [
    "Note that the Pearson correlation is bound between -1 and 1, with -1 indicating a perfect negative relationship between the features, and +1 indicating a perfect positive relationship between the features. Thus the observed value of $\\approx -.71$ suggesting, as we can see visually, a strong negative relationship between log-infant mortality and log-per-capita income.\n",
    "\n",
    "Of course, we don't really need to implement our own python function every time we want to compute the Pearson correlation. It's conveniently implemented in the `scipy.stats` library in python (which also includes a number of other methods that will be useful for statistics)."
   ]
  },
  {
   "cell_type": "code",
   "execution_count": 5,
   "id": "73426887",
   "metadata": {},
   "outputs": [
    {
     "data": {
      "text/plain": [
       "-0.7086068160294183"
      ]
     },
     "execution_count": 5,
     "metadata": {},
     "output_type": "execute_result"
    }
   ],
   "source": [
    "from scipy.stats import pearsonr\n",
    "\n",
    "r_2, _ = pearsonr(log_income, log_infant_mortality)\n",
    "r_2"
   ]
  },
  {
   "cell_type": "markdown",
   "id": "69d151f4",
   "metadata": {},
   "source": [
    "Indeed, this method gives us the same result as we got with our own function.\n",
    "\n",
    "## Finding the line of best fit by minimizing the sum of squares\n",
    "Instead of just computing the correlation between the two features, we could also try to model the relationship by fitting a line to data. In particular, we want to find numbers $\\alpha$ and $\\beta$ such that\n",
    "\n",
    "$$\n",
    "\\log_{10}(\\text{infant mortality}) \\approx \\alpha + \\beta \\cdot \\log_{10}(\\text{per-capita income})\n",
    "$$\n",
    "\n",
    "To do this, we just need to find the values of $\\alpha$ and $\\beta$. Let's denote our obsevations of log-per-capita income by $(x_1,\\dots,x_n)$ and those of log-infant mortality as $(y_1,\\dots,y_n)$. Then one way to quantiatively choose $\\alpha,\\beta$ is by minimizing the sum of squared errors:\n",
    "\n",
    "$$\n",
    "\\text{SSE}(\\alpha, \\beta) = \\frac{1}{n}\\sum_{i=1}^n (y_i - (\\alpha +\\beta x_i))^2\n",
    "$$\n",
    "\n",
    "> Remark: This is not the only choice we could have made. For example, we could have considered minimizing the sum of absolute errors, $\\sum_i |y_i - (\\alpha +\\beta x_i)|$. However, using the SSE is mathematically much more convenient (since it is differentiable, and the absolute value is not), and so we will focus on this.\n",
    "\n",
    "With a little bit of calculus, we can check that\n",
    "\n",
    "$$\n",
    "\\begin{align*}\n",
    "\\frac{\\partial}{\\partial \\alpha}\\text{SSE} &= -2\\sum_{i=1}^n (y_i - \\alpha - \\beta x_i) && \\text{and}\\\\\n",
    "\\frac{\\partial}{\\partial \\beta}\\text{SSE} &= -2\\sum_{i=1}^n x_i(y_i - \\alpha - \\beta x_i)\n",
    "\\end{align*}\n",
    "$$\n",
    "\n",
    "If we set these two derivatives equal to zero (to find the minimizers), we obtain the estimates $\\hat{\\alpha}$ and $\\hat{\\beta}$:\n",
    "\n",
    "$$\n",
    "\\begin{align*}\n",
    "\\hat{\\alpha} &= \\bar{y} - \\beta \\bar{x}\\\\\n",
    "\\hat{\\beta} &= \\frac{\\sum_{i=1}^n (x_i - \\bar{x})(y_i - \\bar{y})}{\\sum_{i=1}^n (x_i-\\bar{x})^2}\n",
    "\\end{align*}\n",
    "$$\n",
    "\n",
    "Note that the expression for $\\hat{\\beta}$ looks very reminiscent of our equation for the Pearson correlation. Let's write a python function that takes in two arrays $(x_1,\\dots,x_n)$ and $(y_1,\\dots,y_n)$ computes the estimates $\\hat{\\alpha}$ and $\\hat{\\beta}$."
   ]
  },
  {
   "cell_type": "code",
   "execution_count": 6,
   "id": "4f7db5f4",
   "metadata": {},
   "outputs": [],
   "source": [
    "def fit_line(x, y):\n",
    "    # first compute the means of the two vectors\n",
    "    x_bar = np.mean(x)\n",
    "    y_bar = np.mean(y)\n",
    "\n",
    "    # compute numerator (1/n)*\\sum_i (x_i - x_bar)*(y_i - y_bar)\n",
    "    cov_xy = np.sum((x-x_bar)*(y-y_bar))/len(x)\n",
    "\n",
    "    # compute the variance of x and y\n",
    "    var_x = np.sum((x-x_bar)**2)/len(x)\n",
    "\n",
    "    # compute beta_hat\n",
    "    beta_hat = cov_xy/var_x\n",
    "\n",
    "    # compute alpha_hat\n",
    "    alpha_hat = y_bar - beta_hat*x_bar\n",
    "\n",
    "    return alpha_hat, beta_hat"
   ]
  },
  {
   "cell_type": "markdown",
   "id": "c7048b27",
   "metadata": {},
   "source": [
    "Now let's use this to compute the coefficients for the line best fititng our data."
   ]
  },
  {
   "cell_type": "code",
   "execution_count": 7,
   "id": "6967cd1e",
   "metadata": {},
   "outputs": [
    {
     "data": {
      "text/plain": [
       "(3.1033917572495335, -0.5117942628130397)"
      ]
     },
     "execution_count": 7,
     "metadata": {},
     "output_type": "execute_result"
    }
   ],
   "source": [
    "alpha_hat, beta_hat = fit_line(log_income, log_infant_mortality)\n",
    "alpha_hat, beta_hat"
   ]
  },
  {
   "cell_type": "markdown",
   "id": "c02ce97a",
   "metadata": {},
   "source": [
    "The intercept term $\\hat{\\alpha} \\approx 3.1$ indicates that the best fit line crosses the y-axis at $y\\approx 3.1$. The coefficient for the slope $\\hat{\\beta} \\approx -0.51$ again indicates the negative relationship between log-income and log-infant mortality. Let's overlay this line on top of our joint scatterplot."
   ]
  },
  {
   "cell_type": "code",
   "execution_count": 8,
   "id": "4bcf2da0",
   "metadata": {},
   "outputs": [
    {
     "data": {
      "image/png": "[encoded data removed]",
      "text/plain": [
       "<Figure size 432x288 with 1 Axes>"
      ]
     },
     "metadata": {
      "filenames": {
       "image/png": "/Users/rythei/Library/CloudStorage/GoogleDrive-ryanctheisen@gmail.com/My Drive/PhD/Teaching/Stat151_Fall2022/linear-models/_build/jupyter_execute/content/basic_linear_regression/simple_linear_regression_15_0.png"
      },
      "needs_background": "light"
     },
     "output_type": "display_data"
    }
   ],
   "source": [
    "xx = np.linspace(1,4,5)\n",
    "yy = alpha_hat + beta_hat*xx\n",
    "plt.scatter(log_income, log_infant_mortality)\n",
    "plt.plot(xx, yy, color='red', linestyle='--', label='line of best fit')\n",
    "plt.xlabel(\"log(Infant mortality rate)\", fontsize=12)\n",
    "plt.ylabel(\"log(Per-capita income)\", fontsize=12)\n",
    "plt.legend()\n",
    "plt.show()"
   ]
  },
  {
   "cell_type": "markdown",
   "id": "c1d67580",
   "metadata": {},
   "source": [
    "## Interpreting the coefficients of a line of best fit\n",
    "\n",
    "Before we proceed to explain how to interpret the coefficients of our log-mortality vs log-income regression, let's start with something simpler, where both variables are untransformed. As a simple example, let's consider a simple dataset containing measurements of height and weight."
   ]
  },
  {
   "cell_type": "code",
   "execution_count": 9,
   "id": "b17e1303",
   "metadata": {},
   "outputs": [],
   "source": [
    "height_weight_data = pd.read_csv(\"datasets/height_weight.csv\")"
   ]
  },
  {
   "cell_type": "markdown",
   "id": "9c7dedff",
   "metadata": {},
   "source": [
    "Next, let's create a joint plot of height against weight."
   ]
  },
  {
   "cell_type": "code",
   "execution_count": 10,
   "id": "a484de19",
   "metadata": {},
   "outputs": [
    {
     "data": {
      "image/png": "[encoded data removed]",
      "text/plain": [
       "<Figure size 432x432 with 3 Axes>"
      ]
     },
     "metadata": {
      "filenames": {
       "image/png": "/Users/rythei/Library/CloudStorage/GoogleDrive-ryanctheisen@gmail.com/My Drive/PhD/Teaching/Stat151_Fall2022/linear-models/_build/jupyter_execute/content/basic_linear_regression/simple_linear_regression_19_0.png"
      },
      "needs_background": "light"
     },
     "output_type": "display_data"
    }
   ],
   "source": [
    "height = height_weight_data[\"height\"]\n",
    "weight = height_weight_data[\"weight\"]\n",
    "\n",
    "sns.jointplot(x=weight, y=height)\n",
    "plt.ylabel(\"height (cm)\", fontsize=12)\n",
    "plt.xlabel(\"weight (kg)\", fontsize=12)\n",
    "plt.show()"
   ]
  },
  {
   "cell_type": "markdown",
   "id": "fc4904f5",
   "metadata": {},
   "source": [
    "In this case, we see that neither feature is particularly skewed, and that the trend relating the two appears to be roughly linear. Let's use the function we defined earlier to fit a line to this data."
   ]
  },
  {
   "cell_type": "code",
   "execution_count": 11,
   "id": "06b2d2d9",
   "metadata": {},
   "outputs": [
    {
     "name": "stdout",
     "output_type": "stream",
     "text": [
      "alpha = 137.08690903754507, beta = 0.5124931451830912\n"
     ]
    },
    {
     "data": {
      "image/png": "[encoded data removed]",
      "text/plain": [
       "<Figure size 432x288 with 1 Axes>"
      ]
     },
     "metadata": {
      "filenames": {
       "image/png": "/Users/rythei/Library/CloudStorage/GoogleDrive-ryanctheisen@gmail.com/My Drive/PhD/Teaching/Stat151_Fall2022/linear-models/_build/jupyter_execute/content/basic_linear_regression/simple_linear_regression_21_1.png"
      },
      "needs_background": "light"
     },
     "output_type": "display_data"
    }
   ],
   "source": [
    "alpha_hat, beta_hat = fit_line(weight, height)\n",
    "print(f\"alpha = {alpha_hat}, beta = {beta_hat}\")\n",
    "\n",
    "xx = np.linspace(40,115,4)\n",
    "yy = alpha_hat + beta_hat*xx\n",
    "plt.scatter(weight, height)\n",
    "plt.plot(xx, yy, color='red', linestyle='--', label='line of best fit')\n",
    "plt.ylabel(\"height (cm)\", fontsize=12)\n",
    "plt.xlabel(\"weight (kg)\", fontsize=12)\n",
    "plt.legend()\n",
    "plt.show()"
   ]
  },
  {
   "cell_type": "markdown",
   "id": "bd397671",
   "metadata": {},
   "source": [
    "We see visually that the line does a reasonable job of fitting the data. Let's now interpret the coefficients. The intercept term is $\\hat{\\alpha} \\approx 137.1$, meaning that, at a weight of 0kg, the function $\\hat{\\alpha} + \\hat{\\beta}\\text{weight}$ would predict a height of 137cm! Of course, this does not make much sense. As we will discuss in this class, we need to be careful when we interpret such predictions.\n",
    "\n",
    "Next, let's consider the slope term $\\hat{\\beta} \\approx 0.51$. From the equation $\\text{height} \\approx \\hat{\\alpha} + \\hat{\\beta}\\text{weight}$, we see that we can interpret the coefficient $\\hat{\\beta}$ as follows: for a 1kg change in weight, we expect height to increase by approximately 0.5cm. More generally, the slope coefficient measures the expected _marginal_ change in the Y variable for a unit change in the X variable.\n",
    "\n",
    "Now let us return to our example of income and infant mortality, where our model was\n",
    "\n",
    "$$\n",
    "\\log_{10}(\\text{infant mortality rate}) = 3.1 - 0.51\\log_{10}(\\text{per-capita income}).\n",
    "$$\n",
    "\n",
    "In this case our interpretation is slightly more subtle than in the height-weight example. In particular, it is no longer the case that a $\\hat{\\beta}$ represents the marginal effect on the Y variable of a unit change in the X variable. Instead, $\\hat{\\beta}$ represents the marginal effect on the _log_-infant mortality rate of a unit change in _log_-per-capita income. But what does a unit change in log-per-capita income mean? Let's suppose we have two values of income, $x$ and $x'$, such that\n",
    "\n",
    "$$\n",
    "\\log_{10}(x) - \\log_{10}(x') = 1 \\implies \\log_{10}\\left(\\frac{x}{x'}\\right) =1 \\implies \\frac{x}{x'} = 10.\n",
    "$$\n",
    "\n",
    "Thus a unit change in (base-10) log-per-capita income corresponds to a _factor of 10_ increase in the original variable! This is generally the case when working with log units: it measures multiplicative changes, rather than additive changes. Since we also transformed the infant mortality rate variable, we need to apply a similar interpretation to it. When log-per-capita income increases by a 1 unit, log-infant mortality decreases by $\\approx 1/2$ units. To see what a decrease in log-infant mortality by $1/2$ means, we can check\n",
    "\n",
    "$$\n",
    "\\log_{10}(y) - \\log_{10}(y') = -1/2 \\implies \\frac{y}{y'} = 10^{-1/2} \\approx  1/3.\n",
    "$$\n",
    "\n",
    "So a decrease in log-infant mortality by $1/2$ correponds to decreasing infant mortality by a factor of approximately 3. Putting everything together, we can interpret the coefficient $\\hat{\\beta} = 0.51$ in terms of the untransformed variables as follows: increasing per-capita income by a factor of 10 will roughly results in a decrease in infant-mortality rate by a factor of 3. We can make similar interpretations for models that only transform the X variable and not the Y, or vice versa.\n",
    "\n",
    "It's important to note that when we make statements such as the interpretations above, it is under the assumption that the model we've proposed is approximately correct. At this stage, we do not have the necessary tools to quantitatively evaluate such an assumption, though in the coming sections we will develop a variety of ways to analyze and diagnose the quality of models we fit in a rigorous statistical framework."
   ]
  }
 ],
 "metadata": {
  "jupytext": {
   "text_representation": {
    "extension": ".md",
    "format_name": "myst",
    "format_version": 0.12,
    "jupytext_version": "1.9.1"
   }
  },
  "kernelspec": {
   "display_name": "Python 3",
   "language": "python",
   "name": "python3"
  },
  "language_info": {
   "codemirror_mode": {
    "name": "ipython",
    "version": 3
   },
   "file_extension": ".py",
   "mimetype": "text/x-python",
   "name": "python",
   "nbconvert_exporter": "python",
   "pygments_lexer": "ipython3",
   "version": "3.9.5"
  },
  "source_map": [
   12,
   22,
   28,
   32,
   45,
   56,
   73,
   77,
   80,
   86,
   91,
   130,
   149,
   153,
   156,
   160,
   169,
   175,
   177,
   181,
   189,
   193,
   205
  ]
 },
 "nbformat": 4,
 "nbformat_minor": 5
}