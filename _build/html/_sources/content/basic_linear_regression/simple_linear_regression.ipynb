{
 "cells": [
  {
   "cell_type": "markdown",
   "id": "a5362d82",
   "metadata": {},
   "source": [
    "# Simple linear regression\n",
    "\n",
    "Let's return to the infant mortality dataset that we used in the previous section. We again load the dataset using `pandas`:"
   ]
  },
  {
   "cell_type": "code",
   "execution_count": 1,
   "id": "37c6242c",
   "metadata": {},
   "outputs": [
    {
     "data": {
      "text/html": [
       "<div>\n",
       "<style scoped>\n",
       "    .dataframe tbody tr th:only-of-type {\n",
       "        vertical-align: middle;\n",
       "    }\n",
       "\n",
       "    .dataframe tbody tr th {\n",
       "        vertical-align: top;\n",
       "    }\n",
       "\n",
       "    .dataframe thead th {\n",
       "        text-align: right;\n",
       "    }\n",
       "</style>\n",
       "<table border=\"1\" class=\"dataframe\">\n",
       "  <thead>\n",
       "    <tr style=\"text-align: right;\">\n",
       "      <th></th>\n",
       "      <th>country</th>\n",
       "      <th>income</th>\n",
       "      <th>infant_mortality</th>\n",
       "      <th>region</th>\n",
       "      <th>oil</th>\n",
       "    </tr>\n",
       "  </thead>\n",
       "  <tbody>\n",
       "    <tr>\n",
       "      <th>0</th>\n",
       "      <td>Australia</td>\n",
       "      <td>3426</td>\n",
       "      <td>26.7</td>\n",
       "      <td>Asia</td>\n",
       "      <td>no</td>\n",
       "    </tr>\n",
       "    <tr>\n",
       "      <th>1</th>\n",
       "      <td>Austria</td>\n",
       "      <td>3350</td>\n",
       "      <td>23.7</td>\n",
       "      <td>Europe</td>\n",
       "      <td>no</td>\n",
       "    </tr>\n",
       "    <tr>\n",
       "      <th>2</th>\n",
       "      <td>Belgium</td>\n",
       "      <td>3346</td>\n",
       "      <td>17.0</td>\n",
       "      <td>Europe</td>\n",
       "      <td>no</td>\n",
       "    </tr>\n",
       "    <tr>\n",
       "      <th>3</th>\n",
       "      <td>Canada</td>\n",
       "      <td>4751</td>\n",
       "      <td>16.8</td>\n",
       "      <td>Americas</td>\n",
       "      <td>no</td>\n",
       "    </tr>\n",
       "    <tr>\n",
       "      <th>4</th>\n",
       "      <td>Denmark</td>\n",
       "      <td>5029</td>\n",
       "      <td>13.5</td>\n",
       "      <td>Europe</td>\n",
       "      <td>no</td>\n",
       "    </tr>\n",
       "  </tbody>\n",
       "</table>\n",
       "</div>"
      ],
      "text/plain": [
       "     country  income  infant_mortality    region oil\n",
       "0  Australia    3426              26.7      Asia  no\n",
       "1    Austria    3350              23.7    Europe  no\n",
       "2    Belgium    3346              17.0    Europe  no\n",
       "3     Canada    4751              16.8  Americas  no\n",
       "4    Denmark    5029              13.5    Europe  no"
      ]
     },
     "execution_count": 1,
     "metadata": {},
     "output_type": "execute_result"
    }
   ],
   "source": [
    "import pandas as pd\n",
    "\n",
    "mortality_data = pd.read_csv('datasets/infant_mortality.csv')\n",
    "mortality_data = mortality_data.dropna()\n",
    "mortality_data.head()"
   ]
  },
  {
   "cell_type": "markdown",
   "id": "c0f77a64",
   "metadata": {},
   "source": [
    "Now we can transform the features `income` and `infant_mortality` to the log scale, and plot a joint scatter plot of them."
   ]
  },
  {
   "cell_type": "code",
   "execution_count": 2,
   "id": "ca2b5bfb",
   "metadata": {},
   "outputs": [
    {
     "data": {
      "image/png": "[encoded data removed]",
      "text/plain": [
       "<Figure size 432x432 with 3 Axes>"
      ]
     },
     "metadata": {
      "filenames": {
       "image/png": "/Users/rythei/Library/CloudStorage/GoogleDrive-ryanctheisen@gmail.com/My Drive/PhD/Teaching/Stat151_Fall2022/linear-models/_build/jupyter_execute/content/basic_linear_regression/simple_linear_regression_3_0.png"
      },
      "needs_background": "light"
     },
     "output_type": "display_data"
    }
   ],
   "source": [
    "import matplotlib.pyplot as plt\n",
    "import seaborn as sns\n",
    "import numpy as np\n",
    "\n",
    "# calling .to_numpy() on a column of a DataFrame gives you a numpy array back\n",
    "log_income = np.log(mortality_data[\"income\"].to_numpy())\n",
    "log_infant_mortality = np.log(mortality_data[\"infant_mortality\"].to_numpy())\n",
    "\n",
    "sns.jointplot(x=log_infant_mortality, y=log_income)\n",
    "plt.xlabel(\"log(Infant mortality rate)\", fontsize=12)\n",
    "plt.ylabel(\"log(Per-capita income)\", fontsize=12)\n",
    "plt.show()"
   ]
  },
  {
   "cell_type": "markdown",
   "id": "390faa76",
   "metadata": {},
   "source": [
    "## Computing correlation\n",
    "Suppose we wanted to quantify the negative relationship between log-mortality and log-income. A simple way to do this would be with the Pearson correlation. For two vectors of observations $(x_1,\\dots, x_n)$ and $(y_1,\\dots,y_n)$, their Pearson correlation is computed as\n",
    "\n",
    "$$\n",
    "r = \\frac{\\text{Cov}(X, Y)}{\\sqrt{\\text{Var}(X)\\text{Var}(Y)}} = \\frac{\\sum_{i=1}^n (x_i - \\bar{x})(y_i-\\bar{y})}{\\sqrt{\\sum_{i=1}^n (x_i-\\bar{x})^2 \\sum_{i=1}^n (y_i - \\bar{y})^2}}.\n",
    "$$\n",
    "\n",
    "Let's write a simple python function that computes the pearson correlation."
   ]
  },
  {
   "cell_type": "code",
   "execution_count": 3,
   "id": "62cd3042",
   "metadata": {},
   "outputs": [],
   "source": [
    "def pearson_corr(x,y):\n",
    "    # first compute the means of the two vectors\n",
    "    x_bar = np.mean(x)\n",
    "    y_bar = np.mean(y)\n",
    "\n",
    "    # compute numerator (1/n)*\\sum_i (x_i - x_bar)*(y_i - y_bar)\n",
    "    cov_xy = np.sum((x-x_bar)*(y-y_bar))/len(x)\n",
    "\n",
    "    # compute the variance of x and y\n",
    "    var_x = np.sum((x-x_bar)**2)/len(x)\n",
    "    var_y = np.sum((y-y_bar)**2)/len(y)\n",
    "\n",
    "    # compute the correlation\n",
    "    r = cov_xy/np.sqrt(var_x*var_y)\n",
    "\n",
    "    return r"
   ]
  },
  {
   "cell_type": "markdown",
   "id": "d4ef67c6",
   "metadata": {},
   "source": [
    "Now we can use this function to compute the correlation between log-income and log-mortality:"
   ]
  },
  {
   "cell_type": "code",
   "execution_count": 4,
   "id": "f7f98863",
   "metadata": {},
   "outputs": [
    {
     "data": {
      "text/plain": [
       "-0.7086068160294183"
      ]
     },
     "execution_count": 4,
     "metadata": {},
     "output_type": "execute_result"
    }
   ],
   "source": [
    "r = pearson_corr(log_income, log_infant_mortality)\n",
    "r"
   ]
  },
  {
   "cell_type": "markdown",
   "id": "e7da29ae",
   "metadata": {},
   "source": [
    "Note that the Pearson correlation is bound between -1 and 1, with -1 indicating a perfect negative relationship between the features, and +1 indicating a perfect positive relationship between the features. Thus the observed value of $\\approx -.71$ suggesting, as we can see visually, a strong negative relationship between log-infant mortality and log-per-capita income.\n",
    "\n",
    "Of course, we don't really need to implement our own python function every time we want to compute the Pearson correlation. It's conveniently implemented in the `scipy.stats` library in python (which also includes a number of other methods that will be useful for statistics)."
   ]
  },
  {
   "cell_type": "code",
   "execution_count": 5,
   "id": "6cebd910",
   "metadata": {},
   "outputs": [
    {
     "data": {
      "text/plain": [
       "-0.7086068160294183"
      ]
     },
     "execution_count": 5,
     "metadata": {},
     "output_type": "execute_result"
    }
   ],
   "source": [
    "from scipy.stats import pearsonr\n",
    "\n",
    "r_2, _ = pearsonr(log_income, log_infant_mortality)\n",
    "r_2"
   ]
  },
  {
   "cell_type": "markdown",
   "id": "5c6d7726",
   "metadata": {},
   "source": [
    "Indeed, this method gives us the same result as we got with our own function.\n",
    "\n",
    "## Finding the line of best fit by minimizing the sum of squares\n",
    "Instead of just computing the correlation between the two features, we could also try to model the relationship by fitting a line to data. In particular, we want to find numbers $\\alpha$ and $\\beta$ such that\n",
    "\n",
    "$$\n",
    "\\log(\\text{per-capita income}) \\approx \\alpha + \\beta \\cdot \\log(\\text{infant mortality})\n",
    "$$\n",
    "\n",
    "To do this, we just need to find the values of $\\alpha$ and $\\beta$. Let's denote our obsevations of log-per-capita income by $(x_1,\\dots,x_n)$ and those of log-infant mortality as $(y_1,\\dots,y_n)$. Then one way to quantiatively choose $\\alpha,\\beta$ is by minimizing the sum of squared errors:\n",
    "\n",
    "$$\n",
    "\\text{SSE}(\\alpha, \\beta) = \\frac{1}{n}\\sum_{i=1}^n (y_i - (\\alpha +\\beta x_i))^2\n",
    "$$\n",
    "\n",
    "With a little bit of calculus, we can check that\n",
    "\n",
    "$$\n",
    "\\begin{align*}\n",
    "\\frac{\\partial}{\\partial \\alpha}\\text{SSE} &= -2\\sum_{i=1}^n (y_i - \\alpha - \\beta x_i) && \\text{and}\\\\\n",
    "\\frac{\\partial}{\\partial \\beta}\\text{SSE} &= -2\\sum_{i=1}^n x_i(y_i - \\alpha - \\beta x_i)\n",
    "\\end{align*}\n",
    "$$\n",
    "\n",
    "If we set these two derivatives equal to zero (to find the minimizers), we obtain the estimates $\\hat{\\alpha}$ and $\\hat{\\beta}$:\n",
    "\n",
    "$$\n",
    "\\begin{align*}\n",
    "\\hat{\\alpha} &= \\bar{y} - \\beta \\bar{x}\\\\\n",
    "\\hat{\\beta} &= \\frac{\\sum_{i=1}^n (x_i - \\bar{x})(y_i - \\bar{y})}{\\sum_{i=1}^n (x_i-\\bar{x})^2}\n",
    "\\end{align*}\n",
    "$$\n",
    "\n",
    "Note that the expression for $\\hat{\\beta}$ looks very reminiscent of our equation for the Pearson correlation. Let's write a python function that takes in two arrays $(x_1,\\dots,x_n)$ and $(y_1,\\dots,y_n)$ computes the estimates $\\hat{\\alpha}$ and $\\hat{\\beta}$."
   ]
  },
  {
   "cell_type": "code",
   "execution_count": 6,
   "id": "babb3212",
   "metadata": {},
   "outputs": [],
   "source": [
    "def fit_line(x, y):\n",
    "    # first compute the means of the two vectors\n",
    "    x_bar = np.mean(x)\n",
    "    y_bar = np.mean(y)\n",
    "\n",
    "    # compute numerator (1/n)*\\sum_i (x_i - x_bar)*(y_i - y_bar)\n",
    "    cov_xy = np.sum((x-x_bar)*(y-y_bar))/len(x)\n",
    "\n",
    "    # compute the variance of x and y\n",
    "    var_x = np.sum((x-x_bar)**2)/len(x)\n",
    "\n",
    "    # compute beta_hat\n",
    "    beta_hat = cov_xy/var_x\n",
    "\n",
    "    # compute alpha_hat\n",
    "    alpha_hat = y_bar - beta_hat*x_bar\n",
    "\n",
    "    return alpha_hat, beta_hat"
   ]
  },
  {
   "cell_type": "markdown",
   "id": "ee9c1c3b",
   "metadata": {},
   "source": [
    "Now let's use this to compute the coefficients for the line best fititng our data."
   ]
  },
  {
   "cell_type": "code",
   "execution_count": 7,
   "id": "9954eb48",
   "metadata": {},
   "outputs": [
    {
     "data": {
      "text/plain": [
       "(10.015182459015683, -0.9811044324011452)"
      ]
     },
     "execution_count": 7,
     "metadata": {},
     "output_type": "execute_result"
    }
   ],
   "source": [
    "alpha_hat, beta_hat = fit_line(log_infant_mortality, log_income)\n",
    "alpha_hat, beta_hat"
   ]
  },
  {
   "cell_type": "markdown",
   "id": "11a63f03",
   "metadata": {},
   "source": [
    "The intercept term $\\hat{\\alpha} \\approx 10.02$ indicates that the best fit line crosses the y-axis at $y\\approx 10.02$. The coefficient for the slope $\\hat{\\beta} \\approx -0.98$ again indicates the negative relationship between log-income and log-infant mortality. Let's overlay this line on top of our joint scatterplot."
   ]
  },
  {
   "cell_type": "code",
   "execution_count": 8,
   "id": "22b2135b",
   "metadata": {},
   "outputs": [
    {
     "data": {
      "image/png": "[encoded data removed]",
      "text/plain": [
       "<Figure size 432x288 with 1 Axes>"
      ]
     },
     "metadata": {
      "filenames": {
       "image/png": "/Users/rythei/Library/CloudStorage/GoogleDrive-ryanctheisen@gmail.com/My Drive/PhD/Teaching/Stat151_Fall2022/linear-models/_build/jupyter_execute/content/basic_linear_regression/simple_linear_regression_15_0.png"
      },
      "needs_background": "light"
     },
     "output_type": "display_data"
    }
   ],
   "source": [
    "xx = np.linspace(2,7,5)\n",
    "yy = alpha_hat + beta_hat*xx\n",
    "plt.scatter(log_infant_mortality, log_income)\n",
    "plt.plot(xx, yy, color='red', linestyle='--', label='line of best fit')\n",
    "plt.xlabel(\"log(Infant mortality rate)\", fontsize=12)\n",
    "plt.ylabel(\"log(Per-capita income)\", fontsize=12)\n",
    "plt.legend()\n",
    "plt.show()"
   ]
  },
  {
   "cell_type": "markdown",
   "id": "2f41160c",
   "metadata": {},
   "source": [
    "## Interpreting the coefficients of a line of best fit\n",
    "\n",
    "**todo**"
   ]
  }
 ],
 "metadata": {
  "jupytext": {
   "text_representation": {
    "extension": ".md",
    "format_name": "myst",
    "format_version": 0.12,
    "jupytext_version": "1.9.1"
   }
  },
  "kernelspec": {
   "display_name": "Python 3",
   "language": "python",
   "name": "python3"
  },
  "language_info": {
   "codemirror_mode": {
    "name": "ipython",
    "version": 3
   },
   "file_extension": ".py",
   "mimetype": "text/x-python",
   "name": "python",
   "nbconvert_exporter": "python",
   "pygments_lexer": "ipython3",
   "version": "3.9.5"
  },
  "source_map": [
   12,
   18,
   24,
   28,
   41,
   52,
   69,
   73,
   76,
   82,
   87,
   124,
   143,
   147,
   150,
   154,
   163
  ]
 },
 "nbformat": 4,
 "nbformat_minor": 5
}