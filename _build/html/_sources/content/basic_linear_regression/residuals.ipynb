{
 "cells": [
  {
   "cell_type": "markdown",
   "id": "b2c66132",
   "metadata": {},
   "source": [
    "# More on simple linear regression\n",
    "## A statistical model for linear regression\n",
    "\n",
    "Thus far, we've treated fitting a regression model in a mostly heuristic way, by transforming features until the observed trend looks to be approximately linear. This is not ideal, for two primary reasons: first, it does not allow us to easily quantify _how_ linear a trend is, and second, the visual method will quickly become unweidly as soon as we consider multiple predictor variables, which can't be visualized on a single 2-d plot.\n",
    "\n",
    "Thus, let's return to our simple linear model, and explicitly add in a term to account for noise. Suppose we start with a dataset of observations $(x_1,y_1),\\dots,(x_n, y_n)$, and that we suspect the variables $y_i$ can be predicted as a linear function of the variables $x_i$, subject to some noise. We can write this model as\n",
    "\n",
    "$$\n",
    "y_i = \\alpha + \\beta x_i + \\varepsilon_i\n",
    "$$\n",
    "\n",
    "The first part of this equation, $\\alpha + \\beta x_i$, is the same equation for a line that we saw earlier. However, now we've added a term $\\varepsilon_i$ representing noise, so that our observations don't lie _exactly_ on a line. Instead, we assume that the observed value of $y_i$ is equal to the values predicted by the line $\\hat{y}_i = \\alpha + \\beta x_i$, plus some noise $\\varepsilon_i$.\n",
    "\n",
    "Typically, we assume that the noise in our models satisfy some basic assumptions:\n",
    "\n",
    "1. The noise is mean zero, so $\\mathbb{E}[\\varepsilon_i] = 0$. This implies that the conditional mean of $y_i$ given $x_i$ is a linear function of $x_i$, since\n",
    "$$\n",
    "\\begin{align*}\n",
    "\\mathbb{E}[y_i \\mid x_i] &= \\mathbb{E}[\\alpha + \\beta x_i + \\varepsilon_i\\mid x_i]\\\\ &= \\alpha + \\beta x_i + \\underbrace{\\mathbb{E}[\\varepsilon_i]}_{=0}\\\\ &= \\alpha + \\beta x_i\n",
    "\\end{align*}\n",
    "$$\n",
    "2. The variance of the noise is the same regardless of the value of $x_i$: $\\text{Var}[\\varepsilon_i] = \\mathbb{E}[(\\varepsilon_i - \\mathbb{E}[\\varepsilon_i])^2] = \\mathbb{E}[\\varepsilon_i^2] \\equiv \\sigma^2_\\varepsilon$.\n",
    "3. The errors are independent and identically distributed across different observations.\n",
    "\n",
    "> Remark: in this setup, we are treating the observed values of $y_i$ as random, since they are a linear function plus some noise, but treating the values of $x_i$ as non-random. That is, we are never explicitly modeling a distribution over $x$ values.\n",
    "\n",
    "In future sections, we will consider additional assumptions on the error terms $\\varepsilon_i$ (in particular, we will assume that the errors come from a normal distribution), though this is not necessary for this section.\n",
    "\n",
    "\n",
    "## Evaluating the statistical model\n",
    "\n",
    "Now that we've formalized a statistical model for simple linear regression, we can develop some basic tools to evaluate how good of a fit the linear model is, and whether our statistical assumptions appear to hold.\n",
    "\n",
    "### Fitting the model using least squares\n",
    "\n",
    "Let's begin by returning to our example of height and weight from the previous section. First, we load in the dataset using `pandas`."
   ]
  },
  {
   "cell_type": "code",
   "execution_count": 1,
   "id": "3d1fadcc",
   "metadata": {},
   "outputs": [],
   "source": [
    "import pandas as pd\n",
    "\n",
    "height_weight_data = pd.read_csv(\"datasets/height_weight.csv\")"
   ]
  },
  {
   "cell_type": "markdown",
   "id": "7f024ed9",
   "metadata": {},
   "source": [
    "The model we're going to try to fit is\n",
    "\n",
    "$$\n",
    "\\text{height}_i = \\alpha + \\beta \\text{weight}_i + \\varepsilon_i.\n",
    "$$\n",
    "\n",
    "Recall that we found the coefficients $\\alpha,\\beta$ by minimizing the sum of squared errors\n",
    "\n",
    "$$\n",
    "\\sum_{i=1}^n (y_i - (\\alpha+ \\beta x_i))^2\n",
    "$$\n",
    "\n",
    "which, with some calculus, gives the solutions\n",
    "\n",
    "$$\n",
    "\\begin{align*}\n",
    "\\hat{\\alpha} &= \\bar{y} - \\hat{\\beta} \\bar{x}\\\\\n",
    "\\hat{\\beta} &= \\frac{\\sum_{i=1}^n (x_i - \\bar{x})(y_i - \\bar{y})}{\\sum_{i=1}^n (x_i-\\bar{x})^2}\n",
    "\\end{align*}\n",
    "$$\n",
    "\n",
    "Note that since we found these solutions by minimizing the sum of squared errors, these solutions are often called the _least-squares solutions_ to the linear regression problem.\n",
    "\n",
    "Now let's define the same function as before to find the least-squares coefficients."
   ]
  },
  {
   "cell_type": "code",
   "execution_count": 2,
   "id": "79688569",
   "metadata": {},
   "outputs": [],
   "source": [
    "import numpy as np\n",
    "\n",
    "def fit_line(x, y):\n",
    "    # first compute the means of the two vectors\n",
    "    x_bar = np.mean(x)\n",
    "    y_bar = np.mean(y)\n",
    "\n",
    "    # compute numerator (1/n)*\\sum_i (x_i - x_bar)*(y_i - y_bar)\n",
    "    cov_xy = np.sum((x-x_bar)*(y-y_bar))/len(x)\n",
    "\n",
    "    # compute the variance of x and y\n",
    "    var_x = np.sum((x-x_bar)**2)/len(x)\n",
    "\n",
    "    # compute beta_hat\n",
    "    beta_hat = cov_xy/var_x\n",
    "\n",
    "    # compute alpha_hat\n",
    "    alpha_hat = y_bar - beta_hat*x_bar\n",
    "\n",
    "    return alpha_hat, beta_hat"
   ]
  },
  {
   "cell_type": "markdown",
   "id": "1224aee6",
   "metadata": {},
   "source": [
    "Next, let's create a joint plot of height against weight, and overlay the fitted regression line."
   ]
  },
  {
   "cell_type": "code",
   "execution_count": 3,
   "id": "96a601a9",
   "metadata": {},
   "outputs": [
    {
     "name": "stdout",
     "output_type": "stream",
     "text": [
      "alpha = 137.08690903754507, beta = 0.5124931451830912\n"
     ]
    },
    {
     "data": {
      "image/png": "[encoded data removed]",
      "text/plain": [
       "<Figure size 432x288 with 1 Axes>"
      ]
     },
     "metadata": {
      "filenames": {
       "image/png": "/Users/rythei/Library/CloudStorage/GoogleDrive-ryanctheisen@gmail.com/My Drive/PhD/Teaching/Stat151_Fall2022/linear-models/_build/jupyter_execute/content/basic_linear_regression/residuals_5_1.png"
      },
      "needs_background": "light"
     },
     "output_type": "display_data"
    }
   ],
   "source": [
    "import matplotlib.pyplot as plt\n",
    "\n",
    "weight = height_weight_data[\"weight\"].to_numpy()\n",
    "height = height_weight_data[\"height\"].to_numpy()\n",
    "\n",
    "alpha_hat, beta_hat = fit_line(weight, height)\n",
    "print(f\"alpha = {alpha_hat}, beta = {beta_hat}\")\n",
    "\n",
    "xx = np.linspace(40,115,4)\n",
    "yy = alpha_hat + beta_hat*xx\n",
    "plt.scatter(weight, height)\n",
    "plt.plot(xx, yy, color='red', linestyle='--', label='line of best fit')\n",
    "plt.ylabel(\"height (cm)\", fontsize=12)\n",
    "plt.xlabel(\"weight (kg)\", fontsize=12)\n",
    "plt.legend()\n",
    "plt.show()"
   ]
  },
  {
   "cell_type": "markdown",
   "id": "6b61bebd",
   "metadata": {},
   "source": [
    "### Inspecting the residuals\n",
    "\n",
    "Given a fitted regression model\n",
    "\n",
    "$$\n",
    "\\hat{y}_i = \\hat{\\alpha} + \\hat{\\beta} x_i,\n",
    "$$\n",
    "\n",
    "the term quantity $r_i = y_i - \\hat{y}_i$ is called the $i^{th}$ _residual_, and measures the error in the prediction of the $i^{th}$ observation. Note that the residual is a signed quantity, meaning it can be positive or negative depending on whether the observed value $y_i$ is above or below the fitted line $\\hat{\\alpha} + \\hat{\\beta} x_i$.\n",
    "\n",
    "Note that the residual $r_i$ is a natural estimate of the observed error value $\\varepsilon_i$. Therefore, inspecting the residuals can give us information about the distribution of errors in our statistical model.\n",
    "\n",
    "First, let's compute the residuals for the height/weight regression we've just performed."
   ]
  },
  {
   "cell_type": "code",
   "execution_count": 4,
   "id": "afa621f6",
   "metadata": {},
   "outputs": [],
   "source": [
    "# compute the predicted height values using the linear model\n",
    "height_hat = alpha_hat + beta_hat*weight\n",
    "\n",
    "# compute the residuals\n",
    "residuals = height - height_hat"
   ]
  },
  {
   "cell_type": "markdown",
   "id": "b59a49a0",
   "metadata": {},
   "source": [
    "Now recall that our first assumption about the errors $\\varepsilon_i$ was that they were mean zero, and from our third assumption they are independent and identically distributed across observations. This means that the residuals should also have mean zero. Let's compute the mean and see if this is true."
   ]
  },
  {
   "cell_type": "code",
   "execution_count": 5,
   "id": "bcff4913",
   "metadata": {},
   "outputs": [
    {
     "data": {
      "text/plain": [
       "1.736882242969134e-14"
      ]
     },
     "execution_count": 5,
     "metadata": {},
     "output_type": "execute_result"
    }
   ],
   "source": [
    "residual_mean = np.mean(residuals)\n",
    "residual_mean"
   ]
  },
  {
   "cell_type": "markdown",
   "id": "7f7c7e0f",
   "metadata": {},
   "source": [
    "Indeed, the mean (up to numerical precision) exactly zero! It turns out that for the least squares fit, this is mathematically always true, since\n",
    "\n",
    "$$\n",
    "\\begin{align*}\n",
    "\\bar{r} &= \\frac{1}{n}\\sum_{i=1}^n r_i \\\\&= \\frac{1}{n}\\sum_{i=1}^n (y_i - \\hat{y_i})\\\\ &= \\bar{y} - \\frac{1}{n}\\sum_{i=1}^n \\hat{y}_i \\\\ &= \\bar{y} -  \\frac{1}{n}\\sum_{i=1}^n (\\hat{\\alpha} + \\hat{\\beta} x_i)\\\\\n",
    "&= \\bar{y} - \\hat{\\alpha} - \\hat{\\beta}\\bar{x}\\\\\n",
    "&= \\bar{y} - (\\bar{y} - \\hat{\\beta}\\bar{x}) - \\hat{\\beta}\\bar{x}\\\\\n",
    "&= 0\n",
    "\\end{align*}\n",
    "$$\n",
    "\n",
    "where for the second to last line we used the fact that $\\hat{\\alpha} = \\bar{y} - \\hat{\\beta}\\bar{x}$.\n",
    "\n",
    "\n",
    "Since the mean is always zero, we can estimate the variance $\\sigma^2_\\varepsilon$ of the errors by computing the variance of the residuals, which is given by\n",
    "\n",
    "$$\n",
    "\\frac{1}{n}\\sum_{i=1}^n (r_i - \\bar{r})^2 = \\frac{1}{n}\\sum_{i=1}^n r_i^2 = \\frac{1}{n}\\sum_{i=1}^n (y_i - \\hat{y}_i)^2.\n",
    "$$\n",
    "\n",
    "In python, we can find this with the following."
   ]
  },
  {
   "cell_type": "code",
   "execution_count": 6,
   "id": "12f89a65",
   "metadata": {},
   "outputs": [
    {
     "data": {
      "text/plain": [
       "32.82880880231438"
      ]
     },
     "execution_count": 6,
     "metadata": {},
     "output_type": "execute_result"
    }
   ],
   "source": [
    "residual_variance = np.mean(residuals**2)\n",
    "residual_variance"
   ]
  },
  {
   "cell_type": "markdown",
   "id": "b79957e5",
   "metadata": {},
   "source": [
    "Note that sometimes we use slightly different estimates for the variance, in particular you may see the quantity\n",
    "\n",
    "$$\n",
    "\\frac{1}{n-2}\\sum_{i=1}^n r_i^2\n",
    "$$\n",
    "\n",
    "used instead. When the number of samples $n$ is reasonably large, the difference is typically negligible. However, we will address these cases later when they arise.\n",
    "\n",
    "The variance itself is a bit difficult to interpret, since it is not measured in the same units as the variable height itself. Instead, it is often easier to work with the square root of the variance, the standard deviation (or standard error) of the residuals."
   ]
  },
  {
   "cell_type": "code",
   "execution_count": 7,
   "id": "eb258336",
   "metadata": {},
   "outputs": [
    {
     "data": {
      "text/plain": [
       "5.729642990825377"
      ]
     },
     "execution_count": 7,
     "metadata": {},
     "output_type": "execute_result"
    }
   ],
   "source": [
    "residual_std = np.sqrt(residual_variance)\n",
    "residual_std"
   ]
  },
  {
   "cell_type": "markdown",
   "id": "b7622cf3",
   "metadata": {},
   "source": [
    "The standard deviation of $\\approx 5.7$ tells us that, on average, our predictions based on the linear model are off by about $5.7$kg (or approximately $11$lbs).\n",
    "\n",
    "In addition to computing individual statistics like the mean and the variance, we can inspect the entire distribution of residuals by plotting a histogram."
   ]
  },
  {
   "cell_type": "code",
   "execution_count": 8,
   "id": "8051c0f9",
   "metadata": {},
   "outputs": [
    {
     "data": {
      "image/png": "[encoded data removed]",
      "text/plain": [
       "<Figure size 432x288 with 1 Axes>"
      ]
     },
     "metadata": {
      "filenames": {
       "image/png": "/Users/rythei/Library/CloudStorage/GoogleDrive-ryanctheisen@gmail.com/My Drive/PhD/Teaching/Stat151_Fall2022/linear-models/_build/jupyter_execute/content/basic_linear_regression/residuals_15_0.png"
      },
      "needs_background": "light"
     },
     "output_type": "display_data"
    }
   ],
   "source": [
    "plt.hist(residuals, bins=10, density=True)\n",
    "plt.xlabel(\"Residuals\", fontsize=12)\n",
    "plt.show()"
   ]
  },
  {
   "cell_type": "markdown",
   "id": "fff661d8",
   "metadata": {},
   "source": [
    "From this histogram, it appears that the residuals follow a symmetric distribution with mean zero. It may even be reasonable to assume that these residuals follow a normal distribution. Indeed, soon we will do precisely this, which will give us more tools for evaluating regression models and performing statistical tests.\n",
    "\n",
    "### The RSS, TSS and $R^2$\n",
    "\n",
    "Besides looking at quantities like the variance or standard deviation of the residuals to assess the quality of fit, it is often useful to consider _relative_ measures of fit. That is, a measure which tells us how much better our fit is than some naive baseline. One such measure is the (squared) correlation coefficient, or $R^2$, which we derive here.\n",
    "\n",
    "First, we need to define our baseline model. For this, we consider the even simpler model, which predicts $y_i$ as a constant plus some noise, so\n",
    "\n",
    "$$\n",
    "y_i = \\alpha + \\varepsilon_i.\n",
    "$$\n",
    "\n",
    "It turns out that if we fit this model by minimizing $\\sum_i (y_i - \\hat{\\alpha})^2$, the solution is $\\hat{\\alpha} = \\bar{y}$. We call the total error produced by this model the _total sum of squares_, or TSS, which is given by\n",
    "\n",
    "$$\n",
    "\\text{TSS} = \\sum_{i=1}^n (y_i - \\bar{y})^2.\n",
    "$$\n",
    "\n",
    "The $TSS$ is also a measure of the intrinsic variance in the variable $Y$, independent of any predictor variables $x$.\n",
    "\n",
    "We wish to compare this error to the error from the linear regression model, which is called the _residual sum of squares_, or RSS, and is given by\n",
    "\n",
    "$$\n",
    "\\text{RSS} = \\sum_{i=1}^n (y_i - (\\hat{\\alpha} + \\hat{\\beta}x_i))^2.\n",
    "$$\n",
    "\n",
    "> Note that the RSS is really the same thing as the sum of squared errors SSE that we minimized to find the least squares fit. You may see both terms used, though traditionally when discussing regression diagonistics and $R^2$, the RSS seems to be the preferred terminology.\n",
    "\n",
    "Now if our linear regression model is any good, we may hope that the difference between these two errors is large. We call this difference the _regression sum of squares_ or RegSS, which is given by\n",
    "\n",
    "$$\n",
    "\\text{RegSS} = \\text{TSS} - \\text{RSS}.\n",
    "$$\n",
    "\n",
    "The regression sum of squares captures how much the error is reduced by consider the variable $x$ in the regression. The ratio of RegSS to TSS captures the proportion of error reduced by considering the variable $x$ in the regression, and is called the $R^2 = \\text{RegSS}/\\text{TSS}$. Intuitively, the $R^2$ value tells us what proportion of variance in the response variable $y$ can be explained by considering the predictor variable $x$.\n",
    "\n",
    "Let's compute the RSS, TSS, RegSS and $R^2$ for our height/weight model in python. Let's start with the total sum of squares."
   ]
  },
  {
   "cell_type": "code",
   "execution_count": 9,
   "id": "4ab36d93",
   "metadata": {},
   "outputs": [],
   "source": [
    "height_bar = np.mean(height)\n",
    "TSS = np.sum((height - height_bar)**2)"
   ]
  },
  {
   "cell_type": "markdown",
   "id": "2fb0eff1",
   "metadata": {},
   "source": [
    "Next, we can compute the RSS and the RegSS."
   ]
  },
  {
   "cell_type": "code",
   "execution_count": 10,
   "id": "075f40f5",
   "metadata": {},
   "outputs": [],
   "source": [
    "RSS = np.sum((height - height_hat)**2)\n",
    "RegSS = TSS - RSS"
   ]
  },
  {
   "cell_type": "markdown",
   "id": "5dbd25b2",
   "metadata": {},
   "source": [
    "Finally, we can compute the $R^2$ value."
   ]
  },
  {
   "cell_type": "code",
   "execution_count": 11,
   "id": "4bef56c3",
   "metadata": {},
   "outputs": [
    {
     "data": {
      "text/plain": [
       "0.5899403156425961"
      ]
     },
     "execution_count": 11,
     "metadata": {},
     "output_type": "execute_result"
    }
   ],
   "source": [
    "R2 = RegSS/TSS\n",
    "R2"
   ]
  },
  {
   "cell_type": "markdown",
   "id": "e9cebfed",
   "metadata": {},
   "source": [
    "## Problems\n",
    "\n",
    "1. Using basic calculus, show that $\\text{argmin}_{\\alpha} \\sum_{i=1}^n (y_i - \\alpha)^2 = \\bar{y}$.\n",
    "2. Show that $\\text{RSS} \\leq \\text{TSS}$\n",
    "3. Show that $TSS - RSS = \\sum_{i=1}^n (\\hat{y}_i - \\bar{y})^2."
   ]
  }
 ],
 "metadata": {
  "jupytext": {
   "text_representation": {
    "extension": ".md",
    "format_name": "myst",
    "format_version": 0.12,
    "jupytext_version": "1.9.1"
   }
  },
  "kernelspec": {
   "display_name": "Python 3",
   "language": "python",
   "name": "python3"
  },
  "language_info": {
   "codemirror_mode": {
    "name": "ipython",
    "version": 3
   },
   "file_extension": ".py",
   "mimetype": "text/x-python",
   "name": "python",
   "nbconvert_exporter": "python",
   "pygments_lexer": "ipython3",
   "version": "3.9.5"
  },
  "source_map": [
   12,
   51,
   55,
   82,
   103,
   107,
   124,
   140,
   146,
   150,
   153,
   177,
   180,
   192,
   195,
   201,
   205,
   245,
   248,
   252,
   255,
   259,
   262
  ]
 },
 "nbformat": 4,
 "nbformat_minor": 5
}