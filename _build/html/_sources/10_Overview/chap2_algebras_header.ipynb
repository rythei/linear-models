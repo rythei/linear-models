{
 "cells": [
  {
   "cell_type": "markdown",
   "id": "played-commerce",
   "metadata": {},
   "source": [
    "# (CH2): Algebra, algebras, and functions\n",
    "\n",
    "An algebra is a specific mathematical structure defined by a specific set of symbols and a specific set of rules for manipulating those symbols.\n",
    "For example, linear algebra, as opposed to elementary high school algebra or Boolean algebra or abstract algebra.\n",
    "\n",
    "In this chapter, we will give several examples of algebras that will be useful for the study of linear algebra, including the algebra of sets, and the algebra of transformations/functions.\n",
    "We want to illustrate several things.\n",
    "\n",
    "- How to perform basic set operations in python.\n",
    "\n",
    "- How to read a python data frame and perform basic operations on it. \n",
    "\n",
    "- How basic set theory operations relate to basic data frame operations. \n",
    "\n",
    "- Basic operations on functions and how they can be implemented with data frame operations (including composition of functions, associativity of composition, idempotent functions, and two views of idempotence)\n",
    "\n",
    "- Surjective/injective functions and right/left inverses, including non-uniqueness, and examples with data frames\n",
    "\n",
    "- Generalized inverses and inverses and examples with data frames\n",
    "\n",
    "We will illustrate these concepts with a data frame we read in, and we'll ask you to work through them on different tables that you read in.\n",
    "\n",
    "\n",
    "\n",
    "```{toctree}\n",
    ":hidden:\n",
    ":titlesonly:\n",
    "\n",
    "\n",
    "chap2_sets\n",
    "chap2_basic-table-operations\n",
    "hw01\n",
    "chap2_functions-and-compositions\n",
    "hw02\n",
    "chap2_injective-functions-and-left-inverses\n",
    "chap2_surjective-functions-and-right-inverses\n",
    "chap2_generalized-inverses\n",
    "hw03\n",
    "```"
   ]
  }
 ],
 "metadata": {
  "jupytext": {
   "text_representation": {
    "extension": ".md",
    "format_name": "myst",
    "format_version": 0.12,
    "jupytext_version": "1.9.1"
   }
  },
  "kernelspec": {
   "display_name": "Python 3",
   "language": "python",
   "name": "python3"
  },
  "language_info": {
   "codemirror_mode": {
    "name": "ipython",
    "version": 3
   },
   "file_extension": ".py",
   "mimetype": "text/x-python",
   "name": "python",
   "nbconvert_exporter": "python",
   "pygments_lexer": "ipython3",
   "version": "3.7.7"
  },
  "source_map": [
   12
  ]
 },
 "nbformat": 4,
 "nbformat_minor": 5
}