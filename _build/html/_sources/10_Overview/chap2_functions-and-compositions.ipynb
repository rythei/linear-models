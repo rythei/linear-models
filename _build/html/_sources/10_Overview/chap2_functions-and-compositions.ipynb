{
 "cells": [
  {
   "cell_type": "markdown",
   "id": "defined-service",
   "metadata": {},
   "source": [
    "# Functions and Compositions\n",
    "\n",
    "In this section, we will continue with data frames, and we will use them to discuss functions and the composition of functions.  \n",
    "Topics to be covered include the following.\n",
    "\n",
    "- Binary relations, functions, and defining functions in terms of basic data frame operations.\n",
    "- Image/preimage of functions and restrictions of functions.\n",
    "- Composition of functions, and how to use data frame operations to compose two functions together.\n",
    "- Associativity of function composition.\n",
    "- Identity versus idempotence.\n",
    "\n",
    "We will again work with the `students` dataset, which we import below."
   ]
  },
  {
   "cell_type": "code",
   "execution_count": 1,
   "id": "pressing-roots",
   "metadata": {},
   "outputs": [
    {
     "ename": "FileNotFoundError",
     "evalue": "[Errno 2] No such file or directory: '../datasets/circuit_courts.csv'",
     "output_type": "error",
     "traceback": [
      "\u001b[0;31m---------------------------------------------------------------------------\u001b[0m",
      "\u001b[0;31mFileNotFoundError\u001b[0m                         Traceback (most recent call last)",
      "\u001b[0;32m<ipython-input-1-faf3a7d27977>\u001b[0m in \u001b[0;36m<module>\u001b[0;34m\u001b[0m\n\u001b[1;32m      1\u001b[0m \u001b[0;32mimport\u001b[0m \u001b[0mpandas\u001b[0m \u001b[0;32mas\u001b[0m \u001b[0mpd\u001b[0m\u001b[0;34m\u001b[0m\u001b[0;34m\u001b[0m\u001b[0m\n\u001b[0;32m----> 2\u001b[0;31m \u001b[0;32mfrom\u001b[0m \u001b[0mdatasets\u001b[0m \u001b[0;32mimport\u001b[0m \u001b[0mstudents\u001b[0m\u001b[0;34m\u001b[0m\u001b[0;34m\u001b[0m\u001b[0m\n\u001b[0m\u001b[1;32m      3\u001b[0m \u001b[0mstudents\u001b[0m\u001b[0;34m.\u001b[0m\u001b[0mhead\u001b[0m\u001b[0;34m(\u001b[0m\u001b[0;34m)\u001b[0m\u001b[0;34m\u001b[0m\u001b[0;34m\u001b[0m\u001b[0m\n",
      "\u001b[0;32m/Volumes/GoogleDrive-112349428810515690974/My Drive/PhD/Teaching/Stat89A_Spring2022/linalg-for-datasci/10_Overview/datasets.py\u001b[0m in \u001b[0;36m<module>\u001b[0;34m\u001b[0m\n\u001b[1;32m      5\u001b[0m \u001b[0mHERE\u001b[0m \u001b[0;34m=\u001b[0m \u001b[0;34m\"../datasets/\"\u001b[0m\u001b[0;34m\u001b[0m\u001b[0;34m\u001b[0m\u001b[0m\n\u001b[1;32m      6\u001b[0m \u001b[0;34m\u001b[0m\u001b[0m\n\u001b[0;32m----> 7\u001b[0;31m \u001b[0mcircuit_courts\u001b[0m \u001b[0;34m=\u001b[0m \u001b[0mpd\u001b[0m\u001b[0;34m.\u001b[0m\u001b[0mread_csv\u001b[0m\u001b[0;34m(\u001b[0m\u001b[0mos\u001b[0m\u001b[0;34m.\u001b[0m\u001b[0mpath\u001b[0m\u001b[0;34m.\u001b[0m\u001b[0mjoin\u001b[0m\u001b[0;34m(\u001b[0m\u001b[0mHERE\u001b[0m\u001b[0;34m,\u001b[0m \u001b[0;34m\"circuit_courts.csv\"\u001b[0m\u001b[0;34m)\u001b[0m\u001b[0;34m)\u001b[0m\u001b[0;34m\u001b[0m\u001b[0;34m\u001b[0m\u001b[0m\n\u001b[0m\u001b[1;32m      8\u001b[0m \u001b[0;34m\u001b[0m\u001b[0m\n\u001b[1;32m      9\u001b[0m \u001b[0mdiscretized_functions\u001b[0m \u001b[0;34m=\u001b[0m \u001b[0mpd\u001b[0m\u001b[0;34m.\u001b[0m\u001b[0mread_csv\u001b[0m\u001b[0;34m(\u001b[0m\u001b[0mos\u001b[0m\u001b[0;34m.\u001b[0m\u001b[0mpath\u001b[0m\u001b[0;34m.\u001b[0m\u001b[0mjoin\u001b[0m\u001b[0;34m(\u001b[0m\u001b[0mHERE\u001b[0m\u001b[0;34m,\u001b[0m \u001b[0;34m\"discretized_functions.csv\"\u001b[0m\u001b[0;34m)\u001b[0m\u001b[0;34m)\u001b[0m\u001b[0;34m\u001b[0m\u001b[0;34m\u001b[0m\u001b[0m\n",
      "\u001b[0;32m/usr/local/lib/python3.7/site-packages/pandas/io/parsers.py\u001b[0m in \u001b[0;36mread_csv\u001b[0;34m(filepath_or_buffer, sep, delimiter, header, names, index_col, usecols, squeeze, prefix, mangle_dupe_cols, dtype, engine, converters, true_values, false_values, skipinitialspace, skiprows, skipfooter, nrows, na_values, keep_default_na, na_filter, verbose, skip_blank_lines, parse_dates, infer_datetime_format, keep_date_col, date_parser, dayfirst, cache_dates, iterator, chunksize, compression, thousands, decimal, lineterminator, quotechar, quoting, doublequote, escapechar, comment, encoding, dialect, error_bad_lines, warn_bad_lines, delim_whitespace, low_memory, memory_map, float_precision, storage_options)\u001b[0m\n\u001b[1;32m    603\u001b[0m     \u001b[0mkwds\u001b[0m\u001b[0;34m.\u001b[0m\u001b[0mupdate\u001b[0m\u001b[0;34m(\u001b[0m\u001b[0mkwds_defaults\u001b[0m\u001b[0;34m)\u001b[0m\u001b[0;34m\u001b[0m\u001b[0;34m\u001b[0m\u001b[0m\n\u001b[1;32m    604\u001b[0m \u001b[0;34m\u001b[0m\u001b[0m\n\u001b[0;32m--> 605\u001b[0;31m     \u001b[0;32mreturn\u001b[0m \u001b[0m_read\u001b[0m\u001b[0;34m(\u001b[0m\u001b[0mfilepath_or_buffer\u001b[0m\u001b[0;34m,\u001b[0m \u001b[0mkwds\u001b[0m\u001b[0;34m)\u001b[0m\u001b[0;34m\u001b[0m\u001b[0;34m\u001b[0m\u001b[0m\n\u001b[0m\u001b[1;32m    606\u001b[0m \u001b[0;34m\u001b[0m\u001b[0m\n\u001b[1;32m    607\u001b[0m \u001b[0;34m\u001b[0m\u001b[0m\n",
      "\u001b[0;32m/usr/local/lib/python3.7/site-packages/pandas/io/parsers.py\u001b[0m in \u001b[0;36m_read\u001b[0;34m(filepath_or_buffer, kwds)\u001b[0m\n\u001b[1;32m    455\u001b[0m \u001b[0;34m\u001b[0m\u001b[0m\n\u001b[1;32m    456\u001b[0m     \u001b[0;31m# Create the parser.\u001b[0m\u001b[0;34m\u001b[0m\u001b[0;34m\u001b[0m\u001b[0;34m\u001b[0m\u001b[0m\n\u001b[0;32m--> 457\u001b[0;31m     \u001b[0mparser\u001b[0m \u001b[0;34m=\u001b[0m \u001b[0mTextFileReader\u001b[0m\u001b[0;34m(\u001b[0m\u001b[0mfilepath_or_buffer\u001b[0m\u001b[0;34m,\u001b[0m \u001b[0;34m**\u001b[0m\u001b[0mkwds\u001b[0m\u001b[0;34m)\u001b[0m\u001b[0;34m\u001b[0m\u001b[0;34m\u001b[0m\u001b[0m\n\u001b[0m\u001b[1;32m    458\u001b[0m \u001b[0;34m\u001b[0m\u001b[0m\n\u001b[1;32m    459\u001b[0m     \u001b[0;32mif\u001b[0m \u001b[0mchunksize\u001b[0m \u001b[0;32mor\u001b[0m \u001b[0miterator\u001b[0m\u001b[0;34m:\u001b[0m\u001b[0;34m\u001b[0m\u001b[0;34m\u001b[0m\u001b[0m\n",
      "\u001b[0;32m/usr/local/lib/python3.7/site-packages/pandas/io/parsers.py\u001b[0m in \u001b[0;36m__init__\u001b[0;34m(self, f, engine, **kwds)\u001b[0m\n\u001b[1;32m    812\u001b[0m             \u001b[0mself\u001b[0m\u001b[0;34m.\u001b[0m\u001b[0moptions\u001b[0m\u001b[0;34m[\u001b[0m\u001b[0;34m\"has_index_names\"\u001b[0m\u001b[0;34m]\u001b[0m \u001b[0;34m=\u001b[0m \u001b[0mkwds\u001b[0m\u001b[0;34m[\u001b[0m\u001b[0;34m\"has_index_names\"\u001b[0m\u001b[0;34m]\u001b[0m\u001b[0;34m\u001b[0m\u001b[0;34m\u001b[0m\u001b[0m\n\u001b[1;32m    813\u001b[0m \u001b[0;34m\u001b[0m\u001b[0m\n\u001b[0;32m--> 814\u001b[0;31m         \u001b[0mself\u001b[0m\u001b[0;34m.\u001b[0m\u001b[0m_engine\u001b[0m \u001b[0;34m=\u001b[0m \u001b[0mself\u001b[0m\u001b[0;34m.\u001b[0m\u001b[0m_make_engine\u001b[0m\u001b[0;34m(\u001b[0m\u001b[0mself\u001b[0m\u001b[0;34m.\u001b[0m\u001b[0mengine\u001b[0m\u001b[0;34m)\u001b[0m\u001b[0;34m\u001b[0m\u001b[0;34m\u001b[0m\u001b[0m\n\u001b[0m\u001b[1;32m    815\u001b[0m \u001b[0;34m\u001b[0m\u001b[0m\n\u001b[1;32m    816\u001b[0m     \u001b[0;32mdef\u001b[0m \u001b[0mclose\u001b[0m\u001b[0;34m(\u001b[0m\u001b[0mself\u001b[0m\u001b[0;34m)\u001b[0m\u001b[0;34m:\u001b[0m\u001b[0;34m\u001b[0m\u001b[0;34m\u001b[0m\u001b[0m\n",
      "\u001b[0;32m/usr/local/lib/python3.7/site-packages/pandas/io/parsers.py\u001b[0m in \u001b[0;36m_make_engine\u001b[0;34m(self, engine)\u001b[0m\n\u001b[1;32m   1043\u001b[0m             )\n\u001b[1;32m   1044\u001b[0m         \u001b[0;31m# error: Too many arguments for \"ParserBase\"\u001b[0m\u001b[0;34m\u001b[0m\u001b[0;34m\u001b[0m\u001b[0;34m\u001b[0m\u001b[0m\n\u001b[0;32m-> 1045\u001b[0;31m         \u001b[0;32mreturn\u001b[0m \u001b[0mmapping\u001b[0m\u001b[0;34m[\u001b[0m\u001b[0mengine\u001b[0m\u001b[0;34m]\u001b[0m\u001b[0;34m(\u001b[0m\u001b[0mself\u001b[0m\u001b[0;34m.\u001b[0m\u001b[0mf\u001b[0m\u001b[0;34m,\u001b[0m \u001b[0;34m**\u001b[0m\u001b[0mself\u001b[0m\u001b[0;34m.\u001b[0m\u001b[0moptions\u001b[0m\u001b[0;34m)\u001b[0m  \u001b[0;31m# type: ignore[call-arg]\u001b[0m\u001b[0;34m\u001b[0m\u001b[0;34m\u001b[0m\u001b[0m\n\u001b[0m\u001b[1;32m   1046\u001b[0m \u001b[0;34m\u001b[0m\u001b[0m\n\u001b[1;32m   1047\u001b[0m     \u001b[0;32mdef\u001b[0m \u001b[0m_failover_to_python\u001b[0m\u001b[0;34m(\u001b[0m\u001b[0mself\u001b[0m\u001b[0;34m)\u001b[0m\u001b[0;34m:\u001b[0m\u001b[0;34m\u001b[0m\u001b[0;34m\u001b[0m\u001b[0m\n",
      "\u001b[0;32m/usr/local/lib/python3.7/site-packages/pandas/io/parsers.py\u001b[0m in \u001b[0;36m__init__\u001b[0;34m(self, src, **kwds)\u001b[0m\n\u001b[1;32m   1860\u001b[0m \u001b[0;34m\u001b[0m\u001b[0m\n\u001b[1;32m   1861\u001b[0m         \u001b[0;31m# open handles\u001b[0m\u001b[0;34m\u001b[0m\u001b[0;34m\u001b[0m\u001b[0;34m\u001b[0m\u001b[0m\n\u001b[0;32m-> 1862\u001b[0;31m         \u001b[0mself\u001b[0m\u001b[0;34m.\u001b[0m\u001b[0m_open_handles\u001b[0m\u001b[0;34m(\u001b[0m\u001b[0msrc\u001b[0m\u001b[0;34m,\u001b[0m \u001b[0mkwds\u001b[0m\u001b[0;34m)\u001b[0m\u001b[0;34m\u001b[0m\u001b[0;34m\u001b[0m\u001b[0m\n\u001b[0m\u001b[1;32m   1863\u001b[0m         \u001b[0;32massert\u001b[0m \u001b[0mself\u001b[0m\u001b[0;34m.\u001b[0m\u001b[0mhandles\u001b[0m \u001b[0;32mis\u001b[0m \u001b[0;32mnot\u001b[0m \u001b[0;32mNone\u001b[0m\u001b[0;34m\u001b[0m\u001b[0;34m\u001b[0m\u001b[0m\n\u001b[1;32m   1864\u001b[0m         \u001b[0;32mfor\u001b[0m \u001b[0mkey\u001b[0m \u001b[0;32min\u001b[0m \u001b[0;34m(\u001b[0m\u001b[0;34m\"storage_options\"\u001b[0m\u001b[0;34m,\u001b[0m \u001b[0;34m\"encoding\"\u001b[0m\u001b[0;34m,\u001b[0m \u001b[0;34m\"memory_map\"\u001b[0m\u001b[0;34m,\u001b[0m \u001b[0;34m\"compression\"\u001b[0m\u001b[0;34m)\u001b[0m\u001b[0;34m:\u001b[0m\u001b[0;34m\u001b[0m\u001b[0;34m\u001b[0m\u001b[0m\n",
      "\u001b[0;32m/usr/local/lib/python3.7/site-packages/pandas/io/parsers.py\u001b[0m in \u001b[0;36m_open_handles\u001b[0;34m(self, src, kwds)\u001b[0m\n\u001b[1;32m   1361\u001b[0m             \u001b[0mcompression\u001b[0m\u001b[0;34m=\u001b[0m\u001b[0mkwds\u001b[0m\u001b[0;34m.\u001b[0m\u001b[0mget\u001b[0m\u001b[0;34m(\u001b[0m\u001b[0;34m\"compression\"\u001b[0m\u001b[0;34m,\u001b[0m \u001b[0;32mNone\u001b[0m\u001b[0;34m)\u001b[0m\u001b[0;34m,\u001b[0m\u001b[0;34m\u001b[0m\u001b[0;34m\u001b[0m\u001b[0m\n\u001b[1;32m   1362\u001b[0m             \u001b[0mmemory_map\u001b[0m\u001b[0;34m=\u001b[0m\u001b[0mkwds\u001b[0m\u001b[0;34m.\u001b[0m\u001b[0mget\u001b[0m\u001b[0;34m(\u001b[0m\u001b[0;34m\"memory_map\"\u001b[0m\u001b[0;34m,\u001b[0m \u001b[0;32mFalse\u001b[0m\u001b[0;34m)\u001b[0m\u001b[0;34m,\u001b[0m\u001b[0;34m\u001b[0m\u001b[0;34m\u001b[0m\u001b[0m\n\u001b[0;32m-> 1363\u001b[0;31m             \u001b[0mstorage_options\u001b[0m\u001b[0;34m=\u001b[0m\u001b[0mkwds\u001b[0m\u001b[0;34m.\u001b[0m\u001b[0mget\u001b[0m\u001b[0;34m(\u001b[0m\u001b[0;34m\"storage_options\"\u001b[0m\u001b[0;34m,\u001b[0m \u001b[0;32mNone\u001b[0m\u001b[0;34m)\u001b[0m\u001b[0;34m,\u001b[0m\u001b[0;34m\u001b[0m\u001b[0;34m\u001b[0m\u001b[0m\n\u001b[0m\u001b[1;32m   1364\u001b[0m         )\n\u001b[1;32m   1365\u001b[0m \u001b[0;34m\u001b[0m\u001b[0m\n",
      "\u001b[0;32m/usr/local/lib/python3.7/site-packages/pandas/io/common.py\u001b[0m in \u001b[0;36mget_handle\u001b[0;34m(path_or_buf, mode, encoding, compression, memory_map, is_text, errors, storage_options)\u001b[0m\n\u001b[1;32m    642\u001b[0m                 \u001b[0mencoding\u001b[0m\u001b[0;34m=\u001b[0m\u001b[0mioargs\u001b[0m\u001b[0;34m.\u001b[0m\u001b[0mencoding\u001b[0m\u001b[0;34m,\u001b[0m\u001b[0;34m\u001b[0m\u001b[0;34m\u001b[0m\u001b[0m\n\u001b[1;32m    643\u001b[0m                 \u001b[0merrors\u001b[0m\u001b[0;34m=\u001b[0m\u001b[0merrors\u001b[0m\u001b[0;34m,\u001b[0m\u001b[0;34m\u001b[0m\u001b[0;34m\u001b[0m\u001b[0m\n\u001b[0;32m--> 644\u001b[0;31m                 \u001b[0mnewline\u001b[0m\u001b[0;34m=\u001b[0m\u001b[0;34m\"\"\u001b[0m\u001b[0;34m,\u001b[0m\u001b[0;34m\u001b[0m\u001b[0;34m\u001b[0m\u001b[0m\n\u001b[0m\u001b[1;32m    645\u001b[0m             )\n\u001b[1;32m    646\u001b[0m         \u001b[0;32melse\u001b[0m\u001b[0;34m:\u001b[0m\u001b[0;34m\u001b[0m\u001b[0;34m\u001b[0m\u001b[0m\n",
      "\u001b[0;31mFileNotFoundError\u001b[0m: [Errno 2] No such file or directory: '../datasets/circuit_courts.csv'"
     ]
    }
   ],
   "source": [
    "import pandas as pd\n",
    "from datasets import students\n",
    "students.head()"
   ]
  },
  {
   "cell_type": "markdown",
   "id": "boring-syracuse",
   "metadata": {},
   "source": [
    "## Functions via binary relations\n",
    "\n",
    "Functions seem simple enough.\n",
    "You probably know that a function is (something like) a rule that assigns to each input one output.\n",
    "That's not incorrect, but it is not the full story.\n",
    "When we use functions in data science, we typically want to combine and compose them in various ways.\n",
    "In that case, it is better to think of them as black box subroutines, and it is more important to be careful about the domain and range of the function.\n",
    "To do that, let's start with a slightly more general notion, and then let's get more specific to different types of functions.\n",
    "\n",
    "A binary relation is defined in the following way.\n",
    "Given two sets, $A$ and $B$, a binary relation between $A$ and $B$ is a triple $\\langle A, R, B \\rangle$, where $ R \\subset A \\times B$ is any set of ordered paris from $A \\times B$.\n",
    "For example, we could have $A = $`StudentID` and $B = $`grade` and have $\\langle a,b \\rangle \\in R$ iff student $a$ has the grade $b$.\n",
    "\n",
    "We can view this relation using the students data frame by simply selecting the columns StudentID and Grade:"
   ]
  },
  {
   "cell_type": "code",
   "execution_count": 2,
   "id": "based-terrace",
   "metadata": {},
   "outputs": [
    {
     "ename": "NameError",
     "evalue": "name 'students' is not defined",
     "output_type": "error",
     "traceback": [
      "\u001b[0;31m---------------------------------------------------------------------------\u001b[0m",
      "\u001b[0;31mNameError\u001b[0m                                 Traceback (most recent call last)",
      "\u001b[0;32m<ipython-input-2-cda7ac84392c>\u001b[0m in \u001b[0;36m<module>\u001b[0;34m\u001b[0m\n\u001b[0;32m----> 1\u001b[0;31m \u001b[0mstudents\u001b[0m\u001b[0;34m[\u001b[0m\u001b[0;34m[\u001b[0m\u001b[0;34m'StudentID'\u001b[0m\u001b[0;34m,\u001b[0m \u001b[0;34m'Grade'\u001b[0m\u001b[0;34m]\u001b[0m\u001b[0;34m]\u001b[0m\u001b[0;34m\u001b[0m\u001b[0;34m\u001b[0m\u001b[0m\n\u001b[0m",
      "\u001b[0;31mNameError\u001b[0m: name 'students' is not defined"
     ]
    }
   ],
   "source": [
    "students[['StudentID', 'Grade']]"
   ]
  },
  {
   "cell_type": "markdown",
   "id": "desirable-fundamental",
   "metadata": {},
   "source": [
    "Note that this is _not_ a function, since a student is in general in multiple classes, but it is a binary relation.\n",
    "For example, for `StudentID == 101`, we see the following."
   ]
  },
  {
   "cell_type": "code",
   "execution_count": 3,
   "id": "imposed-webster",
   "metadata": {},
   "outputs": [
    {
     "ename": "NameError",
     "evalue": "name 'students' is not defined",
     "output_type": "error",
     "traceback": [
      "\u001b[0;31m---------------------------------------------------------------------------\u001b[0m",
      "\u001b[0;31mNameError\u001b[0m                                 Traceback (most recent call last)",
      "\u001b[0;32m<ipython-input-3-20882299d1c2>\u001b[0m in \u001b[0;36m<module>\u001b[0;34m\u001b[0m\n\u001b[0;32m----> 1\u001b[0;31m \u001b[0mtmp\u001b[0m \u001b[0;34m=\u001b[0m \u001b[0mstudents\u001b[0m\u001b[0;34m[\u001b[0m\u001b[0;34m[\u001b[0m\u001b[0;34m'StudentID'\u001b[0m\u001b[0;34m,\u001b[0m \u001b[0;34m'Grade'\u001b[0m\u001b[0;34m]\u001b[0m\u001b[0;34m]\u001b[0m\u001b[0;34m\u001b[0m\u001b[0;34m\u001b[0m\u001b[0m\n\u001b[0m\u001b[1;32m      2\u001b[0m \u001b[0mstudent101\u001b[0m \u001b[0;34m=\u001b[0m \u001b[0mtmp\u001b[0m\u001b[0;34m[\u001b[0m\u001b[0mtmp\u001b[0m\u001b[0;34m[\u001b[0m\u001b[0;34m'StudentID'\u001b[0m\u001b[0;34m]\u001b[0m \u001b[0;34m==\u001b[0m \u001b[0;36m101\u001b[0m\u001b[0;34m]\u001b[0m\u001b[0;34m\u001b[0m\u001b[0;34m\u001b[0m\u001b[0m\n\u001b[1;32m      3\u001b[0m \u001b[0mstudent101\u001b[0m\u001b[0;34m\u001b[0m\u001b[0;34m\u001b[0m\u001b[0m\n",
      "\u001b[0;31mNameError\u001b[0m: name 'students' is not defined"
     ]
    }
   ],
   "source": [
    "tmp = students[['StudentID', 'Grade']]\n",
    "student101 = tmp[tmp['StudentID'] == 101]\n",
    "student101"
   ]
  },
  {
   "cell_type": "markdown",
   "id": "powered-operation",
   "metadata": {},
   "source": [
    "Note also that we could have a student enrolled in no classes, and we could have a class with no students in it. \n",
    "Sometimes that could be encoded in the data frame, and sometimes it would not be, e.g., if the data frame only has students who are enrolled in at least one class. \n",
    "However, that is worth keeping in mind.\n",
    "\n",
    "On the other hand, we could construct a function from `StudentID` to `Grade`. \n",
    "To do this, we need to find a way to choose a grade value to assign for students in multiple classes. \n",
    "Below, we do this by taking $f(StudentID)$ to be the maximum grade that student with ID ```StudentID``` has in any class. \n",
    "To do this, we again need the group by operation introduced in the previous workbooks. \n",
    "(Note: we need to use the option `as_index=False` to make sure Pandas doesn't try to use StudentID as the index -- this just makes the tables look nice.)"
   ]
  },
  {
   "cell_type": "code",
   "execution_count": 4,
   "id": "super-detail",
   "metadata": {},
   "outputs": [
    {
     "ename": "NameError",
     "evalue": "name 'students' is not defined",
     "output_type": "error",
     "traceback": [
      "\u001b[0;31m---------------------------------------------------------------------------\u001b[0m",
      "\u001b[0;31mNameError\u001b[0m                                 Traceback (most recent call last)",
      "\u001b[0;32m<ipython-input-4-c4c22b181d8e>\u001b[0m in \u001b[0;36m<module>\u001b[0;34m\u001b[0m\n\u001b[0;32m----> 1\u001b[0;31m \u001b[0mstudents_to_grades\u001b[0m \u001b[0;34m=\u001b[0m \u001b[0mstudents\u001b[0m\u001b[0;34m.\u001b[0m\u001b[0mgroupby\u001b[0m\u001b[0;34m(\u001b[0m\u001b[0;34m'StudentID'\u001b[0m\u001b[0;34m,\u001b[0m \u001b[0mas_index\u001b[0m\u001b[0;34m=\u001b[0m\u001b[0;32mFalse\u001b[0m\u001b[0;34m)\u001b[0m\u001b[0;34m[\u001b[0m\u001b[0;34m[\u001b[0m\u001b[0;34m'StudentID'\u001b[0m\u001b[0;34m,\u001b[0m \u001b[0;34m'Grade'\u001b[0m\u001b[0;34m]\u001b[0m\u001b[0;34m]\u001b[0m\u001b[0;34m.\u001b[0m\u001b[0mmax\u001b[0m\u001b[0;34m(\u001b[0m\u001b[0;34m'Grade'\u001b[0m\u001b[0;34m)\u001b[0m\u001b[0;34m\u001b[0m\u001b[0;34m\u001b[0m\u001b[0m\n\u001b[0m\u001b[1;32m      2\u001b[0m \u001b[0mstudents_to_grades\u001b[0m\u001b[0;34m\u001b[0m\u001b[0;34m\u001b[0m\u001b[0m\n",
      "\u001b[0;31mNameError\u001b[0m: name 'students' is not defined"
     ]
    }
   ],
   "source": [
    "students_to_grades = students.groupby('StudentID', as_index=False)[['StudentID', 'Grade']].max('Grade')\n",
    "students_to_grades"
   ]
  },
  {
   "cell_type": "markdown",
   "id": "attractive-dividend",
   "metadata": {},
   "source": [
    "This is a function.\n",
    "For example, for `StudentID == 101` we see the following."
   ]
  },
  {
   "cell_type": "code",
   "execution_count": 5,
   "id": "prescription-temperature",
   "metadata": {},
   "outputs": [
    {
     "ename": "NameError",
     "evalue": "name 'students_to_grades' is not defined",
     "output_type": "error",
     "traceback": [
      "\u001b[0;31m---------------------------------------------------------------------------\u001b[0m",
      "\u001b[0;31mNameError\u001b[0m                                 Traceback (most recent call last)",
      "\u001b[0;32m<ipython-input-5-4fc30584a144>\u001b[0m in \u001b[0;36m<module>\u001b[0;34m\u001b[0m\n\u001b[0;32m----> 1\u001b[0;31m \u001b[0mtmp\u001b[0m \u001b[0;34m=\u001b[0m \u001b[0mstudents_to_grades\u001b[0m\u001b[0;34m[\u001b[0m\u001b[0;34m[\u001b[0m\u001b[0;34m'StudentID'\u001b[0m\u001b[0;34m,\u001b[0m \u001b[0;34m'Grade'\u001b[0m\u001b[0;34m]\u001b[0m\u001b[0;34m]\u001b[0m\u001b[0;34m\u001b[0m\u001b[0;34m\u001b[0m\u001b[0m\n\u001b[0m\u001b[1;32m      2\u001b[0m \u001b[0mstudent101\u001b[0m \u001b[0;34m=\u001b[0m \u001b[0mtmp\u001b[0m\u001b[0;34m[\u001b[0m\u001b[0mtmp\u001b[0m\u001b[0;34m[\u001b[0m\u001b[0;34m'StudentID'\u001b[0m\u001b[0;34m]\u001b[0m \u001b[0;34m==\u001b[0m \u001b[0;36m101\u001b[0m\u001b[0;34m]\u001b[0m\u001b[0;34m\u001b[0m\u001b[0;34m\u001b[0m\u001b[0m\n\u001b[1;32m      3\u001b[0m \u001b[0mstudent101\u001b[0m\u001b[0;34m\u001b[0m\u001b[0;34m\u001b[0m\u001b[0m\n",
      "\u001b[0;31mNameError\u001b[0m: name 'students_to_grades' is not defined"
     ]
    }
   ],
   "source": [
    "tmp = students_to_grades[['StudentID', 'Grade']]\n",
    "student101 = tmp[tmp['StudentID'] == 101]\n",
    "student101"
   ]
  },
  {
   "cell_type": "markdown",
   "id": "unnecessary-auction",
   "metadata": {},
   "source": [
    "To verify that this a function in code, we can check to make sure every student ID appears only once:"
   ]
  },
  {
   "cell_type": "code",
   "execution_count": 6,
   "id": "inclusive-produce",
   "metadata": {},
   "outputs": [
    {
     "ename": "NameError",
     "evalue": "name 'students_to_grades' is not defined",
     "output_type": "error",
     "traceback": [
      "\u001b[0;31m---------------------------------------------------------------------------\u001b[0m",
      "\u001b[0;31mNameError\u001b[0m                                 Traceback (most recent call last)",
      "\u001b[0;32m<ipython-input-6-140392d233e3>\u001b[0m in \u001b[0;36m<module>\u001b[0;34m\u001b[0m\n\u001b[0;32m----> 1\u001b[0;31m \u001b[0mstudents_to_grades\u001b[0m\u001b[0;34m[\u001b[0m\u001b[0;34m[\u001b[0m\u001b[0;34m'StudentID'\u001b[0m\u001b[0;34m]\u001b[0m\u001b[0;34m]\u001b[0m\u001b[0;34m.\u001b[0m\u001b[0mvalue_counts\u001b[0m\u001b[0;34m(\u001b[0m\u001b[0;34m)\u001b[0m\u001b[0;34m\u001b[0m\u001b[0;34m\u001b[0m\u001b[0m\n\u001b[0m",
      "\u001b[0;31mNameError\u001b[0m: name 'students_to_grades' is not defined"
     ]
    }
   ],
   "source": [
    "students_to_grades[['StudentID']].value_counts()"
   ]
  },
  {
   "cell_type": "markdown",
   "id": "dangerous-thought",
   "metadata": {},
   "source": [
    "However, this was not the only way we could have constructed this function. \n",
    "For example, we also could have constructed a function from `StudentID` to `Grade` by selecting the minimum grade, or the average grade.\n",
    "\n",
    "\n",
    "## Image/preimage and restriction\n",
    "\n",
    "If a function is a rule that maps points from a set $A$ to set $B$, then the _image_ of $f$ is the subset of $B$ that gets mapped to by some element $a \\in A$, and the preimage of $f$ is the subset of $f$ is the subset of $A$ that maps to something. \n",
    "Think, _range_ and _domain_. \n",
    "\n",
    "We can also have the image of a subset of $A$. \n",
    "For example, consider the function $f:$`StudentID` $\\to$ `Grade`  that we defined above and the subset `sophomore` $\\subseteq$  `StudentID` of sophomore students. We can compute the image of the subset `sophomore` under the function `students_to_grades `, denoted $f(\\text{sophomore})$ which we obtain with the following code:"
   ]
  },
  {
   "cell_type": "code",
   "execution_count": 7,
   "id": "surgical-cleaning",
   "metadata": {},
   "outputs": [
    {
     "ename": "NameError",
     "evalue": "name 'students' is not defined",
     "output_type": "error",
     "traceback": [
      "\u001b[0;31m---------------------------------------------------------------------------\u001b[0m",
      "\u001b[0;31mNameError\u001b[0m                                 Traceback (most recent call last)",
      "\u001b[0;32m<ipython-input-7-e5709ebb4fbf>\u001b[0m in \u001b[0;36m<module>\u001b[0;34m\u001b[0m\n\u001b[0;32m----> 1\u001b[0;31m \u001b[0msophomore\u001b[0m \u001b[0;34m=\u001b[0m \u001b[0mstudents\u001b[0m\u001b[0;34m[\u001b[0m\u001b[0mstudents\u001b[0m\u001b[0;34m[\u001b[0m\u001b[0;34m'Year'\u001b[0m\u001b[0;34m]\u001b[0m \u001b[0;34m==\u001b[0m \u001b[0;34m'Sophomore'\u001b[0m\u001b[0;34m]\u001b[0m\u001b[0;34m[\u001b[0m\u001b[0;34m'StudentID'\u001b[0m\u001b[0;34m]\u001b[0m\u001b[0;34m\u001b[0m\u001b[0;34m\u001b[0m\u001b[0m\n\u001b[0m\u001b[1;32m      2\u001b[0m \u001b[0mstudents_to_grades\u001b[0m\u001b[0;34m[\u001b[0m\u001b[0mstudents_to_grades\u001b[0m\u001b[0;34m[\u001b[0m\u001b[0;34m'StudentID'\u001b[0m\u001b[0;34m]\u001b[0m\u001b[0;34m.\u001b[0m\u001b[0misin\u001b[0m\u001b[0;34m(\u001b[0m\u001b[0msophomore\u001b[0m\u001b[0;34m)\u001b[0m\u001b[0;34m]\u001b[0m\u001b[0;34m[\u001b[0m\u001b[0;34m[\u001b[0m\u001b[0;34m'Grade'\u001b[0m\u001b[0;34m]\u001b[0m\u001b[0;34m]\u001b[0m\u001b[0;34m\u001b[0m\u001b[0;34m\u001b[0m\u001b[0m\n",
      "\u001b[0;31mNameError\u001b[0m: name 'students' is not defined"
     ]
    }
   ],
   "source": [
    "sophomore = students[students['Year'] == 'Sophomore']['StudentID']\n",
    "students_to_grades[students_to_grades['StudentID'].isin(sophomore)][['Grade']]"
   ]
  },
  {
   "cell_type": "markdown",
   "id": "recognized-longitude",
   "metadata": {},
   "source": [
    "Note that the resulting set is a subset of the set `Grade`. \n",
    "Likewise, we could consider the pre-image of some subset of grades under this function. \n",
    "For example, let's consider the subset of grades `[84, 76, 81, 95]`. \n",
    "We can obtain the pre-image of this set under the function $f$, denoted $f^{-1}(\\{84,76,81,95\\})$, which is just the set of students who have one of these grades as their maximum grade:"
   ]
  },
  {
   "cell_type": "code",
   "execution_count": 8,
   "id": "incorporated-product",
   "metadata": {},
   "outputs": [
    {
     "ename": "NameError",
     "evalue": "name 'students_to_grades' is not defined",
     "output_type": "error",
     "traceback": [
      "\u001b[0;31m---------------------------------------------------------------------------\u001b[0m",
      "\u001b[0;31mNameError\u001b[0m                                 Traceback (most recent call last)",
      "\u001b[0;32m<ipython-input-8-e6f15d6cd031>\u001b[0m in \u001b[0;36m<module>\u001b[0;34m\u001b[0m\n\u001b[0;32m----> 1\u001b[0;31m \u001b[0mstudents_to_grades\u001b[0m\u001b[0;34m[\u001b[0m\u001b[0mstudents_to_grades\u001b[0m\u001b[0;34m[\u001b[0m\u001b[0;34m'Grade'\u001b[0m\u001b[0;34m]\u001b[0m\u001b[0;34m.\u001b[0m\u001b[0misin\u001b[0m\u001b[0;34m(\u001b[0m\u001b[0;34m[\u001b[0m\u001b[0;36m84\u001b[0m\u001b[0;34m,\u001b[0m \u001b[0;36m76\u001b[0m\u001b[0;34m,\u001b[0m \u001b[0;36m81\u001b[0m\u001b[0;34m,\u001b[0m \u001b[0;36m95\u001b[0m\u001b[0;34m]\u001b[0m\u001b[0;34m)\u001b[0m\u001b[0;34m]\u001b[0m\u001b[0;34m[\u001b[0m\u001b[0;34m[\u001b[0m\u001b[0;34m'StudentID'\u001b[0m\u001b[0;34m]\u001b[0m\u001b[0;34m]\u001b[0m\u001b[0;34m\u001b[0m\u001b[0;34m\u001b[0m\u001b[0m\n\u001b[0m",
      "\u001b[0;31mNameError\u001b[0m: name 'students_to_grades' is not defined"
     ]
    }
   ],
   "source": [
    "students_to_grades[students_to_grades['Grade'].isin([84, 76, 81, 95])][['StudentID']]"
   ]
  },
  {
   "cell_type": "markdown",
   "id": "blond-sweden",
   "metadata": {},
   "source": [
    "Alternatively, we can obtain the set of all students whose highest grade is in the 80s as a pre-image under the function `students_to_grades`"
   ]
  },
  {
   "cell_type": "code",
   "execution_count": 9,
   "id": "regulation-mortgage",
   "metadata": {},
   "outputs": [
    {
     "ename": "NameError",
     "evalue": "name 'students_to_grades' is not defined",
     "output_type": "error",
     "traceback": [
      "\u001b[0;31m---------------------------------------------------------------------------\u001b[0m",
      "\u001b[0;31mNameError\u001b[0m                                 Traceback (most recent call last)",
      "\u001b[0;32m<ipython-input-9-0f6883f0dd00>\u001b[0m in \u001b[0;36m<module>\u001b[0;34m\u001b[0m\n\u001b[1;32m      1\u001b[0m \u001b[0mgrades_in_80s\u001b[0m \u001b[0;34m=\u001b[0m \u001b[0mlist\u001b[0m\u001b[0;34m(\u001b[0m\u001b[0mrange\u001b[0m\u001b[0;34m(\u001b[0m\u001b[0;36m80\u001b[0m\u001b[0;34m,\u001b[0m\u001b[0;36m90\u001b[0m\u001b[0;34m)\u001b[0m\u001b[0;34m)\u001b[0m \u001b[0;31m#[80, 81, 82, ... , 88, 89]\u001b[0m\u001b[0;34m\u001b[0m\u001b[0;34m\u001b[0m\u001b[0m\n\u001b[0;32m----> 2\u001b[0;31m \u001b[0mstudents_to_grades\u001b[0m\u001b[0;34m[\u001b[0m\u001b[0mstudents_to_grades\u001b[0m\u001b[0;34m[\u001b[0m\u001b[0;34m'Grade'\u001b[0m\u001b[0;34m]\u001b[0m\u001b[0;34m.\u001b[0m\u001b[0misin\u001b[0m\u001b[0;34m(\u001b[0m\u001b[0mgrades_in_80s\u001b[0m\u001b[0;34m)\u001b[0m\u001b[0;34m]\u001b[0m\u001b[0;34m[\u001b[0m\u001b[0;34m[\u001b[0m\u001b[0;34m'StudentID'\u001b[0m\u001b[0;34m]\u001b[0m\u001b[0;34m]\u001b[0m\u001b[0;34m\u001b[0m\u001b[0;34m\u001b[0m\u001b[0m\n\u001b[0m",
      "\u001b[0;31mNameError\u001b[0m: name 'students_to_grades' is not defined"
     ]
    }
   ],
   "source": [
    "grades_in_80s = list(range(80,90)) #[80, 81, 82, ... , 88, 89]\n",
    "students_to_grades[students_to_grades['Grade'].isin(grades_in_80s)][['StudentID']]"
   ]
  },
  {
   "cell_type": "markdown",
   "id": "average-prison",
   "metadata": {},
   "source": [
    "Given that, a useful notion is the _restriction_ of a function. \n",
    "Informally, this is the same function, except it is defined on a subset of $A$ and/or $B$. \n",
    "Let's look the function `students_to_grades` restricted to the set of sophomores, which we denote by $f|_{\\text{sophomore}}$."
   ]
  },
  {
   "cell_type": "code",
   "execution_count": 10,
   "id": "administrative-audio",
   "metadata": {},
   "outputs": [
    {
     "ename": "NameError",
     "evalue": "name 'students_to_grades' is not defined",
     "output_type": "error",
     "traceback": [
      "\u001b[0;31m---------------------------------------------------------------------------\u001b[0m",
      "\u001b[0;31mNameError\u001b[0m                                 Traceback (most recent call last)",
      "\u001b[0;32m<ipython-input-10-25fc79bb3bdc>\u001b[0m in \u001b[0;36m<module>\u001b[0;34m\u001b[0m\n\u001b[0;32m----> 1\u001b[0;31m \u001b[0msophomore_students_to_grades\u001b[0m \u001b[0;34m=\u001b[0m \u001b[0mstudents_to_grades\u001b[0m\u001b[0;34m[\u001b[0m\u001b[0mstudents_to_grades\u001b[0m\u001b[0;34m[\u001b[0m\u001b[0;34m'StudentID'\u001b[0m\u001b[0;34m]\u001b[0m\u001b[0;34m.\u001b[0m\u001b[0misin\u001b[0m\u001b[0;34m(\u001b[0m\u001b[0msophomore\u001b[0m\u001b[0;34m)\u001b[0m\u001b[0;34m]\u001b[0m\u001b[0;34m\u001b[0m\u001b[0;34m\u001b[0m\u001b[0m\n\u001b[0m\u001b[1;32m      2\u001b[0m \u001b[0msophomore_students_to_grades\u001b[0m\u001b[0;34m\u001b[0m\u001b[0;34m\u001b[0m\u001b[0m\n",
      "\u001b[0;31mNameError\u001b[0m: name 'students_to_grades' is not defined"
     ]
    }
   ],
   "source": [
    "sophomore_students_to_grades = students_to_grades[students_to_grades['StudentID'].isin(sophomore)]\n",
    "sophomore_students_to_grades"
   ]
  },
  {
   "cell_type": "markdown",
   "id": "indonesian-stanley",
   "metadata": {},
   "source": [
    "Notice that when we have a _partial function_ -- i.e. a function which is not defined on the entire domain -- we can construct a total function simply by restricting it to the elements of its domain which it is defined on.\n",
    "\n",
    "\n",
    "## Composition of functions\n",
    "\n",
    "Something that one often wants to do is to compose two functions. \n",
    "Informally, this means that we apply a second function on the output of the first function. \n",
    "In symbols, if $f:A\\to B$ and $g:B\\to C$, then the composition of these function is a new function $g\\circ f : A\\to C$ defined by $(g\\circ f)(a) = g(f(a))$. \n",
    "\n",
    "When working with function composition, we want to think of the functions as balck boxes, and we are interested in how those black boxes compose, i.e., we are not interested in the particular inputs/outputs of the functions. \n",
    "Thus, the main gotcha when working with function composition has to do with when the function isn't defined for all elements of the input domain and/or doesn't map to all elements of the output domain. \n",
    "Let's see this with an example.\n",
    "\n",
    "First, let's consider the function from `StudentID` to `Year` :"
   ]
  },
  {
   "cell_type": "code",
   "execution_count": 11,
   "id": "missing-pension",
   "metadata": {},
   "outputs": [
    {
     "ename": "NameError",
     "evalue": "name 'students' is not defined",
     "output_type": "error",
     "traceback": [
      "\u001b[0;31m---------------------------------------------------------------------------\u001b[0m",
      "\u001b[0;31mNameError\u001b[0m                                 Traceback (most recent call last)",
      "\u001b[0;32m<ipython-input-11-2b72ef46b069>\u001b[0m in \u001b[0;36m<module>\u001b[0;34m\u001b[0m\n\u001b[0;32m----> 1\u001b[0;31m \u001b[0mstudents_to_year\u001b[0m \u001b[0;34m=\u001b[0m \u001b[0mstudents\u001b[0m\u001b[0;34m.\u001b[0m\u001b[0mgroupby\u001b[0m\u001b[0;34m(\u001b[0m\u001b[0;34m'StudentID'\u001b[0m\u001b[0;34m,\u001b[0m \u001b[0mas_index\u001b[0m\u001b[0;34m=\u001b[0m\u001b[0;32mFalse\u001b[0m\u001b[0;34m)\u001b[0m\u001b[0;34m[\u001b[0m\u001b[0;34m[\u001b[0m\u001b[0;34m'StudentID'\u001b[0m\u001b[0;34m,\u001b[0m\u001b[0;34m'Year'\u001b[0m\u001b[0;34m]\u001b[0m\u001b[0;34m]\u001b[0m\u001b[0;34m.\u001b[0m\u001b[0mfirst\u001b[0m\u001b[0;34m(\u001b[0m\u001b[0;34m)\u001b[0m\u001b[0;34m\u001b[0m\u001b[0;34m\u001b[0m\u001b[0m\n\u001b[0m\u001b[1;32m      2\u001b[0m \u001b[0mstudents_to_year\u001b[0m\u001b[0;34m\u001b[0m\u001b[0;34m\u001b[0m\u001b[0m\n",
      "\u001b[0;31mNameError\u001b[0m: name 'students' is not defined"
     ]
    }
   ],
   "source": [
    "students_to_year = students.groupby('StudentID', as_index=False)[['StudentID','Year']].first()\n",
    "students_to_year"
   ]
  },
  {
   "cell_type": "markdown",
   "id": "interested-intent",
   "metadata": {},
   "source": [
    "This is a well-defined function, because each student only has a single year. \n",
    "On the other hand, what happens if we try to map back from `Year` to `StudentID`? \n",
    "Since there is more than one student in each year, there is not a unique way to define such a function. \n",
    "\n",
    "For example, for each year, we could select the student with the smallest student ID:"
   ]
  },
  {
   "cell_type": "code",
   "execution_count": 12,
   "id": "official-standing",
   "metadata": {},
   "outputs": [
    {
     "ename": "NameError",
     "evalue": "name 'students' is not defined",
     "output_type": "error",
     "traceback": [
      "\u001b[0;31m---------------------------------------------------------------------------\u001b[0m",
      "\u001b[0;31mNameError\u001b[0m                                 Traceback (most recent call last)",
      "\u001b[0;32m<ipython-input-12-a21951c8db6b>\u001b[0m in \u001b[0;36m<module>\u001b[0;34m\u001b[0m\n\u001b[0;32m----> 1\u001b[0;31m \u001b[0myear_to_students1\u001b[0m \u001b[0;34m=\u001b[0m \u001b[0mstudents\u001b[0m\u001b[0;34m.\u001b[0m\u001b[0mgroupby\u001b[0m\u001b[0;34m(\u001b[0m\u001b[0;34m'Year'\u001b[0m\u001b[0;34m,\u001b[0m  \u001b[0mas_index\u001b[0m\u001b[0;34m=\u001b[0m\u001b[0;32mFalse\u001b[0m\u001b[0;34m)\u001b[0m\u001b[0;34m[\u001b[0m\u001b[0;34m[\u001b[0m\u001b[0;34m'Year'\u001b[0m\u001b[0;34m,\u001b[0m \u001b[0;34m'StudentID'\u001b[0m\u001b[0;34m]\u001b[0m\u001b[0;34m]\u001b[0m\u001b[0;34m.\u001b[0m\u001b[0mmin\u001b[0m\u001b[0;34m(\u001b[0m\u001b[0;34m'StudentID'\u001b[0m\u001b[0;34m)\u001b[0m\u001b[0;34m\u001b[0m\u001b[0;34m\u001b[0m\u001b[0m\n\u001b[0m\u001b[1;32m      2\u001b[0m \u001b[0myear_to_students1\u001b[0m\u001b[0;34m\u001b[0m\u001b[0;34m\u001b[0m\u001b[0m\n",
      "\u001b[0;31mNameError\u001b[0m: name 'students' is not defined"
     ]
    }
   ],
   "source": [
    "year_to_students1 = students.groupby('Year',  as_index=False)[['Year', 'StudentID']].min('StudentID')\n",
    "year_to_students1"
   ]
  },
  {
   "cell_type": "markdown",
   "id": "residential-meter",
   "metadata": {},
   "source": [
    "However, it would also be perfectly valid to select the student in each year with the largest student ID number:"
   ]
  },
  {
   "cell_type": "code",
   "execution_count": 13,
   "id": "eligible-present",
   "metadata": {},
   "outputs": [
    {
     "ename": "NameError",
     "evalue": "name 'students' is not defined",
     "output_type": "error",
     "traceback": [
      "\u001b[0;31m---------------------------------------------------------------------------\u001b[0m",
      "\u001b[0;31mNameError\u001b[0m                                 Traceback (most recent call last)",
      "\u001b[0;32m<ipython-input-13-80b69371cae5>\u001b[0m in \u001b[0;36m<module>\u001b[0;34m\u001b[0m\n\u001b[0;32m----> 1\u001b[0;31m \u001b[0myear_to_students2\u001b[0m \u001b[0;34m=\u001b[0m \u001b[0mstudents\u001b[0m\u001b[0;34m.\u001b[0m\u001b[0mgroupby\u001b[0m\u001b[0;34m(\u001b[0m\u001b[0;34m'Year'\u001b[0m\u001b[0;34m,\u001b[0m  \u001b[0mas_index\u001b[0m\u001b[0;34m=\u001b[0m\u001b[0;32mFalse\u001b[0m\u001b[0;34m)\u001b[0m\u001b[0;34m[\u001b[0m\u001b[0;34m[\u001b[0m\u001b[0;34m'Year'\u001b[0m\u001b[0;34m,\u001b[0m\u001b[0;34m'StudentID'\u001b[0m\u001b[0;34m]\u001b[0m\u001b[0;34m]\u001b[0m\u001b[0;34m.\u001b[0m\u001b[0mmax\u001b[0m\u001b[0;34m(\u001b[0m\u001b[0;34m'StudentID'\u001b[0m\u001b[0;34m)\u001b[0m\u001b[0;34m\u001b[0m\u001b[0;34m\u001b[0m\u001b[0m\n\u001b[0m\u001b[1;32m      2\u001b[0m \u001b[0myear_to_students2\u001b[0m\u001b[0;34m\u001b[0m\u001b[0;34m\u001b[0m\u001b[0m\n",
      "\u001b[0;31mNameError\u001b[0m: name 'students' is not defined"
     ]
    }
   ],
   "source": [
    "year_to_students2 = students.groupby('Year',  as_index=False)[['Year','StudentID']].max('StudentID')\n",
    "year_to_students2"
   ]
  },
  {
   "cell_type": "markdown",
   "id": "improving-boring",
   "metadata": {},
   "source": [
    "Let's see what happens when we compose these functions with our function `students_to_year`. \n",
    "It turns out that we can do this again using _joins_, similar to how we used them to perform set intersections. In particular, we can perform a left join, which is essentially just an inner join between the domain of `year_to_students1` and the co-domain of `students_to_year`. \n",
    "Since both of these sets are subsets of the set `year`, such a join makes sense. \n",
    "Below we see how to do this in Python:"
   ]
  },
  {
   "cell_type": "code",
   "execution_count": 14,
   "id": "marked-feature",
   "metadata": {},
   "outputs": [
    {
     "ename": "NameError",
     "evalue": "name 'students_to_year' is not defined",
     "output_type": "error",
     "traceback": [
      "\u001b[0;31m---------------------------------------------------------------------------\u001b[0m",
      "\u001b[0;31mNameError\u001b[0m                                 Traceback (most recent call last)",
      "\u001b[0;32m<ipython-input-14-04728677b16f>\u001b[0m in \u001b[0;36m<module>\u001b[0;34m\u001b[0m\n\u001b[0;32m----> 1\u001b[0;31m \u001b[0mstudents_to_students1\u001b[0m \u001b[0;34m=\u001b[0m \u001b[0mstudents_to_year\u001b[0m\u001b[0;34m.\u001b[0m\u001b[0mmerge\u001b[0m\u001b[0;34m(\u001b[0m\u001b[0myear_to_students1\u001b[0m\u001b[0;34m,\u001b[0m \u001b[0mhow\u001b[0m\u001b[0;34m=\u001b[0m\u001b[0;34m\"left\"\u001b[0m\u001b[0;34m,\u001b[0m \u001b[0mon\u001b[0m\u001b[0;34m=\u001b[0m\u001b[0;34m\"Year\"\u001b[0m\u001b[0;34m)\u001b[0m\u001b[0;34m.\u001b[0m\u001b[0mdrop\u001b[0m\u001b[0;34m(\u001b[0m\u001b[0;34m\"Year\"\u001b[0m\u001b[0;34m,\u001b[0m \u001b[0maxis\u001b[0m\u001b[0;34m=\u001b[0m\u001b[0;36m1\u001b[0m\u001b[0;34m)\u001b[0m\u001b[0;34m\u001b[0m\u001b[0;34m\u001b[0m\u001b[0m\n\u001b[0m\u001b[1;32m      2\u001b[0m \u001b[0mstudents_to_students1\u001b[0m\u001b[0;34m\u001b[0m\u001b[0;34m\u001b[0m\u001b[0m\n",
      "\u001b[0;31mNameError\u001b[0m: name 'students_to_year' is not defined"
     ]
    }
   ],
   "source": [
    "students_to_students1 = students_to_year.merge(year_to_students1, how=\"left\", on=\"Year\").drop(\"Year\", axis=1)\n",
    "students_to_students1"
   ]
  },
  {
   "cell_type": "markdown",
   "id": "fuzzy-doubt",
   "metadata": {},
   "source": [
    "We can do the same composition with `year_to_students2`:"
   ]
  },
  {
   "cell_type": "code",
   "execution_count": 15,
   "id": "soviet-nevada",
   "metadata": {},
   "outputs": [
    {
     "ename": "NameError",
     "evalue": "name 'students_to_year' is not defined",
     "output_type": "error",
     "traceback": [
      "\u001b[0;31m---------------------------------------------------------------------------\u001b[0m",
      "\u001b[0;31mNameError\u001b[0m                                 Traceback (most recent call last)",
      "\u001b[0;32m<ipython-input-15-fa56807a2d9c>\u001b[0m in \u001b[0;36m<module>\u001b[0;34m\u001b[0m\n\u001b[0;32m----> 1\u001b[0;31m \u001b[0mstudents_to_students2\u001b[0m \u001b[0;34m=\u001b[0m \u001b[0mstudents_to_year\u001b[0m\u001b[0;34m.\u001b[0m\u001b[0mmerge\u001b[0m\u001b[0;34m(\u001b[0m\u001b[0myear_to_students2\u001b[0m\u001b[0;34m,\u001b[0m \u001b[0mhow\u001b[0m\u001b[0;34m=\u001b[0m\u001b[0;34m\"left\"\u001b[0m\u001b[0;34m,\u001b[0m \u001b[0mon\u001b[0m\u001b[0;34m=\u001b[0m\u001b[0;34m\"Year\"\u001b[0m\u001b[0;34m)\u001b[0m\u001b[0;34m.\u001b[0m\u001b[0mdrop\u001b[0m\u001b[0;34m(\u001b[0m\u001b[0;34m\"Year\"\u001b[0m\u001b[0;34m,\u001b[0m \u001b[0maxis\u001b[0m\u001b[0;34m=\u001b[0m\u001b[0;36m1\u001b[0m\u001b[0;34m)\u001b[0m\u001b[0;34m\u001b[0m\u001b[0;34m\u001b[0m\u001b[0m\n\u001b[0m\u001b[1;32m      2\u001b[0m \u001b[0mstudents_to_students2\u001b[0m\u001b[0;34m\u001b[0m\u001b[0;34m\u001b[0m\u001b[0m\n",
      "\u001b[0;31mNameError\u001b[0m: name 'students_to_year' is not defined"
     ]
    }
   ],
   "source": [
    "students_to_students2 = students_to_year.merge(year_to_students2, how=\"left\", on=\"Year\").drop(\"Year\", axis=1)\n",
    "students_to_students2"
   ]
  },
  {
   "cell_type": "markdown",
   "id": "challenging-popularity",
   "metadata": {},
   "source": [
    "Above we perform the join on the column \"Year\", and then drop the column \"Year\" (so that we are just left with the mapping taking `students` to `students`). We'll see several more examples of function composition in the following sections.\n",
    "\n",
    "\n",
    "## Associativity of function composition\n",
    "\n",
    "An important property of function composition is that it is _associative_, meaning that if we have functions $f,g,h$, we have that\n",
    "$\n",
    "h\\circ(g\\circ f) = (h\\circ g)\\circ f\n",
    "$.\n",
    "In words, this means that when we want to compose three functions together, we can either compute the composition of $g$ and $f$ first, and then compose $h$ on the left, or compute the composition of $h$ and $g$ first, and then compose $f$ on the right. \n",
    "Let's see how this works with our students dataset. \n",
    "\n",
    "To do this, let's make another function mapping `StudentID` to `Major`."
   ]
  },
  {
   "cell_type": "code",
   "execution_count": 16,
   "id": "acknowledged-cutting",
   "metadata": {},
   "outputs": [
    {
     "ename": "NameError",
     "evalue": "name 'students' is not defined",
     "output_type": "error",
     "traceback": [
      "\u001b[0;31m---------------------------------------------------------------------------\u001b[0m",
      "\u001b[0;31mNameError\u001b[0m                                 Traceback (most recent call last)",
      "\u001b[0;32m<ipython-input-16-ef92054ed98f>\u001b[0m in \u001b[0;36m<module>\u001b[0;34m\u001b[0m\n\u001b[0;32m----> 1\u001b[0;31m \u001b[0mstudents_to_major\u001b[0m \u001b[0;34m=\u001b[0m \u001b[0mstudents\u001b[0m\u001b[0;34m.\u001b[0m\u001b[0mgroupby\u001b[0m\u001b[0;34m(\u001b[0m\u001b[0;34m'StudentID'\u001b[0m\u001b[0;34m,\u001b[0m \u001b[0mas_index\u001b[0m\u001b[0;34m=\u001b[0m\u001b[0;32mFalse\u001b[0m\u001b[0;34m)\u001b[0m\u001b[0;34m[\u001b[0m\u001b[0;34m[\u001b[0m\u001b[0;34m'StudentID'\u001b[0m\u001b[0;34m,\u001b[0m\u001b[0;34m'Major'\u001b[0m\u001b[0;34m]\u001b[0m\u001b[0;34m]\u001b[0m\u001b[0;34m.\u001b[0m\u001b[0mfirst\u001b[0m\u001b[0;34m(\u001b[0m\u001b[0;34m)\u001b[0m\u001b[0;34m\u001b[0m\u001b[0;34m\u001b[0m\u001b[0m\n\u001b[0m\u001b[1;32m      2\u001b[0m \u001b[0mstudents_to_major\u001b[0m\u001b[0;34m\u001b[0m\u001b[0;34m\u001b[0m\u001b[0m\n",
      "\u001b[0;31mNameError\u001b[0m: name 'students' is not defined"
     ]
    }
   ],
   "source": [
    "students_to_major = students.groupby('StudentID', as_index=False)[['StudentID','Major']].first()\n",
    "students_to_major"
   ]
  },
  {
   "cell_type": "markdown",
   "id": "surprising-allocation",
   "metadata": {},
   "source": [
    "Next, we'll make a function which maps from `Major` to `Year`. We can do this in many ways, since there are students of many different years in each major. For this example, we'll just pick the first `Year` after performing a group by within each major."
   ]
  },
  {
   "cell_type": "code",
   "execution_count": 17,
   "id": "streaming-chapter",
   "metadata": {},
   "outputs": [
    {
     "ename": "NameError",
     "evalue": "name 'students' is not defined",
     "output_type": "error",
     "traceback": [
      "\u001b[0;31m---------------------------------------------------------------------------\u001b[0m",
      "\u001b[0;31mNameError\u001b[0m                                 Traceback (most recent call last)",
      "\u001b[0;32m<ipython-input-17-8d205654937e>\u001b[0m in \u001b[0;36m<module>\u001b[0;34m\u001b[0m\n\u001b[0;32m----> 1\u001b[0;31m \u001b[0mmajor_to_year\u001b[0m \u001b[0;34m=\u001b[0m \u001b[0mstudents\u001b[0m\u001b[0;34m.\u001b[0m\u001b[0mgroupby\u001b[0m\u001b[0;34m(\u001b[0m\u001b[0;34m'Major'\u001b[0m\u001b[0;34m,\u001b[0m \u001b[0mas_index\u001b[0m\u001b[0;34m=\u001b[0m\u001b[0;32mFalse\u001b[0m\u001b[0;34m)\u001b[0m\u001b[0;34m[\u001b[0m\u001b[0;34m[\u001b[0m\u001b[0;34m'Major'\u001b[0m\u001b[0;34m,\u001b[0m \u001b[0;34m'Year'\u001b[0m\u001b[0;34m]\u001b[0m\u001b[0;34m]\u001b[0m\u001b[0;34m.\u001b[0m\u001b[0mfirst\u001b[0m\u001b[0;34m(\u001b[0m\u001b[0;34m)\u001b[0m\u001b[0;34m\u001b[0m\u001b[0;34m\u001b[0m\u001b[0m\n\u001b[0m\u001b[1;32m      2\u001b[0m \u001b[0mmajor_to_year\u001b[0m\u001b[0;34m\u001b[0m\u001b[0;34m\u001b[0m\u001b[0m\n",
      "\u001b[0;31mNameError\u001b[0m: name 'students' is not defined"
     ]
    }
   ],
   "source": [
    "major_to_year = students.groupby('Major', as_index=False)[['Major', 'Year']].first()\n",
    "major_to_year"
   ]
  },
  {
   "cell_type": "markdown",
   "id": "victorian-dominant",
   "metadata": {},
   "source": [
    "For our last function, we'll use the function `year_to_students1` defined in the previous section."
   ]
  },
  {
   "cell_type": "code",
   "execution_count": 18,
   "id": "dramatic-cycling",
   "metadata": {},
   "outputs": [
    {
     "ename": "NameError",
     "evalue": "name 'year_to_students1' is not defined",
     "output_type": "error",
     "traceback": [
      "\u001b[0;31m---------------------------------------------------------------------------\u001b[0m",
      "\u001b[0;31mNameError\u001b[0m                                 Traceback (most recent call last)",
      "\u001b[0;32m<ipython-input-18-7a0aa9e325da>\u001b[0m in \u001b[0;36m<module>\u001b[0;34m\u001b[0m\n\u001b[0;32m----> 1\u001b[0;31m \u001b[0myear_to_students1\u001b[0m\u001b[0;34m\u001b[0m\u001b[0;34m\u001b[0m\u001b[0m\n\u001b[0m",
      "\u001b[0;31mNameError\u001b[0m: name 'year_to_students1' is not defined"
     ]
    }
   ],
   "source": [
    "year_to_students1"
   ]
  },
  {
   "cell_type": "markdown",
   "id": "scheduled-separation",
   "metadata": {},
   "source": [
    " We're going to compute the composition `year_to_students1` $\\circ$(`major_to_year` $\\circ$ `students_to_major`) -- which is a function mapping `StudentID` to `StudentID` -- and show that it is equal to  (`year_to_students1` $\\circ$`major_to_year`) $\\circ$ `students_to_major`.\n",
    "\n",
    "Let's start off by computing (`major_to_year` $\\circ$ `students_to_major`), which we can do with a left join:"
   ]
  },
  {
   "cell_type": "code",
   "execution_count": 19,
   "id": "guided-neighborhood",
   "metadata": {},
   "outputs": [
    {
     "ename": "NameError",
     "evalue": "name 'major_to_year' is not defined",
     "output_type": "error",
     "traceback": [
      "\u001b[0;31m---------------------------------------------------------------------------\u001b[0m",
      "\u001b[0;31mNameError\u001b[0m                                 Traceback (most recent call last)",
      "\u001b[0;32m<ipython-input-19-d588f95c3345>\u001b[0m in \u001b[0;36m<module>\u001b[0;34m\u001b[0m\n\u001b[0;32m----> 1\u001b[0;31m \u001b[0mmty_comp_stm\u001b[0m \u001b[0;34m=\u001b[0m \u001b[0mmajor_to_year\u001b[0m\u001b[0;34m.\u001b[0m\u001b[0mmerge\u001b[0m\u001b[0;34m(\u001b[0m\u001b[0mstudents_to_major\u001b[0m\u001b[0;34m,\u001b[0m \u001b[0mhow\u001b[0m\u001b[0;34m=\u001b[0m\u001b[0;34m\"left\"\u001b[0m\u001b[0;34m,\u001b[0m \u001b[0mon\u001b[0m\u001b[0;34m=\u001b[0m\u001b[0;34m\"Major\"\u001b[0m\u001b[0;34m)\u001b[0m\u001b[0;34m.\u001b[0m\u001b[0mdrop\u001b[0m\u001b[0;34m(\u001b[0m\u001b[0;34m\"Major\"\u001b[0m\u001b[0;34m,\u001b[0m \u001b[0maxis\u001b[0m\u001b[0;34m=\u001b[0m\u001b[0;36m1\u001b[0m\u001b[0;34m)\u001b[0m\u001b[0;34m[\u001b[0m\u001b[0;34m[\u001b[0m\u001b[0;34m'StudentID'\u001b[0m\u001b[0;34m,\u001b[0m \u001b[0;34m'Year'\u001b[0m\u001b[0;34m]\u001b[0m\u001b[0;34m]\u001b[0m\u001b[0;34m\u001b[0m\u001b[0;34m\u001b[0m\u001b[0m\n\u001b[0m\u001b[1;32m      2\u001b[0m \u001b[0mmty_comp_stm\u001b[0m\u001b[0;34m\u001b[0m\u001b[0;34m\u001b[0m\u001b[0m\n",
      "\u001b[0;31mNameError\u001b[0m: name 'major_to_year' is not defined"
     ]
    }
   ],
   "source": [
    "mty_comp_stm = major_to_year.merge(students_to_major, how=\"left\", on=\"Major\").drop(\"Major\", axis=1)[['StudentID', 'Year']]\n",
    "mty_comp_stm"
   ]
  },
  {
   "cell_type": "markdown",
   "id": "focal-difference",
   "metadata": {},
   "source": [
    "Notice that this gives us a function from `StudentID` to `Year`, but it is of course a different function than the function `students_to_year` we defined before. Next, we compose with `year_to_students1` on the left, to get the composition `year_to_students1` $\\circ$(`major_to_year` $\\circ$ `students_to_major`):"
   ]
  },
  {
   "cell_type": "code",
   "execution_count": 20,
   "id": "answering-peripheral",
   "metadata": {},
   "outputs": [
    {
     "ename": "NameError",
     "evalue": "name 'mty_comp_stm' is not defined",
     "output_type": "error",
     "traceback": [
      "\u001b[0;31m---------------------------------------------------------------------------\u001b[0m",
      "\u001b[0;31mNameError\u001b[0m                                 Traceback (most recent call last)",
      "\u001b[0;32m<ipython-input-20-fe64054148e9>\u001b[0m in \u001b[0;36m<module>\u001b[0;34m\u001b[0m\n\u001b[0;32m----> 1\u001b[0;31m \u001b[0mcomposition1\u001b[0m \u001b[0;34m=\u001b[0m  \u001b[0mmty_comp_stm\u001b[0m\u001b[0;34m.\u001b[0m\u001b[0mmerge\u001b[0m\u001b[0;34m(\u001b[0m\u001b[0myear_to_students1\u001b[0m\u001b[0;34m,\u001b[0m \u001b[0mhow\u001b[0m\u001b[0;34m=\u001b[0m\u001b[0;34m\"left\"\u001b[0m\u001b[0;34m,\u001b[0m \u001b[0mon\u001b[0m\u001b[0;34m=\u001b[0m\u001b[0;34m\"Year\"\u001b[0m\u001b[0;34m)\u001b[0m\u001b[0;34m.\u001b[0m\u001b[0mdrop\u001b[0m\u001b[0;34m(\u001b[0m\u001b[0;34m\"Year\"\u001b[0m\u001b[0;34m,\u001b[0m \u001b[0maxis\u001b[0m\u001b[0;34m=\u001b[0m\u001b[0;36m1\u001b[0m\u001b[0;34m)\u001b[0m\u001b[0;34m\u001b[0m\u001b[0;34m\u001b[0m\u001b[0m\n\u001b[0m\u001b[1;32m      2\u001b[0m \u001b[0mprint\u001b[0m\u001b[0;34m(\u001b[0m\u001b[0;34m'year_to_students1 o (major_to_year o students_to_major) is given by'\u001b[0m\u001b[0;34m)\u001b[0m\u001b[0;34m\u001b[0m\u001b[0;34m\u001b[0m\u001b[0m\n\u001b[1;32m      3\u001b[0m \u001b[0mcomposition1\u001b[0m\u001b[0;34m\u001b[0m\u001b[0;34m\u001b[0m\u001b[0m\n",
      "\u001b[0;31mNameError\u001b[0m: name 'mty_comp_stm' is not defined"
     ]
    }
   ],
   "source": [
    "composition1 =  mty_comp_stm.merge(year_to_students1, how=\"left\", on=\"Year\").drop(\"Year\", axis=1)\n",
    "print('year_to_students1 o (major_to_year o students_to_major) is given by')\n",
    "composition1"
   ]
  },
  {
   "cell_type": "markdown",
   "id": "pretty-consumption",
   "metadata": {},
   "source": [
    "Next, let compute the composition the other way; namely, let's compute (`year_to_students1` $\\circ$`major_to_year`) $\\circ$ `students_to_major`. We'll start by computing  (`year_to_students1` $\\circ$`major_to_year`), which is a function from `Major` to `StudentID` :"
   ]
  },
  {
   "cell_type": "code",
   "execution_count": 21,
   "id": "sought-tomorrow",
   "metadata": {},
   "outputs": [
    {
     "ename": "NameError",
     "evalue": "name 'year_to_students1' is not defined",
     "output_type": "error",
     "traceback": [
      "\u001b[0;31m---------------------------------------------------------------------------\u001b[0m",
      "\u001b[0;31mNameError\u001b[0m                                 Traceback (most recent call last)",
      "\u001b[0;32m<ipython-input-21-410ec144aa27>\u001b[0m in \u001b[0;36m<module>\u001b[0;34m\u001b[0m\n\u001b[0;32m----> 1\u001b[0;31m \u001b[0myts_comp_mty\u001b[0m \u001b[0;34m=\u001b[0m \u001b[0myear_to_students1\u001b[0m\u001b[0;34m.\u001b[0m\u001b[0mmerge\u001b[0m\u001b[0;34m(\u001b[0m\u001b[0mmajor_to_year\u001b[0m\u001b[0;34m,\u001b[0m \u001b[0mhow\u001b[0m\u001b[0;34m=\u001b[0m\u001b[0;34m\"left\"\u001b[0m\u001b[0;34m,\u001b[0m \u001b[0mon\u001b[0m\u001b[0;34m=\u001b[0m\u001b[0;34m\"Year\"\u001b[0m\u001b[0;34m)\u001b[0m\u001b[0;34m.\u001b[0m\u001b[0mdrop\u001b[0m\u001b[0;34m(\u001b[0m\u001b[0;34m\"Year\"\u001b[0m\u001b[0;34m,\u001b[0m \u001b[0maxis\u001b[0m\u001b[0;34m=\u001b[0m\u001b[0;36m1\u001b[0m\u001b[0;34m)\u001b[0m\u001b[0;34m[\u001b[0m\u001b[0;34m[\u001b[0m\u001b[0;34m'Major'\u001b[0m\u001b[0;34m,\u001b[0m \u001b[0;34m'StudentID'\u001b[0m\u001b[0;34m]\u001b[0m\u001b[0;34m]\u001b[0m\u001b[0;34m\u001b[0m\u001b[0;34m\u001b[0m\u001b[0m\n\u001b[0m\u001b[1;32m      2\u001b[0m \u001b[0myts_comp_mty\u001b[0m\u001b[0;34m\u001b[0m\u001b[0;34m\u001b[0m\u001b[0m\n",
      "\u001b[0;31mNameError\u001b[0m: name 'year_to_students1' is not defined"
     ]
    }
   ],
   "source": [
    "yts_comp_mty = year_to_students1.merge(major_to_year, how=\"left\", on=\"Year\").drop(\"Year\", axis=1)[['Major', 'StudentID']]\n",
    "yts_comp_mty"
   ]
  },
  {
   "cell_type": "markdown",
   "id": "ahead-welcome",
   "metadata": {},
   "source": [
    "Next, we'll compose this with `students_to_major` on the right."
   ]
  },
  {
   "cell_type": "code",
   "execution_count": 22,
   "id": "documentary-supply",
   "metadata": {},
   "outputs": [
    {
     "ename": "NameError",
     "evalue": "name 'students_to_major' is not defined",
     "output_type": "error",
     "traceback": [
      "\u001b[0;31m---------------------------------------------------------------------------\u001b[0m",
      "\u001b[0;31mNameError\u001b[0m                                 Traceback (most recent call last)",
      "\u001b[0;32m<ipython-input-22-f2d9808a9a07>\u001b[0m in \u001b[0;36m<module>\u001b[0;34m\u001b[0m\n\u001b[0;32m----> 1\u001b[0;31m \u001b[0mcomposition2\u001b[0m \u001b[0;34m=\u001b[0m \u001b[0mstudents_to_major\u001b[0m\u001b[0;34m.\u001b[0m\u001b[0mmerge\u001b[0m\u001b[0;34m(\u001b[0m\u001b[0myts_comp_mty\u001b[0m\u001b[0;34m,\u001b[0m \u001b[0mhow\u001b[0m\u001b[0;34m=\u001b[0m\u001b[0;34m\"left\"\u001b[0m\u001b[0;34m,\u001b[0m \u001b[0mon\u001b[0m\u001b[0;34m=\u001b[0m\u001b[0;34m\"Major\"\u001b[0m\u001b[0;34m)\u001b[0m\u001b[0;34m.\u001b[0m\u001b[0mdrop\u001b[0m\u001b[0;34m(\u001b[0m\u001b[0;34m\"Major\"\u001b[0m\u001b[0;34m,\u001b[0m \u001b[0maxis\u001b[0m\u001b[0;34m=\u001b[0m\u001b[0;36m1\u001b[0m\u001b[0;34m)\u001b[0m\u001b[0;34m\u001b[0m\u001b[0;34m\u001b[0m\u001b[0m\n\u001b[0m\u001b[1;32m      2\u001b[0m \u001b[0mprint\u001b[0m\u001b[0;34m(\u001b[0m\u001b[0;34m'(year_to_students1 o major_to_year) o students_to_major is given by'\u001b[0m\u001b[0;34m)\u001b[0m\u001b[0;34m\u001b[0m\u001b[0;34m\u001b[0m\u001b[0m\n\u001b[1;32m      3\u001b[0m \u001b[0mcomposition2\u001b[0m\u001b[0;34m\u001b[0m\u001b[0;34m\u001b[0m\u001b[0m\n",
      "\u001b[0;31mNameError\u001b[0m: name 'students_to_major' is not defined"
     ]
    }
   ],
   "source": [
    "composition2 = students_to_major.merge(yts_comp_mty, how=\"left\", on=\"Major\").drop(\"Major\", axis=1)\n",
    "print('(year_to_students1 o major_to_year) o students_to_major is given by')\n",
    "composition2"
   ]
  },
  {
   "cell_type": "markdown",
   "id": "tender-louisiana",
   "metadata": {},
   "source": [
    "As we can see, we do in fact have that  `year_to_students1` $\\circ$ (`major_to_year` $\\circ$ `students_to_major`) =  (`year_to_students1` $\\circ$`major_to_year`) $\\circ$ `students_to_major` -- that is, we've shown the associative property!\n",
    "\n",
    "\n",
    "## Function compositions yield the Identity\n",
    "\n",
    "In the previous two section, we composed functions and obtained new function mapping the set `StudentID` to itself. \n",
    "However, none of these compositions gave us the _identity function_ on the set `StudentID` -- namely, each student ID was not mapped to itself. \n",
    "It is, however, very easy to compose two functions and obtain the identity function. \n",
    "In this section, we give a few examples of such a composition. \n",
    "\n",
    "First, let's consider the function `students_to_major` which we've used in the previous sections. \n",
    "Is there a function that we compose on the right to obtain the identity? \n",
    "Let's try and find one. \n",
    "Below, we define a function`major_to_students`, which assigns to each major the student with the smallest student ID."
   ]
  },
  {
   "cell_type": "code",
   "execution_count": 23,
   "id": "defined-niagara",
   "metadata": {},
   "outputs": [
    {
     "ename": "NameError",
     "evalue": "name 'students' is not defined",
     "output_type": "error",
     "traceback": [
      "\u001b[0;31m---------------------------------------------------------------------------\u001b[0m",
      "\u001b[0;31mNameError\u001b[0m                                 Traceback (most recent call last)",
      "\u001b[0;32m<ipython-input-23-1f744e103e25>\u001b[0m in \u001b[0;36m<module>\u001b[0;34m\u001b[0m\n\u001b[0;32m----> 1\u001b[0;31m \u001b[0mmajor_to_students\u001b[0m \u001b[0;34m=\u001b[0m \u001b[0mstudents\u001b[0m\u001b[0;34m.\u001b[0m\u001b[0mgroupby\u001b[0m\u001b[0;34m(\u001b[0m\u001b[0;34m'Major'\u001b[0m\u001b[0;34m,\u001b[0m \u001b[0mas_index\u001b[0m\u001b[0;34m=\u001b[0m\u001b[0;32mFalse\u001b[0m\u001b[0;34m)\u001b[0m\u001b[0;34m[\u001b[0m\u001b[0;34m[\u001b[0m\u001b[0;34m'Major'\u001b[0m\u001b[0;34m,\u001b[0m\u001b[0;34m'StudentID'\u001b[0m\u001b[0;34m]\u001b[0m\u001b[0;34m]\u001b[0m\u001b[0;34m.\u001b[0m\u001b[0mmin\u001b[0m\u001b[0;34m(\u001b[0m\u001b[0;34m'StudentID'\u001b[0m\u001b[0;34m)\u001b[0m\u001b[0;34m\u001b[0m\u001b[0;34m\u001b[0m\u001b[0m\n\u001b[0m\u001b[1;32m      2\u001b[0m \u001b[0mmajor_to_students\u001b[0m\u001b[0;34m\u001b[0m\u001b[0;34m\u001b[0m\u001b[0m\n",
      "\u001b[0;31mNameError\u001b[0m: name 'students' is not defined"
     ]
    }
   ],
   "source": [
    "major_to_students = students.groupby('Major', as_index=False)[['Major','StudentID']].min('StudentID')\n",
    "major_to_students"
   ]
  },
  {
   "cell_type": "markdown",
   "id": "representative-voltage",
   "metadata": {},
   "source": [
    "Now, what happens if we compose these to get a function `students_to_major` $\\circ$ `major_to_students`, from `Major` to `Major`? \n",
    "Let's see:"
   ]
  },
  {
   "cell_type": "code",
   "execution_count": 24,
   "id": "preliminary-mount",
   "metadata": {},
   "outputs": [
    {
     "ename": "NameError",
     "evalue": "name 'major_to_students' is not defined",
     "output_type": "error",
     "traceback": [
      "\u001b[0;31m---------------------------------------------------------------------------\u001b[0m",
      "\u001b[0;31mNameError\u001b[0m                                 Traceback (most recent call last)",
      "\u001b[0;32m<ipython-input-24-99d5ef62a3b8>\u001b[0m in \u001b[0;36m<module>\u001b[0;34m\u001b[0m\n\u001b[0;32m----> 1\u001b[0;31m \u001b[0mmajor_to_major\u001b[0m \u001b[0;34m=\u001b[0m \u001b[0mmajor_to_students\u001b[0m\u001b[0;34m.\u001b[0m\u001b[0mmerge\u001b[0m\u001b[0;34m(\u001b[0m\u001b[0mstudents_to_major\u001b[0m\u001b[0;34m,\u001b[0m \u001b[0mhow\u001b[0m\u001b[0;34m=\u001b[0m\u001b[0;34m\"left\"\u001b[0m\u001b[0;34m,\u001b[0m \u001b[0mon\u001b[0m\u001b[0;34m=\u001b[0m\u001b[0;34m\"StudentID\"\u001b[0m\u001b[0;34m)\u001b[0m\u001b[0;34m.\u001b[0m\u001b[0mdrop\u001b[0m\u001b[0;34m(\u001b[0m\u001b[0;34m\"StudentID\"\u001b[0m\u001b[0;34m,\u001b[0m \u001b[0maxis\u001b[0m\u001b[0;34m=\u001b[0m\u001b[0;36m1\u001b[0m\u001b[0;34m)\u001b[0m\u001b[0;34m\u001b[0m\u001b[0;34m\u001b[0m\u001b[0m\n\u001b[0m\u001b[1;32m      2\u001b[0m \u001b[0mmajor_to_major\u001b[0m\u001b[0;34m\u001b[0m\u001b[0;34m\u001b[0m\u001b[0m\n",
      "\u001b[0;31mNameError\u001b[0m: name 'major_to_students' is not defined"
     ]
    }
   ],
   "source": [
    "major_to_major = major_to_students.merge(students_to_major, how=\"left\", on=\"StudentID\").drop(\"StudentID\", axis=1)\n",
    "major_to_major"
   ]
  },
  {
   "cell_type": "markdown",
   "id": "creative-monaco",
   "metadata": {},
   "source": [
    "This time we do indeed get the identity function on the set `Major`! \n",
    "\n",
    "What happens if we try to \"reverse\" the operation, and instead compute the composition `major_to_students` $\\circ$ `students_to_major`, which this time is a function between `StudentID` and `StudentID`?"
   ]
  },
  {
   "cell_type": "code",
   "execution_count": 25,
   "id": "natural-galaxy",
   "metadata": {},
   "outputs": [
    {
     "ename": "NameError",
     "evalue": "name 'students_to_major' is not defined",
     "output_type": "error",
     "traceback": [
      "\u001b[0;31m---------------------------------------------------------------------------\u001b[0m",
      "\u001b[0;31mNameError\u001b[0m                                 Traceback (most recent call last)",
      "\u001b[0;32m<ipython-input-25-8163d6ccf125>\u001b[0m in \u001b[0;36m<module>\u001b[0;34m\u001b[0m\n\u001b[0;32m----> 1\u001b[0;31m \u001b[0mstudents_to_students2\u001b[0m \u001b[0;34m=\u001b[0m \u001b[0mstudents_to_major\u001b[0m\u001b[0;34m.\u001b[0m\u001b[0mmerge\u001b[0m\u001b[0;34m(\u001b[0m\u001b[0mmajor_to_students\u001b[0m\u001b[0;34m,\u001b[0m \u001b[0mhow\u001b[0m\u001b[0;34m=\u001b[0m\u001b[0;34m\"left\"\u001b[0m\u001b[0;34m,\u001b[0m \u001b[0mon\u001b[0m\u001b[0;34m=\u001b[0m\u001b[0;34m\"Major\"\u001b[0m\u001b[0;34m)\u001b[0m\u001b[0;34m.\u001b[0m\u001b[0mdrop\u001b[0m\u001b[0;34m(\u001b[0m\u001b[0;34m\"Major\"\u001b[0m\u001b[0;34m,\u001b[0m \u001b[0maxis\u001b[0m\u001b[0;34m=\u001b[0m\u001b[0;36m1\u001b[0m\u001b[0;34m)\u001b[0m\u001b[0;34m\u001b[0m\u001b[0;34m\u001b[0m\u001b[0m\n\u001b[0m\u001b[1;32m      2\u001b[0m \u001b[0mstudents_to_students2\u001b[0m\u001b[0;34m\u001b[0m\u001b[0;34m\u001b[0m\u001b[0m\n",
      "\u001b[0;31mNameError\u001b[0m: name 'students_to_major' is not defined"
     ]
    }
   ],
   "source": [
    "students_to_students2 = students_to_major.merge(major_to_students, how=\"left\", on=\"Major\").drop(\"Major\", axis=1)\n",
    "students_to_students2"
   ]
  },
  {
   "cell_type": "markdown",
   "id": "mature-reach",
   "metadata": {},
   "source": [
    "This is distinctly _not_ the identity function. \n",
    "So, we can compose in one direction and get the identity, but not the other. \n",
    "As we will see later, this is related to the fact that the set `Major` is \"smaller\" than the set `StudentID`. \n",
    "\n",
    "Here is another example, where we _can_ get the identity function on students. \n",
    "Let's consider the function `students_to_grades` that we defined above, which maps students to their highest grade. \n",
    "Next, let's define a function `grades_to_students` which maps grades to students. \n",
    "This is not necessarily a well-defined function in all cases, since multiple students could have the same grade. However, we can do this in this case by simply flipping the columns of the `students_to_grades` table:"
   ]
  },
  {
   "cell_type": "code",
   "execution_count": 26,
   "id": "ruled-allocation",
   "metadata": {},
   "outputs": [
    {
     "ename": "NameError",
     "evalue": "name 'students_to_grades' is not defined",
     "output_type": "error",
     "traceback": [
      "\u001b[0;31m---------------------------------------------------------------------------\u001b[0m",
      "\u001b[0;31mNameError\u001b[0m                                 Traceback (most recent call last)",
      "\u001b[0;32m<ipython-input-26-21cdab48ffeb>\u001b[0m in \u001b[0;36m<module>\u001b[0;34m\u001b[0m\n\u001b[0;32m----> 1\u001b[0;31m \u001b[0mgrades_to_students\u001b[0m \u001b[0;34m=\u001b[0m \u001b[0mstudents_to_grades\u001b[0m\u001b[0;34m[\u001b[0m\u001b[0;34m[\u001b[0m\u001b[0;34m'Grade'\u001b[0m\u001b[0;34m,\u001b[0m \u001b[0;34m'StudentID'\u001b[0m\u001b[0;34m]\u001b[0m\u001b[0;34m]\u001b[0m\u001b[0;34m\u001b[0m\u001b[0;34m\u001b[0m\u001b[0m\n\u001b[0m\u001b[1;32m      2\u001b[0m \u001b[0mgrades_to_students\u001b[0m\u001b[0;34m\u001b[0m\u001b[0;34m\u001b[0m\u001b[0m\n",
      "\u001b[0;31mNameError\u001b[0m: name 'students_to_grades' is not defined"
     ]
    }
   ],
   "source": [
    "grades_to_students = students_to_grades[['Grade', 'StudentID']]\n",
    "grades_to_students"
   ]
  },
  {
   "cell_type": "markdown",
   "id": "recent-hormone",
   "metadata": {},
   "source": [
    "Now, let's compose these function to get `grades_to_students` $\\circ$ `students_to_grades`, and see if it gives us the identity function on `StudentID`:"
   ]
  },
  {
   "cell_type": "code",
   "execution_count": 27,
   "id": "located-chile",
   "metadata": {},
   "outputs": [
    {
     "ename": "NameError",
     "evalue": "name 'students_to_grades' is not defined",
     "output_type": "error",
     "traceback": [
      "\u001b[0;31m---------------------------------------------------------------------------\u001b[0m",
      "\u001b[0;31mNameError\u001b[0m                                 Traceback (most recent call last)",
      "\u001b[0;32m<ipython-input-27-ee0694252fd2>\u001b[0m in \u001b[0;36m<module>\u001b[0;34m\u001b[0m\n\u001b[0;32m----> 1\u001b[0;31m \u001b[0mstudents_to_students3\u001b[0m \u001b[0;34m=\u001b[0m \u001b[0mstudents_to_grades\u001b[0m\u001b[0;34m.\u001b[0m\u001b[0mmerge\u001b[0m\u001b[0;34m(\u001b[0m\u001b[0mgrades_to_students\u001b[0m\u001b[0;34m,\u001b[0m \u001b[0mhow\u001b[0m\u001b[0;34m=\u001b[0m\u001b[0;34m\"left\"\u001b[0m\u001b[0;34m,\u001b[0m \u001b[0mon\u001b[0m\u001b[0;34m=\u001b[0m\u001b[0;34m\"Grade\"\u001b[0m\u001b[0;34m)\u001b[0m\u001b[0;34m.\u001b[0m\u001b[0mdrop\u001b[0m\u001b[0;34m(\u001b[0m\u001b[0;34m\"Grade\"\u001b[0m\u001b[0;34m,\u001b[0m \u001b[0maxis\u001b[0m\u001b[0;34m=\u001b[0m\u001b[0;36m1\u001b[0m\u001b[0;34m)\u001b[0m\u001b[0;34m\u001b[0m\u001b[0;34m\u001b[0m\u001b[0m\n\u001b[0m\u001b[1;32m      2\u001b[0m \u001b[0mstudents_to_students3\u001b[0m\u001b[0;34m\u001b[0m\u001b[0;34m\u001b[0m\u001b[0m\n",
      "\u001b[0;31mNameError\u001b[0m: name 'students_to_grades' is not defined"
     ]
    }
   ],
   "source": [
    "students_to_students3 = students_to_grades.merge(grades_to_students, how=\"left\", on=\"Grade\").drop(\"Grade\", axis=1)\n",
    "students_to_students3"
   ]
  },
  {
   "cell_type": "markdown",
   "id": "labeled-finish",
   "metadata": {},
   "source": [
    "Finally, this gave us an identity function on `StudentID`! \n",
    "However, we should be entirely surprised by this: indeed, this worked because each student happened to have a _unique_ highest grade, which meant this grade could be uniquely assigned to each student, and thus we can translate between grades and students without losing any information. \n",
    "We can see this is true by flipping the composition in the other direction, and looking at the function `students_to_grades` $\\circ$ `grades_to_students`:"
   ]
  },
  {
   "cell_type": "code",
   "execution_count": 28,
   "id": "ranking-bracelet",
   "metadata": {},
   "outputs": [
    {
     "ename": "NameError",
     "evalue": "name 'students_to_grades' is not defined",
     "output_type": "error",
     "traceback": [
      "\u001b[0;31m---------------------------------------------------------------------------\u001b[0m",
      "\u001b[0;31mNameError\u001b[0m                                 Traceback (most recent call last)",
      "\u001b[0;32m<ipython-input-28-dda858d8df76>\u001b[0m in \u001b[0;36m<module>\u001b[0;34m\u001b[0m\n\u001b[0;32m----> 1\u001b[0;31m \u001b[0mgrades_to_grades\u001b[0m \u001b[0;34m=\u001b[0m \u001b[0mstudents_to_grades\u001b[0m\u001b[0;34m.\u001b[0m\u001b[0mmerge\u001b[0m\u001b[0;34m(\u001b[0m\u001b[0mgrades_to_students\u001b[0m\u001b[0;34m,\u001b[0m \u001b[0mhow\u001b[0m\u001b[0;34m=\u001b[0m\u001b[0;34m\"left\"\u001b[0m\u001b[0;34m,\u001b[0m \u001b[0mon\u001b[0m\u001b[0;34m=\u001b[0m\u001b[0;34m\"StudentID\"\u001b[0m\u001b[0;34m)\u001b[0m\u001b[0;34m.\u001b[0m\u001b[0mdrop\u001b[0m\u001b[0;34m(\u001b[0m\u001b[0;34m\"StudentID\"\u001b[0m\u001b[0;34m,\u001b[0m \u001b[0maxis\u001b[0m\u001b[0;34m=\u001b[0m\u001b[0;36m1\u001b[0m\u001b[0;34m)\u001b[0m\u001b[0;34m\u001b[0m\u001b[0;34m\u001b[0m\u001b[0m\n\u001b[0m\u001b[1;32m      2\u001b[0m \u001b[0mgrades_to_grades\u001b[0m\u001b[0;34m\u001b[0m\u001b[0;34m\u001b[0m\u001b[0m\n",
      "\u001b[0;31mNameError\u001b[0m: name 'students_to_grades' is not defined"
     ]
    }
   ],
   "source": [
    "grades_to_grades = students_to_grades.merge(grades_to_students, how=\"left\", on=\"StudentID\").drop(\"StudentID\", axis=1)\n",
    "grades_to_grades"
   ]
  },
  {
   "cell_type": "markdown",
   "id": "polyphonic-climb",
   "metadata": {},
   "source": [
    "Indeed, this gives us the identity on (a subset of) the set `Grade`. \n",
    "Which subset in particular is this? \n",
    "It is simply _range_ of our function `students_to_grades`. \n",
    "\n",
    "\n",
    "## Idempotent/projection functions\n",
    "\n",
    "An idempotent function, also known as a projection function, is a function that yields the same answer when it is applied twice as when it is applied once. \n",
    "In other words, a function $f:A\\to A$ is _idempotent_ if for all $a\\in A$, $f(a) = f(f(a))$. \n",
    "\n",
    "We can illustrate it with basic set operations (as last time, with set union and intersection), and we can illustrate it with more general functions with a data frame.\n",
    "\n",
    "Let's see a simple example. \n",
    "Consider the function $f$ mapping `StudentID` to `StudentID`, defined in the following way. \n",
    "For each student, the function $f$ returns the student in his/her major with the highest average grade. \n",
    "Let's compute this function using python. \n",
    "First, we define a new data frame with each student's average grades:"
   ]
  },
  {
   "cell_type": "code",
   "execution_count": 29,
   "id": "through-passenger",
   "metadata": {},
   "outputs": [
    {
     "ename": "NameError",
     "evalue": "name 'students' is not defined",
     "output_type": "error",
     "traceback": [
      "\u001b[0;31m---------------------------------------------------------------------------\u001b[0m",
      "\u001b[0;31mNameError\u001b[0m                                 Traceback (most recent call last)",
      "\u001b[0;32m<ipython-input-29-e903885f2c01>\u001b[0m in \u001b[0;36m<module>\u001b[0;34m\u001b[0m\n\u001b[0;32m----> 1\u001b[0;31m \u001b[0mstudents_avg_grades\u001b[0m \u001b[0;34m=\u001b[0m \u001b[0mstudents\u001b[0m\u001b[0;34m.\u001b[0m\u001b[0mgroupby\u001b[0m\u001b[0;34m(\u001b[0m\u001b[0;34m\"StudentID\"\u001b[0m\u001b[0;34m,\u001b[0m \u001b[0mas_index\u001b[0m\u001b[0;34m=\u001b[0m\u001b[0;32mFalse\u001b[0m\u001b[0;34m)\u001b[0m\u001b[0;34m.\u001b[0m\u001b[0mmean\u001b[0m\u001b[0;34m(\u001b[0m\u001b[0;34m'Grade'\u001b[0m\u001b[0;34m)\u001b[0m\u001b[0;34m\u001b[0m\u001b[0;34m\u001b[0m\u001b[0m\n\u001b[0m\u001b[1;32m      2\u001b[0m \u001b[0mmajors\u001b[0m \u001b[0;34m=\u001b[0m \u001b[0mstudents\u001b[0m\u001b[0;34m.\u001b[0m\u001b[0mgroupby\u001b[0m\u001b[0;34m(\u001b[0m\u001b[0;34m\"StudentID\"\u001b[0m\u001b[0;34m,\u001b[0m \u001b[0mas_index\u001b[0m\u001b[0;34m=\u001b[0m\u001b[0;32mFalse\u001b[0m\u001b[0;34m)\u001b[0m\u001b[0;34m[\u001b[0m\u001b[0;34m[\u001b[0m\u001b[0;34m'StudentID'\u001b[0m\u001b[0;34m,\u001b[0m \u001b[0;34m'Major'\u001b[0m\u001b[0;34m]\u001b[0m\u001b[0;34m]\u001b[0m\u001b[0;34m.\u001b[0m\u001b[0mfirst\u001b[0m\u001b[0;34m(\u001b[0m\u001b[0;34m)\u001b[0m\u001b[0;34m\u001b[0m\u001b[0;34m\u001b[0m\u001b[0m\n\u001b[1;32m      3\u001b[0m \u001b[0mstudents_avg_grades\u001b[0m\u001b[0;34m[\u001b[0m\u001b[0;34m'Major'\u001b[0m\u001b[0;34m]\u001b[0m \u001b[0;34m=\u001b[0m \u001b[0mmajors\u001b[0m\u001b[0;34m[\u001b[0m\u001b[0;34m'Major'\u001b[0m\u001b[0;34m]\u001b[0m\u001b[0;34m\u001b[0m\u001b[0;34m\u001b[0m\u001b[0m\n\u001b[1;32m      4\u001b[0m \u001b[0mstudents_avg_grades\u001b[0m\u001b[0;34m\u001b[0m\u001b[0;34m\u001b[0m\u001b[0m\n",
      "\u001b[0;31mNameError\u001b[0m: name 'students' is not defined"
     ]
    }
   ],
   "source": [
    "students_avg_grades = students.groupby(\"StudentID\", as_index=False).mean('Grade')\n",
    "majors = students.groupby(\"StudentID\", as_index=False)[['StudentID', 'Major']].first()\n",
    "students_avg_grades['Major'] = majors['Major']\n",
    "students_avg_grades"
   ]
  },
  {
   "cell_type": "markdown",
   "id": "atlantic-battery",
   "metadata": {},
   "source": [
    "Next, we can compute the function $f$ from  `StudentID` to `StudentID` defined above."
   ]
  },
  {
   "cell_type": "code",
   "execution_count": 30,
   "id": "decimal-techno",
   "metadata": {},
   "outputs": [
    {
     "ename": "NameError",
     "evalue": "name 'students_avg_grades' is not defined",
     "output_type": "error",
     "traceback": [
      "\u001b[0;31m---------------------------------------------------------------------------\u001b[0m",
      "\u001b[0;31mNameError\u001b[0m                                 Traceback (most recent call last)",
      "\u001b[0;32m<ipython-input-30-5ea990c115a5>\u001b[0m in \u001b[0;36m<module>\u001b[0;34m\u001b[0m\n\u001b[0;32m----> 1\u001b[0;31m \u001b[0mmax_grade_by_major\u001b[0m \u001b[0;34m=\u001b[0m \u001b[0mstudents_avg_grades\u001b[0m\u001b[0;34m.\u001b[0m\u001b[0mgroupby\u001b[0m\u001b[0;34m(\u001b[0m\u001b[0;34m\"Major\"\u001b[0m\u001b[0;34m,\u001b[0m \u001b[0mas_index\u001b[0m\u001b[0;34m=\u001b[0m\u001b[0;32mFalse\u001b[0m\u001b[0;34m)\u001b[0m\u001b[0;34m[\u001b[0m\u001b[0;34m[\u001b[0m\u001b[0;34m\"Major\"\u001b[0m\u001b[0;34m,\u001b[0m \u001b[0;34m\"StudentID\"\u001b[0m\u001b[0;34m]\u001b[0m\u001b[0;34m]\u001b[0m\u001b[0;34m.\u001b[0m\u001b[0mmax\u001b[0m\u001b[0;34m(\u001b[0m\u001b[0;34m\"Grade\"\u001b[0m\u001b[0;34m)\u001b[0m\u001b[0;34m\u001b[0m\u001b[0;34m\u001b[0m\u001b[0m\n\u001b[0m\u001b[1;32m      2\u001b[0m \u001b[0mstdnt_to_stdnt_highest_grade\u001b[0m \u001b[0;34m=\u001b[0m \u001b[0mstudents_avg_grades\u001b[0m\u001b[0;34m.\u001b[0m\u001b[0mmerge\u001b[0m\u001b[0;34m(\u001b[0m\u001b[0mmax_grade_by_major\u001b[0m\u001b[0;34m,\u001b[0m \u001b[0mhow\u001b[0m\u001b[0;34m=\u001b[0m\u001b[0;34m\"left\"\u001b[0m\u001b[0;34m,\u001b[0m \u001b[0mon\u001b[0m\u001b[0;34m=\u001b[0m\u001b[0;34m\"Major\"\u001b[0m\u001b[0;34m)\u001b[0m\u001b[0;34m[\u001b[0m\u001b[0;34m[\u001b[0m\u001b[0;34m'StudentID_x'\u001b[0m\u001b[0;34m,\u001b[0m \u001b[0;34m'StudentID_y'\u001b[0m\u001b[0;34m,\u001b[0m \u001b[0;34m'Major'\u001b[0m\u001b[0;34m]\u001b[0m\u001b[0;34m]\u001b[0m\u001b[0;34m\u001b[0m\u001b[0;34m\u001b[0m\u001b[0m\n\u001b[1;32m      3\u001b[0m \u001b[0mstdnt_to_stdnt_highest_grade\u001b[0m\u001b[0;34m.\u001b[0m\u001b[0mcolumns\u001b[0m \u001b[0;34m=\u001b[0m \u001b[0;34m[\u001b[0m\u001b[0;34m'StudentID'\u001b[0m\u001b[0;34m,\u001b[0m \u001b[0;34m'f(StudentID)'\u001b[0m\u001b[0;34m,\u001b[0m \u001b[0;34m'Major'\u001b[0m\u001b[0;34m]\u001b[0m\u001b[0;34m\u001b[0m\u001b[0;34m\u001b[0m\u001b[0m\n\u001b[1;32m      4\u001b[0m \u001b[0mstdnt_to_stdnt_highest_grade\u001b[0m\u001b[0;34m[\u001b[0m\u001b[0;34m[\u001b[0m\u001b[0;34m'StudentID'\u001b[0m\u001b[0;34m,\u001b[0m \u001b[0;34m'f(StudentID)'\u001b[0m\u001b[0;34m]\u001b[0m\u001b[0;34m]\u001b[0m\u001b[0;34m\u001b[0m\u001b[0;34m\u001b[0m\u001b[0m\n",
      "\u001b[0;31mNameError\u001b[0m: name 'students_avg_grades' is not defined"
     ]
    }
   ],
   "source": [
    "max_grade_by_major = students_avg_grades.groupby(\"Major\", as_index=False)[[\"Major\", \"StudentID\"]].max(\"Grade\")\n",
    "stdnt_to_stdnt_highest_grade = students_avg_grades.merge(max_grade_by_major, how=\"left\", on=\"Major\")[['StudentID_x', 'StudentID_y', 'Major']]\n",
    "stdnt_to_stdnt_highest_grade.columns = ['StudentID', 'f(StudentID)', 'Major']\n",
    "stdnt_to_stdnt_highest_grade[['StudentID', 'f(StudentID)']]"
   ]
  },
  {
   "cell_type": "markdown",
   "id": "integral-clarity",
   "metadata": {},
   "source": [
    "Note that we did a bit of clean up in the cell above to make sure that the column names were interpretable (Pandas will automatically assign new column names when we join two tables with the same column name). \n",
    "\n",
    "Now, let's use another join to compute $f(f(\\text{StudentID}))$."
   ]
  },
  {
   "cell_type": "code",
   "execution_count": 31,
   "id": "following-assumption",
   "metadata": {},
   "outputs": [
    {
     "ename": "NameError",
     "evalue": "name 'stdnt_to_stdnt_highest_grade' is not defined",
     "output_type": "error",
     "traceback": [
      "\u001b[0;31m---------------------------------------------------------------------------\u001b[0m",
      "\u001b[0;31mNameError\u001b[0m                                 Traceback (most recent call last)",
      "\u001b[0;32m<ipython-input-31-340198a6201e>\u001b[0m in \u001b[0;36m<module>\u001b[0;34m\u001b[0m\n\u001b[0;32m----> 1\u001b[0;31m \u001b[0mstdnt_to_stdnt_highest_grade2\u001b[0m \u001b[0;34m=\u001b[0m \u001b[0mstdnt_to_stdnt_highest_grade\u001b[0m\u001b[0;34m.\u001b[0m\u001b[0mmerge\u001b[0m\u001b[0;34m(\u001b[0m\u001b[0mmax_grade_by_major\u001b[0m\u001b[0;34m,\u001b[0m \u001b[0mhow\u001b[0m\u001b[0;34m=\u001b[0m\u001b[0;34m\"left\"\u001b[0m\u001b[0;34m,\u001b[0m \u001b[0mon\u001b[0m\u001b[0;34m=\u001b[0m\u001b[0;34m\"Major\"\u001b[0m\u001b[0;34m)\u001b[0m\u001b[0;34m[\u001b[0m\u001b[0;34m[\u001b[0m\u001b[0;34m'StudentID_x'\u001b[0m\u001b[0;34m,\u001b[0m \u001b[0;34m'f(StudentID)'\u001b[0m\u001b[0;34m,\u001b[0m \u001b[0;34m'StudentID_y'\u001b[0m\u001b[0;34m]\u001b[0m\u001b[0;34m]\u001b[0m\u001b[0;34m\u001b[0m\u001b[0;34m\u001b[0m\u001b[0m\n\u001b[0m\u001b[1;32m      2\u001b[0m \u001b[0mstdnt_to_stdnt_highest_grade2\u001b[0m\u001b[0;34m.\u001b[0m\u001b[0mcolumns\u001b[0m \u001b[0;34m=\u001b[0m \u001b[0;34m[\u001b[0m\u001b[0;34m'StudentID'\u001b[0m\u001b[0;34m,\u001b[0m \u001b[0;34m'f(StudentID)'\u001b[0m\u001b[0;34m,\u001b[0m \u001b[0;34m'f(f(StudentID))'\u001b[0m\u001b[0;34m]\u001b[0m\u001b[0;34m\u001b[0m\u001b[0;34m\u001b[0m\u001b[0m\n\u001b[1;32m      3\u001b[0m \u001b[0mstdnt_to_stdnt_highest_grade2\u001b[0m\u001b[0;34m\u001b[0m\u001b[0;34m\u001b[0m\u001b[0m\n",
      "\u001b[0;31mNameError\u001b[0m: name 'stdnt_to_stdnt_highest_grade' is not defined"
     ]
    }
   ],
   "source": [
    "stdnt_to_stdnt_highest_grade2 = stdnt_to_stdnt_highest_grade.merge(max_grade_by_major, how=\"left\", on=\"Major\")[['StudentID_x', 'f(StudentID)', 'StudentID_y']]\n",
    "stdnt_to_stdnt_highest_grade2.columns = ['StudentID', 'f(StudentID)', 'f(f(StudentID))']\n",
    "stdnt_to_stdnt_highest_grade2"
   ]
  },
  {
   "cell_type": "markdown",
   "id": "bottom-proof",
   "metadata": {},
   "source": [
    "Indeed, we see that the columns `f(StudentID)` and `f(f(StudentID))` are equal, and so the function $f$ is in fact idempotent.\n",
    "\n",
    "An interesting property of idempotent function is that they are always equal to the identity function on their image. \n",
    "This make sense:  if $b \\in \\text{Image}(f)$, then $b = f(a)$ for some $a\\in A$, and thus $b = f(a) = f(f(a)) = f(b)$. \n",
    "Let's verify this with code, by restricting the function $f$ to its image."
   ]
  },
  {
   "cell_type": "code",
   "execution_count": 32,
   "id": "awful-excitement",
   "metadata": {},
   "outputs": [
    {
     "ename": "NameError",
     "evalue": "name 'stdnt_to_stdnt_highest_grade' is not defined",
     "output_type": "error",
     "traceback": [
      "\u001b[0;31m---------------------------------------------------------------------------\u001b[0m",
      "\u001b[0;31mNameError\u001b[0m                                 Traceback (most recent call last)",
      "\u001b[0;32m<ipython-input-32-95068c65e1db>\u001b[0m in \u001b[0;36m<module>\u001b[0;34m\u001b[0m\n\u001b[0;32m----> 1\u001b[0;31m \u001b[0mstdnt_to_stdnt_highest_grade\u001b[0m\u001b[0;34m[\u001b[0m\u001b[0mstdnt_to_stdnt_highest_grade\u001b[0m\u001b[0;34m[\u001b[0m\u001b[0;34m'StudentID'\u001b[0m\u001b[0;34m]\u001b[0m\u001b[0;34m.\u001b[0m\u001b[0misin\u001b[0m\u001b[0;34m(\u001b[0m\u001b[0mstdnt_to_stdnt_highest_grade\u001b[0m\u001b[0;34m[\u001b[0m\u001b[0;34m'f(StudentID)'\u001b[0m\u001b[0;34m]\u001b[0m\u001b[0;34m)\u001b[0m\u001b[0;34m]\u001b[0m\u001b[0;34m[\u001b[0m\u001b[0;34m[\u001b[0m\u001b[0;34m'StudentID'\u001b[0m\u001b[0;34m,\u001b[0m \u001b[0;34m'f(StudentID)'\u001b[0m\u001b[0;34m]\u001b[0m\u001b[0;34m]\u001b[0m\u001b[0;34m\u001b[0m\u001b[0;34m\u001b[0m\u001b[0m\n\u001b[0m",
      "\u001b[0;31mNameError\u001b[0m: name 'stdnt_to_stdnt_highest_grade' is not defined"
     ]
    }
   ],
   "source": [
    "stdnt_to_stdnt_highest_grade[stdnt_to_stdnt_highest_grade['StudentID'].isin(stdnt_to_stdnt_highest_grade['f(StudentID)'])][['StudentID', 'f(StudentID)']]"
   ]
  },
  {
   "cell_type": "markdown",
   "id": "major-confusion",
   "metadata": {},
   "source": [
    "As expected, when we restrict $f$ to $\\text{Image}(f)$ we do indeed get the identity function back."
   ]
  }
 ],
 "metadata": {
  "jupytext": {
   "text_representation": {
    "extension": ".md",
    "format_name": "myst",
    "format_version": 0.12,
    "jupytext_version": "1.9.1"
   }
  },
  "kernelspec": {
   "display_name": "Python 3",
   "language": "python",
   "name": "python3"
  },
  "language_info": {
   "codemirror_mode": {
    "name": "ipython",
    "version": 3
   },
   "file_extension": ".py",
   "mimetype": "text/x-python",
   "name": "python",
   "nbconvert_exporter": "python",
   "pygments_lexer": "ipython3",
   "version": "3.7.7"
  },
  "source_map": [
   13,
   29,
   33,
   51,
   53,
   58,
   62,
   74,
   77,
   82,
   86,
   90,
   92,
   106,
   109,
   116,
   118,
   122,
   125,
   131,
   134,
   151,
   154,
   162,
   165,
   169,
   172,
   179,
   182,
   186,
   189,
   205,
   208,
   212,
   215,
   219,
   221,
   227,
   230,
   234,
   238,
   242,
   245,
   249,
   253,
   270,
   273,
   278,
   281,
   287,
   290,
   301,
   304,
   308,
   311,
   317,
   320,
   340,
   345,
   349,
   354,
   360,
   364,
   372,
   374
  ]
 },
 "nbformat": 4,
 "nbformat_minor": 5
}