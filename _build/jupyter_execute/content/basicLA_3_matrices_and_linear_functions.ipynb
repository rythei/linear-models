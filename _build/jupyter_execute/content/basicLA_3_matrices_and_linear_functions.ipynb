{
 "cells": [
  {
   "cell_type": "code",
   "execution_count": 1,
   "id": "6554be16",
   "metadata": {},
   "outputs": [],
   "source": [
    "import numpy as np\n",
    "import matplotlib.pyplot as plt"
   ]
  },
  {
   "cell_type": "markdown",
   "id": "b0c05acc",
   "metadata": {},
   "source": [
    "# Matrices and Linear Functions\n",
    "\n",
    "In the last section, we saw examples of both linear and non-linear functions. In this section, we continue this discussion, again focusing on the example of linear functions from $\\mathbb{R}^2$ to $\\mathbb{R}^2$, which allows us to visualize the transformations.\n",
    "\n",
    "## Matrix multiplication and linear functions\n",
    "\n",
    "Here, we focus on linear functions of the form\n",
    "\n",
    "$$\n",
    "f(\\boldsymbol{v}) = \\boldsymbol{Av} .\n",
    "$$\n",
    "\n",
    "Where $\\boldsymbol{A} = \\begin{bmatrix}a_{11} & a_{12}\\\\ a_{21}& a_{22}\\end{bmatrix}$ is a $2\\times 2$ matrix and $\\boldsymbol{v} = (v_1,v_2)$ is a vector in $\\mathbb{R}^2$.\n",
    "When we write $\\boldsymbol{Av}$, we mean that we are multiplying the vector $\\boldsymbol{v}$ by the matrix $\\boldsymbol{A}$, namely:\n",
    "\n",
    "$$\n",
    "\\boldsymbol{Av} = \\begin{bmatrix}a_{11} & a_{12}\\\\ a_{21}& a_{22}\\end{bmatrix}\\begin{bmatrix}v_1\\\\ v_2\\end{bmatrix} = \\begin{bmatrix}a_{11}v_1 + a_{12}v_2\\\\ a_{21}v_1 + a_{22}v_2\\end{bmatrix}\n",
    "$$\n",
    "\n",
    "So $\\boldsymbol{Av}$ just gives us another vector in $\\mathbb{R}^2$.\n",
    "\n",
    "It is easy to verify that matrix multiplication satisfies the properties of a linear function: namely for any scalar $\\alpha \\in \\mathbb{R}$ and vectors $\\boldsymbol{u},\\boldsymbol{v}\\in \\mathbb{R}^2$, we have\n",
    "\n",
    "$$\n",
    "\\boldsymbol{A}(\\alpha \\boldsymbol{v}) = \\alpha \\boldsymbol{Av}\\\\\n",
    "\\boldsymbol{A}(\\boldsymbol{u}+\\boldsymbol{v}) = \\boldsymbol{Au} + \\boldsymbol{Av}\n",
    "$$\n",
    "\n",
    "That means that any function of the form $f(\\boldsymbol{v}) = \\boldsymbol{Av}$ is a linear function.\n",
    "In addition, _every_ linear function can be represented in this way.\n",
    "In other words _every_ linear function $f(\\boldsymbol{v})$ can be written as $f(\\boldsymbol{v}) = \\boldsymbol{Av}$ for some matrix $\\boldsymbol{A}$.\n",
    "This is truly the heart of why matrices are important: they represent linear functions.\n",
    "While we may be tempted to think of matrices as multi-dimensional arrays storing numbers, it is important that we understand that they are really just a convenient representation for linear functions.\n",
    "\n",
    "(A slight wrinkle on what we just said: this is true once a basis is given, e.g., the standard/canonical basis, or some other basis.  Then, a linear function can be represetned by a matrix, and vice versa.  A given linear function can be expressed by different matrices when a different basis is given.  In data science, we definitely are interested in representing the same linear function with respect to different basis, e.g., that is what PCA is all about, but let's not worry about that for now, and let's assume that we are working with the standard basis.)\n",
    "\n",
    "Now that we understand this fact, given a linear function $f:\\mathbb{R}^2 \\to \\mathbb{R}^2$, how can we find the corresponding matrix $\\boldsymbol{A}$? To do this, we need to identify the numbers $a_{11},a_{12},a_{21},a_{22}$. A convenient way of finding these numbers is by checking how $f$ acts on the standard basis vectors $\\boldsymbol{e}_1 = (1,0)$ and $\\boldsymbol{e}_2 = (0,1)$. Let's check what $\\boldsymbol{Ae}_1$ and $\\boldsymbol{Ae}_2$ give us:\n",
    "\n",
    "\n",
    "$$\n",
    "\\boldsymbol{A}\\boldsymbol{e}_1 =\\begin{bmatrix}a_{11} & a_{12}\\\\ a_{21}& a_{22}\\end{bmatrix}\\begin{bmatrix}1\\\\ 0\\end{bmatrix}= \\begin{bmatrix}a_{11}1 + a_{12}0\\\\ a_{21}1 + a_{22}0\\end{bmatrix} = \\begin{bmatrix}a_{11}\\\\ a_{21}\\end{bmatrix}\\\\\n",
    "\\boldsymbol{Ae}_2 =\\begin{bmatrix}a_{11} & a_{12}\\\\ a_{21}& a_{22}\\end{bmatrix}\\begin{bmatrix}0\\\\ 1\\end{bmatrix}= \\begin{bmatrix}a_{11}0 + a_{12}1\\\\ a_{21}0 + a_{22}1\\end{bmatrix} = \\begin{bmatrix}a_{12}\\\\ a_{22}\\end{bmatrix}\n",
    "$$\n",
    "\n",
    "\n",
    "\n",
    "These two vectors are exactly equal to the two columns of $\\boldsymbol{A}$! Therefore, as long as we know what $f(\\boldsymbol{e}_1)$ and $f(\\boldsymbol{e}_2)$ are, we can entirely identify what the entries of the matrix $\\boldsymbol{A}$ are.\n",
    "\n",
    "In what follows, we see a few important examples of how to do this, using similar examples to the ones we studied in the previous section.\n",
    "\n",
    "### Rotating\n",
    "\n",
    "Let's start again with an example of rotation.\n",
    "\n",
    "Recall the function $f(\\boldsymbol{v})$ which takes any vector $\\boldsymbol{v} = (v_1,v_2)$ and rotates it by $\\theta$ degrees. This function is given by the following:\n",
    "\n",
    "$$\n",
    "f(v_1, v_2) = \\left(\\cos(\\theta)v_1 - \\sin(\\theta)v_2, \\sin(\\theta)v_1 + \\cos(\\theta)v_2\\right)\n",
    "$$\n",
    "\n",
    "We implement this function below with $\\theta = 45^\\circ$ as the default."
   ]
  },
  {
   "cell_type": "code",
   "execution_count": 2,
   "id": "a34f7327",
   "metadata": {},
   "outputs": [],
   "source": [
    "def rotate(v, theta=np.pi/4):\n",
    "    return np.array([np.cos(theta)*v[0] - np.sin(theta)*v[1], np.sin(theta)*v[0] + np.cos(theta)*v[1]])"
   ]
  },
  {
   "cell_type": "markdown",
   "id": "af1dd4e7",
   "metadata": {},
   "source": [
    "Now let's visualize how this function acts on the standard basis vectors $\\boldsymbol{e}_1,\\boldsymbol{e}_2$, and try and deduce what the corresponding matrix associated with this linear function is."
   ]
  },
  {
   "cell_type": "code",
   "execution_count": 3,
   "id": "2a2d18b7",
   "metadata": {},
   "outputs": [
    {
     "data": {
      "image/png": "[encoded data removed]",
      "text/plain": [
       "<Figure size 432x288 with 1 Axes>"
      ]
     },
     "metadata": {
      "filenames": {
       "image/png": "/Volumes/GoogleDrive-112349428810515690974/My Drive/PhD/Teaching/Stat89A_Spring2022/linalg-for-datasci/_build/jupyter_execute/content/basicLA_3_matrices_and_linear_functions_4_0.png"
      },
      "needs_background": "light"
     },
     "output_type": "display_data"
    }
   ],
   "source": [
    "origin = np.zeros(2)\n",
    "e1 = np.array([1,0])\n",
    "e2 = np.array([0,1])\n",
    "\n",
    "plt.quiver(*origin, *e1, label='e1', color='blue', scale=1, units='xy')\n",
    "plt.quiver(*origin, *e2, label='e2', color='red', scale=1, units='xy')\n",
    "plt.quiver(*origin, *rotate(e1), label='f(e1)', color='green', scale=1, units='xy')\n",
    "plt.quiver(*origin, *rotate(e2), label='f(e2)', color='orange',scale=1, units='xy')\n",
    "plt.legend()\n",
    "plt.grid()\n",
    "plt.xlim(-1,1)\n",
    "plt.ylim(-1,1)\n",
    "plt.gca().set_aspect('equal')\n",
    "plt.show()"
   ]
  },
  {
   "cell_type": "markdown",
   "id": "cdae1d28",
   "metadata": {},
   "source": [
    "Here, the blue vector is $\\boldsymbol{e}_1$, the red vector is $\\boldsymbol{e}_2$, the green vector is $f(\\boldsymbol{e}_1)$, and the orange vector is $f(\\boldsymbol{e}_2)$.\n",
    "As we can see from the plot, we have $f(\\boldsymbol{e}_1) \\approx (0.7, 0.7)$ and $f(\\boldsymbol{e}_2) \\approx (-0.7, 0.7)$. Indeed, let's check:"
   ]
  },
  {
   "cell_type": "code",
   "execution_count": 4,
   "id": "fce17128",
   "metadata": {},
   "outputs": [
    {
     "name": "stdout",
     "output_type": "stream",
     "text": [
      "f(e1) =  [0.70710678 0.70710678]\n",
      "f(e2) =  [-0.70710678  0.70710678]\n"
     ]
    }
   ],
   "source": [
    "print('f(e1) = ', rotate(e1))\n",
    "print('f(e2) = ', rotate(e2))"
   ]
  },
  {
   "cell_type": "markdown",
   "id": "177eb7f8",
   "metadata": {},
   "source": [
    "Indeed, this is what we would expect: if we take the vector $(1,0)$ and rotate $45^\\circ$, it is still a unit vector, but is on the $y=x$ line, and therefore must be $(1/\\sqrt{2}, 1/\\sqrt{2})$. Therefore, we have\n",
    "\n",
    "\n",
    "$$\n",
    "f(\\boldsymbol{e}_1) = \\begin{bmatrix}\\frac{1}{\\sqrt{2}}\\\\\\frac{1}{\\sqrt{2}}\\end{bmatrix},\\;\\;\\; f(\\boldsymbol{e}_2) = \\begin{bmatrix}-\\frac{1}{\\sqrt{2}}\\\\\\frac{1}{\\sqrt{2}}\\end{bmatrix}\n",
    "$$\n",
    "\n",
    "\n",
    "\n",
    "As we showed above, since $f$ is a linear function, we must have that $f(\\boldsymbol{v}) = \\boldsymbol{Av}$ for some matrix $\\boldsymbol{A}$, and the columns of $\\boldsymbol{A}$ are given by $f(\\boldsymbol{e}_1)$ and $f(\\boldsymbol{e}_2)$.\n",
    "Therefore, we deduce that the matrix $\\boldsymbol{A}$ must be\n",
    "\n",
    "\n",
    "$$\n",
    "\\boldsymbol{A} = \\begin{bmatrix}\\frac{1}{\\sqrt{2}} & -\\frac{1}{\\sqrt{2}}\\\\ \\frac{1}{\\sqrt{2}} &\\frac{1}{\\sqrt{2}}\\end{bmatrix}\n",
    "$$\n",
    "\n",
    "\n",
    "\n",
    "In Python, we can store this matrix as a numpy array as follows:"
   ]
  },
  {
   "cell_type": "code",
   "execution_count": 5,
   "id": "28832693",
   "metadata": {},
   "outputs": [
    {
     "data": {
      "text/plain": [
       "array([[ 0.70710678, -0.70710678],\n",
       "       [ 0.70710678,  0.70710678]])"
      ]
     },
     "execution_count": 5,
     "metadata": {},
     "output_type": "execute_result"
    }
   ],
   "source": [
    "A = np.array([[1/np.sqrt(2),-1/np.sqrt(2)], [1/np.sqrt(2),1/np.sqrt(2)]])\n",
    "A"
   ]
  },
  {
   "cell_type": "markdown",
   "id": "35e710bb",
   "metadata": {},
   "source": [
    "Now since $f(\\boldsymbol{v}) = \\boldsymbol{Av}$, we realize that we don't actually need to use the function `rotate` to implement $f$: instead, we simply do matrix-vector multiplication to get the function! To do this, we can use the `np.dot` function.\n",
    "Let's make the same plot as before, but instead computing the rotation this way:"
   ]
  },
  {
   "cell_type": "code",
   "execution_count": 6,
   "id": "2f8841f6",
   "metadata": {},
   "outputs": [
    {
     "data": {
      "image/png": "[encoded data removed]",
      "text/plain": [
       "<Figure size 432x288 with 1 Axes>"
      ]
     },
     "metadata": {
      "filenames": {
       "image/png": "/Volumes/GoogleDrive-112349428810515690974/My Drive/PhD/Teaching/Stat89A_Spring2022/linalg-for-datasci/_build/jupyter_execute/content/basicLA_3_matrices_and_linear_functions_10_0.png"
      },
      "needs_background": "light"
     },
     "output_type": "display_data"
    }
   ],
   "source": [
    "e1_rotated = np.dot(A, e1)\n",
    "e2_rotated = np.dot(A, e2)\n",
    "\n",
    "plt.quiver(*origin, *e1, label='e1', color='blue', scale=1, units='xy')\n",
    "plt.quiver(*origin, *e2, label='e2', color='red', scale=1, units='xy')\n",
    "plt.quiver(*origin, *e1_rotated, label='Ae1', color='green', scale=1, units='xy')\n",
    "plt.quiver(*origin, *e2_rotated, label='Ae2', color='orange',scale=1, units='xy')\n",
    "plt.legend()\n",
    "plt.grid()\n",
    "plt.xlim(-1,1)\n",
    "plt.ylim(-1,1)\n",
    "plt.gca().set_aspect('equal')\n",
    "plt.show()"
   ]
  },
  {
   "cell_type": "markdown",
   "id": "481856a2",
   "metadata": {},
   "source": [
    "As expected, we get the same result as before! Indeed, now that we've found the matrix $\\boldsymbol{A}$, we can use `np.dot(A,v)` to compute $f(\\boldsymbol{v})$ for any vector $\\boldsymbol{v} \\in \\mathbb{R}^2$. Let's see a couple more examples with $\\boldsymbol{u} = (-.2, .5), \\boldsymbol{v}= (.9, -.3)$:"
   ]
  },
  {
   "cell_type": "code",
   "execution_count": 7,
   "id": "f25cad12",
   "metadata": {},
   "outputs": [
    {
     "data": {
      "image/png": "[encoded data removed]",
      "text/plain": [
       "<Figure size 432x288 with 1 Axes>"
      ]
     },
     "metadata": {
      "filenames": {
       "image/png": "/Volumes/GoogleDrive-112349428810515690974/My Drive/PhD/Teaching/Stat89A_Spring2022/linalg-for-datasci/_build/jupyter_execute/content/basicLA_3_matrices_and_linear_functions_12_0.png"
      },
      "needs_background": "light"
     },
     "output_type": "display_data"
    }
   ],
   "source": [
    "u = np.array([-.2, .5])\n",
    "v = np.array([.9, -.3])\n",
    "\n",
    "plt.quiver(*origin, *u, label='u', color='blue', scale=1, units='xy')\n",
    "plt.quiver(*origin, *v, label='v', color='red', scale=1, units='xy')\n",
    "plt.quiver(*origin, *np.dot(A,u), label='Au', color='green', scale=1, units='xy')\n",
    "plt.quiver(*origin, *np.dot(A,v), label='Av', color='orange',scale=1, units='xy')\n",
    "plt.legend()\n",
    "plt.grid()\n",
    "plt.xlim(-1,1)\n",
    "plt.ylim(-1,1)\n",
    "plt.gca().set_aspect('equal')\n",
    "plt.show()"
   ]
  },
  {
   "cell_type": "markdown",
   "id": "38966dbd",
   "metadata": {},
   "source": [
    "### Stretching\n",
    "\n",
    "Next, we again consider the function $f(\\boldsymbol{v})$ which takes a vector $\\boldsymbol{v} = (v_1,v_2)$ and 'stretches' it by a factor of $\\alpha$ along the x-axis and  $\\beta$ along the y-axes.\n",
    "The function which performs this operations is given by\n",
    "\n",
    "$$\n",
    "f(v_1,v_2) = (\\alpha v_1, \\beta v_2)\n",
    "$$\n",
    "\n",
    "Let's implement it in a simple Python function, with $\\alpha=2,\\beta=1$ as the default, and see how it acts on the standard basis vectors."
   ]
  },
  {
   "cell_type": "code",
   "execution_count": 8,
   "id": "63b51553",
   "metadata": {},
   "outputs": [
    {
     "data": {
      "image/png": "[encoded data removed]",
      "text/plain": [
       "<Figure size 432x288 with 1 Axes>"
      ]
     },
     "metadata": {
      "filenames": {
       "image/png": "/Volumes/GoogleDrive-112349428810515690974/My Drive/PhD/Teaching/Stat89A_Spring2022/linalg-for-datasci/_build/jupyter_execute/content/basicLA_3_matrices_and_linear_functions_14_0.png"
      },
      "needs_background": "light"
     },
     "output_type": "display_data"
    }
   ],
   "source": [
    "def stretch(v, alpha=2, beta=1):\n",
    "    return np.array([alpha*v[0], beta*v[1]])\n",
    "\n",
    "plt.quiver(*origin, *e1, label='e1', color='blue', scale=1, units='xy')\n",
    "plt.quiver(*origin, *e2, label='e2', color='red', scale=1, units='xy')\n",
    "plt.quiver(*origin, *stretch(e1), label='f(e1)', color='green', scale=1, units='xy')\n",
    "plt.quiver(*origin, *stretch(e2), label='f(e2)', color='orange',scale=1, units='xy')\n",
    "plt.legend()\n",
    "plt.grid()\n",
    "plt.xlim(-2,2)\n",
    "plt.ylim(-1,1)\n",
    "plt.gca().set_aspect('equal')\n",
    "plt.show()"
   ]
  },
  {
   "cell_type": "markdown",
   "id": "849d0781",
   "metadata": {},
   "source": [
    "As we can tell from the plot, we have that $f(\\boldsymbol{e}_1) = (2,0)$ and $f(\\boldsymbol{e}_2) = (0,1)$. It makes sense that $\\boldsymbol{e}_2$ is unchanged after applying $f$, since it is zero in the x-axis direction. Hence the function $f$ can be written as $f(\\boldsymbol{v}) = \\boldsymbol{Bv}$ where the matrix $\\boldsymbol{B}$ is given by\n",
    "\n",
    "\n",
    "$$\n",
    "\\boldsymbol{B} = \\begin{bmatrix}2 & 0\\\\ 0&1\\end{bmatrix}\n",
    "$$\n",
    "\n",
    "\n",
    "Let's define this as a numpy array."
   ]
  },
  {
   "cell_type": "code",
   "execution_count": 9,
   "id": "84e6fd85",
   "metadata": {},
   "outputs": [
    {
     "data": {
      "text/plain": [
       "array([[2, 0],\n",
       "       [0, 1]])"
      ]
     },
     "execution_count": 9,
     "metadata": {},
     "output_type": "execute_result"
    }
   ],
   "source": [
    "B = np.array([[2,0], [0,1]])\n",
    "B"
   ]
  },
  {
   "cell_type": "markdown",
   "id": "c5104f21",
   "metadata": {},
   "source": [
    "Now we can check that $\\boldsymbol{Bv}$ indeed gives the same results as $f(\\boldsymbol{v})$:"
   ]
  },
  {
   "cell_type": "code",
   "execution_count": 10,
   "id": "a925b0d5",
   "metadata": {},
   "outputs": [
    {
     "data": {
      "image/png": "[encoded data removed]",
      "text/plain": [
       "<Figure size 432x288 with 1 Axes>"
      ]
     },
     "metadata": {
      "filenames": {
       "image/png": "/Volumes/GoogleDrive-112349428810515690974/My Drive/PhD/Teaching/Stat89A_Spring2022/linalg-for-datasci/_build/jupyter_execute/content/basicLA_3_matrices_and_linear_functions_18_0.png"
      },
      "needs_background": "light"
     },
     "output_type": "display_data"
    }
   ],
   "source": [
    "e1_stretched = np.dot(B, e1)\n",
    "e2_stretched = np.dot(B, e2)\n",
    "\n",
    "plt.quiver(*origin, *e1, label='e1', color='blue', scale=1, units='xy')\n",
    "plt.quiver(*origin, *e2, label='e2', color='red', scale=1, units='xy')\n",
    "plt.quiver(*origin, *e1_stretched, label='Be1', color='green', scale=1, units='xy')\n",
    "plt.quiver(*origin, *e2_stretched, label='Be2', color='orange',scale=1, units='xy')\n",
    "plt.legend()\n",
    "plt.grid()\n",
    "plt.xlim(-2,2)\n",
    "plt.ylim(-1,1)\n",
    "plt.gca().set_aspect('equal')\n",
    "plt.show()"
   ]
  },
  {
   "cell_type": "markdown",
   "id": "13c47877",
   "metadata": {},
   "source": [
    "As expected, $f(\\boldsymbol{v})$ and $\\boldsymbol{Bv}$ are the same.\n",
    "\n",
    "### Projecting\n",
    "\n",
    "The last example is the function\n",
    "\n",
    "\n",
    "$$\n",
    "f(v_1,v_2) = \\left(\\frac{1}{2}(v_1 + v_2), \\frac{1}{2}(v_1 + v_2)\\right)\n",
    "$$\n",
    "\n",
    "which takes any vector $\\boldsymbol{v} = (v_1,v_2)$, and maps it to an element of the set $L = \\{(x,y)\\mid x=y\\}$, which is just the $y=x$ line in the plane. We implement it below, and plot how it acts on the standard basis vectors."
   ]
  },
  {
   "cell_type": "code",
   "execution_count": 11,
   "id": "8d0c8a76",
   "metadata": {},
   "outputs": [
    {
     "data": {
      "image/png": "[encoded data removed]",
      "text/plain": [
       "<Figure size 432x288 with 1 Axes>"
      ]
     },
     "metadata": {
      "filenames": {
       "image/png": "/Volumes/GoogleDrive-112349428810515690974/My Drive/PhD/Teaching/Stat89A_Spring2022/linalg-for-datasci/_build/jupyter_execute/content/basicLA_3_matrices_and_linear_functions_20_0.png"
      },
      "needs_background": "light"
     },
     "output_type": "display_data"
    }
   ],
   "source": [
    "def project_to_line(v):\n",
    "    return np.array([0.5*(v[0] + v[1]), 0.5*(v[0] + v[1])])\n",
    "\n",
    "plt.quiver(*origin, *e1, label='e1', color='blue', scale=1, units='xy')\n",
    "plt.quiver(*origin, *e2, label='e2', color='red', scale=1, units='xy')\n",
    "plt.quiver(*origin, *project_to_line(e1), label='f(e1)', color='green', scale=1, units='xy')\n",
    "plt.quiver(*origin, *project_to_line(e2), label='f(e2)', color='orange',scale=1, units='xy')\n",
    "plt.legend()\n",
    "plt.grid()\n",
    "plt.xlim(-1,1)\n",
    "plt.ylim(-1,1)\n",
    "plt.gca().set_aspect('equal')\n",
    "plt.show()"
   ]
  },
  {
   "cell_type": "markdown",
   "id": "333d65f2",
   "metadata": {},
   "source": [
    "The orange and green vectors (representing $f(\\boldsymbol{e}_1)$ and $f(\\boldsymbol{e}_2)$) are both equal to $(1/2, 1/2)$, and so the matrix $\\boldsymbol{C}$ for which $f(\\boldsymbol{v}) = \\boldsymbol{Cv}$ is given by\n",
    "\n",
    "\n",
    "$$\n",
    "\\boldsymbol{C} = \\begin{bmatrix}\\frac{1}{2} & \\frac{1}{2}\\\\ \\frac{1}{2} &\\frac{1}{2}\\end{bmatrix}\n",
    "$$\n",
    "\n",
    "\n",
    "We define this as a numpy array:"
   ]
  },
  {
   "cell_type": "code",
   "execution_count": 12,
   "id": "a3dbe08d",
   "metadata": {},
   "outputs": [
    {
     "data": {
      "text/plain": [
       "array([[0.5, 0.5],\n",
       "       [0.5, 0.5]])"
      ]
     },
     "execution_count": 12,
     "metadata": {},
     "output_type": "execute_result"
    }
   ],
   "source": [
    "C = np.array([[1./2, 1./2], [1./2, 1./2]])\n",
    "C"
   ]
  },
  {
   "cell_type": "markdown",
   "id": "1b8ad5af",
   "metadata": {},
   "source": [
    "Now we can check that $\\boldsymbol{Cv}$ indeed gives the same results as $f(\\boldsymbol{v})$:"
   ]
  },
  {
   "cell_type": "code",
   "execution_count": 13,
   "id": "6c78f04e",
   "metadata": {},
   "outputs": [
    {
     "data": {
      "image/png": "[encoded data removed]",
      "text/plain": [
       "<Figure size 432x288 with 1 Axes>"
      ]
     },
     "metadata": {
      "filenames": {
       "image/png": "/Volumes/GoogleDrive-112349428810515690974/My Drive/PhD/Teaching/Stat89A_Spring2022/linalg-for-datasci/_build/jupyter_execute/content/basicLA_3_matrices_and_linear_functions_24_0.png"
      },
      "needs_background": "light"
     },
     "output_type": "display_data"
    }
   ],
   "source": [
    "e1_projected = np.dot(C, e1)\n",
    "e2_projected = np.dot(C, e2)\n",
    "\n",
    "plt.quiver(*origin, *e1, label='e1', color='blue', scale=1, units='xy')\n",
    "plt.quiver(*origin, *e2, label='e2', color='red', scale=1, units='xy')\n",
    "plt.quiver(*origin, *e1_projected, label='Ce1', color='green', scale=1, units='xy')\n",
    "plt.quiver(*origin, *e2_projected, label='Ce2', color='orange',scale=1, units='xy')\n",
    "plt.legend()\n",
    "plt.grid()\n",
    "plt.xlim(-1,1)\n",
    "plt.ylim(-1,1)\n",
    "plt.gca().set_aspect('equal')\n",
    "plt.show()"
   ]
  },
  {
   "cell_type": "markdown",
   "id": "9f65390d",
   "metadata": {},
   "source": [
    "As expected, $f(\\boldsymbol{v})$ and $\\boldsymbol{Cv}$ are the same.\n",
    "\n",
    "## Finding the composition of linear functions with matrix multiplication\n",
    "\n",
    "An important operation which we've discussed is function composition. When working with linear functions, represented as matrices, function composition can be represented by matrix multiplication. Specifically, if we have linear functions $f(\\boldsymbol{v}) = \\boldsymbol{Av}$ and $g(\\boldsymbol{v}) = \\boldsymbol{Bv}$, where $\\boldsymbol{A}, \\boldsymbol{B}$ are matrices, then we can compute the composition as follows:\n",
    "\n",
    "\n",
    "$$\n",
    "(f\\circ g)(\\boldsymbol{v}) = f(g(\\boldsymbol{v})) = f(\\boldsymbol{Bv}) = (\\boldsymbol{AB})\\boldsymbol{v}\n",
    "$$\n",
    "\n",
    "\n",
    "where here $\\boldsymbol{AB}$ is the matrix product of $\\boldsymbol{A}$ and $\\boldsymbol{B}$. For $2\\times 2$ matrices\n",
    "\n",
    "\n",
    "$$\n",
    "\\boldsymbol{A} = \\begin{bmatrix}a_{11} & a_{12}\\\\ a_{21}& a_{22}\\end{bmatrix},\\;\\;\\; \\boldsymbol{B}=\\begin{bmatrix}b_{11} & b_{12}\\\\ b_{21}& b_{22}\\end{bmatrix}\n",
    "$$\n",
    "\n",
    "\n",
    "the product $\\boldsymbol{AB}$ is given by\n",
    "\n",
    "\n",
    "$$\n",
    "\\boldsymbol{AB} = \\begin{bmatrix}a_{11} & a_{12}\\\\ a_{21}& a_{22}\\end{bmatrix}\\begin{bmatrix}b_{11} & b_{12}\\\\ b_{21}& b_{22}\\end{bmatrix} = \\begin{bmatrix}a_{11}b_{11} + a_{12}b_{21}& a_{11}b_{12}+a_{12}b_{22}\\\\ a_{21}b_{11}+a_{22}b_{22}&a_{21}b_{12}+a_{22}b_{22}\\end{bmatrix}\n",
    "$$\n",
    "\n",
    "\n",
    "which is just another $2\\times 2$ matrix. Therefore, to compute the composition of two linear functions $f(\\boldsymbol{v}) = \\boldsymbol{Av}$, $g(\\boldsymbol{v})=\\boldsymbol{Bv}$, we can first compute the matrix $\\boldsymbol{AB}$, and then apply this new matrix to a vector $\\boldsymbol{v}$.\n",
    "\n",
    "Let's see a few examples of doing this. To visualize compositions, we'll use the same method from the previous workbook of plotting how the linear functions act on points on the unit circle."
   ]
  },
  {
   "cell_type": "code",
   "execution_count": 14,
   "id": "0af5f22b",
   "metadata": {},
   "outputs": [
    {
     "data": {
      "image/png": "[encoded data removed]",
      "text/plain": [
       "<Figure size 432x288 with 1 Axes>"
      ]
     },
     "metadata": {
      "filenames": {
       "image/png": "/Volumes/GoogleDrive-112349428810515690974/My Drive/PhD/Teaching/Stat89A_Spring2022/linalg-for-datasci/_build/jupyter_execute/content/basicLA_3_matrices_and_linear_functions_26_0.png"
      },
      "needs_background": "light"
     },
     "output_type": "display_data"
    }
   ],
   "source": [
    "np.random.seed(345) #set random seed\n",
    "\n",
    "n_points = 100\n",
    "vv = np.random.normal(size = (2, n_points))\n",
    "vv /= np.linalg.norm(vv, axis=0)\n",
    "plt.scatter(vv[0], vv[1])\n",
    "plt.axis('equal')\n",
    "plt.show()"
   ]
  },
  {
   "cell_type": "markdown",
   "id": "be4c4bcd",
   "metadata": {},
   "source": [
    "#### Rotating and stretching\n",
    "\n",
    "Let's consider the matrices $\\boldsymbol{A}$ and $\\boldsymbol{B}$, defined above, which rotate a vector by $45^\\circ$ and stretch a vector by a factor of 2 on the x-axis, respectively. Let's define a new matrix $\\boldsymbol{AB}$, representing the composition of first stretching, then applying a rotation."
   ]
  },
  {
   "cell_type": "code",
   "execution_count": 15,
   "id": "8dd5f6d6",
   "metadata": {},
   "outputs": [
    {
     "data": {
      "text/plain": [
       "array([[ 1.41421356, -0.70710678],\n",
       "       [ 1.41421356,  0.70710678]])"
      ]
     },
     "execution_count": 15,
     "metadata": {},
     "output_type": "execute_result"
    }
   ],
   "source": [
    "AB = np.dot(A, B)\n",
    "AB"
   ]
  },
  {
   "cell_type": "markdown",
   "id": "94cfad31",
   "metadata": {},
   "source": [
    "  This gives us the matrix\n",
    "\n",
    "\n",
    "$$\n",
    "\\boldsymbol{AB} = \\begin{bmatrix}\\sqrt{2} & -1/\\sqrt{2}\\\\ \\sqrt{2}&1/\\sqrt{2} \\end{bmatrix}\n",
    "$$\n",
    "\n",
    "\n",
    "Let's verify visually that this does indeed first stretch the vectors on the circle, forming an ellipse, and then rotate them."
   ]
  },
  {
   "cell_type": "code",
   "execution_count": 16,
   "id": "011f1fef",
   "metadata": {},
   "outputs": [
    {
     "data": {
      "image/png": "[encoded data removed]",
      "text/plain": [
       "<Figure size 432x288 with 2 Axes>"
      ]
     },
     "metadata": {
      "filenames": {
       "image/png": "/Volumes/GoogleDrive-112349428810515690974/My Drive/PhD/Teaching/Stat89A_Spring2022/linalg-for-datasci/_build/jupyter_execute/content/basicLA_3_matrices_and_linear_functions_30_0.png"
      },
      "needs_background": "light"
     },
     "output_type": "display_data"
    }
   ],
   "source": [
    "#here we sort the points by their angles from the origin so that the plot coloring looks nice\n",
    "angles = np.arccos(np.dot(vv.T, np.array([1,0])).flatten())\n",
    "angles_ix = np.argsort(angles)\n",
    "vv = vv[:, angles_ix]\n",
    "\n",
    "composed_vv = np.dot(AB, vv)\n",
    "\n",
    "fig, (ax1, ax2) = plt.subplots(1, 2)\n",
    "ax1.scatter(vv[0], vv[1], c=np.arange(n_points))\n",
    "ax2.scatter(composed_vv[0], composed_vv[1], c=np.arange(n_points))\n",
    "ax1.axis('equal')\n",
    "ax2.axis('equal')\n",
    "ax1.set_title('vectors on unit circle')\n",
    "ax2.set_title('vectors stretched, then rotated')\n",
    "plt.show()"
   ]
  },
  {
   "cell_type": "markdown",
   "id": "64b5c88e",
   "metadata": {},
   "source": [
    "As we can see, this does exactly what we'd expect, and gives the same result as the composition from the previous workbook: it first stretches along the x-axis to form an ellipse, and then rotates each of the points by $45^\\circ$.\n",
    "\n",
    "Next, let's try first rotating, and then stretching. This action is represented by the matrix $\\boldsymbol{BA}$, which we define below."
   ]
  },
  {
   "cell_type": "code",
   "execution_count": 17,
   "id": "81d2ccb3",
   "metadata": {},
   "outputs": [
    {
     "data": {
      "text/plain": [
       "array([[ 1.41421356, -1.41421356],\n",
       "       [ 0.70710678,  0.70710678]])"
      ]
     },
     "execution_count": 17,
     "metadata": {},
     "output_type": "execute_result"
    }
   ],
   "source": [
    "BA = np.dot(B, A)\n",
    "BA"
   ]
  },
  {
   "cell_type": "markdown",
   "id": "a33d6caa",
   "metadata": {},
   "source": [
    "  This gives us the matrix\n",
    "\n",
    "\n",
    "$$\n",
    "\\boldsymbol{BA} = \\begin{bmatrix}\\sqrt{2} & -\\sqrt{2}\\\\ 1/\\sqrt{2}&1/\\sqrt{2} \\end{bmatrix}\n",
    "$$\n",
    "Note that clearly $\\boldsymbol{AB} \\neq \\boldsymbol{BA}$: in general we do not have that matrix multiplication commutes. This corresponds to the fact that the composition of linear functions is not commutative. We can see this visually by plotting how $\\boldsymbol{BA}$ acts on points on the circle."
   ]
  },
  {
   "cell_type": "code",
   "execution_count": 18,
   "id": "e92d2db5",
   "metadata": {},
   "outputs": [
    {
     "data": {
      "image/png": "[encoded data removed]",
      "text/plain": [
       "<Figure size 432x288 with 2 Axes>"
      ]
     },
     "metadata": {
      "filenames": {
       "image/png": "/Volumes/GoogleDrive-112349428810515690974/My Drive/PhD/Teaching/Stat89A_Spring2022/linalg-for-datasci/_build/jupyter_execute/content/basicLA_3_matrices_and_linear_functions_34_0.png"
      },
      "needs_background": "light"
     },
     "output_type": "display_data"
    }
   ],
   "source": [
    "composed_vv2 = np.dot(BA, vv)\n",
    "\n",
    "fig, (ax1, ax2) = plt.subplots(1, 2)\n",
    "ax1.scatter(vv[0], vv[1], c=np.arange(n_points))\n",
    "ax2.scatter(composed_vv2[0], composed_vv2[1], c=np.arange(n_points))\n",
    "ax1.axis('equal')\n",
    "ax2.axis('equal')\n",
    "ax1.set_title('vectors on unit circle')\n",
    "ax2.set_title('vectors rotated, then stretched')\n",
    "plt.show()"
   ]
  }
 ],
 "metadata": {
  "jupytext": {
   "text_representation": {
    "extension": ".md",
    "format_name": "myst",
    "format_version": 0.12,
    "jupytext_version": "1.9.1"
   }
  },
  "kernelspec": {
   "display_name": "Python 3",
   "language": "python",
   "name": "python3"
  },
  "language_info": {
   "codemirror_mode": {
    "name": "ipython",
    "version": 3
   },
   "file_extension": ".py",
   "mimetype": "text/x-python",
   "name": "python",
   "nbconvert_exporter": "python",
   "pygments_lexer": "ipython3",
   "version": "3.9.5"
  },
  "source_map": [
   14,
   17,
   81,
   84,
   88,
   103,
   108,
   111,
   134,
   137,
   142,
   156,
   160,
   174,
   187,
   201,
   213,
   216,
   220,
   234,
   249,
   263,
   275,
   278,
   282,
   296,
   330,
   339,
   345,
   348,
   360,
   376,
   382,
   385,
   395
  ]
 },
 "nbformat": 4,
 "nbformat_minor": 5
}