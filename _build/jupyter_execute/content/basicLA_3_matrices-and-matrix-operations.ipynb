{
 "cells": [
  {
   "cell_type": "markdown",
   "id": "e1b1e335",
   "metadata": {},
   "source": [
    "# Matrices and matrix operations\n",
    "\n",
    "In this section, we introduce the concept of matrices, and the associated operation of multiplication of two matrices.\n",
    "\n",
    "## Matrices in Python\n",
    "One way to define a matrix is as follows: an $m\\times n$ matrix $\\boldsymbol{A} \\in \\mathbb{R}^{m\\times n}$, is an array of real numbers consisting of $m$ rows and $n$ columns. In Python, we can define such an array using `numpy`:"
   ]
  },
  {
   "cell_type": "code",
   "execution_count": 1,
   "id": "30805085",
   "metadata": {},
   "outputs": [
    {
     "name": "stdout",
     "output_type": "stream",
     "text": [
      "[[ 0.04770948  0.12809536  0.05114378]\n",
      " [ 0.28187336  1.71276057 -1.19966487]\n",
      " [ 0.58323584 -0.12368058  1.04987899]\n",
      " [-0.52544103 -0.63883976  0.0853684 ]\n",
      " [ 0.95384382 -2.34550373 -0.75218458]]\n"
     ]
    }
   ],
   "source": [
    "import numpy as np\n",
    "\n",
    "m,n = 5,3\n",
    "\n",
    "A = np.random.normal(size=(m,n))\n",
    "print(A)"
   ]
  },
  {
   "cell_type": "markdown",
   "id": "8f0dc224",
   "metadata": {},
   "source": [
    "Note that by this definition of a matrix, a vector is simply a special case of a matrix with either just one column or one row. By convention, we usually think of a vector $\\boldsymbol{x}\\in \\mathbb{R}^n$ as being a _column vector_, with $n$ rows and $1$ column, so that $\\boldsymbol{x}$ is really a $n\\times 1$ matrix.\n",
    "\n",
    "In `numpy`, we can specify a vector as being a column vector by suitably reshaping it."
   ]
  },
  {
   "cell_type": "code",
   "execution_count": 2,
   "id": "128635ea",
   "metadata": {},
   "outputs": [
    {
     "name": "stdout",
     "output_type": "stream",
     "text": [
      "(3,)\n",
      "(3, 1)\n"
     ]
    }
   ],
   "source": [
    "x = np.random.normal(size=n)\n",
    "print(x.shape) # defaults to shape (n,)\n",
    "x = x.reshape(n,1)\n",
    "print(x.shape) # explicitly making x a column vector"
   ]
  },
  {
   "cell_type": "markdown",
   "id": "6925e699",
   "metadata": {},
   "source": [
    "<!-- We remark that at times, we will want to refer to the individual rows or columns of a matrix. To do this we use the notation $\\boldsymbol{A}[i,:]$ to refer to the $i^{th}$ row of $\\boldsymbol{A}$, and $\\boldsymbol{A}[:,j]$ to refer to the $j^{th}$ column of $\\boldsymbol{A}$ (this has the added convenience of also being the notation to select rows/column of an array in `numpy`).  -->\n",
    "\n",
    "Note that by default, `numpy` stores 1-d arrays as having shape `(n,)`, which is, somewhat subtly, different from a column vector, which has shape `(n,1)`. So to work with a column vector in Python, we have to explictly specify its shape. For many operations we will want to perform, this distinction won't matter much, though for some operations this distinction is in fact important, and so we will want to be careful. We will see examples of this in the coming sections. We can also represent a vector explicitly as a row vector in a similar way."
   ]
  },
  {
   "cell_type": "code",
   "execution_count": 3,
   "id": "80d91d68",
   "metadata": {},
   "outputs": [
    {
     "name": "stdout",
     "output_type": "stream",
     "text": [
      "(1, 3)\n"
     ]
    }
   ],
   "source": [
    "x = x.reshape(1,n)\n",
    "print(x.shape) # explicitly making x a row vector"
   ]
  },
  {
   "cell_type": "markdown",
   "id": "67848878",
   "metadata": {},
   "source": [
    "## The transpose operation\n",
    "\n",
    "Suppose we were given an $m\\times n$ matrix $\\boldsymbol{A}$ of the form\n",
    "\n",
    "$$\n",
    "\\boldsymbol{A} = \\begin{bmatrix}a_{11}& \\cdots &a_{1n}\\\\ a_{21}&\\cdots & a_{2n}\\\\ \\vdots & \\ddots & \\vdots \\\\ a_{m1}&\\cdots & a_{mn}\\end{bmatrix} \\in \\mathbb{R}^{m\\times n}.\n",
    "$$\n",
    "\n",
    "One of the most important operations we can perform on such a matrix is to take its _transpose_, which means to form the $n\\times m$ matrix $\\boldsymbol{A}^\\top$ by defining the $i^{th}$ row of $\\boldsymbol{A}^\\top$ be the $i^{th}$ column of $\\boldsymbol{A}$. Specifically, this would give us\n",
    "\n",
    "$$\n",
    "\\boldsymbol{A}^\\top = \\begin{bmatrix}a_{11}& \\cdots &a_{m1}\\\\ a_{12}&\\cdots & a_{m2}\\\\ \\vdots & \\ddots & \\vdots \\\\ a_{1n}&\\cdots & a_{mn}\\end{bmatrix} \\in \\mathbb{R}^{n\\times m}.\n",
    "$$\n",
    "\n",
    "Note that this operation takes a matrix of shape $m\\times n$ and returns a matrix of shape $n\\times m$. It is easy to find the transpose of a matrix (i.e. `numpy` array) in Python:"
   ]
  },
  {
   "cell_type": "code",
   "execution_count": 4,
   "id": "31eb46d4",
   "metadata": {},
   "outputs": [
    {
     "name": "stdout",
     "output_type": "stream",
     "text": [
      "(5, 3)\n",
      "(3, 5)\n"
     ]
    }
   ],
   "source": [
    "print(A.shape)\n",
    "AT = A.T # take the transpose of A\n",
    "print(AT.shape)"
   ]
  },
  {
   "cell_type": "markdown",
   "id": "7bc605b4",
   "metadata": {},
   "source": [
    "We can also use this to convert between row and column vectors in `numpy`."
   ]
  },
  {
   "cell_type": "code",
   "execution_count": 5,
   "id": "11cbf3af",
   "metadata": {},
   "outputs": [
    {
     "name": "stdout",
     "output_type": "stream",
     "text": [
      "(3, 1)\n",
      "(1, 3)\n"
     ]
    }
   ],
   "source": [
    "x = np.random.normal(size=n)\n",
    "x = x.reshape(n,1)\n",
    "print(x.shape) #column vector\n",
    "xT = x.T\n",
    "print(xT.shape) #row vector"
   ]
  },
  {
   "cell_type": "markdown",
   "id": "848149be",
   "metadata": {},
   "source": [
    "## Matrix multiplcation\n",
    "\n",
    "The second operation on matrices which will we frequently encounter is matrix multiplication. To best introduce matrix multiplication, however, we first need to introduce a somewhat simpler operation on vectors called the _dot product_ or _inner product_. Given two vectors $\\boldsymbol{x},\\boldsymbol{y} \\in \\mathbb{R}^n$, their dot product is\n",
    "\n",
    "$$\n",
    "\\langle \\boldsymbol{x},\\boldsymbol{y}\\rangle = \\boldsymbol{x}^\\top \\boldsymbol{y} = \\sum_{i=1}^n x_iy_i.\n",
    "$$\n",
    "\n",
    "Here by using the notation $\\boldsymbol{x}^\\top \\boldsymbol{y}$, we implicitly assumed that $\\boldsymbol{x}, \\boldsymbol{y}$ were both _column vectors_, to that the operation $\\boldsymbol{x}^\\top \\boldsymbol{y}$ involved multiplying a row vector, $\\boldsymbol{x}^\\top$, with a column vector, $\\boldsymbol{y}$. This returns a single real _number_, which is the sum $\\sum_{i=1}^n x_iy_i$, i.e. multiplying and summing up the entries of the two vectors pairwise.\n",
    "\n",
    "Later, we will discuss in more detail the geometric meaning of this operation. For now, however, it will suffice to simply take this as a definition. In `numpy`, we can compute the dot product of two vectors using the function `np.dot`. For example,"
   ]
  },
  {
   "cell_type": "code",
   "execution_count": 6,
   "id": "edca7d50",
   "metadata": {},
   "outputs": [
    {
     "name": "stdout",
     "output_type": "stream",
     "text": [
      "-0.18824610970908898\n"
     ]
    }
   ],
   "source": [
    "x = np.random.normal(size=n)\n",
    "y = np.random.normal(size=n)\n",
    "x_dot_y = np.dot(x,y)\n",
    "print(x_dot_y)"
   ]
  },
  {
   "cell_type": "markdown",
   "id": "2106f9f5",
   "metadata": {},
   "source": [
    "Note that here we didn't explicitly define that either $\\boldsymbol{x}$ or $\\boldsymbol{y}$ was a row or column vector; fortunately, `numpy` automatically handles the shaping of arrays for us in this problem.\n",
    "\n",
    "Now that we have defined the dot product, we can define the more general operation of matrix multiplication. Given matrices $\\boldsymbol{A}\\in \\mathbb{R}^{m\\times n}$, with rows $\\boldsymbol{a}_{1:},\\dots,\\boldsymbol{a}_{m:}$, and  $\\boldsymbol{B}\\in \\mathbb{R}^{n\\times p}$, with columns $\\boldsymbol{b}_{:1},\\dots, \\boldsymbol{b}_{:p}$, we define the matrix product $\\boldsymbol{AB}$ to be the $m\\times p$ matrix whose $(i,j)^{th}$ entry is\n",
    "\n",
    "$$\n",
    "[\\boldsymbol{A}\\boldsymbol{B}]_{ij} = \\boldsymbol{a}_{i:}^\\top \\boldsymbol{b}_{:j}.\n",
    "$$\n",
    "\n",
    "That is, the $(i,j)^{th}$ entry of the matrix $\\boldsymbol{AB}$ is the dot product of the $i^{th}$ row of $\\boldsymbol{A}$ with the $j^{th}$ column of $\\boldsymbol{B}$.\n",
    "\n",
    "Note that for this operation to be well-defined, we need that the rows of $\\boldsymbol{A}$ are of the same dimension as the columns of $\\boldsymbol{B}$, or equivalently that the number of columns of $\\boldsymbol{A}$ is equal to the number of rows of $\\boldsymbol{B}$. Let's see some examples in Python. Note that we can also use the `numpy` function `np.dot` to perform matrix multiplication."
   ]
  },
  {
   "cell_type": "code",
   "execution_count": 7,
   "id": "959a99da",
   "metadata": {},
   "outputs": [
    {
     "name": "stdout",
     "output_type": "stream",
     "text": [
      "(10, 3)\n"
     ]
    }
   ],
   "source": [
    "m, n, p = 10,5,3\n",
    "\n",
    "A = np.random.normal(size=(m,n))\n",
    "B = np.random.normal(size=(n,p))\n",
    "AB = np.dot(A,B)\n",
    "print(AB.shape)"
   ]
  },
  {
   "cell_type": "markdown",
   "id": "fff1b87a",
   "metadata": {},
   "source": [
    "This is an example where the matrix product is well-defined, since the number of columns of $\\boldsymbol{A}$ (5) is equal to the number of rows of $\\boldsymbol{B}$ (also 5). Let's see an example where this doesn't work."
   ]
  },
  {
   "cell_type": "code",
   "execution_count": 8,
   "id": "68cd9f08",
   "metadata": {},
   "outputs": [
    {
     "ename": "ValueError",
     "evalue": "shapes (10,5) and (4,3) not aligned: 5 (dim 1) != 4 (dim 0)",
     "output_type": "error",
     "traceback": [
      "\u001b[0;31m---------------------------------------------------------------------------\u001b[0m",
      "\u001b[0;31mValueError\u001b[0m                                Traceback (most recent call last)",
      "\u001b[0;32m<ipython-input-8-4d3c337d16ff>\u001b[0m in \u001b[0;36m<module>\u001b[0;34m\u001b[0m\n\u001b[1;32m      4\u001b[0m \u001b[0mA\u001b[0m \u001b[0;34m=\u001b[0m \u001b[0mnp\u001b[0m\u001b[0;34m.\u001b[0m\u001b[0mrandom\u001b[0m\u001b[0;34m.\u001b[0m\u001b[0mnormal\u001b[0m\u001b[0;34m(\u001b[0m\u001b[0msize\u001b[0m\u001b[0;34m=\u001b[0m\u001b[0;34m(\u001b[0m\u001b[0mm\u001b[0m\u001b[0;34m,\u001b[0m\u001b[0mn\u001b[0m\u001b[0;34m)\u001b[0m\u001b[0;34m)\u001b[0m\u001b[0;34m\u001b[0m\u001b[0;34m\u001b[0m\u001b[0m\n\u001b[1;32m      5\u001b[0m \u001b[0mB\u001b[0m \u001b[0;34m=\u001b[0m \u001b[0mnp\u001b[0m\u001b[0;34m.\u001b[0m\u001b[0mrandom\u001b[0m\u001b[0;34m.\u001b[0m\u001b[0mnormal\u001b[0m\u001b[0;34m(\u001b[0m\u001b[0msize\u001b[0m\u001b[0;34m=\u001b[0m\u001b[0;34m(\u001b[0m\u001b[0mk\u001b[0m\u001b[0;34m,\u001b[0m\u001b[0mp\u001b[0m\u001b[0;34m)\u001b[0m\u001b[0;34m)\u001b[0m\u001b[0;34m\u001b[0m\u001b[0;34m\u001b[0m\u001b[0m\n\u001b[0;32m----> 6\u001b[0;31m \u001b[0mAB\u001b[0m \u001b[0;34m=\u001b[0m \u001b[0mnp\u001b[0m\u001b[0;34m.\u001b[0m\u001b[0mdot\u001b[0m\u001b[0;34m(\u001b[0m\u001b[0mA\u001b[0m\u001b[0;34m,\u001b[0m\u001b[0mB\u001b[0m\u001b[0;34m)\u001b[0m\u001b[0;34m\u001b[0m\u001b[0;34m\u001b[0m\u001b[0m\n\u001b[0m\u001b[1;32m      7\u001b[0m \u001b[0mprint\u001b[0m\u001b[0;34m(\u001b[0m\u001b[0mAB\u001b[0m\u001b[0;34m.\u001b[0m\u001b[0mshape\u001b[0m\u001b[0;34m)\u001b[0m\u001b[0;34m\u001b[0m\u001b[0;34m\u001b[0m\u001b[0m\n",
      "\u001b[0;32m~/opt/miniconda3/lib/python3.9/site-packages/numpy/core/overrides.py\u001b[0m in \u001b[0;36mdot\u001b[0;34m(*args, **kwargs)\u001b[0m\n",
      "\u001b[0;31mValueError\u001b[0m: shapes (10,5) and (4,3) not aligned: 5 (dim 1) != 4 (dim 0)"
     ]
    }
   ],
   "source": [
    "# now the inner dimensions don't match\n",
    "m, n, k, p = 10,5,4, 3\n",
    "\n",
    "A = np.random.normal(size=(m,n))\n",
    "B = np.random.normal(size=(k,p))\n",
    "AB = np.dot(A,B)\n",
    "print(AB.shape)"
   ]
  },
  {
   "cell_type": "markdown",
   "id": "5fd64d84",
   "metadata": {},
   "source": [
    "As we'd expect, `numpy` gives us an error, because the two matrices are not of coherent dimensions to perform matrix multiplcation.\n",
    "\n",
    "## An aside: vectorizing operations\n",
    "\n",
    "One important point from a computational perspective is that matrix multiplication can often be a slow task for large matrices. Because of this, the functions like `np.dot` in `numpy` are actually written in a faster language, C in this case, and wrapped in Python functions that are easy to use. However, there is some overhead with converting the results from C back to Python. Therefore, in practice, we want to minimize the number of calls we need to make to function `np.dot`.\n",
    "\n",
    "Let's see an example of this by computing a matrix product \"by hand\", i.e. by computing each of the dot products comprising the product $\\boldsymbol{A},\\boldsymbol{B}$ in Python. We do this using the following function."
   ]
  },
  {
   "cell_type": "code",
   "execution_count": 9,
   "id": "f1347236",
   "metadata": {},
   "outputs": [],
   "source": [
    "def slow_mat_mul(A,B):\n",
    "  assert A.shape[1] == B.shape[0], 'invalid dimensions for matrix multiplication'\n",
    "\n",
    "  AB = np.empty(shape=(A.shape[0],B.shape[1]))\n",
    "\n",
    "  for i in range(A.shape[0]):\n",
    "    for j in range(B.shape[1]):\n",
    "      AB[i,j] = np.dot(A[i,:], B[:,j])\n",
    "\n",
    "  return AB"
   ]
  },
  {
   "cell_type": "markdown",
   "id": "870ee219",
   "metadata": {},
   "source": [
    "Let's compare how this function performs in terms of speed with calling the `np.dot` function just a single time to perform the matrix multiply."
   ]
  },
  {
   "cell_type": "code",
   "execution_count": 10,
   "id": "2c52b063",
   "metadata": {},
   "outputs": [
    {
     "name": "stdout",
     "output_type": "stream",
     "text": [
      "time using our function: 0.8152408599853516 seconds\n",
      "time using np.dot: 0.007204294204711914 seconds\n"
     ]
    }
   ],
   "source": [
    "import time\n",
    "\n",
    "m, n, p = 1000, 500, 500\n",
    "\n",
    "A = np.random.normal(size=(m,n))\n",
    "B = np.random.normal(size=(n,p))\n",
    "\n",
    "tic = time.time()\n",
    "slow_mat_mul(A,B)\n",
    "print(f'time using our function: {time.time()-tic} seconds')\n",
    "\n",
    "tic = time.time()\n",
    "np.dot(A,B)\n",
    "print(f'time using np.dot: {time.time()-tic} seconds')"
   ]
  },
  {
   "cell_type": "markdown",
   "id": "05ae706d",
   "metadata": {},
   "source": [
    "As you can see, calling `np.dot` just once is many times faster than manually computing each of the entries, even though the same things need to be computed using either approach. This is because the \"fast\" method calls the underlying C function just one, instead of $m\\cdot p$ times, as the \"slow\" method does. The practice of optimizing performance by minimizing the number of function calls one needs to make is often called _vectorizing_, and is often critically important when working with large problems."
   ]
  }
 ],
 "metadata": {
  "jupytext": {
   "text_representation": {
    "extension": ".md",
    "format_name": "myst",
    "format_version": 0.12,
    "jupytext_version": "1.9.1"
   }
  },
  "kernelspec": {
   "display_name": "Python 3",
   "language": "python",
   "name": "python3"
  },
  "language_info": {
   "codemirror_mode": {
    "name": "ipython",
    "version": 3
   },
   "file_extension": ".py",
   "mimetype": "text/x-python",
   "name": "python",
   "nbconvert_exporter": "python",
   "pygments_lexer": "ipython3",
   "version": "3.9.5"
  },
  "source_map": [
   12,
   21,
   28,
   34,
   39,
   45,
   48,
   66,
   70,
   74,
   80,
   94,
   99,
   113,
   120,
   124,
   132,
   142,
   153,
   157,
   172
  ]
 },
 "nbformat": 4,
 "nbformat_minor": 5
}