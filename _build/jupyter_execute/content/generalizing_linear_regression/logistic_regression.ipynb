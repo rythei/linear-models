{
 "cells": [
  {
   "cell_type": "markdown",
   "id": "55719adb",
   "metadata": {},
   "source": [
    "# GLMs part 1: logistic regression\n",
    "\n",
    "## Overview\n",
    "So far in this course, we've covered methods for modeling a _continuous_ response variable $y\\in\\mathbb{R}$ as a linear function of features $\\boldsymbol{x}\\in\\mathbb{R}^p$ using the generic form\n",
    "\n",
    "$$\n",
    "y = \\boldsymbol{\\beta}\\cdot \\boldsymbol{x} + \\varepsilon.\n",
    "$$\n",
    "\n",
    "We've also discussed extensions where the model can be non-linear in the features, provided it is linear in the parameters, i.e. a model of the form\n",
    "\n",
    "$$\n",
    "y = \\boldsymbol{\\beta}\\cdot \\phi(\\boldsymbol{x}) + \\varepsilon \\hspace{10mm} (1)\n",
    "$$\n",
    "\n",
    "where $\\phi$ is some pre-defined feature map. In this case, if $\\mathbb{E}[\\varepsilon] = 0$ and $\\mathbb{E}[\\varepsilon^2] = \\sigma^2$, then we get that \n",
    "\n",
    "$$\n",
    "\\mathbb{E}[y \\mid \\boldsymbol{x},\\boldsymbol{\\beta}] = \\boldsymbol{\\beta}\\cdot\\phi(\\boldsymbol{x})\\;\\;\\;\\; \\text{ and }\\;\\;\\;\\; \\text{Var}[y\\mid \\boldsymbol{x},\\boldsymbol{\\beta}] = \\sigma^2.\n",
    "$$ \n",
    "\n",
    "For example, when we assume $\\varepsilon \\sim N(0,\\sigma^2)$, we found that $y\\mid \\boldsymbol{x},\\boldsymbol{\\beta} \\sim N(\\boldsymbol{\\beta}\\cdot \\phi(\\boldsymbol{x}), \\sigma^2)$. This is often a natural model for continuous response variables.\n",
    "\n",
    "In many practical situations, however, we may be interested in predicting a response variable which does not take on continuous values. For example, which might want to build a model to predict whether or not an individual will default on a loan, given a variety of attributes of the individual. In this case, $y\\in \\{\\text{default}, \\text{no default}\\}$. Or, we might want to estimate the number of calls a call center will recieve, given features like the time of day, whether, etc, in which case $y\\in \\{0,1,2,\\dots\\}$. In both of these cases, the reponse $y$ takes on discrete values, in which case the model $(1)$ is no longer suited to the problem.\n",
    "\n",
    "_Generalized linear models_ (or GLMs) are a framework for modeling more general types of response variables. The key step is to define a _link function_ $g$ such that\n",
    "\n",
    "$$\n",
    "g(\\mathbb{E}[y\\mid \\boldsymbol{x},\\boldsymbol{\\beta}]) = \\boldsymbol{\\beta}\\cdot \\boldsymbol{x}.\n",
    "$$\n",
    "\n",
    "Note that linear regression is just a special case of this where $g(z) = z$ is the identity function. Typically we will make certain assumptions about $g$, namely we will require that it is monotone and invertible, so that $g(a) = b \\iff a = g^{-1}(b)$. There will also be a natural correspondence between GLMs and the so-called exponential family of distributions, which we will discuss in more detail in a later notebook. For now, we will introduce the most widely used GLM, the logistic regression model, which can be used to model a binary response variable.\n",
    "\n",
    "## Logistic regression\n",
    "\n",
    "Consider a prediction problem with a binary response variable $y\\in \\{0,1\\}$ (here we model the outcome as either 0 or 1, though you can think of these as encodings for whatever binary response we want, e.g. \"default\" vs \"no default\", \"dog\" vs \"cat\", etc.). A natural way to model this is to assume $y\\mid \\boldsymbol{x} \\sim \\text{Bernoulli}$. In logistic regression, we directly model the probability of an observation being in class 1 using the _logistic function_:\n",
    "\n",
    "$$\n",
    "\\mathbb{E}[y\\mid \\boldsymbol{x},\\boldsymbol{\\beta}] = P(y= 1\\mid \\boldsymbol{x},\\boldsymbol{\\beta}) = \\frac{1}{1+e^{-\\boldsymbol{\\beta}\\cdot \\boldsymbol{x}}}.\n",
    "$$\n",
    "\n",
    "Notice that this corresponds to our definition of a generalized linear model associated with the link function\n",
    "\n",
    "$$\n",
    "g(z) = \\log\\left(\\frac{z}{1-z}\\right)\n",
    "$$\n",
    "\n",
    "since\n",
    "\n",
    "$$\n",
    "g(\\mathbb{E}[y\\mid \\boldsymbol{x},\\boldsymbol{\\beta}]) = \\boldsymbol{\\beta}\\cdot \\boldsymbol{x}.\n",
    "$$\n",
    "\n",
    "Now that we've defined the model, we need a method to actually fit the parameters $\\boldsymbol{\\beta}$ given a set of data $(\\boldsymbol{x}_1,y_1),\\dots,(\\boldsymbol{x}_n,y_n)$. To do this, we will again use maximum likelihood estimation (similar to what we did for the [Gaussian model](../basic_linear_regression/maximum_likelihood_estimation.md)). For compactness, define $p_{\\boldsymbol{\\beta}}(\\boldsymbol{x}) = P(Y=1\\mid \\boldsymbol{x},\\boldsymbol{\\beta})$. For an individual sample $(\\boldsymbol{x},y)$, the likelihood is\n",
    "\n",
    "$$\n",
    "L(\\boldsymbol{\\beta}; \\boldsymbol{x},y) = \\begin{cases} p_{\\boldsymbol{\\beta}}(\\boldsymbol{x}) & \\text{if } y = 1\\\\ 1-p_{\\boldsymbol{\\beta}}(\\boldsymbol{x}) & \\text{if } y=0 \\end{cases}\n",
    "$$\n",
    "\n",
    "This can concisely be written in a single expression:\n",
    "\n",
    "$$\n",
    "L(\\boldsymbol{\\beta}; \\boldsymbol{x},y) = p_{\\boldsymbol{\\beta}}(\\boldsymbol{x})^{y}(1-p_{\\boldsymbol{\\beta}}(\\boldsymbol{x}))^{1-y}.\n",
    "$$\n",
    "\n",
    "Then if the $y_i$'s are conditionally independent given the $\\boldsymbol{x}_i$'s, the likelihood is\n",
    "\n",
    "$$\n",
    "L(\\boldsymbol{\\beta}; (\\boldsymbol{x}_i,y_i)_{i=1}^n) = \\prod_{i=1}^n  p_{\\boldsymbol{\\beta}}(\\boldsymbol{x}_i)^{y_i}(1-p_{\\boldsymbol{\\beta}}(\\boldsymbol{x}_i))^{1-y_i}\n",
    "$$\n",
    "\n",
    "and hence the negative log likelihood (which we want to minimize) is:\n",
    "\n",
    "$$\n",
    "\\ell(\\boldsymbol{\\beta}) = -\\log L(\\boldsymbol{\\beta}; (\\boldsymbol{x}_i,y_i)_{i=1}^n) = -\\sum_{i=1}^n \\{y_i \\log p_{\\boldsymbol{\\beta}}(\\boldsymbol{x}_i) + (1-y_i)\\log(1-p_{\\boldsymbol{\\beta}}(\\boldsymbol{x}_i))\\}.\n",
    "$$\n",
    "\n",
    "To find the minimizer, we would like to find $\\boldsymbol{\\beta}$ such that $\\nabla_{\\boldsymbol{\\beta}}\\ell(\\boldsymbol{\\beta})=0$. With some calculus, we can calculate that\n",
    "\n",
    "$$\n",
    "\\nabla_{\\boldsymbol{\\beta}}\\ell(\\boldsymbol{\\beta}) = \\boldsymbol{X}^\\top (p_{\\boldsymbol{\\beta}}(\\boldsymbol{X}) - \\boldsymbol{y})\n",
    "$$\n",
    "\n",
    "where $p_{\\boldsymbol{\\beta}}(\\boldsymbol{X}) = \\begin{bmatrix}p_{\\boldsymbol{\\beta}}(\\boldsymbol{x}_1) & \\cdots & p_{\\boldsymbol{\\beta}}(\\boldsymbol{x}_n)\\end{bmatrix}$. Unfortunately, unlike in linear regression, setting this equal to zero does not give an analytical solution for $\\boldsymbol{\\beta}$. Instead, we must use a numerical optimization algorithm to solve for the maximum likelihood estimator $\\hat{\\boldsymbol{\\beta}}$. Examples of these algorithms are gradient descent and Newton's method; we won't focus on the details of these techniques too much in this course, though we give a description of how Newton's method for logistic regression below. \n",
    "\n",
    "Let's work through an example with an actual dataset. For this, we will work with the well-known Wisconsin Breast Cancer dataset. This dataset contains 30 different attributes for $n=569$ tumors, as well as a label indicating whether the tumor is malignant ($y=1$) or benign ($y=0$). Each feature is a different physical property of the tumor, e.g. radius, perimeter, area, etc.We load the data below."
   ]
  },
  {
   "cell_type": "code",
   "execution_count": 1,
   "id": "14a887ed",
   "metadata": {},
   "outputs": [
    {
     "data": {
      "text/html": [
       "<div>\n",
       "<style scoped>\n",
       "    .dataframe tbody tr th:only-of-type {\n",
       "        vertical-align: middle;\n",
       "    }\n",
       "\n",
       "    .dataframe tbody tr th {\n",
       "        vertical-align: top;\n",
       "    }\n",
       "\n",
       "    .dataframe thead th {\n",
       "        text-align: right;\n",
       "    }\n",
       "</style>\n",
       "<table border=\"1\" class=\"dataframe\">\n",
       "  <thead>\n",
       "    <tr style=\"text-align: right;\">\n",
       "      <th></th>\n",
       "      <th>diagnosis</th>\n",
       "      <th>mean radius</th>\n",
       "      <th>mean texture</th>\n",
       "      <th>mean perimeter</th>\n",
       "      <th>mean area</th>\n",
       "      <th>mean smoothness</th>\n",
       "      <th>mean compactness</th>\n",
       "      <th>mean concavity</th>\n",
       "      <th>mean concave points</th>\n",
       "      <th>mean symmetry</th>\n",
       "      <th>...</th>\n",
       "      <th>worst radius</th>\n",
       "      <th>worst texture</th>\n",
       "      <th>worst perimeter</th>\n",
       "      <th>worst area</th>\n",
       "      <th>worst smoothness</th>\n",
       "      <th>worst compactness</th>\n",
       "      <th>worst concavity</th>\n",
       "      <th>worst concave points</th>\n",
       "      <th>worst symmetry</th>\n",
       "      <th>worst fractal dimension</th>\n",
       "    </tr>\n",
       "  </thead>\n",
       "  <tbody>\n",
       "    <tr>\n",
       "      <th>0</th>\n",
       "      <td>1</td>\n",
       "      <td>17.99</td>\n",
       "      <td>10.38</td>\n",
       "      <td>122.80</td>\n",
       "      <td>1001.0</td>\n",
       "      <td>0.11840</td>\n",
       "      <td>0.27760</td>\n",
       "      <td>0.3001</td>\n",
       "      <td>0.14710</td>\n",
       "      <td>0.2419</td>\n",
       "      <td>...</td>\n",
       "      <td>25.38</td>\n",
       "      <td>17.33</td>\n",
       "      <td>184.60</td>\n",
       "      <td>2019.0</td>\n",
       "      <td>0.1622</td>\n",
       "      <td>0.6656</td>\n",
       "      <td>0.7119</td>\n",
       "      <td>0.2654</td>\n",
       "      <td>0.4601</td>\n",
       "      <td>0.11890</td>\n",
       "    </tr>\n",
       "    <tr>\n",
       "      <th>1</th>\n",
       "      <td>1</td>\n",
       "      <td>20.57</td>\n",
       "      <td>17.77</td>\n",
       "      <td>132.90</td>\n",
       "      <td>1326.0</td>\n",
       "      <td>0.08474</td>\n",
       "      <td>0.07864</td>\n",
       "      <td>0.0869</td>\n",
       "      <td>0.07017</td>\n",
       "      <td>0.1812</td>\n",
       "      <td>...</td>\n",
       "      <td>24.99</td>\n",
       "      <td>23.41</td>\n",
       "      <td>158.80</td>\n",
       "      <td>1956.0</td>\n",
       "      <td>0.1238</td>\n",
       "      <td>0.1866</td>\n",
       "      <td>0.2416</td>\n",
       "      <td>0.1860</td>\n",
       "      <td>0.2750</td>\n",
       "      <td>0.08902</td>\n",
       "    </tr>\n",
       "    <tr>\n",
       "      <th>2</th>\n",
       "      <td>1</td>\n",
       "      <td>19.69</td>\n",
       "      <td>21.25</td>\n",
       "      <td>130.00</td>\n",
       "      <td>1203.0</td>\n",
       "      <td>0.10960</td>\n",
       "      <td>0.15990</td>\n",
       "      <td>0.1974</td>\n",
       "      <td>0.12790</td>\n",
       "      <td>0.2069</td>\n",
       "      <td>...</td>\n",
       "      <td>23.57</td>\n",
       "      <td>25.53</td>\n",
       "      <td>152.50</td>\n",
       "      <td>1709.0</td>\n",
       "      <td>0.1444</td>\n",
       "      <td>0.4245</td>\n",
       "      <td>0.4504</td>\n",
       "      <td>0.2430</td>\n",
       "      <td>0.3613</td>\n",
       "      <td>0.08758</td>\n",
       "    </tr>\n",
       "    <tr>\n",
       "      <th>3</th>\n",
       "      <td>1</td>\n",
       "      <td>11.42</td>\n",
       "      <td>20.38</td>\n",
       "      <td>77.58</td>\n",
       "      <td>386.1</td>\n",
       "      <td>0.14250</td>\n",
       "      <td>0.28390</td>\n",
       "      <td>0.2414</td>\n",
       "      <td>0.10520</td>\n",
       "      <td>0.2597</td>\n",
       "      <td>...</td>\n",
       "      <td>14.91</td>\n",
       "      <td>26.50</td>\n",
       "      <td>98.87</td>\n",
       "      <td>567.7</td>\n",
       "      <td>0.2098</td>\n",
       "      <td>0.8663</td>\n",
       "      <td>0.6869</td>\n",
       "      <td>0.2575</td>\n",
       "      <td>0.6638</td>\n",
       "      <td>0.17300</td>\n",
       "    </tr>\n",
       "    <tr>\n",
       "      <th>4</th>\n",
       "      <td>1</td>\n",
       "      <td>20.29</td>\n",
       "      <td>14.34</td>\n",
       "      <td>135.10</td>\n",
       "      <td>1297.0</td>\n",
       "      <td>0.10030</td>\n",
       "      <td>0.13280</td>\n",
       "      <td>0.1980</td>\n",
       "      <td>0.10430</td>\n",
       "      <td>0.1809</td>\n",
       "      <td>...</td>\n",
       "      <td>22.54</td>\n",
       "      <td>16.67</td>\n",
       "      <td>152.20</td>\n",
       "      <td>1575.0</td>\n",
       "      <td>0.1374</td>\n",
       "      <td>0.2050</td>\n",
       "      <td>0.4000</td>\n",
       "      <td>0.1625</td>\n",
       "      <td>0.2364</td>\n",
       "      <td>0.07678</td>\n",
       "    </tr>\n",
       "  </tbody>\n",
       "</table>\n",
       "<p>5 rows × 31 columns</p>\n",
       "</div>"
      ],
      "text/plain": [
       "   diagnosis  mean radius  mean texture  mean perimeter  mean area  \\\n",
       "0          1        17.99         10.38          122.80     1001.0   \n",
       "1          1        20.57         17.77          132.90     1326.0   \n",
       "2          1        19.69         21.25          130.00     1203.0   \n",
       "3          1        11.42         20.38           77.58      386.1   \n",
       "4          1        20.29         14.34          135.10     1297.0   \n",
       "\n",
       "   mean smoothness  mean compactness  mean concavity  mean concave points  \\\n",
       "0          0.11840           0.27760          0.3001              0.14710   \n",
       "1          0.08474           0.07864          0.0869              0.07017   \n",
       "2          0.10960           0.15990          0.1974              0.12790   \n",
       "3          0.14250           0.28390          0.2414              0.10520   \n",
       "4          0.10030           0.13280          0.1980              0.10430   \n",
       "\n",
       "   mean symmetry  ...  worst radius  worst texture  worst perimeter  \\\n",
       "0         0.2419  ...         25.38          17.33           184.60   \n",
       "1         0.1812  ...         24.99          23.41           158.80   \n",
       "2         0.2069  ...         23.57          25.53           152.50   \n",
       "3         0.2597  ...         14.91          26.50            98.87   \n",
       "4         0.1809  ...         22.54          16.67           152.20   \n",
       "\n",
       "   worst area  worst smoothness  worst compactness  worst concavity  \\\n",
       "0      2019.0            0.1622             0.6656           0.7119   \n",
       "1      1956.0            0.1238             0.1866           0.2416   \n",
       "2      1709.0            0.1444             0.4245           0.4504   \n",
       "3       567.7            0.2098             0.8663           0.6869   \n",
       "4      1575.0            0.1374             0.2050           0.4000   \n",
       "\n",
       "   worst concave points  worst symmetry  worst fractal dimension  \n",
       "0                0.2654          0.4601                  0.11890  \n",
       "1                0.1860          0.2750                  0.08902  \n",
       "2                0.2430          0.3613                  0.08758  \n",
       "3                0.2575          0.6638                  0.17300  \n",
       "4                0.1625          0.2364                  0.07678  \n",
       "\n",
       "[5 rows x 31 columns]"
      ]
     },
     "execution_count": 1,
     "metadata": {},
     "output_type": "execute_result"
    }
   ],
   "source": [
    "import pandas as pd\n",
    "\n",
    "dataset = pd.read_csv(\"datasets/breast_cancer.csv\")\n",
    "dataset.head()"
   ]
  },
  {
   "cell_type": "markdown",
   "id": "fdc870cc",
   "metadata": {},
   "source": [
    "The column `diagnosis` contains our response, and the ramining columns contain various features. For the sake of this example, we will restrict ourselves to a subset of the features."
   ]
  },
  {
   "cell_type": "code",
   "execution_count": 2,
   "id": "8537fc9e",
   "metadata": {},
   "outputs": [
    {
     "data": {
      "text/plain": [
       "((569, 13), (569,))"
      ]
     },
     "execution_count": 2,
     "metadata": {},
     "output_type": "execute_result"
    }
   ],
   "source": [
    "import numpy as np\n",
    "np.random.seed(1)\n",
    "\n",
    "feature_cols = [\"mean radius\", \"mean texture\", \"mean smoothness\", \n",
    "                \"mean compactness\", \"mean symmetry\", \"mean fractal dimension\", \n",
    "                \"radius error\", \"texture error\", \"smoothness error\", \n",
    "                \"compactness error\", \"symmetry error\", \"fractal dimension error\"]\n",
    "\n",
    "y = dataset[\"diagnosis\"].to_numpy()\n",
    "X = dataset[feature_cols].to_numpy()\n",
    "\n",
    "# add a column of 1's\n",
    "ones = np.ones((X.shape[0],1))\n",
    "X = np.hstack([ones, X])\n",
    "\n",
    "X.shape, y.shape"
   ]
  },
  {
   "cell_type": "markdown",
   "id": "eb004a7f",
   "metadata": {},
   "source": [
    "Before actually fitting the logistic regression model, we will hold out 100 of our examples for testing in a later section of this notebook."
   ]
  },
  {
   "cell_type": "code",
   "execution_count": 3,
   "id": "edd2476b",
   "metadata": {},
   "outputs": [
    {
     "data": {
      "text/plain": [
       "((469, 13), (100, 13))"
      ]
     },
     "execution_count": 3,
     "metadata": {},
     "output_type": "execute_result"
    }
   ],
   "source": [
    "ix_test = np.random.choice(X.shape[0], 100, replace=False)\n",
    "ix_train = [j for j in range(X.shape[0]) if j not in ix_test]\n",
    "\n",
    "X_train, y_train = X[ix_train], y[ix_train]\n",
    "X_test, y_test = X[ix_test], y[ix_test]\n",
    "\n",
    "X_train.shape, X_test.shape"
   ]
  },
  {
   "cell_type": "markdown",
   "id": "462905b2",
   "metadata": {},
   "source": [
    "We can fit the model using the `statsmodels` package, as shown in the following cell."
   ]
  },
  {
   "cell_type": "code",
   "execution_count": 4,
   "id": "d3ebe20b",
   "metadata": {},
   "outputs": [
    {
     "name": "stdout",
     "output_type": "stream",
     "text": [
      "Optimization terminated successfully.\n",
      "         Current function value: 0.122233\n",
      "         Iterations 12\n"
     ]
    },
    {
     "data": {
      "text/html": [
       "<table class=\"simpletable\">\n",
       "<caption>Logit Regression Results</caption>\n",
       "<tr>\n",
       "  <th>Dep. Variable:</th>           <td>y</td>        <th>  No. Observations:  </th>   <td>   469</td>  \n",
       "</tr>\n",
       "<tr>\n",
       "  <th>Model:</th>                 <td>Logit</td>      <th>  Df Residuals:      </th>   <td>   456</td>  \n",
       "</tr>\n",
       "<tr>\n",
       "  <th>Method:</th>                 <td>MLE</td>       <th>  Df Model:          </th>   <td>    12</td>  \n",
       "</tr>\n",
       "<tr>\n",
       "  <th>Date:</th>            <td>Thu, 27 Oct 2022</td> <th>  Pseudo R-squ.:     </th>   <td>0.8143</td>  \n",
       "</tr>\n",
       "<tr>\n",
       "  <th>Time:</th>                <td>23:08:23</td>     <th>  Log-Likelihood:    </th>  <td> -57.327</td> \n",
       "</tr>\n",
       "<tr>\n",
       "  <th>converged:</th>             <td>True</td>       <th>  LL-Null:           </th>  <td> -308.77</td> \n",
       "</tr>\n",
       "<tr>\n",
       "  <th>Covariance Type:</th>     <td>nonrobust</td>    <th>  LLR p-value:       </th> <td>5.406e-100</td>\n",
       "</tr>\n",
       "</table>\n",
       "<table class=\"simpletable\">\n",
       "<tr>\n",
       "    <td></td>       <th>coef</th>     <th>std err</th>      <th>z</th>      <th>P>|z|</th>  <th>[0.025</th>    <th>0.975]</th>  \n",
       "</tr>\n",
       "<tr>\n",
       "  <th>const</th> <td>  -38.0525</td> <td>   10.556</td> <td>   -3.605</td> <td> 0.000</td> <td>  -58.742</td> <td>  -17.363</td>\n",
       "</tr>\n",
       "<tr>\n",
       "  <th>x1</th>    <td>    1.0621</td> <td>    0.277</td> <td>    3.835</td> <td> 0.000</td> <td>    0.519</td> <td>    1.605</td>\n",
       "</tr>\n",
       "<tr>\n",
       "  <th>x2</th>    <td>    0.4361</td> <td>    0.085</td> <td>    5.109</td> <td> 0.000</td> <td>    0.269</td> <td>    0.603</td>\n",
       "</tr>\n",
       "<tr>\n",
       "  <th>x3</th>    <td>   43.5993</td> <td>   38.289</td> <td>    1.139</td> <td> 0.255</td> <td>  -31.447</td> <td>  118.645</td>\n",
       "</tr>\n",
       "<tr>\n",
       "  <th>x4</th>    <td>   42.0605</td> <td>   22.336</td> <td>    1.883</td> <td> 0.060</td> <td>   -1.718</td> <td>   85.839</td>\n",
       "</tr>\n",
       "<tr>\n",
       "  <th>x5</th>    <td>   20.0628</td> <td>   15.632</td> <td>    1.283</td> <td> 0.199</td> <td>  -10.575</td> <td>   50.701</td>\n",
       "</tr>\n",
       "<tr>\n",
       "  <th>x6</th>    <td>   34.4038</td> <td>  127.147</td> <td>    0.271</td> <td> 0.787</td> <td> -214.799</td> <td>  283.607</td>\n",
       "</tr>\n",
       "<tr>\n",
       "  <th>x7</th>    <td>   10.5655</td> <td>    3.060</td> <td>    3.453</td> <td> 0.001</td> <td>    4.568</td> <td>   16.563</td>\n",
       "</tr>\n",
       "<tr>\n",
       "  <th>x8</th>    <td>   -1.2429</td> <td>    0.708</td> <td>   -1.756</td> <td> 0.079</td> <td>   -2.630</td> <td>    0.144</td>\n",
       "</tr>\n",
       "<tr>\n",
       "  <th>x9</th>    <td>   -2.0025</td> <td>  111.843</td> <td>   -0.018</td> <td> 0.986</td> <td> -221.211</td> <td>  217.206</td>\n",
       "</tr>\n",
       "<tr>\n",
       "  <th>x10</th>   <td>    3.6880</td> <td>   40.481</td> <td>    0.091</td> <td> 0.927</td> <td>  -75.654</td> <td>   83.030</td>\n",
       "</tr>\n",
       "<tr>\n",
       "  <th>x11</th>   <td>  -52.5009</td> <td>   56.204</td> <td>   -0.934</td> <td> 0.350</td> <td> -162.658</td> <td>   57.656</td>\n",
       "</tr>\n",
       "<tr>\n",
       "  <th>x12</th>   <td> -585.9642</td> <td>  314.301</td> <td>   -1.864</td> <td> 0.062</td> <td>-1201.983</td> <td>   30.054</td>\n",
       "</tr>\n",
       "</table><br/><br/>Possibly complete quasi-separation: A fraction 0.26 of observations can be<br/>perfectly predicted. This might indicate that there is complete<br/>quasi-separation. In this case some parameters will not be identified."
      ],
      "text/plain": [
       "<class 'statsmodels.iolib.summary.Summary'>\n",
       "\"\"\"\n",
       "                           Logit Regression Results                           \n",
       "==============================================================================\n",
       "Dep. Variable:                      y   No. Observations:                  469\n",
       "Model:                          Logit   Df Residuals:                      456\n",
       "Method:                           MLE   Df Model:                           12\n",
       "Date:                Thu, 27 Oct 2022   Pseudo R-squ.:                  0.8143\n",
       "Time:                        23:08:23   Log-Likelihood:                -57.327\n",
       "converged:                       True   LL-Null:                       -308.77\n",
       "Covariance Type:            nonrobust   LLR p-value:                5.406e-100\n",
       "==============================================================================\n",
       "                 coef    std err          z      P>|z|      [0.025      0.975]\n",
       "------------------------------------------------------------------------------\n",
       "const        -38.0525     10.556     -3.605      0.000     -58.742     -17.363\n",
       "x1             1.0621      0.277      3.835      0.000       0.519       1.605\n",
       "x2             0.4361      0.085      5.109      0.000       0.269       0.603\n",
       "x3            43.5993     38.289      1.139      0.255     -31.447     118.645\n",
       "x4            42.0605     22.336      1.883      0.060      -1.718      85.839\n",
       "x5            20.0628     15.632      1.283      0.199     -10.575      50.701\n",
       "x6            34.4038    127.147      0.271      0.787    -214.799     283.607\n",
       "x7            10.5655      3.060      3.453      0.001       4.568      16.563\n",
       "x8            -1.2429      0.708     -1.756      0.079      -2.630       0.144\n",
       "x9            -2.0025    111.843     -0.018      0.986    -221.211     217.206\n",
       "x10            3.6880     40.481      0.091      0.927     -75.654      83.030\n",
       "x11          -52.5009     56.204     -0.934      0.350    -162.658      57.656\n",
       "x12         -585.9642    314.301     -1.864      0.062   -1201.983      30.054\n",
       "==============================================================================\n",
       "\n",
       "Possibly complete quasi-separation: A fraction 0.26 of observations can be\n",
       "perfectly predicted. This might indicate that there is complete\n",
       "quasi-separation. In this case some parameters will not be identified.\n",
       "\"\"\""
      ]
     },
     "execution_count": 4,
     "metadata": {},
     "output_type": "execute_result"
    }
   ],
   "source": [
    "import statsmodels.api as sm \n",
    "\n",
    "model = sm.Logit(y_train, X_train).fit()\n",
    "model.summary()"
   ]
  },
  {
   "cell_type": "markdown",
   "id": "dbfe27a3",
   "metadata": {},
   "source": [
    "> Remark: The output here contains a lot of information, like test statistics for each of the coefficients. For the most part, these can be interepreted in the same way as for the usual linear regression model, though with the caveat that the p-values are only _asymptotically_ valid. We discuss this in some more detail in a later notebook.\n",
    "\n",
    "Now that we've fit the model, we would like to evaluate its performance. However, we haven't discussed how to do this yet for a model with discrete responses; we introduce a few approaches to doing so in the next section.\n",
    "\n",
    "## Evaluating classification models\n",
    "\n",
    "For linear regression, we saw a few different metrics for evaluating performance, for example: the MSE on the training set, the (adjusted)-$R^2$, or an MSE computed using cross validation. These are all metrics that are natural when working with a continuous response $y\\in \\mathbb{R}$, but they aren't applicable in a classification setting, e.g. when $y\\in \\{0,1\\}$.\n",
    "\n",
    "In this section, we introduce a few common methods for evaluating classification models, and logistic regression models in particular. Given the fitted parameters $\\hat{\\boldsymbol{\\beta}}$ of a logistic regression model, we can compute the probability that the response $y = 1$ for a particular value of $\\boldsymbol{x}$ as\n",
    "\n",
    "$$\n",
    "p_{\\hat{\\boldsymbol{\\beta}}}(\\boldsymbol{x}) = P(y=1\\mid \\boldsymbol{x},\\hat{\\boldsymbol{\\beta}}) = \\frac{1}{1+e^{-\\hat{\\boldsymbol{\\beta}}\\cdot \\boldsymbol{x}}}. \\hspace{10mm} (2)\n",
    "$$\n",
    "\n",
    "We can turn this probability into an actual classifier, i.e. a function $C(\\boldsymbol{x})$ which makes a prediction in $\\{0,1\\}$, as follows: given a threshold $t \\in [0,1]$ let\n",
    "\n",
    "$$\n",
    "\\hat{C}_t(\\boldsymbol{x}) = \\begin{cases}1 & \\text{if } p_{\\hat{\\boldsymbol{\\beta}}}(\\boldsymbol{x})\\geq t\\\\ 0 & \\text{if }p_{\\hat{\\boldsymbol{\\beta}}}(\\boldsymbol{x}) < t\\end{cases}\n",
    "$$\n",
    "\n",
    "A natural choice for $t$ would be $1/2$, though as we will see, in certain situations it may make sense to use other values. Given a classifier $\\hat{C}_t$, we can define it's _classification error_ as \n",
    "\n",
    "$$\n",
    "\\text{Error}(\\hat{C}_t) = \\frac{1}{n}\\sum_{i=1}^n \\mathbf{1}(\\hat{C}_t(\\boldsymbol{x}_i) \\neq y_i),\n",
    "$$\n",
    "\n",
    "i.e. the classification error is just the fraction of data points the classifier $\\hat{C}_t$ incorrectly predicts. Here, the data points $(\\boldsymbol{x}_i,y_i)_{i=1}^n$ could either be the data used to fit the model or a hold-out set of examples; these are often called the \"training error\" and \"validation error\", respectively. Let's evaluate the classification error for both the training and the hold-out sets. To do this, we first compute the fitted probabilities from the logistic regression model, and then treshold them at $t=1/2$ to obtain our predictions. We can use the built-in method for computing the prediction probabilties called `predict`, although it would be easy enough to do this ourselves using equation $(2)$."
   ]
  },
  {
   "cell_type": "code",
   "execution_count": 5,
   "id": "468b297c",
   "metadata": {},
   "outputs": [
    {
     "name": "stdout",
     "output_type": "stream",
     "text": [
      "training error = 0.053, test error = 0.09\n"
     ]
    }
   ],
   "source": [
    "# compute predicted probabilties\n",
    "p_hat_train = model.predict(X_train)\n",
    "p_hat_test = model.predict(X_test)\n",
    "\n",
    "# treshold the predicted probabilities \n",
    "y_hat_train = (p_hat_train >= 0.5).astype(int)\n",
    "y_hat_test = (p_hat_test >= 0.5).astype(int)\n",
    "\n",
    "# compute the errors\n",
    "error_train = np.mean(y_hat_train != y_train)\n",
    "error_test = np.mean(y_hat_test != y_test)\n",
    "\n",
    "print(f\"training error = {round(error_train,3)}, test error = {round(error_test,3)}\")"
   ]
  },
  {
   "cell_type": "markdown",
   "id": "0048b7e5",
   "metadata": {},
   "source": [
    "Based on this measure, the model seems to do pretty well: on the hold-out set of data, we get less than 10% error rate. \n",
    "\n",
    "However, the classification error itself is often not sufficient to adequately measure performance. A good example of this is when we have significant inbalance in the label distribution: suppose we have $m=100$ validation examples, $90$ of which have label $0$, and only $10$ of which have label $1$. Then the trivial classifier which always predicts $C(\\boldsymbol{x}) = 0$ regardless of the input will have only $10\\%$ classification error -- seemingly quite low -- even though the model hasn't actually used the data. Indeed, our dataset has inbalanced classes as well (though to a less dramatic extent), which we can check:"
   ]
  },
  {
   "cell_type": "code",
   "execution_count": 6,
   "id": "d8c21ec4",
   "metadata": {},
   "outputs": [
    {
     "name": "stdout",
     "output_type": "stream",
     "text": [
      "# Malignant: 212, # Benign: 357\n"
     ]
    }
   ],
   "source": [
    "n_malignant = np.sum(y==1)\n",
    "n_benign = np.sum(y==0)\n",
    "\n",
    "print(f\"# Malignant: {n_malignant}, # Benign: {n_benign}\")"
   ]
  },
  {
   "cell_type": "markdown",
   "id": "4d4d0f67",
   "metadata": {},
   "source": [
    "Instead, we may want to use some more refined metrics. A few of the most common ones are highlighted in the following table.\n",
    "\n",
    "|              ![](figs/confusion-matrix.png)              |\n",
    "| :----------------------------------------------------: |\n",
    "| **Figure 1: Metrics for evaluating a classification model. This matrix is often called the \"confusion matrix\".** |\n",
    "\n",
    "The above table containing two rows and two columns is often called the _confusion matrix_ -- it captures the following quantities:\n",
    "\n",
    "- The number of _true positives_: examples which have true label $1$ which the model predicts as having label $1$\n",
    "- The number of _false positives_: example which have true label $0$ which the model (incorrectly) predicts as having label $1$\n",
    "- The number of _true negatives_: examples which have true label $0$ which the model predicts as having label $0$\n",
    "- The number of _false negatives_: example which have true label $1$ which the model (incorrectly) predicts as having label $0$\n",
    "\n",
    "From this matrix, we can compute things like the _false positive rate_ (FPR), the fraction of true negatives which are classified as positives or the _true postive rate_ (TPR) the fraction of true positives which are classifier as positives. We can then define the false negative rate as FNR=1-TPR, and the true negative rate as TNR=1-FPR. For example, for the trivial classifier $C(\\boldsymbol{x}) =0$ we described earlier, the true negative rate would be $0$ (which is good), but the false negative rate would be $1$ (which is very bad). \n",
    "\n",
    "To see the utility of these metrics more concretely, consider again the example of predicting whether a tumor is benign or malignant. In this case, we might be much more concerned with having a low false negative rate than we are about having a high false positive rate: we want to make sure that everyone who _does_ has a malignant tumor is captured, and less concerned if we incorrectly predict that some benign tumors are malignant (as this will be discovered via further tests). Let's compute the confusion matrix for the logistic regression model we fit earlier. Note that we compute these using the testing examples, _not_ the training examples. This allows us to get estimates for how the model will perform on new, unseen samples."
   ]
  },
  {
   "cell_type": "code",
   "execution_count": 7,
   "id": "27eb377a",
   "metadata": {},
   "outputs": [
    {
     "name": "stdout",
     "output_type": "stream",
     "text": [
      "# True Positives: 33\n",
      "# False Positives: 3\n",
      "# True Negatives: 58\n",
      "# False Negatives: 6\n"
     ]
    }
   ],
   "source": [
    "ix_pos = np.argwhere(y_test == 1)\n",
    "ix_neg = np.argwhere(y_test == 0)\n",
    "\n",
    "n_true_pos = np.sum(y_hat_test[ix_pos] == 1)\n",
    "n_false_pos = np.sum(y_hat_test[ix_neg] == 1)\n",
    "n_true_neg = np.sum(y_hat_test[ix_neg] == 0)\n",
    "n_false_neg = np.sum(y_hat_test[ix_pos] == 0)\n",
    "\n",
    "print(f\"# True Positives: {n_true_pos}\")\n",
    "print(f\"# False Positives: {n_false_pos}\")\n",
    "print(f\"# True Negatives: {n_true_neg}\")\n",
    "print(f\"# False Negatives: {n_false_neg}\")"
   ]
  },
  {
   "cell_type": "markdown",
   "id": "15cdda84",
   "metadata": {},
   "source": [
    "Using these values, we can compute the TPR, FPR, TNR, FNR."
   ]
  },
  {
   "cell_type": "code",
   "execution_count": 8,
   "id": "0edb2248",
   "metadata": {},
   "outputs": [
    {
     "name": "stdout",
     "output_type": "stream",
     "text": [
      "TPR: 0.846, FPR: 0.049, TNR: 0.951, FNR: 0.154\n"
     ]
    }
   ],
   "source": [
    "n_pos = np.sum(y_test==1)\n",
    "n_neg = np.sum(y_test==0)\n",
    "\n",
    "TPR = n_true_pos/n_pos\n",
    "FPR = n_false_pos/n_neg\n",
    "TNR = n_true_neg/n_neg\n",
    "FNR = n_false_neg/n_pos\n",
    "\n",
    "print(f\"TPR: {round(TPR,3)}, FPR: {round(FPR,3)}, TNR: {round(TNR,3)}, FNR: {round(FNR,3)}\")"
   ]
  },
  {
   "cell_type": "markdown",
   "id": "8eab4566",
   "metadata": {},
   "source": [
    "In this example, we have a false negative rate of approximately $15\\%$ -- this means that in about $15\\%$ of cases when a tumor is malignant, the model incorrectly predicts that it is benign (i.e., not dangerous). Let's suppose (quite reasonably, in this case) that we wanted to be _really_ sure that we didn't have many false negatives -- say, a false negative rate of less than 1% (equivalently, to require the TPR to be greater than 99%). One way to achieve this is to change the threshold $t$ to something other than $1/2$. For example, suppose we set the threshold $t$ to be 0. Then, by definition of $C_t$, _every_ point would be classified as a positive example, and hence our FNR would be equal to $0$. Of course, this isn't a good idea as we will lose all discriminative power. However, perhaps some value between $0$ and $1/2$ would yield a favorable tradeoff between false positive and true positive rates. One way to visualize this tradeoff is by using a _reciever operating characteristic_ (or ROC) curve. The ROC curve is constructed as follows:\n",
    "\n",
    "- For a grid of $t$ values between $0$ and $1$, compute $\\text{FPR}(t)$ and $\\text{TPR}(t)$, the false positive and true positive rates of the classifier $C_t$.\n",
    "- Plot $\\text{FPR}(t)$ against $\\text{TPR}(t)$. \n",
    "\n",
    "The package `sklearn` provides a method for computing ROC curves in python."
   ]
  },
  {
   "cell_type": "code",
   "execution_count": 9,
   "id": "ae3d62d1",
   "metadata": {},
   "outputs": [
    {
     "data": {
      "image/png": "[encoded data removed]",
      "text/plain": [
       "<Figure size 432x288 with 1 Axes>"
      ]
     },
     "metadata": {
      "filenames": {
       "image/png": "/Users/rythei/Library/CloudStorage/GoogleDrive-ryanctheisen@gmail.com/My Drive/PhD/Teaching/Stat151_Fall2022/linear-models/_build/jupyter_execute/content/generalizing_linear_regression/logistic_regression_17_0.png"
      },
      "needs_background": "light"
     },
     "output_type": "display_data"
    }
   ],
   "source": [
    "from sklearn.metrics import roc_curve\n",
    "import matplotlib.pyplot as plt\n",
    "\n",
    "FPRs, TPRs, _ = roc_curve(y_test, p_hat_test)\n",
    "\n",
    "plt.vlines(0,0,1, color='green', label=\"perfect classifier\")\n",
    "plt.hlines(1,0,1, color='green')\n",
    "plt.plot([0,1], [0,1], color='red', linestyle='--', label=\"random classifier\")\n",
    "plt.plot(FPRs, TPRs, color=\"blue\", label=\"logistic regression model\")\n",
    "plt.fill_between(FPRs, [0]*len(TPRs), TPRs, color=\"blue\", alpha=0.2, label=\"AUC\")\n",
    "plt.xlabel(\"False Positive Rate\", fontsize=14)\n",
    "plt.ylabel(\"True Positive Rate\", fontsize=14)\n",
    "plt.legend()\n",
    "plt.show()"
   ]
  },
  {
   "cell_type": "markdown",
   "id": "77aff7b0",
   "metadata": {},
   "source": [
    "This plot shows an increasing curve representing a tradeoff between false positives and true postives: as we get a larger true positive rate, we must also accept more false positives. For example, to get 99% TPR, we have to tolerate approximately a 35% false positive rate.\n",
    "\n",
    "How do we assess how \"good\" an ROC curve is? In the best case, we could get a 100% TPR with a 0% FPR. In this case, the ROC curve would just trace up the left axis across the top of the plot (the green curve in the plot). In the worst case, we could have a random classifier, which randomly predicts either 0 or 1 for every datapoint. In this case, the ROC curve would look like the $y=x$ line in the $[0,1]\\times [0,1]$ box (the red line in the plot). This gives us an idea for how we can summarize an entire ROC curve: we can compute the _area under the ROC curve_ (called the AUC, or AU-ROC). The ideal classifier would have a score of $1$ under this metric (i.e. the area of the entire box), while the random classifier would have an AUC of $1/2$. The closer our AUC is to one, the more favorable the tradeoff between the TPR and FPR. We can estimate the AUC in python using the following."
   ]
  },
  {
   "cell_type": "code",
   "execution_count": 10,
   "id": "82499b5c",
   "metadata": {},
   "outputs": [
    {
     "data": {
      "text/plain": [
       "0.9760403530895334"
      ]
     },
     "execution_count": 10,
     "metadata": {},
     "output_type": "execute_result"
    }
   ],
   "source": [
    "from sklearn.metrics import auc\n",
    "\n",
    "AUC = auc(FPRs, TPRs)\n",
    "AUC"
   ]
  },
  {
   "cell_type": "markdown",
   "id": "4a7a29ce",
   "metadata": {},
   "source": [
    "We see here that we get an AUC of $\\approx 0.97$, which would be considered very high. In other settings, an AUC of $>0.85$ might be considered good, though the exact interpretation will depend on the application. \n",
    "\n",
    "## Conclusion\n",
    "\n",
    "In this section, we introduced the logistic regression model for modeling binary response variable, and covered some basic techniques for evaluating these models. Below, we cover some details of how we can fit logistic regression models (and many other types of models) using an algorithm called Newton's method. In the next section, we will discuss GLMs more generally.\n",
    "\n",
    "## Bonus: Newton's method for fitting logistic regression\n",
    " \n",
    "Newton's method is a general procedure for finding zeros of a function $g:\\mathbb{R}^d\\to\\mathbb{R}^d$. The general iterations are of the form:\n",
    "\n",
    "$$\n",
    "\\boldsymbol{x}^{(t+1)} = \\boldsymbol{x}^{(t)} - [\\nabla g(\\boldsymbol{x^{(t)}})]^{-1}g(\\boldsymbol{x}^{(t)}),\n",
    "$$\n",
    "\n",
    "where here $\\nabla g(\\boldsymbol{x^{(t)}})$ is the Jacobian matrix of the mapping $g$, i.e. the matrix whose $(i,j)$th entry is $\\frac{\\partial g_i(\\boldsymbol{x}^{(t)})}{\\partial \\boldsymbol{x}^{(t)}_j}$. To find a minimum of a function $f$, we apply this approach to the function $g = \\nabla f:\\mathbb{R}^d\\to \\mathbb{R}^d$ to find a vector $\\boldsymbol{x}$ whose gradient is zero. In particular, the iterations are of the form:\n",
    "\n",
    "$$\n",
    "\\boldsymbol{x}^{(t+1)} = \\boldsymbol{x}^{(t)} - [\\nabla^2 f(\\boldsymbol{x^{(t)}})]^{-1}\\nabla f(\\boldsymbol{x}^{(t)}).\n",
    "$$\n",
    "\n",
    "Newton's method can lead to faster convergence as a function of $t$ than other methods like gradient descent, though it requires computation and inversion of the Hessian matrix, which can make it impractical in some situations. Nonetheless, it performs well in many circumstances, such as the fitting of GLMs. Below we look at an example with logistic regression.\n",
    "\n",
    "For logistic regression, the function we are interested in minimizing is the negative log-likelihood, which we've seen is given by\n",
    "\n",
    "$$\n",
    "\\ell(\\boldsymbol{\\beta}) = -\\sum_{i=1}^n \\{y_i \\log p_{\\boldsymbol{\\beta}}(\\boldsymbol{x}_i) + (1-y_i)\\log(1-p_{\\boldsymbol{\\beta}}(\\boldsymbol{x}_i))\\}\n",
    "$$\n",
    "\n",
    "We saw that the gradient of this function is $\\nabla_{\\boldsymbol{\\beta}}\\ell(\\boldsymbol{\\beta}) = \\boldsymbol{X}^\\top (p_{\\boldsymbol{\\beta}}(\\boldsymbol{X}) - \\boldsymbol{y})$. With some further computation, it can be shown that the Hessian (matrix of second derivatives) of $\\ell(\\boldsymbol{\\beta})$ is given by\n",
    "\n",
    "$$\n",
    "\\nabla_{\\boldsymbol{\\beta}}^2\\ell(\\boldsymbol{\\beta}) = \\boldsymbol{X}^\\top \\boldsymbol{W}\\boldsymbol{X}\n",
    "$$\n",
    "\n",
    "where $\\boldsymbol{W}$ is the diagonal matrix whose $i^{th}$ diagonal entry is  $p_{\\boldsymbol{\\beta}}(\\boldsymbol{x}_i)(1-p_{\\boldsymbol{\\beta}}(\\boldsymbol{x}_i))$. Hence, Newton's method finds the maximum likelihood estimator using the following algorithm:\n",
    "\n",
    "- Randomly initialize $\\boldsymbol{\\beta}^{(0)}$\n",
    "- Repeat until convergence: $\\boldsymbol{\\beta}^{(t+1)} = \\boldsymbol{\\beta}^{(t)} - [\\boldsymbol{X}^\\top \\boldsymbol{W}\\boldsymbol{X}]^{-1}\\boldsymbol{X}^\\top(p_{\\boldsymbol{\\beta}^{(t)}}(\\boldsymbol{X})-\\boldsymbol{y}).$\n",
    "\n",
    "After sufficiently many time steps, this algorithm is guaranteed to converge to the maximum likelihood estimator $\\hat{\\boldsymbol{\\beta}}$. In the below cell, we implement a function to perform Newton's method to fit a logistic regression model."
   ]
  },
  {
   "cell_type": "code",
   "execution_count": 11,
   "id": "ca7f5717",
   "metadata": {},
   "outputs": [],
   "source": [
    "def logit(z):\n",
    "    \"\"\"\n",
    "    logistic function\n",
    "    \"\"\"\n",
    "    return 1./(1+np.exp(-z))\n",
    "\n",
    "def grad_l(X, y, beta):\n",
    "    \"\"\"\n",
    "    computes gradient of logistic negative log likelihood\n",
    "    \"\"\"\n",
    "    return np.dot(X.T, logit(np.dot(X, beta)) - y)\n",
    "\n",
    "def hess_l(X, y, beta):\n",
    "    \"\"\"\n",
    "    computes Hessian of logistic negative log likelihood\n",
    "    \"\"\"\n",
    "    # make W = diag(p(x1)*(1-p(x1)),...,p(xn)*(1-p(xn)))\n",
    "    p = logit(np.dot(X,beta))\n",
    "    W = np.diag(p*(1 - p))\n",
    "    return X.T@W@X\n",
    " \n",
    "def fit_logistic_newton(X, y, eps=1e-5):\n",
    "    \"\"\"\n",
    "    run Newton's method until gradient norm is sufficiently small\n",
    "    \"\"\"\n",
    "    # randomly intialize beta\n",
    "    beta = np.zeros(X.shape[1])\n",
    "    grad_norm = eps+1\n",
    "    # continue as long as gradient norm is larger than threshold eps\n",
    "    while grad_norm > eps:\n",
    "        beta -= np.dot(np.linalg.inv(hess_l(X, y, beta)), grad_l(X, y, beta))\n",
    "        grad_norm = np.linalg.norm(grad_l(X, y, beta))\n",
    "    return beta"
   ]
  },
  {
   "cell_type": "markdown",
   "id": "b769a44f",
   "metadata": {},
   "source": [
    "Let's use this method to fit a logistic regression model using the same breast cancer dataset we used above."
   ]
  },
  {
   "cell_type": "code",
   "execution_count": 12,
   "id": "c16ea1f0",
   "metadata": {},
   "outputs": [
    {
     "data": {
      "text/plain": [
       "array([-3.80525182e+01,  1.06212694e+00,  4.36064998e-01,  4.35993059e+01,\n",
       "        4.20604582e+01,  2.00627628e+01,  3.44037893e+01,  1.05654954e+01,\n",
       "       -1.24290288e+00, -2.00248431e+00,  3.68797130e+00, -5.25008539e+01,\n",
       "       -5.85964176e+02])"
      ]
     },
     "execution_count": 12,
     "metadata": {},
     "output_type": "execute_result"
    }
   ],
   "source": [
    "fit_logistic_newton(X_train, y_train)"
   ]
  },
  {
   "cell_type": "markdown",
   "id": "8bd46cec",
   "metadata": {},
   "source": [
    "As we can see, the coefficients match what we get from the `statsmodels` package (indeed, `statsmodels` itself uses a variant of Newton's method to fit its models)."
   ]
  }
 ],
 "metadata": {
  "jupytext": {
   "text_representation": {
    "extension": ".md",
    "format_name": "myst",
    "format_version": 0.12,
    "jupytext_version": "1.9.1"
   }
  },
  "kernelspec": {
   "display_name": "Python 3",
   "language": "python",
   "name": "python3"
  },
  "language_info": {
   "codemirror_mode": {
    "name": "ipython",
    "version": 3
   },
   "file_extension": ".py",
   "mimetype": "text/x-python",
   "name": "python",
   "nbconvert_exporter": "python",
   "pygments_lexer": "ipython3",
   "version": "3.9.5"
  },
  "source_map": [
   12,
   101,
   106,
   110,
   127,
   131,
   139,
   143,
   148,
   178,
   192,
   198,
   203,
   222,
   235,
   239,
   249,
   258,
   273,
   279,
   284,
   327,
   361,
   365,
   367
  ]
 },
 "nbformat": 4,
 "nbformat_minor": 5
}