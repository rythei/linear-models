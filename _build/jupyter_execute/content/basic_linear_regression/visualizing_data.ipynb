{
 "cells": [
  {
   "cell_type": "markdown",
   "id": "61ad1dfc",
   "metadata": {},
   "source": [
    "# Exploring and visualizing data\n",
    "\n",
    "Throughout this course, we will examine a number of datasets and develop techniques to quantify relationships between observed data. However, before we develop quantitative models of data, it is often useful to first develop a _qualitative_ understanding of the relationships present in data, which we can then use to formulate hypotheses that can be tested using quantitive models. \n",
    "\n",
    "Visualization is often an extremely useful tool for uncovering relationships within data. In this section, we walk through several examples of exploring and visualizing data in python.\n",
    "\n",
    "## Infant mortality data\n",
    "## Loading data into python\n",
    "\n",
    "Before we can perform any analysis, we first need to load data into python. We will most commonly use the python package `pandas` to do this. We first import `pandas` so that we can use methods contained in the package."
   ]
  },
  {
   "cell_type": "code",
   "execution_count": 1,
   "id": "a6b962a7",
   "metadata": {},
   "outputs": [],
   "source": [
    "import pandas as pd"
   ]
  },
  {
   "cell_type": "markdown",
   "id": "ae1cd820",
   "metadata": {},
   "source": [
    "Note here that `as pd` assigns the `pandas` package the alias `pd`, so that we whenever we want to refer to `pandas` in the subsequent code, we can just use `pd` (rather than typing out `pandas` every time). This is standard practice with many packages in python, as you will see.\n",
    "\n",
    "Now that we've loaded `pandas`, we can use the `read_csv` method to read in a dataset and inspect the first few rows."
   ]
  },
  {
   "cell_type": "code",
   "execution_count": 2,
   "id": "32da1940",
   "metadata": {},
   "outputs": [
    {
     "data": {
      "text/html": [
       "<div>\n",
       "<style scoped>\n",
       "    .dataframe tbody tr th:only-of-type {\n",
       "        vertical-align: middle;\n",
       "    }\n",
       "\n",
       "    .dataframe tbody tr th {\n",
       "        vertical-align: top;\n",
       "    }\n",
       "\n",
       "    .dataframe thead th {\n",
       "        text-align: right;\n",
       "    }\n",
       "</style>\n",
       "<table border=\"1\" class=\"dataframe\">\n",
       "  <thead>\n",
       "    <tr style=\"text-align: right;\">\n",
       "      <th></th>\n",
       "      <th>country</th>\n",
       "      <th>income</th>\n",
       "      <th>infant_mortality</th>\n",
       "      <th>region</th>\n",
       "      <th>oil</th>\n",
       "    </tr>\n",
       "  </thead>\n",
       "  <tbody>\n",
       "    <tr>\n",
       "      <th>0</th>\n",
       "      <td>Australia</td>\n",
       "      <td>3426</td>\n",
       "      <td>26.7</td>\n",
       "      <td>Asia</td>\n",
       "      <td>no</td>\n",
       "    </tr>\n",
       "    <tr>\n",
       "      <th>1</th>\n",
       "      <td>Austria</td>\n",
       "      <td>3350</td>\n",
       "      <td>23.7</td>\n",
       "      <td>Europe</td>\n",
       "      <td>no</td>\n",
       "    </tr>\n",
       "    <tr>\n",
       "      <th>2</th>\n",
       "      <td>Belgium</td>\n",
       "      <td>3346</td>\n",
       "      <td>17.0</td>\n",
       "      <td>Europe</td>\n",
       "      <td>no</td>\n",
       "    </tr>\n",
       "    <tr>\n",
       "      <th>3</th>\n",
       "      <td>Canada</td>\n",
       "      <td>4751</td>\n",
       "      <td>16.8</td>\n",
       "      <td>Americas</td>\n",
       "      <td>no</td>\n",
       "    </tr>\n",
       "    <tr>\n",
       "      <th>4</th>\n",
       "      <td>Denmark</td>\n",
       "      <td>5029</td>\n",
       "      <td>13.5</td>\n",
       "      <td>Europe</td>\n",
       "      <td>no</td>\n",
       "    </tr>\n",
       "  </tbody>\n",
       "</table>\n",
       "</div>"
      ],
      "text/plain": [
       "     country  income  infant_mortality    region oil\n",
       "0  Australia    3426              26.7      Asia  no\n",
       "1    Austria    3350              23.7    Europe  no\n",
       "2    Belgium    3346              17.0    Europe  no\n",
       "3     Canada    4751              16.8  Americas  no\n",
       "4    Denmark    5029              13.5    Europe  no"
      ]
     },
     "execution_count": 2,
     "metadata": {},
     "output_type": "execute_result"
    }
   ],
   "source": [
    "mortality_data = pd.read_csv('datasets/infant_mortality.csv')\n",
    "mortality_data.head()"
   ]
  },
  {
   "cell_type": "markdown",
   "id": "4ac6168d",
   "metadata": {},
   "source": [
    "When you read a dataset in python using `pandas`, it is stored as as `pandas.DataFrame` object, which we can check using the `type` function:"
   ]
  },
  {
   "cell_type": "code",
   "execution_count": 3,
   "id": "66eacf77",
   "metadata": {},
   "outputs": [
    {
     "data": {
      "text/plain": [
       "pandas.core.frame.DataFrame"
      ]
     },
     "execution_count": 3,
     "metadata": {},
     "output_type": "execute_result"
    }
   ],
   "source": [
    "type(mortality_data)"
   ]
  },
  {
   "cell_type": "markdown",
   "id": "b1105d3e",
   "metadata": {},
   "source": [
    "Dataframes are very convenient ways to work with data, as we will see throughout this course.\n",
    "\n",
    "The infant mortality dataset contains the following information about 105 countries: the per-capita income, the infant mortality rate, its region in the world, and whether or not the country is oil-exporting.\n",
    "\n",
    "## Basic visualization\n",
    "\n",
    "For now, let's focus on the variables `infant_mortality` and `income`. A histogram is a common way to visualize the distributions of these features, which we can create using the package `matplotlib`."
   ]
  },
  {
   "cell_type": "code",
   "execution_count": 4,
   "id": "aeb5e16c",
   "metadata": {},
   "outputs": [
    {
     "data": {
      "image/png": "[encoded data removed]",
      "text/plain": [
       "<Figure size 432x288 with 1 Axes>"
      ]
     },
     "metadata": {
      "filenames": {
       "image/png": "/Users/rythei/Library/CloudStorage/GoogleDrive-ryanctheisen@gmail.com/My Drive/PhD/Teaching/Stat151_Fall2022/linear-models/_build/jupyter_execute/content/basic_linear_regression/visualizing_data_7_0.png"
      },
      "needs_background": "light"
     },
     "output_type": "display_data"
    }
   ],
   "source": [
    "import matplotlib.pyplot as plt\n",
    "%matplotlib inline\n",
    "\n",
    "plt.hist(mortality_data[\"infant_mortality\"], bins=20, density=True)\n",
    "plt.xlabel(\"Infant mortality rate\", fontsize=12)\n",
    "plt.ylabel(\"Density\", fontsize=12)\n",
    "plt.show()"
   ]
  },
  {
   "cell_type": "code",
   "execution_count": 5,
   "id": "7353daeb",
   "metadata": {},
   "outputs": [
    {
     "data": {
      "image/png": "[encoded data removed]",
      "text/plain": [
       "<Figure size 432x288 with 1 Axes>"
      ]
     },
     "metadata": {
      "filenames": {
       "image/png": "/Users/rythei/Library/CloudStorage/GoogleDrive-ryanctheisen@gmail.com/My Drive/PhD/Teaching/Stat151_Fall2022/linear-models/_build/jupyter_execute/content/basic_linear_regression/visualizing_data_8_0.png"
      },
      "needs_background": "light"
     },
     "output_type": "display_data"
    }
   ],
   "source": [
    "plt.hist(mortality_data[\"income\"], bins=20, density=True)\n",
    "plt.xlabel(\"Per-capita income\", fontsize=12)\n",
    "plt.ylabel(\"Density\", fontsize=12)\n",
    "plt.show()"
   ]
  },
  {
   "cell_type": "markdown",
   "id": "86017361",
   "metadata": {},
   "source": [
    "This gives us a sense of the types of values the variables `infant_mortality` and `income` can take on, but what about the relationship between these two features? A simple way to inspect this relationship is by creating a scatter plot."
   ]
  },
  {
   "cell_type": "code",
   "execution_count": 6,
   "id": "44a3429c",
   "metadata": {},
   "outputs": [
    {
     "data": {
      "image/png": "[encoded data removed]",
      "text/plain": [
       "<Figure size 432x288 with 1 Axes>"
      ]
     },
     "metadata": {
      "filenames": {
       "image/png": "/Users/rythei/Library/CloudStorage/GoogleDrive-ryanctheisen@gmail.com/My Drive/PhD/Teaching/Stat151_Fall2022/linear-models/_build/jupyter_execute/content/basic_linear_regression/visualizing_data_10_0.png"
      },
      "needs_background": "light"
     },
     "output_type": "display_data"
    }
   ],
   "source": [
    "plt.scatter(mortality_data[\"infant_mortality\"], mortality_data[\"income\"])\n",
    "plt.xlabel(\"Infant mortality rate\", fontsize=12)\n",
    "plt.ylabel(\"Per-capita income\", fontsize=12)\n",
    "plt.show()"
   ]
  },
  {
   "cell_type": "markdown",
   "id": "c12f78ad",
   "metadata": {},
   "source": [
    "From this plot, we observe that, in general, there is a negative relationship between infant mortality rate and per-capita income -- richer countries tend to have lower infant mortality rates. However, there are a few outliers: countries that have high income _and_ high infant mortality. We can quickly find these by looking back at the data."
   ]
  },
  {
   "cell_type": "code",
   "execution_count": 7,
   "id": "323a2f89",
   "metadata": {},
   "outputs": [
    {
     "data": {
      "text/html": [
       "<div>\n",
       "<style scoped>\n",
       "    .dataframe tbody tr th:only-of-type {\n",
       "        vertical-align: middle;\n",
       "    }\n",
       "\n",
       "    .dataframe tbody tr th {\n",
       "        vertical-align: top;\n",
       "    }\n",
       "\n",
       "    .dataframe thead th {\n",
       "        text-align: right;\n",
       "    }\n",
       "</style>\n",
       "<table border=\"1\" class=\"dataframe\">\n",
       "  <thead>\n",
       "    <tr style=\"text-align: right;\">\n",
       "      <th></th>\n",
       "      <th>country</th>\n",
       "      <th>income</th>\n",
       "      <th>infant_mortality</th>\n",
       "      <th>region</th>\n",
       "      <th>oil</th>\n",
       "    </tr>\n",
       "  </thead>\n",
       "  <tbody>\n",
       "    <tr>\n",
       "      <th>25</th>\n",
       "      <td>Libya</td>\n",
       "      <td>3010</td>\n",
       "      <td>300.0</td>\n",
       "      <td>Africa</td>\n",
       "      <td>yes</td>\n",
       "    </tr>\n",
       "    <tr>\n",
       "      <th>27</th>\n",
       "      <td>Saudi.Arabia</td>\n",
       "      <td>1530</td>\n",
       "      <td>650.0</td>\n",
       "      <td>Asia</td>\n",
       "      <td>yes</td>\n",
       "    </tr>\n",
       "    <tr>\n",
       "      <th>72</th>\n",
       "      <td>Afganistan</td>\n",
       "      <td>75</td>\n",
       "      <td>400.0</td>\n",
       "      <td>Asia</td>\n",
       "      <td>no</td>\n",
       "    </tr>\n",
       "  </tbody>\n",
       "</table>\n",
       "</div>"
      ],
      "text/plain": [
       "         country  income  infant_mortality  region  oil\n",
       "25         Libya    3010             300.0  Africa  yes\n",
       "27  Saudi.Arabia    1530             650.0    Asia  yes\n",
       "72    Afganistan      75             400.0    Asia   no"
      ]
     },
     "execution_count": 7,
     "metadata": {},
     "output_type": "execute_result"
    }
   ],
   "source": [
    "mortality_data[mortality_data[\"infant_mortality\"] > 280]"
   ]
  },
  {
   "cell_type": "markdown",
   "id": "f7f52257",
   "metadata": {},
   "source": [
    "We see that the two outliers are Libya and Saudi Arabia. Interestingly, we note these two countries are both oil exporting countries. So perhaps we may hypothesize that the relationship between infant mortality and per-capita income depends on whether or not the countries are oil exporting. Let's plot these features for oil-exporting countries only to see if this is indeed the case."
   ]
  },
  {
   "cell_type": "code",
   "execution_count": 8,
   "id": "40078793",
   "metadata": {},
   "outputs": [
    {
     "data": {
      "image/png": "[encoded data removed]",
      "text/plain": [
       "<Figure size 432x288 with 1 Axes>"
      ]
     },
     "metadata": {
      "filenames": {
       "image/png": "/Users/rythei/Library/CloudStorage/GoogleDrive-ryanctheisen@gmail.com/My Drive/PhD/Teaching/Stat151_Fall2022/linear-models/_build/jupyter_execute/content/basic_linear_regression/visualizing_data_14_0.png"
      },
      "needs_background": "light"
     },
     "output_type": "display_data"
    }
   ],
   "source": [
    "# select only the oil exporting countries\n",
    "mortality_data_oil_exporting = mortality_data[mortality_data[\"oil\"] == \"yes\"]\n",
    "\n",
    "plt.scatter(mortality_data_oil_exporting[\"infant_mortality\"], mortality_data_oil_exporting[\"income\"])\n",
    "plt.xlabel(\"Infant mortality rate\", fontsize=12)\n",
    "plt.ylabel(\"Per-capita income\", fontsize=12)\n",
    "plt.show()"
   ]
  },
  {
   "cell_type": "markdown",
   "id": "2c01318c",
   "metadata": {},
   "source": [
    "Now the negative relationship we observed below appears to disappear! If we were researchers of infant mortality, this would now provide a new hypothesis ripe for further investigation. In particular, we may want to quantify exactly how much income influences infant mortality rate, and how this quantity changes when we control for whether a country is oil-exporting.\n",
    "\n",
    "## Transforming data\n",
    "\n",
    "Note that while the relationship we observed between infant mortality and per-capita income was indeed decreasing, it was not _linear_ -- by which we mean that the data does not appear to lie approximately on a line (we will get to be much more formal about this in subsequent sections).\n",
    "\n",
    "This is primarily because the histograms of infant mortality and per-capita income were heavily skewed -- meaning that there are many outliers on the high end of either variable. One way that we can mitigate this is by _transforming_ the features. Since the issue is with a few large values, we should consider transformations that \"squish\" large values. For example we might consider either the square root or log transformations, which both have this property.\n",
    "\n",
    "Let's see what happens to the histograms when we perform these transformations to the per-capita income variable."
   ]
  },
  {
   "cell_type": "code",
   "execution_count": 9,
   "id": "ee0b31f4",
   "metadata": {},
   "outputs": [
    {
     "data": {
      "image/png": "[encoded data removed]",
      "text/plain": [
       "<Figure size 864x432 with 3 Axes>"
      ]
     },
     "metadata": {
      "filenames": {
       "image/png": "/Users/rythei/Library/CloudStorage/GoogleDrive-ryanctheisen@gmail.com/My Drive/PhD/Teaching/Stat151_Fall2022/linear-models/_build/jupyter_execute/content/basic_linear_regression/visualizing_data_16_0.png"
      },
      "needs_background": "light"
     },
     "output_type": "display_data"
    }
   ],
   "source": [
    "import numpy as np\n",
    "\n",
    "fig, axs = plt.subplots(nrows= 1, ncols=3, figsize=(12,6))\n",
    "axs = axs.flatten()\n",
    "\n",
    "axs[0].hist(mortality_data[\"income\"], bins=10, density=True)\n",
    "axs[0].set_xlabel(\"sqrt(per-capita income)\", fontsize=12)\n",
    "axs[0].set_ylabel(\"Density\", fontsize=12)\n",
    "\n",
    "sqrt_income = np.sqrt(mortality_data[\"income\"])\n",
    "axs[1].hist(sqrt_income, bins=10, density=True)\n",
    "axs[1].set_xlabel(\"sqrt(per-capita income)\", fontsize=12)\n",
    "axs[1].set_ylabel(\"Density\", fontsize=12)\n",
    "\n",
    "log_income = np.log(mortality_data[\"income\"])\n",
    "axs[2].hist(log_income, bins=10, density=True)\n",
    "axs[2].set_xlabel(\"log(per-capita income)\", fontsize=12)\n",
    "axs[2].set_ylabel(\"Density\", fontsize=12)\n",
    "\n",
    "plt.tight_layout()\n",
    "plt.show()"
   ]
  },
  {
   "cell_type": "markdown",
   "id": "918d8666",
   "metadata": {},
   "source": [
    "From inspecting these histograms, we see that the square root transformation doesn't quite resolve the skewness, while the log transformation does. Let's verify this by plotting a new scatterplot of log-per-capita income versus log-infant mortality."
   ]
  },
  {
   "cell_type": "code",
   "execution_count": 10,
   "id": "fe7980c2",
   "metadata": {},
   "outputs": [
    {
     "data": {
      "image/png": "[encoded data removed]",
      "text/plain": [
       "<Figure size 432x288 with 1 Axes>"
      ]
     },
     "metadata": {
      "filenames": {
       "image/png": "/Users/rythei/Library/CloudStorage/GoogleDrive-ryanctheisen@gmail.com/My Drive/PhD/Teaching/Stat151_Fall2022/linear-models/_build/jupyter_execute/content/basic_linear_regression/visualizing_data_18_0.png"
      },
      "needs_background": "light"
     },
     "output_type": "display_data"
    }
   ],
   "source": [
    "plt.scatter(np.log(mortality_data[\"infant_mortality\"]), np.log(mortality_data[\"income\"]))\n",
    "plt.xlabel(\"log(infant mortality rate)\", fontsize=12)\n",
    "plt.ylabel(\"log(per-capita income)\", fontsize=12)\n",
    "plt.show()"
   ]
  }
 ],
 "metadata": {
  "jupytext": {
   "text_representation": {
    "extension": ".md",
    "format_name": "myst",
    "format_version": 0.12,
    "jupytext_version": "1.9.1"
   }
  },
  "kernelspec": {
   "display_name": "Python 3",
   "language": "python",
   "name": "python3"
  },
  "language_info": {
   "codemirror_mode": {
    "name": "ipython",
    "version": 3
   },
   "file_extension": ".py",
   "mimetype": "text/x-python",
   "name": "python",
   "nbconvert_exporter": "python",
   "pygments_lexer": "ipython3",
   "version": "3.9.5"
  },
  "source_map": [
   12,
   25,
   27,
   33,
   36,
   40,
   42,
   52,
   62,
   67,
   71,
   76,
   80,
   82,
   86,
   94,
   106,
   128,
   132
  ]
 },
 "nbformat": 4,
 "nbformat_minor": 5
}