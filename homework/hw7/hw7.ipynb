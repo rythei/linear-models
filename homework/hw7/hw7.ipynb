{
 "cells": [
  {
   "cell_type": "markdown",
   "metadata": {},
   "source": [
    "## Computational Homework 7: The double descent phenomenon\n",
    "\n",
    "In this assignment we will investigate an interesting and unexpected phenomenon that can occur when we fit non-linear functions using least squares called _double descent_. To do this, we will consider fitting a polynomial model to some simple synthetic data which is generated as follows:\n",
    "\n",
    "$$\n",
    "y_i = f_\\star(x_i) + \\varepsilon_i\n",
    "$$\n",
    "\n",
    "where $f_\\star(x) = x^3 - x$, $x\\in [-1,1]$, and $\\varepsilon \\sim N(0,\\sigma^2)$ (here we use $\\sigma^2 = 0.01$, but feel free to try this with other values of $\\sigma$ as well). The following cell generates this dataset and plots it."
   ]
  },
  {
   "cell_type": "code",
   "execution_count": 52,
   "metadata": {},
   "outputs": [
    {
     "data": {
      "image/png": "[encoded data removed]",
      "text/plain": [
       "<Figure size 432x288 with 1 Axes>"
      ]
     },
     "metadata": {
      "needs_background": "light"
     },
     "output_type": "display_data"
    }
   ],
   "source": [
    "import numpy as np\n",
    "import matplotlib.pyplot as plt\n",
    "\n",
    "f_star = lambda x: x**3 - x\n",
    "\n",
    "n = 20\n",
    "sigma = 0.1\n",
    "x = np.linspace(-1,1,n)\n",
    "y = f_star(x) + sigma*np.random.normal(size=n)\n",
    "\n",
    "x_test = np.linspace(-1,1,100)\n",
    "\n",
    "plt.plot(x_test, f_star(x_test), color='black', linestyle='--', label=\"$f_\\star$\")\n",
    "plt.scatter(x, y)\n",
    "plt.legend()\n",
    "plt.show()\n"
   ]
  },
  {
   "cell_type": "markdown",
   "metadata": {},
   "source": [
    "For this assignment, we will experiment with fitting models to this data using feature maps of the form \n",
    "\n",
    "$$\n",
    "\\phi_p(x) = (P_0(x), P_1(x),\\dots, P_{p}(x))\n",
    "$$\n",
    "\n",
    "where $P_j$ is the $j^{th}$ [Legendre polynomial](https://en.wikipedia.org/wiki/Legendre_polynomials). Legendre polynomials are a lot like normal polynomials, except they are designed to be _orthogonal_ in the sense that\n",
    "\n",
    "$$\n",
    "\\int_{-1}^1 P_j(x)P_k(x)dx = 0\n",
    "$$\n",
    "\n",
    "for $j\\neq k$. This property isn't particularly important for us, though Legendre polynomials are popular feature maps to use in practice, and so they are worth knowing of. Given an integer $p\\geq 0$, we can use this feature map to define an $n\\times (p+1)$ feature matrix\n",
    "\n",
    "$$\n",
    "X_p = \\begin{bmatrix} P_0(x_1) & P_1(x_1) & \\cdots & P_{p}(x_1)\\\\ \\vdots & \\vdots & \\vdots &\\vdots \\\\ P_0(x_n) & P_1(x_n) & \\cdots & P_{p}(x_n)\\end{bmatrix} \\in \\mathbb{R}^{n\\times (p+1)}.\n",
    "$$\n",
    "\n",
    "This matrix can be constructed using the function `np.polynomial.legendre.legvander`, as we demonstrate in the following cell."
   ]
  },
  {
   "cell_type": "code",
   "execution_count": 45,
   "metadata": {},
   "outputs": [
    {
     "data": {
      "text/plain": [
       "array([[  1.   ,   1.   ,   1.   ,   1.   ,   1.   ],\n",
       "       [  1.   ,   2.   ,   5.5  ,  17.   ,  55.375],\n",
       "       [  1.   ,   3.   ,  13.   ,  63.   , 321.   ]])"
      ]
     },
     "execution_count": 45,
     "metadata": {},
     "output_type": "execute_result"
    }
   ],
   "source": [
    "legendre_basis = np.polynomial.legendre.legvander\n",
    "\n",
    "p = 4\n",
    "u = np.array([1,2,3])\n",
    "legendre_basis(u, p) # 3 x 5 matrix of features"
   ]
  },
  {
   "cell_type": "markdown",
   "metadata": {},
   "source": [
    "Given coefficients $\\beta = (\\beta_0,\\dots,\\beta_{p-1}, \\beta_p)$, we can use these polynomials to fit functions of the form \n",
    "\n",
    "$$\n",
    "f(x) = \\beta\\cdot \\phi(x) = \\beta_0P_0(x) + \\beta_1P_1(x) + \\cdots \\beta_{p-1}P_{p-1}(x) + \\beta_p P_p(x).\n",
    "$$\n",
    "\n",
    "For example, we can plot the function $f(x) = P_0(x) - P_1(x) + P_2(x)$ using the following."
   ]
  },
  {
   "cell_type": "code",
   "execution_count": 55,
   "metadata": {},
   "outputs": [
    {
     "data": {
      "image/png": "[encoded data removed]",
      "text/plain": [
       "<Figure size 432x288 with 1 Axes>"
      ]
     },
     "metadata": {
      "needs_background": "light"
     },
     "output_type": "display_data"
    }
   ],
   "source": [
    "coef = np.array([1,-1, 1])\n",
    "X = legendre_basis(x_test, 2)\n",
    "plt.plot(x_test, np.dot(X,coef))\n",
    "plt.show()"
   ]
  },
  {
   "cell_type": "markdown",
   "metadata": {},
   "source": [
    "**Problem 1.** Write a function `fit_mp` which, for a feature matrix $X$, computes the Moore-Penrose fit $\\hat{\\beta}_{MP} = X^{\\dagger}y$ where $X^\\dagger$ is the pseudo-inverse of $X$. (Note: the function `np.linalg.pinv` should be used here). Use this to compute the least squares fits for $p = [1,2,\\dots,12]$, and plot the MSE on the test set (i.e. $\\frac{1}{n_{test}}\\sum_{x_{test}} (f_\\star(x_{test}) - \\hat{f}(x_{test}))^2$) as a function of $p$. Describe in words what this plot looks like. If you had to use this plot to pick a value of $p$, which would you choose?"
   ]
  },
  {
   "cell_type": "code",
   "execution_count": null,
   "metadata": {},
   "outputs": [],
   "source": []
  },
  {
   "cell_type": "markdown",
   "metadata": {},
   "source": [
    "**Problem 2** Next, perform the same steps as problem 1, only for $p = 10,11,\\dots,29,30$. Now what does the plot of MSE vs $p$ look like? What value of $p$ is best? Does this curve have a maximum? If so, at what value? How does this relate to the number of samples ($n=20$, in this case)? Next, plot the fitted functions $\\hat{f}$ for $p=3,20,30$. Describe the behavior of these functions in words, and relate their behavior to their MSE's."
   ]
  },
  {
   "cell_type": "code",
   "execution_count": null,
   "metadata": {},
   "outputs": [],
   "source": []
  },
  {
   "cell_type": "markdown",
   "metadata": {},
   "source": [
    "**Problem 3.** In this problem, we show that phenomenon observed in Problem 2 goes away when we add Ridge regularization. To see this, for each value of $p = 1,2,\\dots,29,30$, compute the Ridge estimator $\\hat{\\beta}_{RR}(\\lambda) = (X_p^\\top X_p + \\lambda I)^{-1}X_p^\\top y$ for $\\lambda = 10$, and compute its MSE on the test examples `x_test`. What does the MSE plot look like now as a function of $p$? Describe its behavior in words."
   ]
  },
  {
   "cell_type": "code",
   "execution_count": null,
   "metadata": {},
   "outputs": [],
   "source": []
  }
 ],
 "metadata": {
  "kernelspec": {
   "display_name": "Python 3.9.5 ('base')",
   "language": "python",
   "name": "python3"
  },
  "language_info": {
   "codemirror_mode": {
    "name": "ipython",
    "version": 3
   },
   "file_extension": ".py",
   "mimetype": "text/x-python",
   "name": "python",
   "nbconvert_exporter": "python",
   "pygments_lexer": "ipython3",
   "version": "3.9.5"
  },
  "orig_nbformat": 4,
  "vscode": {
   "interpreter": {
    "hash": "9116e7605a3c7636cbb64cda962b2f0e89693208c0f8626394020c0fb858b688"
   }
  }
 },
 "nbformat": 4,
 "nbformat_minor": 2
}
