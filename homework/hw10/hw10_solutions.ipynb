{
 "cells": [
  {
   "cell_type": "markdown",
   "id": "4296c898",
   "metadata": {},
   "source": [
    "# Computational Homework 10: Fun with eigenvalue decomposition\n",
    "\n",
    "## Part 1: The PageRank algorithm\n",
    "In this homework assignment, we investigate the original ranking algorithm developed by Larry Page and Sergey Brin, the founders of Google, to rank web pages based on importance.\n",
    "\n",
    "The basic setup of the algorithm is as follows: suppose a user searches for the term \"linear algebra\", and we find $N$ webpages containing a string match for this term. How do we determine which of these $N$ pages are most relevant? To solve this problem, the PageRank algorithm makes the following assumption: more important webpages are more likely to have other pages linking to it. \n",
    "\n",
    "We represent the stucture of interlinking webpages as a _graph_, i.e. an object consisting of $N$ vertices (webpages) and edges. There is an edge connecting vertex $i$ to vertex $j$ page $i$ links to page $j$. The structure of such a graph can be represented by an $N\\times N$ _adjacency matrix_ $\\boldsymbol{L}$ such that \n",
    "\n",
    "$$\n",
    "L_{ij} = \\begin{cases}1 & \\text{if $j$ links to $i$}\\\\ 0 & \\text{otherwise} \\end{cases}\n",
    "$$\n",
    "\n",
    "(by default we always assume $L_{ii} = 0$). Consider the following simple example with four webpages."
   ]
  },
  {
   "cell_type": "code",
   "execution_count": 1,
   "id": "32d93b55",
   "metadata": {},
   "outputs": [],
   "source": [
    "# you need networkx installed to visualize the graphs\n",
    "#!pip install networkx\n",
    "\n",
    "import numpy as np\n",
    "import networkx as nx"
   ]
  },
  {
   "cell_type": "code",
   "execution_count": 39,
   "id": "462e8a49",
   "metadata": {},
   "outputs": [
    {
     "name": "stdout",
     "output_type": "stream",
     "text": [
      "The graph with adjacency matrix\n",
      "\n",
      "[[0 0 1 0]\n",
      " [1 0 0 0]\n",
      " [1 1 0 1]\n",
      " [0 0 0 0]]\n",
      "\n",
      "can be visualized as\n"
     ]
    },
    {
     "data": {
      "image/png": "[encoded data removed]",
      "text/plain": [
       "<Figure size 432x288 with 1 Axes>"
      ]
     },
     "metadata": {},
     "output_type": "display_data"
    }
   ],
   "source": [
    "L = np.array([[0, 0, 1, 0], [1, 0, 0, 0], [1, 1, 0, 1], [0, 0, 0, 0]])\n",
    "print('The graph with adjacency matrix')\n",
    "print('')\n",
    "print(L)\n",
    "print('')\n",
    "print('can be visualized as')\n",
    "\n",
    "G = nx.from_numpy_matrix(L.T, create_using=nx.DiGraph)\n",
    "nx.draw(G, with_labels=True)"
   ]
  },
  {
   "cell_type": "markdown",
   "id": "0a356b1e",
   "metadata": {},
   "source": [
    "Given a set of $N$ pages, the PageRank is a vector $\\boldsymbol{p}\\in \\mathbb{R}^N$, such that $\\boldsymbol{1}^\\top \\boldsymbol{p} = \\sum_{i=1}^N p_i = N$, where here $\\boldsymbol{1}$ is the all ones vector. The goal is to find $\\boldsymbol{p}$ such that the most important pages have the largest entry in the PageRank vector. We can now describe the actual PageRank algorithm for finding $\\boldsymbol{p}$.\n",
    "\n",
    "The total number of output links from page $j$ is given by $d_j = \\sum_{i=1}^N L_{ij}$. The PageRank algorithm defines the PageRanks as satisfying the following relation:\n",
    "\n",
    "$$\n",
    "p_i = (1-\\alpha) + \\alpha \\sum_{j=1}^N \\frac{L_{ij}}{d_j}p_j \\;\\;\\;\\;\\;\\; (1)\n",
    "$$\n",
    "\n",
    "Let's interpret what is happening in this equation. Inuitively, the component $\\sum_{j=1}^N L_{ij}p_j/d_j$ says that the importance $p_i$ of page $i$ is given by the weighted sum of the importance of pages which link to it, where the weights are $L_{ij}/d_j$. This ensures that each page can distribute a total weight of 1 to other pages, since \n",
    "\n",
    "$$\n",
    "\\sum_{i=1}^N \\frac{L_{ij}}{d_j} = \\frac{\\sum_{i=1}^n L_{ij}}{\\sum_{i=1}^N L_{ij}} = 1.\n",
    "$$\n",
    "The scalar $\\alpha$ (apparently set to 0.85 in the original implementation) is a weighting factor which governs how much influence the rank other pages have on the importance of page $i$. \n",
    "\n",
    "The PageRank algorithm describes an approach to find the ranking vector $\\boldsymbol{p}$ satisfying $(1)$, by reducing the problem to an eigenvalue problem."
   ]
  },
  {
   "cell_type": "markdown",
   "id": "b63225aa",
   "metadata": {},
   "source": [
    "### Problem 1: exploiting matrix properties\n",
    "\n",
    "Note that we can write the relation (1) in matrix form as\n",
    "\n",
    "$$\n",
    "\\boldsymbol{p} = (1-\\alpha)\\boldsymbol{1} + \\alpha \\boldsymbol{L}\\boldsymbol{D}^{-1}\\boldsymbol{p}\n",
    "$$\n",
    "\n",
    "where we define $\\boldsymbol{D} = \\text{diag}(d_1,\\dots, d_N)$. Moreover, since we use the normalization $\\boldsymbol{1^\\top p} = N$, we can equivalently write this relation as \n",
    "\n",
    "$$\n",
    "\\begin{align*}\n",
    "\\boldsymbol{p} &= (1-\\alpha)\\boldsymbol{11^\\top p}/N + \\alpha \\boldsymbol{L}\\boldsymbol{D}^{-1}\\boldsymbol{p}\\\\\n",
    "&= [(1-\\alpha)\\boldsymbol{11}^\\top/N + \\alpha \\boldsymbol{L}\\boldsymbol{D}^{-1}] \\boldsymbol{p}\\\\\n",
    "&= \\boldsymbol{Ap}\n",
    "\\end{align*}\n",
    "$$\n",
    "\n",
    "where we defined the $N\\times N$ matrix $\\boldsymbol{A} = (1-\\alpha)\\boldsymbol{11}^\\top/N + \\alpha \\boldsymbol{L}\\boldsymbol{D}^{-1}$. \n",
    "\n",
    "Now we arrive at something that should look familiar: $\\boldsymbol{Ap} = \\boldsymbol{p}$. This says that the PageRank vector $\\boldsymbol{p}$ should be an _eigenvector_ of the matrix $\\boldsymbol{A}$ associated with the eigenvalue 1.\n",
    "\n",
    "It turns out we can actually prove that the matrix $\\boldsymbol{A}$ defined above always has an eigenvalue of 1. However, let's verify that this is true. Using the simple adjacency matrix $\\boldsymbol{L}$ defined at the beginning of the notebook, construct the matrix $\\boldsymbol{A}$ and find its eigenvalues. Verify that one of the eigenvalues is equal to 1, and find the eigenvector $\\boldsymbol{p}$ associated with this eigenvalue, and rescale the vector so that it sums to $N$ (i.e. multiply by $N/\\boldsymbol{1^\\top p}$). For the simple linked \"webpages\" described by the graph at the beginning of this notebook, which page is ranked the highest? Describe why the makes sense given what we can see visually about the graph."
   ]
  },
  {
   "cell_type": "code",
   "execution_count": 59,
   "id": "b86b9d8d",
   "metadata": {},
   "outputs": [
    {
     "name": "stdout",
     "output_type": "stream",
     "text": [
      "[ 1.00000000e+00+0.j    -4.25000000e-01+0.425j -4.25000000e-01-0.425j\n",
      " -1.42297124e-17+0.j   ]\n"
     ]
    },
    {
     "data": {
      "text/plain": [
       "array([-0.00000000e+00-0.j,  1.27381033e+16-0.j,  2.83708458e+00-0.j,\n",
       "       -1.27381033e+16-0.j])"
      ]
     },
     "execution_count": 59,
     "metadata": {},
     "output_type": "execute_result"
    }
   ],
   "source": [
    "def get_A(L, alpha=0.85):\n",
    "    D = np.diag(np.sum(L, axis=0))\n",
    "    A = (1-alpha)*np.ones_like(L)/L.shape[0] + alpha*L@np.linalg.pinv(D)\n",
    "    return A \n",
    "A = get_A(L)\n",
    "eigenvalues, eigenvectors = np.linalg.eig(A)\n",
    "p = eigenvectors[:, 3]\n",
    "# has an eigenvalue of 1\n",
    "print(eigenvalues)\n",
    "p = p*L.shape[0]/np.sum(p)\n",
    "# second entry is the largest because page 2 is linked to by all other pages\n",
    "p"
   ]
  },
  {
   "cell_type": "markdown",
   "id": "5d5202f3",
   "metadata": {},
   "source": [
    "### Problem 2: the power method for large graphs\n",
    "\n",
    "When you we only have a few webpages, like in the toy graph presented earlier, computing a full eigenvalue decomposition is a completely reasonable way to solve the PageRank problem. However, realistic web searches will of course involve *many* more pages than this (for example, if you Google \"linear algebra\" you will find 150,000,000+ results). In this case, it is not feasible to compute a full eigenvalue decomposition for $\\boldsymbol{A}$ defined in Part 2. Instead, the PageRank algorithm uses something called the _power method_ to find the top eigenvector (which will always be associated with the eigenvalue 1) of the matrix $\\boldsymbol{A}$.\n",
    "\n",
    "To do this, we initialize $\\boldsymbol{p}^{(0)} = (1,\\dots, 1)$, and perform the following iterations for $t=1,\\dots, T$:\n",
    "\n",
    "$$\n",
    "\\tilde{\\boldsymbol{p}}^{(t+1)} = \\boldsymbol{A}\\boldsymbol{p}^{(t)},\\;\\;\\; \\boldsymbol{p}^{(t+1)} = N\\frac{\\tilde{\\boldsymbol{p}}}{\\boldsymbol{1}^\\top \\tilde{\\boldsymbol{p}}^{(t+1)}}\n",
    "$$\n",
    "\n",
    "Implement the power iterations for $T=10$ steps defined above for the following randomly generated adjacency matrix. Verify that the vector $\\boldsymbol{p}^{(T)}$ that you get at the end is an eigenvector of the matrix $\\boldsymbol{A}$ -- i.e. that $\\boldsymbol{A}\\boldsymbol{p}^{(T)}$ is just a rescaled version of $\\boldsymbol{p}^{(T)}$ (hint: to do this, you can check that $\\boldsymbol{Ap}/\\boldsymbol{p}$ is a constant vector)."
   ]
  },
  {
   "cell_type": "code",
   "execution_count": 2,
   "id": "8cdbe9bf",
   "metadata": {},
   "outputs": [
    {
     "data": {
      "text/plain": [
       "array([[0, 0, 1, ..., 1, 0, 1],\n",
       "       [1, 0, 0, ..., 0, 0, 0],\n",
       "       [1, 0, 0, ..., 0, 1, 0],\n",
       "       ...,\n",
       "       [0, 1, 0, ..., 0, 0, 1],\n",
       "       [1, 1, 0, ..., 0, 0, 0],\n",
       "       [0, 1, 0, ..., 0, 0, 0]])"
      ]
     },
     "execution_count": 2,
     "metadata": {},
     "output_type": "execute_result"
    }
   ],
   "source": [
    "import numpy as np \n",
    "\n",
    "N = 1000\n",
    "\n",
    "# randomly generate an N x N adjacency matrix\n",
    "L = np.random.binomial(1, 0.3, size=(N,N))\n",
    "\n",
    "# make sure all the diagonal entries are equal to zero\n",
    "np.fill_diagonal(L, 0)\n",
    "\n",
    "L"
   ]
  },
  {
   "cell_type": "code",
   "execution_count": 49,
   "id": "2a55a7a0",
   "metadata": {},
   "outputs": [],
   "source": [
    "def power_method(A, T=10):\n",
    "    p0 = np.ones((A.shape[1],1))\n",
    "    \n",
    "    for t in range(T):\n",
    "        p0 = A@p0\n",
    "        p0 = p0/np.sum(p0)\n",
    "    return p0\n",
    "\n",
    "A = get_A(L)\n",
    "p = power_method(A, T=20)"
   ]
  },
  {
   "cell_type": "code",
   "execution_count": 50,
   "id": "fac7acec",
   "metadata": {},
   "outputs": [
    {
     "data": {
      "text/plain": [
       "array([[1.        ],\n",
       "       [1.00006161],\n",
       "       [0.99996939],\n",
       "       [1.        ]])"
      ]
     },
     "execution_count": 50,
     "metadata": {},
     "output_type": "execute_result"
    }
   ],
   "source": [
    "Ap = np.dot(A,p)\n",
    "Ap/p # should be a constant vector"
   ]
  },
  {
   "cell_type": "markdown",
   "id": "f06e81f5",
   "metadata": {},
   "source": [
    "## Part 2: Latent semantic indexing\n",
    "\n",
    "Suppose we had a corpus of $D$ documents (e.g. webpages) of text which we would like to group into \"topics\", but that we don't a priori know what these topics should be. This problem is generally known as _topic modeling_. Latent semantic indexing (LSI) (sometimes called latent semantic analysis (LSA)) is a simple and popular approach to topic modeling that relies on a term-document matrix associated with the collection of documents.\n",
    "\n",
    "In the context of text analysis, a _term_ typically refers to an individuals word. Let's say in our corpus of $D$ documents that there are $T$ distinct terms (and for the sake of this example, assume that $T > D$, so there are more words than documents). Then the term-document matrix is the matrix $\\boldsymbol{M}$ such that\n",
    "\n",
    "$$\n",
    "M_{ij} = \\text{ number of times term $i$ appears in document $j$}.\n",
    "$$\n",
    "\n",
    "Since we assume $T>D$, this will be a \"tall\" matrix. Note that row $i$, denoted $\\boldsymbol{t}_i$ and of length $n$, represents how word $i$ is distributed across the documents, while column $j$, denoted $\\boldsymbol{d}_j$ and of length $m$, represents the distribution of words present in document $j$. Correspondingly, $\\boldsymbol{t}_i^\\top \\boldsymbol{t}_{i'}$ represents a measure of similarity between terms $i$ and $i'$, in terms of how they appear in documents. Similarly for $\\boldsymbol{d}_j^\\top \\boldsymbol{d}_{j'}$ and the similarity between documents $j$ and $j'$, in terms of which terms appear in them. These two types of similarity can be calculated using the matrices \n",
    "\n",
    "$$\n",
    "\\begin{align*}\n",
    "&\\underbrace{\\boldsymbol{MM}^\\top}_{T\\times T} \\hspace{10mm} \\text{containing all the pairwise similarities between terms, and}\\\\\n",
    "&\\underbrace{\\boldsymbol{M^\\top M}}_{D\\times D} \\hspace{10mm} \\text{containing all the pairwise similarities between documents}\n",
    "\\end{align*}\n",
    "$$\n",
    "\n",
    "Similar to the covariance matrices in PCA, we can take an eigenvalue decomposition of either of these matrices, as they will be symmetric and positive semi-definite. Doing so is precisely what LSA entails, as we will see in the following problems.\n",
    "\n",
    "### Problem 1: extracting document-topic scores\n",
    "Let's focus on what this means for the matrix $\\boldsymbol{M^\\top M}$ of documents similarities. In this case, we get the eigenvalue decomposition\n",
    "\n",
    "$$\n",
    "\\boldsymbol{M^\\top M} = \\boldsymbol{V\\Lambda V^\\top}\n",
    "$$\n",
    "\n",
    "Like in PCA, the columns in $\\boldsymbol{V}$ represent the most informative \"directions\" along which various documents can be similar. We can interpret the top $k\\leq D$ of these directions as representing individual \"topics\". That is, if we extract the first $k$ vectors stored in the columns of $\\boldsymbol{V}$, we can get a $D\\times k$ _document-topic_ matrix $\\boldsymbol{V}_k$. For document $j$, the entries in the $j^{th}$ row of this matrix represent how much document $j$ aligns with each topic. \n",
    "\n",
    "In this problem, we will extract these scores for a very simple set of documents, defined in the cell below."
   ]
  },
  {
   "cell_type": "code",
   "execution_count": 51,
   "id": "8fea358c",
   "metadata": {},
   "outputs": [],
   "source": [
    "corpus = [\n",
    "    \"the person went to the store to buy an apple\",\n",
    "    \"the woman can buy a car at the store\",\n",
    "    \"you eat an apple every morning\",\n",
    "    \"the car wash is closed on sunday\",\n",
    "    \"i drive my car on sunday morning\"\n",
    "]"
   ]
  },
  {
   "cell_type": "markdown",
   "id": "5afe3901",
   "metadata": {},
   "source": [
    "The python package `scikit-learn` has a useful function which will allow us to extract a term-document matrix from this corpus. Note that $\\boldsymbol{M}$ here is $23\\times 5$, as our corpus contains 23 terms and 5 \"documents\"; each row corresponds to a different word, each column to a different document."
   ]
  },
  {
   "cell_type": "code",
   "execution_count": 53,
   "id": "70e09ed7",
   "metadata": {},
   "outputs": [
    {
     "name": "stdout",
     "output_type": "stream",
     "text": [
      "(23, 5)\n"
     ]
    },
    {
     "data": {
      "text/plain": [
       "array([[1, 0, 1, 0, 0],\n",
       "       [1, 0, 1, 0, 0],\n",
       "       [0, 1, 0, 0, 0],\n",
       "       [1, 1, 0, 0, 0],\n",
       "       [0, 1, 0, 0, 0],\n",
       "       [0, 1, 0, 1, 1],\n",
       "       [0, 0, 0, 1, 0],\n",
       "       [0, 0, 0, 0, 1],\n",
       "       [0, 0, 1, 0, 0],\n",
       "       [0, 0, 1, 0, 0],\n",
       "       [0, 0, 0, 1, 0],\n",
       "       [0, 0, 1, 0, 1],\n",
       "       [0, 0, 0, 0, 1],\n",
       "       [0, 0, 0, 1, 1],\n",
       "       [1, 0, 0, 0, 0],\n",
       "       [1, 1, 0, 0, 0],\n",
       "       [0, 0, 0, 1, 1],\n",
       "       [2, 2, 0, 1, 0],\n",
       "       [2, 0, 0, 0, 0],\n",
       "       [0, 0, 0, 1, 0],\n",
       "       [1, 0, 0, 0, 0],\n",
       "       [0, 1, 0, 0, 0],\n",
       "       [0, 0, 1, 0, 0]])"
      ]
     },
     "execution_count": 53,
     "metadata": {},
     "output_type": "execute_result"
    }
   ],
   "source": [
    "from sklearn.feature_extraction.text import CountVectorizer\n",
    " \n",
    "vectorizer = CountVectorizer()\n",
    "M = vectorizer.fit_transform(corpus).toarray().T\n",
    "print(M.shape) # 23 words, 5 documents\n",
    "M"
   ]
  },
  {
   "cell_type": "markdown",
   "id": "31651895",
   "metadata": {},
   "source": [
    "Compute an eigenvalue decomposition of $\\boldsymbol{M^\\top M}$, and plot its eigenvalues from largest to smallest. Then, get the document-topic matrix $\\boldsymbol{V}_k$ (containing the top $k$ columns of $\\boldsymbol{V}$, correspoding to the largest $k$ eigenvalues). Do this for $k=3$, and interpret the results."
   ]
  },
  {
   "cell_type": "code",
   "execution_count": 54,
   "id": "d4469822",
   "metadata": {},
   "outputs": [
    {
     "data": {
      "image/png": "[encoded data removed]",
      "text/plain": [
       "<Figure size 432x288 with 1 Axes>"
      ]
     },
     "metadata": {
      "needs_background": "light"
     },
     "output_type": "display_data"
    }
   ],
   "source": [
    "import matplotlib.pyplot as plt \n",
    "\n",
    "MTM = M.T@M \n",
    "vals, vecs = np.linalg.eigh(MTM)\n",
    "plt.scatter(range(len(vals)),vals)\n",
    "plt.show()"
   ]
  },
  {
   "cell_type": "code",
   "execution_count": 60,
   "id": "d954c127",
   "metadata": {},
   "outputs": [
    {
     "data": {
      "text/html": [
       "<div>\n",
       "<style scoped>\n",
       "    .dataframe tbody tr th:only-of-type {\n",
       "        vertical-align: middle;\n",
       "    }\n",
       "\n",
       "    .dataframe tbody tr th {\n",
       "        vertical-align: top;\n",
       "    }\n",
       "\n",
       "    .dataframe thead th {\n",
       "        text-align: right;\n",
       "    }\n",
       "</style>\n",
       "<table border=\"1\" class=\"dataframe\">\n",
       "  <thead>\n",
       "    <tr style=\"text-align: right;\">\n",
       "      <th></th>\n",
       "      <th>topic_0</th>\n",
       "      <th>topic_1</th>\n",
       "      <th>topic_2</th>\n",
       "      <th>document</th>\n",
       "    </tr>\n",
       "  </thead>\n",
       "  <tbody>\n",
       "    <tr>\n",
       "      <th>0</th>\n",
       "      <td>0.181814</td>\n",
       "      <td>0.439042</td>\n",
       "      <td>-0.753623</td>\n",
       "      <td>the person went to the store to buy an apple</td>\n",
       "    </tr>\n",
       "    <tr>\n",
       "      <th>1</th>\n",
       "      <td>-0.477852</td>\n",
       "      <td>-0.162585</td>\n",
       "      <td>-0.570531</td>\n",
       "      <td>the woman can buy a car at the store</td>\n",
       "    </tr>\n",
       "    <tr>\n",
       "      <th>2</th>\n",
       "      <td>0.781981</td>\n",
       "      <td>0.082577</td>\n",
       "      <td>-0.119065</td>\n",
       "      <td>you eat an apple every morning</td>\n",
       "    </tr>\n",
       "    <tr>\n",
       "      <th>3</th>\n",
       "      <td>0.008026</td>\n",
       "      <td>-0.635108</td>\n",
       "      <td>-0.282182</td>\n",
       "      <td>the car wash is closed on sunday</td>\n",
       "    </tr>\n",
       "    <tr>\n",
       "      <th>4</th>\n",
       "      <td>0.356430</td>\n",
       "      <td>-0.608792</td>\n",
       "      <td>-0.112892</td>\n",
       "      <td>i drive my car on sunday morning</td>\n",
       "    </tr>\n",
       "  </tbody>\n",
       "</table>\n",
       "</div>"
      ],
      "text/plain": [
       "    topic_0   topic_1   topic_2                                      document\n",
       "0  0.181814  0.439042 -0.753623  the person went to the store to buy an apple\n",
       "1 -0.477852 -0.162585 -0.570531          the woman can buy a car at the store\n",
       "2  0.781981  0.082577 -0.119065                you eat an apple every morning\n",
       "3  0.008026 -0.635108 -0.282182              the car wash is closed on sunday\n",
       "4  0.356430 -0.608792 -0.112892              i drive my car on sunday morning"
      ]
     },
     "execution_count": 60,
     "metadata": {},
     "output_type": "execute_result"
    }
   ],
   "source": [
    "import pandas as pd \n",
    "\n",
    "k=3\n",
    "topic_doc = pd.DataFrame(vecs[:, -k:], columns = [f\"topic_{j}\" for j in range(k)])\n",
    "topic_doc[\"document\"] = corpus \n",
    "\n",
    "# topic 0 appears to be related to the term \"morning\", since docs 2 and 3 align most with this\n",
    "# topic 1 refers to both cars (making docs 1,3,4 all negative) and sunday (docs 3 and 4 similar)\n",
    "topic_doc"
   ]
  },
  {
   "cell_type": "markdown",
   "id": "2830daa6",
   "metadata": {},
   "source": [
    "### Problem 2: extracting the word-topic matrix\n",
    "\n",
    "Instead of finding which words are associated with which topic, we could instead try and find which words are most associated with each topic. To do this, we instead need an eigenvalue decomposition of the term similarity matrix: \n",
    "$$\n",
    "\\boldsymbol{MM^\\top} = \\boldsymbol{U\\Lambda' U^\\top}\n",
    "$$ \n",
    "\n",
    "Now $\\boldsymbol{U}$ is a $T\\times T$ matrix. If we select the top $k$ columns from this matrix, we can get scores that indicate the \"alignment\" of each word against each of the $k$ topics. Do the following:\n",
    "\n",
    "1. Compute the eigenvalue decomposition of $\\boldsymbol{MM^\\top}$, and verify that the eigenvalues of $\\boldsymbol{\\Lambda}'$ are closely related to those of $\\boldsymbol{\\Lambda}$ in problem 1.\n",
    "2. Construct the word-topic matrix $\\boldsymbol{U}_k$ by selecting the top $k=3$ columns of $\\boldsymbol{U}$ (associated with the $k$ largest eigenvalues). Which words are most associated with topic 2? Why does this makes sense in the document-topic scores you saw in problem 1?\n",
    "\n",
    "**An important remark:** Selecting $k$ topics using the topic matrix $\\boldsymbol{MM^\\top}$ or the document matrix $\\boldsymbol{M^\\top M}$ actually describe the same latent \"topics\". This is because the eigenvalue decompositions of these two matrices can be simplified into a single _singular value decomposition_, wherein $\\boldsymbol{M} = \\boldsymbol{U\\Sigma V}^\\top$ where $\\boldsymbol{U},\\boldsymbol{V}$ are as in the eigenvalues decompositions we discussed, and $\\boldsymbol{\\Sigma}$ is matrix containing the singular values of $\\boldsymbol{M}$.\n"
   ]
  },
  {
   "cell_type": "code",
   "execution_count": 61,
   "id": "94a8f056",
   "metadata": {},
   "outputs": [
    {
     "data": {
      "text/html": [
       "<div>\n",
       "<style scoped>\n",
       "    .dataframe tbody tr th:only-of-type {\n",
       "        vertical-align: middle;\n",
       "    }\n",
       "\n",
       "    .dataframe tbody tr th {\n",
       "        vertical-align: top;\n",
       "    }\n",
       "\n",
       "    .dataframe thead th {\n",
       "        text-align: right;\n",
       "    }\n",
       "</style>\n",
       "<table border=\"1\" class=\"dataframe\">\n",
       "  <thead>\n",
       "    <tr style=\"text-align: right;\">\n",
       "      <th></th>\n",
       "      <th>topic_0</th>\n",
       "      <th>topic_1</th>\n",
       "      <th>topic_2</th>\n",
       "      <th>word</th>\n",
       "    </tr>\n",
       "  </thead>\n",
       "  <tbody>\n",
       "    <tr>\n",
       "      <th>0</th>\n",
       "      <td>0.366358</td>\n",
       "      <td>0.171404</td>\n",
       "      <td>-0.197084</td>\n",
       "      <td>an</td>\n",
       "    </tr>\n",
       "    <tr>\n",
       "      <th>1</th>\n",
       "      <td>0.366358</td>\n",
       "      <td>0.171404</td>\n",
       "      <td>-0.197084</td>\n",
       "      <td>apple</td>\n",
       "    </tr>\n",
       "    <tr>\n",
       "      <th>2</th>\n",
       "      <td>-0.181641</td>\n",
       "      <td>-0.053426</td>\n",
       "      <td>-0.128846</td>\n",
       "      <td>at</td>\n",
       "    </tr>\n",
       "    <tr>\n",
       "      <th>3</th>\n",
       "      <td>-0.112530</td>\n",
       "      <td>0.090844</td>\n",
       "      <td>-0.299041</td>\n",
       "      <td>buy</td>\n",
       "    </tr>\n",
       "    <tr>\n",
       "      <th>4</th>\n",
       "      <td>-0.181641</td>\n",
       "      <td>-0.053426</td>\n",
       "      <td>-0.128846</td>\n",
       "      <td>can</td>\n",
       "    </tr>\n",
       "    <tr>\n",
       "      <th>5</th>\n",
       "      <td>-0.043104</td>\n",
       "      <td>-0.462172</td>\n",
       "      <td>-0.218068</td>\n",
       "      <td>car</td>\n",
       "    </tr>\n",
       "    <tr>\n",
       "      <th>6</th>\n",
       "      <td>0.003051</td>\n",
       "      <td>-0.208697</td>\n",
       "      <td>-0.063727</td>\n",
       "      <td>closed</td>\n",
       "    </tr>\n",
       "    <tr>\n",
       "      <th>7</th>\n",
       "      <td>0.135487</td>\n",
       "      <td>-0.200049</td>\n",
       "      <td>-0.025495</td>\n",
       "      <td>drive</td>\n",
       "    </tr>\n",
       "    <tr>\n",
       "      <th>8</th>\n",
       "      <td>0.297247</td>\n",
       "      <td>0.027135</td>\n",
       "      <td>-0.026889</td>\n",
       "      <td>eat</td>\n",
       "    </tr>\n",
       "    <tr>\n",
       "      <th>9</th>\n",
       "      <td>0.297247</td>\n",
       "      <td>0.027135</td>\n",
       "      <td>-0.026889</td>\n",
       "      <td>every</td>\n",
       "    </tr>\n",
       "    <tr>\n",
       "      <th>10</th>\n",
       "      <td>0.003051</td>\n",
       "      <td>-0.208697</td>\n",
       "      <td>-0.063727</td>\n",
       "      <td>is</td>\n",
       "    </tr>\n",
       "    <tr>\n",
       "      <th>11</th>\n",
       "      <td>0.432734</td>\n",
       "      <td>-0.172915</td>\n",
       "      <td>-0.052384</td>\n",
       "      <td>morning</td>\n",
       "    </tr>\n",
       "    <tr>\n",
       "      <th>12</th>\n",
       "      <td>0.135487</td>\n",
       "      <td>-0.200049</td>\n",
       "      <td>-0.025495</td>\n",
       "      <td>my</td>\n",
       "    </tr>\n",
       "    <tr>\n",
       "      <th>13</th>\n",
       "      <td>0.138537</td>\n",
       "      <td>-0.408746</td>\n",
       "      <td>-0.089222</td>\n",
       "      <td>on</td>\n",
       "    </tr>\n",
       "    <tr>\n",
       "      <th>14</th>\n",
       "      <td>0.069111</td>\n",
       "      <td>0.144269</td>\n",
       "      <td>-0.170195</td>\n",
       "      <td>person</td>\n",
       "    </tr>\n",
       "    <tr>\n",
       "      <th>15</th>\n",
       "      <td>-0.112530</td>\n",
       "      <td>0.090844</td>\n",
       "      <td>-0.299041</td>\n",
       "      <td>store</td>\n",
       "    </tr>\n",
       "    <tr>\n",
       "      <th>16</th>\n",
       "      <td>0.138537</td>\n",
       "      <td>-0.408746</td>\n",
       "      <td>-0.089222</td>\n",
       "      <td>sunday</td>\n",
       "    </tr>\n",
       "    <tr>\n",
       "      <th>17</th>\n",
       "      <td>-0.222009</td>\n",
       "      <td>-0.027009</td>\n",
       "      <td>-0.661809</td>\n",
       "      <td>the</td>\n",
       "    </tr>\n",
       "    <tr>\n",
       "      <th>18</th>\n",
       "      <td>0.138223</td>\n",
       "      <td>0.288539</td>\n",
       "      <td>-0.340390</td>\n",
       "      <td>to</td>\n",
       "    </tr>\n",
       "    <tr>\n",
       "      <th>19</th>\n",
       "      <td>0.003051</td>\n",
       "      <td>-0.208697</td>\n",
       "      <td>-0.063727</td>\n",
       "      <td>wash</td>\n",
       "    </tr>\n",
       "    <tr>\n",
       "      <th>20</th>\n",
       "      <td>0.069111</td>\n",
       "      <td>0.144269</td>\n",
       "      <td>-0.170195</td>\n",
       "      <td>went</td>\n",
       "    </tr>\n",
       "    <tr>\n",
       "      <th>21</th>\n",
       "      <td>-0.181641</td>\n",
       "      <td>-0.053426</td>\n",
       "      <td>-0.128846</td>\n",
       "      <td>woman</td>\n",
       "    </tr>\n",
       "    <tr>\n",
       "      <th>22</th>\n",
       "      <td>0.297247</td>\n",
       "      <td>0.027135</td>\n",
       "      <td>-0.026889</td>\n",
       "      <td>you</td>\n",
       "    </tr>\n",
       "  </tbody>\n",
       "</table>\n",
       "</div>"
      ],
      "text/plain": [
       "     topic_0   topic_1   topic_2     word\n",
       "0   0.366358  0.171404 -0.197084       an\n",
       "1   0.366358  0.171404 -0.197084    apple\n",
       "2  -0.181641 -0.053426 -0.128846       at\n",
       "3  -0.112530  0.090844 -0.299041      buy\n",
       "4  -0.181641 -0.053426 -0.128846      can\n",
       "5  -0.043104 -0.462172 -0.218068      car\n",
       "6   0.003051 -0.208697 -0.063727   closed\n",
       "7   0.135487 -0.200049 -0.025495    drive\n",
       "8   0.297247  0.027135 -0.026889      eat\n",
       "9   0.297247  0.027135 -0.026889    every\n",
       "10  0.003051 -0.208697 -0.063727       is\n",
       "11  0.432734 -0.172915 -0.052384  morning\n",
       "12  0.135487 -0.200049 -0.025495       my\n",
       "13  0.138537 -0.408746 -0.089222       on\n",
       "14  0.069111  0.144269 -0.170195   person\n",
       "15 -0.112530  0.090844 -0.299041    store\n",
       "16  0.138537 -0.408746 -0.089222   sunday\n",
       "17 -0.222009 -0.027009 -0.661809      the\n",
       "18  0.138223  0.288539 -0.340390       to\n",
       "19  0.003051 -0.208697 -0.063727     wash\n",
       "20  0.069111  0.144269 -0.170195     went\n",
       "21 -0.181641 -0.053426 -0.128846    woman\n",
       "22  0.297247  0.027135 -0.026889      you"
      ]
     },
     "execution_count": 61,
     "metadata": {},
     "output_type": "execute_result"
    }
   ],
   "source": [
    "k = 3\n",
    "MMT = M@M.T\n",
    "vals_2, vecs_2 = np.linalg.eigh(MMT)\n",
    "word_topic = pd.DataFrame(vecs_2[:,-k:], columns=[f\"topic_{j}\" for j in range(k)])\n",
    "words = [k for k, _ in sorted(vectorizer.vocabulary_.items(), key=lambda item: item[1])]\n",
    "word_topic[\"word\"] = words \n",
    "word_topic\n",
    "\n"
   ]
  },
  {
   "cell_type": "code",
   "execution_count": null,
   "id": "270e07f9",
   "metadata": {},
   "outputs": [],
   "source": []
  }
 ],
 "metadata": {
  "kernelspec": {
   "display_name": "Python 3.9.5 ('base')",
   "language": "python",
   "name": "python3"
  },
  "language_info": {
   "codemirror_mode": {
    "name": "ipython",
    "version": 3
   },
   "file_extension": ".py",
   "mimetype": "text/x-python",
   "name": "python",
   "nbconvert_exporter": "python",
   "pygments_lexer": "ipython3",
   "version": "3.9.5"
  },
  "vscode": {
   "interpreter": {
    "hash": "9116e7605a3c7636cbb64cda962b2f0e89693208c0f8626394020c0fb858b688"
   }
  }
 },
 "nbformat": 4,
 "nbformat_minor": 5
}
