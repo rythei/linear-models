{
 "cells": [
  {
   "cell_type": "markdown",
   "metadata": {},
   "source": [
    "## Computational Homework 0\n",
    "\n",
    "In this assignment, we work through a few simple examples of loading datasets, plotting histograms and scatterplots, and transforming variables in Python. You will likely find the notebooks on the [online book](https://rythei.github.io/linear-models/content/basic_linear_regression/visualizing_data.html) useful. The goal of this assignment is primarily to 1) verify that you can open and run jupyter notebooks and 2) that you can access and submit assignments on the course [Gradescope](https://gradescope.com).\n",
    "\n",
    "**Throughout this class, we will submit assignments using Gradescope. Once you log in on Gradescope, you should see an option to \"Add a course\", where you can enroll in this class using the code `NXPW2N`.** "
   ]
  },
  {
   "cell_type": "markdown",
   "metadata": {},
   "source": [
    "### Visualizing data with histograms and scatterplots\n",
    "\n",
    "For this assignment, you will need to download the `canadian_wages` dataset from [this link](https://drive.google.com/drive/folders/1OkXMcFo0urN0kSQYH4d75I4V3pnSpV6H?usp=sharing). Once you've downloaded the `.csv` file, store it in the same directory as this notebook. Then you will be able to load the dataset into python using the following code."
   ]
  },
  {
   "cell_type": "code",
   "execution_count": null,
   "metadata": {},
   "outputs": [],
   "source": [
    "# uncomment the line below to install pandas if you haven't already\n",
    "# !pip install pandas\n",
    "\n",
    "# use pandas to load the .csv to a DataFrame\n",
    "import pandas as pd\n",
    "\n",
    "wage_data = pd.read_csv(\"canadian_wages.csv\")"
   ]
  },
  {
   "cell_type": "markdown",
   "metadata": {},
   "source": [
    "**Problem 1: Histograms and scatterplots**\n",
    "\n",
    "(a) Using the `matplotlib` package, plot histograms of the variables `hourly_wages` and `education_years`. Experiment with changing the number of bins in the histograms.\n",
    "\n",
    "(b) Plot a scatterplot of with `hourly_wages` on the y-axis, and `education_years` on the x-axis.\n",
    "\n",
    "(See the online book for examples of doing this.)"
   ]
  },
  {
   "cell_type": "code",
   "execution_count": null,
   "metadata": {},
   "outputs": [],
   "source": [
    "# uncomment the line below to install matplotlib if you haven't already\n",
    "# !pip install matplotlib\n",
    "\n",
    "import matplotlib.pyplot as plt\n",
    "\n",
    "## your code goes here"
   ]
  },
  {
   "cell_type": "markdown",
   "metadata": {},
   "source": [
    "**Problem 2: Transforming features**\n",
    "\n",
    "Consider the following three transformations:\n",
    "\n",
    "$$\n",
    "\\begin{align*}\n",
    "T_1(x) &= \\log(x)\\\\\n",
    "T_2(x) &= \\sqrt{x}\\\\\n",
    "T_3(x) &= x^2\n",
    "\\end{align*}\n",
    "$$\n",
    "\n",
    "(a) Transform the variables `hourly_wages` and `education_years` using each of the three transformations above, and plot histograms for each (you should have a total of 6 scatterplots). For each variable, which transformation appears to make the histograms look most symmetric? Why do you think this is? Note: you can use the package `numpy` to perform these transformations.\n",
    "\n",
    "(b) Using the best transformation for each feature from part (a), plot a scatterplot of the transformed `hourly_wages` versus the transformed `education_years`. How does this scatterplot compare to the one you found in problem 1?"
   ]
  },
  {
   "cell_type": "code",
   "execution_count": null,
   "metadata": {},
   "outputs": [],
   "source": [
    "# uncomment the line below to install numpy if you haven't already\n",
    "# !pip install numpy\n",
    "\n",
    "import numpy as np\n",
    "\n",
    "## your code goes here"
   ]
  }
 ],
 "metadata": {
  "kernelspec": {
   "display_name": "Python 3",
   "language": "python",
   "name": "python3"
  },
  "language_info": {
   "codemirror_mode": {
    "name": "ipython",
    "version": 3
   },
   "file_extension": ".py",
   "mimetype": "text/x-python",
   "name": "python",
   "nbconvert_exporter": "python",
   "pygments_lexer": "ipython3",
   "version": "3.9.5"
  },
  "vscode": {
   "interpreter": {
    "hash": "31f2aee4e71d21fbe5cf8b01ff0e069b9275f58929596ceb00d14d90e3e16cd6"
   }
  }
 },
 "nbformat": 4,
 "nbformat_minor": 2
}
