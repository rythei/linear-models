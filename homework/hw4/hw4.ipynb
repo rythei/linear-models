{
 "cells": [
  {
   "cell_type": "markdown",
   "id": "27ec0ac2",
   "metadata": {},
   "source": [
    "## Computational Homework 4\n",
    "\n",
    "In this assignment, we will show that we have (essentially) all the tools to reproduce the output of a linear regression analysis from commonly used statistical software.\n",
    "\n",
    "For this, we will use the `canadian_wages` dataset, which can be downloaded from [this link](https://drive.google.com/drive/folders/1OkXMcFo0urN0kSQYH4d75I4V3pnSpV6H?usp=sharing)."
   ]
  },
  {
   "cell_type": "code",
   "execution_count": 3,
   "id": "0c9ec79d",
   "metadata": {},
   "outputs": [
    {
     "data": {
      "text/html": [
       "<div>\n",
       "<style scoped>\n",
       "    .dataframe tbody tr th:only-of-type {\n",
       "        vertical-align: middle;\n",
       "    }\n",
       "\n",
       "    .dataframe tbody tr th {\n",
       "        vertical-align: top;\n",
       "    }\n",
       "\n",
       "    .dataframe thead th {\n",
       "        text-align: right;\n",
       "    }\n",
       "</style>\n",
       "<table border=\"1\" class=\"dataframe\">\n",
       "  <thead>\n",
       "    <tr style=\"text-align: right;\">\n",
       "      <th></th>\n",
       "      <th>Unnamed: 0</th>\n",
       "      <th>age</th>\n",
       "      <th>hourly_wages</th>\n",
       "      <th>education_years</th>\n",
       "    </tr>\n",
       "  </thead>\n",
       "  <tbody>\n",
       "    <tr>\n",
       "      <th>0</th>\n",
       "      <td>0</td>\n",
       "      <td>40.0</td>\n",
       "      <td>10.56</td>\n",
       "      <td>15.0</td>\n",
       "    </tr>\n",
       "    <tr>\n",
       "      <th>1</th>\n",
       "      <td>1</td>\n",
       "      <td>19.0</td>\n",
       "      <td>11.00</td>\n",
       "      <td>13.0</td>\n",
       "    </tr>\n",
       "    <tr>\n",
       "      <th>2</th>\n",
       "      <td>2</td>\n",
       "      <td>46.0</td>\n",
       "      <td>17.76</td>\n",
       "      <td>14.0</td>\n",
       "    </tr>\n",
       "    <tr>\n",
       "      <th>3</th>\n",
       "      <td>3</td>\n",
       "      <td>50.0</td>\n",
       "      <td>14.00</td>\n",
       "      <td>16.0</td>\n",
       "    </tr>\n",
       "    <tr>\n",
       "      <th>4</th>\n",
       "      <td>4</td>\n",
       "      <td>31.0</td>\n",
       "      <td>8.20</td>\n",
       "      <td>15.0</td>\n",
       "    </tr>\n",
       "  </tbody>\n",
       "</table>\n",
       "</div>"
      ],
      "text/plain": [
       "   Unnamed: 0   age  hourly_wages  education_years\n",
       "0           0  40.0         10.56             15.0\n",
       "1           1  19.0         11.00             13.0\n",
       "2           2  46.0         17.76             14.0\n",
       "3           3  50.0         14.00             16.0\n",
       "4           4  31.0          8.20             15.0"
      ]
     },
     "execution_count": 3,
     "metadata": {},
     "output_type": "execute_result"
    }
   ],
   "source": [
    "import pandas as pd\n",
    "\n",
    "data = pd.read_csv(\"canadian_wages.csv\")\n",
    "data.head()"
   ]
  },
  {
   "cell_type": "markdown",
   "id": "eb441471",
   "metadata": {},
   "source": [
    "The goal of this dataset is to predict `hourly_wages` using `age` and `education_years`. We'll use the `statsmodels` package in Python as our point of comparison to run a least squares regression (though this will mostly match the outputs you'd get from e.g. the `lm` function in R). If you don't have `statsmodels` installed already, you can do so by uncommenting the following line."
   ]
  },
  {
   "cell_type": "code",
   "execution_count": 4,
   "id": "2b583425",
   "metadata": {},
   "outputs": [],
   "source": [
    "#!pip install statsmodels\n",
    "import statsmodels.api as sm"
   ]
  },
  {
   "cell_type": "markdown",
   "id": "b0231b8c",
   "metadata": {},
   "source": [
    "Before running a regression, we need to extract the data into numpy arrays, which we do in the following cell."
   ]
  },
  {
   "cell_type": "code",
   "execution_count": 5,
   "id": "9d670d51",
   "metadata": {},
   "outputs": [
    {
     "data": {
      "text/plain": [
       "((3997, 3), (3997,))"
      ]
     },
     "execution_count": 5,
     "metadata": {},
     "output_type": "execute_result"
    }
   ],
   "source": [
    "import numpy as np\n",
    "\n",
    "y = data[\"hourly_wages\"].to_numpy()\n",
    "X = data[[\"age\", \"education_years\"]].to_numpy()\n",
    "ones = np.ones(X.shape[0]).reshape(-1,1)\n",
    "X = np.hstack([ones, X])\n",
    "X.shape, y.shape"
   ]
  },
  {
   "cell_type": "markdown",
   "id": "03f1115d",
   "metadata": {},
   "source": [
    "Next, we can use `statsmodels` to run a linear regression analysis using the following."
   ]
  },
  {
   "cell_type": "code",
   "execution_count": 6,
   "id": "356ffea0",
   "metadata": {},
   "outputs": [
    {
     "data": {
      "text/html": [
       "<table class=\"simpletable\">\n",
       "<caption>OLS Regression Results</caption>\n",
       "<tr>\n",
       "  <th>Dep. Variable:</th>            <td>y</td>        <th>  R-squared:         </th> <td>   0.259</td> \n",
       "</tr>\n",
       "<tr>\n",
       "  <th>Model:</th>                   <td>OLS</td>       <th>  Adj. R-squared:    </th> <td>   0.258</td> \n",
       "</tr>\n",
       "<tr>\n",
       "  <th>Method:</th>             <td>Least Squares</td>  <th>  F-statistic:       </th> <td>   696.3</td> \n",
       "</tr>\n",
       "<tr>\n",
       "  <th>Date:</th>             <td>Fri, 21 Oct 2022</td> <th>  Prob (F-statistic):</th> <td>3.77e-260</td>\n",
       "</tr>\n",
       "<tr>\n",
       "  <th>Time:</th>                 <td>15:45:12</td>     <th>  Log-Likelihood:    </th> <td> -13313.</td> \n",
       "</tr>\n",
       "<tr>\n",
       "  <th>No. Observations:</th>      <td>  3997</td>      <th>  AIC:               </th> <td>2.663e+04</td>\n",
       "</tr>\n",
       "<tr>\n",
       "  <th>Df Residuals:</th>          <td>  3994</td>      <th>  BIC:               </th> <td>2.665e+04</td>\n",
       "</tr>\n",
       "<tr>\n",
       "  <th>Df Model:</th>              <td>     2</td>      <th>                     </th>     <td> </td>    \n",
       "</tr>\n",
       "<tr>\n",
       "  <th>Covariance Type:</th>      <td>nonrobust</td>    <th>                     </th>     <td> </td>    \n",
       "</tr>\n",
       "</table>\n",
       "<table class=\"simpletable\">\n",
       "<tr>\n",
       "    <td></td>       <th>coef</th>     <th>std err</th>      <th>t</th>      <th>P>|t|</th>  <th>[0.025</th>    <th>0.975]</th>  \n",
       "</tr>\n",
       "<tr>\n",
       "  <th>const</th> <td>   -6.2827</td> <td>    0.609</td> <td>  -10.314</td> <td> 0.000</td> <td>   -7.477</td> <td>   -5.088</td>\n",
       "</tr>\n",
       "<tr>\n",
       "  <th>x1</th>    <td>    0.2628</td> <td>    0.009</td> <td>   29.321</td> <td> 0.000</td> <td>    0.245</td> <td>    0.280</td>\n",
       "</tr>\n",
       "<tr>\n",
       "  <th>x2</th>    <td>    0.9170</td> <td>    0.035</td> <td>   25.881</td> <td> 0.000</td> <td>    0.848</td> <td>    0.986</td>\n",
       "</tr>\n",
       "</table>\n",
       "<table class=\"simpletable\">\n",
       "<tr>\n",
       "  <th>Omnibus:</th>       <td>571.348</td> <th>  Durbin-Watson:     </th> <td>   1.961</td> \n",
       "</tr>\n",
       "<tr>\n",
       "  <th>Prob(Omnibus):</th> <td> 0.000</td>  <th>  Jarque-Bera (JB):  </th> <td>1114.699</td> \n",
       "</tr>\n",
       "<tr>\n",
       "  <th>Skew:</th>          <td> 0.888</td>  <th>  Prob(JB):          </th> <td>8.83e-243</td>\n",
       "</tr>\n",
       "<tr>\n",
       "  <th>Kurtosis:</th>      <td> 4.882</td>  <th>  Cond. No.          </th> <td>    233.</td> \n",
       "</tr>\n",
       "</table><br/><br/>Notes:<br/>[1] Standard Errors assume that the covariance matrix of the errors is correctly specified."
      ],
      "text/plain": [
       "<class 'statsmodels.iolib.summary.Summary'>\n",
       "\"\"\"\n",
       "                            OLS Regression Results                            \n",
       "==============================================================================\n",
       "Dep. Variable:                      y   R-squared:                       0.259\n",
       "Model:                            OLS   Adj. R-squared:                  0.258\n",
       "Method:                 Least Squares   F-statistic:                     696.3\n",
       "Date:                Fri, 21 Oct 2022   Prob (F-statistic):          3.77e-260\n",
       "Time:                        15:45:12   Log-Likelihood:                -13313.\n",
       "No. Observations:                3997   AIC:                         2.663e+04\n",
       "Df Residuals:                    3994   BIC:                         2.665e+04\n",
       "Df Model:                           2                                         \n",
       "Covariance Type:            nonrobust                                         \n",
       "==============================================================================\n",
       "                 coef    std err          t      P>|t|      [0.025      0.975]\n",
       "------------------------------------------------------------------------------\n",
       "const         -6.2827      0.609    -10.314      0.000      -7.477      -5.088\n",
       "x1             0.2628      0.009     29.321      0.000       0.245       0.280\n",
       "x2             0.9170      0.035     25.881      0.000       0.848       0.986\n",
       "==============================================================================\n",
       "Omnibus:                      571.348   Durbin-Watson:                   1.961\n",
       "Prob(Omnibus):                  0.000   Jarque-Bera (JB):             1114.699\n",
       "Skew:                           0.888   Prob(JB):                    8.83e-243\n",
       "Kurtosis:                       4.882   Cond. No.                         233.\n",
       "==============================================================================\n",
       "\n",
       "Notes:\n",
       "[1] Standard Errors assume that the covariance matrix of the errors is correctly specified.\n",
       "\"\"\""
      ]
     },
     "execution_count": 6,
     "metadata": {},
     "output_type": "execute_result"
    }
   ],
   "source": [
    "res = sm.OLS(y, X).fit()\n",
    "res.summary()"
   ]
  },
  {
   "cell_type": "markdown",
   "id": "d6521f5f",
   "metadata": {},
   "source": [
    "As we see, this output returns a variety of things, though we will focus on the following components:\n",
    "\n",
    "1. The fitted coefficients, along with their standard errors and the associated $t$ statistics/p-values for each.\n",
    "2. The $R^2$ and adjusted $R^2$, which capture the fraction of variance in `hourly_wage` which is explained by the features `age` and `education_years`.\n",
    "3. The $F$ statistic for testing the null hypothesis $\\beta_1=\\beta_2 = 0$.\n",
    "\n",
    "In this assignment, we will write our own code to reproduce these results. Note that you will very likely find code in the online book useful for this."
   ]
  },
  {
   "cell_type": "markdown",
   "id": "87ad5039",
   "metadata": {},
   "source": [
    "### Problem 1.\n",
    "\n",
    "Perform the following steps.\n",
    "\n",
    "1. Fit the regression model \n",
    "\n",
    "$$\n",
    "\\text{hourly_wage}_i = \\beta_0 + \\beta_1 \\text{age}_i + \\beta_2 \\text{education_years}_i + \\varepsilon_i\n",
    "$$\n",
    "\n",
    "To find the coefficients $\\hat{\\beta} = (\\hat{\\beta}_0,\\hat{\\beta}_1, \\hat{\\beta}_2) = (X^\\top X)^{-1}X^\\top y$. Verify that these match the estimates in the table above.\n",
    "\n",
    "2. Compute the estimated variance \n",
    "\n",
    "$$\n",
    "\\hat{\\sigma}^2 = \\frac{1}{n-3}\\|y - X\\hat{\\beta}\\|_2^2.\n",
    "$$\n",
    "\n",
    "Use this to compute the standard deviation of each of the three coefficients, given by $\\tau_j = \\sqrt{\\hat{\\sigma}^2(X^\\top X)^{-1}_{jj}}$. Verify that these match the estimates in the table above.\n",
    "\n",
    "3. For each of the coefficients, compute the $t$ statistic $\\hat{t}_j = \\hat{\\beta}_j/\\tau_j$. Compute the $p$-value of this statistic under the $t(n-3)$ distribution, and verify that this (and the statistic) match the estimates in the table above."
   ]
  },
  {
   "cell_type": "code",
   "execution_count": 16,
   "id": "11d78247",
   "metadata": {},
   "outputs": [
    {
     "name": "stdout",
     "output_type": "stream",
     "text": [
      "[-6.28268002  0.26279167  0.91697245]\n",
      "[0.6091694769049754, 0.008962647828520425, 0.035430957012367294]\n",
      "[-10.313517429442976, 29.320762427022874, 25.880544310855406]\n"
     ]
    }
   ],
   "source": []
  },
  {
   "cell_type": "markdown",
   "id": "b78f879a",
   "metadata": {},
   "source": [
    "### Problem 2.\n",
    "\n",
    "For the regression model fitted in Problem 1, compute the RSS, TSS and RegSS. Using these, compute\n",
    "\n",
    "$$\n",
    "R^2 = \\text{RegSS}/\\text{TSS}\n",
    "$$\n",
    "\n",
    "and\n",
    "\n",
    "$$\n",
    "R^2_{adj} = 1 - \\frac{(1-\\text{RegSS}/\\text{TSS})(n-1)}{n-3}.\n",
    "$$\n",
    "\n",
    "Verify that these match the values for $R^2$ and adjusted $R^2$ in the table from `statsmodels` above."
   ]
  },
  {
   "cell_type": "code",
   "execution_count": 17,
   "id": "2cd246f5",
   "metadata": {},
   "outputs": [
    {
     "name": "stdout",
     "output_type": "stream",
     "text": [
      "0.2585300110315173 0.25815871909913446\n"
     ]
    }
   ],
   "source": [
    "y_bar = np.mean(y)\n",
    "TSS = np.sum((y-y_bar)**2)\n",
    "RSS = np.sum((y-y_hat)**2)\n",
    "RegSS = TSS-RSS\n",
    "R2 = RegSS/TSS\n",
    "R2_adj = 1-(1-R2)*(X.shape[0]-1)/(X.shape[0]-X.shape[1])\n",
    "print(R2, R2_adj)"
   ]
  },
  {
   "cell_type": "markdown",
   "id": "30d94240",
   "metadata": {},
   "source": [
    "### Problem 3.\n",
    "\n",
    "Again using the regression model fit in Problem 1, compute the $F$-statistic\n",
    "\n",
    "$$\n",
    "\\hat{F} = \\frac{\\|\\hat{y}_i - \\bar{y}\\|_2^2 / 2}{\\|\\hat{y}_i - y_i\\|_2^2/(n-3)}\n",
    "$$\n",
    "\n",
    "and the associated $p$-value under the $F(2, n-3)$ distribution. Verify that these too match the results output from `statsmodels`."
   ]
  },
  {
   "cell_type": "code",
   "execution_count": 18,
   "id": "fcc8fa83",
   "metadata": {},
   "outputs": [
    {
     "name": "stdout",
     "output_type": "stream",
     "text": [
      "696.2984877488605\n"
     ]
    }
   ],
   "source": [
    "num = np.sum((y_hat-y_bar)**2)/2\n",
    "den = np.sum((y_hat-y)**2)/(X.shape[0]-3)\n",
    "print(num/den)"
   ]
  },
  {
   "cell_type": "code",
   "execution_count": null,
   "id": "277843f5",
   "metadata": {},
   "outputs": [],
   "source": []
  }
 ],
 "metadata": {
  "kernelspec": {
   "display_name": "Python 3",
   "language": "python",
   "name": "python3"
  },
  "language_info": {
   "codemirror_mode": {
    "name": "ipython",
    "version": 3
   },
   "file_extension": ".py",
   "mimetype": "text/x-python",
   "name": "python",
   "nbconvert_exporter": "python",
   "pygments_lexer": "ipython3",
   "version": "3.9.5"
  },
  "vscode": {
   "interpreter": {
    "hash": "9116e7605a3c7636cbb64cda962b2f0e89693208c0f8626394020c0fb858b688"
   }
  }
 },
 "nbformat": 4,
 "nbformat_minor": 5
}
