{
 "cells": [
  {
   "cell_type": "markdown",
   "id": "27ec0ac2",
   "metadata": {},
   "source": [
    "## Computational Homework 1\n",
    "\n",
    "In this assignment, we work through an example of simple (univariate) linear regression, with examples of: visualizing and transforming features, fitting a simple linear regression model, interpreting the model, and evaluating the model using residual plots and the $R^2$.\n",
    "\n",
    "As usual, you will likely find the notebooks on the [online book](https://rythei.github.io/linear-models/overview.html) useful, especially if you don't have much prior experience using python.\n",
    "\n",
    "For this assignment, you will need to download the dataset `urbanization-vs-gdp-2015.csv` from [this link](https://drive.google.com/drive/folders/1OkXMcFo0urN0kSQYH4d75I4V3pnSpV6H?usp=sharing). Once you've downloaded the `.csv` file, store it in the same directory as this notebook. Then you will be able to load the dataset into python using the following code. "
   ]
  },
  {
   "cell_type": "code",
   "execution_count": 17,
   "id": "d8439187",
   "metadata": {},
   "outputs": [],
   "source": [
    "import pandas as pd\n",
    "\n",
    "dataset = pd.read_csv(\"urbanization-vs-gdp-2015.csv\")"
   ]
  },
  {
   "cell_type": "markdown",
   "id": "b452c520",
   "metadata": {},
   "source": [
    "This dataset contains two features measured for 165 different countries in the world (sourced from the UN):\n",
    "\n",
    "1. GDP per-capita for each country in 2015 (column name `gdp_per_capita`)\n",
    "2. Percent of the population living in urban areas (column name `percent_urban_pop`)\n",
    "\n",
    "We will analyze the relationship between these two variables throughout this assignment."
   ]
  },
  {
   "cell_type": "markdown",
   "id": "bd8b4e22",
   "metadata": {},
   "source": [
    "### Part 1: visualizing and transforming features\n",
    "\n",
    "To begin our analysis, we will inspect and visualize the GDP and urban population data. "
   ]
  },
  {
   "cell_type": "markdown",
   "id": "c1e26508",
   "metadata": {},
   "source": [
    "**Plotting histograms and transforming features** \n",
    "\n",
    "- Plot histograms of both the `gdp_per_capita` and `percent_urban_pop` variables. Do the distributions look approximately symmetric, or is one of both of them skewed?\n",
    "- For any of the features that appear skewed, determine an appropriate transformation to apply to the feature(s), and plot a histogram after applying the transformation. _Note: you should find that transforming at least one feature is necessary for removing skew (but not necessarily both)._"
   ]
  },
  {
   "cell_type": "code",
   "execution_count": null,
   "id": "f2bf5b7f",
   "metadata": {},
   "outputs": [],
   "source": []
  },
  {
   "cell_type": "markdown",
   "id": "1b20ed1c",
   "metadata": {},
   "source": [
    "**Inspecting the joint relationship via scatterplots**\n",
    "\n",
    "- Plot a scatterplot of `percent_urban_pop` (on the y-axis) versus `gdp_per_capita` (on the x-axis) using the _untransformed_ only. What relationship do you observe between the two features? Does this relationship appear to be approximately linear?\n",
    "- Create the same scatterplot, but this time using the transformed features from the previous part instead of the untransformed ones. Does the relationship appear more linear now? Explain why this happens."
   ]
  },
  {
   "cell_type": "code",
   "execution_count": null,
   "id": "0e393109",
   "metadata": {},
   "outputs": [],
   "source": []
  },
  {
   "cell_type": "markdown",
   "id": "a6b389dd",
   "metadata": {},
   "source": [
    "### Part 2: fitting linear regression models\n",
    "\n",
    "Now that we've done some basic analysis on our data, we can try to fit a linear regression model to try to quantify the relationship between `percent_urban_pop` and `gdp_per_capita`."
   ]
  },
  {
   "cell_type": "markdown",
   "id": "4ea476dd",
   "metadata": {},
   "source": [
    "**Writing code for least squares**\n",
    "\n",
    "Recall that given the linear model \n",
    "\n",
    "$$\n",
    "y_i = \\alpha + \\beta x_i + \\varepsilon_i,\n",
    "$$\n",
    "\n",
    "we can estimate the coefficients $\\hat{\\alpha},\\hat{\\beta}$ by minimizing the sum of squared errors \n",
    "\n",
    "$$\n",
    "\\sum_{i=1}^n (y_i - (\\alpha + \\beta x_i))^2\n",
    "$$\n",
    "\n",
    "which gives the solutions\n",
    "\n",
    "$$\n",
    "\\hat{\\alpha} = \\bar{y} - \\hat{\\beta} \\bar{x}\\\\\n",
    "\\hat{\\beta} = \\frac{\\sum_{i=1}^n (x_i - \\bar{x})(y_i - \\bar{y})}{\\sum_{i=1}^n (x_i-\\bar{x})^2}\n",
    "$$\n",
    "\n",
    "Write a python function `fit_linear_regression(x,y)` which takes in arrays `x` and `y` and returns the least squares coefficients $\\hat{\\alpha}$ and $\\hat{\\beta}$. (Note, you should be able to use code from the online book for this.)"
   ]
  },
  {
   "cell_type": "code",
   "execution_count": null,
   "id": "ee6ddc64",
   "metadata": {},
   "outputs": [],
   "source": []
  },
  {
   "cell_type": "markdown",
   "id": "60a389c7",
   "metadata": {},
   "source": [
    "**Fitting models**\n",
    "\n",
    "- Fit the linear regression model \n",
    "$$\n",
    "\\text{gdp_per_capita}_i = \\alpha + \\beta \\cdot \\text{percent_urban_pop}_i + \\varepsilon_i\n",
    "$$\n",
    "using your above code, and report the coefficients. Then, make a scatterplot of `percent_urban_pop` versus `gdp_per_capita` and overlay the line you fitted. How does the fit look?\n",
    "- Fit the linear regression model \n",
    "$$\n",
    "\\log(\\text{gdp_per_capita}_i) = \\alpha + \\beta \\cdot \\text{percent_urban_pop}_i + \\varepsilon_i,\n",
    "$$ \n",
    "and make a scatterplot of log `gdp_per_capita` versus `percent_urban_pop`, and again overlay the line you fitted. Interpret the coefficients -- how can you interpret the value of $\\hat{\\beta}$? What does this tell you about the relationship between `percent_urban_pop` and `gdp_per_capita`?"
   ]
  },
  {
   "cell_type": "code",
   "execution_count": null,
   "id": "7f44dc91",
   "metadata": {},
   "outputs": [],
   "source": []
  },
  {
   "cell_type": "markdown",
   "id": "2fa5f52e",
   "metadata": {},
   "source": [
    "### Part 3: evaluating linear regression models with residual plots and the $R^2$\n",
    "\n"
   ]
  },
  {
   "cell_type": "markdown",
   "id": "a9f20537",
   "metadata": {},
   "source": [
    "**Evaluating residuals**\n",
    "\n",
    "- For both of the models fit in the previous part, use the coefficients $\\hat{\\alpha}, \\hat{\\beta}$ to compute the fitted values $\\hat{y}_i = \\hat{\\alpha} + \\hat{\\beta}\\cdot \\text{gdp_per_capita}_i$. \n",
    "- Compute an array `r` containing the residuals $r_i = y_i - \\hat{y}_i$ (where $y_i$ will be either $\\text{percent_urban_pop}_i$ or $\\log(\\text{percent_urban_pop}_i)$). Plot a histogram of these values and verify that $\\sum_{i=1}^n r_i = 0$. Describe in words what the distribution of residuals look like for the log model versus the basic model (e.g. is it skewed, does it look approximately normally distributed?)\n"
   ]
  },
  {
   "cell_type": "code",
   "execution_count": null,
   "id": "be885016",
   "metadata": {},
   "outputs": [],
   "source": []
  },
  {
   "cell_type": "markdown",
   "id": "b92684ba",
   "metadata": {},
   "source": [
    "**Computing the $R^2$**\n",
    "\n",
    "- For both of the models fit in part 2, compute 1) the $\\text{RSS} = \\sum_{i=1}^n (y_i - \\hat{y}_i)^2$, 2) the $\\text{TSS} = \\sum_{i=1}^n (y_i - \\bar{y})^2$ and 3) the $\\text{RegSS}  = \\text{TSS}- \\text{RSS}$. Which model has a smaller $\\text{RSS}$? Interpret what this means about the model.\n",
    "- For both models, using the values you've just computed, find the $R^2 = \\text{RegSS}/\\text{TSS}$. Interpret what these values mean. Which model has a higher $R^2$? Based on this, which model would you choose to better represent the relationship between GDP and percent urban population?"
   ]
  },
  {
   "cell_type": "code",
   "execution_count": null,
   "id": "db893517",
   "metadata": {},
   "outputs": [],
   "source": []
  }
 ],
 "metadata": {
  "kernelspec": {
   "display_name": "Python 3",
   "language": "python",
   "name": "python3"
  },
  "language_info": {
   "codemirror_mode": {
    "name": "ipython",
    "version": 3
   },
   "file_extension": ".py",
   "mimetype": "text/x-python",
   "name": "python",
   "nbconvert_exporter": "python",
   "pygments_lexer": "ipython3",
   "version": "3.9.5"
  }
 },
 "nbformat": 4,
 "nbformat_minor": 5
}
