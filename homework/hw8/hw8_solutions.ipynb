{
 "cells": [
  {
   "cell_type": "markdown",
   "metadata": {},
   "source": [
    "## Computational Homework 8: Generalized linear models\n",
    "\n",
    "In this assignment, we will explore examples of two types of generalized linear model: logistic regression, and Poisson regression."
   ]
  },
  {
   "cell_type": "markdown",
   "metadata": {},
   "source": [
    "## Part 1: Logistic regression \n",
    "\n",
    "In this problem, we will build a logistic regression model for predicting whether or not an individual will develop coronary heart disease. The dataset `heart_disease.csv` contains 15 features describing 3656 individuals, including sex, age, whether or not the individual is a smoker, as well as a variety of other health-related indicators. Once the data is downloaded from [this link](https://drive.google.com/drive/folders/1OkXMcFo0urN0kSQYH4d75I4V3pnSpV6H?usp=sharing), we can load it using the following."
   ]
  },
  {
   "cell_type": "code",
   "execution_count": 38,
   "metadata": {},
   "outputs": [
    {
     "name": "stdout",
     "output_type": "stream",
     "text": [
      "(3656, 16)\n"
     ]
    },
    {
     "data": {
      "text/html": [
       "<div>\n",
       "<style scoped>\n",
       "    .dataframe tbody tr th:only-of-type {\n",
       "        vertical-align: middle;\n",
       "    }\n",
       "\n",
       "    .dataframe tbody tr th {\n",
       "        vertical-align: top;\n",
       "    }\n",
       "\n",
       "    .dataframe thead th {\n",
       "        text-align: right;\n",
       "    }\n",
       "</style>\n",
       "<table border=\"1\" class=\"dataframe\">\n",
       "  <thead>\n",
       "    <tr style=\"text-align: right;\">\n",
       "      <th></th>\n",
       "      <th>male</th>\n",
       "      <th>age</th>\n",
       "      <th>education</th>\n",
       "      <th>currentSmoker</th>\n",
       "      <th>cigsPerDay</th>\n",
       "      <th>BPMeds</th>\n",
       "      <th>prevalentStroke</th>\n",
       "      <th>prevalentHyp</th>\n",
       "      <th>diabetes</th>\n",
       "      <th>totChol</th>\n",
       "      <th>sysBP</th>\n",
       "      <th>diaBP</th>\n",
       "      <th>BMI</th>\n",
       "      <th>heartRate</th>\n",
       "      <th>glucose</th>\n",
       "      <th>TenYearCHD</th>\n",
       "    </tr>\n",
       "  </thead>\n",
       "  <tbody>\n",
       "    <tr>\n",
       "      <th>0</th>\n",
       "      <td>1</td>\n",
       "      <td>39</td>\n",
       "      <td>4.0</td>\n",
       "      <td>0</td>\n",
       "      <td>0.0</td>\n",
       "      <td>0.0</td>\n",
       "      <td>0</td>\n",
       "      <td>0</td>\n",
       "      <td>0</td>\n",
       "      <td>195.0</td>\n",
       "      <td>106.0</td>\n",
       "      <td>70.0</td>\n",
       "      <td>26.97</td>\n",
       "      <td>80.0</td>\n",
       "      <td>77.0</td>\n",
       "      <td>0</td>\n",
       "    </tr>\n",
       "    <tr>\n",
       "      <th>1</th>\n",
       "      <td>0</td>\n",
       "      <td>46</td>\n",
       "      <td>2.0</td>\n",
       "      <td>0</td>\n",
       "      <td>0.0</td>\n",
       "      <td>0.0</td>\n",
       "      <td>0</td>\n",
       "      <td>0</td>\n",
       "      <td>0</td>\n",
       "      <td>250.0</td>\n",
       "      <td>121.0</td>\n",
       "      <td>81.0</td>\n",
       "      <td>28.73</td>\n",
       "      <td>95.0</td>\n",
       "      <td>76.0</td>\n",
       "      <td>0</td>\n",
       "    </tr>\n",
       "    <tr>\n",
       "      <th>2</th>\n",
       "      <td>1</td>\n",
       "      <td>48</td>\n",
       "      <td>1.0</td>\n",
       "      <td>1</td>\n",
       "      <td>20.0</td>\n",
       "      <td>0.0</td>\n",
       "      <td>0</td>\n",
       "      <td>0</td>\n",
       "      <td>0</td>\n",
       "      <td>245.0</td>\n",
       "      <td>127.5</td>\n",
       "      <td>80.0</td>\n",
       "      <td>25.34</td>\n",
       "      <td>75.0</td>\n",
       "      <td>70.0</td>\n",
       "      <td>0</td>\n",
       "    </tr>\n",
       "    <tr>\n",
       "      <th>3</th>\n",
       "      <td>0</td>\n",
       "      <td>61</td>\n",
       "      <td>3.0</td>\n",
       "      <td>1</td>\n",
       "      <td>30.0</td>\n",
       "      <td>0.0</td>\n",
       "      <td>0</td>\n",
       "      <td>1</td>\n",
       "      <td>0</td>\n",
       "      <td>225.0</td>\n",
       "      <td>150.0</td>\n",
       "      <td>95.0</td>\n",
       "      <td>28.58</td>\n",
       "      <td>65.0</td>\n",
       "      <td>103.0</td>\n",
       "      <td>1</td>\n",
       "    </tr>\n",
       "    <tr>\n",
       "      <th>4</th>\n",
       "      <td>0</td>\n",
       "      <td>46</td>\n",
       "      <td>3.0</td>\n",
       "      <td>1</td>\n",
       "      <td>23.0</td>\n",
       "      <td>0.0</td>\n",
       "      <td>0</td>\n",
       "      <td>0</td>\n",
       "      <td>0</td>\n",
       "      <td>285.0</td>\n",
       "      <td>130.0</td>\n",
       "      <td>84.0</td>\n",
       "      <td>23.10</td>\n",
       "      <td>85.0</td>\n",
       "      <td>85.0</td>\n",
       "      <td>0</td>\n",
       "    </tr>\n",
       "  </tbody>\n",
       "</table>\n",
       "</div>"
      ],
      "text/plain": [
       "   male  age  education  currentSmoker  cigsPerDay  BPMeds  prevalentStroke  \\\n",
       "0     1   39        4.0              0         0.0     0.0                0   \n",
       "1     0   46        2.0              0         0.0     0.0                0   \n",
       "2     1   48        1.0              1        20.0     0.0                0   \n",
       "3     0   61        3.0              1        30.0     0.0                0   \n",
       "4     0   46        3.0              1        23.0     0.0                0   \n",
       "\n",
       "   prevalentHyp  diabetes  totChol  sysBP  diaBP    BMI  heartRate  glucose  \\\n",
       "0             0         0    195.0  106.0   70.0  26.97       80.0     77.0   \n",
       "1             0         0    250.0  121.0   81.0  28.73       95.0     76.0   \n",
       "2             0         0    245.0  127.5   80.0  25.34       75.0     70.0   \n",
       "3             1         0    225.0  150.0   95.0  28.58       65.0    103.0   \n",
       "4             0         0    285.0  130.0   84.0  23.10       85.0     85.0   \n",
       "\n",
       "   TenYearCHD  \n",
       "0           0  \n",
       "1           0  \n",
       "2           0  \n",
       "3           1  \n",
       "4           0  "
      ]
     },
     "execution_count": 38,
     "metadata": {},
     "output_type": "execute_result"
    }
   ],
   "source": [
    "import pandas as pd\n",
    "\n",
    "dataset = pd.read_csv(\"heart_disease.csv\")\n",
    "# get rid of extra index column\n",
    "dataset = dataset.drop(\"Unnamed: 0\", axis=1)\n",
    "print(dataset.shape)\n",
    "dataset.head()"
   ]
  },
  {
   "cell_type": "markdown",
   "metadata": {},
   "source": [
    "Below we convert the data into numpy arrays."
   ]
  },
  {
   "cell_type": "code",
   "execution_count": 39,
   "metadata": {},
   "outputs": [],
   "source": [
    "import numpy as np\n",
    "\n",
    "feature_cols = [c for c in dataset.columns if c != \"TenYearCHD\"]\n",
    "X = dataset[feature_cols].to_numpy()\n",
    "y = dataset[\"TenYearCHD\"].to_numpy()\n",
    "ones = np.ones((X.shape[0],1))\n",
    "X = np.hstack([ones, X])"
   ]
  },
  {
   "cell_type": "markdown",
   "metadata": {},
   "source": [
    "**Problem 1.** Split the dataset into a training and hold-out set, where the hold-out set contains 1000 individuals, and the rest are kept in the training set. Fit a logistic regression model for this data (e.g. using the `statsmodels` package), and compute the classification error on the training and hold-out sets, using the usual classifier derived from the fitted coefficients $\\hat{\\beta}$:\n",
    "\n",
    "$$\n",
    "C(x) = \\begin{cases}1 &  p_{\\hat{\\beta}}(x) \\geq 1/2\\\\ 0 & p_{\\hat{\\beta}}(x) < 1/2\\end{cases}\n",
    "$$\n",
    "\n",
    "where $p_{\\hat{\\beta}}(x) = \\frac{1}{1+\\exp(-\\hat{\\beta}\\cdot x)}$ is the estimated probability of developing heart disease."
   ]
  },
  {
   "cell_type": "code",
   "execution_count": 40,
   "metadata": {},
   "outputs": [
    {
     "data": {
      "text/plain": [
       "((2656, 16), (1000, 16))"
      ]
     },
     "execution_count": 40,
     "metadata": {},
     "output_type": "execute_result"
    }
   ],
   "source": [
    "import numpy as np\n",
    "\n",
    "ix_test = np.random.choice(X.shape[0], 1000, replace=False)\n",
    "ix_train = [j for j in range(X.shape[0]) if j not in ix_test]\n",
    "\n",
    "X_train, y_train = X[ix_train], y[ix_train]\n",
    "X_test, y_test = X[ix_test], y[ix_test]\n",
    "\n",
    "X_train.shape, X_test.shape"
   ]
  },
  {
   "cell_type": "code",
   "execution_count": 41,
   "metadata": {},
   "outputs": [
    {
     "name": "stdout",
     "output_type": "stream",
     "text": [
      "Optimization terminated successfully.\n",
      "         Current function value: 0.367896\n",
      "         Iterations 7\n"
     ]
    },
    {
     "data": {
      "text/html": [
       "<table class=\"simpletable\">\n",
       "<caption>Logit Regression Results</caption>\n",
       "<tr>\n",
       "  <th>Dep. Variable:</th>           <td>y</td>        <th>  No. Observations:  </th>  <td>  2656</td>  \n",
       "</tr>\n",
       "<tr>\n",
       "  <th>Model:</th>                 <td>Logit</td>      <th>  Df Residuals:      </th>  <td>  2640</td>  \n",
       "</tr>\n",
       "<tr>\n",
       "  <th>Method:</th>                 <td>MLE</td>       <th>  Df Model:          </th>  <td>    15</td>  \n",
       "</tr>\n",
       "<tr>\n",
       "  <th>Date:</th>            <td>Tue, 01 Nov 2022</td> <th>  Pseudo R-squ.:     </th>  <td>0.1181</td>  \n",
       "</tr>\n",
       "<tr>\n",
       "  <th>Time:</th>                <td>22:00:12</td>     <th>  Log-Likelihood:    </th> <td> -977.13</td> \n",
       "</tr>\n",
       "<tr>\n",
       "  <th>converged:</th>             <td>True</td>       <th>  LL-Null:           </th> <td> -1108.0</td> \n",
       "</tr>\n",
       "<tr>\n",
       "  <th>Covariance Type:</th>     <td>nonrobust</td>    <th>  LLR p-value:       </th> <td>4.539e-47</td>\n",
       "</tr>\n",
       "</table>\n",
       "<table class=\"simpletable\">\n",
       "<tr>\n",
       "    <td></td>       <th>coef</th>     <th>std err</th>      <th>z</th>      <th>P>|z|</th>  <th>[0.025</th>    <th>0.975]</th>  \n",
       "</tr>\n",
       "<tr>\n",
       "  <th>const</th> <td>   -8.6430</td> <td>    0.858</td> <td>  -10.075</td> <td> 0.000</td> <td>  -10.324</td> <td>   -6.962</td>\n",
       "</tr>\n",
       "<tr>\n",
       "  <th>x1</th>    <td>    0.5513</td> <td>    0.130</td> <td>    4.254</td> <td> 0.000</td> <td>    0.297</td> <td>    0.805</td>\n",
       "</tr>\n",
       "<tr>\n",
       "  <th>x2</th>    <td>    0.0605</td> <td>    0.008</td> <td>    7.549</td> <td> 0.000</td> <td>    0.045</td> <td>    0.076</td>\n",
       "</tr>\n",
       "<tr>\n",
       "  <th>x3</th>    <td>   -0.0251</td> <td>    0.060</td> <td>   -0.421</td> <td> 0.674</td> <td>   -0.142</td> <td>    0.092</td>\n",
       "</tr>\n",
       "<tr>\n",
       "  <th>x4</th>    <td>    0.1038</td> <td>    0.186</td> <td>    0.558</td> <td> 0.577</td> <td>   -0.261</td> <td>    0.469</td>\n",
       "</tr>\n",
       "<tr>\n",
       "  <th>x5</th>    <td>    0.0168</td> <td>    0.007</td> <td>    2.257</td> <td> 0.024</td> <td>    0.002</td> <td>    0.031</td>\n",
       "</tr>\n",
       "<tr>\n",
       "  <th>x6</th>    <td>    0.0649</td> <td>    0.277</td> <td>    0.234</td> <td> 0.815</td> <td>   -0.478</td> <td>    0.608</td>\n",
       "</tr>\n",
       "<tr>\n",
       "  <th>x7</th>    <td>    0.7380</td> <td>    0.530</td> <td>    1.392</td> <td> 0.164</td> <td>   -0.301</td> <td>    1.777</td>\n",
       "</tr>\n",
       "<tr>\n",
       "  <th>x8</th>    <td>    0.1396</td> <td>    0.163</td> <td>    0.855</td> <td> 0.393</td> <td>   -0.180</td> <td>    0.460</td>\n",
       "</tr>\n",
       "<tr>\n",
       "  <th>x9</th>    <td>    0.0313</td> <td>    0.358</td> <td>    0.087</td> <td> 0.930</td> <td>   -0.671</td> <td>    0.733</td>\n",
       "</tr>\n",
       "<tr>\n",
       "  <th>x10</th>   <td>    0.0024</td> <td>    0.001</td> <td>    1.821</td> <td> 0.069</td> <td>   -0.000</td> <td>    0.005</td>\n",
       "</tr>\n",
       "<tr>\n",
       "  <th>x11</th>   <td>    0.0184</td> <td>    0.005</td> <td>    4.056</td> <td> 0.000</td> <td>    0.009</td> <td>    0.027</td>\n",
       "</tr>\n",
       "<tr>\n",
       "  <th>x12</th>   <td>   -0.0009</td> <td>    0.008</td> <td>   -0.123</td> <td> 0.902</td> <td>   -0.016</td> <td>    0.014</td>\n",
       "</tr>\n",
       "<tr>\n",
       "  <th>x13</th>   <td>   -0.0106</td> <td>    0.015</td> <td>   -0.705</td> <td> 0.481</td> <td>   -0.040</td> <td>    0.019</td>\n",
       "</tr>\n",
       "<tr>\n",
       "  <th>x14</th>   <td>   -0.0016</td> <td>    0.005</td> <td>   -0.320</td> <td> 0.749</td> <td>   -0.011</td> <td>    0.008</td>\n",
       "</tr>\n",
       "<tr>\n",
       "  <th>x15</th>   <td>    0.0078</td> <td>    0.003</td> <td>    2.780</td> <td> 0.005</td> <td>    0.002</td> <td>    0.013</td>\n",
       "</tr>\n",
       "</table>"
      ],
      "text/plain": [
       "<class 'statsmodels.iolib.summary.Summary'>\n",
       "\"\"\"\n",
       "                           Logit Regression Results                           \n",
       "==============================================================================\n",
       "Dep. Variable:                      y   No. Observations:                 2656\n",
       "Model:                          Logit   Df Residuals:                     2640\n",
       "Method:                           MLE   Df Model:                           15\n",
       "Date:                Tue, 01 Nov 2022   Pseudo R-squ.:                  0.1181\n",
       "Time:                        22:00:12   Log-Likelihood:                -977.13\n",
       "converged:                       True   LL-Null:                       -1108.0\n",
       "Covariance Type:            nonrobust   LLR p-value:                 4.539e-47\n",
       "==============================================================================\n",
       "                 coef    std err          z      P>|z|      [0.025      0.975]\n",
       "------------------------------------------------------------------------------\n",
       "const         -8.6430      0.858    -10.075      0.000     -10.324      -6.962\n",
       "x1             0.5513      0.130      4.254      0.000       0.297       0.805\n",
       "x2             0.0605      0.008      7.549      0.000       0.045       0.076\n",
       "x3            -0.0251      0.060     -0.421      0.674      -0.142       0.092\n",
       "x4             0.1038      0.186      0.558      0.577      -0.261       0.469\n",
       "x5             0.0168      0.007      2.257      0.024       0.002       0.031\n",
       "x6             0.0649      0.277      0.234      0.815      -0.478       0.608\n",
       "x7             0.7380      0.530      1.392      0.164      -0.301       1.777\n",
       "x8             0.1396      0.163      0.855      0.393      -0.180       0.460\n",
       "x9             0.0313      0.358      0.087      0.930      -0.671       0.733\n",
       "x10            0.0024      0.001      1.821      0.069      -0.000       0.005\n",
       "x11            0.0184      0.005      4.056      0.000       0.009       0.027\n",
       "x12           -0.0009      0.008     -0.123      0.902      -0.016       0.014\n",
       "x13           -0.0106      0.015     -0.705      0.481      -0.040       0.019\n",
       "x14           -0.0016      0.005     -0.320      0.749      -0.011       0.008\n",
       "x15            0.0078      0.003      2.780      0.005       0.002       0.013\n",
       "==============================================================================\n",
       "\"\"\""
      ]
     },
     "execution_count": 41,
     "metadata": {},
     "output_type": "execute_result"
    }
   ],
   "source": [
    "import statsmodels.api as sm \n",
    "\n",
    "model = sm.Logit(y_train, X_train).fit()\n",
    "model.summary()"
   ]
  },
  {
   "cell_type": "code",
   "execution_count": 42,
   "metadata": {},
   "outputs": [
    {
     "name": "stdout",
     "output_type": "stream",
     "text": [
      "training error = 0.14, test error = 0.161\n"
     ]
    }
   ],
   "source": [
    "# compute predicted probabilties\n",
    "p_hat_train = model.predict(X_train)\n",
    "p_hat_test = model.predict(X_test)\n",
    "\n",
    "# treshold the predicted probabilities \n",
    "y_hat_train = (p_hat_train >= 0.5).astype(int)\n",
    "y_hat_test = (p_hat_test >= 0.5).astype(int)\n",
    "\n",
    "# compute the errors\n",
    "error_train = np.mean(y_hat_train != y_train)\n",
    "error_test = np.mean(y_hat_test != y_test)\n",
    "\n",
    "print(f\"training error = {round(error_train,3)}, test error = {round(error_test,3)}\")"
   ]
  },
  {
   "cell_type": "markdown",
   "metadata": {},
   "source": [
    "**Problem 2.** Compute and plot an ROC curve using the hold-out set of data for the fitted logistic regression model, and compute the associated AUC. Then, suppose that we wanted to choose a threshold $t \\in (0,1)$ such that the classifier \n",
    "\n",
    "$$\n",
    "C_t(x) = \\begin{cases}1 & p_{\\hat{\\beta}}(x) \\geq t\\\\ 0 & p_{\\hat{\\beta}}(x) < t\\end{cases}\n",
    "$$\n",
    "\n",
    "had a false positive rate of less than 20%. What value of $t$ should we choose? What would be the corresponding true positive rate at this threshold be?"
   ]
  },
  {
   "cell_type": "code",
   "execution_count": 43,
   "metadata": {},
   "outputs": [
    {
     "data": {
      "image/png": "[encoded data removed]",
      "text/plain": [
       "<Figure size 432x288 with 1 Axes>"
      ]
     },
     "metadata": {
      "needs_background": "light"
     },
     "output_type": "display_data"
    }
   ],
   "source": [
    "from sklearn.metrics import roc_curve\n",
    "import matplotlib.pyplot as plt\n",
    "\n",
    "FPRs, TPRs, thresh = roc_curve(y_test, p_hat_test)\n",
    "plt.vlines(0,0,1, color='green', label=\"perfect classifier\")\n",
    "plt.hlines(1,0,1, color='green')\n",
    "plt.plot([0,1], [0,1], color='red', linestyle='--', label=\"random classifier\")\n",
    "plt.plot(FPRs, TPRs, color=\"blue\", label=\"logistic regression model\")\n",
    "plt.fill_between(FPRs, [0]*len(TPRs), TPRs, color=\"blue\", alpha=0.2, label=\"AUC\")\n",
    "plt.xlabel(\"False Positive Rate\", fontsize=14)\n",
    "plt.ylabel(\"True Positive Rate\", fontsize=14)\n",
    "plt.legend()\n",
    "plt.show()"
   ]
  },
  {
   "cell_type": "code",
   "execution_count": 44,
   "metadata": {},
   "outputs": [
    {
     "data": {
      "text/plain": [
       "0.7321922781088483"
      ]
     },
     "execution_count": 44,
     "metadata": {},
     "output_type": "execute_result"
    }
   ],
   "source": [
    "from sklearn.metrics import auc\n",
    "\n",
    "AUC = auc(FPRs, TPRs)\n",
    "AUC"
   ]
  },
  {
   "cell_type": "markdown",
   "metadata": {},
   "source": [
    "**Problem 3.** (_Odds ratios_.) Once we've fitted a logistic regression model, an important thing we can estimate are _odds ratios_ derived from the model, which we explore in this problem. First, we can define the odds of an individual with attributes $X=x$ developing heart disease as:\n",
    "\n",
    "$$\n",
    "\\rho = \\frac{P(Y=1\\mid X=x, \\beta)}{1 - P(Y=1\\mid X=x, \\beta)} = e^{\\beta\\cdot x}\n",
    "$$\n",
    "\n",
    "Odds greater than 1 indicates that the individual is more likely than not to develop heart disease, whereas odds less than 1 indicate than an individual is less likely to develop heart disease than to. Then given two individuals with attributes $X=x$ and $X = x'$, the _odds ratio_ is a measure of how much higher the odds are for $x'$ than for $x$:\n",
    "\n",
    "$$\n",
    "\\theta = \\frac{P(Y=1\\mid X=x', \\beta)/(1 - P(Y=1\\mid X=x', \\beta))}{P(Y=1\\mid X=x, \\beta)/(1 - P(Y=1\\mid X=x, \\beta))} = \\frac{e^{\\beta\\cdot x'}}{e^{\\beta \\cdot x}} = e^{\\beta\\cdot (x' - x)}.\n",
    "$$\n",
    "\n",
    "Now suppose that we change the $j$th feature $x_j$ by a single unit, i.e. $x_j' = x_j + 1$. Then we can estimate how much this increases the odds of developing heart disease by calculating the odds ratio for $x = (x_1,\\dots, x_p)$ and $x' = (x_1,\\dots,x_j', \\dots, x_p)$.\n",
    "\n",
    "$$\n",
    "\\theta = e^{\\beta\\cdot (x' - x)} = e^{\\beta_j (x_j' - x_j)} = e^{\\beta_j}.\n",
    "$$\n",
    "\n",
    "Therefore, the odds ratio when increase $x_j$ by one unit can be calculated _independent_ of the values of the other attributes. This allows us to estimate the marginal effect of a change in attribute $j$, by plugging in $\\hat{\\beta}_j$ to the above formula.\n",
    "\n",
    "Use this approach to estimate:\n",
    "1. The change in the odds of developing heart disease if an individual is a smoker.\n",
    "2. The change in the odds of developing heart disease if an individual smokes 1 more cigarette per day."
   ]
  },
  {
   "cell_type": "code",
   "execution_count": 45,
   "metadata": {},
   "outputs": [
    {
     "data": {
      "text/plain": [
       "{'intercept': -8.643018001943457,\n",
       " 'male': 0.5513108840878385,\n",
       " 'age': 0.06054064826123837,\n",
       " 'education': -0.025107618833817916,\n",
       " 'currentSmoker': 0.10382999233895984,\n",
       " 'cigsPerDay': 0.016823518241020095,\n",
       " 'BPMeds': 0.0649330499315084,\n",
       " 'prevalentStroke': 0.7380289472888203,\n",
       " 'prevalentHyp': 0.13958689544632882,\n",
       " 'diabetes': 0.031293961910567575,\n",
       " 'totChol': 0.0023860953534906118,\n",
       " 'sysBP': 0.018366034385502522,\n",
       " 'diaBP': -0.0009397411292044635,\n",
       " 'BMI': -0.010616198901547318,\n",
       " 'heartRate': -0.0015965236480521754,\n",
       " 'glucose': 0.007769344466401542}"
      ]
     },
     "execution_count": 45,
     "metadata": {},
     "output_type": "execute_result"
    }
   ],
   "source": [
    "feature_cols = [\"intercept\"] + feature_cols\n",
    "beta_hat = model.params\n",
    "beta_hat_dict = {feature_cols[ix]: beta_hat[ix] for ix in range(len(feature_cols))}\n",
    "beta_hat_dict"
   ]
  },
  {
   "cell_type": "code",
   "execution_count": 46,
   "metadata": {},
   "outputs": [
    {
     "data": {
      "text/plain": [
       "(1.1094118303718163, 1.016965830568595)"
      ]
     },
     "execution_count": 46,
     "metadata": {},
     "output_type": "execute_result"
    }
   ],
   "source": [
    "odds_ratio_currentSmoker = np.exp(beta_hat_dict[\"currentSmoker\"])\n",
    "odds_ratio_cigsPerDay = np.exp(beta_hat_dict[\"cigsPerDay\"])\n",
    "# being a smoker increases odds by ~11%, \n",
    "# smoking one more cigarette per day increases odds by ~1.7%\n",
    "odds_ratio_currentSmoker, odds_ratio_cigsPerDay"
   ]
  },
  {
   "cell_type": "markdown",
   "metadata": {},
   "source": [
    "## Part 2: Poisson regression\n",
    "\n",
    "In this problem, we investigate a different type of GLM called Poisson regression. In this case, as the name of the model suggests, we assume that our response variable $Y$ conditioned on $X=x$ follows a Poisson distribution with rate parameter $\\lambda = \\lambda(x)$. Recall that the PMF of the Poisson distribution is\n",
    "\n",
    "$$\n",
    "p(Y=y \\mid \\lambda) = \\frac{e^{-\\lambda} \\lambda^{y}}{y!} \n",
    "$$\n",
    "\n",
    "for $y\\in \\{0,1,2,\\dots\\}$. Note that if $Y \\mid X=x$ follows a Poisson distribution, then $\\mathbb{E}[Y\\mid X=x] = \\lambda$.\n",
    "\n",
    "This is a natural distribution to choose when our response is a count (such as number of calls, number of deaths, etc). In this case, we typically use the link function $g(z) = \\log(z)$, and model \n",
    "\n",
    "$$\n",
    "\\lambda = \\mathbb{E}[Y\\mid X=x, \\beta] = \\exp(\\beta \\cdot x) \\iff \\log(\\lambda) = \\beta\\cdot x\n",
    "$$\n",
    "\n",
    "i.e. we model the log-rate parameter of the Poisson distribution (conditional on $X=x$) as the linear model $\\beta\\cdot x$ (note that this ensures that $\\lambda$ is always $\\geq 0$).\n",
    "\n",
    "To fit a Poisson regression model to observed data $(x_i, y_i)_{i=1}^n$ (where in this case the $y_i$'s are positive integers), we can minimize the negative log-likelihood, which is given by\n",
    "\n",
    "$$\n",
    "\\ell(\\beta) = \\sum_{i=1}^n \\left[\\log(y_i!) + \\exp(\\beta\\cdot x_i) - y_i\\beta\\cdot x_i \\right].\n",
    "$$\n",
    "\n",
    "In python, we can use the `statsmodels` package to fit a Poisson regression model."
   ]
  },
  {
   "cell_type": "markdown",
   "metadata": {},
   "source": [
    "To try out Poisson regression, we will use the NYC East River Bicycle Counts dataset. Once downloaded, the dataset can be loaded with the following."
   ]
  },
  {
   "cell_type": "code",
   "execution_count": 55,
   "metadata": {},
   "outputs": [
    {
     "data": {
      "text/html": [
       "<div>\n",
       "<style scoped>\n",
       "    .dataframe tbody tr th:only-of-type {\n",
       "        vertical-align: middle;\n",
       "    }\n",
       "\n",
       "    .dataframe tbody tr th {\n",
       "        vertical-align: top;\n",
       "    }\n",
       "\n",
       "    .dataframe thead th {\n",
       "        text-align: right;\n",
       "    }\n",
       "</style>\n",
       "<table border=\"1\" class=\"dataframe\">\n",
       "  <thead>\n",
       "    <tr style=\"text-align: right;\">\n",
       "      <th></th>\n",
       "      <th>Unnamed: 0</th>\n",
       "      <th>Date</th>\n",
       "      <th>Day</th>\n",
       "      <th>High Temp (°F)</th>\n",
       "      <th>Low Temp (°F)</th>\n",
       "      <th>Precipitation</th>\n",
       "      <th>Brooklyn Bridge</th>\n",
       "      <th>Manhattan Bridge</th>\n",
       "      <th>Williamsburg Bridge</th>\n",
       "      <th>Queensboro Bridge</th>\n",
       "      <th>Total</th>\n",
       "    </tr>\n",
       "  </thead>\n",
       "  <tbody>\n",
       "    <tr>\n",
       "      <th>0</th>\n",
       "      <td>0</td>\n",
       "      <td>2016-04-01 00:00:00</td>\n",
       "      <td>2016-04-01 00:00:00</td>\n",
       "      <td>78.1</td>\n",
       "      <td>66.0</td>\n",
       "      <td>0.01</td>\n",
       "      <td>1704.0</td>\n",
       "      <td>3126</td>\n",
       "      <td>4115.0</td>\n",
       "      <td>2552.0</td>\n",
       "      <td>11497</td>\n",
       "    </tr>\n",
       "    <tr>\n",
       "      <th>1</th>\n",
       "      <td>1</td>\n",
       "      <td>2016-04-02 00:00:00</td>\n",
       "      <td>2016-04-02 00:00:00</td>\n",
       "      <td>55.0</td>\n",
       "      <td>48.9</td>\n",
       "      <td>0.15</td>\n",
       "      <td>827.0</td>\n",
       "      <td>1646</td>\n",
       "      <td>2565.0</td>\n",
       "      <td>1884.0</td>\n",
       "      <td>6922</td>\n",
       "    </tr>\n",
       "    <tr>\n",
       "      <th>2</th>\n",
       "      <td>2</td>\n",
       "      <td>2016-04-03 00:00:00</td>\n",
       "      <td>2016-04-03 00:00:00</td>\n",
       "      <td>39.9</td>\n",
       "      <td>34.0</td>\n",
       "      <td>0.09</td>\n",
       "      <td>526.0</td>\n",
       "      <td>1232</td>\n",
       "      <td>1695.0</td>\n",
       "      <td>1306.0</td>\n",
       "      <td>4759</td>\n",
       "    </tr>\n",
       "    <tr>\n",
       "      <th>3</th>\n",
       "      <td>4</td>\n",
       "      <td>2016-04-05 00:00:00</td>\n",
       "      <td>2016-04-05 00:00:00</td>\n",
       "      <td>42.1</td>\n",
       "      <td>26.1</td>\n",
       "      <td>0.00</td>\n",
       "      <td>1416.0</td>\n",
       "      <td>2617</td>\n",
       "      <td>3081.0</td>\n",
       "      <td>2357.0</td>\n",
       "      <td>9471</td>\n",
       "    </tr>\n",
       "    <tr>\n",
       "      <th>4</th>\n",
       "      <td>5</td>\n",
       "      <td>2016-04-06 00:00:00</td>\n",
       "      <td>2016-04-06 00:00:00</td>\n",
       "      <td>45.0</td>\n",
       "      <td>30.0</td>\n",
       "      <td>0.00</td>\n",
       "      <td>1885.0</td>\n",
       "      <td>3329</td>\n",
       "      <td>3856.0</td>\n",
       "      <td>2849.0</td>\n",
       "      <td>11919</td>\n",
       "    </tr>\n",
       "  </tbody>\n",
       "</table>\n",
       "</div>"
      ],
      "text/plain": [
       "   Unnamed: 0                 Date                  Day  High Temp (°F)  \\\n",
       "0           0  2016-04-01 00:00:00  2016-04-01 00:00:00            78.1   \n",
       "1           1  2016-04-02 00:00:00  2016-04-02 00:00:00            55.0   \n",
       "2           2  2016-04-03 00:00:00  2016-04-03 00:00:00            39.9   \n",
       "3           4  2016-04-05 00:00:00  2016-04-05 00:00:00            42.1   \n",
       "4           5  2016-04-06 00:00:00  2016-04-06 00:00:00            45.0   \n",
       "\n",
       "   Low Temp (°F)  Precipitation  Brooklyn Bridge  Manhattan Bridge  \\\n",
       "0           66.0           0.01           1704.0              3126   \n",
       "1           48.9           0.15            827.0              1646   \n",
       "2           34.0           0.09            526.0              1232   \n",
       "3           26.1           0.00           1416.0              2617   \n",
       "4           30.0           0.00           1885.0              3329   \n",
       "\n",
       "   Williamsburg Bridge  Queensboro Bridge  Total  \n",
       "0               4115.0             2552.0  11497  \n",
       "1               2565.0             1884.0   6922  \n",
       "2               1695.0             1306.0   4759  \n",
       "3               3081.0             2357.0   9471  \n",
       "4               3856.0             2849.0  11919  "
      ]
     },
     "execution_count": 55,
     "metadata": {},
     "output_type": "execute_result"
    }
   ],
   "source": [
    "dataset = pd.read_csv(\"nyc-east-river-bicycle-counts.csv\")\n",
    "dataset.head()"
   ]
  },
  {
   "cell_type": "markdown",
   "metadata": {},
   "source": [
    "For the sake of this problem, we will use a subset of the data, namely we will consider the features High Temp, Low Temp and Precipitation, and try to model the number of bikes on the Brooklyn bridge as a function of these features."
   ]
  },
  {
   "cell_type": "code",
   "execution_count": 56,
   "metadata": {},
   "outputs": [
    {
     "data": {
      "text/plain": [
       "((196, 4), (196,))"
      ]
     },
     "execution_count": 56,
     "metadata": {},
     "output_type": "execute_result"
    }
   ],
   "source": [
    "feature_cols = [\"High Temp (°F)\", \"Low Temp (°F)\", \"Precipitation\"]\n",
    "X = dataset[feature_cols].to_numpy()\n",
    "y = dataset[\"Brooklyn Bridge\"].to_numpy()\n",
    "\n",
    "ones = np.ones((X.shape[0],1))\n",
    "X = np.hstack([ones, X])\n",
    "X.shape, y.shape"
   ]
  },
  {
   "cell_type": "markdown",
   "metadata": {},
   "source": [
    "**Problem 1.** Use the `statsmodels` package to fit a Poisson regression model to this dataset (you can use the function `sm.GLM(y, X, family=sm.families.Poisson()).fit()` for this). Interpret what the coefficient for the feature \"Precipitation\" represents."
   ]
  },
  {
   "cell_type": "code",
   "execution_count": 58,
   "metadata": {},
   "outputs": [
    {
     "data": {
      "text/html": [
       "<table class=\"simpletable\">\n",
       "<caption>Generalized Linear Model Regression Results</caption>\n",
       "<tr>\n",
       "  <th>Dep. Variable:</th>           <td>y</td>        <th>  No. Observations:  </th>  <td>   196</td> \n",
       "</tr>\n",
       "<tr>\n",
       "  <th>Model:</th>                  <td>GLM</td>       <th>  Df Residuals:      </th>  <td>   192</td> \n",
       "</tr>\n",
       "<tr>\n",
       "  <th>Model Family:</th>         <td>Poisson</td>     <th>  Df Model:          </th>  <td>     3</td> \n",
       "</tr>\n",
       "<tr>\n",
       "  <th>Link Function:</th>          <td>Log</td>       <th>  Scale:             </th> <td>  1.0000</td>\n",
       "</tr>\n",
       "<tr>\n",
       "  <th>Method:</th>                <td>IRLS</td>       <th>  Log-Likelihood:    </th> <td> -15963.</td>\n",
       "</tr>\n",
       "<tr>\n",
       "  <th>Date:</th>            <td>Wed, 02 Nov 2022</td> <th>  Deviance:          </th> <td>  30072.</td>\n",
       "</tr>\n",
       "<tr>\n",
       "  <th>Time:</th>                <td>00:52:52</td>     <th>  Pearson chi2:      </th> <td>2.82e+04</td>\n",
       "</tr>\n",
       "<tr>\n",
       "  <th>No. Iterations:</th>          <td>5</td>        <th>  Pseudo R-squ. (CS):</th>  <td> 1.000</td> \n",
       "</tr>\n",
       "<tr>\n",
       "  <th>Covariance Type:</th>     <td>nonrobust</td>    <th>                     </th>     <td> </td>   \n",
       "</tr>\n",
       "</table>\n",
       "<table class=\"simpletable\">\n",
       "<tr>\n",
       "    <td></td>       <th>coef</th>     <th>std err</th>      <th>z</th>      <th>P>|z|</th>  <th>[0.025</th>    <th>0.975]</th>  \n",
       "</tr>\n",
       "<tr>\n",
       "  <th>const</th> <td>    6.3521</td> <td>    0.010</td> <td>  647.785</td> <td> 0.000</td> <td>    6.333</td> <td>    6.371</td>\n",
       "</tr>\n",
       "<tr>\n",
       "  <th>x1</th>    <td>    0.0281</td> <td>    0.000</td> <td>  113.292</td> <td> 0.000</td> <td>    0.028</td> <td>    0.029</td>\n",
       "</tr>\n",
       "<tr>\n",
       "  <th>x2</th>    <td>   -0.0055</td> <td>    0.000</td> <td>  -19.249</td> <td> 0.000</td> <td>   -0.006</td> <td>   -0.005</td>\n",
       "</tr>\n",
       "<tr>\n",
       "  <th>x3</th>    <td>   -3.0416</td> <td>    0.030</td> <td> -100.068</td> <td> 0.000</td> <td>   -3.101</td> <td>   -2.982</td>\n",
       "</tr>\n",
       "</table>"
      ],
      "text/plain": [
       "<class 'statsmodels.iolib.summary.Summary'>\n",
       "\"\"\"\n",
       "                 Generalized Linear Model Regression Results                  \n",
       "==============================================================================\n",
       "Dep. Variable:                      y   No. Observations:                  196\n",
       "Model:                            GLM   Df Residuals:                      192\n",
       "Model Family:                 Poisson   Df Model:                            3\n",
       "Link Function:                    Log   Scale:                          1.0000\n",
       "Method:                          IRLS   Log-Likelihood:                -15963.\n",
       "Date:                Wed, 02 Nov 2022   Deviance:                       30072.\n",
       "Time:                        00:52:52   Pearson chi2:                 2.82e+04\n",
       "No. Iterations:                     5   Pseudo R-squ. (CS):              1.000\n",
       "Covariance Type:            nonrobust                                         \n",
       "==============================================================================\n",
       "                 coef    std err          z      P>|z|      [0.025      0.975]\n",
       "------------------------------------------------------------------------------\n",
       "const          6.3521      0.010    647.785      0.000       6.333       6.371\n",
       "x1             0.0281      0.000    113.292      0.000       0.028       0.029\n",
       "x2            -0.0055      0.000    -19.249      0.000      -0.006      -0.005\n",
       "x3            -3.0416      0.030   -100.068      0.000      -3.101      -2.982\n",
       "==============================================================================\n",
       "\"\"\""
      ]
     },
     "execution_count": 58,
     "metadata": {},
     "output_type": "execute_result"
    }
   ],
   "source": [
    "# coef for Precipitation is negative, meaning as precipitation increases, number of bikes go down.\n",
    "model = sm.GLM(y, X, family=sm.families.Poisson()).fit()\n",
    "model.summary()"
   ]
  },
  {
   "cell_type": "markdown",
   "metadata": {},
   "source": [
    "**Problem 2.** Using the model fit in the previous problem, compute the expected increase in the number of bikes on the Brooklyn Bridge when \"Precipitation decreases by 10%."
   ]
  },
  {
   "cell_type": "markdown",
   "metadata": {},
   "source": []
  }
 ],
 "metadata": {
  "kernelspec": {
   "display_name": "Python 3.10.8 64-bit",
   "language": "python",
   "name": "python3"
  },
  "language_info": {
   "codemirror_mode": {
    "name": "ipython",
    "version": 3
   },
   "file_extension": ".py",
   "mimetype": "text/x-python",
   "name": "python",
   "nbconvert_exporter": "python",
   "pygments_lexer": "ipython3",
   "version": "3.10.8"
  },
  "orig_nbformat": 4,
  "vscode": {
   "interpreter": {
    "hash": "b0fa6594d8f4cbf19f97940f81e996739fb7646882a419484c72d19e05852a7e"
   }
  }
 },
 "nbformat": 4,
 "nbformat_minor": 2
}
