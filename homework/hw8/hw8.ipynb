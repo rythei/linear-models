{
 "cells": [
  {
   "cell_type": "markdown",
   "metadata": {},
   "source": [
    "## Computational Homework 8: Generalized linear models\n",
    "\n",
    "In this assignment, we will explore examples of two types of generalized linear model: logistic regression, and Poisson regression."
   ]
  },
  {
   "cell_type": "markdown",
   "metadata": {},
   "source": [
    "## Part 1: Logistic regression \n",
    "\n",
    "In this problem, we will build a logistic regression model for predicting whether or not an individual will develop coronary heart disease. The dataset `heart_disease.csv` contains 15 features describing 3656 individuals, including sex, age, whether or not the individual is a smoker, as well as a variety of other health-related indicators. Once the data is downloaded from [this link](https://drive.google.com/drive/folders/1OkXMcFo0urN0kSQYH4d75I4V3pnSpV6H?usp=sharing), we can load it using the following."
   ]
  },
  {
   "cell_type": "code",
   "execution_count": 38,
   "metadata": {},
   "outputs": [
    {
     "name": "stdout",
     "output_type": "stream",
     "text": [
      "(3656, 16)\n"
     ]
    },
    {
     "data": {
      "text/html": [
       "<div>\n",
       "<style scoped>\n",
       "    .dataframe tbody tr th:only-of-type {\n",
       "        vertical-align: middle;\n",
       "    }\n",
       "\n",
       "    .dataframe tbody tr th {\n",
       "        vertical-align: top;\n",
       "    }\n",
       "\n",
       "    .dataframe thead th {\n",
       "        text-align: right;\n",
       "    }\n",
       "</style>\n",
       "<table border=\"1\" class=\"dataframe\">\n",
       "  <thead>\n",
       "    <tr style=\"text-align: right;\">\n",
       "      <th></th>\n",
       "      <th>male</th>\n",
       "      <th>age</th>\n",
       "      <th>education</th>\n",
       "      <th>currentSmoker</th>\n",
       "      <th>cigsPerDay</th>\n",
       "      <th>BPMeds</th>\n",
       "      <th>prevalentStroke</th>\n",
       "      <th>prevalentHyp</th>\n",
       "      <th>diabetes</th>\n",
       "      <th>totChol</th>\n",
       "      <th>sysBP</th>\n",
       "      <th>diaBP</th>\n",
       "      <th>BMI</th>\n",
       "      <th>heartRate</th>\n",
       "      <th>glucose</th>\n",
       "      <th>TenYearCHD</th>\n",
       "    </tr>\n",
       "  </thead>\n",
       "  <tbody>\n",
       "    <tr>\n",
       "      <th>0</th>\n",
       "      <td>1</td>\n",
       "      <td>39</td>\n",
       "      <td>4.0</td>\n",
       "      <td>0</td>\n",
       "      <td>0.0</td>\n",
       "      <td>0.0</td>\n",
       "      <td>0</td>\n",
       "      <td>0</td>\n",
       "      <td>0</td>\n",
       "      <td>195.0</td>\n",
       "      <td>106.0</td>\n",
       "      <td>70.0</td>\n",
       "      <td>26.97</td>\n",
       "      <td>80.0</td>\n",
       "      <td>77.0</td>\n",
       "      <td>0</td>\n",
       "    </tr>\n",
       "    <tr>\n",
       "      <th>1</th>\n",
       "      <td>0</td>\n",
       "      <td>46</td>\n",
       "      <td>2.0</td>\n",
       "      <td>0</td>\n",
       "      <td>0.0</td>\n",
       "      <td>0.0</td>\n",
       "      <td>0</td>\n",
       "      <td>0</td>\n",
       "      <td>0</td>\n",
       "      <td>250.0</td>\n",
       "      <td>121.0</td>\n",
       "      <td>81.0</td>\n",
       "      <td>28.73</td>\n",
       "      <td>95.0</td>\n",
       "      <td>76.0</td>\n",
       "      <td>0</td>\n",
       "    </tr>\n",
       "    <tr>\n",
       "      <th>2</th>\n",
       "      <td>1</td>\n",
       "      <td>48</td>\n",
       "      <td>1.0</td>\n",
       "      <td>1</td>\n",
       "      <td>20.0</td>\n",
       "      <td>0.0</td>\n",
       "      <td>0</td>\n",
       "      <td>0</td>\n",
       "      <td>0</td>\n",
       "      <td>245.0</td>\n",
       "      <td>127.5</td>\n",
       "      <td>80.0</td>\n",
       "      <td>25.34</td>\n",
       "      <td>75.0</td>\n",
       "      <td>70.0</td>\n",
       "      <td>0</td>\n",
       "    </tr>\n",
       "    <tr>\n",
       "      <th>3</th>\n",
       "      <td>0</td>\n",
       "      <td>61</td>\n",
       "      <td>3.0</td>\n",
       "      <td>1</td>\n",
       "      <td>30.0</td>\n",
       "      <td>0.0</td>\n",
       "      <td>0</td>\n",
       "      <td>1</td>\n",
       "      <td>0</td>\n",
       "      <td>225.0</td>\n",
       "      <td>150.0</td>\n",
       "      <td>95.0</td>\n",
       "      <td>28.58</td>\n",
       "      <td>65.0</td>\n",
       "      <td>103.0</td>\n",
       "      <td>1</td>\n",
       "    </tr>\n",
       "    <tr>\n",
       "      <th>4</th>\n",
       "      <td>0</td>\n",
       "      <td>46</td>\n",
       "      <td>3.0</td>\n",
       "      <td>1</td>\n",
       "      <td>23.0</td>\n",
       "      <td>0.0</td>\n",
       "      <td>0</td>\n",
       "      <td>0</td>\n",
       "      <td>0</td>\n",
       "      <td>285.0</td>\n",
       "      <td>130.0</td>\n",
       "      <td>84.0</td>\n",
       "      <td>23.10</td>\n",
       "      <td>85.0</td>\n",
       "      <td>85.0</td>\n",
       "      <td>0</td>\n",
       "    </tr>\n",
       "  </tbody>\n",
       "</table>\n",
       "</div>"
      ],
      "text/plain": [
       "   male  age  education  currentSmoker  cigsPerDay  BPMeds  prevalentStroke  \\\n",
       "0     1   39        4.0              0         0.0     0.0                0   \n",
       "1     0   46        2.0              0         0.0     0.0                0   \n",
       "2     1   48        1.0              1        20.0     0.0                0   \n",
       "3     0   61        3.0              1        30.0     0.0                0   \n",
       "4     0   46        3.0              1        23.0     0.0                0   \n",
       "\n",
       "   prevalentHyp  diabetes  totChol  sysBP  diaBP    BMI  heartRate  glucose  \\\n",
       "0             0         0    195.0  106.0   70.0  26.97       80.0     77.0   \n",
       "1             0         0    250.0  121.0   81.0  28.73       95.0     76.0   \n",
       "2             0         0    245.0  127.5   80.0  25.34       75.0     70.0   \n",
       "3             1         0    225.0  150.0   95.0  28.58       65.0    103.0   \n",
       "4             0         0    285.0  130.0   84.0  23.10       85.0     85.0   \n",
       "\n",
       "   TenYearCHD  \n",
       "0           0  \n",
       "1           0  \n",
       "2           0  \n",
       "3           1  \n",
       "4           0  "
      ]
     },
     "execution_count": 38,
     "metadata": {},
     "output_type": "execute_result"
    }
   ],
   "source": [
    "import pandas as pd\n",
    "\n",
    "dataset = pd.read_csv(\"heart_disease.csv\")\n",
    "# get rid of extra index column\n",
    "dataset = dataset.drop(\"Unnamed: 0\", axis=1)\n",
    "print(dataset.shape)\n",
    "dataset.head()"
   ]
  },
  {
   "cell_type": "markdown",
   "metadata": {},
   "source": [
    "Below we convert the data into numpy arrays."
   ]
  },
  {
   "cell_type": "code",
   "execution_count": 39,
   "metadata": {},
   "outputs": [],
   "source": [
    "import numpy as np\n",
    "\n",
    "feature_cols = [c for c in dataset.columns if c != \"TenYearCHD\"]\n",
    "X = dataset[feature_cols].to_numpy()\n",
    "y = dataset[\"TenYearCHD\"].to_numpy()\n",
    "ones = np.ones((X.shape[0],1))\n",
    "X = np.hstack([ones, X])"
   ]
  },
  {
   "cell_type": "markdown",
   "metadata": {},
   "source": [
    "**Problem 1.** Split the dataset into a training and hold-out set, where the hold-out set contains 1000 individuals, and the rest are kept in the training set. Fit a logistic regression model for this data (e.g. using the `statsmodels` package), and compute the classification error on the training and hold-out sets, using the usual classifier derived from the fitted coefficients $\\hat{\\beta}$:\n",
    "\n",
    "$$\n",
    "C(x) = \\begin{cases}1 &  p_{\\hat{\\beta}}(x) \\geq 1/2\\\\ 0 & p_{\\hat{\\beta}}(x) < 1/2\\end{cases}\n",
    "$$\n",
    "\n",
    "where $p_{\\hat{\\beta}}(x) = \\frac{1}{1+\\exp(-\\hat{\\beta}\\cdot x)}$ is the estimated probability of developing heart disease."
   ]
  },
  {
   "cell_type": "code",
   "execution_count": null,
   "metadata": {},
   "outputs": [],
   "source": []
  },
  {
   "cell_type": "markdown",
   "metadata": {},
   "source": [
    "**Problem 2.** Compute and plot an ROC curve using the hold-out set of data for the fitted logistic regression model, and compute the associated AUC. Then, suppose that we wanted to choose a threshold $t \\in (0,1)$ such that the classifier \n",
    "\n",
    "$$\n",
    "C_t(x) = \\begin{cases}1 & p_{\\hat{\\beta}}(x) \\geq t\\\\ 0 & p_{\\hat{\\beta}}(x) < t\\end{cases}\n",
    "$$\n",
    "\n",
    "had a false positive rate of less than 20%. What value of $t$ should we choose? What would be the corresponding true positive rate at this threshold be?"
   ]
  },
  {
   "cell_type": "code",
   "execution_count": null,
   "metadata": {},
   "outputs": [],
   "source": []
  },
  {
   "cell_type": "markdown",
   "metadata": {},
   "source": [
    "**Problem 3.** (_Odds ratios_.) Once we've fitted a logistic regression model, an important thing we can estimate are _odds ratios_ derived from the model, which we explore in this problem. First, we can define the odds of an individual with attributes $X=x$ developing heart disease as:\n",
    "\n",
    "$$\n",
    "\\rho = \\frac{P(Y=1\\mid X=x, \\beta)}{1 - P(Y=1\\mid X=x, \\beta)} = e^{\\beta\\cdot x}\n",
    "$$\n",
    "\n",
    "Odds greater than 1 indicates that the individual is more likely than not to develop heart disease, whereas odds less than 1 indicate than an individual is less likely to develop heart disease than to. Then given two individuals with attributes $X=x$ and $X = x'$, the _odds ratio_ is a measure of how much higher the odds are for $x'$ than for $x$:\n",
    "\n",
    "$$\n",
    "\\theta = \\frac{P(Y=1\\mid X=x', \\beta)/(1 - P(Y=1\\mid X=x', \\beta))}{P(Y=1\\mid X=x, \\beta)/(1 - P(Y=1\\mid X=x, \\beta))} = \\frac{e^{\\beta\\cdot x'}}{e^{\\beta \\cdot x}} = e^{\\beta\\cdot (x' - x)}.\n",
    "$$\n",
    "\n",
    "Now suppose that we change the $j$th feature $x_j$ by a single unit, i.e. $x_j' = x_j + 1$. Then we can estimate how much this increases the odds of developing heart disease by calculating the odds ratio for $x = (x_1,\\dots, x_p)$ and $x' = (x_1,\\dots,x_j', \\dots, x_p)$.\n",
    "\n",
    "$$\n",
    "\\theta = e^{\\beta\\cdot (x' - x)} = e^{\\beta_j (x_j' - x_j)} = e^{\\beta_j}.\n",
    "$$\n",
    "\n",
    "Therefore, the odds ratio when increase $x_j$ by one unit can be calculated _independent_ of the values of the other attributes. This allows us to estimate the marginal effect of a change in attribute $j$, by plugging in $\\hat{\\beta}_j$ to the above formula.\n",
    "\n",
    "Use this approach to estimate:\n",
    "1. The change in the odds of developing heart disease if an individual is a smoker.\n",
    "2. The change in the odds of developing heart disease if an individual smokes 1 more cigarette per day."
   ]
  },
  {
   "cell_type": "code",
   "execution_count": null,
   "metadata": {},
   "outputs": [],
   "source": []
  },
  {
   "cell_type": "markdown",
   "metadata": {},
   "source": [
    "## Part 2: Poisson regression\n",
    "\n",
    "In this problem, we investigate a different type of GLM called Poisson regression. In this case, as the name of the model suggests, we assume that our response variable $Y$ conditioned on $X=x$ follows a Poisson distribution with rate parameter $\\lambda = \\lambda(x)$. Recall that the PMF of the Poisson distribution is\n",
    "\n",
    "$$\n",
    "p(Y=y \\mid \\lambda) = \\frac{e^{-\\lambda} \\lambda^{y}}{y!} \n",
    "$$\n",
    "\n",
    "for $y\\in \\{0,1,2,\\dots\\}$. Note that if $Y \\mid X=x$ follows a Poisson distribution, then $\\mathbb{E}[Y\\mid X=x] = \\lambda$.\n",
    "\n",
    "This is a natural distribution to choose when our response is a count (such as number of calls, number of deaths, etc). In this case, we typically use the link function $g(z) = \\log(z)$, and model \n",
    "\n",
    "$$\n",
    "\\lambda = \\mathbb{E}[Y\\mid X=x, \\beta] = \\exp(\\beta \\cdot x) \\iff \\log(\\lambda) = \\beta\\cdot x\n",
    "$$\n",
    "\n",
    "i.e. we model the log-rate parameter of the Poisson distribution (conditional on $X=x$) as the linear model $\\beta\\cdot x$ (note that this ensures that $\\lambda$ is always $\\geq 0$).\n",
    "\n",
    "To fit a Poisson regression model to observed data $(x_i, y_i)_{i=1}^n$ (where in this case the $y_i$'s are positive integers), we can minimize the negative log-likelihood, which is given by\n",
    "\n",
    "$$\n",
    "\\ell(\\beta) = \\sum_{i=1}^n \\left[\\log(y_i!) + \\exp(\\beta\\cdot x_i) - y_i\\beta\\cdot x_i \\right].\n",
    "$$\n",
    "\n",
    "In python, we can use the `statsmodels` package to fit a Poisson regression model."
   ]
  },
  {
   "cell_type": "markdown",
   "metadata": {},
   "source": [
    "To try out Poisson regression, we will use the NYC East River Bicycle Counts dataset. Once downloaded, the dataset can be loaded with the following."
   ]
  },
  {
   "cell_type": "code",
   "execution_count": 55,
   "metadata": {},
   "outputs": [
    {
     "data": {
      "text/html": [
       "<div>\n",
       "<style scoped>\n",
       "    .dataframe tbody tr th:only-of-type {\n",
       "        vertical-align: middle;\n",
       "    }\n",
       "\n",
       "    .dataframe tbody tr th {\n",
       "        vertical-align: top;\n",
       "    }\n",
       "\n",
       "    .dataframe thead th {\n",
       "        text-align: right;\n",
       "    }\n",
       "</style>\n",
       "<table border=\"1\" class=\"dataframe\">\n",
       "  <thead>\n",
       "    <tr style=\"text-align: right;\">\n",
       "      <th></th>\n",
       "      <th>Unnamed: 0</th>\n",
       "      <th>Date</th>\n",
       "      <th>Day</th>\n",
       "      <th>High Temp (°F)</th>\n",
       "      <th>Low Temp (°F)</th>\n",
       "      <th>Precipitation</th>\n",
       "      <th>Brooklyn Bridge</th>\n",
       "      <th>Manhattan Bridge</th>\n",
       "      <th>Williamsburg Bridge</th>\n",
       "      <th>Queensboro Bridge</th>\n",
       "      <th>Total</th>\n",
       "    </tr>\n",
       "  </thead>\n",
       "  <tbody>\n",
       "    <tr>\n",
       "      <th>0</th>\n",
       "      <td>0</td>\n",
       "      <td>2016-04-01 00:00:00</td>\n",
       "      <td>2016-04-01 00:00:00</td>\n",
       "      <td>78.1</td>\n",
       "      <td>66.0</td>\n",
       "      <td>0.01</td>\n",
       "      <td>1704.0</td>\n",
       "      <td>3126</td>\n",
       "      <td>4115.0</td>\n",
       "      <td>2552.0</td>\n",
       "      <td>11497</td>\n",
       "    </tr>\n",
       "    <tr>\n",
       "      <th>1</th>\n",
       "      <td>1</td>\n",
       "      <td>2016-04-02 00:00:00</td>\n",
       "      <td>2016-04-02 00:00:00</td>\n",
       "      <td>55.0</td>\n",
       "      <td>48.9</td>\n",
       "      <td>0.15</td>\n",
       "      <td>827.0</td>\n",
       "      <td>1646</td>\n",
       "      <td>2565.0</td>\n",
       "      <td>1884.0</td>\n",
       "      <td>6922</td>\n",
       "    </tr>\n",
       "    <tr>\n",
       "      <th>2</th>\n",
       "      <td>2</td>\n",
       "      <td>2016-04-03 00:00:00</td>\n",
       "      <td>2016-04-03 00:00:00</td>\n",
       "      <td>39.9</td>\n",
       "      <td>34.0</td>\n",
       "      <td>0.09</td>\n",
       "      <td>526.0</td>\n",
       "      <td>1232</td>\n",
       "      <td>1695.0</td>\n",
       "      <td>1306.0</td>\n",
       "      <td>4759</td>\n",
       "    </tr>\n",
       "    <tr>\n",
       "      <th>3</th>\n",
       "      <td>4</td>\n",
       "      <td>2016-04-05 00:00:00</td>\n",
       "      <td>2016-04-05 00:00:00</td>\n",
       "      <td>42.1</td>\n",
       "      <td>26.1</td>\n",
       "      <td>0.00</td>\n",
       "      <td>1416.0</td>\n",
       "      <td>2617</td>\n",
       "      <td>3081.0</td>\n",
       "      <td>2357.0</td>\n",
       "      <td>9471</td>\n",
       "    </tr>\n",
       "    <tr>\n",
       "      <th>4</th>\n",
       "      <td>5</td>\n",
       "      <td>2016-04-06 00:00:00</td>\n",
       "      <td>2016-04-06 00:00:00</td>\n",
       "      <td>45.0</td>\n",
       "      <td>30.0</td>\n",
       "      <td>0.00</td>\n",
       "      <td>1885.0</td>\n",
       "      <td>3329</td>\n",
       "      <td>3856.0</td>\n",
       "      <td>2849.0</td>\n",
       "      <td>11919</td>\n",
       "    </tr>\n",
       "  </tbody>\n",
       "</table>\n",
       "</div>"
      ],
      "text/plain": [
       "   Unnamed: 0                 Date                  Day  High Temp (°F)  \\\n",
       "0           0  2016-04-01 00:00:00  2016-04-01 00:00:00            78.1   \n",
       "1           1  2016-04-02 00:00:00  2016-04-02 00:00:00            55.0   \n",
       "2           2  2016-04-03 00:00:00  2016-04-03 00:00:00            39.9   \n",
       "3           4  2016-04-05 00:00:00  2016-04-05 00:00:00            42.1   \n",
       "4           5  2016-04-06 00:00:00  2016-04-06 00:00:00            45.0   \n",
       "\n",
       "   Low Temp (°F)  Precipitation  Brooklyn Bridge  Manhattan Bridge  \\\n",
       "0           66.0           0.01           1704.0              3126   \n",
       "1           48.9           0.15            827.0              1646   \n",
       "2           34.0           0.09            526.0              1232   \n",
       "3           26.1           0.00           1416.0              2617   \n",
       "4           30.0           0.00           1885.0              3329   \n",
       "\n",
       "   Williamsburg Bridge  Queensboro Bridge  Total  \n",
       "0               4115.0             2552.0  11497  \n",
       "1               2565.0             1884.0   6922  \n",
       "2               1695.0             1306.0   4759  \n",
       "3               3081.0             2357.0   9471  \n",
       "4               3856.0             2849.0  11919  "
      ]
     },
     "execution_count": 55,
     "metadata": {},
     "output_type": "execute_result"
    }
   ],
   "source": [
    "dataset = pd.read_csv(\"nyc-east-river-bicycle-counts.csv\")\n",
    "dataset.head()"
   ]
  },
  {
   "cell_type": "markdown",
   "metadata": {},
   "source": [
    "For the sake of this problem, we will use a subset of the data, namely we will consider the features High Temp, Low Temp and Precipitation, and try to model the number of bikes on the Brooklyn bridge as a function of these features."
   ]
  },
  {
   "cell_type": "code",
   "execution_count": 56,
   "metadata": {},
   "outputs": [
    {
     "data": {
      "text/plain": [
       "((196, 4), (196,))"
      ]
     },
     "execution_count": 56,
     "metadata": {},
     "output_type": "execute_result"
    }
   ],
   "source": [
    "feature_cols = [\"High Temp (°F)\", \"Low Temp (°F)\", \"Precipitation\"]\n",
    "X = dataset[feature_cols].to_numpy()\n",
    "y = dataset[\"Brooklyn Bridge\"].to_numpy()\n",
    "\n",
    "ones = np.ones((X.shape[0],1))\n",
    "X = np.hstack([ones, X])\n",
    "X.shape, y.shape"
   ]
  },
  {
   "cell_type": "markdown",
   "metadata": {},
   "source": [
    "**Problem 1.** Use the `statsmodels` package to fit a Poisson regression model to this dataset (you can use the function `sm.GLM(y, X, family=sm.families.Poisson()).fit()` for this). Interpret what the coefficient for the feature \"Precipitation\" represents."
   ]
  },
  {
   "cell_type": "code",
   "execution_count": null,
   "metadata": {},
   "outputs": [],
   "source": []
  },
  {
   "cell_type": "markdown",
   "metadata": {},
   "source": [
    "**Problem 2.** Using the model fit in the previous problem, compute the expected increase in the number of bikes on the Brooklyn Bridge when precipitation decreases by 10%."
   ]
  },
  {
   "cell_type": "code",
   "execution_count": null,
   "metadata": {},
   "outputs": [],
   "source": []
  }
 ],
 "metadata": {
  "kernelspec": {
   "display_name": "Python 3.9.5 ('base')",
   "language": "python",
   "name": "python3"
  },
  "language_info": {
   "codemirror_mode": {
    "name": "ipython",
    "version": 3
   },
   "file_extension": ".py",
   "mimetype": "text/x-python",
   "name": "python",
   "nbconvert_exporter": "python",
   "pygments_lexer": "ipython3",
   "version": "3.9.5"
  },
  "orig_nbformat": 4,
  "vscode": {
   "interpreter": {
    "hash": "9116e7605a3c7636cbb64cda962b2f0e89693208c0f8626394020c0fb858b688"
   }
  }
 },
 "nbformat": 4,
 "nbformat_minor": 2
}
