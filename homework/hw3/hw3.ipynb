{
 "cells": [
  {
   "cell_type": "markdown",
   "id": "27ec0ac2",
   "metadata": {},
   "source": [
    "## Computational Homework 3\n",
    "\n",
    "In this assignment, we work through the common distributions that come up when doing statistical tests for linear regression models. To illustrate the concepts, we will use synthetic data."
   ]
  },
  {
   "cell_type": "markdown",
   "id": "ab3bca35",
   "metadata": {},
   "source": [
    "### Part 1: sampling distributions arising from normal random variables\n",
    "\n",
    "In this part, you will be asked to plot densities of certain common distributions. To do this, we recommend using the implementations in `scipy.stats`. For example, the normal pdf can be accessed using:\n",
    "\n",
    "```\n",
    "from scipy.stats import norm\n",
    "import numpy as np\n",
    "\n",
    "xx = np.linspace(-2,2,100)\n",
    "density_values = norm(loc=0, scale=1).pdf(xx)\n",
    "```\n",
    "\n",
    "See the [documentation](https://docs.scipy.org/doc/scipy/reference/generated/scipy.stats.norm.html) for more examples.\n",
    "\n",
    "**Problem 1.** (normal sampling distribution) In this problem, we will investigate the sampling distribution of the sample mean of normal random variables and see that itself follows a normal distribution. To do this, perform the following simulation:\n",
    "\n",
    "For each value of $n$ in $\\{20, 50, 100, 500\\}$, generate $n$ samples from the $N(1,1)$ distribution, and compute and store the sample mean:\n",
    "\n",
    "$$\n",
    "\\bar{x} = \\frac{1}{n}\\sum_{i=1}^n x_i.\n",
    "$$\n",
    "\n",
    "Repeat this $B=10,000$ times, and plot a histogram of the computed means. You should end up with 4 histograms, one for each value of $n$. On top of each histogram, overlay a plot of the $N(1,1/n)$ distribution. _Note: make sure you use the argument `density=True` when plotting the histogram._ "
   ]
  },
  {
   "cell_type": "code",
   "execution_count": null,
   "id": "3415b292",
   "metadata": {},
   "outputs": [],
   "source": []
  },
  {
   "cell_type": "markdown",
   "id": "e3aab248",
   "metadata": {},
   "source": [
    "**Problem 2.** ($\\chi^2$ sampling distribution) In this problem, we will investigate the sampling distribution of the sample variance, also from a normal distribution, and see that it follows a $\\chi^2$ distribution. To do this, perform the following simulation:\n",
    "\n",
    "For each value of $n$ in $\\{20, 50, 100, 500\\}$, generate $n$ samples from the $N(1,1)$ distribution, and compute and store the sample variance, given by:\n",
    "\n",
    "$$\n",
    "\\hat{\\sigma}^2 = \\frac{1}{n-1}\\sum_{i=1}^n (x_i - \\bar{x})^2.\n",
    "$$\n",
    "\n",
    "Repeat this $B=10,000$ times, and plot a histogram of the values of $(n-1)\\hat{\\sigma}^2$ (i.e. take your estimates of the variance, and multiply them by $n-1$). You should end up with 4 histograms, one for each value of $n$. On top of each histogram, overlay a plot of the $\\chi^2(n-1)$ distribution (i.e. the chi squared distribution with $n-1$ degrees of freedom). _Note: make sure you use the argument `density=True` when plotting the histogram._ "
   ]
  },
  {
   "cell_type": "code",
   "execution_count": null,
   "id": "0223b5ae",
   "metadata": {},
   "outputs": [],
   "source": []
  },
  {
   "cell_type": "markdown",
   "id": "fe1f9e22",
   "metadata": {},
   "source": [
    "**Problem 3.** ($t$-distribution) In this distribution we will investigate the sampling distribution of the (empirically) standardized normal sample mean, and see that it follows a $t$ distribution. To do this, perform the following simulation:\n",
    "\n",
    "For each value of $n$ in $\\{20, 50, 100, 500\\}$, generate $n$ samples from the $N(1,1)$ distribution, and compute and store the sample mean $\\bar{x}$ (defined in problem 1), the sample variance (defined in problem 2) and the centered and normalized statistic\n",
    "\n",
    "$$\n",
    "\\hat{T} = \\frac{\\bar{x}-1}{\\hat{\\sigma}/\\sqrt{n}}.\n",
    "$$\n",
    "\n",
    "Repeat this $B=10,000$ times, and plot a histogram of the values of $\\hat{T}$. You should end up with 4 histograms, one for each value of $n$. On top of each histogram, overlay a plot of the $t(n-1)$ distribution (i.e. the $t$ distribution with $n-1$ degrees of freedom). _Note: make sure you use the argument `density=True` when plotting the histogram._ "
   ]
  },
  {
   "cell_type": "code",
   "execution_count": null,
   "id": "52116047",
   "metadata": {},
   "outputs": [],
   "source": []
  },
  {
   "cell_type": "markdown",
   "id": "5bd6cdb6",
   "metadata": {},
   "source": [
    "### Part 2: regression with synthetic data\n",
    "\n",
    "In this problem, we will see that for reasonable synthetic data, the distributions appearing in part 1 can all arise as part of a linear regression model. For the sake of this part, we will generate data as follows: first, we will create a dataset using the following procedure:\n",
    "\n",
    "Take $X$ to be a fixed matrix of values on a grid (defined the following cell). We will then take $\\beta_\\star$ to be a vector of all ones. Finally, we will generate $y$ values as follows:\n",
    "\n",
    "$$\n",
    "y = X\\beta_\\star + \\varepsilon \n",
    "$$\n",
    "\n",
    "where $\\varepsilon \\sim N(0, 0.1 I)$. We give a single example of this process in the cell below."
   ]
  },
  {
   "cell_type": "code",
   "execution_count": 32,
   "id": "5774955d",
   "metadata": {},
   "outputs": [],
   "source": [
    "import numpy as np\n",
    "np.random.seed(0)\n",
    "\n",
    "n = 100\n",
    "p = 20\n",
    "sigma2 = 0.1\n",
    "\n",
    "beta_star = np.ones(p)\n",
    "X = np.random.uniform(0,1, size=(n,p))\n",
    "epsilon = np.random.normal(size=n)\n",
    "y = np.dot(X, beta_star) + np.sqrt(sigma2)*epsilon"
   ]
  },
  {
   "cell_type": "markdown",
   "id": "bde2006a",
   "metadata": {},
   "source": [
    "**Problem 1.** Perform the following simulation:\n",
    "\n",
    "For $B=10,000$ trials, generate a new set of $y$ values by sampling a new set of error values $\\varepsilon$ using the same method as given above. Note: you should use the same $X$ matrix and $\\beta_\\star$ value each time, *only* resampling the noise $\\varepsilon$ at each step. For each trial, use the simulated data to compute and store the least squares estimates $\\hat{\\beta} = (X^\\top X)^{-1}X^\\top y$. At the end, plot a histogram of the values of $\\hat{\\beta}_j$ for some $j$ (you can pick any $1\\leq j \\leq 20$ that you want). Overlay a plot of the pdf of the $N(1, 0.1 (X^\\top X)^{-1}_{jj})$ distribution (where $(X^\\top X)^{-1}_{jj}$ is the $j$th diagonal of the matrix $X^\\top X$). Try this same thing with a few values of $j$ -- how good are the fits of the normal distributions to the histograms?\n",
    "\n",
    "From this problem, we should find that the distribution of the coefficients from linear regression follow a normal distribution. What component of the data generating process to you think leads to this? Does it matter if we, say, change $\\beta_\\star$ or use a different matrix $X$?"
   ]
  },
  {
   "cell_type": "code",
   "execution_count": null,
   "id": "e29b547e",
   "metadata": {},
   "outputs": [],
   "source": []
  },
  {
   "cell_type": "markdown",
   "id": "11380ead",
   "metadata": {},
   "source": [
    "**Problem 2.** For this problem, let's pretend we don't know the value of $\\sigma^2$ for the errors. Instead, repeat the same simulation as in problem 1, but instead plugging in \n",
    "\n",
    "$$\n",
    "\\hat{\\sigma}^2 = \\frac{1}{n-p}\\sum_{i=1}^n (y_i - \\hat{y}_i)^2\n",
    "$$\n",
    "\n",
    "for $\\sigma^2$ in the normal distribution (where we previously had $0.1$). Then, at each iteration, compute and store\n",
    "\n",
    "$$\n",
    "\\hat{T}= \\frac{\\hat{\\beta}_j - 1}{\\sqrt{\\hat{\\sigma}^2(X^\\top X)^{-1}_{jj}}}\n",
    "$$\n",
    "\n",
    "and plot a histogram of these values. Overlay the pdf of the $t(n-p)$ distribution. "
   ]
  },
  {
   "cell_type": "code",
   "execution_count": null,
   "id": "78ba0dac",
   "metadata": {},
   "outputs": [],
   "source": []
  },
  {
   "cell_type": "code",
   "execution_count": null,
   "id": "e1b24562",
   "metadata": {},
   "outputs": [],
   "source": []
  }
 ],
 "metadata": {
  "kernelspec": {
   "display_name": "Python 3",
   "language": "python",
   "name": "python3"
  },
  "language_info": {
   "codemirror_mode": {
    "name": "ipython",
    "version": 3
   },
   "file_extension": ".py",
   "mimetype": "text/x-python",
   "name": "python",
   "nbconvert_exporter": "python",
   "pygments_lexer": "ipython3",
   "version": "3.9.5"
  }
 },
 "nbformat": 4,
 "nbformat_minor": 5
}
